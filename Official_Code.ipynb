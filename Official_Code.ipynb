{
 "cells": [
  {
   "cell_type": "markdown",
   "id": "ca958274-710a-49a0-aa2d-f12ccf952664",
   "metadata": {},
   "source": [
    "Final Project 1 Jupyter Notebook: Impacts of Amazon Deforestation on Housed Countries\n",
    "Group: Evelyn Kitagawa\n",
    "Authors: Colby Alonzo, Morgan Brower, Dannika, Avani, Eamon, Dahalan\n",
    "\n",
    "\"\n",
    "\n",
    "Table of Contents\n",
    "Introduction & Imports\n",
    "Population DataFrame, Deliverable 1[A] - Population Data Frame\n",
    "Population Statistic Function, Deliverable 3[A] - Population Statistics\n",
    "Regular Population Pyramids, Deliverable 4[B] - Population Pyramids\n",
    "Overlayed Popopulation Pyramids, Deliverable 5[C] - Overlayed Population Pyramids\n",
    "Animated Population Pyramids, Deliverable 6[C] - Animated Population Pyramids\n",
    "Visualizations, Deliverable 7[C] - Other Visualization Tools\n",
    "Total Population\n",
    "Population by Gender\n",
    "Population by Gender in Percent\n",
    "Mortality Rate per 1000 Adults\n",
    "Crude Death Rate per 1000 People\n",
    "Net Migration in Rwanda\n",
    "Net Migration in Rwanda and Neighboring Countries\n",
    "Net Migration in Neighboring Countries as a Percentage of Total Population\n",
    "Life Expectancy at Birth\n",
    "GDP Per Capita\n",
    "Agriculture Productivity\n",
    "Unit Tests, Deliverable 2[A] - Unit Tests"
   ]
  },
  {
   "cell_type": "code",
   "execution_count": 10,
   "id": "0fa0abd1-1412-475e-aa7a-16246335873f",
   "metadata": {},
   "outputs": [
    {
     "name": "stdout",
     "output_type": "stream",
     "text": [
      "Requirement already satisfied: wbdata in /srv/conda/lib/python3.11/site-packages (1.0.0)\n",
      "Requirement already satisfied: appdirs<2.0,>=1.4 in /srv/conda/lib/python3.11/site-packages (from wbdata) (1.4.4)\n",
      "Requirement already satisfied: backoff<3.0.0,>=2.2.1 in /srv/conda/lib/python3.11/site-packages (from wbdata) (2.2.1)\n",
      "Requirement already satisfied: cachetools<6.0.0,>=5.3.2 in /srv/conda/lib/python3.11/site-packages (from wbdata) (5.5.1)\n",
      "Requirement already satisfied: dateparser<2.0.0,>=1.2.0 in /srv/conda/lib/python3.11/site-packages (from wbdata) (1.2.1)\n",
      "Requirement already satisfied: decorator<6.0.0,>=5.1.1 in /srv/conda/lib/python3.11/site-packages (from wbdata) (5.1.1)\n",
      "Requirement already satisfied: requests<3.0,>=2.0 in /srv/conda/lib/python3.11/site-packages (from wbdata) (2.32.3)\n",
      "Requirement already satisfied: shelved-cache<0.4.0,>=0.3.1 in /srv/conda/lib/python3.11/site-packages (from wbdata) (0.3.1)\n",
      "Requirement already satisfied: tabulate<0.9.0,>=0.8.5 in /srv/conda/lib/python3.11/site-packages (from wbdata) (0.8.10)\n",
      "Requirement already satisfied: python-dateutil>=2.7.0 in /srv/conda/lib/python3.11/site-packages (from dateparser<2.0.0,>=1.2.0->wbdata) (2.9.0.post0)\n",
      "Requirement already satisfied: pytz>=2024.2 in /srv/conda/lib/python3.11/site-packages (from dateparser<2.0.0,>=1.2.0->wbdata) (2025.1)\n",
      "Requirement already satisfied: regex!=2019.02.19,!=2021.8.27,>=2015.06.24 in /srv/conda/lib/python3.11/site-packages (from dateparser<2.0.0,>=1.2.0->wbdata) (2024.11.6)\n",
      "Requirement already satisfied: tzlocal>=0.2 in /srv/conda/lib/python3.11/site-packages (from dateparser<2.0.0,>=1.2.0->wbdata) (5.2)\n",
      "Requirement already satisfied: charset_normalizer<4,>=2 in /srv/conda/lib/python3.11/site-packages (from requests<3.0,>=2.0->wbdata) (3.4.0)\n",
      "Requirement already satisfied: idna<4,>=2.5 in /srv/conda/lib/python3.11/site-packages (from requests<3.0,>=2.0->wbdata) (3.10)\n",
      "Requirement already satisfied: urllib3<3,>=1.21.1 in /srv/conda/lib/python3.11/site-packages (from requests<3.0,>=2.0->wbdata) (2.3.0)\n",
      "Requirement already satisfied: certifi>=2017.4.17 in /srv/conda/lib/python3.11/site-packages (from requests<3.0,>=2.0->wbdata) (2024.12.14)\n",
      "Requirement already satisfied: six>=1.5 in /srv/conda/lib/python3.11/site-packages (from python-dateutil>=2.7.0->dateparser<2.0.0,>=1.2.0->wbdata) (1.17.0)\n",
      "Note: you may need to restart the kernel to use updated packages.\n",
      "Requirement already satisfied: pandas in /srv/conda/lib/python3.11/site-packages (2.2.3)\n",
      "Requirement already satisfied: numpy>=1.23.2 in /srv/conda/lib/python3.11/site-packages (from pandas) (2.2.2)\n",
      "Requirement already satisfied: python-dateutil>=2.8.2 in /srv/conda/lib/python3.11/site-packages (from pandas) (2.9.0.post0)\n",
      "Requirement already satisfied: pytz>=2020.1 in /srv/conda/lib/python3.11/site-packages (from pandas) (2025.1)\n",
      "Requirement already satisfied: tzdata>=2022.7 in /srv/conda/lib/python3.11/site-packages (from pandas) (2025.1)\n",
      "Requirement already satisfied: six>=1.5 in /srv/conda/lib/python3.11/site-packages (from python-dateutil>=2.8.2->pandas) (1.17.0)\n",
      "Note: you may need to restart the kernel to use updated packages.\n",
      "Requirement already satisfied: iso3166 in /srv/conda/lib/python3.11/site-packages (2.1.1)\n",
      "Note: you may need to restart the kernel to use updated packages.\n",
      "Requirement already satisfied: eep153_tools in /srv/conda/lib/python3.11/site-packages (0.12.4)\n",
      "Note: you may need to restart the kernel to use updated packages.\n",
      "Requirement already satisfied: plotly in /srv/conda/lib/python3.11/site-packages (6.0.0)\n",
      "Requirement already satisfied: narwhals>=1.15.1 in /srv/conda/lib/python3.11/site-packages (from plotly) (1.26.0)\n",
      "Requirement already satisfied: packaging in /srv/conda/lib/python3.11/site-packages (from plotly) (24.2)\n",
      "Note: you may need to restart the kernel to use updated packages.\n"
     ]
    }
   ],
   "source": [
    "%pip install wbdata\n",
    "%pip install pandas\n",
    "%pip install iso3166\n",
    "%pip install eep153_tools\n",
    "%pip install plotly\n",
    "\n",
    "import wbdata\n",
    "import pandas as pd\n",
    "import geopandas as gpd\n",
    "import math\n",
    "import iso3166\n",
    "import plotly.offline as py\n",
    "import plotly.graph_objs as go\n",
    "import numpy as np\n",
    "import matplotlib.pyplot as plt"
   ]
  },
  {
   "cell_type": "markdown",
   "id": "02b17b5f-04e7-45c0-bb21-215069397354",
   "metadata": {},
   "source": [
    "## [A] Population Dataframe\n",
    "\n",
    "Below is a function that will return a dataframe containint the male, female, or all populations given a specific country and year."
   ]
  },
  {
   "cell_type": "code",
   "execution_count": 30,
   "id": "480ca750-4d8f-4466-bc43-f40c0917756c",
   "metadata": {},
   "outputs": [
    {
     "data": {
      "text/html": [
       "<div>\n",
       "<style scoped>\n",
       "    .dataframe tbody tr th:only-of-type {\n",
       "        vertical-align: middle;\n",
       "    }\n",
       "\n",
       "    .dataframe tbody tr th {\n",
       "        vertical-align: top;\n",
       "    }\n",
       "\n",
       "    .dataframe thead th {\n",
       "        text-align: right;\n",
       "    }\n",
       "</style>\n",
       "<table border=\"1\" class=\"dataframe\">\n",
       "  <thead>\n",
       "    <tr style=\"text-align: right;\">\n",
       "      <th></th>\n",
       "      <th></th>\n",
       "      <th>Ages</th>\n",
       "      <th>Male</th>\n",
       "      <th>Female</th>\n",
       "    </tr>\n",
       "    <tr>\n",
       "      <th>Country</th>\n",
       "      <th>Year</th>\n",
       "      <th></th>\n",
       "      <th></th>\n",
       "      <th></th>\n",
       "    </tr>\n",
       "  </thead>\n",
       "  <tbody>\n",
       "    <tr>\n",
       "      <th rowspan=\"17\" valign=\"top\">World</th>\n",
       "      <th>1990</th>\n",
       "      <td>0-4</td>\n",
       "      <td>331119722.0</td>\n",
       "      <td>313092291.0</td>\n",
       "    </tr>\n",
       "    <tr>\n",
       "      <th>1990</th>\n",
       "      <td>5-9</td>\n",
       "      <td>297919636.0</td>\n",
       "      <td>283103801.0</td>\n",
       "    </tr>\n",
       "    <tr>\n",
       "      <th>1990</th>\n",
       "      <td>10-14</td>\n",
       "      <td>268966779.0</td>\n",
       "      <td>256446150.0</td>\n",
       "    </tr>\n",
       "    <tr>\n",
       "      <th>1990</th>\n",
       "      <td>15-19</td>\n",
       "      <td>263217926.0</td>\n",
       "      <td>252152335.0</td>\n",
       "    </tr>\n",
       "    <tr>\n",
       "      <th>1990</th>\n",
       "      <td>20-24</td>\n",
       "      <td>247665798.0</td>\n",
       "      <td>238453269.0</td>\n",
       "    </tr>\n",
       "    <tr>\n",
       "      <th>1990</th>\n",
       "      <td>25-29</td>\n",
       "      <td>223274703.0</td>\n",
       "      <td>216240673.0</td>\n",
       "    </tr>\n",
       "    <tr>\n",
       "      <th>1990</th>\n",
       "      <td>30-34</td>\n",
       "      <td>195179031.0</td>\n",
       "      <td>189837436.0</td>\n",
       "    </tr>\n",
       "    <tr>\n",
       "      <th>1990</th>\n",
       "      <td>35-39</td>\n",
       "      <td>175059458.0</td>\n",
       "      <td>171382787.0</td>\n",
       "    </tr>\n",
       "    <tr>\n",
       "      <th>1990</th>\n",
       "      <td>40-44</td>\n",
       "      <td>141567937.0</td>\n",
       "      <td>138570715.0</td>\n",
       "    </tr>\n",
       "    <tr>\n",
       "      <th>1990</th>\n",
       "      <td>45-49</td>\n",
       "      <td>113404787.0</td>\n",
       "      <td>111853071.0</td>\n",
       "    </tr>\n",
       "    <tr>\n",
       "      <th>1990</th>\n",
       "      <td>50-54</td>\n",
       "      <td>104365353.0</td>\n",
       "      <td>105146140.0</td>\n",
       "    </tr>\n",
       "    <tr>\n",
       "      <th>1990</th>\n",
       "      <td>55-59</td>\n",
       "      <td>89445587.0</td>\n",
       "      <td>92830069.0</td>\n",
       "    </tr>\n",
       "    <tr>\n",
       "      <th>1990</th>\n",
       "      <td>60-64</td>\n",
       "      <td>74998133.0</td>\n",
       "      <td>82129869.0</td>\n",
       "    </tr>\n",
       "    <tr>\n",
       "      <th>1990</th>\n",
       "      <td>65-69</td>\n",
       "      <td>55570668.0</td>\n",
       "      <td>67153519.0</td>\n",
       "    </tr>\n",
       "    <tr>\n",
       "      <th>1990</th>\n",
       "      <td>70-74</td>\n",
       "      <td>36156032.0</td>\n",
       "      <td>47499103.0</td>\n",
       "    </tr>\n",
       "    <tr>\n",
       "      <th>1990</th>\n",
       "      <td>75-79</td>\n",
       "      <td>24346216.0</td>\n",
       "      <td>36948115.0</td>\n",
       "    </tr>\n",
       "    <tr>\n",
       "      <th>1990</th>\n",
       "      <td>80+</td>\n",
       "      <td>18124300.0</td>\n",
       "      <td>36025043.0</td>\n",
       "    </tr>\n",
       "  </tbody>\n",
       "</table>\n",
       "</div>"
      ],
      "text/plain": [
       "               Ages         Male       Female\n",
       "Country Year                                 \n",
       "World   1990    0-4  331119722.0  313092291.0\n",
       "        1990    5-9  297919636.0  283103801.0\n",
       "        1990  10-14  268966779.0  256446150.0\n",
       "        1990  15-19  263217926.0  252152335.0\n",
       "        1990  20-24  247665798.0  238453269.0\n",
       "        1990  25-29  223274703.0  216240673.0\n",
       "        1990  30-34  195179031.0  189837436.0\n",
       "        1990  35-39  175059458.0  171382787.0\n",
       "        1990  40-44  141567937.0  138570715.0\n",
       "        1990  45-49  113404787.0  111853071.0\n",
       "        1990  50-54  104365353.0  105146140.0\n",
       "        1990  55-59   89445587.0   92830069.0\n",
       "        1990  60-64   74998133.0   82129869.0\n",
       "        1990  65-69   55570668.0   67153519.0\n",
       "        1990  70-74   36156032.0   47499103.0\n",
       "        1990  75-79   24346216.0   36948115.0\n",
       "        1990    80+   18124300.0   36025043.0"
      ]
     },
     "execution_count": 30,
     "metadata": {},
     "output_type": "execute_result"
    }
   ],
   "source": [
    "def pop_df(year, sex, country):\n",
    "    def age_helper(age_range):\n",
    "        lower, upper = age_range\n",
    "        start = (lower // 5) * 5\n",
    "        age_ranges = []\n",
    "        for age in range(start, upper + 1, 5):\n",
    "            if age >= 80:\n",
    "                age_ranges.append(\"80UP\")\n",
    "                break\n",
    "            next_age = age + 4\n",
    "            if next_age >= 80:\n",
    "                age_ranges.append(\"80UP\")\n",
    "                break\n",
    "            age_ranges.append(f\"{age:02d}{next_age:02d}\")\n",
    "        return age_ranges\n",
    "\n",
    "    # Generate the age ranges\n",
    "    age_ranges = age_helper((0, 81))\n",
    "\n",
    "    # Get country codes\n",
    "    if country.lower() == \"world\":\n",
    "        name_alpha3 = \"WLD\"\n",
    "        name_actual = \"World\"\n",
    "    else:\n",
    "        name_alpha3 = iso3166.countries.get(country).alpha3\n",
    "        name_actual = iso3166.countries.get(country).apolitical_name\n",
    "\n",
    "    # Construct the indicator codes\n",
    "    indicator = 'SP.POP.'\n",
    "    male_indicators = [f\"{indicator}{age}.MA\" for age in age_ranges]\n",
    "    female_indicators = [f\"{indicator}{age}.FE\" for age in age_ranges]\n",
    "\n",
    "    # Initialize DataFrames\n",
    "    final = pd.DataFrame()\n",
    "    female = pd.DataFrame()\n",
    "\n",
    "    # Fetch male data\n",
    "    for i in male_indicators:\n",
    "        hold = {i: \"Male\"}\n",
    "        retrieve_year = wbdata.get_dataframe(hold, country=name_alpha3, date=(str(year), str(year)), parse_dates=True)\n",
    "        retrieve_year = retrieve_year.reset_index()\n",
    "        retrieve_year[\"Country\"] = name_actual\n",
    "        final = pd.concat([final, retrieve_year], axis=0)\n",
    "\n",
    "    # Assign Age Groups\n",
    "    final[\"Ages\"] = [\"0-4\", \"5-9\", \"10-14\", \"15-19\", \"20-24\", \"25-29\", \"30-34\", \"35-39\", \n",
    "                     \"40-44\", \"45-49\", \"50-54\", \"55-59\", \"60-64\", \"65-69\", \"70-74\", \"75-79\", \"80+\"]\n",
    "\n",
    "    # Fetch female data\n",
    "    for i in female_indicators:\n",
    "        hold = {i: \"Female\"}\n",
    "        retrieve_year = wbdata.get_dataframe(hold, country=name_alpha3, date=(str(year), str(year)), parse_dates=True)\n",
    "        retrieve_year = retrieve_year.reset_index()\n",
    "        retrieve_year[\"Country\"] = name_actual\n",
    "        female = pd.concat([female, retrieve_year], axis=0)\n",
    "\n",
    "    # Assign Age Groups for Female Data\n",
    "    female[\"Ages\"] = final[\"Ages\"]\n",
    "\n",
    "    # Merge male and female data\n",
    "    final = final.merge(female, on=[\"Ages\", \"date\", \"Country\"], suffixes=(\"_Male\", \"_Female\"))\n",
    "\n",
    "    # Ensure the \"Year\" column contains only the year (YYYY)\n",
    "    final = final.rename(columns={\"date\": \"Year\", \"Male_Male\": \"Male\", \"Female_Female\": \"Female\"})\n",
    "    final[\"Year\"] = pd.to_datetime(final[\"Year\"]).dt.year  # Convert date to just year (YYYY format)\n",
    "\n",
    "    # Ensure correct column order\n",
    "    final = final[[\"Year\", \"Country\", \"Ages\", \"Male\", \"Female\"]]\n",
    "    final = final.set_index([\"Country\", \"Year\"])\n",
    "\n",
    "    return final\n",
    "\n",
    "\n",
    "result = pop_df(1990, 'both', 'world')\n",
    "result"
   ]
  },
  {
   "cell_type": "markdown",
   "id": "bf2346ad-b10b-483f-b645-6fabadcb2fff",
   "metadata": {},
   "source": [
    "## [A] Population Statistics\n",
    "\n",
    "Below is a population function that when input with parameters year, sex, age_range, and place, returns the total population given the constraints (eg. population(2000, 'male', (20, 60), 'brazil')). "
   ]
  },
  {
   "cell_type": "code",
   "execution_count": 31,
   "id": "2c448d0c-957f-4c46-a591-6ebbf1cc8cce",
   "metadata": {},
   "outputs": [],
   "source": [
    "def population(year, sex, age_range, place):\n",
    "    # Call pop_df to get the population data\n",
    "    df = pop_df(year, \"both\", place)\n",
    "\n",
    "    # Filter data based on the given sex\n",
    "    if sex.lower() == \"male\":\n",
    "        sex_column = \"Male\"\n",
    "    elif sex.lower() == \"female\":\n",
    "        sex_column = \"Female\"\n",
    "    elif sex.lower() == \"both\":\n",
    "        sex_column = None  # Will sum both columns\n",
    "    else:\n",
    "        print(\"Please choose Male, Female, or Both\")\n",
    "        return\n",
    "\n",
    "     # Function to extract the lower age limit safely\n",
    "    def extract_lower_age(age_str):\n",
    "        if \"+\" in age_str:\n",
    "            return 80  # Assign 80 as the lower bound for \"80+\"\n",
    "        return int(age_str.split(\"-\")[0])\n",
    "        \n",
    "    # Filter data for the given age range\n",
    "    age_groups = df[\n",
    "        df[\"Ages\"].apply(lambda x: extract_lower_age(x) >= age_range[0] and extract_lower_age(x) <= age_range[1])\n",
    "    ]\n",
    "\n",
    "    # Sum the population based on the sex selection\n",
    "    if sex_column:\n",
    "        total = age_groups[sex_column].sum()\n",
    "    else:\n",
    "        total = age_groups[\"Male\"].sum() + age_groups[\"Female\"].sum()\n",
    "\n",
    "    print(\n",
    "        \"In the year {}, there were {} {}s aged {} to {} living in {}.\".format(\n",
    "            year, int(total), sex, age_range[0], age_range[1], place\n",
    "        )\n",
    "    )\n",
    "\n",
    "    return int(total)"
   ]
  },
  {
   "cell_type": "markdown",
   "id": "1a3522a5-a81e-4d8a-8727-3f9094d364c1",
   "metadata": {},
   "source": [
    "## [A] Unit Tests\n",
    "\n",
    "Below are Unit tests made to test population function. The tests are made up of a series of basic inputs, as well as many to test edge cases."
   ]
  },
  {
   "cell_type": "code",
   "execution_count": 32,
   "id": "9b0385e5-fccf-4a68-96e7-254b8b8605ac",
   "metadata": {},
   "outputs": [
    {
     "name": "stdout",
     "output_type": "stream",
     "text": [
      "In the year 2000, there were 47111262 males aged 20 to 60 living in brazil.\n"
     ]
    },
    {
     "name": "stderr",
     "output_type": "stream",
     "text": [
      "WARNING:shelved_cache.persistent_cache:Key '-4554967281266094794' not in persistent cache.\n",
      "WARNING:shelved_cache.persistent_cache:Key '-190494439852126875' not in persistent cache.\n",
      "WARNING:shelved_cache.persistent_cache:Key '3149788778296582188' not in persistent cache.\n",
      "WARNING:shelved_cache.persistent_cache:Key '1809007649773134816' not in persistent cache.\n",
      "WARNING:shelved_cache.persistent_cache:Key '3963237568563491127' not in persistent cache.\n",
      "WARNING:shelved_cache.persistent_cache:Key '4056808920743069216' not in persistent cache.\n",
      "WARNING:shelved_cache.persistent_cache:Key '8159900379887361727' not in persistent cache.\n",
      "WARNING:shelved_cache.persistent_cache:Key '-7733934507899543352' not in persistent cache.\n",
      "WARNING:shelved_cache.persistent_cache:Key '6511025877721629309' not in persistent cache.\n",
      "WARNING:shelved_cache.persistent_cache:Key '-6445394725200820044' not in persistent cache.\n",
      "WARNING:shelved_cache.persistent_cache:Key '-7574494957116376474' not in persistent cache.\n",
      "WARNING:shelved_cache.persistent_cache:Key '-4213584562539118131' not in persistent cache.\n",
      "WARNING:shelved_cache.persistent_cache:Key '-4779314220742257643' not in persistent cache.\n",
      "WARNING:shelved_cache.persistent_cache:Key '-8346002773962329525' not in persistent cache.\n",
      "WARNING:shelved_cache.persistent_cache:Key '-4482909484490373561' not in persistent cache.\n",
      "WARNING:shelved_cache.persistent_cache:Key '-9040881255346844820' not in persistent cache.\n",
      "WARNING:shelved_cache.persistent_cache:Key '7503513658673817492' not in persistent cache.\n",
      "WARNING:shelved_cache.persistent_cache:Key '-5194876603877851533' not in persistent cache.\n",
      "WARNING:shelved_cache.persistent_cache:Key '-2040807567712389622' not in persistent cache.\n",
      "WARNING:shelved_cache.persistent_cache:Key '-937887941247151' not in persistent cache.\n",
      "WARNING:shelved_cache.persistent_cache:Key '3390998537550846844' not in persistent cache.\n",
      "WARNING:shelved_cache.persistent_cache:Key '2675978993696590937' not in persistent cache.\n",
      "WARNING:shelved_cache.persistent_cache:Key '-6988091794411987554' not in persistent cache.\n",
      "WARNING:shelved_cache.persistent_cache:Key '-1536610385186064126' not in persistent cache.\n",
      "WARNING:shelved_cache.persistent_cache:Key '5292650687616818069' not in persistent cache.\n",
      "WARNING:shelved_cache.persistent_cache:Key '-6952764771075439962' not in persistent cache.\n",
      "WARNING:shelved_cache.persistent_cache:Key '3712296354206518257' not in persistent cache.\n",
      "WARNING:shelved_cache.persistent_cache:Key '430763186626812452' not in persistent cache.\n",
      "WARNING:shelved_cache.persistent_cache:Key '5915099093063580907' not in persistent cache.\n",
      "WARNING:shelved_cache.persistent_cache:Key '7373784439869384348' not in persistent cache.\n",
      "WARNING:shelved_cache.persistent_cache:Key '-7644033827957158239' not in persistent cache.\n",
      "WARNING:shelved_cache.persistent_cache:Key '-6557317101164000518' not in persistent cache.\n"
     ]
    },
    {
     "name": "stdout",
     "output_type": "stream",
     "text": [
      "In the year 2010, there were 784333 females aged 0 to 4 living in ecuador.\n",
      "In the year 1995, there were 252931 boths aged 80 to 100 living in colombia.\n"
     ]
    },
    {
     "name": "stderr",
     "output_type": "stream",
     "text": [
      "WARNING:shelved_cache.persistent_cache:Key '-7964935441608061569' not in persistent cache.\n",
      "WARNING:shelved_cache.persistent_cache:Key '9141027503578042675' not in persistent cache.\n",
      "WARNING:shelved_cache.persistent_cache:Key '-7151486651341152630' not in persistent cache.\n",
      "WARNING:shelved_cache.persistent_cache:Key '-7057915299161574541' not in persistent cache.\n",
      "WARNING:shelved_cache.persistent_cache:Key '-2954823840017282030' not in persistent cache.\n",
      "WARNING:shelved_cache.persistent_cache:Key '-7447943942729492318' not in persistent cache.\n",
      "WARNING:shelved_cache.persistent_cache:Key '6797016442891680343' not in persistent cache.\n",
      "WARNING:shelved_cache.persistent_cache:Key '-6159404160030769010' not in persistent cache.\n",
      "WARNING:shelved_cache.persistent_cache:Key '-242475103311468615' not in persistent cache.\n"
     ]
    },
    {
     "name": "stdout",
     "output_type": "stream",
     "text": [
      "In the year 2020, there were 972737 males aged 25 to 29 living in VEN.\n",
      "In the year 2015, there were 303263011 females aged 10 to 14 living in world.\n",
      "Please choose Male, Female, or Both\n",
      "Please choose Male, Female, or Both\n",
      "In the year 1990, there were 16197631 males aged 0 to 100 living in colombia.\n",
      "Please choose Male, Female, or Both\n",
      "Please choose Male, Female, or Both\n",
      "In the year 2015, there were 8612358 FeMales aged 30 to 34 living in BRAZIL.\n",
      "In the year 2000, there were 1966993 males aged 15 to 19 living in COL.\n"
     ]
    }
   ],
   "source": [
    "# Test 1: Standard input - Brazil, male, ages 20-60 in 2000\n",
    "assert population(2000, 'male', (20, 60), 'brazil') == 47111262\n",
    "\n",
    "# Test 2: Ecuador, female population, ages 0-4 in 2010\n",
    "assert population(2010, 'female', (0, 4), 'ecuador') == 784333\n",
    "\n",
    "# Test 3: Colombia, unspecified sex, ages 80+ in 1995\n",
    "assert population(1995, 'both', (80, 100), 'colombia') == 252931\n",
    "\n",
    "# Test 4: Venezuela, male population, single age group (25-29) in 2020\n",
    "assert population(2020, 'male', (25, 29), 'VEN') == 972737\n",
    "\n",
    "# Test 5: World population, female, ages 10-14 in 2015\n",
    "assert population(2015, 'female', (10, 14), 'world') == 303263011  # Placeholder value for global data\n",
    "\n",
    "# Test 6: Edge case - Minimum age range (0-0), unspecified sex, Ecuador, 2005\n",
    "assert population(2005, 'unspecified', (0, 4), 'ecuador') == print('Please choose Male, Female, or Both')\n",
    "\n",
    "# Test 7: Edge case - Maximum age range (0-100), male, Colombia, 1990\n",
    "assert population(1990, 'male', (0, 100), 'colombia') == 16197631 \n",
    "\n",
    "# Test 8: Invalid sex input (\"other\"), Venezuela, ages 20-24 in 2010\n",
    "assert population(2010, 'other', (20, 24), 'Venezuela, Bolivarian Republic of') == print('Please choose Male, Female, or Both')\n",
    "\n",
    "# Test 9: Case insensitivity - BRAZIL (uppercase), FeMale (mixed case), ages 30-34 in 2015\n",
    "assert population(2015, 'FeMale', (30, 34), 'BRAZIL') == 8612358  # Placeholder value\n",
    "\n",
    "# Test 10: Single country code input - using ISO code for Colombia ('COL'), male, ages 15-19 in 2000\n",
    "assert population(2000, 'male', (15, 19), 'COL') == 1966993"
   ]
  },
  {
   "cell_type": "markdown",
   "id": "4db2f5d6-9bb8-44a3-9002-5d70d251113d",
   "metadata": {},
   "source": [
    "## [B] Population Pyramids"
   ]
  },
  {
   "cell_type": "code",
   "execution_count": 54,
   "id": "0d660c5c-f825-484a-bc72-4d03b76275d3",
   "metadata": {},
   "outputs": [],
   "source": [
    "def population_pyramid(year, country):\n",
    "\n",
    "    data = pop_df(year,'both', country)\n",
    "    y_age = data['Ages']\n",
    "    x_M = data['Male']\n",
    "    x_F = data['Female']*-1\n",
    "\n",
    "    new_year = str(year)\n",
    "    #creating instance of the figure\n",
    "    fig = go.Figure()\n",
    "\n",
    "    #Adding male data\n",
    "    fig.add_trace(go.Bar(y = y_age, x = x_M, name = 'Male', orientation = 'h'))\n",
    "\n",
    "    #Adding Female data\n",
    "    fig.add_trace(go.Bar(y = y_age, x = x_F, name = 'Female', orientation = 'h'))\n",
    "\n",
    "    #Updating layout of the figure\n",
    "    fig.update_layout(title = country.capitalize() +' Population Pyramid (' + new_year + ')',\n",
    "                      title_font_size = 22, barmode = 'relative',\n",
    "                      bargap = 0.0, bargroupgap = 0,\n",
    "                      xaxis = dict(title = 'Population in Millions',\n",
    "                               title_font_size = 14\n",
    "                              )\n",
    "                 )\n",
    "    fig.show()"
   ]
  },
  {
   "cell_type": "code",
   "execution_count": 57,
   "id": "32d0f063-4443-45dc-8c43-45d12777c1c4",
   "metadata": {},
   "outputs": [
    {
     "data": {
      "application/vnd.plotly.v1+json": {
       "config": {
        "plotlyServerURL": "https://plot.ly"
       },
       "data": [
        {
         "name": "Male",
         "orientation": "h",
         "type": "bar",
         "x": {
          "bdata": "AAAAYO9bY0EAAACAPANjQQAAAAA4eGRBAAAAwIQWZUEAAABAneVkQQAAAOAg2mNBAAAAoOaQY0EAAACgMnhkQQAAAAAGKWZBAAAAQNGEZUEAAAAgjuBiQQAAAACCQGBBAAAAAFs6WEEAAAAAlQtSQQAAAICSYE1BAAAAgKOaR0EAAACAwg9LQQ==",
          "dtype": "f8"
         },
         "y": [
          "0-4",
          "5-9",
          "10-14",
          "15-19",
          "20-24",
          "25-29",
          "30-34",
          "35-39",
          "40-44",
          "45-49",
          "50-54",
          "55-59",
          "60-64",
          "65-69",
          "70-74",
          "75-79",
          "80+"
         ]
        },
        {
         "name": "Female",
         "orientation": "h",
         "type": "bar",
         "x": {
          "bdata": "AAAAIFZ7YsEAAABAdRJiwQAAAMAxSGPBAAAAYOyqY8EAAABgv3NjwQAAAGD+lGLBAAAAIFF7YsEAAAAgQpJjwQAAACCIhGXBAAAAANd4ZcEAAABA6kZjwQAAACBj12DBAAAAwNbiWcEAAAAAJ0hUwQAAAIBglFHBAAAAAMmmT8EAAADAIf9YwQ==",
          "dtype": "f8"
         },
         "y": [
          "0-4",
          "5-9",
          "10-14",
          "15-19",
          "20-24",
          "25-29",
          "30-34",
          "35-39",
          "40-44",
          "45-49",
          "50-54",
          "55-59",
          "60-64",
          "65-69",
          "70-74",
          "75-79",
          "80+"
         ]
        }
       ],
       "layout": {
        "bargap": 0,
        "bargroupgap": 0,
        "barmode": "relative",
        "template": {
         "data": {
          "bar": [
           {
            "error_x": {
             "color": "#2a3f5f"
            },
            "error_y": {
             "color": "#2a3f5f"
            },
            "marker": {
             "line": {
              "color": "#E5ECF6",
              "width": 0.5
             },
             "pattern": {
              "fillmode": "overlay",
              "size": 10,
              "solidity": 0.2
             }
            },
            "type": "bar"
           }
          ],
          "barpolar": [
           {
            "marker": {
             "line": {
              "color": "#E5ECF6",
              "width": 0.5
             },
             "pattern": {
              "fillmode": "overlay",
              "size": 10,
              "solidity": 0.2
             }
            },
            "type": "barpolar"
           }
          ],
          "carpet": [
           {
            "aaxis": {
             "endlinecolor": "#2a3f5f",
             "gridcolor": "white",
             "linecolor": "white",
             "minorgridcolor": "white",
             "startlinecolor": "#2a3f5f"
            },
            "baxis": {
             "endlinecolor": "#2a3f5f",
             "gridcolor": "white",
             "linecolor": "white",
             "minorgridcolor": "white",
             "startlinecolor": "#2a3f5f"
            },
            "type": "carpet"
           }
          ],
          "choropleth": [
           {
            "colorbar": {
             "outlinewidth": 0,
             "ticks": ""
            },
            "type": "choropleth"
           }
          ],
          "contour": [
           {
            "colorbar": {
             "outlinewidth": 0,
             "ticks": ""
            },
            "colorscale": [
             [
              0,
              "#0d0887"
             ],
             [
              0.1111111111111111,
              "#46039f"
             ],
             [
              0.2222222222222222,
              "#7201a8"
             ],
             [
              0.3333333333333333,
              "#9c179e"
             ],
             [
              0.4444444444444444,
              "#bd3786"
             ],
             [
              0.5555555555555556,
              "#d8576b"
             ],
             [
              0.6666666666666666,
              "#ed7953"
             ],
             [
              0.7777777777777778,
              "#fb9f3a"
             ],
             [
              0.8888888888888888,
              "#fdca26"
             ],
             [
              1,
              "#f0f921"
             ]
            ],
            "type": "contour"
           }
          ],
          "contourcarpet": [
           {
            "colorbar": {
             "outlinewidth": 0,
             "ticks": ""
            },
            "type": "contourcarpet"
           }
          ],
          "heatmap": [
           {
            "colorbar": {
             "outlinewidth": 0,
             "ticks": ""
            },
            "colorscale": [
             [
              0,
              "#0d0887"
             ],
             [
              0.1111111111111111,
              "#46039f"
             ],
             [
              0.2222222222222222,
              "#7201a8"
             ],
             [
              0.3333333333333333,
              "#9c179e"
             ],
             [
              0.4444444444444444,
              "#bd3786"
             ],
             [
              0.5555555555555556,
              "#d8576b"
             ],
             [
              0.6666666666666666,
              "#ed7953"
             ],
             [
              0.7777777777777778,
              "#fb9f3a"
             ],
             [
              0.8888888888888888,
              "#fdca26"
             ],
             [
              1,
              "#f0f921"
             ]
            ],
            "type": "heatmap"
           }
          ],
          "histogram": [
           {
            "marker": {
             "pattern": {
              "fillmode": "overlay",
              "size": 10,
              "solidity": 0.2
             }
            },
            "type": "histogram"
           }
          ],
          "histogram2d": [
           {
            "colorbar": {
             "outlinewidth": 0,
             "ticks": ""
            },
            "colorscale": [
             [
              0,
              "#0d0887"
             ],
             [
              0.1111111111111111,
              "#46039f"
             ],
             [
              0.2222222222222222,
              "#7201a8"
             ],
             [
              0.3333333333333333,
              "#9c179e"
             ],
             [
              0.4444444444444444,
              "#bd3786"
             ],
             [
              0.5555555555555556,
              "#d8576b"
             ],
             [
              0.6666666666666666,
              "#ed7953"
             ],
             [
              0.7777777777777778,
              "#fb9f3a"
             ],
             [
              0.8888888888888888,
              "#fdca26"
             ],
             [
              1,
              "#f0f921"
             ]
            ],
            "type": "histogram2d"
           }
          ],
          "histogram2dcontour": [
           {
            "colorbar": {
             "outlinewidth": 0,
             "ticks": ""
            },
            "colorscale": [
             [
              0,
              "#0d0887"
             ],
             [
              0.1111111111111111,
              "#46039f"
             ],
             [
              0.2222222222222222,
              "#7201a8"
             ],
             [
              0.3333333333333333,
              "#9c179e"
             ],
             [
              0.4444444444444444,
              "#bd3786"
             ],
             [
              0.5555555555555556,
              "#d8576b"
             ],
             [
              0.6666666666666666,
              "#ed7953"
             ],
             [
              0.7777777777777778,
              "#fb9f3a"
             ],
             [
              0.8888888888888888,
              "#fdca26"
             ],
             [
              1,
              "#f0f921"
             ]
            ],
            "type": "histogram2dcontour"
           }
          ],
          "mesh3d": [
           {
            "colorbar": {
             "outlinewidth": 0,
             "ticks": ""
            },
            "type": "mesh3d"
           }
          ],
          "parcoords": [
           {
            "line": {
             "colorbar": {
              "outlinewidth": 0,
              "ticks": ""
             }
            },
            "type": "parcoords"
           }
          ],
          "pie": [
           {
            "automargin": true,
            "type": "pie"
           }
          ],
          "scatter": [
           {
            "fillpattern": {
             "fillmode": "overlay",
             "size": 10,
             "solidity": 0.2
            },
            "type": "scatter"
           }
          ],
          "scatter3d": [
           {
            "line": {
             "colorbar": {
              "outlinewidth": 0,
              "ticks": ""
             }
            },
            "marker": {
             "colorbar": {
              "outlinewidth": 0,
              "ticks": ""
             }
            },
            "type": "scatter3d"
           }
          ],
          "scattercarpet": [
           {
            "marker": {
             "colorbar": {
              "outlinewidth": 0,
              "ticks": ""
             }
            },
            "type": "scattercarpet"
           }
          ],
          "scattergeo": [
           {
            "marker": {
             "colorbar": {
              "outlinewidth": 0,
              "ticks": ""
             }
            },
            "type": "scattergeo"
           }
          ],
          "scattergl": [
           {
            "marker": {
             "colorbar": {
              "outlinewidth": 0,
              "ticks": ""
             }
            },
            "type": "scattergl"
           }
          ],
          "scattermap": [
           {
            "marker": {
             "colorbar": {
              "outlinewidth": 0,
              "ticks": ""
             }
            },
            "type": "scattermap"
           }
          ],
          "scattermapbox": [
           {
            "marker": {
             "colorbar": {
              "outlinewidth": 0,
              "ticks": ""
             }
            },
            "type": "scattermapbox"
           }
          ],
          "scatterpolar": [
           {
            "marker": {
             "colorbar": {
              "outlinewidth": 0,
              "ticks": ""
             }
            },
            "type": "scatterpolar"
           }
          ],
          "scatterpolargl": [
           {
            "marker": {
             "colorbar": {
              "outlinewidth": 0,
              "ticks": ""
             }
            },
            "type": "scatterpolargl"
           }
          ],
          "scatterternary": [
           {
            "marker": {
             "colorbar": {
              "outlinewidth": 0,
              "ticks": ""
             }
            },
            "type": "scatterternary"
           }
          ],
          "surface": [
           {
            "colorbar": {
             "outlinewidth": 0,
             "ticks": ""
            },
            "colorscale": [
             [
              0,
              "#0d0887"
             ],
             [
              0.1111111111111111,
              "#46039f"
             ],
             [
              0.2222222222222222,
              "#7201a8"
             ],
             [
              0.3333333333333333,
              "#9c179e"
             ],
             [
              0.4444444444444444,
              "#bd3786"
             ],
             [
              0.5555555555555556,
              "#d8576b"
             ],
             [
              0.6666666666666666,
              "#ed7953"
             ],
             [
              0.7777777777777778,
              "#fb9f3a"
             ],
             [
              0.8888888888888888,
              "#fdca26"
             ],
             [
              1,
              "#f0f921"
             ]
            ],
            "type": "surface"
           }
          ],
          "table": [
           {
            "cells": {
             "fill": {
              "color": "#EBF0F8"
             },
             "line": {
              "color": "white"
             }
            },
            "header": {
             "fill": {
              "color": "#C8D4E3"
             },
             "line": {
              "color": "white"
             }
            },
            "type": "table"
           }
          ]
         },
         "layout": {
          "annotationdefaults": {
           "arrowcolor": "#2a3f5f",
           "arrowhead": 0,
           "arrowwidth": 1
          },
          "autotypenumbers": "strict",
          "coloraxis": {
           "colorbar": {
            "outlinewidth": 0,
            "ticks": ""
           }
          },
          "colorscale": {
           "diverging": [
            [
             0,
             "#8e0152"
            ],
            [
             0.1,
             "#c51b7d"
            ],
            [
             0.2,
             "#de77ae"
            ],
            [
             0.3,
             "#f1b6da"
            ],
            [
             0.4,
             "#fde0ef"
            ],
            [
             0.5,
             "#f7f7f7"
            ],
            [
             0.6,
             "#e6f5d0"
            ],
            [
             0.7,
             "#b8e186"
            ],
            [
             0.8,
             "#7fbc41"
            ],
            [
             0.9,
             "#4d9221"
            ],
            [
             1,
             "#276419"
            ]
           ],
           "sequential": [
            [
             0,
             "#0d0887"
            ],
            [
             0.1111111111111111,
             "#46039f"
            ],
            [
             0.2222222222222222,
             "#7201a8"
            ],
            [
             0.3333333333333333,
             "#9c179e"
            ],
            [
             0.4444444444444444,
             "#bd3786"
            ],
            [
             0.5555555555555556,
             "#d8576b"
            ],
            [
             0.6666666666666666,
             "#ed7953"
            ],
            [
             0.7777777777777778,
             "#fb9f3a"
            ],
            [
             0.8888888888888888,
             "#fdca26"
            ],
            [
             1,
             "#f0f921"
            ]
           ],
           "sequentialminus": [
            [
             0,
             "#0d0887"
            ],
            [
             0.1111111111111111,
             "#46039f"
            ],
            [
             0.2222222222222222,
             "#7201a8"
            ],
            [
             0.3333333333333333,
             "#9c179e"
            ],
            [
             0.4444444444444444,
             "#bd3786"
            ],
            [
             0.5555555555555556,
             "#d8576b"
            ],
            [
             0.6666666666666666,
             "#ed7953"
            ],
            [
             0.7777777777777778,
             "#fb9f3a"
            ],
            [
             0.8888888888888888,
             "#fdca26"
            ],
            [
             1,
             "#f0f921"
            ]
           ]
          },
          "colorway": [
           "#636efa",
           "#EF553B",
           "#00cc96",
           "#ab63fa",
           "#FFA15A",
           "#19d3f3",
           "#FF6692",
           "#B6E880",
           "#FF97FF",
           "#FECB52"
          ],
          "font": {
           "color": "#2a3f5f"
          },
          "geo": {
           "bgcolor": "white",
           "lakecolor": "white",
           "landcolor": "#E5ECF6",
           "showlakes": true,
           "showland": true,
           "subunitcolor": "white"
          },
          "hoverlabel": {
           "align": "left"
          },
          "hovermode": "closest",
          "mapbox": {
           "style": "light"
          },
          "paper_bgcolor": "white",
          "plot_bgcolor": "#E5ECF6",
          "polar": {
           "angularaxis": {
            "gridcolor": "white",
            "linecolor": "white",
            "ticks": ""
           },
           "bgcolor": "#E5ECF6",
           "radialaxis": {
            "gridcolor": "white",
            "linecolor": "white",
            "ticks": ""
           }
          },
          "scene": {
           "xaxis": {
            "backgroundcolor": "#E5ECF6",
            "gridcolor": "white",
            "gridwidth": 2,
            "linecolor": "white",
            "showbackground": true,
            "ticks": "",
            "zerolinecolor": "white"
           },
           "yaxis": {
            "backgroundcolor": "#E5ECF6",
            "gridcolor": "white",
            "gridwidth": 2,
            "linecolor": "white",
            "showbackground": true,
            "ticks": "",
            "zerolinecolor": "white"
           },
           "zaxis": {
            "backgroundcolor": "#E5ECF6",
            "gridcolor": "white",
            "gridwidth": 2,
            "linecolor": "white",
            "showbackground": true,
            "ticks": "",
            "zerolinecolor": "white"
           }
          },
          "shapedefaults": {
           "line": {
            "color": "#2a3f5f"
           }
          },
          "ternary": {
           "aaxis": {
            "gridcolor": "white",
            "linecolor": "white",
            "ticks": ""
           },
           "baxis": {
            "gridcolor": "white",
            "linecolor": "white",
            "ticks": ""
           },
           "bgcolor": "#E5ECF6",
           "caxis": {
            "gridcolor": "white",
            "linecolor": "white",
            "ticks": ""
           }
          },
          "title": {
           "x": 0.05
          },
          "xaxis": {
           "automargin": true,
           "gridcolor": "white",
           "linecolor": "white",
           "ticks": "",
           "title": {
            "standoff": 15
           },
           "zerolinecolor": "white",
           "zerolinewidth": 2
          },
          "yaxis": {
           "automargin": true,
           "gridcolor": "white",
           "linecolor": "white",
           "ticks": "",
           "title": {
            "standoff": 15
           },
           "zerolinecolor": "white",
           "zerolinewidth": 2
          }
         }
        },
        "title": {
         "font": {
          "size": 22
         },
         "text": "United states of america Population Pyramid (2005)"
        },
        "xaxis": {
         "title": {
          "font": {
           "size": 14
          },
          "text": "Population in Millions"
         }
        }
       }
      },
      "text/html": [
       "<div>            <script src=\"https://cdnjs.cloudflare.com/ajax/libs/mathjax/2.7.5/MathJax.js?config=TeX-AMS-MML_SVG\"></script><script type=\"text/javascript\">if (window.MathJax && window.MathJax.Hub && window.MathJax.Hub.Config) {window.MathJax.Hub.Config({SVG: {font: \"STIX-Web\"}});}</script>                <script type=\"text/javascript\">window.PlotlyConfig = {MathJaxConfig: 'local'};</script>\n",
       "        <script charset=\"utf-8\" src=\"https://cdn.plot.ly/plotly-3.0.0.min.js\"></script>                <div id=\"d5ab53c0-f05b-4e34-bd54-b2d2fd7dbc58\" class=\"plotly-graph-div\" style=\"height:525px; width:100%;\"></div>            <script type=\"text/javascript\">                window.PLOTLYENV=window.PLOTLYENV || {};                                if (document.getElementById(\"d5ab53c0-f05b-4e34-bd54-b2d2fd7dbc58\")) {                    Plotly.newPlot(                        \"d5ab53c0-f05b-4e34-bd54-b2d2fd7dbc58\",                        [{\"name\":\"Male\",\"orientation\":\"h\",\"x\":{\"dtype\":\"f8\",\"bdata\":\"AAAAYO9bY0EAAACAPANjQQAAAAA4eGRBAAAAwIQWZUEAAABAneVkQQAAAOAg2mNBAAAAoOaQY0EAAACgMnhkQQAAAAAGKWZBAAAAQNGEZUEAAAAgjuBiQQAAAACCQGBBAAAAAFs6WEEAAAAAlQtSQQAAAICSYE1BAAAAgKOaR0EAAACAwg9LQQ==\"},\"y\":[\"0-4\",\"5-9\",\"10-14\",\"15-19\",\"20-24\",\"25-29\",\"30-34\",\"35-39\",\"40-44\",\"45-49\",\"50-54\",\"55-59\",\"60-64\",\"65-69\",\"70-74\",\"75-79\",\"80+\"],\"type\":\"bar\"},{\"name\":\"Female\",\"orientation\":\"h\",\"x\":{\"dtype\":\"f8\",\"bdata\":\"AAAAIFZ7YsEAAABAdRJiwQAAAMAxSGPBAAAAYOyqY8EAAABgv3NjwQAAAGD+lGLBAAAAIFF7YsEAAAAgQpJjwQAAACCIhGXBAAAAANd4ZcEAAABA6kZjwQAAACBj12DBAAAAwNbiWcEAAAAAJ0hUwQAAAIBglFHBAAAAAMmmT8EAAADAIf9YwQ==\"},\"y\":[\"0-4\",\"5-9\",\"10-14\",\"15-19\",\"20-24\",\"25-29\",\"30-34\",\"35-39\",\"40-44\",\"45-49\",\"50-54\",\"55-59\",\"60-64\",\"65-69\",\"70-74\",\"75-79\",\"80+\"],\"type\":\"bar\"}],                        {\"template\":{\"data\":{\"histogram2dcontour\":[{\"type\":\"histogram2dcontour\",\"colorbar\":{\"outlinewidth\":0,\"ticks\":\"\"},\"colorscale\":[[0.0,\"#0d0887\"],[0.1111111111111111,\"#46039f\"],[0.2222222222222222,\"#7201a8\"],[0.3333333333333333,\"#9c179e\"],[0.4444444444444444,\"#bd3786\"],[0.5555555555555556,\"#d8576b\"],[0.6666666666666666,\"#ed7953\"],[0.7777777777777778,\"#fb9f3a\"],[0.8888888888888888,\"#fdca26\"],[1.0,\"#f0f921\"]]}],\"choropleth\":[{\"type\":\"choropleth\",\"colorbar\":{\"outlinewidth\":0,\"ticks\":\"\"}}],\"histogram2d\":[{\"type\":\"histogram2d\",\"colorbar\":{\"outlinewidth\":0,\"ticks\":\"\"},\"colorscale\":[[0.0,\"#0d0887\"],[0.1111111111111111,\"#46039f\"],[0.2222222222222222,\"#7201a8\"],[0.3333333333333333,\"#9c179e\"],[0.4444444444444444,\"#bd3786\"],[0.5555555555555556,\"#d8576b\"],[0.6666666666666666,\"#ed7953\"],[0.7777777777777778,\"#fb9f3a\"],[0.8888888888888888,\"#fdca26\"],[1.0,\"#f0f921\"]]}],\"heatmap\":[{\"type\":\"heatmap\",\"colorbar\":{\"outlinewidth\":0,\"ticks\":\"\"},\"colorscale\":[[0.0,\"#0d0887\"],[0.1111111111111111,\"#46039f\"],[0.2222222222222222,\"#7201a8\"],[0.3333333333333333,\"#9c179e\"],[0.4444444444444444,\"#bd3786\"],[0.5555555555555556,\"#d8576b\"],[0.6666666666666666,\"#ed7953\"],[0.7777777777777778,\"#fb9f3a\"],[0.8888888888888888,\"#fdca26\"],[1.0,\"#f0f921\"]]}],\"contourcarpet\":[{\"type\":\"contourcarpet\",\"colorbar\":{\"outlinewidth\":0,\"ticks\":\"\"}}],\"contour\":[{\"type\":\"contour\",\"colorbar\":{\"outlinewidth\":0,\"ticks\":\"\"},\"colorscale\":[[0.0,\"#0d0887\"],[0.1111111111111111,\"#46039f\"],[0.2222222222222222,\"#7201a8\"],[0.3333333333333333,\"#9c179e\"],[0.4444444444444444,\"#bd3786\"],[0.5555555555555556,\"#d8576b\"],[0.6666666666666666,\"#ed7953\"],[0.7777777777777778,\"#fb9f3a\"],[0.8888888888888888,\"#fdca26\"],[1.0,\"#f0f921\"]]}],\"surface\":[{\"type\":\"surface\",\"colorbar\":{\"outlinewidth\":0,\"ticks\":\"\"},\"colorscale\":[[0.0,\"#0d0887\"],[0.1111111111111111,\"#46039f\"],[0.2222222222222222,\"#7201a8\"],[0.3333333333333333,\"#9c179e\"],[0.4444444444444444,\"#bd3786\"],[0.5555555555555556,\"#d8576b\"],[0.6666666666666666,\"#ed7953\"],[0.7777777777777778,\"#fb9f3a\"],[0.8888888888888888,\"#fdca26\"],[1.0,\"#f0f921\"]]}],\"mesh3d\":[{\"type\":\"mesh3d\",\"colorbar\":{\"outlinewidth\":0,\"ticks\":\"\"}}],\"scatter\":[{\"fillpattern\":{\"fillmode\":\"overlay\",\"size\":10,\"solidity\":0.2},\"type\":\"scatter\"}],\"parcoords\":[{\"type\":\"parcoords\",\"line\":{\"colorbar\":{\"outlinewidth\":0,\"ticks\":\"\"}}}],\"scatterpolargl\":[{\"type\":\"scatterpolargl\",\"marker\":{\"colorbar\":{\"outlinewidth\":0,\"ticks\":\"\"}}}],\"bar\":[{\"error_x\":{\"color\":\"#2a3f5f\"},\"error_y\":{\"color\":\"#2a3f5f\"},\"marker\":{\"line\":{\"color\":\"#E5ECF6\",\"width\":0.5},\"pattern\":{\"fillmode\":\"overlay\",\"size\":10,\"solidity\":0.2}},\"type\":\"bar\"}],\"scattergeo\":[{\"type\":\"scattergeo\",\"marker\":{\"colorbar\":{\"outlinewidth\":0,\"ticks\":\"\"}}}],\"scatterpolar\":[{\"type\":\"scatterpolar\",\"marker\":{\"colorbar\":{\"outlinewidth\":0,\"ticks\":\"\"}}}],\"histogram\":[{\"marker\":{\"pattern\":{\"fillmode\":\"overlay\",\"size\":10,\"solidity\":0.2}},\"type\":\"histogram\"}],\"scattergl\":[{\"type\":\"scattergl\",\"marker\":{\"colorbar\":{\"outlinewidth\":0,\"ticks\":\"\"}}}],\"scatter3d\":[{\"type\":\"scatter3d\",\"line\":{\"colorbar\":{\"outlinewidth\":0,\"ticks\":\"\"}},\"marker\":{\"colorbar\":{\"outlinewidth\":0,\"ticks\":\"\"}}}],\"scattermap\":[{\"type\":\"scattermap\",\"marker\":{\"colorbar\":{\"outlinewidth\":0,\"ticks\":\"\"}}}],\"scattermapbox\":[{\"type\":\"scattermapbox\",\"marker\":{\"colorbar\":{\"outlinewidth\":0,\"ticks\":\"\"}}}],\"scatterternary\":[{\"type\":\"scatterternary\",\"marker\":{\"colorbar\":{\"outlinewidth\":0,\"ticks\":\"\"}}}],\"scattercarpet\":[{\"type\":\"scattercarpet\",\"marker\":{\"colorbar\":{\"outlinewidth\":0,\"ticks\":\"\"}}}],\"carpet\":[{\"aaxis\":{\"endlinecolor\":\"#2a3f5f\",\"gridcolor\":\"white\",\"linecolor\":\"white\",\"minorgridcolor\":\"white\",\"startlinecolor\":\"#2a3f5f\"},\"baxis\":{\"endlinecolor\":\"#2a3f5f\",\"gridcolor\":\"white\",\"linecolor\":\"white\",\"minorgridcolor\":\"white\",\"startlinecolor\":\"#2a3f5f\"},\"type\":\"carpet\"}],\"table\":[{\"cells\":{\"fill\":{\"color\":\"#EBF0F8\"},\"line\":{\"color\":\"white\"}},\"header\":{\"fill\":{\"color\":\"#C8D4E3\"},\"line\":{\"color\":\"white\"}},\"type\":\"table\"}],\"barpolar\":[{\"marker\":{\"line\":{\"color\":\"#E5ECF6\",\"width\":0.5},\"pattern\":{\"fillmode\":\"overlay\",\"size\":10,\"solidity\":0.2}},\"type\":\"barpolar\"}],\"pie\":[{\"automargin\":true,\"type\":\"pie\"}]},\"layout\":{\"autotypenumbers\":\"strict\",\"colorway\":[\"#636efa\",\"#EF553B\",\"#00cc96\",\"#ab63fa\",\"#FFA15A\",\"#19d3f3\",\"#FF6692\",\"#B6E880\",\"#FF97FF\",\"#FECB52\"],\"font\":{\"color\":\"#2a3f5f\"},\"hovermode\":\"closest\",\"hoverlabel\":{\"align\":\"left\"},\"paper_bgcolor\":\"white\",\"plot_bgcolor\":\"#E5ECF6\",\"polar\":{\"bgcolor\":\"#E5ECF6\",\"angularaxis\":{\"gridcolor\":\"white\",\"linecolor\":\"white\",\"ticks\":\"\"},\"radialaxis\":{\"gridcolor\":\"white\",\"linecolor\":\"white\",\"ticks\":\"\"}},\"ternary\":{\"bgcolor\":\"#E5ECF6\",\"aaxis\":{\"gridcolor\":\"white\",\"linecolor\":\"white\",\"ticks\":\"\"},\"baxis\":{\"gridcolor\":\"white\",\"linecolor\":\"white\",\"ticks\":\"\"},\"caxis\":{\"gridcolor\":\"white\",\"linecolor\":\"white\",\"ticks\":\"\"}},\"coloraxis\":{\"colorbar\":{\"outlinewidth\":0,\"ticks\":\"\"}},\"colorscale\":{\"sequential\":[[0.0,\"#0d0887\"],[0.1111111111111111,\"#46039f\"],[0.2222222222222222,\"#7201a8\"],[0.3333333333333333,\"#9c179e\"],[0.4444444444444444,\"#bd3786\"],[0.5555555555555556,\"#d8576b\"],[0.6666666666666666,\"#ed7953\"],[0.7777777777777778,\"#fb9f3a\"],[0.8888888888888888,\"#fdca26\"],[1.0,\"#f0f921\"]],\"sequentialminus\":[[0.0,\"#0d0887\"],[0.1111111111111111,\"#46039f\"],[0.2222222222222222,\"#7201a8\"],[0.3333333333333333,\"#9c179e\"],[0.4444444444444444,\"#bd3786\"],[0.5555555555555556,\"#d8576b\"],[0.6666666666666666,\"#ed7953\"],[0.7777777777777778,\"#fb9f3a\"],[0.8888888888888888,\"#fdca26\"],[1.0,\"#f0f921\"]],\"diverging\":[[0,\"#8e0152\"],[0.1,\"#c51b7d\"],[0.2,\"#de77ae\"],[0.3,\"#f1b6da\"],[0.4,\"#fde0ef\"],[0.5,\"#f7f7f7\"],[0.6,\"#e6f5d0\"],[0.7,\"#b8e186\"],[0.8,\"#7fbc41\"],[0.9,\"#4d9221\"],[1,\"#276419\"]]},\"xaxis\":{\"gridcolor\":\"white\",\"linecolor\":\"white\",\"ticks\":\"\",\"title\":{\"standoff\":15},\"zerolinecolor\":\"white\",\"automargin\":true,\"zerolinewidth\":2},\"yaxis\":{\"gridcolor\":\"white\",\"linecolor\":\"white\",\"ticks\":\"\",\"title\":{\"standoff\":15},\"zerolinecolor\":\"white\",\"automargin\":true,\"zerolinewidth\":2},\"scene\":{\"xaxis\":{\"backgroundcolor\":\"#E5ECF6\",\"gridcolor\":\"white\",\"linecolor\":\"white\",\"showbackground\":true,\"ticks\":\"\",\"zerolinecolor\":\"white\",\"gridwidth\":2},\"yaxis\":{\"backgroundcolor\":\"#E5ECF6\",\"gridcolor\":\"white\",\"linecolor\":\"white\",\"showbackground\":true,\"ticks\":\"\",\"zerolinecolor\":\"white\",\"gridwidth\":2},\"zaxis\":{\"backgroundcolor\":\"#E5ECF6\",\"gridcolor\":\"white\",\"linecolor\":\"white\",\"showbackground\":true,\"ticks\":\"\",\"zerolinecolor\":\"white\",\"gridwidth\":2}},\"shapedefaults\":{\"line\":{\"color\":\"#2a3f5f\"}},\"annotationdefaults\":{\"arrowcolor\":\"#2a3f5f\",\"arrowhead\":0,\"arrowwidth\":1},\"geo\":{\"bgcolor\":\"white\",\"landcolor\":\"#E5ECF6\",\"subunitcolor\":\"white\",\"showland\":true,\"showlakes\":true,\"lakecolor\":\"white\"},\"title\":{\"x\":0.05},\"mapbox\":{\"style\":\"light\"}}},\"title\":{\"text\":\"United states of america Population Pyramid (2005)\",\"font\":{\"size\":22}},\"xaxis\":{\"title\":{\"text\":\"Population in Millions\",\"font\":{\"size\":14}}},\"barmode\":\"relative\",\"bargap\":0.0,\"bargroupgap\":0},                        {\"responsive\": true}                    ).then(function(){\n",
       "                            \n",
       "var gd = document.getElementById('d5ab53c0-f05b-4e34-bd54-b2d2fd7dbc58');\n",
       "var x = new MutationObserver(function (mutations, observer) {{\n",
       "        var display = window.getComputedStyle(gd).display;\n",
       "        if (!display || display === 'none') {{\n",
       "            console.log([gd, 'removed!']);\n",
       "            Plotly.purge(gd);\n",
       "            observer.disconnect();\n",
       "        }}\n",
       "}});\n",
       "\n",
       "// Listen for the removal of the full notebook cells\n",
       "var notebookContainer = gd.closest('#notebook-container');\n",
       "if (notebookContainer) {{\n",
       "    x.observe(notebookContainer, {childList: true});\n",
       "}}\n",
       "\n",
       "// Listen for the clearing of the current output cell\n",
       "var outputEl = gd.closest('.output');\n",
       "if (outputEl) {{\n",
       "    x.observe(outputEl, {childList: true});\n",
       "}}\n",
       "\n",
       "                        })                };            </script>        </div>"
      ]
     },
     "metadata": {},
     "output_type": "display_data"
    }
   ],
   "source": [
    "population_pyramid(2005, \"United States of America\")"
   ]
  },
  {
   "cell_type": "markdown",
   "id": "b54b0768-9902-44b7-978e-3cd1aae348ba",
   "metadata": {},
   "source": [
    "## [C] Overlayed Population Pyramid"
   ]
  },
  {
   "cell_type": "code",
   "execution_count": 39,
   "id": "7e5a6a1e-4326-43be-bf85-923a050a7d2e",
   "metadata": {},
   "outputs": [],
   "source": [
    "def overlay_population_pyramid(years, country, layout=None):\n",
    "    \"\"\"\n",
    "    Plots an overlaid population pyramid for multiple years by fetching population data.\n",
    "\n",
    "    Parameters:\n",
    "    - years: List of years to include in the population pyramid.\n",
    "    - country: The country for which to fetch population data.\n",
    "    - layout: Custom Plotly layout configuration (optional).\n",
    "\n",
    "    Returns:\n",
    "    - None (displays the plot).\n",
    "    \"\"\"\n",
    "\n",
    "    bins = []\n",
    "\n",
    "    for year in years:\n",
    "        # Fetch the population data for the specified year\n",
    "        df = pop_df(year, 'both', country)\n",
    "\n",
    "        # Generate the age ranges for the y-axis\n",
    "        age_ranges = df['Ages'].unique()\n",
    "\n",
    "        # Create the bars for males\n",
    "        bins.append(\n",
    "            go.Bar(\n",
    "                x=df['Male'],\n",
    "                y=age_ranges,\n",
    "                orientation=\"h\",\n",
    "                name=f\"Men {year}\",\n",
    "                hoverinfo=\"skip\",\n",
    "                opacity=0.5\n",
    "            )\n",
    "        )\n",
    "\n",
    "        # Create the bars for females\n",
    "        bins.append(\n",
    "            go.Bar(\n",
    "                x=-df['Female'],\n",
    "                y=age_ranges,\n",
    "                orientation=\"h\",\n",
    "                name=f\"Women {year}\",\n",
    "                hoverinfo=\"skip\",\n",
    "                opacity=0.5\n",
    "            )\n",
    "        )\n",
    "\n",
    "    # Set default layout if none is provided\n",
    "    if layout is None:\n",
    "        layout = go.Layout(\n",
    "            title=f\"Population Pyramid for {country} Over {years[0]}-{years[-1]}\",\n",
    "            barmode=\"overlay\",\n",
    "            xaxis=dict(title=\"Population\"),\n",
    "            yaxis=dict(title=\"Age Groups\"),\n",
    "            bargap=0.1,\n",
    "        )\n",
    "\n",
    "    # Plot the population pyramid\n",
    "    py.iplot(dict(data=bins, layout=layout))"
   ]
  },
  {
   "cell_type": "code",
   "execution_count": 40,
   "id": "ca1ecee6-06ce-4731-a16d-a76570fc751c",
   "metadata": {},
   "outputs": [
    {
     "data": {
      "application/vnd.plotly.v1+json": {
       "config": {
        "linkText": "Export to plot.ly",
        "plotlyServerURL": "https://plot.ly",
        "showLink": false
       },
       "data": [
        {
         "hoverinfo": "skip",
         "name": "Men 1990",
         "opacity": 0.5,
         "orientation": "h",
         "type": "bar",
         "x": {
          "bdata": "AAAAAF50YUEAAABgnIphQQAAAAAPJmBBAAAAgNHWXEEAAABAJHdaQQAAAEAVE1lBAAAAgETfVUEAAABAtj9SQQAAAIAt/0xBAAAAgNSRR0EAAACABXhDQQAAAACJjD9BAAAAAFN9OUEAAAAAKlwyQQAAAABYeCdBAAAAAJDZG0EAAAAATJsTQQ==",
          "dtype": "f8"
         },
         "y": [
          "0-4",
          "5-9",
          "10-14",
          "15-19",
          "20-24",
          "25-29",
          "30-34",
          "35-39",
          "40-44",
          "45-49",
          "50-54",
          "55-59",
          "60-64",
          "65-69",
          "70-74",
          "75-79",
          "80+"
         ]
        },
        {
         "hoverinfo": "skip",
         "name": "Women 1990",
         "opacity": 0.5,
         "orientation": "h",
         "type": "bar",
         "x": {
          "bdata": "AAAAYJ3jYMEAAABgFxRhwQAAAAClsV/BAAAAQLp0XMEAAAAAx0dawQAAAIBtC1nBAAAAgLj0VcEAAABAH3JSwQAAAADlW03BAAAAgH4sR8EAAAAAvgpEwQAAAAChxUHBAAAAAMrCPcEAAAAAP6c1wQAAAACGlyzBAAAAAK77IcEAAAAAlIEbwQ==",
          "dtype": "f8"
         },
         "y": [
          "0-4",
          "5-9",
          "10-14",
          "15-19",
          "20-24",
          "25-29",
          "30-34",
          "35-39",
          "40-44",
          "45-49",
          "50-54",
          "55-59",
          "60-64",
          "65-69",
          "70-74",
          "75-79",
          "80+"
         ]
        },
        {
         "hoverinfo": "skip",
         "name": "Men 2000",
         "opacity": 0.5,
         "orientation": "h",
         "type": "bar",
         "x": {
          "bdata": "AAAAoImxYEEAAADAxYpgQQAAAMD3KGFBAAAAINpRYUEAAACAEptfQQAAAMDM81tBAAAAQI6SWUEAAADAYS9YQQAAAMBi9lRBAAAAwKpEUUEAAACAttlKQQAAAIB6EEVBAAAAgERsQEEAAAAAfVM4QQAAAAC6GDFBAAAAAKLSI0EAAAAA3BwdQQ==",
          "dtype": "f8"
         },
         "y": [
          "0-4",
          "5-9",
          "10-14",
          "15-19",
          "20-24",
          "25-29",
          "30-34",
          "35-39",
          "40-44",
          "45-49",
          "50-54",
          "55-59",
          "60-64",
          "65-69",
          "70-74",
          "75-79",
          "80+"
         ]
        },
        {
         "hoverinfo": "skip",
         "name": "Women 2000",
         "opacity": 0.5,
         "orientation": "h",
         "type": "bar",
         "x": {
          "bdata": "AAAAIPwYYMEAAADAYAJgwQAAAMAUr2DBAAAAYH71YMEAAACAOlpfwQAAAIDJAFzBAAAAwCHKWcEAAAAAeYlYwQAAAAC8bVXBAAAAgH/eUcEAAACAVBZMwQAAAIAwvEXBAAAAgJoqQsEAAAAA8Fc+wQAAAABD5TbBAAAAAAD3K8EAAAAA0v0lwQ==",
          "dtype": "f8"
         },
         "y": [
          "0-4",
          "5-9",
          "10-14",
          "15-19",
          "20-24",
          "25-29",
          "30-34",
          "35-39",
          "40-44",
          "45-49",
          "50-54",
          "55-59",
          "60-64",
          "65-69",
          "70-74",
          "75-79",
          "80+"
         ]
        },
        {
         "hoverinfo": "skip",
         "name": "Men 2020",
         "opacity": 0.5,
         "orientation": "h",
         "type": "bar",
         "x": {
          "bdata": "AAAAwChjW0EAAAAAshJcQQAAAIAozFxBAAAAwCyOXkEAAABgIBFgQQAAAMBjRl9BAAAAwGL8X0EAAAAgDwZgQQAAAIBDJF1BAAAAwNucWUEAAAAAEw1XQQAAAMB2MFVBAAAAwNhyUUEAAAAAcnpKQQAAAICbOkJBAAAAAKB9N0EAAAAAI5U1QQ==",
          "dtype": "f8"
         },
         "y": [
          "0-4",
          "5-9",
          "10-14",
          "15-19",
          "20-24",
          "25-29",
          "30-34",
          "35-39",
          "40-44",
          "45-49",
          "50-54",
          "55-59",
          "60-64",
          "65-69",
          "70-74",
          "75-79",
          "80+"
         ]
        },
        {
         "hoverinfo": "skip",
         "name": "Women 2020",
         "opacity": 0.5,
         "orientation": "h",
         "type": "bar",
         "x": {
          "bdata": "AAAAAIFLWsEAAADAXfhawQAAAIAbslvBAAAAgAyEXcEAAADAzmxfwQAAAEA/817BAAAAoIUFYMEAAADgzEJgwQAAAIDdBV7BAAAAwCa6WsEAAAAANWpYwQAAAIDv4FbBAAAAAGVqU8EAAAAA7OJOwQAAAADzf0bBAAAAAERPPsEAAACAhgVBwQ==",
          "dtype": "f8"
         },
         "y": [
          "0-4",
          "5-9",
          "10-14",
          "15-19",
          "20-24",
          "25-29",
          "30-34",
          "35-39",
          "40-44",
          "45-49",
          "50-54",
          "55-59",
          "60-64",
          "65-69",
          "70-74",
          "75-79",
          "80+"
         ]
        }
       ],
       "layout": {
        "bargap": 0.1,
        "barmode": "overlay",
        "template": {
         "data": {
          "bar": [
           {
            "error_x": {
             "color": "#2a3f5f"
            },
            "error_y": {
             "color": "#2a3f5f"
            },
            "marker": {
             "line": {
              "color": "#E5ECF6",
              "width": 0.5
             },
             "pattern": {
              "fillmode": "overlay",
              "size": 10,
              "solidity": 0.2
             }
            },
            "type": "bar"
           }
          ],
          "barpolar": [
           {
            "marker": {
             "line": {
              "color": "#E5ECF6",
              "width": 0.5
             },
             "pattern": {
              "fillmode": "overlay",
              "size": 10,
              "solidity": 0.2
             }
            },
            "type": "barpolar"
           }
          ],
          "carpet": [
           {
            "aaxis": {
             "endlinecolor": "#2a3f5f",
             "gridcolor": "white",
             "linecolor": "white",
             "minorgridcolor": "white",
             "startlinecolor": "#2a3f5f"
            },
            "baxis": {
             "endlinecolor": "#2a3f5f",
             "gridcolor": "white",
             "linecolor": "white",
             "minorgridcolor": "white",
             "startlinecolor": "#2a3f5f"
            },
            "type": "carpet"
           }
          ],
          "choropleth": [
           {
            "colorbar": {
             "outlinewidth": 0,
             "ticks": ""
            },
            "type": "choropleth"
           }
          ],
          "contour": [
           {
            "colorbar": {
             "outlinewidth": 0,
             "ticks": ""
            },
            "colorscale": [
             [
              0,
              "#0d0887"
             ],
             [
              0.1111111111111111,
              "#46039f"
             ],
             [
              0.2222222222222222,
              "#7201a8"
             ],
             [
              0.3333333333333333,
              "#9c179e"
             ],
             [
              0.4444444444444444,
              "#bd3786"
             ],
             [
              0.5555555555555556,
              "#d8576b"
             ],
             [
              0.6666666666666666,
              "#ed7953"
             ],
             [
              0.7777777777777778,
              "#fb9f3a"
             ],
             [
              0.8888888888888888,
              "#fdca26"
             ],
             [
              1,
              "#f0f921"
             ]
            ],
            "type": "contour"
           }
          ],
          "contourcarpet": [
           {
            "colorbar": {
             "outlinewidth": 0,
             "ticks": ""
            },
            "type": "contourcarpet"
           }
          ],
          "heatmap": [
           {
            "colorbar": {
             "outlinewidth": 0,
             "ticks": ""
            },
            "colorscale": [
             [
              0,
              "#0d0887"
             ],
             [
              0.1111111111111111,
              "#46039f"
             ],
             [
              0.2222222222222222,
              "#7201a8"
             ],
             [
              0.3333333333333333,
              "#9c179e"
             ],
             [
              0.4444444444444444,
              "#bd3786"
             ],
             [
              0.5555555555555556,
              "#d8576b"
             ],
             [
              0.6666666666666666,
              "#ed7953"
             ],
             [
              0.7777777777777778,
              "#fb9f3a"
             ],
             [
              0.8888888888888888,
              "#fdca26"
             ],
             [
              1,
              "#f0f921"
             ]
            ],
            "type": "heatmap"
           }
          ],
          "histogram": [
           {
            "marker": {
             "pattern": {
              "fillmode": "overlay",
              "size": 10,
              "solidity": 0.2
             }
            },
            "type": "histogram"
           }
          ],
          "histogram2d": [
           {
            "colorbar": {
             "outlinewidth": 0,
             "ticks": ""
            },
            "colorscale": [
             [
              0,
              "#0d0887"
             ],
             [
              0.1111111111111111,
              "#46039f"
             ],
             [
              0.2222222222222222,
              "#7201a8"
             ],
             [
              0.3333333333333333,
              "#9c179e"
             ],
             [
              0.4444444444444444,
              "#bd3786"
             ],
             [
              0.5555555555555556,
              "#d8576b"
             ],
             [
              0.6666666666666666,
              "#ed7953"
             ],
             [
              0.7777777777777778,
              "#fb9f3a"
             ],
             [
              0.8888888888888888,
              "#fdca26"
             ],
             [
              1,
              "#f0f921"
             ]
            ],
            "type": "histogram2d"
           }
          ],
          "histogram2dcontour": [
           {
            "colorbar": {
             "outlinewidth": 0,
             "ticks": ""
            },
            "colorscale": [
             [
              0,
              "#0d0887"
             ],
             [
              0.1111111111111111,
              "#46039f"
             ],
             [
              0.2222222222222222,
              "#7201a8"
             ],
             [
              0.3333333333333333,
              "#9c179e"
             ],
             [
              0.4444444444444444,
              "#bd3786"
             ],
             [
              0.5555555555555556,
              "#d8576b"
             ],
             [
              0.6666666666666666,
              "#ed7953"
             ],
             [
              0.7777777777777778,
              "#fb9f3a"
             ],
             [
              0.8888888888888888,
              "#fdca26"
             ],
             [
              1,
              "#f0f921"
             ]
            ],
            "type": "histogram2dcontour"
           }
          ],
          "mesh3d": [
           {
            "colorbar": {
             "outlinewidth": 0,
             "ticks": ""
            },
            "type": "mesh3d"
           }
          ],
          "parcoords": [
           {
            "line": {
             "colorbar": {
              "outlinewidth": 0,
              "ticks": ""
             }
            },
            "type": "parcoords"
           }
          ],
          "pie": [
           {
            "automargin": true,
            "type": "pie"
           }
          ],
          "scatter": [
           {
            "fillpattern": {
             "fillmode": "overlay",
             "size": 10,
             "solidity": 0.2
            },
            "type": "scatter"
           }
          ],
          "scatter3d": [
           {
            "line": {
             "colorbar": {
              "outlinewidth": 0,
              "ticks": ""
             }
            },
            "marker": {
             "colorbar": {
              "outlinewidth": 0,
              "ticks": ""
             }
            },
            "type": "scatter3d"
           }
          ],
          "scattercarpet": [
           {
            "marker": {
             "colorbar": {
              "outlinewidth": 0,
              "ticks": ""
             }
            },
            "type": "scattercarpet"
           }
          ],
          "scattergeo": [
           {
            "marker": {
             "colorbar": {
              "outlinewidth": 0,
              "ticks": ""
             }
            },
            "type": "scattergeo"
           }
          ],
          "scattergl": [
           {
            "marker": {
             "colorbar": {
              "outlinewidth": 0,
              "ticks": ""
             }
            },
            "type": "scattergl"
           }
          ],
          "scattermap": [
           {
            "marker": {
             "colorbar": {
              "outlinewidth": 0,
              "ticks": ""
             }
            },
            "type": "scattermap"
           }
          ],
          "scattermapbox": [
           {
            "marker": {
             "colorbar": {
              "outlinewidth": 0,
              "ticks": ""
             }
            },
            "type": "scattermapbox"
           }
          ],
          "scatterpolar": [
           {
            "marker": {
             "colorbar": {
              "outlinewidth": 0,
              "ticks": ""
             }
            },
            "type": "scatterpolar"
           }
          ],
          "scatterpolargl": [
           {
            "marker": {
             "colorbar": {
              "outlinewidth": 0,
              "ticks": ""
             }
            },
            "type": "scatterpolargl"
           }
          ],
          "scatterternary": [
           {
            "marker": {
             "colorbar": {
              "outlinewidth": 0,
              "ticks": ""
             }
            },
            "type": "scatterternary"
           }
          ],
          "surface": [
           {
            "colorbar": {
             "outlinewidth": 0,
             "ticks": ""
            },
            "colorscale": [
             [
              0,
              "#0d0887"
             ],
             [
              0.1111111111111111,
              "#46039f"
             ],
             [
              0.2222222222222222,
              "#7201a8"
             ],
             [
              0.3333333333333333,
              "#9c179e"
             ],
             [
              0.4444444444444444,
              "#bd3786"
             ],
             [
              0.5555555555555556,
              "#d8576b"
             ],
             [
              0.6666666666666666,
              "#ed7953"
             ],
             [
              0.7777777777777778,
              "#fb9f3a"
             ],
             [
              0.8888888888888888,
              "#fdca26"
             ],
             [
              1,
              "#f0f921"
             ]
            ],
            "type": "surface"
           }
          ],
          "table": [
           {
            "cells": {
             "fill": {
              "color": "#EBF0F8"
             },
             "line": {
              "color": "white"
             }
            },
            "header": {
             "fill": {
              "color": "#C8D4E3"
             },
             "line": {
              "color": "white"
             }
            },
            "type": "table"
           }
          ]
         },
         "layout": {
          "annotationdefaults": {
           "arrowcolor": "#2a3f5f",
           "arrowhead": 0,
           "arrowwidth": 1
          },
          "autotypenumbers": "strict",
          "coloraxis": {
           "colorbar": {
            "outlinewidth": 0,
            "ticks": ""
           }
          },
          "colorscale": {
           "diverging": [
            [
             0,
             "#8e0152"
            ],
            [
             0.1,
             "#c51b7d"
            ],
            [
             0.2,
             "#de77ae"
            ],
            [
             0.3,
             "#f1b6da"
            ],
            [
             0.4,
             "#fde0ef"
            ],
            [
             0.5,
             "#f7f7f7"
            ],
            [
             0.6,
             "#e6f5d0"
            ],
            [
             0.7,
             "#b8e186"
            ],
            [
             0.8,
             "#7fbc41"
            ],
            [
             0.9,
             "#4d9221"
            ],
            [
             1,
             "#276419"
            ]
           ],
           "sequential": [
            [
             0,
             "#0d0887"
            ],
            [
             0.1111111111111111,
             "#46039f"
            ],
            [
             0.2222222222222222,
             "#7201a8"
            ],
            [
             0.3333333333333333,
             "#9c179e"
            ],
            [
             0.4444444444444444,
             "#bd3786"
            ],
            [
             0.5555555555555556,
             "#d8576b"
            ],
            [
             0.6666666666666666,
             "#ed7953"
            ],
            [
             0.7777777777777778,
             "#fb9f3a"
            ],
            [
             0.8888888888888888,
             "#fdca26"
            ],
            [
             1,
             "#f0f921"
            ]
           ],
           "sequentialminus": [
            [
             0,
             "#0d0887"
            ],
            [
             0.1111111111111111,
             "#46039f"
            ],
            [
             0.2222222222222222,
             "#7201a8"
            ],
            [
             0.3333333333333333,
             "#9c179e"
            ],
            [
             0.4444444444444444,
             "#bd3786"
            ],
            [
             0.5555555555555556,
             "#d8576b"
            ],
            [
             0.6666666666666666,
             "#ed7953"
            ],
            [
             0.7777777777777778,
             "#fb9f3a"
            ],
            [
             0.8888888888888888,
             "#fdca26"
            ],
            [
             1,
             "#f0f921"
            ]
           ]
          },
          "colorway": [
           "#636efa",
           "#EF553B",
           "#00cc96",
           "#ab63fa",
           "#FFA15A",
           "#19d3f3",
           "#FF6692",
           "#B6E880",
           "#FF97FF",
           "#FECB52"
          ],
          "font": {
           "color": "#2a3f5f"
          },
          "geo": {
           "bgcolor": "white",
           "lakecolor": "white",
           "landcolor": "#E5ECF6",
           "showlakes": true,
           "showland": true,
           "subunitcolor": "white"
          },
          "hoverlabel": {
           "align": "left"
          },
          "hovermode": "closest",
          "mapbox": {
           "style": "light"
          },
          "paper_bgcolor": "white",
          "plot_bgcolor": "#E5ECF6",
          "polar": {
           "angularaxis": {
            "gridcolor": "white",
            "linecolor": "white",
            "ticks": ""
           },
           "bgcolor": "#E5ECF6",
           "radialaxis": {
            "gridcolor": "white",
            "linecolor": "white",
            "ticks": ""
           }
          },
          "scene": {
           "xaxis": {
            "backgroundcolor": "#E5ECF6",
            "gridcolor": "white",
            "gridwidth": 2,
            "linecolor": "white",
            "showbackground": true,
            "ticks": "",
            "zerolinecolor": "white"
           },
           "yaxis": {
            "backgroundcolor": "#E5ECF6",
            "gridcolor": "white",
            "gridwidth": 2,
            "linecolor": "white",
            "showbackground": true,
            "ticks": "",
            "zerolinecolor": "white"
           },
           "zaxis": {
            "backgroundcolor": "#E5ECF6",
            "gridcolor": "white",
            "gridwidth": 2,
            "linecolor": "white",
            "showbackground": true,
            "ticks": "",
            "zerolinecolor": "white"
           }
          },
          "shapedefaults": {
           "line": {
            "color": "#2a3f5f"
           }
          },
          "ternary": {
           "aaxis": {
            "gridcolor": "white",
            "linecolor": "white",
            "ticks": ""
           },
           "baxis": {
            "gridcolor": "white",
            "linecolor": "white",
            "ticks": ""
           },
           "bgcolor": "#E5ECF6",
           "caxis": {
            "gridcolor": "white",
            "linecolor": "white",
            "ticks": ""
           }
          },
          "title": {
           "x": 0.05
          },
          "xaxis": {
           "automargin": true,
           "gridcolor": "white",
           "linecolor": "white",
           "ticks": "",
           "title": {
            "standoff": 15
           },
           "zerolinecolor": "white",
           "zerolinewidth": 2
          },
          "yaxis": {
           "automargin": true,
           "gridcolor": "white",
           "linecolor": "white",
           "ticks": "",
           "title": {
            "standoff": 15
           },
           "zerolinecolor": "white",
           "zerolinewidth": 2
          }
         }
        },
        "title": {
         "text": "Population Pyramid for Brazil Over 1990-2020"
        },
        "xaxis": {
         "title": {
          "text": "Population"
         }
        },
        "yaxis": {
         "title": {
          "text": "Age Groups"
         }
        }
       }
      },
      "text/html": [
       "<div>            <script src=\"https://cdnjs.cloudflare.com/ajax/libs/mathjax/2.7.5/MathJax.js?config=TeX-AMS-MML_SVG\"></script><script type=\"text/javascript\">if (window.MathJax && window.MathJax.Hub && window.MathJax.Hub.Config) {window.MathJax.Hub.Config({SVG: {font: \"STIX-Web\"}});}</script>                <script type=\"text/javascript\">window.PlotlyConfig = {MathJaxConfig: 'local'};</script>\n",
       "        <script charset=\"utf-8\" src=\"https://cdn.plot.ly/plotly-3.0.0.min.js\"></script>                <div id=\"567de594-448b-4271-921f-ed71c0d49765\" class=\"plotly-graph-div\" style=\"height:525px; width:100%;\"></div>            <script type=\"text/javascript\">                window.PLOTLYENV=window.PLOTLYENV || {};                                if (document.getElementById(\"567de594-448b-4271-921f-ed71c0d49765\")) {                    Plotly.newPlot(                        \"567de594-448b-4271-921f-ed71c0d49765\",                        [{\"hoverinfo\":\"skip\",\"name\":\"Men 1990\",\"opacity\":0.5,\"orientation\":\"h\",\"x\":{\"dtype\":\"f8\",\"bdata\":\"AAAAAF50YUEAAABgnIphQQAAAAAPJmBBAAAAgNHWXEEAAABAJHdaQQAAAEAVE1lBAAAAgETfVUEAAABAtj9SQQAAAIAt\\u002f0xBAAAAgNSRR0EAAACABXhDQQAAAACJjD9BAAAAAFN9OUEAAAAAKlwyQQAAAABYeCdBAAAAAJDZG0EAAAAATJsTQQ==\"},\"y\":[\"0-4\",\"5-9\",\"10-14\",\"15-19\",\"20-24\",\"25-29\",\"30-34\",\"35-39\",\"40-44\",\"45-49\",\"50-54\",\"55-59\",\"60-64\",\"65-69\",\"70-74\",\"75-79\",\"80+\"],\"type\":\"bar\"},{\"hoverinfo\":\"skip\",\"name\":\"Women 1990\",\"opacity\":0.5,\"orientation\":\"h\",\"x\":{\"dtype\":\"f8\",\"bdata\":\"AAAAYJ3jYMEAAABgFxRhwQAAAAClsV\\u002fBAAAAQLp0XMEAAAAAx0dawQAAAIBtC1nBAAAAgLj0VcEAAABAH3JSwQAAAADlW03BAAAAgH4sR8EAAAAAvgpEwQAAAAChxUHBAAAAAMrCPcEAAAAAP6c1wQAAAACGlyzBAAAAAK77IcEAAAAAlIEbwQ==\"},\"y\":[\"0-4\",\"5-9\",\"10-14\",\"15-19\",\"20-24\",\"25-29\",\"30-34\",\"35-39\",\"40-44\",\"45-49\",\"50-54\",\"55-59\",\"60-64\",\"65-69\",\"70-74\",\"75-79\",\"80+\"],\"type\":\"bar\"},{\"hoverinfo\":\"skip\",\"name\":\"Men 2000\",\"opacity\":0.5,\"orientation\":\"h\",\"x\":{\"dtype\":\"f8\",\"bdata\":\"AAAAoImxYEEAAADAxYpgQQAAAMD3KGFBAAAAINpRYUEAAACAEptfQQAAAMDM81tBAAAAQI6SWUEAAADAYS9YQQAAAMBi9lRBAAAAwKpEUUEAAACAttlKQQAAAIB6EEVBAAAAgERsQEEAAAAAfVM4QQAAAAC6GDFBAAAAAKLSI0EAAAAA3BwdQQ==\"},\"y\":[\"0-4\",\"5-9\",\"10-14\",\"15-19\",\"20-24\",\"25-29\",\"30-34\",\"35-39\",\"40-44\",\"45-49\",\"50-54\",\"55-59\",\"60-64\",\"65-69\",\"70-74\",\"75-79\",\"80+\"],\"type\":\"bar\"},{\"hoverinfo\":\"skip\",\"name\":\"Women 2000\",\"opacity\":0.5,\"orientation\":\"h\",\"x\":{\"dtype\":\"f8\",\"bdata\":\"AAAAIPwYYMEAAADAYAJgwQAAAMAUr2DBAAAAYH71YMEAAACAOlpfwQAAAIDJAFzBAAAAwCHKWcEAAAAAeYlYwQAAAAC8bVXBAAAAgH\\u002feUcEAAACAVBZMwQAAAIAwvEXBAAAAgJoqQsEAAAAA8Fc+wQAAAABD5TbBAAAAAAD3K8EAAAAA0v0lwQ==\"},\"y\":[\"0-4\",\"5-9\",\"10-14\",\"15-19\",\"20-24\",\"25-29\",\"30-34\",\"35-39\",\"40-44\",\"45-49\",\"50-54\",\"55-59\",\"60-64\",\"65-69\",\"70-74\",\"75-79\",\"80+\"],\"type\":\"bar\"},{\"hoverinfo\":\"skip\",\"name\":\"Men 2020\",\"opacity\":0.5,\"orientation\":\"h\",\"x\":{\"dtype\":\"f8\",\"bdata\":\"AAAAwChjW0EAAAAAshJcQQAAAIAozFxBAAAAwCyOXkEAAABgIBFgQQAAAMBjRl9BAAAAwGL8X0EAAAAgDwZgQQAAAIBDJF1BAAAAwNucWUEAAAAAEw1XQQAAAMB2MFVBAAAAwNhyUUEAAAAAcnpKQQAAAICbOkJBAAAAAKB9N0EAAAAAI5U1QQ==\"},\"y\":[\"0-4\",\"5-9\",\"10-14\",\"15-19\",\"20-24\",\"25-29\",\"30-34\",\"35-39\",\"40-44\",\"45-49\",\"50-54\",\"55-59\",\"60-64\",\"65-69\",\"70-74\",\"75-79\",\"80+\"],\"type\":\"bar\"},{\"hoverinfo\":\"skip\",\"name\":\"Women 2020\",\"opacity\":0.5,\"orientation\":\"h\",\"x\":{\"dtype\":\"f8\",\"bdata\":\"AAAAAIFLWsEAAADAXfhawQAAAIAbslvBAAAAgAyEXcEAAADAzmxfwQAAAEA\\u002f817BAAAAoIUFYMEAAADgzEJgwQAAAIDdBV7BAAAAwCa6WsEAAAAANWpYwQAAAIDv4FbBAAAAAGVqU8EAAAAA7OJOwQAAAADzf0bBAAAAAERPPsEAAACAhgVBwQ==\"},\"y\":[\"0-4\",\"5-9\",\"10-14\",\"15-19\",\"20-24\",\"25-29\",\"30-34\",\"35-39\",\"40-44\",\"45-49\",\"50-54\",\"55-59\",\"60-64\",\"65-69\",\"70-74\",\"75-79\",\"80+\"],\"type\":\"bar\"}],                        {\"bargap\":0.1,\"barmode\":\"overlay\",\"template\":{\"data\":{\"barpolar\":[{\"marker\":{\"line\":{\"color\":\"#E5ECF6\",\"width\":0.5},\"pattern\":{\"fillmode\":\"overlay\",\"size\":10,\"solidity\":0.2}},\"type\":\"barpolar\"}],\"bar\":[{\"error_x\":{\"color\":\"#2a3f5f\"},\"error_y\":{\"color\":\"#2a3f5f\"},\"marker\":{\"line\":{\"color\":\"#E5ECF6\",\"width\":0.5},\"pattern\":{\"fillmode\":\"overlay\",\"size\":10,\"solidity\":0.2}},\"type\":\"bar\"}],\"carpet\":[{\"aaxis\":{\"endlinecolor\":\"#2a3f5f\",\"gridcolor\":\"white\",\"linecolor\":\"white\",\"minorgridcolor\":\"white\",\"startlinecolor\":\"#2a3f5f\"},\"baxis\":{\"endlinecolor\":\"#2a3f5f\",\"gridcolor\":\"white\",\"linecolor\":\"white\",\"minorgridcolor\":\"white\",\"startlinecolor\":\"#2a3f5f\"},\"type\":\"carpet\"}],\"choropleth\":[{\"colorbar\":{\"outlinewidth\":0,\"ticks\":\"\"},\"type\":\"choropleth\"}],\"contourcarpet\":[{\"colorbar\":{\"outlinewidth\":0,\"ticks\":\"\"},\"type\":\"contourcarpet\"}],\"contour\":[{\"colorbar\":{\"outlinewidth\":0,\"ticks\":\"\"},\"colorscale\":[[0.0,\"#0d0887\"],[0.1111111111111111,\"#46039f\"],[0.2222222222222222,\"#7201a8\"],[0.3333333333333333,\"#9c179e\"],[0.4444444444444444,\"#bd3786\"],[0.5555555555555556,\"#d8576b\"],[0.6666666666666666,\"#ed7953\"],[0.7777777777777778,\"#fb9f3a\"],[0.8888888888888888,\"#fdca26\"],[1.0,\"#f0f921\"]],\"type\":\"contour\"}],\"heatmap\":[{\"colorbar\":{\"outlinewidth\":0,\"ticks\":\"\"},\"colorscale\":[[0.0,\"#0d0887\"],[0.1111111111111111,\"#46039f\"],[0.2222222222222222,\"#7201a8\"],[0.3333333333333333,\"#9c179e\"],[0.4444444444444444,\"#bd3786\"],[0.5555555555555556,\"#d8576b\"],[0.6666666666666666,\"#ed7953\"],[0.7777777777777778,\"#fb9f3a\"],[0.8888888888888888,\"#fdca26\"],[1.0,\"#f0f921\"]],\"type\":\"heatmap\"}],\"histogram2dcontour\":[{\"colorbar\":{\"outlinewidth\":0,\"ticks\":\"\"},\"colorscale\":[[0.0,\"#0d0887\"],[0.1111111111111111,\"#46039f\"],[0.2222222222222222,\"#7201a8\"],[0.3333333333333333,\"#9c179e\"],[0.4444444444444444,\"#bd3786\"],[0.5555555555555556,\"#d8576b\"],[0.6666666666666666,\"#ed7953\"],[0.7777777777777778,\"#fb9f3a\"],[0.8888888888888888,\"#fdca26\"],[1.0,\"#f0f921\"]],\"type\":\"histogram2dcontour\"}],\"histogram2d\":[{\"colorbar\":{\"outlinewidth\":0,\"ticks\":\"\"},\"colorscale\":[[0.0,\"#0d0887\"],[0.1111111111111111,\"#46039f\"],[0.2222222222222222,\"#7201a8\"],[0.3333333333333333,\"#9c179e\"],[0.4444444444444444,\"#bd3786\"],[0.5555555555555556,\"#d8576b\"],[0.6666666666666666,\"#ed7953\"],[0.7777777777777778,\"#fb9f3a\"],[0.8888888888888888,\"#fdca26\"],[1.0,\"#f0f921\"]],\"type\":\"histogram2d\"}],\"histogram\":[{\"marker\":{\"pattern\":{\"fillmode\":\"overlay\",\"size\":10,\"solidity\":0.2}},\"type\":\"histogram\"}],\"mesh3d\":[{\"colorbar\":{\"outlinewidth\":0,\"ticks\":\"\"},\"type\":\"mesh3d\"}],\"parcoords\":[{\"line\":{\"colorbar\":{\"outlinewidth\":0,\"ticks\":\"\"}},\"type\":\"parcoords\"}],\"pie\":[{\"automargin\":true,\"type\":\"pie\"}],\"scatter3d\":[{\"line\":{\"colorbar\":{\"outlinewidth\":0,\"ticks\":\"\"}},\"marker\":{\"colorbar\":{\"outlinewidth\":0,\"ticks\":\"\"}},\"type\":\"scatter3d\"}],\"scattercarpet\":[{\"marker\":{\"colorbar\":{\"outlinewidth\":0,\"ticks\":\"\"}},\"type\":\"scattercarpet\"}],\"scattergeo\":[{\"marker\":{\"colorbar\":{\"outlinewidth\":0,\"ticks\":\"\"}},\"type\":\"scattergeo\"}],\"scattergl\":[{\"marker\":{\"colorbar\":{\"outlinewidth\":0,\"ticks\":\"\"}},\"type\":\"scattergl\"}],\"scattermapbox\":[{\"marker\":{\"colorbar\":{\"outlinewidth\":0,\"ticks\":\"\"}},\"type\":\"scattermapbox\"}],\"scattermap\":[{\"marker\":{\"colorbar\":{\"outlinewidth\":0,\"ticks\":\"\"}},\"type\":\"scattermap\"}],\"scatterpolargl\":[{\"marker\":{\"colorbar\":{\"outlinewidth\":0,\"ticks\":\"\"}},\"type\":\"scatterpolargl\"}],\"scatterpolar\":[{\"marker\":{\"colorbar\":{\"outlinewidth\":0,\"ticks\":\"\"}},\"type\":\"scatterpolar\"}],\"scatter\":[{\"fillpattern\":{\"fillmode\":\"overlay\",\"size\":10,\"solidity\":0.2},\"type\":\"scatter\"}],\"scatterternary\":[{\"marker\":{\"colorbar\":{\"outlinewidth\":0,\"ticks\":\"\"}},\"type\":\"scatterternary\"}],\"surface\":[{\"colorbar\":{\"outlinewidth\":0,\"ticks\":\"\"},\"colorscale\":[[0.0,\"#0d0887\"],[0.1111111111111111,\"#46039f\"],[0.2222222222222222,\"#7201a8\"],[0.3333333333333333,\"#9c179e\"],[0.4444444444444444,\"#bd3786\"],[0.5555555555555556,\"#d8576b\"],[0.6666666666666666,\"#ed7953\"],[0.7777777777777778,\"#fb9f3a\"],[0.8888888888888888,\"#fdca26\"],[1.0,\"#f0f921\"]],\"type\":\"surface\"}],\"table\":[{\"cells\":{\"fill\":{\"color\":\"#EBF0F8\"},\"line\":{\"color\":\"white\"}},\"header\":{\"fill\":{\"color\":\"#C8D4E3\"},\"line\":{\"color\":\"white\"}},\"type\":\"table\"}]},\"layout\":{\"annotationdefaults\":{\"arrowcolor\":\"#2a3f5f\",\"arrowhead\":0,\"arrowwidth\":1},\"autotypenumbers\":\"strict\",\"coloraxis\":{\"colorbar\":{\"outlinewidth\":0,\"ticks\":\"\"}},\"colorscale\":{\"diverging\":[[0,\"#8e0152\"],[0.1,\"#c51b7d\"],[0.2,\"#de77ae\"],[0.3,\"#f1b6da\"],[0.4,\"#fde0ef\"],[0.5,\"#f7f7f7\"],[0.6,\"#e6f5d0\"],[0.7,\"#b8e186\"],[0.8,\"#7fbc41\"],[0.9,\"#4d9221\"],[1,\"#276419\"]],\"sequential\":[[0.0,\"#0d0887\"],[0.1111111111111111,\"#46039f\"],[0.2222222222222222,\"#7201a8\"],[0.3333333333333333,\"#9c179e\"],[0.4444444444444444,\"#bd3786\"],[0.5555555555555556,\"#d8576b\"],[0.6666666666666666,\"#ed7953\"],[0.7777777777777778,\"#fb9f3a\"],[0.8888888888888888,\"#fdca26\"],[1.0,\"#f0f921\"]],\"sequentialminus\":[[0.0,\"#0d0887\"],[0.1111111111111111,\"#46039f\"],[0.2222222222222222,\"#7201a8\"],[0.3333333333333333,\"#9c179e\"],[0.4444444444444444,\"#bd3786\"],[0.5555555555555556,\"#d8576b\"],[0.6666666666666666,\"#ed7953\"],[0.7777777777777778,\"#fb9f3a\"],[0.8888888888888888,\"#fdca26\"],[1.0,\"#f0f921\"]]},\"colorway\":[\"#636efa\",\"#EF553B\",\"#00cc96\",\"#ab63fa\",\"#FFA15A\",\"#19d3f3\",\"#FF6692\",\"#B6E880\",\"#FF97FF\",\"#FECB52\"],\"font\":{\"color\":\"#2a3f5f\"},\"geo\":{\"bgcolor\":\"white\",\"lakecolor\":\"white\",\"landcolor\":\"#E5ECF6\",\"showlakes\":true,\"showland\":true,\"subunitcolor\":\"white\"},\"hoverlabel\":{\"align\":\"left\"},\"hovermode\":\"closest\",\"mapbox\":{\"style\":\"light\"},\"paper_bgcolor\":\"white\",\"plot_bgcolor\":\"#E5ECF6\",\"polar\":{\"angularaxis\":{\"gridcolor\":\"white\",\"linecolor\":\"white\",\"ticks\":\"\"},\"bgcolor\":\"#E5ECF6\",\"radialaxis\":{\"gridcolor\":\"white\",\"linecolor\":\"white\",\"ticks\":\"\"}},\"scene\":{\"xaxis\":{\"backgroundcolor\":\"#E5ECF6\",\"gridcolor\":\"white\",\"gridwidth\":2,\"linecolor\":\"white\",\"showbackground\":true,\"ticks\":\"\",\"zerolinecolor\":\"white\"},\"yaxis\":{\"backgroundcolor\":\"#E5ECF6\",\"gridcolor\":\"white\",\"gridwidth\":2,\"linecolor\":\"white\",\"showbackground\":true,\"ticks\":\"\",\"zerolinecolor\":\"white\"},\"zaxis\":{\"backgroundcolor\":\"#E5ECF6\",\"gridcolor\":\"white\",\"gridwidth\":2,\"linecolor\":\"white\",\"showbackground\":true,\"ticks\":\"\",\"zerolinecolor\":\"white\"}},\"shapedefaults\":{\"line\":{\"color\":\"#2a3f5f\"}},\"ternary\":{\"aaxis\":{\"gridcolor\":\"white\",\"linecolor\":\"white\",\"ticks\":\"\"},\"baxis\":{\"gridcolor\":\"white\",\"linecolor\":\"white\",\"ticks\":\"\"},\"bgcolor\":\"#E5ECF6\",\"caxis\":{\"gridcolor\":\"white\",\"linecolor\":\"white\",\"ticks\":\"\"}},\"title\":{\"x\":0.05},\"xaxis\":{\"automargin\":true,\"gridcolor\":\"white\",\"linecolor\":\"white\",\"ticks\":\"\",\"title\":{\"standoff\":15},\"zerolinecolor\":\"white\",\"zerolinewidth\":2},\"yaxis\":{\"automargin\":true,\"gridcolor\":\"white\",\"linecolor\":\"white\",\"ticks\":\"\",\"title\":{\"standoff\":15},\"zerolinecolor\":\"white\",\"zerolinewidth\":2}}},\"title\":{\"text\":\"Population Pyramid for Brazil Over 1990-2020\"},\"xaxis\":{\"title\":{\"text\":\"Population\"}},\"yaxis\":{\"title\":{\"text\":\"Age Groups\"}}},                        {\"responsive\": true}                    ).then(function(){\n",
       "                            \n",
       "var gd = document.getElementById('567de594-448b-4271-921f-ed71c0d49765');\n",
       "var x = new MutationObserver(function (mutations, observer) {{\n",
       "        var display = window.getComputedStyle(gd).display;\n",
       "        if (!display || display === 'none') {{\n",
       "            console.log([gd, 'removed!']);\n",
       "            Plotly.purge(gd);\n",
       "            observer.disconnect();\n",
       "        }}\n",
       "}});\n",
       "\n",
       "// Listen for the removal of the full notebook cells\n",
       "var notebookContainer = gd.closest('#notebook-container');\n",
       "if (notebookContainer) {{\n",
       "    x.observe(notebookContainer, {childList: true});\n",
       "}}\n",
       "\n",
       "// Listen for the clearing of the current output cell\n",
       "var outputEl = gd.closest('.output');\n",
       "if (outputEl) {{\n",
       "    x.observe(outputEl, {childList: true});\n",
       "}}\n",
       "\n",
       "                        })                };            </script>        </div>"
      ]
     },
     "metadata": {},
     "output_type": "display_data"
    }
   ],
   "source": [
    "overlay_population_pyramid([1990, 2000, 2020], 'Brazil')"
   ]
  },
  {
   "cell_type": "markdown",
   "id": "35789a5a-34ad-4894-a1ae-b394d454c744",
   "metadata": {},
   "source": [
    "## [C] Animated Population Pyramid"
   ]
  },
  {
   "cell_type": "code",
   "execution_count": 43,
   "id": "f04416e6-f55a-4832-854c-7d95a9ca41e3",
   "metadata": {},
   "outputs": [],
   "source": [
    "def animated_population_pyramid(years, country):\n",
    "    # Initialize a list to hold frames\n",
    "    frames = []\n",
    "    #Turn years into a ranged list\n",
    "    range_years = range(years[0], years[-1]+1)\n",
    "    # Loop through each year in the specified range\n",
    "    for year in range_years:\n",
    "        # Fetch population data for the current year\n",
    "        data = pop_df(year, 'both', country)\n",
    "        \n",
    "        # Prepare data for the pyramid\n",
    "        y_age = data['Ages']\n",
    "        x_male = data['Male']\n",
    "        x_female = -data['Female']  # Negative for left side of pyramid\n",
    "    \n",
    "        # Create a bar trace for males\n",
    "        male_trace = go.Bar(\n",
    "            y=y_age,\n",
    "            x=x_male,\n",
    "            name='Male',\n",
    "            orientation='h',\n",
    "            marker=dict(color='blue'),\n",
    "            opacity=0.6  # Set opacity for male bars\n",
    "        )\n",
    "\n",
    "        # Create a bar trace for females\n",
    "        female_trace = go.Bar(\n",
    "            y=y_age,\n",
    "            x=x_female,\n",
    "            name='Female',\n",
    "            orientation='h',\n",
    "            marker=dict(color='red'),\n",
    "            opacity=0.6  # Set opacity for female bars\n",
    "        )\n",
    "\n",
    "        # Append the frame for the current year\n",
    "        frames.append(go.Frame(data=[male_trace, female_trace], name=str(year)))\n",
    "\n",
    "    # Determine the maximum population for setting x-axis limits\n",
    "    max_population = max(data['Male'].max(), data['Female'].max())\n",
    "\n",
    "    # Create the initial figure layout\n",
    "    fig = go.Figure(\n",
    "        data=frames[0].data,\n",
    "        layout=go.Layout(\n",
    "            title=f'Animated Population Pyramid of {country.capitalize()} ({years[0]}-{years[-1]})',\n",
    "            barmode='overlay',\n",
    "            bargap=0.1,\n",
    "            xaxis=dict(\n",
    "                title='Population',\n",
    "                tickmode='auto',\n",
    "                nticks=8,\n",
    "                range=[-max_population * 1.1, max_population * 1.1]\n",
    "            ),\n",
    "            yaxis=dict(\n",
    "                title='Age Group',\n",
    "                categoryorder='array',\n",
    "                categoryarray=y_age\n",
    "            ),\n",
    "            updatemenus=[{\n",
    "                'buttons': [\n",
    "                    {\n",
    "                        'args': [None, {'frame': {'duration': 500, 'redraw': True}, 'fromcurrent': True}],\n",
    "                        'label': 'Play',\n",
    "                        'method': 'animate'\n",
    "                    },\n",
    "                    {\n",
    "                        'args': [[None], {'frame': {'duration': 0, 'redraw': True}, 'mode': 'immediate', 'transition': {'duration': 0}}],\n",
    "                        'label': 'Pause',\n",
    "                        'method': 'animate'\n",
    "                    }\n",
    "                ],\n",
    "                'direction': 'left',\n",
    "                'pad': {'r': 10, 't': 87},\n",
    "                'showactive': False,\n",
    "                'type': 'buttons',\n",
    "                'x': 0.1,\n",
    "                'xanchor': 'right',\n",
    "                'y': 0,\n",
    "                'yanchor': 'top'\n",
    "            }]\n",
    "        ),\n",
    "        frames=frames\n",
    "    )\n",
    "\n",
    "    # Update layout for sliders\n",
    "    fig.update_layout(\n",
    "        sliders=[{\n",
    "            'active': 0,\n",
    "            'yanchor': 'top',\n",
    "            'xanchor': 'left',\n",
    "            'currentvalue': {\n",
    "                'font': {'size': 20},\n",
    "                'prefix': 'Year:',\n",
    "                'visible': True,\n",
    "                'xanchor': 'right'\n",
    "            },\n",
    "            'transition': {'duration': 300, 'easing': 'cubic-in-out'},\n",
    "            'pad': {'b': 10, 't': 50},\n",
    "            'len': 0.9,\n",
    "            'x': 0.1,\n",
    "            'y': 0,\n",
    "            'steps': [{\n",
    "                'args': [[str(year)], {'frame': {'duration': 300, 'redraw': True}, 'mode': 'immediate', 'transition': {'duration': 300}}],\n",
    "                'label': str(year),\n",
    "                'method': 'animate'\n",
    "            } for year in range_years]\n",
    "        }]\n",
    "    )\n",
    "\n",
    "    # Show the figure\n",
    "    fig.show()"
   ]
  },
  {
   "cell_type": "code",
   "execution_count": 58,
   "id": "d0117851-8b76-4b6b-a5e8-83b721b56d6e",
   "metadata": {},
   "outputs": [
    {
     "data": {
      "application/vnd.plotly.v1+json": {
       "config": {
        "plotlyServerURL": "https://plot.ly"
       },
       "data": [
        {
         "marker": {
          "color": "blue"
         },
         "name": "Male",
         "opacity": 0.6,
         "orientation": "h",
         "type": "bar",
         "x": {
          "bdata": "AAAAgO2bYkEAAADgF4VhQQAAACBxemBBAAAAQIniYEEAAAAAzqRiQQAAAGA8LmVBAAAAQF9gZUEAAABgY2VjQQAAAODYKWFBAAAAQCiXWkEAAAAAwCtVQQAAAEBOdFNBAAAAgHzMUkEAAABATt9QQQAAAIDg/ElBAAAAgPTSQUEAAACA+9xAQQ==",
          "dtype": "f8"
         },
         "y": [
          "0-4",
          "5-9",
          "10-14",
          "15-19",
          "20-24",
          "25-29",
          "30-34",
          "35-39",
          "40-44",
          "45-49",
          "50-54",
          "55-59",
          "60-64",
          "65-69",
          "70-74",
          "75-79",
          "80+"
         ]
        },
        {
         "marker": {
          "color": "red"
         },
         "name": "Female",
         "opacity": 0.6,
         "orientation": "h",
         "type": "bar",
         "x": {
          "bdata": "AAAAwP7IYcEAAACAwLdgwQAAAAB/N1/BAAAAgLC8X8EAAADAE59hwQAAAEBbTWTBAAAAQIL3ZMEAAACAOEljwQAAAADCN2HBAAAAQP86W8EAAADAhVhWwQAAAIA4/VTBAAAAwM86VcEAAADAkaVUwQAAAIDAWFHBAAAAAJuSS8EAAACADi9SwQ==",
          "dtype": "f8"
         },
         "y": [
          "0-4",
          "5-9",
          "10-14",
          "15-19",
          "20-24",
          "25-29",
          "30-34",
          "35-39",
          "40-44",
          "45-49",
          "50-54",
          "55-59",
          "60-64",
          "65-69",
          "70-74",
          "75-79",
          "80+"
         ]
        }
       ],
       "frames": [
        {
         "data": [
          {
           "marker": {
            "color": "blue"
           },
           "name": "Male",
           "opacity": 0.6,
           "orientation": "h",
           "type": "bar",
           "x": {
            "bdata": "AAAAgO2bYkEAAADgF4VhQQAAACBxemBBAAAAQIniYEEAAAAAzqRiQQAAAGA8LmVBAAAAQF9gZUEAAABgY2VjQQAAAODYKWFBAAAAQCiXWkEAAAAAwCtVQQAAAEBOdFNBAAAAgHzMUkEAAABATt9QQQAAAIDg/ElBAAAAgPTSQUEAAACA+9xAQQ==",
            "dtype": "f8"
           },
           "y": [
            "0-4",
            "5-9",
            "10-14",
            "15-19",
            "20-24",
            "25-29",
            "30-34",
            "35-39",
            "40-44",
            "45-49",
            "50-54",
            "55-59",
            "60-64",
            "65-69",
            "70-74",
            "75-79",
            "80+"
           ]
          },
          {
           "marker": {
            "color": "red"
           },
           "name": "Female",
           "opacity": 0.6,
           "orientation": "h",
           "type": "bar",
           "x": {
            "bdata": "AAAAwP7IYcEAAACAwLdgwQAAAAB/N1/BAAAAgLC8X8EAAADAE59hwQAAAEBbTWTBAAAAQIL3ZMEAAACAOEljwQAAAADCN2HBAAAAQP86W8EAAADAhVhWwQAAAIA4/VTBAAAAwM86VcEAAADAkaVUwQAAAIDAWFHBAAAAAJuSS8EAAACADi9SwQ==",
            "dtype": "f8"
           },
           "y": [
            "0-4",
            "5-9",
            "10-14",
            "15-19",
            "20-24",
            "25-29",
            "30-34",
            "35-39",
            "40-44",
            "45-49",
            "50-54",
            "55-59",
            "60-64",
            "65-69",
            "70-74",
            "75-79",
            "80+"
           ]
          }
         ],
         "name": "1990"
        },
        {
         "data": [
          {
           "marker": {
            "color": "blue"
           },
           "name": "Male",
           "opacity": 0.6,
           "orientation": "h",
           "type": "bar",
           "x": {
            "bdata": "AAAAoK3pYkEAAABgkrVhQQAAAGBxCmFBAAAAYCmfYEEAAACAgcNiQQAAAKBP3WRBAAAA4Jy+ZUEAAADADPBjQQAAAEAnumFBAAAAQCAKXEEAAADACZ5VQQAAAEArf1NBAAAAQOrGUkEAAACAR+VQQQAAAACAs0pBAAAAAHQwQkEAAACAyIFBQQ==",
            "dtype": "f8"
           },
           "y": [
            "0-4",
            "5-9",
            "10-14",
            "15-19",
            "20-24",
            "25-29",
            "30-34",
            "35-39",
            "40-44",
            "45-49",
            "50-54",
            "55-59",
            "60-64",
            "65-69",
            "70-74",
            "75-79",
            "80+"
           ]
          },
          {
           "marker": {
            "color": "red"
           },
           "name": "Female",
           "opacity": 0.6,
           "orientation": "h",
           "type": "bar",
           "x": {
            "bdata": "AAAAgM0UYsEAAABACeJgwQAAAIAmH2DBAAAAAPMrX8EAAACAUqhhwQAAACC96mPBAAAAIHokZcEAAACgFtVjwQAAAKAbxGHBAAAAAMFyXMEAAACAt+dWwQAAAABC81TBAAAAwL39VMEAAABANqVUwQAAAABSs1HBAAAAgKcETMEAAACAqcBSwQ==",
            "dtype": "f8"
           },
           "y": [
            "0-4",
            "5-9",
            "10-14",
            "15-19",
            "20-24",
            "25-29",
            "30-34",
            "35-39",
            "40-44",
            "45-49",
            "50-54",
            "55-59",
            "60-64",
            "65-69",
            "70-74",
            "75-79",
            "80+"
           ]
          }
         ],
         "name": "1991"
        },
        {
         "data": [
          {
           "marker": {
            "color": "blue"
           },
           "name": "Male",
           "opacity": 0.6,
           "orientation": "h",
           "type": "bar",
           "x": {
            "bdata": "AAAAAEw5Y0EAAADAQ/FhQQAAAADajWFBAAAA4IirYEEAAABgCMtiQQAAAID+cGRBAAAAYDj8ZUEAAADAznZkQQAAAABcBGJBAAAAwEK/XUEAAAAAenxWQQAAAAD4slNBAAAAwD+tUkEAAABA9+xQQQAAAIB3ZEtBAAAAAFubQkEAAACA3CpCQQ==",
            "dtype": "f8"
           },
           "y": [
            "0-4",
            "5-9",
            "10-14",
            "15-19",
            "20-24",
            "25-29",
            "30-34",
            "35-39",
            "40-44",
            "45-49",
            "50-54",
            "55-59",
            "60-64",
            "65-69",
            "70-74",
            "75-79",
            "80+"
           ]
          },
          {
           "marker": {
            "color": "red"
           },
           "name": "Female",
           "opacity": 0.6,
           "orientation": "h",
           "type": "bar",
           "x": {
            "bdata": "AAAAgMJeYsEAAACgUhZhwQAAAADHl2DBAAAAgFs0X8EAAAAALaRhwQAAAMAZeGPBAAAA4OJCZcEAAAAgPVZkwQAAAOC5DmLBAAAAAAsNXsEAAADAT9pXwQAAAEAmBFXBAAAAwGnEVMEAAADArYpUwQAAAAC/G1LBAAAAAGxnTMEAAABAlVhTwQ==",
            "dtype": "f8"
           },
           "y": [
            "0-4",
            "5-9",
            "10-14",
            "15-19",
            "20-24",
            "25-29",
            "30-34",
            "35-39",
            "40-44",
            "45-49",
            "50-54",
            "55-59",
            "60-64",
            "65-69",
            "70-74",
            "75-79",
            "80+"
           ]
          }
         ],
         "name": "1992"
        },
        {
         "data": [
          {
           "marker": {
            "color": "blue"
           },
           "name": "Male",
           "opacity": 0.6,
           "orientation": "h",
           "type": "bar",
           "x": {
            "bdata": "AAAAQJJiY0EAAADg3TliQQAAAKDm/GFBAAAAICf+YEEAAAAg27NiQQAAAICJCWRBAAAAgLARZkEAAADgs/RkQQAAAKC2W2JBAAAAwJMzX0EAAABAeqdXQQAAAEDKB1RBAAAAQD6HUkEAAACA7PVQQQAAAACl7UtBAAAAAIEaQ0EAAAAABMlCQQ==",
            "dtype": "f8"
           },
           "y": [
            "0-4",
            "5-9",
            "10-14",
            "15-19",
            "20-24",
            "25-29",
            "30-34",
            "35-39",
            "40-44",
            "45-49",
            "50-54",
            "55-59",
            "60-64",
            "65-69",
            "70-74",
            "75-79",
            "80+"
           ]
          },
          {
           "marker": {
            "color": "red"
           },
           "name": "Female",
           "opacity": 0.6,
           "orientation": "h",
           "type": "bar",
           "x": {
            "bdata": "AAAA4P6CYsEAAADASVdhwQAAAOCp/GDBAAAAwOXCX8EAAAAARIVhwQAAAADRCGPBAAAAIGdCZcEAAABg0sRkwQAAAKCIYmLBAAAAAMh6X8EAAABADwpZwQAAAEDGQVXBAAAAQBSBVMEAAABAXWlUwQAAAICcZFLBAAAAgHHbTMEAAAAAtuhTwQ==",
            "dtype": "f8"
           },
           "y": [
            "0-4",
            "5-9",
            "10-14",
            "15-19",
            "20-24",
            "25-29",
            "30-34",
            "35-39",
            "40-44",
            "45-49",
            "50-54",
            "55-59",
            "60-64",
            "65-69",
            "70-74",
            "75-79",
            "80+"
           ]
          }
         ],
         "name": "1993"
        },
        {
         "data": [
          {
           "marker": {
            "color": "blue"
           },
           "name": "Male",
           "opacity": 0.6,
           "orientation": "h",
           "type": "bar",
           "x": {
            "bdata": "AAAAQCNgY0EAAABgWJViQQAAAEAUU2JBAAAA4B9pYUEAAADAMYhiQQAAACD0t2NBAAAAgI8LZkEAAAAAPl1lQQAAAKBn22JBAAAAwAhEYEEAAADAU+dYQQAAAID6T1RBAAAAwJJuUkEAAABA4PVQQQAAAIBFVUxBAAAAALqnQ0EAAAAASWBDQQ==",
            "dtype": "f8"
           },
           "y": [
            "0-4",
            "5-9",
            "10-14",
            "15-19",
            "20-24",
            "25-29",
            "30-34",
            "35-39",
            "40-44",
            "45-49",
            "50-54",
            "55-59",
            "60-64",
            "65-69",
            "70-74",
            "75-79",
            "80+"
           ]
          },
          {
           "marker": {
            "color": "red"
           },
           "name": "Female",
           "opacity": 0.6,
           "orientation": "h",
           "type": "bar",
           "x": {
            "bdata": "AAAAQK1+YsEAAADAZ6thwQAAAOAoSmHBAAAAYK1CYMEAAAAAfVNhwQAAAKAOrWLBAAAAgDIvZcEAAADgPRxlwQAAAEAf2GLBAAAAwCRsYMEAAADAfx1awQAAAECVmFXBAAAAgIBWVMEAAAAAaTZUwQAAAAB/lVLBAAAAAERgTcEAAAAAemlUwQ==",
            "dtype": "f8"
           },
           "y": [
            "0-4",
            "5-9",
            "10-14",
            "15-19",
            "20-24",
            "25-29",
            "30-34",
            "35-39",
            "40-44",
            "45-49",
            "50-54",
            "55-59",
            "60-64",
            "65-69",
            "70-74",
            "75-79",
            "80+"
           ]
          }
         ],
         "name": "1994"
        },
        {
         "data": [
          {
           "marker": {
            "color": "blue"
           },
           "name": "Male",
           "opacity": 0.6,
           "orientation": "h",
           "type": "bar",
           "x": {
            "bdata": "AAAA4C0yY0EAAAAgpv5iQQAAAADnlmJBAAAAQNfsYUEAAACAh0BiQQAAAMAKp2NBAAAAoDLgZUEAAAAgvLplQQAAAICVaWNBAAAAAHb/YEEAAACAUxNaQQAAAMAZhlRBAAAAwLZlUkEAAAAAQ/9QQQAAAIBbo0xBAAAAAFJAREEAAACAC/lDQQ==",
            "dtype": "f8"
           },
           "y": [
            "0-4",
            "5-9",
            "10-14",
            "15-19",
            "20-24",
            "25-29",
            "30-34",
            "35-39",
            "40-44",
            "45-49",
            "50-54",
            "55-59",
            "60-64",
            "65-69",
            "70-74",
            "75-79",
            "80+"
           ]
          },
          {
           "marker": {
            "color": "red"
           },
           "name": "Female",
           "opacity": 0.6,
           "orientation": "h",
           "type": "bar",
           "x": {
            "bdata": "AAAAAB1SYsEAAACg3wxiwQAAAGCohmHBAAAAYHy8YMEAAACg9gdhwQAAAACGjWLBAAAAgMH9ZMEAAACgXFtlwQAAAOA7ZGPBAAAAwIYsYcEAAADAJP5awQAAAEAs+FXBAAAAwOFJVMEAAABAPf5TwQAAAIDgv1LBAAAAANvbTcEAAAAA3+hUwQ==",
            "dtype": "f8"
           },
           "y": [
            "0-4",
            "5-9",
            "10-14",
            "15-19",
            "20-24",
            "25-29",
            "30-34",
            "35-39",
            "40-44",
            "45-49",
            "50-54",
            "55-59",
            "60-64",
            "65-69",
            "70-74",
            "75-79",
            "80+"
           ]
          }
         ],
         "name": "1995"
        },
        {
         "data": [
          {
           "marker": {
            "color": "blue"
           },
           "name": "Male",
           "opacity": 0.6,
           "orientation": "h",
           "type": "bar",
           "x": {
            "bdata": "AAAAwK3xYkEAAABANmVjQQAAAABo02JBAAAAIK97YkEAAADgqPthQQAAAGC6wmNBAAAAoHKHZUEAAACAthVmQQAAACB582NBAAAAoPmMYUEAAACALn5bQQAAAMCc9FRBAAAAACp2UkEAAADAeAdRQQAAAIB6w0xBAAAAgKjkREEAAACAOI5EQQ==",
            "dtype": "f8"
           },
           "y": [
            "0-4",
            "5-9",
            "10-14",
            "15-19",
            "20-24",
            "25-29",
            "30-34",
            "35-39",
            "40-44",
            "45-49",
            "50-54",
            "55-59",
            "60-64",
            "65-69",
            "70-74",
            "75-79",
            "80+"
           ]
          },
          {
           "marker": {
            "color": "red"
           },
           "name": "Female",
           "opacity": 0.6,
           "orientation": "h",
           "type": "bar",
           "x": {
            "bdata": "AAAAIM4TYsEAAACgPW1iwQAAACB3vGHBAAAA4E5AYcEAAACAB8BgwQAAAADHmWLBAAAAQFKdZMEAAADAR41lwQAAAEBa9GPBAAAAoKu7YcEAAACAUjZcwQAAAEDJiFbBAAAAQH9IVMEAAABAXM5TwQAAAMCExFLBAAAAAAN/TsEAAABABlpVwQ==",
            "dtype": "f8"
           },
           "y": [
            "0-4",
            "5-9",
            "10-14",
            "15-19",
            "20-24",
            "25-29",
            "30-34",
            "35-39",
            "40-44",
            "45-49",
            "50-54",
            "55-59",
            "60-64",
            "65-69",
            "70-74",
            "75-79",
            "80+"
           ]
          }
         ],
         "name": "1996"
        },
        {
         "data": [
          {
           "marker": {
            "color": "blue"
           },
           "name": "Male",
           "opacity": 0.6,
           "orientation": "h",
           "type": "bar",
           "x": {
            "bdata": "AAAAQM69YkEAAADgSrdjQQAAAIBUDmNBAAAAwEb9YkEAAACAuQViQQAAAOC4ymNBAAAAAL4eZUEAAAAg8VdmQQAAACBEfmRBAAAAIIvZYUEAAACAXzRdQQAAAIAF01VBAAAAAOiwUkEAAACAyvtQQQAAAIC65ExBAAAAAIyGRUEAAACAly5FQQ==",
            "dtype": "f8"
           },
           "y": [
            "0-4",
            "5-9",
            "10-14",
            "15-19",
            "20-24",
            "25-29",
            "30-34",
            "35-39",
            "40-44",
            "45-49",
            "50-54",
            "55-59",
            "60-64",
            "65-69",
            "70-74",
            "75-79",
            "80+"
           ]
          },
          {
           "marker": {
            "color": "red"
           },
           "name": "Female",
           "opacity": 0.6,
           "orientation": "h",
           "type": "bar",
           "x": {
            "bdata": "AAAAYGDiYcEAAACgGrpiwQAAACDp8GHBAAAAwBS4YcEAAADAacJgwQAAAABolWLBAAAAYE0rZMEAAACgfa5lwQAAAGDbeGTBAAAAwIsJYsEAAAAA6dRdwQAAAMAVfVfBAAAAwMxeVMEAAACAXp5TwQAAAACMsVLBAAAAgKA+T8EAAACAScdVwQ==",
            "dtype": "f8"
           },
           "y": [
            "0-4",
            "5-9",
            "10-14",
            "15-19",
            "20-24",
            "25-29",
            "30-34",
            "35-39",
            "40-44",
            "45-49",
            "50-54",
            "55-59",
            "60-64",
            "65-69",
            "70-74",
            "75-79",
            "80+"
           ]
          }
         ],
         "name": "1997"
        },
        {
         "data": [
          {
           "marker": {
            "color": "blue"
           },
           "name": "Male",
           "opacity": 0.6,
           "orientation": "h",
           "type": "bar",
           "x": {
            "bdata": "AAAAYBubYkEAAAAgZuNjQQAAACDZVmNBAAAA4FRrY0EAAAAA+VViQQAAAIDJsmNBAAAAwB26ZEEAAABAjnFmQQAAAKBFAGVBAAAAwCUzYkEAAAAAJKpeQQAAAEDz+1ZBAAAAgP8KU0EAAAAA5uJQQQAAAACGCk1BAAAAgBQJRkEAAAAALt5FQQ==",
            "dtype": "f8"
           },
           "y": [
            "0-4",
            "5-9",
            "10-14",
            "15-19",
            "20-24",
            "25-29",
            "30-34",
            "35-39",
            "40-44",
            "45-49",
            "50-54",
            "55-59",
            "60-64",
            "65-69",
            "70-74",
            "75-79",
            "80+"
           ]
          },
          {
           "marker": {
            "color": "red"
           },
           "name": "Female",
           "opacity": 0.6,
           "orientation": "h",
           "type": "bar",
           "x": {
            "bdata": "AAAAgNrCYcEAAADgOuFiwQAAAIBTMmLBAAAA4IAcYsEAAADg1AdhwQAAAEAcdWLBAAAA4FS7Y8EAAAAA4K5lwQAAAKBN6WTBAAAAIGdfYsEAAACAx0VfwQAAAMBJrFjBAAAAwBegVMEAAADAUmJTwQAAAAD5l1LBAAAAgNrGT8EAAACATTlWwQ==",
            "dtype": "f8"
           },
           "y": [
            "0-4",
            "5-9",
            "10-14",
            "15-19",
            "20-24",
            "25-29",
            "30-34",
            "35-39",
            "40-44",
            "45-49",
            "50-54",
            "55-59",
            "60-64",
            "65-69",
            "70-74",
            "75-79",
            "80+"
           ]
          }
         ],
         "name": "1998"
        },
        {
         "data": [
          {
           "marker": {
            "color": "blue"
           },
           "name": "Male",
           "opacity": 0.6,
           "orientation": "h",
           "type": "bar",
           "x": {
            "bdata": "AAAA4OCRYkEAAACgPuRjQQAAACCRtWNBAAAAgNjEY0EAAAAAtcNiQQAAAAC3iWNBAAAAYJxtZEEAAABAi3FmQQAAAEBlbmVBAAAAAMG1YkEAAACgDQBgQQAAAICgOVhBAAAAQLNZU0EAAACALtZQQQAAAIBrJU1BAAAAgD5uRkEAAACAi5ZGQQ==",
            "dtype": "f8"
           },
           "y": [
            "0-4",
            "5-9",
            "10-14",
            "15-19",
            "20-24",
            "25-29",
            "30-34",
            "35-39",
            "40-44",
            "45-49",
            "50-54",
            "55-59",
            "60-64",
            "65-69",
            "70-74",
            "75-79",
            "80+"
           ]
          },
          {
           "marker": {
            "color": "red"
           },
           "name": "Female",
           "opacity": 0.6,
           "orientation": "h",
           "type": "bar",
           "x": {
            "bdata": "AAAAoGC6YcEAAACgzN9iwQAAAMBfiWLBAAAAwLVsYsEAAACAGGthwQAAACCcRGLBAAAAwB9hY8EAAABgoJ1lwQAAAOAEQ2XBAAAAwNfWYsEAAACgQFNgwQAAAADvv1nBAAAAQBT6VMEAAAAAmzxTwQAAAIAHb1LBAAAAAJEQUMEAAACA4aRWwQ==",
            "dtype": "f8"
           },
           "y": [
            "0-4",
            "5-9",
            "10-14",
            "15-19",
            "20-24",
            "25-29",
            "30-34",
            "35-39",
            "40-44",
            "45-49",
            "50-54",
            "55-59",
            "60-64",
            "65-69",
            "70-74",
            "75-79",
            "80+"
           ]
          }
         ],
         "name": "1999"
        },
        {
         "data": [
          {
           "marker": {
            "color": "blue"
           },
           "name": "Male",
           "opacity": 0.6,
           "orientation": "h",
           "type": "bar",
           "x": {
            "bdata": "AAAAYHSjYkEAAADAvLZjQQAAAIAIIWRBAAAAoFoLZEEAAABgC0pjQQAAAMBdQ2NBAAAAoK1fZEEAAAAg/klmQQAAAMAtz2VBAAAAAH9EY0EAAADAS7lgQQAAAABzYFlBAAAAAG6UU0EAAADA1NZQQQAAAIAeT01BAAAAgJC7RkEAAACAK09HQQ==",
            "dtype": "f8"
           },
           "y": [
            "0-4",
            "5-9",
            "10-14",
            "15-19",
            "20-24",
            "25-29",
            "30-34",
            "35-39",
            "40-44",
            "45-49",
            "50-54",
            "55-59",
            "60-64",
            "65-69",
            "70-74",
            "75-79",
            "80+"
           ]
          },
          {
           "marker": {
            "color": "red"
           },
           "name": "Female",
           "opacity": 0.6,
           "orientation": "h",
           "type": "bar",
           "x": {
            "bdata": "AAAAQP7KYcEAAAAgOrNiwQAAAIBm7GLBAAAA4OqqYsEAAADAmOZhwQAAAAAG+WHBAAAAQOhBY8EAAAAg1WtlwQAAAKCngWXBAAAAQAJiY8EAAACgcRJhwQAAAADdnVrBAAAAQEpZVcEAAAAA8jBTwQAAAIDNP1LBAAAAQGE0UMEAAAAACgFXwQ==",
            "dtype": "f8"
           },
           "y": [
            "0-4",
            "5-9",
            "10-14",
            "15-19",
            "20-24",
            "25-29",
            "30-34",
            "35-39",
            "40-44",
            "45-49",
            "50-54",
            "55-59",
            "60-64",
            "65-69",
            "70-74",
            "75-79",
            "80+"
           ]
          }
         ],
         "name": "2000"
        },
        {
         "data": [
          {
           "marker": {
            "color": "blue"
           },
           "name": "Male",
           "opacity": 0.6,
           "orientation": "h",
           "type": "bar",
           "x": {
            "bdata": "AAAAIGLGYkEAAABAXG1jQQAAAED+fGRBAAAA4L06ZEEAAACgOc1jQQAAAGAP82JBAAAAwKtwZEEAAABgnOplQQAAAEAcJmZBAAAAQL7KY0EAAAAAlEJhQQAAAMAnwlpBAAAAQO0BVEEAAADAduxQQQAAAAB7b01BAAAAgEbgRkEAAACAkw5IQQ==",
            "dtype": "f8"
           },
           "y": [
            "0-4",
            "5-9",
            "10-14",
            "15-19",
            "20-24",
            "25-29",
            "30-34",
            "35-39",
            "40-44",
            "45-49",
            "50-54",
            "55-59",
            "60-64",
            "65-69",
            "70-74",
            "75-79",
            "80+"
           ]
          },
          {
           "marker": {
            "color": "red"
           },
           "name": "Female",
           "opacity": 0.6,
           "orientation": "h",
           "type": "bar",
           "x": {
            "bdata": "AAAAIGztYcEAAACAjG1iwQAAAKA8RGPBAAAA4LbVYsEAAADAS2JiwQAAAGBcqmHBAAAAgMtIY8EAAABAogdlwQAAAGDWsGXBAAAAIGHwY8EAAABA359hwQAAAMAT0VvBAAAAAHHmVcEAAABASzBTwQAAAMBtFVLBAAAAwFo2UMEAAADAiWNXwQ==",
            "dtype": "f8"
           },
           "y": [
            "0-4",
            "5-9",
            "10-14",
            "15-19",
            "20-24",
            "25-29",
            "30-34",
            "35-39",
            "40-44",
            "45-49",
            "50-54",
            "55-59",
            "60-64",
            "65-69",
            "70-74",
            "75-79",
            "80+"
           ]
          }
         ],
         "name": "2001"
        },
        {
         "data": [
          {
           "marker": {
            "color": "blue"
           },
           "name": "Male",
           "opacity": 0.6,
           "orientation": "h",
           "type": "bar",
           "x": {
            "bdata": "AAAA4LbuYkEAAACALipjQQAAAIAAuGRBAAAAoOBYZEEAAAAAbzRkQQAAAGAO5mJBAAAAQEVhZEEAAAAAyHFlQQAAAIAyXWZBAAAA4AdOZEEAAAAACophQQAAAEBDa1xBAAAAQLfXVEEAAAAAKCdRQQAAAIAsaE1BAAAAgCUCR0EAAAAAsc5IQQ==",
            "dtype": "f8"
           },
           "y": [
            "0-4",
            "5-9",
            "10-14",
            "15-19",
            "20-24",
            "25-29",
            "30-34",
            "35-39",
            "40-44",
            "45-49",
            "50-54",
            "55-59",
            "60-64",
            "65-69",
            "70-74",
            "75-79",
            "80+"
           ]
          },
          {
           "marker": {
            "color": "red"
           },
           "name": "Female",
           "opacity": 0.6,
           "orientation": "h",
           "type": "bar",
           "x": {
            "bdata": "AAAA4LYUYsEAAABgMjBiwQAAAKASf2PBAAAAAK7yYsEAAACAbMdiwQAAAOB7oGHBAAAAQBE6Y8EAAACgH5BkwQAAAMCyzmXBAAAAIGtzZMEAAACAi+1hwQAAAEAOal3BAAAAQLPUVsEAAACAW0hTwQAAAEBg6VHBAAAAQDAkUMEAAAAApc5XwQ==",
            "dtype": "f8"
           },
           "y": [
            "0-4",
            "5-9",
            "10-14",
            "15-19",
            "20-24",
            "25-29",
            "30-34",
            "35-39",
            "40-44",
            "45-49",
            "50-54",
            "55-59",
            "60-64",
            "65-69",
            "70-74",
            "75-79",
            "80+"
           ]
          }
         ],
         "name": "2002"
        },
        {
         "data": [
          {
           "marker": {
            "color": "blue"
           },
           "name": "Male",
           "opacity": 0.6,
           "orientation": "h",
           "type": "bar",
           "x": {
            "bdata": "AAAAwD8VY0EAAABgtftiQQAAAOBOy2RBAAAAAAaCZEEAAADA0YJkQQAAAOBTG2NBAAAAwMQuZEEAAADg4PhkQQAAAGDTZ2ZBAAAAgD7FZEEAAABA69thQQAAAECJ0V1BAAAAwLTwVUEAAACAfn1RQQAAAICmSE1BAAAAgNEqR0EAAACANIZJQQ==",
            "dtype": "f8"
           },
           "y": [
            "0-4",
            "5-9",
            "10-14",
            "15-19",
            "20-24",
            "25-29",
            "30-34",
            "35-39",
            "40-44",
            "45-49",
            "50-54",
            "55-59",
            "60-64",
            "65-69",
            "70-74",
            "75-79",
            "80+"
           ]
          },
          {
           "marker": {
            "color": "red"
           },
           "name": "Female",
           "opacity": 0.6,
           "orientation": "h",
           "type": "bar",
           "x": {
            "bdata": "AAAA4Pg4YsEAAABAzwdiwQAAAIDEkmPBAAAAQJMaY8EAAADgIRRjwQAAAOAF1mHBAAAAYJYMY8EAAADA9xdkwQAAAMDUyWXBAAAAgEHgZMEAAABgCkJiwQAAAEBg017BAAAAQLL5V8EAAADA0IhTwQAAAEACslHBAAAAAI8NUMEAAABAbi5YwQ==",
            "dtype": "f8"
           },
           "y": [
            "0-4",
            "5-9",
            "10-14",
            "15-19",
            "20-24",
            "25-29",
            "30-34",
            "35-39",
            "40-44",
            "45-49",
            "50-54",
            "55-59",
            "60-64",
            "65-69",
            "70-74",
            "75-79",
            "80+"
           ]
          }
         ],
         "name": "2003"
        },
        {
         "data": [
          {
           "marker": {
            "color": "blue"
           },
           "name": "Male",
           "opacity": 0.6,
           "orientation": "h",
           "type": "bar",
           "x": {
            "bdata": "AAAAgKY9Y0EAAAAgfO5iQQAAAOBYt2RBAAAAoE/EZEEAAADAfb1kQQAAAKC4bmNBAAAA4MftY0EAAACgoJlkQQAAAMCwW2ZBAAAAAEwrZUEAAABgE1hiQQAAAEDPG19BAAAAAN8fV0EAAAAAAM1RQQAAAID+Rk1BAAAAgJlZR0EAAACA20xKQQ==",
            "dtype": "f8"
           },
           "y": [
            "0-4",
            "5-9",
            "10-14",
            "15-19",
            "20-24",
            "25-29",
            "30-34",
            "35-39",
            "40-44",
            "45-49",
            "50-54",
            "55-59",
            "60-64",
            "65-69",
            "70-74",
            "75-79",
            "80+"
           ]
          },
          {
           "marker": {
            "color": "red"
           },
           "name": "Female",
           "opacity": 0.6,
           "orientation": "h",
           "type": "bar",
           "x": {
            "bdata": "AAAAgAlfYsEAAAAAgf1hwQAAAKC2gWPBAAAAIDZbY8EAAACA40xjwQAAAEC+KWLBAAAAQA/RYsEAAACgprdjwQAAAGDGtmXBAAAAIG05ZcEAAACgbbpiwQAAAMCxGGDBAAAAAEMHWcEAAADA6ORTwQAAAMA9lVHBAAAAgJ/iT8EAAAAAVJdYwQ==",
            "dtype": "f8"
           },
           "y": [
            "0-4",
            "5-9",
            "10-14",
            "15-19",
            "20-24",
            "25-29",
            "30-34",
            "35-39",
            "40-44",
            "45-49",
            "50-54",
            "55-59",
            "60-64",
            "65-69",
            "70-74",
            "75-79",
            "80+"
           ]
          }
         ],
         "name": "2004"
        },
        {
         "data": [
          {
           "marker": {
            "color": "blue"
           },
           "name": "Male",
           "opacity": 0.6,
           "orientation": "h",
           "type": "bar",
           "x": {
            "bdata": "AAAAYO9bY0EAAACAPANjQQAAAAA4eGRBAAAAwIQWZUEAAABAneVkQQAAAOAg2mNBAAAAoOaQY0EAAACgMnhkQQAAAAAGKWZBAAAAQNGEZUEAAAAgjuBiQQAAAACCQGBBAAAAAFs6WEEAAAAAlQtSQQAAAICSYE1BAAAAgKOaR0EAAACAwg9LQQ==",
            "dtype": "f8"
           },
           "y": [
            "0-4",
            "5-9",
            "10-14",
            "15-19",
            "20-24",
            "25-29",
            "30-34",
            "35-39",
            "40-44",
            "45-49",
            "50-54",
            "55-59",
            "60-64",
            "65-69",
            "70-74",
            "75-79",
            "80+"
           ]
          },
          {
           "marker": {
            "color": "red"
           },
           "name": "Female",
           "opacity": 0.6,
           "orientation": "h",
           "type": "bar",
           "x": {
            "bdata": "AAAAIFZ7YsEAAABAdRJiwQAAAMAxSGPBAAAAYOyqY8EAAABgv3NjwQAAAGD+lGLBAAAAIFF7YsEAAAAgQpJjwQAAACCIhGXBAAAAANd4ZcEAAABA6kZjwQAAACBj12DBAAAAwNbiWcEAAAAAJ0hUwQAAAIBglFHBAAAAAMmmT8EAAADAIf9YwQ==",
            "dtype": "f8"
           },
           "y": [
            "0-4",
            "5-9",
            "10-14",
            "15-19",
            "20-24",
            "25-29",
            "30-34",
            "35-39",
            "40-44",
            "45-49",
            "50-54",
            "55-59",
            "60-64",
            "65-69",
            "70-74",
            "75-79",
            "80+"
           ]
          }
         ],
         "name": "2005"
        },
        {
         "data": [
          {
           "marker": {
            "color": "blue"
           },
           "name": "Male",
           "opacity": 0.6,
           "orientation": "h",
           "type": "bar",
           "x": {
            "bdata": "AAAAAAiGY0EAAACA3CxjQQAAAGD+KWRBAAAAQHhpZUEAAADgIQhlQQAAAGAUUWRBAAAAYGA4Y0EAAADA4IFkQQAAAKAMyWVBAAAAQOTaZUEAAABAqmRjQQAAAMBzxmBBAAAAwGSRWUEAAAAAd3tSQQAAAADlpk1BAAAAAFTYR0EAAAAAJsZLQQ==",
            "dtype": "f8"
           },
           "y": [
            "0-4",
            "5-9",
            "10-14",
            "15-19",
            "20-24",
            "25-29",
            "30-34",
            "35-39",
            "40-44",
            "45-49",
            "50-54",
            "55-59",
            "60-64",
            "65-69",
            "70-74",
            "75-79",
            "80+"
           ]
          },
          {
           "marker": {
            "color": "red"
           },
           "name": "Female",
           "opacity": 0.6,
           "orientation": "h",
           "type": "bar",
           "x": {
            "bdata": "AAAAYFahYsEAAAAAsjtiwQAAAECs/2LBAAAAAJ/8Y8EAAADgTJVjwQAAAEBJCmPBAAAAoIIqYsEAAABAyZhjwQAAAICNJGXBAAAAwJSrZcEAAACAP9djwQAAAKCeZmHBAAAAwIIUW8EAAABApdhUwQAAAMC0oFHBAAAAAD54T8EAAACA7FpZwQ==",
            "dtype": "f8"
           },
           "y": [
            "0-4",
            "5-9",
            "10-14",
            "15-19",
            "20-24",
            "25-29",
            "30-34",
            "35-39",
            "40-44",
            "45-49",
            "50-54",
            "55-59",
            "60-64",
            "65-69",
            "70-74",
            "75-79",
            "80+"
           ]
          }
         ],
         "name": "2006"
        },
        {
         "data": [
          {
           "marker": {
            "color": "blue"
           },
           "name": "Male",
           "opacity": 0.6,
           "orientation": "h",
           "type": "bar",
           "x": {
            "bdata": "AAAAYJvHY0EAAABgLVRjQQAAAICl5mNBAAAAIN+jZUEAAABgYCVlQQAAAODHtWRBAAAAIC8qY0EAAACAs3FkQQAAACAhUmVBAAAAYJgQZkEAAADAbuNjQQAAACCXCWFBAAAAwD8pW0EAAADAIEhTQQAAAACjK05BAAAAADf2R0EAAAAAaItMQQ==",
            "dtype": "f8"
           },
           "y": [
            "0-4",
            "5-9",
            "10-14",
            "15-19",
            "20-24",
            "25-29",
            "30-34",
            "35-39",
            "40-44",
            "45-49",
            "50-54",
            "55-59",
            "60-64",
            "65-69",
            "70-74",
            "75-79",
            "80+"
           ]
          },
          {
           "marker": {
            "color": "red"
           },
           "name": "Female",
           "opacity": 0.6,
           "orientation": "h",
           "type": "bar",
           "x": {
            "bdata": "AAAAIITeYsEAAADg4WFiwQAAACDuwWLBAAAAALE2ZMEAAABgjLFjwQAAAED6bWPBAAAAoOofYsEAAADAZIljwQAAAGC2rWTBAAAAgODHZcEAAABAJFZkwQAAAEBQsmHBAAAAQBajXMEAAABA9L5VwQAAAEB+v1HBAAAAAIhBT8EAAACAz7ZZwQ==",
            "dtype": "f8"
           },
           "y": [
            "0-4",
            "5-9",
            "10-14",
            "15-19",
            "20-24",
            "25-29",
            "30-34",
            "35-39",
            "40-44",
            "45-49",
            "50-54",
            "55-59",
            "60-64",
            "65-69",
            "70-74",
            "75-79",
            "80+"
           ]
          }
         ],
         "name": "2007"
        },
        {
         "data": [
          {
           "marker": {
            "color": "blue"
           },
           "name": "Male",
           "opacity": 0.6,
           "orientation": "h",
           "type": "bar",
           "x": {
            "bdata": "AAAAgJgCZEEAAAAAmH1jQQAAAIAXvGNBAAAAgKC7ZUEAAAAAPVJlQQAAACBCBmVBAAAAIPtgY0EAAACggEJkQQAAAOAr32RBAAAAQBkfZkEAAACgIltkQQAAAEAVWmFBAAAAQLqGXEEAAABAu1VUQQAAAAAb4k5BAAAAgAYBSEEAAAAAG1RNQQ==",
            "dtype": "f8"
           },
           "y": [
            "0-4",
            "5-9",
            "10-14",
            "15-19",
            "20-24",
            "25-29",
            "30-34",
            "35-39",
            "40-44",
            "45-49",
            "50-54",
            "55-59",
            "60-64",
            "65-69",
            "70-74",
            "75-79",
            "80+"
           ]
          },
          {
           "marker": {
            "color": "red"
           },
           "name": "Female",
           "opacity": 0.6,
           "orientation": "h",
           "type": "bar",
           "x": {
            "bdata": "AAAAgD8XY8EAAACgpIhiwQAAAODenGLBAAAA4AVOZMEAAAAA09xjwQAAAOBnvWPBAAAAgN1XYsEAAADgEF9jwQAAAKAgOmTBAAAAYCjGZcEAAACgMcNkwQAAACDjB2LBAAAAAG4JXsEAAACAz9xWwQAAAMBrBVLBAAAAgJL5TsEAAADA3QhawQ==",
            "dtype": "f8"
           },
           "y": [
            "0-4",
            "5-9",
            "10-14",
            "15-19",
            "20-24",
            "25-29",
            "30-34",
            "35-39",
            "40-44",
            "45-49",
            "50-54",
            "55-59",
            "60-64",
            "65-69",
            "70-74",
            "75-79",
            "80+"
           ]
          }
         ],
         "name": "2008"
        },
        {
         "data": [
          {
           "marker": {
            "color": "blue"
           },
           "name": "Male",
           "opacity": 0.6,
           "orientation": "h",
           "type": "bar",
           "x": {
            "bdata": "AAAAYAQfZEEAAADgeKRjQQAAAGCKrmNBAAAAQEioZUEAAAAgd5RlQQAAAEB+P2VBAAAAwIuxY0EAAACAawBkQQAAAECvgGRBAAAAgDkSZkEAAADgt71kQQAAAOAyz2FBAAAAQDXAXUEAAAAAcnFVQQAAAADogU9BAAAAAAYZSEEAAAAABxxOQQ==",
            "dtype": "f8"
           },
           "y": [
            "0-4",
            "5-9",
            "10-14",
            "15-19",
            "20-24",
            "25-29",
            "30-34",
            "35-39",
            "40-44",
            "45-49",
            "50-54",
            "55-59",
            "60-64",
            "65-69",
            "70-74",
            "75-79",
            "80+"
           ]
          },
          {
           "marker": {
            "color": "red"
           },
           "name": "Female",
           "opacity": 0.6,
           "orientation": "h",
           "type": "bar",
           "x": {
            "bdata": "AAAAIMAyY8EAAAAAB61iwQAAAODPkWLBAAAAYLA8ZMEAAAAg7RxkwQAAAEAd9WPBAAAAoAiqYsEAAABgsCJjwQAAAGCa2WPBAAAAQICxZcEAAADANxhlwQAAAEDLe2LBAAAAgKlcX8EAAACAB99XwQAAAIAGYFLBAAAAgGvWTsEAAABAElFawQ==",
            "dtype": "f8"
           },
           "y": [
            "0-4",
            "5-9",
            "10-14",
            "15-19",
            "20-24",
            "25-29",
            "30-34",
            "35-39",
            "40-44",
            "45-49",
            "50-54",
            "55-59",
            "60-64",
            "65-69",
            "70-74",
            "75-79",
            "80+"
           ]
          }
         ],
         "name": "2009"
        },
        {
         "data": [
          {
           "marker": {
            "color": "blue"
           },
           "name": "Male",
           "opacity": 0.6,
           "orientation": "h",
           "type": "bar",
           "x": {
            "bdata": "AAAAQKMYZEEAAAAg3cFjQQAAAIA7xGNBAAAAINZrZUEAAAAAGuhlQQAAAGAkZ2VBAAAAAAYaZEEAAADgqKJjQQAAAABsXmRBAAAAIETfZUEAAAAgzBNlQQAAAGApUGJBAAAAwG0PX0EAAACAg3hWQQAAAIA6AFBBAAAAALtHSEEAAACAw+1OQQ==",
            "dtype": "f8"
           },
           "y": [
            "0-4",
            "5-9",
            "10-14",
            "15-19",
            "20-24",
            "25-29",
            "30-34",
            "35-39",
            "40-44",
            "45-49",
            "50-54",
            "55-59",
            "60-64",
            "65-69",
            "70-74",
            "75-79",
            "80+"
           ]
          },
          {
           "marker": {
            "color": "red"
           },
           "name": "Female",
           "opacity": 0.6,
           "orientation": "h",
           "type": "bar",
           "x": {
            "bdata": "AAAAIOYsY8EAAACA78diwQAAAADQpmLBAAAAQGQEZMEAAADgGW1kwQAAACDEG2TBAAAA4NQTY8EAAAAAbMxiwQAAAKA0s2PBAAAA4Al+ZcEAAACAx1NlwQAAAIA7AmPBAAAAINFlYMEAAABAhbBYwQAAAABQwVLBAAAAgLjkTsEAAADAbJlawQ==",
            "dtype": "f8"
           },
           "y": [
            "0-4",
            "5-9",
            "10-14",
            "15-19",
            "20-24",
            "25-29",
            "30-34",
            "35-39",
            "40-44",
            "45-49",
            "50-54",
            "55-59",
            "60-64",
            "65-69",
            "70-74",
            "75-79",
            "80+"
           ]
          }
         ],
         "name": "2010"
        },
        {
         "data": [
          {
           "marker": {
            "color": "blue"
           },
           "name": "Male",
           "opacity": 0.6,
           "orientation": "h",
           "type": "bar",
           "x": {
            "bdata": "AAAAAInvY0EAAACAQ+ljQQAAAKDI52NBAAAAwI0YZUEAAABg6zlmQQAAAAB1jGVBAAAAYEuTZEEAAADgj01jQQAAAGDuZ2RBAAAAwEp/ZUEAAADgK2RlQQAAAAD9ymJBAAAAwBwBYEEAAAAAurFXQQAAAACJYlBBAAAAAOaLSEEAAAAApoFPQQ==",
            "dtype": "f8"
           },
           "y": [
            "0-4",
            "5-9",
            "10-14",
            "15-19",
            "20-24",
            "25-29",
            "30-34",
            "35-39",
            "40-44",
            "45-49",
            "50-54",
            "55-59",
            "60-64",
            "65-69",
            "70-74",
            "75-79",
            "80+"
           ]
          },
          {
           "marker": {
            "color": "red"
           },
           "name": "Female",
           "opacity": 0.6,
           "orientation": "h",
           "type": "bar",
           "x": {
            "bdata": "AAAAQHgEY8EAAABAOepiwQAAAIBDymLBAAAA4Li1Y8EAAABgv7lkwQAAAAD5OWTBAAAAYESEY8EAAADAundiwQAAACAes2PBAAAAwEsWZcEAAAAg03plwQAAAKCFg2PBAAAAADDnYMEAAADA3cZZwQAAAMDePlPBAAAAALH3TsEAAAAAtrFawQ==",
            "dtype": "f8"
           },
           "y": [
            "0-4",
            "5-9",
            "10-14",
            "15-19",
            "20-24",
            "25-29",
            "30-34",
            "35-39",
            "40-44",
            "45-49",
            "50-54",
            "55-59",
            "60-64",
            "65-69",
            "70-74",
            "75-79",
            "80+"
           ]
          }
         ],
         "name": "2011"
        },
        {
         "data": [
          {
           "marker": {
            "color": "blue"
           },
           "name": "Male",
           "opacity": 0.6,
           "orientation": "h",
           "type": "bar",
           "x": {
            "bdata": "AAAAwBmzY0EAAAAgni5kQQAAAECfCGRBAAAAABPOZEEAAABAjnZmQQAAAMCotmVBAAAAANEHZUEAAACgFU5jQQAAAEBFYmRBAAAAgNIRZUEAAABgY5tlQQAAACAhRmNBAAAAIHM+YEEAAACALCtZQQAAAEBWF1FBAAAAAP78SEEAAACAUOdPQQ==",
            "dtype": "f8"
           },
           "y": [
            "0-4",
            "5-9",
            "10-14",
            "15-19",
            "20-24",
            "25-29",
            "30-34",
            "35-39",
            "40-44",
            "45-49",
            "50-54",
            "55-59",
            "60-64",
            "65-69",
            "70-74",
            "75-79",
            "80+"
           ]
          },
          {
           "marker": {
            "color": "red"
           },
           "name": "Female",
           "opacity": 0.6,
           "orientation": "h",
           "type": "bar",
           "x": {
            "bdata": "AAAAwIfIYsEAAACgWSljwQAAAABh62LBAAAAILxwY8EAAAAgjO9kwQAAAOBFVmTBAAAA4DjnY8EAAADAjmxiwQAAAECPoGPBAAAAQNmZZMEAAADAhYxlwQAAAGAV82PBAAAA4E8mYcEAAACAmDNbwQAAAID1BlTBAAAAAPMiT8EAAACAcKlawQ==",
            "dtype": "f8"
           },
           "y": [
            "0-4",
            "5-9",
            "10-14",
            "15-19",
            "20-24",
            "25-29",
            "30-34",
            "35-39",
            "40-44",
            "45-49",
            "50-54",
            "55-59",
            "60-64",
            "65-69",
            "70-74",
            "75-79",
            "80+"
           ]
          }
         ],
         "name": "2012"
        },
        {
         "data": [
          {
           "marker": {
            "color": "blue"
           },
           "name": "Male",
           "opacity": 0.6,
           "orientation": "h",
           "type": "bar",
           "x": {
            "bdata": "AAAAIFNwY0EAAAAAz25kQQAAACD4KmRBAAAAIK6ZZEEAAAAA0YtmQQAAAAAG7GVBAAAAgP9lZUEAAADgX5FjQQAAAED+PGRBAAAAIIinZEEAAADA86plQQAAAIDyuGNBAAAAYL6GYEEAAACAxmtaQQAAAMAFBFJBAAAAgCmSSUEAAADA/SFQQQ==",
            "dtype": "f8"
           },
           "y": [
            "0-4",
            "5-9",
            "10-14",
            "15-19",
            "20-24",
            "25-29",
            "30-34",
            "35-39",
            "40-44",
            "45-49",
            "50-54",
            "55-59",
            "60-64",
            "65-69",
            "70-74",
            "75-79",
            "80+"
           ]
          },
          {
           "marker": {
            "color": "red"
           },
           "name": "Female",
           "opacity": 0.6,
           "orientation": "h",
           "type": "bar",
           "x": {
            "bdata": "AAAAoIiGYsEAAABAwmRjwQAAAKAZDGPBAAAAAPJCY8EAAABgXv9kwQAAAKCFfmTBAAAAQF40ZMEAAACAcqFiwQAAAMA1cmPBAAAAgAAgZMEAAACgLn9lwQAAAIB2T2TBAAAAYI9sYcEAAACAt3ZcwQAAAAAfAFXBAAAAAF6LT8EAAAAAp5lawQ==",
            "dtype": "f8"
           },
           "y": [
            "0-4",
            "5-9",
            "10-14",
            "15-19",
            "20-24",
            "25-29",
            "30-34",
            "35-39",
            "40-44",
            "45-49",
            "50-54",
            "55-59",
            "60-64",
            "65-69",
            "70-74",
            "75-79",
            "80+"
           ]
          }
         ],
         "name": "2013"
        },
        {
         "data": [
          {
           "marker": {
            "color": "blue"
           },
           "name": "Male",
           "opacity": 0.6,
           "orientation": "h",
           "type": "bar",
           "x": {
            "bdata": "AAAAwCVDY0EAAADgnJdkQQAAAADQUGRBAAAAYKWGZEEAAADgz3hmQQAAAOC7OGZBAAAAoPGwZUEAAAAgd/JjQQAAAGAvCmRBAAAAAHRWZEEAAABA1KRlQQAAAGCwG2RBAAAAgNH0YEEAAACALY1bQQAAAMBp/lJBAAAAAF4VSkEAAAAAJVlQQQ==",
            "dtype": "f8"
           },
           "y": [
            "0-4",
            "5-9",
            "10-14",
            "15-19",
            "20-24",
            "25-29",
            "30-34",
            "35-39",
            "40-44",
            "45-49",
            "50-54",
            "55-59",
            "60-64",
            "65-69",
            "70-74",
            "75-79",
            "80+"
           ]
          },
          {
           "marker": {
            "color": "red"
           },
           "name": "Female",
           "opacity": 0.6,
           "orientation": "h",
           "type": "bar",
           "x": {
            "bdata": "AAAA4JZZYsEAAACgOYljwQAAAICoL2PBAAAAwOMzY8EAAAAgRupkwQAAAODwvmTBAAAAoJduZMEAAACADPRiwQAAAEC0NmPBAAAAwDu+Y8EAAACgDWRlwQAAAGCmmGTBAAAA4H/SYcEAAACACKtdwQAAAEAb4lXBAAAAwAQOUMEAAADAjppawQ==",
            "dtype": "f8"
           },
           "y": [
            "0-4",
            "5-9",
            "10-14",
            "15-19",
            "20-24",
            "25-29",
            "30-34",
            "35-39",
            "40-44",
            "45-49",
            "50-54",
            "55-59",
            "60-64",
            "65-69",
            "70-74",
            "75-79",
            "80+"
           ]
          }
         ],
         "name": "2014"
        },
        {
         "data": [
          {
           "marker": {
            "color": "blue"
           },
           "name": "Male",
           "opacity": 0.6,
           "orientation": "h",
           "type": "bar",
           "x": {
            "bdata": "AAAAIFExY0EAAACgEaJkQQAAAMBNcGRBAAAAwKSWZEEAAACAZjpmQQAAAMDok2ZBAAAA4OvpZUEAAABgKWxkQQAAAGB/vmNBAAAAQFBCZEEAAABAKnxlQQAAAGCVc2RBAAAAQC9vYUEAAADAzL5cQQAAAACB5VNBAAAAgDJ8SkEAAAAAIpxQQQ==",
            "dtype": "f8"
           },
           "y": [
            "0-4",
            "5-9",
            "10-14",
            "15-19",
            "20-24",
            "25-29",
            "30-34",
            "35-39",
            "40-44",
            "45-49",
            "50-54",
            "55-59",
            "60-64",
            "65-69",
            "70-74",
            "75-79",
            "80+"
           ]
          },
          {
           "marker": {
            "color": "red"
           },
           "name": "Female",
           "opacity": 0.6,
           "orientation": "h",
           "type": "bar",
           "x": {
            "bdata": "AAAAwPZHYsEAAAAAO5BjwQAAAKBjTGPBAAAAYF9FY8EAAABgvq1kwQAAAEB8DmXBAAAAYCSYZMEAAADgcF5jwQAAAOBH42LBAAAA4FqXY8EAAABAmyxlwQAAAMB9ymTBAAAA4IBKYsEAAABA7fdewQAAAAABl1bBAAAAABFcUMEAAADAMa1awQ==",
            "dtype": "f8"
           },
           "y": [
            "0-4",
            "5-9",
            "10-14",
            "15-19",
            "20-24",
            "25-29",
            "30-34",
            "35-39",
            "40-44",
            "45-49",
            "50-54",
            "55-59",
            "60-64",
            "65-69",
            "70-74",
            "75-79",
            "80+"
           ]
          }
         ],
         "name": "2015"
        },
        {
         "data": [
          {
           "marker": {
            "color": "blue"
           },
           "name": "Male",
           "opacity": 0.6,
           "orientation": "h",
           "type": "bar",
           "x": {
            "bdata": "AAAAQHIrY0EAAACgVYhkQQAAAIDfnmRBAAAAIKW8ZEEAAACAzetlQQAAAMA07WZBAAAAgMsbZkEAAAAAh/BkQQAAAOAxd2NBAAAAgGJWZEEAAAAgyihlQQAAAMD1xmRBAAAAAHPlYUEAAACAT5xdQQAAAIBR/lRBAAAAgNwlS0EAAAAAUuVQQQ==",
            "dtype": "f8"
           },
           "y": [
            "0-4",
            "5-9",
            "10-14",
            "15-19",
            "20-24",
            "25-29",
            "30-34",
            "35-39",
            "40-44",
            "45-49",
            "50-54",
            "55-59",
            "60-64",
            "65-69",
            "70-74",
            "75-79",
            "80+"
           ]
          },
          {
           "marker": {
            "color": "red"
           },
           "name": "Female",
           "opacity": 0.6,
           "orientation": "h",
           "type": "bar",
           "x": {
            "bdata": "AAAAoLhCYsEAAACASHRjwQAAAEDgdGPBAAAA4LdrY8EAAAAAT2JkwQAAAKD+XmXBAAAAoL+7ZMEAAACA1NFjwQAAACA3lGLBAAAAoC2aY8EAAACgkMhkwQAAACAT72TBAAAAwD3DYsEAAAAAt+hfwQAAAACslVfBAAAAgDnKUMEAAAAA8cFawQ==",
            "dtype": "f8"
           },
           "y": [
            "0-4",
            "5-9",
            "10-14",
            "15-19",
            "20-24",
            "25-29",
            "30-34",
            "35-39",
            "40-44",
            "45-49",
            "50-54",
            "55-59",
            "60-64",
            "65-69",
            "70-74",
            "75-79",
            "80+"
           ]
          }
         ],
         "name": "2016"
        },
        {
         "data": [
          {
           "marker": {
            "color": "blue"
           },
           "name": "Male",
           "opacity": 0.6,
           "orientation": "h",
           "type": "bar",
           "x": {
            "bdata": "AAAA4NcZY0EAAAAgSU9kQQAAAIDA5mRBAAAA4CThZEEAAADAgKZlQQAAAAACK2dBAAAAQBlGZkEAAACA72FlQQAAAMDbdmNBAAAAwOhPZEEAAADAgb9kQQAAAKD9+mRBAAAAoHxWYkEAAADA0QNeQQAAAIBlTlZBAAAAgA5WTEEAAAAAFzZRQQ==",
            "dtype": "f8"
           },
           "y": [
            "0-4",
            "5-9",
            "10-14",
            "15-19",
            "20-24",
            "25-29",
            "30-34",
            "35-39",
            "40-44",
            "45-49",
            "50-54",
            "55-59",
            "60-64",
            "65-69",
            "70-74",
            "75-79",
            "80+"
           ]
          },
          {
           "marker": {
            "color": "red"
           },
           "name": "Female",
           "opacity": 0.6,
           "orientation": "h",
           "type": "bar",
           "x": {
            "bdata": "AAAAYLsxYsEAAACgnTpjwQAAACCMtWPBAAAAwDiPY8EAAACgKSFkwQAAAMB7lmXBAAAAgOTYZMEAAACgJTNkwQAAACCRiGLBAAAAYLiGY8EAAAAgKE5kwQAAAGAG/WTBAAAAwG4pY8EAAACAkS1gwQAAAACy5VjBAAAAQMR5UcEAAABAGNpawQ==",
            "dtype": "f8"
           },
           "y": [
            "0-4",
            "5-9",
            "10-14",
            "15-19",
            "20-24",
            "25-29",
            "30-34",
            "35-39",
            "40-44",
            "45-49",
            "50-54",
            "55-59",
            "60-64",
            "65-69",
            "70-74",
            "75-79",
            "80+"
           ]
          }
         ],
         "name": "2017"
        },
        {
         "data": [
          {
           "marker": {
            "color": "blue"
           },
           "name": "Male",
           "opacity": 0.6,
           "orientation": "h",
           "type": "bar",
           "x": {
            "bdata": "AAAAgFD0YkEAAACg3gxkQQAAAIC0JWVBAAAAwCoDZUEAAADAPXNlQQAAAECGPmdBAAAAYCF4ZkEAAACApLplQQAAAOAjtWNBAAAAIAcoZEEAAAAgg1dkQQAAAGBLB2VBAAAAwJu+YkEAAABAA35eQQAAAMD1aldBAAAAgPjhTUEAAAAAxY9RQQ==",
            "dtype": "f8"
           },
           "y": [
            "0-4",
            "5-9",
            "10-14",
            "15-19",
            "20-24",
            "25-29",
            "30-34",
            "35-39",
            "40-44",
            "45-49",
            "50-54",
            "55-59",
            "60-64",
            "65-69",
            "70-74",
            "75-79",
            "80+"
           ]
          },
          {
           "marker": {
            "color": "red"
           },
           "name": "Female",
           "opacity": 0.6,
           "orientation": "h",
           "type": "bar",
           "x": {
            "bdata": "AAAAoJ4OYsEAAADgWPhiwQAAAOBG72PBAAAAIAyvY8EAAADApvNjwQAAAMAxpWXBAAAA4An/ZMEAAAAAr3xkwQAAAED4uWLBAAAAYFlWY8EAAABgUtVjwQAAAGA27GTBAAAAwIx8Y8EAAADAv2xgwQAAAMAkD1rBAAAAwNNSUsEAAABA2gFbwQ==",
            "dtype": "f8"
           },
           "y": [
            "0-4",
            "5-9",
            "10-14",
            "15-19",
            "20-24",
            "25-29",
            "30-34",
            "35-39",
            "40-44",
            "45-49",
            "50-54",
            "55-59",
            "60-64",
            "65-69",
            "70-74",
            "75-79",
            "80+"
           ]
          }
         ],
         "name": "2018"
        },
        {
         "data": [
          {
           "marker": {
            "color": "blue"
           },
           "name": "Male",
           "opacity": 0.6,
           "orientation": "h",
           "type": "bar",
           "x": {
            "bdata": "AAAAAHK6YkEAAADgY9pjQQAAAECFR2VBAAAAYGsiZUEAAABg0FplQQAAACCoJGdBAAAAgCe7ZkEAAADAOPtlQQAAAIBCC2RBAAAAYIvuY0EAAACgoANkQQAAAMCU+mRBAAAA4FsUY0EAAAAANzhfQQAAAIAUZVhBAAAAgKx9T0EAAADAJ+dRQQ==",
            "dtype": "f8"
           },
           "y": [
            "0-4",
            "5-9",
            "10-14",
            "15-19",
            "20-24",
            "25-29",
            "30-34",
            "35-39",
            "40-44",
            "45-49",
            "50-54",
            "55-59",
            "60-64",
            "65-69",
            "70-74",
            "75-79",
            "80+"
           ]
          },
          {
           "marker": {
            "color": "red"
           },
           "name": "Female",
           "opacity": 0.6,
           "orientation": "h",
           "type": "bar",
           "x": {
            "bdata": "AAAAIFHZYcEAAADgDMZiwQAAAEDWDGTBAAAAgCvMY8EAAABAAN9jwQAAAGDliWXBAAAAoJM3ZcEAAACgpK5kwQAAAGAxBGPBAAAAwEgVY8EAAAAAUnBjwQAAAGDuymTBAAAAYMq5Y8EAAADAu8ZgwQAAAMCaJFvBAAAAwOQTU8EAAABAdkNbwQ==",
            "dtype": "f8"
           },
           "y": [
            "0-4",
            "5-9",
            "10-14",
            "15-19",
            "20-24",
            "25-29",
            "30-34",
            "35-39",
            "40-44",
            "45-49",
            "50-54",
            "55-59",
            "60-64",
            "65-69",
            "70-74",
            "75-79",
            "80+"
           ]
          }
         ],
         "name": "2019"
        },
        {
         "data": [
          {
           "marker": {
            "color": "blue"
           },
           "name": "Male",
           "opacity": 0.6,
           "orientation": "h",
           "type": "bar",
           "x": {
            "bdata": "AAAAYJh/YkEAAACg59ljQQAAAKCDYmVBAAAAwOhOZUEAAACA43dlQQAAAGAw+WZBAAAAYPsnZ0EAAADAFElmQQAAAEA9l2RBAAAAYI67Y0EAAACgpQhkQQAAAAB47WRBAAAAIIh+Y0EAAADA9R5gQQAAAIDKkVlBAAAAQACQUEEAAADA2z9SQQ==",
            "dtype": "f8"
           },
           "y": [
            "0-4",
            "5-9",
            "10-14",
            "15-19",
            "20-24",
            "25-29",
            "30-34",
            "35-39",
            "40-44",
            "45-49",
            "50-54",
            "55-59",
            "60-64",
            "65-69",
            "70-74",
            "75-79",
            "80+"
           ]
          },
          {
           "marker": {
            "color": "red"
           },
           "name": "Female",
           "opacity": 0.6,
           "orientation": "h",
           "type": "bar",
           "x": {
            "bdata": "AAAAIG6kYcEAAACAYsdiwQAAACA7JmTBAAAAIAn5Y8EAAACguP9jwQAAAKALYWXBAAAAIBOcZcEAAACASPBkwQAAACC5hWPBAAAAgDTeYsEAAADgcmdjwQAAAOACtmTBAAAAQFUHZMEAAAAAEFJhwQAAAAC5glzBAAAAwBDMU8EAAACAa69bwQ==",
            "dtype": "f8"
           },
           "y": [
            "0-4",
            "5-9",
            "10-14",
            "15-19",
            "20-24",
            "25-29",
            "30-34",
            "35-39",
            "40-44",
            "45-49",
            "50-54",
            "55-59",
            "60-64",
            "65-69",
            "70-74",
            "75-79",
            "80+"
           ]
          }
         ],
         "name": "2020"
        }
       ],
       "layout": {
        "bargap": 0.1,
        "barmode": "overlay",
        "sliders": [
         {
          "active": 0,
          "currentvalue": {
           "font": {
            "size": 20
           },
           "prefix": "Year:",
           "visible": true,
           "xanchor": "right"
          },
          "len": 0.9,
          "pad": {
           "b": 10,
           "t": 50
          },
          "steps": [
           {
            "args": [
             [
              "1990"
             ],
             {
              "frame": {
               "duration": 300,
               "redraw": true
              },
              "mode": "immediate",
              "transition": {
               "duration": 300
              }
             }
            ],
            "label": "1990",
            "method": "animate"
           },
           {
            "args": [
             [
              "1991"
             ],
             {
              "frame": {
               "duration": 300,
               "redraw": true
              },
              "mode": "immediate",
              "transition": {
               "duration": 300
              }
             }
            ],
            "label": "1991",
            "method": "animate"
           },
           {
            "args": [
             [
              "1992"
             ],
             {
              "frame": {
               "duration": 300,
               "redraw": true
              },
              "mode": "immediate",
              "transition": {
               "duration": 300
              }
             }
            ],
            "label": "1992",
            "method": "animate"
           },
           {
            "args": [
             [
              "1993"
             ],
             {
              "frame": {
               "duration": 300,
               "redraw": true
              },
              "mode": "immediate",
              "transition": {
               "duration": 300
              }
             }
            ],
            "label": "1993",
            "method": "animate"
           },
           {
            "args": [
             [
              "1994"
             ],
             {
              "frame": {
               "duration": 300,
               "redraw": true
              },
              "mode": "immediate",
              "transition": {
               "duration": 300
              }
             }
            ],
            "label": "1994",
            "method": "animate"
           },
           {
            "args": [
             [
              "1995"
             ],
             {
              "frame": {
               "duration": 300,
               "redraw": true
              },
              "mode": "immediate",
              "transition": {
               "duration": 300
              }
             }
            ],
            "label": "1995",
            "method": "animate"
           },
           {
            "args": [
             [
              "1996"
             ],
             {
              "frame": {
               "duration": 300,
               "redraw": true
              },
              "mode": "immediate",
              "transition": {
               "duration": 300
              }
             }
            ],
            "label": "1996",
            "method": "animate"
           },
           {
            "args": [
             [
              "1997"
             ],
             {
              "frame": {
               "duration": 300,
               "redraw": true
              },
              "mode": "immediate",
              "transition": {
               "duration": 300
              }
             }
            ],
            "label": "1997",
            "method": "animate"
           },
           {
            "args": [
             [
              "1998"
             ],
             {
              "frame": {
               "duration": 300,
               "redraw": true
              },
              "mode": "immediate",
              "transition": {
               "duration": 300
              }
             }
            ],
            "label": "1998",
            "method": "animate"
           },
           {
            "args": [
             [
              "1999"
             ],
             {
              "frame": {
               "duration": 300,
               "redraw": true
              },
              "mode": "immediate",
              "transition": {
               "duration": 300
              }
             }
            ],
            "label": "1999",
            "method": "animate"
           },
           {
            "args": [
             [
              "2000"
             ],
             {
              "frame": {
               "duration": 300,
               "redraw": true
              },
              "mode": "immediate",
              "transition": {
               "duration": 300
              }
             }
            ],
            "label": "2000",
            "method": "animate"
           },
           {
            "args": [
             [
              "2001"
             ],
             {
              "frame": {
               "duration": 300,
               "redraw": true
              },
              "mode": "immediate",
              "transition": {
               "duration": 300
              }
             }
            ],
            "label": "2001",
            "method": "animate"
           },
           {
            "args": [
             [
              "2002"
             ],
             {
              "frame": {
               "duration": 300,
               "redraw": true
              },
              "mode": "immediate",
              "transition": {
               "duration": 300
              }
             }
            ],
            "label": "2002",
            "method": "animate"
           },
           {
            "args": [
             [
              "2003"
             ],
             {
              "frame": {
               "duration": 300,
               "redraw": true
              },
              "mode": "immediate",
              "transition": {
               "duration": 300
              }
             }
            ],
            "label": "2003",
            "method": "animate"
           },
           {
            "args": [
             [
              "2004"
             ],
             {
              "frame": {
               "duration": 300,
               "redraw": true
              },
              "mode": "immediate",
              "transition": {
               "duration": 300
              }
             }
            ],
            "label": "2004",
            "method": "animate"
           },
           {
            "args": [
             [
              "2005"
             ],
             {
              "frame": {
               "duration": 300,
               "redraw": true
              },
              "mode": "immediate",
              "transition": {
               "duration": 300
              }
             }
            ],
            "label": "2005",
            "method": "animate"
           },
           {
            "args": [
             [
              "2006"
             ],
             {
              "frame": {
               "duration": 300,
               "redraw": true
              },
              "mode": "immediate",
              "transition": {
               "duration": 300
              }
             }
            ],
            "label": "2006",
            "method": "animate"
           },
           {
            "args": [
             [
              "2007"
             ],
             {
              "frame": {
               "duration": 300,
               "redraw": true
              },
              "mode": "immediate",
              "transition": {
               "duration": 300
              }
             }
            ],
            "label": "2007",
            "method": "animate"
           },
           {
            "args": [
             [
              "2008"
             ],
             {
              "frame": {
               "duration": 300,
               "redraw": true
              },
              "mode": "immediate",
              "transition": {
               "duration": 300
              }
             }
            ],
            "label": "2008",
            "method": "animate"
           },
           {
            "args": [
             [
              "2009"
             ],
             {
              "frame": {
               "duration": 300,
               "redraw": true
              },
              "mode": "immediate",
              "transition": {
               "duration": 300
              }
             }
            ],
            "label": "2009",
            "method": "animate"
           },
           {
            "args": [
             [
              "2010"
             ],
             {
              "frame": {
               "duration": 300,
               "redraw": true
              },
              "mode": "immediate",
              "transition": {
               "duration": 300
              }
             }
            ],
            "label": "2010",
            "method": "animate"
           },
           {
            "args": [
             [
              "2011"
             ],
             {
              "frame": {
               "duration": 300,
               "redraw": true
              },
              "mode": "immediate",
              "transition": {
               "duration": 300
              }
             }
            ],
            "label": "2011",
            "method": "animate"
           },
           {
            "args": [
             [
              "2012"
             ],
             {
              "frame": {
               "duration": 300,
               "redraw": true
              },
              "mode": "immediate",
              "transition": {
               "duration": 300
              }
             }
            ],
            "label": "2012",
            "method": "animate"
           },
           {
            "args": [
             [
              "2013"
             ],
             {
              "frame": {
               "duration": 300,
               "redraw": true
              },
              "mode": "immediate",
              "transition": {
               "duration": 300
              }
             }
            ],
            "label": "2013",
            "method": "animate"
           },
           {
            "args": [
             [
              "2014"
             ],
             {
              "frame": {
               "duration": 300,
               "redraw": true
              },
              "mode": "immediate",
              "transition": {
               "duration": 300
              }
             }
            ],
            "label": "2014",
            "method": "animate"
           },
           {
            "args": [
             [
              "2015"
             ],
             {
              "frame": {
               "duration": 300,
               "redraw": true
              },
              "mode": "immediate",
              "transition": {
               "duration": 300
              }
             }
            ],
            "label": "2015",
            "method": "animate"
           },
           {
            "args": [
             [
              "2016"
             ],
             {
              "frame": {
               "duration": 300,
               "redraw": true
              },
              "mode": "immediate",
              "transition": {
               "duration": 300
              }
             }
            ],
            "label": "2016",
            "method": "animate"
           },
           {
            "args": [
             [
              "2017"
             ],
             {
              "frame": {
               "duration": 300,
               "redraw": true
              },
              "mode": "immediate",
              "transition": {
               "duration": 300
              }
             }
            ],
            "label": "2017",
            "method": "animate"
           },
           {
            "args": [
             [
              "2018"
             ],
             {
              "frame": {
               "duration": 300,
               "redraw": true
              },
              "mode": "immediate",
              "transition": {
               "duration": 300
              }
             }
            ],
            "label": "2018",
            "method": "animate"
           },
           {
            "args": [
             [
              "2019"
             ],
             {
              "frame": {
               "duration": 300,
               "redraw": true
              },
              "mode": "immediate",
              "transition": {
               "duration": 300
              }
             }
            ],
            "label": "2019",
            "method": "animate"
           },
           {
            "args": [
             [
              "2020"
             ],
             {
              "frame": {
               "duration": 300,
               "redraw": true
              },
              "mode": "immediate",
              "transition": {
               "duration": 300
              }
             }
            ],
            "label": "2020",
            "method": "animate"
           }
          ],
          "transition": {
           "duration": 300,
           "easing": "cubic-in-out"
          },
          "x": 0.1,
          "xanchor": "left",
          "y": 0,
          "yanchor": "top"
         }
        ],
        "template": {
         "data": {
          "bar": [
           {
            "error_x": {
             "color": "#2a3f5f"
            },
            "error_y": {
             "color": "#2a3f5f"
            },
            "marker": {
             "line": {
              "color": "#E5ECF6",
              "width": 0.5
             },
             "pattern": {
              "fillmode": "overlay",
              "size": 10,
              "solidity": 0.2
             }
            },
            "type": "bar"
           }
          ],
          "barpolar": [
           {
            "marker": {
             "line": {
              "color": "#E5ECF6",
              "width": 0.5
             },
             "pattern": {
              "fillmode": "overlay",
              "size": 10,
              "solidity": 0.2
             }
            },
            "type": "barpolar"
           }
          ],
          "carpet": [
           {
            "aaxis": {
             "endlinecolor": "#2a3f5f",
             "gridcolor": "white",
             "linecolor": "white",
             "minorgridcolor": "white",
             "startlinecolor": "#2a3f5f"
            },
            "baxis": {
             "endlinecolor": "#2a3f5f",
             "gridcolor": "white",
             "linecolor": "white",
             "minorgridcolor": "white",
             "startlinecolor": "#2a3f5f"
            },
            "type": "carpet"
           }
          ],
          "choropleth": [
           {
            "colorbar": {
             "outlinewidth": 0,
             "ticks": ""
            },
            "type": "choropleth"
           }
          ],
          "contour": [
           {
            "colorbar": {
             "outlinewidth": 0,
             "ticks": ""
            },
            "colorscale": [
             [
              0,
              "#0d0887"
             ],
             [
              0.1111111111111111,
              "#46039f"
             ],
             [
              0.2222222222222222,
              "#7201a8"
             ],
             [
              0.3333333333333333,
              "#9c179e"
             ],
             [
              0.4444444444444444,
              "#bd3786"
             ],
             [
              0.5555555555555556,
              "#d8576b"
             ],
             [
              0.6666666666666666,
              "#ed7953"
             ],
             [
              0.7777777777777778,
              "#fb9f3a"
             ],
             [
              0.8888888888888888,
              "#fdca26"
             ],
             [
              1,
              "#f0f921"
             ]
            ],
            "type": "contour"
           }
          ],
          "contourcarpet": [
           {
            "colorbar": {
             "outlinewidth": 0,
             "ticks": ""
            },
            "type": "contourcarpet"
           }
          ],
          "heatmap": [
           {
            "colorbar": {
             "outlinewidth": 0,
             "ticks": ""
            },
            "colorscale": [
             [
              0,
              "#0d0887"
             ],
             [
              0.1111111111111111,
              "#46039f"
             ],
             [
              0.2222222222222222,
              "#7201a8"
             ],
             [
              0.3333333333333333,
              "#9c179e"
             ],
             [
              0.4444444444444444,
              "#bd3786"
             ],
             [
              0.5555555555555556,
              "#d8576b"
             ],
             [
              0.6666666666666666,
              "#ed7953"
             ],
             [
              0.7777777777777778,
              "#fb9f3a"
             ],
             [
              0.8888888888888888,
              "#fdca26"
             ],
             [
              1,
              "#f0f921"
             ]
            ],
            "type": "heatmap"
           }
          ],
          "histogram": [
           {
            "marker": {
             "pattern": {
              "fillmode": "overlay",
              "size": 10,
              "solidity": 0.2
             }
            },
            "type": "histogram"
           }
          ],
          "histogram2d": [
           {
            "colorbar": {
             "outlinewidth": 0,
             "ticks": ""
            },
            "colorscale": [
             [
              0,
              "#0d0887"
             ],
             [
              0.1111111111111111,
              "#46039f"
             ],
             [
              0.2222222222222222,
              "#7201a8"
             ],
             [
              0.3333333333333333,
              "#9c179e"
             ],
             [
              0.4444444444444444,
              "#bd3786"
             ],
             [
              0.5555555555555556,
              "#d8576b"
             ],
             [
              0.6666666666666666,
              "#ed7953"
             ],
             [
              0.7777777777777778,
              "#fb9f3a"
             ],
             [
              0.8888888888888888,
              "#fdca26"
             ],
             [
              1,
              "#f0f921"
             ]
            ],
            "type": "histogram2d"
           }
          ],
          "histogram2dcontour": [
           {
            "colorbar": {
             "outlinewidth": 0,
             "ticks": ""
            },
            "colorscale": [
             [
              0,
              "#0d0887"
             ],
             [
              0.1111111111111111,
              "#46039f"
             ],
             [
              0.2222222222222222,
              "#7201a8"
             ],
             [
              0.3333333333333333,
              "#9c179e"
             ],
             [
              0.4444444444444444,
              "#bd3786"
             ],
             [
              0.5555555555555556,
              "#d8576b"
             ],
             [
              0.6666666666666666,
              "#ed7953"
             ],
             [
              0.7777777777777778,
              "#fb9f3a"
             ],
             [
              0.8888888888888888,
              "#fdca26"
             ],
             [
              1,
              "#f0f921"
             ]
            ],
            "type": "histogram2dcontour"
           }
          ],
          "mesh3d": [
           {
            "colorbar": {
             "outlinewidth": 0,
             "ticks": ""
            },
            "type": "mesh3d"
           }
          ],
          "parcoords": [
           {
            "line": {
             "colorbar": {
              "outlinewidth": 0,
              "ticks": ""
             }
            },
            "type": "parcoords"
           }
          ],
          "pie": [
           {
            "automargin": true,
            "type": "pie"
           }
          ],
          "scatter": [
           {
            "fillpattern": {
             "fillmode": "overlay",
             "size": 10,
             "solidity": 0.2
            },
            "type": "scatter"
           }
          ],
          "scatter3d": [
           {
            "line": {
             "colorbar": {
              "outlinewidth": 0,
              "ticks": ""
             }
            },
            "marker": {
             "colorbar": {
              "outlinewidth": 0,
              "ticks": ""
             }
            },
            "type": "scatter3d"
           }
          ],
          "scattercarpet": [
           {
            "marker": {
             "colorbar": {
              "outlinewidth": 0,
              "ticks": ""
             }
            },
            "type": "scattercarpet"
           }
          ],
          "scattergeo": [
           {
            "marker": {
             "colorbar": {
              "outlinewidth": 0,
              "ticks": ""
             }
            },
            "type": "scattergeo"
           }
          ],
          "scattergl": [
           {
            "marker": {
             "colorbar": {
              "outlinewidth": 0,
              "ticks": ""
             }
            },
            "type": "scattergl"
           }
          ],
          "scattermap": [
           {
            "marker": {
             "colorbar": {
              "outlinewidth": 0,
              "ticks": ""
             }
            },
            "type": "scattermap"
           }
          ],
          "scattermapbox": [
           {
            "marker": {
             "colorbar": {
              "outlinewidth": 0,
              "ticks": ""
             }
            },
            "type": "scattermapbox"
           }
          ],
          "scatterpolar": [
           {
            "marker": {
             "colorbar": {
              "outlinewidth": 0,
              "ticks": ""
             }
            },
            "type": "scatterpolar"
           }
          ],
          "scatterpolargl": [
           {
            "marker": {
             "colorbar": {
              "outlinewidth": 0,
              "ticks": ""
             }
            },
            "type": "scatterpolargl"
           }
          ],
          "scatterternary": [
           {
            "marker": {
             "colorbar": {
              "outlinewidth": 0,
              "ticks": ""
             }
            },
            "type": "scatterternary"
           }
          ],
          "surface": [
           {
            "colorbar": {
             "outlinewidth": 0,
             "ticks": ""
            },
            "colorscale": [
             [
              0,
              "#0d0887"
             ],
             [
              0.1111111111111111,
              "#46039f"
             ],
             [
              0.2222222222222222,
              "#7201a8"
             ],
             [
              0.3333333333333333,
              "#9c179e"
             ],
             [
              0.4444444444444444,
              "#bd3786"
             ],
             [
              0.5555555555555556,
              "#d8576b"
             ],
             [
              0.6666666666666666,
              "#ed7953"
             ],
             [
              0.7777777777777778,
              "#fb9f3a"
             ],
             [
              0.8888888888888888,
              "#fdca26"
             ],
             [
              1,
              "#f0f921"
             ]
            ],
            "type": "surface"
           }
          ],
          "table": [
           {
            "cells": {
             "fill": {
              "color": "#EBF0F8"
             },
             "line": {
              "color": "white"
             }
            },
            "header": {
             "fill": {
              "color": "#C8D4E3"
             },
             "line": {
              "color": "white"
             }
            },
            "type": "table"
           }
          ]
         },
         "layout": {
          "annotationdefaults": {
           "arrowcolor": "#2a3f5f",
           "arrowhead": 0,
           "arrowwidth": 1
          },
          "autotypenumbers": "strict",
          "coloraxis": {
           "colorbar": {
            "outlinewidth": 0,
            "ticks": ""
           }
          },
          "colorscale": {
           "diverging": [
            [
             0,
             "#8e0152"
            ],
            [
             0.1,
             "#c51b7d"
            ],
            [
             0.2,
             "#de77ae"
            ],
            [
             0.3,
             "#f1b6da"
            ],
            [
             0.4,
             "#fde0ef"
            ],
            [
             0.5,
             "#f7f7f7"
            ],
            [
             0.6,
             "#e6f5d0"
            ],
            [
             0.7,
             "#b8e186"
            ],
            [
             0.8,
             "#7fbc41"
            ],
            [
             0.9,
             "#4d9221"
            ],
            [
             1,
             "#276419"
            ]
           ],
           "sequential": [
            [
             0,
             "#0d0887"
            ],
            [
             0.1111111111111111,
             "#46039f"
            ],
            [
             0.2222222222222222,
             "#7201a8"
            ],
            [
             0.3333333333333333,
             "#9c179e"
            ],
            [
             0.4444444444444444,
             "#bd3786"
            ],
            [
             0.5555555555555556,
             "#d8576b"
            ],
            [
             0.6666666666666666,
             "#ed7953"
            ],
            [
             0.7777777777777778,
             "#fb9f3a"
            ],
            [
             0.8888888888888888,
             "#fdca26"
            ],
            [
             1,
             "#f0f921"
            ]
           ],
           "sequentialminus": [
            [
             0,
             "#0d0887"
            ],
            [
             0.1111111111111111,
             "#46039f"
            ],
            [
             0.2222222222222222,
             "#7201a8"
            ],
            [
             0.3333333333333333,
             "#9c179e"
            ],
            [
             0.4444444444444444,
             "#bd3786"
            ],
            [
             0.5555555555555556,
             "#d8576b"
            ],
            [
             0.6666666666666666,
             "#ed7953"
            ],
            [
             0.7777777777777778,
             "#fb9f3a"
            ],
            [
             0.8888888888888888,
             "#fdca26"
            ],
            [
             1,
             "#f0f921"
            ]
           ]
          },
          "colorway": [
           "#636efa",
           "#EF553B",
           "#00cc96",
           "#ab63fa",
           "#FFA15A",
           "#19d3f3",
           "#FF6692",
           "#B6E880",
           "#FF97FF",
           "#FECB52"
          ],
          "font": {
           "color": "#2a3f5f"
          },
          "geo": {
           "bgcolor": "white",
           "lakecolor": "white",
           "landcolor": "#E5ECF6",
           "showlakes": true,
           "showland": true,
           "subunitcolor": "white"
          },
          "hoverlabel": {
           "align": "left"
          },
          "hovermode": "closest",
          "mapbox": {
           "style": "light"
          },
          "paper_bgcolor": "white",
          "plot_bgcolor": "#E5ECF6",
          "polar": {
           "angularaxis": {
            "gridcolor": "white",
            "linecolor": "white",
            "ticks": ""
           },
           "bgcolor": "#E5ECF6",
           "radialaxis": {
            "gridcolor": "white",
            "linecolor": "white",
            "ticks": ""
           }
          },
          "scene": {
           "xaxis": {
            "backgroundcolor": "#E5ECF6",
            "gridcolor": "white",
            "gridwidth": 2,
            "linecolor": "white",
            "showbackground": true,
            "ticks": "",
            "zerolinecolor": "white"
           },
           "yaxis": {
            "backgroundcolor": "#E5ECF6",
            "gridcolor": "white",
            "gridwidth": 2,
            "linecolor": "white",
            "showbackground": true,
            "ticks": "",
            "zerolinecolor": "white"
           },
           "zaxis": {
            "backgroundcolor": "#E5ECF6",
            "gridcolor": "white",
            "gridwidth": 2,
            "linecolor": "white",
            "showbackground": true,
            "ticks": "",
            "zerolinecolor": "white"
           }
          },
          "shapedefaults": {
           "line": {
            "color": "#2a3f5f"
           }
          },
          "ternary": {
           "aaxis": {
            "gridcolor": "white",
            "linecolor": "white",
            "ticks": ""
           },
           "baxis": {
            "gridcolor": "white",
            "linecolor": "white",
            "ticks": ""
           },
           "bgcolor": "#E5ECF6",
           "caxis": {
            "gridcolor": "white",
            "linecolor": "white",
            "ticks": ""
           }
          },
          "title": {
           "x": 0.05
          },
          "xaxis": {
           "automargin": true,
           "gridcolor": "white",
           "linecolor": "white",
           "ticks": "",
           "title": {
            "standoff": 15
           },
           "zerolinecolor": "white",
           "zerolinewidth": 2
          },
          "yaxis": {
           "automargin": true,
           "gridcolor": "white",
           "linecolor": "white",
           "ticks": "",
           "title": {
            "standoff": 15
           },
           "zerolinecolor": "white",
           "zerolinewidth": 2
          }
         }
        },
        "title": {
         "text": "Animated Population Pyramid of United states of america (1990-2020)"
        },
        "updatemenus": [
         {
          "buttons": [
           {
            "args": [
             null,
             {
              "frame": {
               "duration": 500,
               "redraw": true
              },
              "fromcurrent": true
             }
            ],
            "label": "Play",
            "method": "animate"
           },
           {
            "args": [
             [
              null
             ],
             {
              "frame": {
               "duration": 0,
               "redraw": true
              },
              "mode": "immediate",
              "transition": {
               "duration": 0
              }
             }
            ],
            "label": "Pause",
            "method": "animate"
           }
          ],
          "direction": "left",
          "pad": {
           "r": 10,
           "t": 87
          },
          "showactive": false,
          "type": "buttons",
          "x": 0.1,
          "xanchor": "right",
          "y": 0,
          "yanchor": "top"
         }
        ],
        "xaxis": {
         "nticks": 8,
         "range": [
          -13354557.700000001,
          13354557.700000001
         ],
         "tickmode": "auto",
         "title": {
          "text": "Population"
         }
        },
        "yaxis": {
         "categoryarray": [
          "0-4",
          "5-9",
          "10-14",
          "15-19",
          "20-24",
          "25-29",
          "30-34",
          "35-39",
          "40-44",
          "45-49",
          "50-54",
          "55-59",
          "60-64",
          "65-69",
          "70-74",
          "75-79",
          "80+"
         ],
         "categoryorder": "array",
         "title": {
          "text": "Age Group"
         }
        }
       }
      },
      "text/html": [
       "<div>            <script src=\"https://cdnjs.cloudflare.com/ajax/libs/mathjax/2.7.5/MathJax.js?config=TeX-AMS-MML_SVG\"></script><script type=\"text/javascript\">if (window.MathJax && window.MathJax.Hub && window.MathJax.Hub.Config) {window.MathJax.Hub.Config({SVG: {font: \"STIX-Web\"}});}</script>                <script type=\"text/javascript\">window.PlotlyConfig = {MathJaxConfig: 'local'};</script>\n",
       "        <script charset=\"utf-8\" src=\"https://cdn.plot.ly/plotly-3.0.0.min.js\"></script>                <div id=\"db213b16-86fb-416e-868b-d3d44795ddd0\" class=\"plotly-graph-div\" style=\"height:525px; width:100%;\"></div>            <script type=\"text/javascript\">                window.PLOTLYENV=window.PLOTLYENV || {};                                if (document.getElementById(\"db213b16-86fb-416e-868b-d3d44795ddd0\")) {                    Plotly.newPlot(                        \"db213b16-86fb-416e-868b-d3d44795ddd0\",                        [{\"marker\":{\"color\":\"blue\"},\"name\":\"Male\",\"opacity\":0.6,\"orientation\":\"h\",\"x\":{\"dtype\":\"f8\",\"bdata\":\"AAAAgO2bYkEAAADgF4VhQQAAACBxemBBAAAAQIniYEEAAAAAzqRiQQAAAGA8LmVBAAAAQF9gZUEAAABgY2VjQQAAAODYKWFBAAAAQCiXWkEAAAAAwCtVQQAAAEBOdFNBAAAAgHzMUkEAAABATt9QQQAAAIDg\\u002fElBAAAAgPTSQUEAAACA+9xAQQ==\"},\"y\":[\"0-4\",\"5-9\",\"10-14\",\"15-19\",\"20-24\",\"25-29\",\"30-34\",\"35-39\",\"40-44\",\"45-49\",\"50-54\",\"55-59\",\"60-64\",\"65-69\",\"70-74\",\"75-79\",\"80+\"],\"type\":\"bar\"},{\"marker\":{\"color\":\"red\"},\"name\":\"Female\",\"opacity\":0.6,\"orientation\":\"h\",\"x\":{\"dtype\":\"f8\",\"bdata\":\"AAAAwP7IYcEAAACAwLdgwQAAAAB\\u002fN1\\u002fBAAAAgLC8X8EAAADAE59hwQAAAEBbTWTBAAAAQIL3ZMEAAACAOEljwQAAAADCN2HBAAAAQP86W8EAAADAhVhWwQAAAIA4\\u002fVTBAAAAwM86VcEAAADAkaVUwQAAAIDAWFHBAAAAAJuSS8EAAACADi9SwQ==\"},\"y\":[\"0-4\",\"5-9\",\"10-14\",\"15-19\",\"20-24\",\"25-29\",\"30-34\",\"35-39\",\"40-44\",\"45-49\",\"50-54\",\"55-59\",\"60-64\",\"65-69\",\"70-74\",\"75-79\",\"80+\"],\"type\":\"bar\"}],                        {\"bargap\":0.1,\"barmode\":\"overlay\",\"title\":{\"text\":\"Animated Population Pyramid of United states of america (1990-2020)\"},\"updatemenus\":[{\"buttons\":[{\"args\":[null,{\"frame\":{\"duration\":500,\"redraw\":true},\"fromcurrent\":true}],\"label\":\"Play\",\"method\":\"animate\"},{\"args\":[[null],{\"frame\":{\"duration\":0,\"redraw\":true},\"mode\":\"immediate\",\"transition\":{\"duration\":0}}],\"label\":\"Pause\",\"method\":\"animate\"}],\"direction\":\"left\",\"pad\":{\"r\":10,\"t\":87},\"showactive\":false,\"type\":\"buttons\",\"x\":0.1,\"xanchor\":\"right\",\"y\":0,\"yanchor\":\"top\"}],\"xaxis\":{\"nticks\":8,\"range\":[-13354557.700000001,13354557.700000001],\"tickmode\":\"auto\",\"title\":{\"text\":\"Population\"}},\"yaxis\":{\"categoryarray\":[\"0-4\",\"5-9\",\"10-14\",\"15-19\",\"20-24\",\"25-29\",\"30-34\",\"35-39\",\"40-44\",\"45-49\",\"50-54\",\"55-59\",\"60-64\",\"65-69\",\"70-74\",\"75-79\",\"80+\"],\"categoryorder\":\"array\",\"title\":{\"text\":\"Age Group\"}},\"template\":{\"data\":{\"histogram2dcontour\":[{\"type\":\"histogram2dcontour\",\"colorbar\":{\"outlinewidth\":0,\"ticks\":\"\"},\"colorscale\":[[0.0,\"#0d0887\"],[0.1111111111111111,\"#46039f\"],[0.2222222222222222,\"#7201a8\"],[0.3333333333333333,\"#9c179e\"],[0.4444444444444444,\"#bd3786\"],[0.5555555555555556,\"#d8576b\"],[0.6666666666666666,\"#ed7953\"],[0.7777777777777778,\"#fb9f3a\"],[0.8888888888888888,\"#fdca26\"],[1.0,\"#f0f921\"]]}],\"choropleth\":[{\"type\":\"choropleth\",\"colorbar\":{\"outlinewidth\":0,\"ticks\":\"\"}}],\"histogram2d\":[{\"type\":\"histogram2d\",\"colorbar\":{\"outlinewidth\":0,\"ticks\":\"\"},\"colorscale\":[[0.0,\"#0d0887\"],[0.1111111111111111,\"#46039f\"],[0.2222222222222222,\"#7201a8\"],[0.3333333333333333,\"#9c179e\"],[0.4444444444444444,\"#bd3786\"],[0.5555555555555556,\"#d8576b\"],[0.6666666666666666,\"#ed7953\"],[0.7777777777777778,\"#fb9f3a\"],[0.8888888888888888,\"#fdca26\"],[1.0,\"#f0f921\"]]}],\"heatmap\":[{\"type\":\"heatmap\",\"colorbar\":{\"outlinewidth\":0,\"ticks\":\"\"},\"colorscale\":[[0.0,\"#0d0887\"],[0.1111111111111111,\"#46039f\"],[0.2222222222222222,\"#7201a8\"],[0.3333333333333333,\"#9c179e\"],[0.4444444444444444,\"#bd3786\"],[0.5555555555555556,\"#d8576b\"],[0.6666666666666666,\"#ed7953\"],[0.7777777777777778,\"#fb9f3a\"],[0.8888888888888888,\"#fdca26\"],[1.0,\"#f0f921\"]]}],\"contourcarpet\":[{\"type\":\"contourcarpet\",\"colorbar\":{\"outlinewidth\":0,\"ticks\":\"\"}}],\"contour\":[{\"type\":\"contour\",\"colorbar\":{\"outlinewidth\":0,\"ticks\":\"\"},\"colorscale\":[[0.0,\"#0d0887\"],[0.1111111111111111,\"#46039f\"],[0.2222222222222222,\"#7201a8\"],[0.3333333333333333,\"#9c179e\"],[0.4444444444444444,\"#bd3786\"],[0.5555555555555556,\"#d8576b\"],[0.6666666666666666,\"#ed7953\"],[0.7777777777777778,\"#fb9f3a\"],[0.8888888888888888,\"#fdca26\"],[1.0,\"#f0f921\"]]}],\"surface\":[{\"type\":\"surface\",\"colorbar\":{\"outlinewidth\":0,\"ticks\":\"\"},\"colorscale\":[[0.0,\"#0d0887\"],[0.1111111111111111,\"#46039f\"],[0.2222222222222222,\"#7201a8\"],[0.3333333333333333,\"#9c179e\"],[0.4444444444444444,\"#bd3786\"],[0.5555555555555556,\"#d8576b\"],[0.6666666666666666,\"#ed7953\"],[0.7777777777777778,\"#fb9f3a\"],[0.8888888888888888,\"#fdca26\"],[1.0,\"#f0f921\"]]}],\"mesh3d\":[{\"type\":\"mesh3d\",\"colorbar\":{\"outlinewidth\":0,\"ticks\":\"\"}}],\"scatter\":[{\"fillpattern\":{\"fillmode\":\"overlay\",\"size\":10,\"solidity\":0.2},\"type\":\"scatter\"}],\"parcoords\":[{\"type\":\"parcoords\",\"line\":{\"colorbar\":{\"outlinewidth\":0,\"ticks\":\"\"}}}],\"scatterpolargl\":[{\"type\":\"scatterpolargl\",\"marker\":{\"colorbar\":{\"outlinewidth\":0,\"ticks\":\"\"}}}],\"bar\":[{\"error_x\":{\"color\":\"#2a3f5f\"},\"error_y\":{\"color\":\"#2a3f5f\"},\"marker\":{\"line\":{\"color\":\"#E5ECF6\",\"width\":0.5},\"pattern\":{\"fillmode\":\"overlay\",\"size\":10,\"solidity\":0.2}},\"type\":\"bar\"}],\"scattergeo\":[{\"type\":\"scattergeo\",\"marker\":{\"colorbar\":{\"outlinewidth\":0,\"ticks\":\"\"}}}],\"scatterpolar\":[{\"type\":\"scatterpolar\",\"marker\":{\"colorbar\":{\"outlinewidth\":0,\"ticks\":\"\"}}}],\"histogram\":[{\"marker\":{\"pattern\":{\"fillmode\":\"overlay\",\"size\":10,\"solidity\":0.2}},\"type\":\"histogram\"}],\"scattergl\":[{\"type\":\"scattergl\",\"marker\":{\"colorbar\":{\"outlinewidth\":0,\"ticks\":\"\"}}}],\"scatter3d\":[{\"type\":\"scatter3d\",\"line\":{\"colorbar\":{\"outlinewidth\":0,\"ticks\":\"\"}},\"marker\":{\"colorbar\":{\"outlinewidth\":0,\"ticks\":\"\"}}}],\"scattermap\":[{\"type\":\"scattermap\",\"marker\":{\"colorbar\":{\"outlinewidth\":0,\"ticks\":\"\"}}}],\"scattermapbox\":[{\"type\":\"scattermapbox\",\"marker\":{\"colorbar\":{\"outlinewidth\":0,\"ticks\":\"\"}}}],\"scatterternary\":[{\"type\":\"scatterternary\",\"marker\":{\"colorbar\":{\"outlinewidth\":0,\"ticks\":\"\"}}}],\"scattercarpet\":[{\"type\":\"scattercarpet\",\"marker\":{\"colorbar\":{\"outlinewidth\":0,\"ticks\":\"\"}}}],\"carpet\":[{\"aaxis\":{\"endlinecolor\":\"#2a3f5f\",\"gridcolor\":\"white\",\"linecolor\":\"white\",\"minorgridcolor\":\"white\",\"startlinecolor\":\"#2a3f5f\"},\"baxis\":{\"endlinecolor\":\"#2a3f5f\",\"gridcolor\":\"white\",\"linecolor\":\"white\",\"minorgridcolor\":\"white\",\"startlinecolor\":\"#2a3f5f\"},\"type\":\"carpet\"}],\"table\":[{\"cells\":{\"fill\":{\"color\":\"#EBF0F8\"},\"line\":{\"color\":\"white\"}},\"header\":{\"fill\":{\"color\":\"#C8D4E3\"},\"line\":{\"color\":\"white\"}},\"type\":\"table\"}],\"barpolar\":[{\"marker\":{\"line\":{\"color\":\"#E5ECF6\",\"width\":0.5},\"pattern\":{\"fillmode\":\"overlay\",\"size\":10,\"solidity\":0.2}},\"type\":\"barpolar\"}],\"pie\":[{\"automargin\":true,\"type\":\"pie\"}]},\"layout\":{\"autotypenumbers\":\"strict\",\"colorway\":[\"#636efa\",\"#EF553B\",\"#00cc96\",\"#ab63fa\",\"#FFA15A\",\"#19d3f3\",\"#FF6692\",\"#B6E880\",\"#FF97FF\",\"#FECB52\"],\"font\":{\"color\":\"#2a3f5f\"},\"hovermode\":\"closest\",\"hoverlabel\":{\"align\":\"left\"},\"paper_bgcolor\":\"white\",\"plot_bgcolor\":\"#E5ECF6\",\"polar\":{\"bgcolor\":\"#E5ECF6\",\"angularaxis\":{\"gridcolor\":\"white\",\"linecolor\":\"white\",\"ticks\":\"\"},\"radialaxis\":{\"gridcolor\":\"white\",\"linecolor\":\"white\",\"ticks\":\"\"}},\"ternary\":{\"bgcolor\":\"#E5ECF6\",\"aaxis\":{\"gridcolor\":\"white\",\"linecolor\":\"white\",\"ticks\":\"\"},\"baxis\":{\"gridcolor\":\"white\",\"linecolor\":\"white\",\"ticks\":\"\"},\"caxis\":{\"gridcolor\":\"white\",\"linecolor\":\"white\",\"ticks\":\"\"}},\"coloraxis\":{\"colorbar\":{\"outlinewidth\":0,\"ticks\":\"\"}},\"colorscale\":{\"sequential\":[[0.0,\"#0d0887\"],[0.1111111111111111,\"#46039f\"],[0.2222222222222222,\"#7201a8\"],[0.3333333333333333,\"#9c179e\"],[0.4444444444444444,\"#bd3786\"],[0.5555555555555556,\"#d8576b\"],[0.6666666666666666,\"#ed7953\"],[0.7777777777777778,\"#fb9f3a\"],[0.8888888888888888,\"#fdca26\"],[1.0,\"#f0f921\"]],\"sequentialminus\":[[0.0,\"#0d0887\"],[0.1111111111111111,\"#46039f\"],[0.2222222222222222,\"#7201a8\"],[0.3333333333333333,\"#9c179e\"],[0.4444444444444444,\"#bd3786\"],[0.5555555555555556,\"#d8576b\"],[0.6666666666666666,\"#ed7953\"],[0.7777777777777778,\"#fb9f3a\"],[0.8888888888888888,\"#fdca26\"],[1.0,\"#f0f921\"]],\"diverging\":[[0,\"#8e0152\"],[0.1,\"#c51b7d\"],[0.2,\"#de77ae\"],[0.3,\"#f1b6da\"],[0.4,\"#fde0ef\"],[0.5,\"#f7f7f7\"],[0.6,\"#e6f5d0\"],[0.7,\"#b8e186\"],[0.8,\"#7fbc41\"],[0.9,\"#4d9221\"],[1,\"#276419\"]]},\"xaxis\":{\"gridcolor\":\"white\",\"linecolor\":\"white\",\"ticks\":\"\",\"title\":{\"standoff\":15},\"zerolinecolor\":\"white\",\"automargin\":true,\"zerolinewidth\":2},\"yaxis\":{\"gridcolor\":\"white\",\"linecolor\":\"white\",\"ticks\":\"\",\"title\":{\"standoff\":15},\"zerolinecolor\":\"white\",\"automargin\":true,\"zerolinewidth\":2},\"scene\":{\"xaxis\":{\"backgroundcolor\":\"#E5ECF6\",\"gridcolor\":\"white\",\"linecolor\":\"white\",\"showbackground\":true,\"ticks\":\"\",\"zerolinecolor\":\"white\",\"gridwidth\":2},\"yaxis\":{\"backgroundcolor\":\"#E5ECF6\",\"gridcolor\":\"white\",\"linecolor\":\"white\",\"showbackground\":true,\"ticks\":\"\",\"zerolinecolor\":\"white\",\"gridwidth\":2},\"zaxis\":{\"backgroundcolor\":\"#E5ECF6\",\"gridcolor\":\"white\",\"linecolor\":\"white\",\"showbackground\":true,\"ticks\":\"\",\"zerolinecolor\":\"white\",\"gridwidth\":2}},\"shapedefaults\":{\"line\":{\"color\":\"#2a3f5f\"}},\"annotationdefaults\":{\"arrowcolor\":\"#2a3f5f\",\"arrowhead\":0,\"arrowwidth\":1},\"geo\":{\"bgcolor\":\"white\",\"landcolor\":\"#E5ECF6\",\"subunitcolor\":\"white\",\"showland\":true,\"showlakes\":true,\"lakecolor\":\"white\"},\"title\":{\"x\":0.05},\"mapbox\":{\"style\":\"light\"}}},\"sliders\":[{\"active\":0,\"currentvalue\":{\"font\":{\"size\":20},\"prefix\":\"Year:\",\"visible\":true,\"xanchor\":\"right\"},\"len\":0.9,\"pad\":{\"b\":10,\"t\":50},\"steps\":[{\"args\":[[\"1990\"],{\"frame\":{\"duration\":300,\"redraw\":true},\"mode\":\"immediate\",\"transition\":{\"duration\":300}}],\"label\":\"1990\",\"method\":\"animate\"},{\"args\":[[\"1991\"],{\"frame\":{\"duration\":300,\"redraw\":true},\"mode\":\"immediate\",\"transition\":{\"duration\":300}}],\"label\":\"1991\",\"method\":\"animate\"},{\"args\":[[\"1992\"],{\"frame\":{\"duration\":300,\"redraw\":true},\"mode\":\"immediate\",\"transition\":{\"duration\":300}}],\"label\":\"1992\",\"method\":\"animate\"},{\"args\":[[\"1993\"],{\"frame\":{\"duration\":300,\"redraw\":true},\"mode\":\"immediate\",\"transition\":{\"duration\":300}}],\"label\":\"1993\",\"method\":\"animate\"},{\"args\":[[\"1994\"],{\"frame\":{\"duration\":300,\"redraw\":true},\"mode\":\"immediate\",\"transition\":{\"duration\":300}}],\"label\":\"1994\",\"method\":\"animate\"},{\"args\":[[\"1995\"],{\"frame\":{\"duration\":300,\"redraw\":true},\"mode\":\"immediate\",\"transition\":{\"duration\":300}}],\"label\":\"1995\",\"method\":\"animate\"},{\"args\":[[\"1996\"],{\"frame\":{\"duration\":300,\"redraw\":true},\"mode\":\"immediate\",\"transition\":{\"duration\":300}}],\"label\":\"1996\",\"method\":\"animate\"},{\"args\":[[\"1997\"],{\"frame\":{\"duration\":300,\"redraw\":true},\"mode\":\"immediate\",\"transition\":{\"duration\":300}}],\"label\":\"1997\",\"method\":\"animate\"},{\"args\":[[\"1998\"],{\"frame\":{\"duration\":300,\"redraw\":true},\"mode\":\"immediate\",\"transition\":{\"duration\":300}}],\"label\":\"1998\",\"method\":\"animate\"},{\"args\":[[\"1999\"],{\"frame\":{\"duration\":300,\"redraw\":true},\"mode\":\"immediate\",\"transition\":{\"duration\":300}}],\"label\":\"1999\",\"method\":\"animate\"},{\"args\":[[\"2000\"],{\"frame\":{\"duration\":300,\"redraw\":true},\"mode\":\"immediate\",\"transition\":{\"duration\":300}}],\"label\":\"2000\",\"method\":\"animate\"},{\"args\":[[\"2001\"],{\"frame\":{\"duration\":300,\"redraw\":true},\"mode\":\"immediate\",\"transition\":{\"duration\":300}}],\"label\":\"2001\",\"method\":\"animate\"},{\"args\":[[\"2002\"],{\"frame\":{\"duration\":300,\"redraw\":true},\"mode\":\"immediate\",\"transition\":{\"duration\":300}}],\"label\":\"2002\",\"method\":\"animate\"},{\"args\":[[\"2003\"],{\"frame\":{\"duration\":300,\"redraw\":true},\"mode\":\"immediate\",\"transition\":{\"duration\":300}}],\"label\":\"2003\",\"method\":\"animate\"},{\"args\":[[\"2004\"],{\"frame\":{\"duration\":300,\"redraw\":true},\"mode\":\"immediate\",\"transition\":{\"duration\":300}}],\"label\":\"2004\",\"method\":\"animate\"},{\"args\":[[\"2005\"],{\"frame\":{\"duration\":300,\"redraw\":true},\"mode\":\"immediate\",\"transition\":{\"duration\":300}}],\"label\":\"2005\",\"method\":\"animate\"},{\"args\":[[\"2006\"],{\"frame\":{\"duration\":300,\"redraw\":true},\"mode\":\"immediate\",\"transition\":{\"duration\":300}}],\"label\":\"2006\",\"method\":\"animate\"},{\"args\":[[\"2007\"],{\"frame\":{\"duration\":300,\"redraw\":true},\"mode\":\"immediate\",\"transition\":{\"duration\":300}}],\"label\":\"2007\",\"method\":\"animate\"},{\"args\":[[\"2008\"],{\"frame\":{\"duration\":300,\"redraw\":true},\"mode\":\"immediate\",\"transition\":{\"duration\":300}}],\"label\":\"2008\",\"method\":\"animate\"},{\"args\":[[\"2009\"],{\"frame\":{\"duration\":300,\"redraw\":true},\"mode\":\"immediate\",\"transition\":{\"duration\":300}}],\"label\":\"2009\",\"method\":\"animate\"},{\"args\":[[\"2010\"],{\"frame\":{\"duration\":300,\"redraw\":true},\"mode\":\"immediate\",\"transition\":{\"duration\":300}}],\"label\":\"2010\",\"method\":\"animate\"},{\"args\":[[\"2011\"],{\"frame\":{\"duration\":300,\"redraw\":true},\"mode\":\"immediate\",\"transition\":{\"duration\":300}}],\"label\":\"2011\",\"method\":\"animate\"},{\"args\":[[\"2012\"],{\"frame\":{\"duration\":300,\"redraw\":true},\"mode\":\"immediate\",\"transition\":{\"duration\":300}}],\"label\":\"2012\",\"method\":\"animate\"},{\"args\":[[\"2013\"],{\"frame\":{\"duration\":300,\"redraw\":true},\"mode\":\"immediate\",\"transition\":{\"duration\":300}}],\"label\":\"2013\",\"method\":\"animate\"},{\"args\":[[\"2014\"],{\"frame\":{\"duration\":300,\"redraw\":true},\"mode\":\"immediate\",\"transition\":{\"duration\":300}}],\"label\":\"2014\",\"method\":\"animate\"},{\"args\":[[\"2015\"],{\"frame\":{\"duration\":300,\"redraw\":true},\"mode\":\"immediate\",\"transition\":{\"duration\":300}}],\"label\":\"2015\",\"method\":\"animate\"},{\"args\":[[\"2016\"],{\"frame\":{\"duration\":300,\"redraw\":true},\"mode\":\"immediate\",\"transition\":{\"duration\":300}}],\"label\":\"2016\",\"method\":\"animate\"},{\"args\":[[\"2017\"],{\"frame\":{\"duration\":300,\"redraw\":true},\"mode\":\"immediate\",\"transition\":{\"duration\":300}}],\"label\":\"2017\",\"method\":\"animate\"},{\"args\":[[\"2018\"],{\"frame\":{\"duration\":300,\"redraw\":true},\"mode\":\"immediate\",\"transition\":{\"duration\":300}}],\"label\":\"2018\",\"method\":\"animate\"},{\"args\":[[\"2019\"],{\"frame\":{\"duration\":300,\"redraw\":true},\"mode\":\"immediate\",\"transition\":{\"duration\":300}}],\"label\":\"2019\",\"method\":\"animate\"},{\"args\":[[\"2020\"],{\"frame\":{\"duration\":300,\"redraw\":true},\"mode\":\"immediate\",\"transition\":{\"duration\":300}}],\"label\":\"2020\",\"method\":\"animate\"}],\"transition\":{\"duration\":300,\"easing\":\"cubic-in-out\"},\"x\":0.1,\"xanchor\":\"left\",\"y\":0,\"yanchor\":\"top\"}]},                        {\"responsive\": true}                    ).then(function(){\n",
       "                            Plotly.addFrames('db213b16-86fb-416e-868b-d3d44795ddd0', [{\"data\":[{\"marker\":{\"color\":\"blue\"},\"name\":\"Male\",\"opacity\":0.6,\"orientation\":\"h\",\"x\":{\"dtype\":\"f8\",\"bdata\":\"AAAAgO2bYkEAAADgF4VhQQAAACBxemBBAAAAQIniYEEAAAAAzqRiQQAAAGA8LmVBAAAAQF9gZUEAAABgY2VjQQAAAODYKWFBAAAAQCiXWkEAAAAAwCtVQQAAAEBOdFNBAAAAgHzMUkEAAABATt9QQQAAAIDg\\u002fElBAAAAgPTSQUEAAACA+9xAQQ==\"},\"y\":[\"0-4\",\"5-9\",\"10-14\",\"15-19\",\"20-24\",\"25-29\",\"30-34\",\"35-39\",\"40-44\",\"45-49\",\"50-54\",\"55-59\",\"60-64\",\"65-69\",\"70-74\",\"75-79\",\"80+\"],\"type\":\"bar\"},{\"marker\":{\"color\":\"red\"},\"name\":\"Female\",\"opacity\":0.6,\"orientation\":\"h\",\"x\":{\"dtype\":\"f8\",\"bdata\":\"AAAAwP7IYcEAAACAwLdgwQAAAAB\\u002fN1\\u002fBAAAAgLC8X8EAAADAE59hwQAAAEBbTWTBAAAAQIL3ZMEAAACAOEljwQAAAADCN2HBAAAAQP86W8EAAADAhVhWwQAAAIA4\\u002fVTBAAAAwM86VcEAAADAkaVUwQAAAIDAWFHBAAAAAJuSS8EAAACADi9SwQ==\"},\"y\":[\"0-4\",\"5-9\",\"10-14\",\"15-19\",\"20-24\",\"25-29\",\"30-34\",\"35-39\",\"40-44\",\"45-49\",\"50-54\",\"55-59\",\"60-64\",\"65-69\",\"70-74\",\"75-79\",\"80+\"],\"type\":\"bar\"}],\"name\":\"1990\"},{\"data\":[{\"marker\":{\"color\":\"blue\"},\"name\":\"Male\",\"opacity\":0.6,\"orientation\":\"h\",\"x\":{\"dtype\":\"f8\",\"bdata\":\"AAAAoK3pYkEAAABgkrVhQQAAAGBxCmFBAAAAYCmfYEEAAACAgcNiQQAAAKBP3WRBAAAA4Jy+ZUEAAADADPBjQQAAAEAnumFBAAAAQCAKXEEAAADACZ5VQQAAAEArf1NBAAAAQOrGUkEAAACAR+VQQQAAAACAs0pBAAAAAHQwQkEAAACAyIFBQQ==\"},\"y\":[\"0-4\",\"5-9\",\"10-14\",\"15-19\",\"20-24\",\"25-29\",\"30-34\",\"35-39\",\"40-44\",\"45-49\",\"50-54\",\"55-59\",\"60-64\",\"65-69\",\"70-74\",\"75-79\",\"80+\"],\"type\":\"bar\"},{\"marker\":{\"color\":\"red\"},\"name\":\"Female\",\"opacity\":0.6,\"orientation\":\"h\",\"x\":{\"dtype\":\"f8\",\"bdata\":\"AAAAgM0UYsEAAABACeJgwQAAAIAmH2DBAAAAAPMrX8EAAACAUqhhwQAAACC96mPBAAAAIHokZcEAAACgFtVjwQAAAKAbxGHBAAAAAMFyXMEAAACAt+dWwQAAAABC81TBAAAAwL39VMEAAABANqVUwQAAAABSs1HBAAAAgKcETMEAAACAqcBSwQ==\"},\"y\":[\"0-4\",\"5-9\",\"10-14\",\"15-19\",\"20-24\",\"25-29\",\"30-34\",\"35-39\",\"40-44\",\"45-49\",\"50-54\",\"55-59\",\"60-64\",\"65-69\",\"70-74\",\"75-79\",\"80+\"],\"type\":\"bar\"}],\"name\":\"1991\"},{\"data\":[{\"marker\":{\"color\":\"blue\"},\"name\":\"Male\",\"opacity\":0.6,\"orientation\":\"h\",\"x\":{\"dtype\":\"f8\",\"bdata\":\"AAAAAEw5Y0EAAADAQ\\u002fFhQQAAAADajWFBAAAA4IirYEEAAABgCMtiQQAAAID+cGRBAAAAYDj8ZUEAAADAznZkQQAAAABcBGJBAAAAwEK\\u002fXUEAAAAAenxWQQAAAAD4slNBAAAAwD+tUkEAAABA9+xQQQAAAIB3ZEtBAAAAAFubQkEAAACA3CpCQQ==\"},\"y\":[\"0-4\",\"5-9\",\"10-14\",\"15-19\",\"20-24\",\"25-29\",\"30-34\",\"35-39\",\"40-44\",\"45-49\",\"50-54\",\"55-59\",\"60-64\",\"65-69\",\"70-74\",\"75-79\",\"80+\"],\"type\":\"bar\"},{\"marker\":{\"color\":\"red\"},\"name\":\"Female\",\"opacity\":0.6,\"orientation\":\"h\",\"x\":{\"dtype\":\"f8\",\"bdata\":\"AAAAgMJeYsEAAACgUhZhwQAAAADHl2DBAAAAgFs0X8EAAAAALaRhwQAAAMAZeGPBAAAA4OJCZcEAAAAgPVZkwQAAAOC5DmLBAAAAAAsNXsEAAADAT9pXwQAAAEAmBFXBAAAAwGnEVMEAAADArYpUwQAAAAC\\u002fG1LBAAAAAGxnTMEAAABAlVhTwQ==\"},\"y\":[\"0-4\",\"5-9\",\"10-14\",\"15-19\",\"20-24\",\"25-29\",\"30-34\",\"35-39\",\"40-44\",\"45-49\",\"50-54\",\"55-59\",\"60-64\",\"65-69\",\"70-74\",\"75-79\",\"80+\"],\"type\":\"bar\"}],\"name\":\"1992\"},{\"data\":[{\"marker\":{\"color\":\"blue\"},\"name\":\"Male\",\"opacity\":0.6,\"orientation\":\"h\",\"x\":{\"dtype\":\"f8\",\"bdata\":\"AAAAQJJiY0EAAADg3TliQQAAAKDm\\u002fGFBAAAAICf+YEEAAAAg27NiQQAAAICJCWRBAAAAgLARZkEAAADgs\\u002fRkQQAAAKC2W2JBAAAAwJMzX0EAAABAeqdXQQAAAEDKB1RBAAAAQD6HUkEAAACA7PVQQQAAAACl7UtBAAAAAIEaQ0EAAAAABMlCQQ==\"},\"y\":[\"0-4\",\"5-9\",\"10-14\",\"15-19\",\"20-24\",\"25-29\",\"30-34\",\"35-39\",\"40-44\",\"45-49\",\"50-54\",\"55-59\",\"60-64\",\"65-69\",\"70-74\",\"75-79\",\"80+\"],\"type\":\"bar\"},{\"marker\":{\"color\":\"red\"},\"name\":\"Female\",\"opacity\":0.6,\"orientation\":\"h\",\"x\":{\"dtype\":\"f8\",\"bdata\":\"AAAA4P6CYsEAAADASVdhwQAAAOCp\\u002fGDBAAAAwOXCX8EAAAAARIVhwQAAAADRCGPBAAAAIGdCZcEAAABg0sRkwQAAAKCIYmLBAAAAAMh6X8EAAABADwpZwQAAAEDGQVXBAAAAQBSBVMEAAABAXWlUwQAAAICcZFLBAAAAgHHbTMEAAAAAtuhTwQ==\"},\"y\":[\"0-4\",\"5-9\",\"10-14\",\"15-19\",\"20-24\",\"25-29\",\"30-34\",\"35-39\",\"40-44\",\"45-49\",\"50-54\",\"55-59\",\"60-64\",\"65-69\",\"70-74\",\"75-79\",\"80+\"],\"type\":\"bar\"}],\"name\":\"1993\"},{\"data\":[{\"marker\":{\"color\":\"blue\"},\"name\":\"Male\",\"opacity\":0.6,\"orientation\":\"h\",\"x\":{\"dtype\":\"f8\",\"bdata\":\"AAAAQCNgY0EAAABgWJViQQAAAEAUU2JBAAAA4B9pYUEAAADAMYhiQQAAACD0t2NBAAAAgI8LZkEAAAAAPl1lQQAAAKBn22JBAAAAwAhEYEEAAADAU+dYQQAAAID6T1RBAAAAwJJuUkEAAABA4PVQQQAAAIBFVUxBAAAAALqnQ0EAAAAASWBDQQ==\"},\"y\":[\"0-4\",\"5-9\",\"10-14\",\"15-19\",\"20-24\",\"25-29\",\"30-34\",\"35-39\",\"40-44\",\"45-49\",\"50-54\",\"55-59\",\"60-64\",\"65-69\",\"70-74\",\"75-79\",\"80+\"],\"type\":\"bar\"},{\"marker\":{\"color\":\"red\"},\"name\":\"Female\",\"opacity\":0.6,\"orientation\":\"h\",\"x\":{\"dtype\":\"f8\",\"bdata\":\"AAAAQK1+YsEAAADAZ6thwQAAAOAoSmHBAAAAYK1CYMEAAAAAfVNhwQAAAKAOrWLBAAAAgDIvZcEAAADgPRxlwQAAAEAf2GLBAAAAwCRsYMEAAADAfx1awQAAAECVmFXBAAAAgIBWVMEAAAAAaTZUwQAAAAB\\u002flVLBAAAAAERgTcEAAAAAemlUwQ==\"},\"y\":[\"0-4\",\"5-9\",\"10-14\",\"15-19\",\"20-24\",\"25-29\",\"30-34\",\"35-39\",\"40-44\",\"45-49\",\"50-54\",\"55-59\",\"60-64\",\"65-69\",\"70-74\",\"75-79\",\"80+\"],\"type\":\"bar\"}],\"name\":\"1994\"},{\"data\":[{\"marker\":{\"color\":\"blue\"},\"name\":\"Male\",\"opacity\":0.6,\"orientation\":\"h\",\"x\":{\"dtype\":\"f8\",\"bdata\":\"AAAA4C0yY0EAAAAgpv5iQQAAAADnlmJBAAAAQNfsYUEAAACAh0BiQQAAAMAKp2NBAAAAoDLgZUEAAAAgvLplQQAAAICVaWNBAAAAAHb\\u002fYEEAAACAUxNaQQAAAMAZhlRBAAAAwLZlUkEAAAAAQ\\u002f9QQQAAAIBbo0xBAAAAAFJAREEAAACAC\\u002flDQQ==\"},\"y\":[\"0-4\",\"5-9\",\"10-14\",\"15-19\",\"20-24\",\"25-29\",\"30-34\",\"35-39\",\"40-44\",\"45-49\",\"50-54\",\"55-59\",\"60-64\",\"65-69\",\"70-74\",\"75-79\",\"80+\"],\"type\":\"bar\"},{\"marker\":{\"color\":\"red\"},\"name\":\"Female\",\"opacity\":0.6,\"orientation\":\"h\",\"x\":{\"dtype\":\"f8\",\"bdata\":\"AAAAAB1SYsEAAACg3wxiwQAAAGCohmHBAAAAYHy8YMEAAACg9gdhwQAAAACGjWLBAAAAgMH9ZMEAAACgXFtlwQAAAOA7ZGPBAAAAwIYsYcEAAADAJP5awQAAAEAs+FXBAAAAwOFJVMEAAABAPf5TwQAAAIDgv1LBAAAAANvbTcEAAAAA3+hUwQ==\"},\"y\":[\"0-4\",\"5-9\",\"10-14\",\"15-19\",\"20-24\",\"25-29\",\"30-34\",\"35-39\",\"40-44\",\"45-49\",\"50-54\",\"55-59\",\"60-64\",\"65-69\",\"70-74\",\"75-79\",\"80+\"],\"type\":\"bar\"}],\"name\":\"1995\"},{\"data\":[{\"marker\":{\"color\":\"blue\"},\"name\":\"Male\",\"opacity\":0.6,\"orientation\":\"h\",\"x\":{\"dtype\":\"f8\",\"bdata\":\"AAAAwK3xYkEAAABANmVjQQAAAABo02JBAAAAIK97YkEAAADgqPthQQAAAGC6wmNBAAAAoHKHZUEAAACAthVmQQAAACB582NBAAAAoPmMYUEAAACALn5bQQAAAMCc9FRBAAAAACp2UkEAAADAeAdRQQAAAIB6w0xBAAAAgKjkREEAAACAOI5EQQ==\"},\"y\":[\"0-4\",\"5-9\",\"10-14\",\"15-19\",\"20-24\",\"25-29\",\"30-34\",\"35-39\",\"40-44\",\"45-49\",\"50-54\",\"55-59\",\"60-64\",\"65-69\",\"70-74\",\"75-79\",\"80+\"],\"type\":\"bar\"},{\"marker\":{\"color\":\"red\"},\"name\":\"Female\",\"opacity\":0.6,\"orientation\":\"h\",\"x\":{\"dtype\":\"f8\",\"bdata\":\"AAAAIM4TYsEAAACgPW1iwQAAACB3vGHBAAAA4E5AYcEAAACAB8BgwQAAAADHmWLBAAAAQFKdZMEAAADAR41lwQAAAEBa9GPBAAAAoKu7YcEAAACAUjZcwQAAAEDJiFbBAAAAQH9IVMEAAABAXM5TwQAAAMCExFLBAAAAAAN\\u002fTsEAAABABlpVwQ==\"},\"y\":[\"0-4\",\"5-9\",\"10-14\",\"15-19\",\"20-24\",\"25-29\",\"30-34\",\"35-39\",\"40-44\",\"45-49\",\"50-54\",\"55-59\",\"60-64\",\"65-69\",\"70-74\",\"75-79\",\"80+\"],\"type\":\"bar\"}],\"name\":\"1996\"},{\"data\":[{\"marker\":{\"color\":\"blue\"},\"name\":\"Male\",\"opacity\":0.6,\"orientation\":\"h\",\"x\":{\"dtype\":\"f8\",\"bdata\":\"AAAAQM69YkEAAADgSrdjQQAAAIBUDmNBAAAAwEb9YkEAAACAuQViQQAAAOC4ymNBAAAAAL4eZUEAAAAg8VdmQQAAACBEfmRBAAAAIIvZYUEAAACAXzRdQQAAAIAF01VBAAAAAOiwUkEAAACAyvtQQQAAAIC65ExBAAAAAIyGRUEAAACAly5FQQ==\"},\"y\":[\"0-4\",\"5-9\",\"10-14\",\"15-19\",\"20-24\",\"25-29\",\"30-34\",\"35-39\",\"40-44\",\"45-49\",\"50-54\",\"55-59\",\"60-64\",\"65-69\",\"70-74\",\"75-79\",\"80+\"],\"type\":\"bar\"},{\"marker\":{\"color\":\"red\"},\"name\":\"Female\",\"opacity\":0.6,\"orientation\":\"h\",\"x\":{\"dtype\":\"f8\",\"bdata\":\"AAAAYGDiYcEAAACgGrpiwQAAACDp8GHBAAAAwBS4YcEAAADAacJgwQAAAABolWLBAAAAYE0rZMEAAACgfa5lwQAAAGDbeGTBAAAAwIsJYsEAAAAA6dRdwQAAAMAVfVfBAAAAwMxeVMEAAACAXp5TwQAAAACMsVLBAAAAgKA+T8EAAACAScdVwQ==\"},\"y\":[\"0-4\",\"5-9\",\"10-14\",\"15-19\",\"20-24\",\"25-29\",\"30-34\",\"35-39\",\"40-44\",\"45-49\",\"50-54\",\"55-59\",\"60-64\",\"65-69\",\"70-74\",\"75-79\",\"80+\"],\"type\":\"bar\"}],\"name\":\"1997\"},{\"data\":[{\"marker\":{\"color\":\"blue\"},\"name\":\"Male\",\"opacity\":0.6,\"orientation\":\"h\",\"x\":{\"dtype\":\"f8\",\"bdata\":\"AAAAYBubYkEAAAAgZuNjQQAAACDZVmNBAAAA4FRrY0EAAAAA+VViQQAAAIDJsmNBAAAAwB26ZEEAAABAjnFmQQAAAKBFAGVBAAAAwCUzYkEAAAAAJKpeQQAAAEDz+1ZBAAAAgP8KU0EAAAAA5uJQQQAAAACGCk1BAAAAgBQJRkEAAAAALt5FQQ==\"},\"y\":[\"0-4\",\"5-9\",\"10-14\",\"15-19\",\"20-24\",\"25-29\",\"30-34\",\"35-39\",\"40-44\",\"45-49\",\"50-54\",\"55-59\",\"60-64\",\"65-69\",\"70-74\",\"75-79\",\"80+\"],\"type\":\"bar\"},{\"marker\":{\"color\":\"red\"},\"name\":\"Female\",\"opacity\":0.6,\"orientation\":\"h\",\"x\":{\"dtype\":\"f8\",\"bdata\":\"AAAAgNrCYcEAAADgOuFiwQAAAIBTMmLBAAAA4IAcYsEAAADg1AdhwQAAAEAcdWLBAAAA4FS7Y8EAAAAA4K5lwQAAAKBN6WTBAAAAIGdfYsEAAACAx0VfwQAAAMBJrFjBAAAAwBegVMEAAADAUmJTwQAAAAD5l1LBAAAAgNrGT8EAAACATTlWwQ==\"},\"y\":[\"0-4\",\"5-9\",\"10-14\",\"15-19\",\"20-24\",\"25-29\",\"30-34\",\"35-39\",\"40-44\",\"45-49\",\"50-54\",\"55-59\",\"60-64\",\"65-69\",\"70-74\",\"75-79\",\"80+\"],\"type\":\"bar\"}],\"name\":\"1998\"},{\"data\":[{\"marker\":{\"color\":\"blue\"},\"name\":\"Male\",\"opacity\":0.6,\"orientation\":\"h\",\"x\":{\"dtype\":\"f8\",\"bdata\":\"AAAA4OCRYkEAAACgPuRjQQAAACCRtWNBAAAAgNjEY0EAAAAAtcNiQQAAAAC3iWNBAAAAYJxtZEEAAABAi3FmQQAAAEBlbmVBAAAAAMG1YkEAAACgDQBgQQAAAICgOVhBAAAAQLNZU0EAAACALtZQQQAAAIBrJU1BAAAAgD5uRkEAAACAi5ZGQQ==\"},\"y\":[\"0-4\",\"5-9\",\"10-14\",\"15-19\",\"20-24\",\"25-29\",\"30-34\",\"35-39\",\"40-44\",\"45-49\",\"50-54\",\"55-59\",\"60-64\",\"65-69\",\"70-74\",\"75-79\",\"80+\"],\"type\":\"bar\"},{\"marker\":{\"color\":\"red\"},\"name\":\"Female\",\"opacity\":0.6,\"orientation\":\"h\",\"x\":{\"dtype\":\"f8\",\"bdata\":\"AAAAoGC6YcEAAACgzN9iwQAAAMBfiWLBAAAAwLVsYsEAAACAGGthwQAAACCcRGLBAAAAwB9hY8EAAABgoJ1lwQAAAOAEQ2XBAAAAwNfWYsEAAACgQFNgwQAAAADvv1nBAAAAQBT6VMEAAAAAmzxTwQAAAIAHb1LBAAAAAJEQUMEAAACA4aRWwQ==\"},\"y\":[\"0-4\",\"5-9\",\"10-14\",\"15-19\",\"20-24\",\"25-29\",\"30-34\",\"35-39\",\"40-44\",\"45-49\",\"50-54\",\"55-59\",\"60-64\",\"65-69\",\"70-74\",\"75-79\",\"80+\"],\"type\":\"bar\"}],\"name\":\"1999\"},{\"data\":[{\"marker\":{\"color\":\"blue\"},\"name\":\"Male\",\"opacity\":0.6,\"orientation\":\"h\",\"x\":{\"dtype\":\"f8\",\"bdata\":\"AAAAYHSjYkEAAADAvLZjQQAAAIAIIWRBAAAAoFoLZEEAAABgC0pjQQAAAMBdQ2NBAAAAoK1fZEEAAAAg\\u002fklmQQAAAMAtz2VBAAAAAH9EY0EAAADAS7lgQQAAAABzYFlBAAAAAG6UU0EAAADA1NZQQQAAAIAeT01BAAAAgJC7RkEAAACAK09HQQ==\"},\"y\":[\"0-4\",\"5-9\",\"10-14\",\"15-19\",\"20-24\",\"25-29\",\"30-34\",\"35-39\",\"40-44\",\"45-49\",\"50-54\",\"55-59\",\"60-64\",\"65-69\",\"70-74\",\"75-79\",\"80+\"],\"type\":\"bar\"},{\"marker\":{\"color\":\"red\"},\"name\":\"Female\",\"opacity\":0.6,\"orientation\":\"h\",\"x\":{\"dtype\":\"f8\",\"bdata\":\"AAAAQP7KYcEAAAAgOrNiwQAAAIBm7GLBAAAA4OqqYsEAAADAmOZhwQAAAAAG+WHBAAAAQOhBY8EAAAAg1WtlwQAAAKCngWXBAAAAQAJiY8EAAACgcRJhwQAAAADdnVrBAAAAQEpZVcEAAAAA8jBTwQAAAIDNP1LBAAAAQGE0UMEAAAAACgFXwQ==\"},\"y\":[\"0-4\",\"5-9\",\"10-14\",\"15-19\",\"20-24\",\"25-29\",\"30-34\",\"35-39\",\"40-44\",\"45-49\",\"50-54\",\"55-59\",\"60-64\",\"65-69\",\"70-74\",\"75-79\",\"80+\"],\"type\":\"bar\"}],\"name\":\"2000\"},{\"data\":[{\"marker\":{\"color\":\"blue\"},\"name\":\"Male\",\"opacity\":0.6,\"orientation\":\"h\",\"x\":{\"dtype\":\"f8\",\"bdata\":\"AAAAIGLGYkEAAABAXG1jQQAAAED+fGRBAAAA4L06ZEEAAACgOc1jQQAAAGAP82JBAAAAwKtwZEEAAABgnOplQQAAAEAcJmZBAAAAQL7KY0EAAAAAlEJhQQAAAMAnwlpBAAAAQO0BVEEAAADAduxQQQAAAAB7b01BAAAAgEbgRkEAAACAkw5IQQ==\"},\"y\":[\"0-4\",\"5-9\",\"10-14\",\"15-19\",\"20-24\",\"25-29\",\"30-34\",\"35-39\",\"40-44\",\"45-49\",\"50-54\",\"55-59\",\"60-64\",\"65-69\",\"70-74\",\"75-79\",\"80+\"],\"type\":\"bar\"},{\"marker\":{\"color\":\"red\"},\"name\":\"Female\",\"opacity\":0.6,\"orientation\":\"h\",\"x\":{\"dtype\":\"f8\",\"bdata\":\"AAAAIGztYcEAAACAjG1iwQAAAKA8RGPBAAAA4LbVYsEAAADAS2JiwQAAAGBcqmHBAAAAgMtIY8EAAABAogdlwQAAAGDWsGXBAAAAIGHwY8EAAABA359hwQAAAMAT0VvBAAAAAHHmVcEAAABASzBTwQAAAMBtFVLBAAAAwFo2UMEAAADAiWNXwQ==\"},\"y\":[\"0-4\",\"5-9\",\"10-14\",\"15-19\",\"20-24\",\"25-29\",\"30-34\",\"35-39\",\"40-44\",\"45-49\",\"50-54\",\"55-59\",\"60-64\",\"65-69\",\"70-74\",\"75-79\",\"80+\"],\"type\":\"bar\"}],\"name\":\"2001\"},{\"data\":[{\"marker\":{\"color\":\"blue\"},\"name\":\"Male\",\"opacity\":0.6,\"orientation\":\"h\",\"x\":{\"dtype\":\"f8\",\"bdata\":\"AAAA4LbuYkEAAACALipjQQAAAIAAuGRBAAAAoOBYZEEAAAAAbzRkQQAAAGAO5mJBAAAAQEVhZEEAAAAAyHFlQQAAAIAyXWZBAAAA4AdOZEEAAAAACophQQAAAEBDa1xBAAAAQLfXVEEAAAAAKCdRQQAAAIAsaE1BAAAAgCUCR0EAAAAAsc5IQQ==\"},\"y\":[\"0-4\",\"5-9\",\"10-14\",\"15-19\",\"20-24\",\"25-29\",\"30-34\",\"35-39\",\"40-44\",\"45-49\",\"50-54\",\"55-59\",\"60-64\",\"65-69\",\"70-74\",\"75-79\",\"80+\"],\"type\":\"bar\"},{\"marker\":{\"color\":\"red\"},\"name\":\"Female\",\"opacity\":0.6,\"orientation\":\"h\",\"x\":{\"dtype\":\"f8\",\"bdata\":\"AAAA4LYUYsEAAABgMjBiwQAAAKASf2PBAAAAAK7yYsEAAACAbMdiwQAAAOB7oGHBAAAAQBE6Y8EAAACgH5BkwQAAAMCyzmXBAAAAIGtzZMEAAACAi+1hwQAAAEAOal3BAAAAQLPUVsEAAACAW0hTwQAAAEBg6VHBAAAAQDAkUMEAAAAApc5XwQ==\"},\"y\":[\"0-4\",\"5-9\",\"10-14\",\"15-19\",\"20-24\",\"25-29\",\"30-34\",\"35-39\",\"40-44\",\"45-49\",\"50-54\",\"55-59\",\"60-64\",\"65-69\",\"70-74\",\"75-79\",\"80+\"],\"type\":\"bar\"}],\"name\":\"2002\"},{\"data\":[{\"marker\":{\"color\":\"blue\"},\"name\":\"Male\",\"opacity\":0.6,\"orientation\":\"h\",\"x\":{\"dtype\":\"f8\",\"bdata\":\"AAAAwD8VY0EAAABgtftiQQAAAOBOy2RBAAAAAAaCZEEAAADA0YJkQQAAAOBTG2NBAAAAwMQuZEEAAADg4PhkQQAAAGDTZ2ZBAAAAgD7FZEEAAABA69thQQAAAECJ0V1BAAAAwLTwVUEAAACAfn1RQQAAAICmSE1BAAAAgNEqR0EAAACANIZJQQ==\"},\"y\":[\"0-4\",\"5-9\",\"10-14\",\"15-19\",\"20-24\",\"25-29\",\"30-34\",\"35-39\",\"40-44\",\"45-49\",\"50-54\",\"55-59\",\"60-64\",\"65-69\",\"70-74\",\"75-79\",\"80+\"],\"type\":\"bar\"},{\"marker\":{\"color\":\"red\"},\"name\":\"Female\",\"opacity\":0.6,\"orientation\":\"h\",\"x\":{\"dtype\":\"f8\",\"bdata\":\"AAAA4Pg4YsEAAABAzwdiwQAAAIDEkmPBAAAAQJMaY8EAAADgIRRjwQAAAOAF1mHBAAAAYJYMY8EAAADA9xdkwQAAAMDUyWXBAAAAgEHgZMEAAABgCkJiwQAAAEBg017BAAAAQLL5V8EAAADA0IhTwQAAAEACslHBAAAAAI8NUMEAAABAbi5YwQ==\"},\"y\":[\"0-4\",\"5-9\",\"10-14\",\"15-19\",\"20-24\",\"25-29\",\"30-34\",\"35-39\",\"40-44\",\"45-49\",\"50-54\",\"55-59\",\"60-64\",\"65-69\",\"70-74\",\"75-79\",\"80+\"],\"type\":\"bar\"}],\"name\":\"2003\"},{\"data\":[{\"marker\":{\"color\":\"blue\"},\"name\":\"Male\",\"opacity\":0.6,\"orientation\":\"h\",\"x\":{\"dtype\":\"f8\",\"bdata\":\"AAAAgKY9Y0EAAAAgfO5iQQAAAOBYt2RBAAAAoE\\u002fEZEEAAADAfb1kQQAAAKC4bmNBAAAA4MftY0EAAACgoJlkQQAAAMCwW2ZBAAAAAEwrZUEAAABgE1hiQQAAAEDPG19BAAAAAN8fV0EAAAAAAM1RQQAAAID+Rk1BAAAAgJlZR0EAAACA20xKQQ==\"},\"y\":[\"0-4\",\"5-9\",\"10-14\",\"15-19\",\"20-24\",\"25-29\",\"30-34\",\"35-39\",\"40-44\",\"45-49\",\"50-54\",\"55-59\",\"60-64\",\"65-69\",\"70-74\",\"75-79\",\"80+\"],\"type\":\"bar\"},{\"marker\":{\"color\":\"red\"},\"name\":\"Female\",\"opacity\":0.6,\"orientation\":\"h\",\"x\":{\"dtype\":\"f8\",\"bdata\":\"AAAAgAlfYsEAAAAAgf1hwQAAAKC2gWPBAAAAIDZbY8EAAACA40xjwQAAAEC+KWLBAAAAQA\\u002fRYsEAAACgprdjwQAAAGDGtmXBAAAAIG05ZcEAAACgbbpiwQAAAMCxGGDBAAAAAEMHWcEAAADA6ORTwQAAAMA9lVHBAAAAgJ\\u002fiT8EAAAAAVJdYwQ==\"},\"y\":[\"0-4\",\"5-9\",\"10-14\",\"15-19\",\"20-24\",\"25-29\",\"30-34\",\"35-39\",\"40-44\",\"45-49\",\"50-54\",\"55-59\",\"60-64\",\"65-69\",\"70-74\",\"75-79\",\"80+\"],\"type\":\"bar\"}],\"name\":\"2004\"},{\"data\":[{\"marker\":{\"color\":\"blue\"},\"name\":\"Male\",\"opacity\":0.6,\"orientation\":\"h\",\"x\":{\"dtype\":\"f8\",\"bdata\":\"AAAAYO9bY0EAAACAPANjQQAAAAA4eGRBAAAAwIQWZUEAAABAneVkQQAAAOAg2mNBAAAAoOaQY0EAAACgMnhkQQAAAAAGKWZBAAAAQNGEZUEAAAAgjuBiQQAAAACCQGBBAAAAAFs6WEEAAAAAlQtSQQAAAICSYE1BAAAAgKOaR0EAAACAwg9LQQ==\"},\"y\":[\"0-4\",\"5-9\",\"10-14\",\"15-19\",\"20-24\",\"25-29\",\"30-34\",\"35-39\",\"40-44\",\"45-49\",\"50-54\",\"55-59\",\"60-64\",\"65-69\",\"70-74\",\"75-79\",\"80+\"],\"type\":\"bar\"},{\"marker\":{\"color\":\"red\"},\"name\":\"Female\",\"opacity\":0.6,\"orientation\":\"h\",\"x\":{\"dtype\":\"f8\",\"bdata\":\"AAAAIFZ7YsEAAABAdRJiwQAAAMAxSGPBAAAAYOyqY8EAAABgv3NjwQAAAGD+lGLBAAAAIFF7YsEAAAAgQpJjwQAAACCIhGXBAAAAANd4ZcEAAABA6kZjwQAAACBj12DBAAAAwNbiWcEAAAAAJ0hUwQAAAIBglFHBAAAAAMmmT8EAAADAIf9YwQ==\"},\"y\":[\"0-4\",\"5-9\",\"10-14\",\"15-19\",\"20-24\",\"25-29\",\"30-34\",\"35-39\",\"40-44\",\"45-49\",\"50-54\",\"55-59\",\"60-64\",\"65-69\",\"70-74\",\"75-79\",\"80+\"],\"type\":\"bar\"}],\"name\":\"2005\"},{\"data\":[{\"marker\":{\"color\":\"blue\"},\"name\":\"Male\",\"opacity\":0.6,\"orientation\":\"h\",\"x\":{\"dtype\":\"f8\",\"bdata\":\"AAAAAAiGY0EAAACA3CxjQQAAAGD+KWRBAAAAQHhpZUEAAADgIQhlQQAAAGAUUWRBAAAAYGA4Y0EAAADA4IFkQQAAAKAMyWVBAAAAQOTaZUEAAABAqmRjQQAAAMBzxmBBAAAAwGSRWUEAAAAAd3tSQQAAAADlpk1BAAAAAFTYR0EAAAAAJsZLQQ==\"},\"y\":[\"0-4\",\"5-9\",\"10-14\",\"15-19\",\"20-24\",\"25-29\",\"30-34\",\"35-39\",\"40-44\",\"45-49\",\"50-54\",\"55-59\",\"60-64\",\"65-69\",\"70-74\",\"75-79\",\"80+\"],\"type\":\"bar\"},{\"marker\":{\"color\":\"red\"},\"name\":\"Female\",\"opacity\":0.6,\"orientation\":\"h\",\"x\":{\"dtype\":\"f8\",\"bdata\":\"AAAAYFahYsEAAAAAsjtiwQAAAECs\\u002f2LBAAAAAJ\\u002f8Y8EAAADgTJVjwQAAAEBJCmPBAAAAoIIqYsEAAABAyZhjwQAAAICNJGXBAAAAwJSrZcEAAACAP9djwQAAAKCeZmHBAAAAwIIUW8EAAABApdhUwQAAAMC0oFHBAAAAAD54T8EAAACA7FpZwQ==\"},\"y\":[\"0-4\",\"5-9\",\"10-14\",\"15-19\",\"20-24\",\"25-29\",\"30-34\",\"35-39\",\"40-44\",\"45-49\",\"50-54\",\"55-59\",\"60-64\",\"65-69\",\"70-74\",\"75-79\",\"80+\"],\"type\":\"bar\"}],\"name\":\"2006\"},{\"data\":[{\"marker\":{\"color\":\"blue\"},\"name\":\"Male\",\"opacity\":0.6,\"orientation\":\"h\",\"x\":{\"dtype\":\"f8\",\"bdata\":\"AAAAYJvHY0EAAABgLVRjQQAAAICl5mNBAAAAIN+jZUEAAABgYCVlQQAAAODHtWRBAAAAIC8qY0EAAACAs3FkQQAAACAhUmVBAAAAYJgQZkEAAADAbuNjQQAAACCXCWFBAAAAwD8pW0EAAADAIEhTQQAAAACjK05BAAAAADf2R0EAAAAAaItMQQ==\"},\"y\":[\"0-4\",\"5-9\",\"10-14\",\"15-19\",\"20-24\",\"25-29\",\"30-34\",\"35-39\",\"40-44\",\"45-49\",\"50-54\",\"55-59\",\"60-64\",\"65-69\",\"70-74\",\"75-79\",\"80+\"],\"type\":\"bar\"},{\"marker\":{\"color\":\"red\"},\"name\":\"Female\",\"opacity\":0.6,\"orientation\":\"h\",\"x\":{\"dtype\":\"f8\",\"bdata\":\"AAAAIITeYsEAAADg4WFiwQAAACDuwWLBAAAAALE2ZMEAAABgjLFjwQAAAED6bWPBAAAAoOofYsEAAADAZIljwQAAAGC2rWTBAAAAgODHZcEAAABAJFZkwQAAAEBQsmHBAAAAQBajXMEAAABA9L5VwQAAAEB+v1HBAAAAAIhBT8EAAACAz7ZZwQ==\"},\"y\":[\"0-4\",\"5-9\",\"10-14\",\"15-19\",\"20-24\",\"25-29\",\"30-34\",\"35-39\",\"40-44\",\"45-49\",\"50-54\",\"55-59\",\"60-64\",\"65-69\",\"70-74\",\"75-79\",\"80+\"],\"type\":\"bar\"}],\"name\":\"2007\"},{\"data\":[{\"marker\":{\"color\":\"blue\"},\"name\":\"Male\",\"opacity\":0.6,\"orientation\":\"h\",\"x\":{\"dtype\":\"f8\",\"bdata\":\"AAAAgJgCZEEAAAAAmH1jQQAAAIAXvGNBAAAAgKC7ZUEAAAAAPVJlQQAAACBCBmVBAAAAIPtgY0EAAACggEJkQQAAAOAr32RBAAAAQBkfZkEAAACgIltkQQAAAEAVWmFBAAAAQLqGXEEAAABAu1VUQQAAAAAb4k5BAAAAgAYBSEEAAAAAG1RNQQ==\"},\"y\":[\"0-4\",\"5-9\",\"10-14\",\"15-19\",\"20-24\",\"25-29\",\"30-34\",\"35-39\",\"40-44\",\"45-49\",\"50-54\",\"55-59\",\"60-64\",\"65-69\",\"70-74\",\"75-79\",\"80+\"],\"type\":\"bar\"},{\"marker\":{\"color\":\"red\"},\"name\":\"Female\",\"opacity\":0.6,\"orientation\":\"h\",\"x\":{\"dtype\":\"f8\",\"bdata\":\"AAAAgD8XY8EAAACgpIhiwQAAAODenGLBAAAA4AVOZMEAAAAA09xjwQAAAOBnvWPBAAAAgN1XYsEAAADgEF9jwQAAAKAgOmTBAAAAYCjGZcEAAACgMcNkwQAAACDjB2LBAAAAAG4JXsEAAACAz9xWwQAAAMBrBVLBAAAAgJL5TsEAAADA3QhawQ==\"},\"y\":[\"0-4\",\"5-9\",\"10-14\",\"15-19\",\"20-24\",\"25-29\",\"30-34\",\"35-39\",\"40-44\",\"45-49\",\"50-54\",\"55-59\",\"60-64\",\"65-69\",\"70-74\",\"75-79\",\"80+\"],\"type\":\"bar\"}],\"name\":\"2008\"},{\"data\":[{\"marker\":{\"color\":\"blue\"},\"name\":\"Male\",\"opacity\":0.6,\"orientation\":\"h\",\"x\":{\"dtype\":\"f8\",\"bdata\":\"AAAAYAQfZEEAAADgeKRjQQAAAGCKrmNBAAAAQEioZUEAAAAgd5RlQQAAAEB+P2VBAAAAwIuxY0EAAACAawBkQQAAAECvgGRBAAAAgDkSZkEAAADgt71kQQAAAOAyz2FBAAAAQDXAXUEAAAAAcnFVQQAAAADogU9BAAAAAAYZSEEAAAAABxxOQQ==\"},\"y\":[\"0-4\",\"5-9\",\"10-14\",\"15-19\",\"20-24\",\"25-29\",\"30-34\",\"35-39\",\"40-44\",\"45-49\",\"50-54\",\"55-59\",\"60-64\",\"65-69\",\"70-74\",\"75-79\",\"80+\"],\"type\":\"bar\"},{\"marker\":{\"color\":\"red\"},\"name\":\"Female\",\"opacity\":0.6,\"orientation\":\"h\",\"x\":{\"dtype\":\"f8\",\"bdata\":\"AAAAIMAyY8EAAAAAB61iwQAAAODPkWLBAAAAYLA8ZMEAAAAg7RxkwQAAAEAd9WPBAAAAoAiqYsEAAABgsCJjwQAAAGCa2WPBAAAAQICxZcEAAADANxhlwQAAAEDLe2LBAAAAgKlcX8EAAACAB99XwQAAAIAGYFLBAAAAgGvWTsEAAABAElFawQ==\"},\"y\":[\"0-4\",\"5-9\",\"10-14\",\"15-19\",\"20-24\",\"25-29\",\"30-34\",\"35-39\",\"40-44\",\"45-49\",\"50-54\",\"55-59\",\"60-64\",\"65-69\",\"70-74\",\"75-79\",\"80+\"],\"type\":\"bar\"}],\"name\":\"2009\"},{\"data\":[{\"marker\":{\"color\":\"blue\"},\"name\":\"Male\",\"opacity\":0.6,\"orientation\":\"h\",\"x\":{\"dtype\":\"f8\",\"bdata\":\"AAAAQKMYZEEAAAAg3cFjQQAAAIA7xGNBAAAAINZrZUEAAAAAGuhlQQAAAGAkZ2VBAAAAAAYaZEEAAADgqKJjQQAAAABsXmRBAAAAIETfZUEAAAAgzBNlQQAAAGApUGJBAAAAwG0PX0EAAACAg3hWQQAAAIA6AFBBAAAAALtHSEEAAACAw+1OQQ==\"},\"y\":[\"0-4\",\"5-9\",\"10-14\",\"15-19\",\"20-24\",\"25-29\",\"30-34\",\"35-39\",\"40-44\",\"45-49\",\"50-54\",\"55-59\",\"60-64\",\"65-69\",\"70-74\",\"75-79\",\"80+\"],\"type\":\"bar\"},{\"marker\":{\"color\":\"red\"},\"name\":\"Female\",\"opacity\":0.6,\"orientation\":\"h\",\"x\":{\"dtype\":\"f8\",\"bdata\":\"AAAAIOYsY8EAAACA78diwQAAAADQpmLBAAAAQGQEZMEAAADgGW1kwQAAACDEG2TBAAAA4NQTY8EAAAAAbMxiwQAAAKA0s2PBAAAA4Al+ZcEAAACAx1NlwQAAAIA7AmPBAAAAINFlYMEAAABAhbBYwQAAAABQwVLBAAAAgLjkTsEAAADAbJlawQ==\"},\"y\":[\"0-4\",\"5-9\",\"10-14\",\"15-19\",\"20-24\",\"25-29\",\"30-34\",\"35-39\",\"40-44\",\"45-49\",\"50-54\",\"55-59\",\"60-64\",\"65-69\",\"70-74\",\"75-79\",\"80+\"],\"type\":\"bar\"}],\"name\":\"2010\"},{\"data\":[{\"marker\":{\"color\":\"blue\"},\"name\":\"Male\",\"opacity\":0.6,\"orientation\":\"h\",\"x\":{\"dtype\":\"f8\",\"bdata\":\"AAAAAInvY0EAAACAQ+ljQQAAAKDI52NBAAAAwI0YZUEAAABg6zlmQQAAAAB1jGVBAAAAYEuTZEEAAADgj01jQQAAAGDuZ2RBAAAAwEp\\u002fZUEAAADgK2RlQQAAAAD9ymJBAAAAwBwBYEEAAAAAurFXQQAAAACJYlBBAAAAAOaLSEEAAAAApoFPQQ==\"},\"y\":[\"0-4\",\"5-9\",\"10-14\",\"15-19\",\"20-24\",\"25-29\",\"30-34\",\"35-39\",\"40-44\",\"45-49\",\"50-54\",\"55-59\",\"60-64\",\"65-69\",\"70-74\",\"75-79\",\"80+\"],\"type\":\"bar\"},{\"marker\":{\"color\":\"red\"},\"name\":\"Female\",\"opacity\":0.6,\"orientation\":\"h\",\"x\":{\"dtype\":\"f8\",\"bdata\":\"AAAAQHgEY8EAAABAOepiwQAAAIBDymLBAAAA4Li1Y8EAAABgv7lkwQAAAAD5OWTBAAAAYESEY8EAAADAundiwQAAACAes2PBAAAAwEsWZcEAAAAg03plwQAAAKCFg2PBAAAAADDnYMEAAADA3cZZwQAAAMDePlPBAAAAALH3TsEAAAAAtrFawQ==\"},\"y\":[\"0-4\",\"5-9\",\"10-14\",\"15-19\",\"20-24\",\"25-29\",\"30-34\",\"35-39\",\"40-44\",\"45-49\",\"50-54\",\"55-59\",\"60-64\",\"65-69\",\"70-74\",\"75-79\",\"80+\"],\"type\":\"bar\"}],\"name\":\"2011\"},{\"data\":[{\"marker\":{\"color\":\"blue\"},\"name\":\"Male\",\"opacity\":0.6,\"orientation\":\"h\",\"x\":{\"dtype\":\"f8\",\"bdata\":\"AAAAwBmzY0EAAAAgni5kQQAAAECfCGRBAAAAABPOZEEAAABAjnZmQQAAAMCotmVBAAAAANEHZUEAAACgFU5jQQAAAEBFYmRBAAAAgNIRZUEAAABgY5tlQQAAACAhRmNBAAAAIHM+YEEAAACALCtZQQAAAEBWF1FBAAAAAP78SEEAAACAUOdPQQ==\"},\"y\":[\"0-4\",\"5-9\",\"10-14\",\"15-19\",\"20-24\",\"25-29\",\"30-34\",\"35-39\",\"40-44\",\"45-49\",\"50-54\",\"55-59\",\"60-64\",\"65-69\",\"70-74\",\"75-79\",\"80+\"],\"type\":\"bar\"},{\"marker\":{\"color\":\"red\"},\"name\":\"Female\",\"opacity\":0.6,\"orientation\":\"h\",\"x\":{\"dtype\":\"f8\",\"bdata\":\"AAAAwIfIYsEAAACgWSljwQAAAABh62LBAAAAILxwY8EAAAAgjO9kwQAAAOBFVmTBAAAA4DjnY8EAAADAjmxiwQAAAECPoGPBAAAAQNmZZMEAAADAhYxlwQAAAGAV82PBAAAA4E8mYcEAAACAmDNbwQAAAID1BlTBAAAAAPMiT8EAAACAcKlawQ==\"},\"y\":[\"0-4\",\"5-9\",\"10-14\",\"15-19\",\"20-24\",\"25-29\",\"30-34\",\"35-39\",\"40-44\",\"45-49\",\"50-54\",\"55-59\",\"60-64\",\"65-69\",\"70-74\",\"75-79\",\"80+\"],\"type\":\"bar\"}],\"name\":\"2012\"},{\"data\":[{\"marker\":{\"color\":\"blue\"},\"name\":\"Male\",\"opacity\":0.6,\"orientation\":\"h\",\"x\":{\"dtype\":\"f8\",\"bdata\":\"AAAAIFNwY0EAAAAAz25kQQAAACD4KmRBAAAAIK6ZZEEAAAAA0YtmQQAAAAAG7GVBAAAAgP9lZUEAAADgX5FjQQAAAED+PGRBAAAAIIinZEEAAADA86plQQAAAIDyuGNBAAAAYL6GYEEAAACAxmtaQQAAAMAFBFJBAAAAgCmSSUEAAADA\\u002fSFQQQ==\"},\"y\":[\"0-4\",\"5-9\",\"10-14\",\"15-19\",\"20-24\",\"25-29\",\"30-34\",\"35-39\",\"40-44\",\"45-49\",\"50-54\",\"55-59\",\"60-64\",\"65-69\",\"70-74\",\"75-79\",\"80+\"],\"type\":\"bar\"},{\"marker\":{\"color\":\"red\"},\"name\":\"Female\",\"opacity\":0.6,\"orientation\":\"h\",\"x\":{\"dtype\":\"f8\",\"bdata\":\"AAAAoIiGYsEAAABAwmRjwQAAAKAZDGPBAAAAAPJCY8EAAABgXv9kwQAAAKCFfmTBAAAAQF40ZMEAAACAcqFiwQAAAMA1cmPBAAAAgAAgZMEAAACgLn9lwQAAAIB2T2TBAAAAYI9sYcEAAACAt3ZcwQAAAAAfAFXBAAAAAF6LT8EAAAAAp5lawQ==\"},\"y\":[\"0-4\",\"5-9\",\"10-14\",\"15-19\",\"20-24\",\"25-29\",\"30-34\",\"35-39\",\"40-44\",\"45-49\",\"50-54\",\"55-59\",\"60-64\",\"65-69\",\"70-74\",\"75-79\",\"80+\"],\"type\":\"bar\"}],\"name\":\"2013\"},{\"data\":[{\"marker\":{\"color\":\"blue\"},\"name\":\"Male\",\"opacity\":0.6,\"orientation\":\"h\",\"x\":{\"dtype\":\"f8\",\"bdata\":\"AAAAwCVDY0EAAADgnJdkQQAAAADQUGRBAAAAYKWGZEEAAADgz3hmQQAAAOC7OGZBAAAAoPGwZUEAAAAgd\\u002fJjQQAAAGAvCmRBAAAAAHRWZEEAAABA1KRlQQAAAGCwG2RBAAAAgNH0YEEAAACALY1bQQAAAMBp\\u002flJBAAAAAF4VSkEAAAAAJVlQQQ==\"},\"y\":[\"0-4\",\"5-9\",\"10-14\",\"15-19\",\"20-24\",\"25-29\",\"30-34\",\"35-39\",\"40-44\",\"45-49\",\"50-54\",\"55-59\",\"60-64\",\"65-69\",\"70-74\",\"75-79\",\"80+\"],\"type\":\"bar\"},{\"marker\":{\"color\":\"red\"},\"name\":\"Female\",\"opacity\":0.6,\"orientation\":\"h\",\"x\":{\"dtype\":\"f8\",\"bdata\":\"AAAA4JZZYsEAAACgOYljwQAAAICoL2PBAAAAwOMzY8EAAAAgRupkwQAAAODwvmTBAAAAoJduZMEAAACADPRiwQAAAEC0NmPBAAAAwDu+Y8EAAACgDWRlwQAAAGCmmGTBAAAA4H\\u002fSYcEAAACACKtdwQAAAEAb4lXBAAAAwAQOUMEAAADAjppawQ==\"},\"y\":[\"0-4\",\"5-9\",\"10-14\",\"15-19\",\"20-24\",\"25-29\",\"30-34\",\"35-39\",\"40-44\",\"45-49\",\"50-54\",\"55-59\",\"60-64\",\"65-69\",\"70-74\",\"75-79\",\"80+\"],\"type\":\"bar\"}],\"name\":\"2014\"},{\"data\":[{\"marker\":{\"color\":\"blue\"},\"name\":\"Male\",\"opacity\":0.6,\"orientation\":\"h\",\"x\":{\"dtype\":\"f8\",\"bdata\":\"AAAAIFExY0EAAACgEaJkQQAAAMBNcGRBAAAAwKSWZEEAAACAZjpmQQAAAMDok2ZBAAAA4OvpZUEAAABgKWxkQQAAAGB\\u002fvmNBAAAAQFBCZEEAAABAKnxlQQAAAGCVc2RBAAAAQC9vYUEAAADAzL5cQQAAAACB5VNBAAAAgDJ8SkEAAAAAIpxQQQ==\"},\"y\":[\"0-4\",\"5-9\",\"10-14\",\"15-19\",\"20-24\",\"25-29\",\"30-34\",\"35-39\",\"40-44\",\"45-49\",\"50-54\",\"55-59\",\"60-64\",\"65-69\",\"70-74\",\"75-79\",\"80+\"],\"type\":\"bar\"},{\"marker\":{\"color\":\"red\"},\"name\":\"Female\",\"opacity\":0.6,\"orientation\":\"h\",\"x\":{\"dtype\":\"f8\",\"bdata\":\"AAAAwPZHYsEAAAAAO5BjwQAAAKBjTGPBAAAAYF9FY8EAAABgvq1kwQAAAEB8DmXBAAAAYCSYZMEAAADgcF5jwQAAAOBH42LBAAAA4FqXY8EAAABAmyxlwQAAAMB9ymTBAAAA4IBKYsEAAABA7fdewQAAAAABl1bBAAAAABFcUMEAAADAMa1awQ==\"},\"y\":[\"0-4\",\"5-9\",\"10-14\",\"15-19\",\"20-24\",\"25-29\",\"30-34\",\"35-39\",\"40-44\",\"45-49\",\"50-54\",\"55-59\",\"60-64\",\"65-69\",\"70-74\",\"75-79\",\"80+\"],\"type\":\"bar\"}],\"name\":\"2015\"},{\"data\":[{\"marker\":{\"color\":\"blue\"},\"name\":\"Male\",\"opacity\":0.6,\"orientation\":\"h\",\"x\":{\"dtype\":\"f8\",\"bdata\":\"AAAAQHIrY0EAAACgVYhkQQAAAIDfnmRBAAAAIKW8ZEEAAACAzetlQQAAAMA07WZBAAAAgMsbZkEAAAAAh\\u002fBkQQAAAOAxd2NBAAAAgGJWZEEAAAAgyihlQQAAAMD1xmRBAAAAAHPlYUEAAACAT5xdQQAAAIBR\\u002flRBAAAAgNwlS0EAAAAAUuVQQQ==\"},\"y\":[\"0-4\",\"5-9\",\"10-14\",\"15-19\",\"20-24\",\"25-29\",\"30-34\",\"35-39\",\"40-44\",\"45-49\",\"50-54\",\"55-59\",\"60-64\",\"65-69\",\"70-74\",\"75-79\",\"80+\"],\"type\":\"bar\"},{\"marker\":{\"color\":\"red\"},\"name\":\"Female\",\"opacity\":0.6,\"orientation\":\"h\",\"x\":{\"dtype\":\"f8\",\"bdata\":\"AAAAoLhCYsEAAACASHRjwQAAAEDgdGPBAAAA4LdrY8EAAAAAT2JkwQAAAKD+XmXBAAAAoL+7ZMEAAACA1NFjwQAAACA3lGLBAAAAoC2aY8EAAACgkMhkwQAAACAT72TBAAAAwD3DYsEAAAAAt+hfwQAAAACslVfBAAAAgDnKUMEAAAAA8cFawQ==\"},\"y\":[\"0-4\",\"5-9\",\"10-14\",\"15-19\",\"20-24\",\"25-29\",\"30-34\",\"35-39\",\"40-44\",\"45-49\",\"50-54\",\"55-59\",\"60-64\",\"65-69\",\"70-74\",\"75-79\",\"80+\"],\"type\":\"bar\"}],\"name\":\"2016\"},{\"data\":[{\"marker\":{\"color\":\"blue\"},\"name\":\"Male\",\"opacity\":0.6,\"orientation\":\"h\",\"x\":{\"dtype\":\"f8\",\"bdata\":\"AAAA4NcZY0EAAAAgSU9kQQAAAIDA5mRBAAAA4CThZEEAAADAgKZlQQAAAAACK2dBAAAAQBlGZkEAAACA72FlQQAAAMDbdmNBAAAAwOhPZEEAAADAgb9kQQAAAKD9+mRBAAAAoHxWYkEAAADA0QNeQQAAAIBlTlZBAAAAgA5WTEEAAAAAFzZRQQ==\"},\"y\":[\"0-4\",\"5-9\",\"10-14\",\"15-19\",\"20-24\",\"25-29\",\"30-34\",\"35-39\",\"40-44\",\"45-49\",\"50-54\",\"55-59\",\"60-64\",\"65-69\",\"70-74\",\"75-79\",\"80+\"],\"type\":\"bar\"},{\"marker\":{\"color\":\"red\"},\"name\":\"Female\",\"opacity\":0.6,\"orientation\":\"h\",\"x\":{\"dtype\":\"f8\",\"bdata\":\"AAAAYLsxYsEAAACgnTpjwQAAACCMtWPBAAAAwDiPY8EAAACgKSFkwQAAAMB7lmXBAAAAgOTYZMEAAACgJTNkwQAAACCRiGLBAAAAYLiGY8EAAAAgKE5kwQAAAGAG\\u002fWTBAAAAwG4pY8EAAACAkS1gwQAAAACy5VjBAAAAQMR5UcEAAABAGNpawQ==\"},\"y\":[\"0-4\",\"5-9\",\"10-14\",\"15-19\",\"20-24\",\"25-29\",\"30-34\",\"35-39\",\"40-44\",\"45-49\",\"50-54\",\"55-59\",\"60-64\",\"65-69\",\"70-74\",\"75-79\",\"80+\"],\"type\":\"bar\"}],\"name\":\"2017\"},{\"data\":[{\"marker\":{\"color\":\"blue\"},\"name\":\"Male\",\"opacity\":0.6,\"orientation\":\"h\",\"x\":{\"dtype\":\"f8\",\"bdata\":\"AAAAgFD0YkEAAACg3gxkQQAAAIC0JWVBAAAAwCoDZUEAAADAPXNlQQAAAECGPmdBAAAAYCF4ZkEAAACApLplQQAAAOAjtWNBAAAAIAcoZEEAAAAgg1dkQQAAAGBLB2VBAAAAwJu+YkEAAABAA35eQQAAAMD1aldBAAAAgPjhTUEAAAAAxY9RQQ==\"},\"y\":[\"0-4\",\"5-9\",\"10-14\",\"15-19\",\"20-24\",\"25-29\",\"30-34\",\"35-39\",\"40-44\",\"45-49\",\"50-54\",\"55-59\",\"60-64\",\"65-69\",\"70-74\",\"75-79\",\"80+\"],\"type\":\"bar\"},{\"marker\":{\"color\":\"red\"},\"name\":\"Female\",\"opacity\":0.6,\"orientation\":\"h\",\"x\":{\"dtype\":\"f8\",\"bdata\":\"AAAAoJ4OYsEAAADgWPhiwQAAAOBG72PBAAAAIAyvY8EAAADApvNjwQAAAMAxpWXBAAAA4An\\u002fZMEAAAAAr3xkwQAAAED4uWLBAAAAYFlWY8EAAABgUtVjwQAAAGA27GTBAAAAwIx8Y8EAAADAv2xgwQAAAMAkD1rBAAAAwNNSUsEAAABA2gFbwQ==\"},\"y\":[\"0-4\",\"5-9\",\"10-14\",\"15-19\",\"20-24\",\"25-29\",\"30-34\",\"35-39\",\"40-44\",\"45-49\",\"50-54\",\"55-59\",\"60-64\",\"65-69\",\"70-74\",\"75-79\",\"80+\"],\"type\":\"bar\"}],\"name\":\"2018\"},{\"data\":[{\"marker\":{\"color\":\"blue\"},\"name\":\"Male\",\"opacity\":0.6,\"orientation\":\"h\",\"x\":{\"dtype\":\"f8\",\"bdata\":\"AAAAAHK6YkEAAADgY9pjQQAAAECFR2VBAAAAYGsiZUEAAABg0FplQQAAACCoJGdBAAAAgCe7ZkEAAADAOPtlQQAAAIBCC2RBAAAAYIvuY0EAAACgoANkQQAAAMCU+mRBAAAA4FsUY0EAAAAANzhfQQAAAIAUZVhBAAAAgKx9T0EAAADAJ+dRQQ==\"},\"y\":[\"0-4\",\"5-9\",\"10-14\",\"15-19\",\"20-24\",\"25-29\",\"30-34\",\"35-39\",\"40-44\",\"45-49\",\"50-54\",\"55-59\",\"60-64\",\"65-69\",\"70-74\",\"75-79\",\"80+\"],\"type\":\"bar\"},{\"marker\":{\"color\":\"red\"},\"name\":\"Female\",\"opacity\":0.6,\"orientation\":\"h\",\"x\":{\"dtype\":\"f8\",\"bdata\":\"AAAAIFHZYcEAAADgDMZiwQAAAEDWDGTBAAAAgCvMY8EAAABAAN9jwQAAAGDliWXBAAAAoJM3ZcEAAACgpK5kwQAAAGAxBGPBAAAAwEgVY8EAAAAAUnBjwQAAAGDuymTBAAAAYMq5Y8EAAADAu8ZgwQAAAMCaJFvBAAAAwOQTU8EAAABAdkNbwQ==\"},\"y\":[\"0-4\",\"5-9\",\"10-14\",\"15-19\",\"20-24\",\"25-29\",\"30-34\",\"35-39\",\"40-44\",\"45-49\",\"50-54\",\"55-59\",\"60-64\",\"65-69\",\"70-74\",\"75-79\",\"80+\"],\"type\":\"bar\"}],\"name\":\"2019\"},{\"data\":[{\"marker\":{\"color\":\"blue\"},\"name\":\"Male\",\"opacity\":0.6,\"orientation\":\"h\",\"x\":{\"dtype\":\"f8\",\"bdata\":\"AAAAYJh\\u002fYkEAAACg59ljQQAAAKCDYmVBAAAAwOhOZUEAAACA43dlQQAAAGAw+WZBAAAAYPsnZ0EAAADAFElmQQAAAEA9l2RBAAAAYI67Y0EAAACgpQhkQQAAAAB47WRBAAAAIIh+Y0EAAADA9R5gQQAAAIDKkVlBAAAAQACQUEEAAADA2z9SQQ==\"},\"y\":[\"0-4\",\"5-9\",\"10-14\",\"15-19\",\"20-24\",\"25-29\",\"30-34\",\"35-39\",\"40-44\",\"45-49\",\"50-54\",\"55-59\",\"60-64\",\"65-69\",\"70-74\",\"75-79\",\"80+\"],\"type\":\"bar\"},{\"marker\":{\"color\":\"red\"},\"name\":\"Female\",\"opacity\":0.6,\"orientation\":\"h\",\"x\":{\"dtype\":\"f8\",\"bdata\":\"AAAAIG6kYcEAAACAYsdiwQAAACA7JmTBAAAAIAn5Y8EAAACguP9jwQAAAKALYWXBAAAAIBOcZcEAAACASPBkwQAAACC5hWPBAAAAgDTeYsEAAADgcmdjwQAAAOACtmTBAAAAQFUHZMEAAAAAEFJhwQAAAAC5glzBAAAAwBDMU8EAAACAa69bwQ==\"},\"y\":[\"0-4\",\"5-9\",\"10-14\",\"15-19\",\"20-24\",\"25-29\",\"30-34\",\"35-39\",\"40-44\",\"45-49\",\"50-54\",\"55-59\",\"60-64\",\"65-69\",\"70-74\",\"75-79\",\"80+\"],\"type\":\"bar\"}],\"name\":\"2020\"}]);\n",
       "                        }).then(function(){\n",
       "                            \n",
       "var gd = document.getElementById('db213b16-86fb-416e-868b-d3d44795ddd0');\n",
       "var x = new MutationObserver(function (mutations, observer) {{\n",
       "        var display = window.getComputedStyle(gd).display;\n",
       "        if (!display || display === 'none') {{\n",
       "            console.log([gd, 'removed!']);\n",
       "            Plotly.purge(gd);\n",
       "            observer.disconnect();\n",
       "        }}\n",
       "}});\n",
       "\n",
       "// Listen for the removal of the full notebook cells\n",
       "var notebookContainer = gd.closest('#notebook-container');\n",
       "if (notebookContainer) {{\n",
       "    x.observe(notebookContainer, {childList: true});\n",
       "}}\n",
       "\n",
       "// Listen for the clearing of the current output cell\n",
       "var outputEl = gd.closest('.output');\n",
       "if (outputEl) {{\n",
       "    x.observe(outputEl, {childList: true});\n",
       "}}\n",
       "\n",
       "                        })                };            </script>        </div>"
      ]
     },
     "metadata": {},
     "output_type": "display_data"
    }
   ],
   "source": [
    "animated_population_pyramid([1990,2020], 'United States of America')"
   ]
  },
  {
   "cell_type": "markdown",
   "id": "92f258e7-4e38-427e-8260-5254246f882d",
   "metadata": {},
   "source": [
    "## [C] Visualization Tools"
   ]
  },
  {
   "cell_type": "code",
   "execution_count": 9,
   "id": "0db2272d-7478-459f-a799-e9c155d8c67d",
   "metadata": {},
   "outputs": [
    {
     "ename": "AttributeError",
     "evalue": "Line2D.set() got an unexpected keyword argument 'labels'",
     "output_type": "error",
     "traceback": [
      "\u001b[0;31m---------------------------------------------------------------------------\u001b[0m",
      "\u001b[0;31mAttributeError\u001b[0m                            Traceback (most recent call last)",
      "Cell \u001b[0;32mIn[9], line 9\u001b[0m\n\u001b[1;32m      5\u001b[0m deforestation \u001b[38;5;241m=\u001b[39m wbdata\u001b[38;5;241m.\u001b[39mget_dataframe(\u001b[38;5;28mvars\u001b[39m,country\u001b[38;5;241m=\u001b[39muse,parse_dates\u001b[38;5;241m=\u001b[39m\u001b[38;5;28;01mTrue\u001b[39;00m)\u001b[38;5;241m.\u001b[39msqueeze()\u001b[38;5;241m.\u001b[39munstack(\u001b[38;5;124m'\u001b[39m\u001b[38;5;124mcountry\u001b[39m\u001b[38;5;124m'\u001b[39m)\n\u001b[1;32m      7\u001b[0m deforestation \u001b[38;5;241m=\u001b[39m deforestation\u001b[38;5;241m.\u001b[39mloc[\u001b[38;5;124m\"\u001b[39m\u001b[38;5;124m1990\u001b[39m\u001b[38;5;124m\"\u001b[39m:]\n\u001b[0;32m----> 9\u001b[0m plot \u001b[38;5;241m=\u001b[39m \u001b[43mdeforestation\u001b[49m\u001b[38;5;241;43m.\u001b[39;49m\u001b[43mplot\u001b[49m\u001b[43m(\u001b[49m\u001b[43mtitle\u001b[49m\u001b[38;5;241;43m=\u001b[39;49m\u001b[38;5;124;43m\"\u001b[39;49m\u001b[38;5;124;43mDeforestation Over the Years\u001b[39;49m\u001b[38;5;124;43m\"\u001b[39;49m\u001b[43m,\u001b[49m\u001b[43m \u001b[49m\u001b[43mlabels\u001b[49m\u001b[38;5;241;43m=\u001b[39;49m\u001b[43m{\u001b[49m\u001b[38;5;124;43m\"\u001b[39;49m\u001b[38;5;124;43mindex\u001b[39;49m\u001b[38;5;124;43m\"\u001b[39;49m\u001b[43m:\u001b[49m\u001b[43m \u001b[49m\u001b[38;5;124;43m\"\u001b[39;49m\u001b[38;5;124;43mYear\u001b[39;49m\u001b[38;5;124;43m\"\u001b[39;49m\u001b[43m,\u001b[49m\u001b[43m \u001b[49m\u001b[38;5;124;43m\"\u001b[39;49m\u001b[38;5;124;43mvalue\u001b[39;49m\u001b[38;5;124;43m\"\u001b[39;49m\u001b[43m:\u001b[49m\u001b[43m \u001b[49m\u001b[38;5;124;43m\"\u001b[39;49m\u001b[38;5;124;43mCountry\u001b[39;49m\u001b[38;5;124;43m'\u001b[39;49m\u001b[38;5;124;43ms Forest (\u001b[39;49m\u001b[38;5;124;43m%\u001b[39;49m\u001b[38;5;124;43m)\u001b[39;49m\u001b[38;5;124;43m\"\u001b[39;49m\u001b[43m}\u001b[49m\u001b[43m)\u001b[49m\n\u001b[1;32m     10\u001b[0m plot\u001b[38;5;241m.\u001b[39mshow()\n\u001b[1;32m     11\u001b[0m deforestation\u001b[38;5;241m.\u001b[39mhead()\n",
      "File \u001b[0;32m/srv/conda/lib/python3.11/site-packages/pandas/plotting/_core.py:1030\u001b[0m, in \u001b[0;36mPlotAccessor.__call__\u001b[0;34m(self, *args, **kwargs)\u001b[0m\n\u001b[1;32m   1027\u001b[0m             label_name \u001b[38;5;241m=\u001b[39m label_kw \u001b[38;5;129;01mor\u001b[39;00m data\u001b[38;5;241m.\u001b[39mcolumns\n\u001b[1;32m   1028\u001b[0m             data\u001b[38;5;241m.\u001b[39mcolumns \u001b[38;5;241m=\u001b[39m label_name\n\u001b[0;32m-> 1030\u001b[0m \u001b[38;5;28;01mreturn\u001b[39;00m \u001b[43mplot_backend\u001b[49m\u001b[38;5;241;43m.\u001b[39;49m\u001b[43mplot\u001b[49m\u001b[43m(\u001b[49m\u001b[43mdata\u001b[49m\u001b[43m,\u001b[49m\u001b[43m \u001b[49m\u001b[43mkind\u001b[49m\u001b[38;5;241;43m=\u001b[39;49m\u001b[43mkind\u001b[49m\u001b[43m,\u001b[49m\u001b[43m \u001b[49m\u001b[38;5;241;43m*\u001b[39;49m\u001b[38;5;241;43m*\u001b[39;49m\u001b[43mkwargs\u001b[49m\u001b[43m)\u001b[49m\n",
      "File \u001b[0;32m/srv/conda/lib/python3.11/site-packages/pandas/plotting/_matplotlib/__init__.py:71\u001b[0m, in \u001b[0;36mplot\u001b[0;34m(data, kind, **kwargs)\u001b[0m\n\u001b[1;32m     69\u001b[0m         kwargs[\u001b[38;5;124m\"\u001b[39m\u001b[38;5;124max\u001b[39m\u001b[38;5;124m\"\u001b[39m] \u001b[38;5;241m=\u001b[39m \u001b[38;5;28mgetattr\u001b[39m(ax, \u001b[38;5;124m\"\u001b[39m\u001b[38;5;124mleft_ax\u001b[39m\u001b[38;5;124m\"\u001b[39m, ax)\n\u001b[1;32m     70\u001b[0m plot_obj \u001b[38;5;241m=\u001b[39m PLOT_CLASSES[kind](data, \u001b[38;5;241m*\u001b[39m\u001b[38;5;241m*\u001b[39mkwargs)\n\u001b[0;32m---> 71\u001b[0m \u001b[43mplot_obj\u001b[49m\u001b[38;5;241;43m.\u001b[39;49m\u001b[43mgenerate\u001b[49m\u001b[43m(\u001b[49m\u001b[43m)\u001b[49m\n\u001b[1;32m     72\u001b[0m plot_obj\u001b[38;5;241m.\u001b[39mdraw()\n\u001b[1;32m     73\u001b[0m \u001b[38;5;28;01mreturn\u001b[39;00m plot_obj\u001b[38;5;241m.\u001b[39mresult\n",
      "File \u001b[0;32m/srv/conda/lib/python3.11/site-packages/pandas/plotting/_matplotlib/core.py:501\u001b[0m, in \u001b[0;36mMPLPlot.generate\u001b[0;34m(self)\u001b[0m\n\u001b[1;32m    499\u001b[0m \u001b[38;5;28mself\u001b[39m\u001b[38;5;241m.\u001b[39m_compute_plot_data()\n\u001b[1;32m    500\u001b[0m fig \u001b[38;5;241m=\u001b[39m \u001b[38;5;28mself\u001b[39m\u001b[38;5;241m.\u001b[39mfig\n\u001b[0;32m--> 501\u001b[0m \u001b[38;5;28;43mself\u001b[39;49m\u001b[38;5;241;43m.\u001b[39;49m\u001b[43m_make_plot\u001b[49m\u001b[43m(\u001b[49m\u001b[43mfig\u001b[49m\u001b[43m)\u001b[49m\n\u001b[1;32m    502\u001b[0m \u001b[38;5;28mself\u001b[39m\u001b[38;5;241m.\u001b[39m_add_table()\n\u001b[1;32m    503\u001b[0m \u001b[38;5;28mself\u001b[39m\u001b[38;5;241m.\u001b[39m_make_legend()\n",
      "File \u001b[0;32m/srv/conda/lib/python3.11/site-packages/pandas/plotting/_matplotlib/core.py:1550\u001b[0m, in \u001b[0;36mLinePlot._make_plot\u001b[0;34m(self, fig)\u001b[0m\n\u001b[1;32m   1547\u001b[0m label \u001b[38;5;241m=\u001b[39m \u001b[38;5;28mself\u001b[39m\u001b[38;5;241m.\u001b[39m_mark_right_label(label, index\u001b[38;5;241m=\u001b[39mi)\n\u001b[1;32m   1548\u001b[0m kwds[\u001b[38;5;124m\"\u001b[39m\u001b[38;5;124mlabel\u001b[39m\u001b[38;5;124m\"\u001b[39m] \u001b[38;5;241m=\u001b[39m label\n\u001b[0;32m-> 1550\u001b[0m newlines \u001b[38;5;241m=\u001b[39m \u001b[43mplotf\u001b[49m\u001b[43m(\u001b[49m\n\u001b[1;32m   1551\u001b[0m \u001b[43m    \u001b[49m\u001b[43max\u001b[49m\u001b[43m,\u001b[49m\n\u001b[1;32m   1552\u001b[0m \u001b[43m    \u001b[49m\u001b[43mx\u001b[49m\u001b[43m,\u001b[49m\n\u001b[1;32m   1553\u001b[0m \u001b[43m    \u001b[49m\u001b[43my\u001b[49m\u001b[43m,\u001b[49m\n\u001b[1;32m   1554\u001b[0m \u001b[43m    \u001b[49m\u001b[43mstyle\u001b[49m\u001b[38;5;241;43m=\u001b[39;49m\u001b[43mstyle\u001b[49m\u001b[43m,\u001b[49m\n\u001b[1;32m   1555\u001b[0m \u001b[43m    \u001b[49m\u001b[43mcolumn_num\u001b[49m\u001b[38;5;241;43m=\u001b[39;49m\u001b[43mi\u001b[49m\u001b[43m,\u001b[49m\n\u001b[1;32m   1556\u001b[0m \u001b[43m    \u001b[49m\u001b[43mstacking_id\u001b[49m\u001b[38;5;241;43m=\u001b[39;49m\u001b[43mstacking_id\u001b[49m\u001b[43m,\u001b[49m\n\u001b[1;32m   1557\u001b[0m \u001b[43m    \u001b[49m\u001b[43mis_errorbar\u001b[49m\u001b[38;5;241;43m=\u001b[39;49m\u001b[43mis_errorbar\u001b[49m\u001b[43m,\u001b[49m\n\u001b[1;32m   1558\u001b[0m \u001b[43m    \u001b[49m\u001b[38;5;241;43m*\u001b[39;49m\u001b[38;5;241;43m*\u001b[39;49m\u001b[43mkwds\u001b[49m\u001b[43m,\u001b[49m\n\u001b[1;32m   1559\u001b[0m \u001b[43m\u001b[49m\u001b[43m)\u001b[49m\n\u001b[1;32m   1560\u001b[0m \u001b[38;5;28mself\u001b[39m\u001b[38;5;241m.\u001b[39m_append_legend_handles_labels(newlines[\u001b[38;5;241m0\u001b[39m], label)\n\u001b[1;32m   1562\u001b[0m \u001b[38;5;28;01mif\u001b[39;00m \u001b[38;5;28mself\u001b[39m\u001b[38;5;241m.\u001b[39m_is_ts_plot():\n\u001b[1;32m   1563\u001b[0m     \u001b[38;5;66;03m# reset of xlim should be used for ts data\u001b[39;00m\n\u001b[1;32m   1564\u001b[0m     \u001b[38;5;66;03m# TODO: GH28021, should find a way to change view limit on xaxis\u001b[39;00m\n",
      "File \u001b[0;32m/srv/conda/lib/python3.11/site-packages/pandas/plotting/_matplotlib/core.py:1607\u001b[0m, in \u001b[0;36mLinePlot._ts_plot\u001b[0;34m(self, ax, x, data, style, **kwds)\u001b[0m\n\u001b[1;32m   1604\u001b[0m \u001b[38;5;66;03m# TODO #54485\u001b[39;00m\n\u001b[1;32m   1605\u001b[0m ax\u001b[38;5;241m.\u001b[39m_plot_data\u001b[38;5;241m.\u001b[39mappend((data, \u001b[38;5;28mself\u001b[39m\u001b[38;5;241m.\u001b[39m_kind, kwds))  \u001b[38;5;66;03m# type: ignore[attr-defined]\u001b[39;00m\n\u001b[0;32m-> 1607\u001b[0m lines \u001b[38;5;241m=\u001b[39m \u001b[38;5;28;43mself\u001b[39;49m\u001b[38;5;241;43m.\u001b[39;49m\u001b[43m_plot\u001b[49m\u001b[43m(\u001b[49m\u001b[43max\u001b[49m\u001b[43m,\u001b[49m\u001b[43m \u001b[49m\u001b[43mdata\u001b[49m\u001b[38;5;241;43m.\u001b[39;49m\u001b[43mindex\u001b[49m\u001b[43m,\u001b[49m\u001b[43m \u001b[49m\u001b[43mnp\u001b[49m\u001b[38;5;241;43m.\u001b[39;49m\u001b[43masarray\u001b[49m\u001b[43m(\u001b[49m\u001b[43mdata\u001b[49m\u001b[38;5;241;43m.\u001b[39;49m\u001b[43mvalues\u001b[49m\u001b[43m)\u001b[49m\u001b[43m,\u001b[49m\u001b[43m \u001b[49m\u001b[43mstyle\u001b[49m\u001b[38;5;241;43m=\u001b[39;49m\u001b[43mstyle\u001b[49m\u001b[43m,\u001b[49m\u001b[43m \u001b[49m\u001b[38;5;241;43m*\u001b[39;49m\u001b[38;5;241;43m*\u001b[39;49m\u001b[43mkwds\u001b[49m\u001b[43m)\u001b[49m\n\u001b[1;32m   1608\u001b[0m \u001b[38;5;66;03m# set date formatter, locators and rescale limits\u001b[39;00m\n\u001b[1;32m   1609\u001b[0m \u001b[38;5;66;03m# TODO #54485\u001b[39;00m\n\u001b[1;32m   1610\u001b[0m format_dateaxis(ax, ax\u001b[38;5;241m.\u001b[39mfreq, data\u001b[38;5;241m.\u001b[39mindex)  \u001b[38;5;66;03m# type: ignore[arg-type, attr-defined]\u001b[39;00m\n",
      "File \u001b[0;32m/srv/conda/lib/python3.11/site-packages/pandas/plotting/_matplotlib/core.py:1586\u001b[0m, in \u001b[0;36mLinePlot._plot\u001b[0;34m(cls, ax, x, y, style, column_num, stacking_id, **kwds)\u001b[0m\n\u001b[1;32m   1584\u001b[0m     \u001b[38;5;28mcls\u001b[39m\u001b[38;5;241m.\u001b[39m_initialize_stacker(ax, stacking_id, \u001b[38;5;28mlen\u001b[39m(y))\n\u001b[1;32m   1585\u001b[0m y_values \u001b[38;5;241m=\u001b[39m \u001b[38;5;28mcls\u001b[39m\u001b[38;5;241m.\u001b[39m_get_stacked_values(ax, stacking_id, y, kwds[\u001b[38;5;124m\"\u001b[39m\u001b[38;5;124mlabel\u001b[39m\u001b[38;5;124m\"\u001b[39m])\n\u001b[0;32m-> 1586\u001b[0m lines \u001b[38;5;241m=\u001b[39m \u001b[43mMPLPlot\u001b[49m\u001b[38;5;241;43m.\u001b[39;49m\u001b[43m_plot\u001b[49m\u001b[43m(\u001b[49m\u001b[43max\u001b[49m\u001b[43m,\u001b[49m\u001b[43m \u001b[49m\u001b[43mx\u001b[49m\u001b[43m,\u001b[49m\u001b[43m \u001b[49m\u001b[43my_values\u001b[49m\u001b[43m,\u001b[49m\u001b[43m \u001b[49m\u001b[43mstyle\u001b[49m\u001b[38;5;241;43m=\u001b[39;49m\u001b[43mstyle\u001b[49m\u001b[43m,\u001b[49m\u001b[43m \u001b[49m\u001b[38;5;241;43m*\u001b[39;49m\u001b[38;5;241;43m*\u001b[39;49m\u001b[43mkwds\u001b[49m\u001b[43m)\u001b[49m\n\u001b[1;32m   1587\u001b[0m \u001b[38;5;28mcls\u001b[39m\u001b[38;5;241m.\u001b[39m_update_stacker(ax, stacking_id, y)\n\u001b[1;32m   1588\u001b[0m \u001b[38;5;28;01mreturn\u001b[39;00m lines\n",
      "File \u001b[0;32m/srv/conda/lib/python3.11/site-packages/pandas/plotting/_matplotlib/converter.py:95\u001b[0m, in \u001b[0;36mregister_pandas_matplotlib_converters.<locals>.wrapper\u001b[0;34m(*args, **kwargs)\u001b[0m\n\u001b[1;32m     92\u001b[0m \u001b[38;5;129m@functools\u001b[39m\u001b[38;5;241m.\u001b[39mwraps(func)\n\u001b[1;32m     93\u001b[0m \u001b[38;5;28;01mdef\u001b[39;00m\u001b[38;5;250m \u001b[39m\u001b[38;5;21mwrapper\u001b[39m(\u001b[38;5;241m*\u001b[39margs, \u001b[38;5;241m*\u001b[39m\u001b[38;5;241m*\u001b[39mkwargs):\n\u001b[1;32m     94\u001b[0m     \u001b[38;5;28;01mwith\u001b[39;00m pandas_converters():\n\u001b[0;32m---> 95\u001b[0m         \u001b[38;5;28;01mreturn\u001b[39;00m \u001b[43mfunc\u001b[49m\u001b[43m(\u001b[49m\u001b[38;5;241;43m*\u001b[39;49m\u001b[43margs\u001b[49m\u001b[43m,\u001b[49m\u001b[43m \u001b[49m\u001b[38;5;241;43m*\u001b[39;49m\u001b[38;5;241;43m*\u001b[39;49m\u001b[43mkwargs\u001b[49m\u001b[43m)\u001b[49m\n",
      "File \u001b[0;32m/srv/conda/lib/python3.11/site-packages/pandas/plotting/_matplotlib/core.py:981\u001b[0m, in \u001b[0;36mMPLPlot._plot\u001b[0;34m(cls, ax, x, y, style, is_errorbar, **kwds)\u001b[0m\n\u001b[1;32m    978\u001b[0m \u001b[38;5;28;01melse\u001b[39;00m:\n\u001b[1;32m    979\u001b[0m     \u001b[38;5;66;03m# prevent style kwarg from going to errorbar, where it is unsupported\u001b[39;00m\n\u001b[1;32m    980\u001b[0m     args \u001b[38;5;241m=\u001b[39m (x, y, style) \u001b[38;5;28;01mif\u001b[39;00m style \u001b[38;5;129;01mis\u001b[39;00m \u001b[38;5;129;01mnot\u001b[39;00m \u001b[38;5;28;01mNone\u001b[39;00m \u001b[38;5;28;01melse\u001b[39;00m (x, y)\n\u001b[0;32m--> 981\u001b[0m     \u001b[38;5;28;01mreturn\u001b[39;00m \u001b[43max\u001b[49m\u001b[38;5;241;43m.\u001b[39;49m\u001b[43mplot\u001b[49m\u001b[43m(\u001b[49m\u001b[38;5;241;43m*\u001b[39;49m\u001b[43margs\u001b[49m\u001b[43m,\u001b[49m\u001b[43m \u001b[49m\u001b[38;5;241;43m*\u001b[39;49m\u001b[38;5;241;43m*\u001b[39;49m\u001b[43mkwds\u001b[49m\u001b[43m)\u001b[49m\n",
      "File \u001b[0;32m/srv/conda/lib/python3.11/site-packages/matplotlib/axes/_axes.py:1777\u001b[0m, in \u001b[0;36mAxes.plot\u001b[0;34m(self, scalex, scaley, data, *args, **kwargs)\u001b[0m\n\u001b[1;32m   1534\u001b[0m \u001b[38;5;250m\u001b[39m\u001b[38;5;124;03m\"\"\"\u001b[39;00m\n\u001b[1;32m   1535\u001b[0m \u001b[38;5;124;03mPlot y versus x as lines and/or markers.\u001b[39;00m\n\u001b[1;32m   1536\u001b[0m \n\u001b[0;32m   (...)\u001b[0m\n\u001b[1;32m   1774\u001b[0m \u001b[38;5;124;03m(``'green'``) or hex strings (``'#008000'``).\u001b[39;00m\n\u001b[1;32m   1775\u001b[0m \u001b[38;5;124;03m\"\"\"\u001b[39;00m\n\u001b[1;32m   1776\u001b[0m kwargs \u001b[38;5;241m=\u001b[39m cbook\u001b[38;5;241m.\u001b[39mnormalize_kwargs(kwargs, mlines\u001b[38;5;241m.\u001b[39mLine2D)\n\u001b[0;32m-> 1777\u001b[0m lines \u001b[38;5;241m=\u001b[39m [\u001b[38;5;241m*\u001b[39m\u001b[38;5;28mself\u001b[39m\u001b[38;5;241m.\u001b[39m_get_lines(\u001b[38;5;28mself\u001b[39m, \u001b[38;5;241m*\u001b[39margs, data\u001b[38;5;241m=\u001b[39mdata, \u001b[38;5;241m*\u001b[39m\u001b[38;5;241m*\u001b[39mkwargs)]\n\u001b[1;32m   1778\u001b[0m \u001b[38;5;28;01mfor\u001b[39;00m line \u001b[38;5;129;01min\u001b[39;00m lines:\n\u001b[1;32m   1779\u001b[0m     \u001b[38;5;28mself\u001b[39m\u001b[38;5;241m.\u001b[39madd_line(line)\n",
      "File \u001b[0;32m/srv/conda/lib/python3.11/site-packages/matplotlib/axes/_base.py:297\u001b[0m, in \u001b[0;36m_process_plot_var_args.__call__\u001b[0;34m(self, axes, data, return_kwargs, *args, **kwargs)\u001b[0m\n\u001b[1;32m    295\u001b[0m     this \u001b[38;5;241m+\u001b[39m\u001b[38;5;241m=\u001b[39m args[\u001b[38;5;241m0\u001b[39m],\n\u001b[1;32m    296\u001b[0m     args \u001b[38;5;241m=\u001b[39m args[\u001b[38;5;241m1\u001b[39m:]\n\u001b[0;32m--> 297\u001b[0m \u001b[38;5;28;01myield from\u001b[39;00m \u001b[38;5;28;43mself\u001b[39;49m\u001b[38;5;241;43m.\u001b[39;49m\u001b[43m_plot_args\u001b[49m\u001b[43m(\u001b[49m\n\u001b[1;32m    298\u001b[0m \u001b[43m    \u001b[49m\u001b[43maxes\u001b[49m\u001b[43m,\u001b[49m\u001b[43m \u001b[49m\u001b[43mthis\u001b[49m\u001b[43m,\u001b[49m\u001b[43m \u001b[49m\u001b[43mkwargs\u001b[49m\u001b[43m,\u001b[49m\u001b[43m \u001b[49m\u001b[43mambiguous_fmt_datakey\u001b[49m\u001b[38;5;241;43m=\u001b[39;49m\u001b[43mambiguous_fmt_datakey\u001b[49m\u001b[43m,\u001b[49m\n\u001b[1;32m    299\u001b[0m \u001b[43m    \u001b[49m\u001b[43mreturn_kwargs\u001b[49m\u001b[38;5;241;43m=\u001b[39;49m\u001b[43mreturn_kwargs\u001b[49m\n\u001b[1;32m    300\u001b[0m \u001b[43m\u001b[49m\u001b[43m)\u001b[49m\n",
      "File \u001b[0;32m/srv/conda/lib/python3.11/site-packages/matplotlib/axes/_base.py:546\u001b[0m, in \u001b[0;36m_process_plot_var_args._plot_args\u001b[0;34m(self, axes, tup, kwargs, return_kwargs, ambiguous_fmt_datakey)\u001b[0m\n\u001b[1;32m    544\u001b[0m     \u001b[38;5;28;01mreturn\u001b[39;00m \u001b[38;5;28mlist\u001b[39m(result)\n\u001b[1;32m    545\u001b[0m \u001b[38;5;28;01melse\u001b[39;00m:\n\u001b[0;32m--> 546\u001b[0m     \u001b[38;5;28;01mreturn\u001b[39;00m \u001b[43m[\u001b[49m\u001b[43ml\u001b[49m\u001b[43m[\u001b[49m\u001b[38;5;241;43m0\u001b[39;49m\u001b[43m]\u001b[49m\u001b[43m \u001b[49m\u001b[38;5;28;43;01mfor\u001b[39;49;00m\u001b[43m \u001b[49m\u001b[43ml\u001b[49m\u001b[43m \u001b[49m\u001b[38;5;129;43;01min\u001b[39;49;00m\u001b[43m \u001b[49m\u001b[43mresult\u001b[49m\u001b[43m]\u001b[49m\n",
      "File \u001b[0;32m/srv/conda/lib/python3.11/site-packages/matplotlib/axes/_base.py:546\u001b[0m, in \u001b[0;36m<listcomp>\u001b[0;34m(.0)\u001b[0m\n\u001b[1;32m    544\u001b[0m     \u001b[38;5;28;01mreturn\u001b[39;00m \u001b[38;5;28mlist\u001b[39m(result)\n\u001b[1;32m    545\u001b[0m \u001b[38;5;28;01melse\u001b[39;00m:\n\u001b[0;32m--> 546\u001b[0m     \u001b[38;5;28;01mreturn\u001b[39;00m \u001b[43m[\u001b[49m\u001b[43ml\u001b[49m\u001b[43m[\u001b[49m\u001b[38;5;241;43m0\u001b[39;49m\u001b[43m]\u001b[49m\u001b[43m \u001b[49m\u001b[38;5;28;43;01mfor\u001b[39;49;00m\u001b[43m \u001b[49m\u001b[43ml\u001b[49m\u001b[43m \u001b[49m\u001b[38;5;129;43;01min\u001b[39;49;00m\u001b[43m \u001b[49m\u001b[43mresult\u001b[49m\u001b[43m]\u001b[49m\n",
      "File \u001b[0;32m/srv/conda/lib/python3.11/site-packages/matplotlib/axes/_base.py:539\u001b[0m, in \u001b[0;36m<genexpr>\u001b[0;34m(.0)\u001b[0m\n\u001b[1;32m    534\u001b[0m \u001b[38;5;28;01melse\u001b[39;00m:\n\u001b[1;32m    535\u001b[0m     \u001b[38;5;28;01mraise\u001b[39;00m \u001b[38;5;167;01mValueError\u001b[39;00m(\n\u001b[1;32m    536\u001b[0m         \u001b[38;5;124mf\u001b[39m\u001b[38;5;124m\"\u001b[39m\u001b[38;5;124mlabel must be scalar or have the same length as the input \u001b[39m\u001b[38;5;124m\"\u001b[39m\n\u001b[1;32m    537\u001b[0m         \u001b[38;5;124mf\u001b[39m\u001b[38;5;124m\"\u001b[39m\u001b[38;5;124mdata, but found \u001b[39m\u001b[38;5;132;01m{\u001b[39;00m\u001b[38;5;28mlen\u001b[39m(label)\u001b[38;5;132;01m}\u001b[39;00m\u001b[38;5;124m for \u001b[39m\u001b[38;5;132;01m{\u001b[39;00mn_datasets\u001b[38;5;132;01m}\u001b[39;00m\u001b[38;5;124m datasets.\u001b[39m\u001b[38;5;124m\"\u001b[39m)\n\u001b[0;32m--> 539\u001b[0m result \u001b[38;5;241m=\u001b[39m (\u001b[43mmake_artist\u001b[49m\u001b[43m(\u001b[49m\u001b[43maxes\u001b[49m\u001b[43m,\u001b[49m\u001b[43m \u001b[49m\u001b[43mx\u001b[49m\u001b[43m[\u001b[49m\u001b[43m:\u001b[49m\u001b[43m,\u001b[49m\u001b[43m \u001b[49m\u001b[43mj\u001b[49m\u001b[43m \u001b[49m\u001b[38;5;241;43m%\u001b[39;49m\u001b[43m \u001b[49m\u001b[43mncx\u001b[49m\u001b[43m]\u001b[49m\u001b[43m,\u001b[49m\u001b[43m \u001b[49m\u001b[43my\u001b[49m\u001b[43m[\u001b[49m\u001b[43m:\u001b[49m\u001b[43m,\u001b[49m\u001b[43m \u001b[49m\u001b[43mj\u001b[49m\u001b[43m \u001b[49m\u001b[38;5;241;43m%\u001b[39;49m\u001b[43m \u001b[49m\u001b[43mncy\u001b[49m\u001b[43m]\u001b[49m\u001b[43m,\u001b[49m\u001b[43m \u001b[49m\u001b[43mkw\u001b[49m\u001b[43m,\u001b[49m\n\u001b[1;32m    540\u001b[0m \u001b[43m                      \u001b[49m\u001b[43m{\u001b[49m\u001b[38;5;241;43m*\u001b[39;49m\u001b[38;5;241;43m*\u001b[39;49m\u001b[43mkwargs\u001b[49m\u001b[43m,\u001b[49m\u001b[43m \u001b[49m\u001b[38;5;124;43m'\u001b[39;49m\u001b[38;5;124;43mlabel\u001b[39;49m\u001b[38;5;124;43m'\u001b[39;49m\u001b[43m:\u001b[49m\u001b[43m \u001b[49m\u001b[43mlabel\u001b[49m\u001b[43m}\u001b[49m\u001b[43m)\u001b[49m\n\u001b[1;32m    541\u001b[0m           \u001b[38;5;28;01mfor\u001b[39;00m j, label \u001b[38;5;129;01min\u001b[39;00m \u001b[38;5;28menumerate\u001b[39m(labels))\n\u001b[1;32m    543\u001b[0m \u001b[38;5;28;01mif\u001b[39;00m return_kwargs:\n\u001b[1;32m    544\u001b[0m     \u001b[38;5;28;01mreturn\u001b[39;00m \u001b[38;5;28mlist\u001b[39m(result)\n",
      "File \u001b[0;32m/srv/conda/lib/python3.11/site-packages/matplotlib/axes/_base.py:338\u001b[0m, in \u001b[0;36m_process_plot_var_args._make_line\u001b[0;34m(self, axes, x, y, kw, kwargs)\u001b[0m\n\u001b[1;32m    336\u001b[0m kw \u001b[38;5;241m=\u001b[39m {\u001b[38;5;241m*\u001b[39m\u001b[38;5;241m*\u001b[39mkw, \u001b[38;5;241m*\u001b[39m\u001b[38;5;241m*\u001b[39mkwargs}  \u001b[38;5;66;03m# Don't modify the original kw.\u001b[39;00m\n\u001b[1;32m    337\u001b[0m \u001b[38;5;28mself\u001b[39m\u001b[38;5;241m.\u001b[39m_setdefaults(\u001b[38;5;28mself\u001b[39m\u001b[38;5;241m.\u001b[39m_getdefaults(kw), kw)\n\u001b[0;32m--> 338\u001b[0m seg \u001b[38;5;241m=\u001b[39m \u001b[43mmlines\u001b[49m\u001b[38;5;241;43m.\u001b[39;49m\u001b[43mLine2D\u001b[49m\u001b[43m(\u001b[49m\u001b[43mx\u001b[49m\u001b[43m,\u001b[49m\u001b[43m \u001b[49m\u001b[43my\u001b[49m\u001b[43m,\u001b[49m\u001b[43m \u001b[49m\u001b[38;5;241;43m*\u001b[39;49m\u001b[38;5;241;43m*\u001b[39;49m\u001b[43mkw\u001b[49m\u001b[43m)\u001b[49m\n\u001b[1;32m    339\u001b[0m \u001b[38;5;28;01mreturn\u001b[39;00m seg, kw\n",
      "File \u001b[0;32m/srv/conda/lib/python3.11/site-packages/matplotlib/lines.py:407\u001b[0m, in \u001b[0;36mLine2D.__init__\u001b[0;34m(self, xdata, ydata, linewidth, linestyle, color, gapcolor, marker, markersize, markeredgewidth, markeredgecolor, markerfacecolor, markerfacecoloralt, fillstyle, antialiased, dash_capstyle, solid_capstyle, dash_joinstyle, solid_joinstyle, pickradius, drawstyle, markevery, **kwargs)\u001b[0m\n\u001b[1;32m    403\u001b[0m \u001b[38;5;28mself\u001b[39m\u001b[38;5;241m.\u001b[39mset_markeredgewidth(markeredgewidth)\n\u001b[1;32m    405\u001b[0m \u001b[38;5;66;03m# update kwargs before updating data to give the caller a\u001b[39;00m\n\u001b[1;32m    406\u001b[0m \u001b[38;5;66;03m# chance to init axes (and hence unit support)\u001b[39;00m\n\u001b[0;32m--> 407\u001b[0m \u001b[38;5;28;43mself\u001b[39;49m\u001b[38;5;241;43m.\u001b[39;49m\u001b[43m_internal_update\u001b[49m\u001b[43m(\u001b[49m\u001b[43mkwargs\u001b[49m\u001b[43m)\u001b[49m\n\u001b[1;32m    408\u001b[0m \u001b[38;5;28mself\u001b[39m\u001b[38;5;241m.\u001b[39mpickradius \u001b[38;5;241m=\u001b[39m pickradius\n\u001b[1;32m    409\u001b[0m \u001b[38;5;28mself\u001b[39m\u001b[38;5;241m.\u001b[39mind_offset \u001b[38;5;241m=\u001b[39m \u001b[38;5;241m0\u001b[39m\n",
      "File \u001b[0;32m/srv/conda/lib/python3.11/site-packages/matplotlib/artist.py:1233\u001b[0m, in \u001b[0;36mArtist._internal_update\u001b[0;34m(self, kwargs)\u001b[0m\n\u001b[1;32m   1226\u001b[0m \u001b[38;5;28;01mdef\u001b[39;00m\u001b[38;5;250m \u001b[39m\u001b[38;5;21m_internal_update\u001b[39m(\u001b[38;5;28mself\u001b[39m, kwargs):\n\u001b[1;32m   1227\u001b[0m \u001b[38;5;250m    \u001b[39m\u001b[38;5;124;03m\"\"\"\u001b[39;00m\n\u001b[1;32m   1228\u001b[0m \u001b[38;5;124;03m    Update artist properties without prenormalizing them, but generating\u001b[39;00m\n\u001b[1;32m   1229\u001b[0m \u001b[38;5;124;03m    errors as if calling `set`.\u001b[39;00m\n\u001b[1;32m   1230\u001b[0m \n\u001b[1;32m   1231\u001b[0m \u001b[38;5;124;03m    The lack of prenormalization is to maintain backcompatibility.\u001b[39;00m\n\u001b[1;32m   1232\u001b[0m \u001b[38;5;124;03m    \"\"\"\u001b[39;00m\n\u001b[0;32m-> 1233\u001b[0m     \u001b[38;5;28;01mreturn\u001b[39;00m \u001b[38;5;28;43mself\u001b[39;49m\u001b[38;5;241;43m.\u001b[39;49m\u001b[43m_update_props\u001b[49m\u001b[43m(\u001b[49m\n\u001b[1;32m   1234\u001b[0m \u001b[43m        \u001b[49m\u001b[43mkwargs\u001b[49m\u001b[43m,\u001b[49m\u001b[43m \u001b[49m\u001b[38;5;124;43m\"\u001b[39;49m\u001b[38;5;132;43;01m{cls.__name__}\u001b[39;49;00m\u001b[38;5;124;43m.set() got an unexpected keyword argument \u001b[39;49m\u001b[38;5;124;43m\"\u001b[39;49m\n\u001b[1;32m   1235\u001b[0m \u001b[43m        \u001b[49m\u001b[38;5;124;43m\"\u001b[39;49m\u001b[38;5;132;43;01m{prop_name!r}\u001b[39;49;00m\u001b[38;5;124;43m\"\u001b[39;49m\u001b[43m)\u001b[49m\n",
      "File \u001b[0;32m/srv/conda/lib/python3.11/site-packages/matplotlib/artist.py:1206\u001b[0m, in \u001b[0;36mArtist._update_props\u001b[0;34m(self, props, errfmt)\u001b[0m\n\u001b[1;32m   1204\u001b[0m             func \u001b[38;5;241m=\u001b[39m \u001b[38;5;28mgetattr\u001b[39m(\u001b[38;5;28mself\u001b[39m, \u001b[38;5;124mf\u001b[39m\u001b[38;5;124m\"\u001b[39m\u001b[38;5;124mset_\u001b[39m\u001b[38;5;132;01m{\u001b[39;00mk\u001b[38;5;132;01m}\u001b[39;00m\u001b[38;5;124m\"\u001b[39m, \u001b[38;5;28;01mNone\u001b[39;00m)\n\u001b[1;32m   1205\u001b[0m             \u001b[38;5;28;01mif\u001b[39;00m \u001b[38;5;129;01mnot\u001b[39;00m \u001b[38;5;28mcallable\u001b[39m(func):\n\u001b[0;32m-> 1206\u001b[0m                 \u001b[38;5;28;01mraise\u001b[39;00m \u001b[38;5;167;01mAttributeError\u001b[39;00m(\n\u001b[1;32m   1207\u001b[0m                     errfmt\u001b[38;5;241m.\u001b[39mformat(\u001b[38;5;28mcls\u001b[39m\u001b[38;5;241m=\u001b[39m\u001b[38;5;28mtype\u001b[39m(\u001b[38;5;28mself\u001b[39m), prop_name\u001b[38;5;241m=\u001b[39mk),\n\u001b[1;32m   1208\u001b[0m                     name\u001b[38;5;241m=\u001b[39mk)\n\u001b[1;32m   1209\u001b[0m             ret\u001b[38;5;241m.\u001b[39mappend(func(v))\n\u001b[1;32m   1210\u001b[0m \u001b[38;5;28;01mif\u001b[39;00m ret:\n",
      "\u001b[0;31mAttributeError\u001b[0m: Line2D.set() got an unexpected keyword argument 'labels'"
     ]
    },
    {
     "name": "stderr",
     "output_type": "stream",
     "text": [
      "/srv/conda/lib/python3.11/site-packages/matplotlib/transforms.py:2650: RuntimeWarning:\n",
      "\n",
      "divide by zero encountered in scalar divide\n",
      "\n",
      "/srv/conda/lib/python3.11/site-packages/matplotlib/transforms.py:2652: RuntimeWarning:\n",
      "\n",
      "invalid value encountered in scalar multiply\n",
      "\n"
     ]
    },
    {
     "data": {
      "image/png": "[encoded data removed]",
      "text/plain": [
       "<Figure size 640x480 with 1 Axes>"
      ]
     },
     "metadata": {},
     "output_type": "display_data"
    }
   ],
   "source": [
    "vars = {\"AG.LND.FRST.ZS\":\"Deforestation\"}\n",
    "\n",
    "use=[\"BRA\",\"ECU\",\"VEN\",\"COL\",\"PER\"]\n",
    "\n",
    "deforestation = wbdata.get_dataframe(vars,country=use,parse_dates=True).squeeze().unstack('country')\n",
    "\n",
    "deforestation = deforestation.loc[\"1990\":]\n",
    "\n",
    "plot = deforestation.plot(title=\"Deforestation Over the Years\", labels={\"index\": \"Year\", \"value\": \"Country's Forest (%)\"})\n",
    "plot.show()\n",
    "deforestation.head()"
   ]
  },
  {
   "cell_type": "markdown",
   "id": "c87ee50a-2352-407c-9a07-40e29afad708",
   "metadata": {},
   "source": [
    "## [C] Population Pyramid"
   ]
  },
  {
   "cell_type": "markdown",
   "id": "3b730dc8-4267-4c3e-8114-b86f6fdc4d6d",
   "metadata": {},
   "source": [
    "## [C] Agriculture Supply"
   ]
  },
  {
   "cell_type": "code",
   "execution_count": null,
   "id": "32f691d4-a22f-4261-9835-553fcf232364",
   "metadata": {},
   "outputs": [],
   "source": []
  }
 ],
 "metadata": {
  "kernelspec": {
   "display_name": "Python 3 (ipykernel)",
   "language": "python",
   "name": "python3"
  },
  "language_info": {
   "codemirror_mode": {
    "name": "ipython",
    "version": 3
   },
   "file_extension": ".py",
   "mimetype": "text/x-python",
   "name": "python",
   "nbconvert_exporter": "python",
   "pygments_lexer": "ipython3",
   "version": "3.11.11"
  }
 },
 "nbformat": 4,
 "nbformat_minor": 5
}
