{
 "cells": [
  {
   "cell_type": "code",
   "execution_count": null,
   "id": "8bd2cff5-cf98-4ec5-b5a0-b713dd2f7a8f",
   "metadata": {},
   "outputs": [],
   "source": [
    "%pip install wbdata\n",
    "%pip install pandas\n",
    "%pip install iso3166\n",
    "%pip install cufflinks\n",
    "%pip install eep153_tools\n",
    "%pip install plotly\n",
    "%pip install kagglehub\n",
    "%pip install os\n",
    "import wbdata\n",
    "import pandas as pd\n",
    "import geopandas as gpd\n",
    "import math\n",
    "import iso3166\n",
    "import plotly.offline as py\n",
    "from scipy.optimize import newton\n",
    "import plotly.graph_objs as go\n",
    "import numpy as np\n",
    "import cufflinks as cf\n",
    "from matplotlib import animation as ani\n",
    "import matplotlib.pyplot as plt\n",
    "import kagglehub\n",
    "import os\n",
    "cf.go_offline()"
   ]
  },
  {
   "cell_type": "code",
   "execution_count": 9,
   "id": "33e1c699-5709-4c15-b7ed-a57c36bd7301",
   "metadata": {},
   "outputs": [
    {
     "name": "stderr",
     "output_type": "stream",
     "text": [
      "ERROR 1: PROJ: proj_create_from_database: Open of /srv/conda/share/proj failed\n"
     ]
    },
    {
     "data": {
      "text/html": [
       "<div>\n",
       "<style scoped>\n",
       "    .dataframe tbody tr th:only-of-type {\n",
       "        vertical-align: middle;\n",
       "    }\n",
       "\n",
       "    .dataframe tbody tr th {\n",
       "        vertical-align: top;\n",
       "    }\n",
       "\n",
       "    .dataframe thead th {\n",
       "        text-align: right;\n",
       "    }\n",
       "</style>\n",
       "<table border=\"1\" class=\"dataframe\">\n",
       "  <thead>\n",
       "    <tr style=\"text-align: right;\">\n",
       "      <th></th>\n",
       "      <th>name</th>\n",
       "      <th>cartodb_id</th>\n",
       "      <th>created_at</th>\n",
       "      <th>updated_at</th>\n",
       "      <th>geometry</th>\n",
       "    </tr>\n",
       "  </thead>\n",
       "  <tbody>\n",
       "    <tr>\n",
       "      <th>0</th>\n",
       "      <td>French Guiana (France)</td>\n",
       "      <td>1</td>\n",
       "      <td>2013-11-28 06:32:17+01:00</td>\n",
       "      <td>2013-11-28 06:33:02+01:00</td>\n",
       "      <td>POLYGON ((-52.28892 4.87612, -52.32461 4.7709,...</td>\n",
       "    </tr>\n",
       "    <tr>\n",
       "      <th>1</th>\n",
       "      <td>Brazil</td>\n",
       "      <td>33</td>\n",
       "      <td>2013-11-27 20:16:22+01:00</td>\n",
       "      <td>2013-11-27 20:16:23+01:00</td>\n",
       "      <td>MULTIPOLYGON (((-48.48589 -27.76699, -48.55459...</td>\n",
       "    </tr>\n",
       "    <tr>\n",
       "      <th>2</th>\n",
       "      <td>Chile</td>\n",
       "      <td>41</td>\n",
       "      <td>2013-11-27 20:16:22+01:00</td>\n",
       "      <td>2013-11-27 20:16:23+01:00</td>\n",
       "      <td>MULTIPOLYGON (((-67.5752 -55.88965, -67.61143 ...</td>\n",
       "    </tr>\n",
       "    <tr>\n",
       "      <th>3</th>\n",
       "      <td>Argentina</td>\n",
       "      <td>9</td>\n",
       "      <td>2013-11-27 20:16:22+01:00</td>\n",
       "      <td>2013-11-27 20:16:23+01:00</td>\n",
       "      <td>MULTIPOLYGON (((-64.54917 -54.71621, -64.43882...</td>\n",
       "    </tr>\n",
       "    <tr>\n",
       "      <th>4</th>\n",
       "      <td>Bolivia</td>\n",
       "      <td>32</td>\n",
       "      <td>2013-11-27 20:16:22+01:00</td>\n",
       "      <td>2013-11-27 20:16:23+01:00</td>\n",
       "      <td>POLYGON ((-58.15977 -20.16465, -58.13994 -19.9...</td>\n",
       "    </tr>\n",
       "    <tr>\n",
       "      <th>5</th>\n",
       "      <td>Colombia</td>\n",
       "      <td>48</td>\n",
       "      <td>2013-11-27 20:16:22+01:00</td>\n",
       "      <td>2013-11-27 20:16:23+01:00</td>\n",
       "      <td>MULTIPOLYGON (((-78.11372 2.54175, -78.14082 2...</td>\n",
       "    </tr>\n",
       "    <tr>\n",
       "      <th>6</th>\n",
       "      <td>Ecuador</td>\n",
       "      <td>64</td>\n",
       "      <td>2013-11-27 20:16:22+01:00</td>\n",
       "      <td>2013-11-27 20:16:23+01:00</td>\n",
       "      <td>MULTIPOLYGON (((-80.13159 -2.97314, -80.15068 ...</td>\n",
       "    </tr>\n",
       "    <tr>\n",
       "      <th>7</th>\n",
       "      <td>Guyana</td>\n",
       "      <td>90</td>\n",
       "      <td>2013-11-27 20:16:22+01:00</td>\n",
       "      <td>2013-11-27 20:16:23+01:00</td>\n",
       "      <td>POLYGON ((-57.19478 5.54844, -57.2479 5.48525,...</td>\n",
       "    </tr>\n",
       "    <tr>\n",
       "      <th>8</th>\n",
       "      <td>Peru</td>\n",
       "      <td>171</td>\n",
       "      <td>2013-11-27 20:16:22+01:00</td>\n",
       "      <td>2013-11-27 20:16:23+01:00</td>\n",
       "      <td>POLYGON ((-69.96592 -4.23594, -69.97202 -4.301...</td>\n",
       "    </tr>\n",
       "    <tr>\n",
       "      <th>9</th>\n",
       "      <td>Paraguay</td>\n",
       "      <td>179</td>\n",
       "      <td>2013-11-27 20:16:22+01:00</td>\n",
       "      <td>2013-11-27 20:16:23+01:00</td>\n",
       "      <td>POLYGON ((-58.15977 -20.16465, -58.13779 -20.2...</td>\n",
       "    </tr>\n",
       "    <tr>\n",
       "      <th>10</th>\n",
       "      <td>Suriname</td>\n",
       "      <td>203</td>\n",
       "      <td>2013-11-27 20:16:22+01:00</td>\n",
       "      <td>2013-11-27 20:16:23+01:00</td>\n",
       "      <td>POLYGON ((-54.15596 5.35898, -54.24019 5.28823...</td>\n",
       "    </tr>\n",
       "    <tr>\n",
       "      <th>11</th>\n",
       "      <td>Uruguay</td>\n",
       "      <td>226</td>\n",
       "      <td>2013-11-27 20:16:22+01:00</td>\n",
       "      <td>2013-11-27 20:16:23+01:00</td>\n",
       "      <td>POLYGON ((-53.3706 -33.74219, -53.41958 -33.77...</td>\n",
       "    </tr>\n",
       "    <tr>\n",
       "      <th>12</th>\n",
       "      <td>Venezuela</td>\n",
       "      <td>231</td>\n",
       "      <td>2013-11-27 20:16:22+01:00</td>\n",
       "      <td>2013-11-27 20:16:23+01:00</td>\n",
       "      <td>MULTIPOLYGON (((-60.9979 8.86733, -61.05996 8....</td>\n",
       "    </tr>\n",
       "    <tr>\n",
       "      <th>13</th>\n",
       "      <td>Falkland Islands (U.K.)</td>\n",
       "      <td>72</td>\n",
       "      <td>2013-11-27 20:16:22+01:00</td>\n",
       "      <td>2013-11-27 20:40:04+01:00</td>\n",
       "      <td>MULTIPOLYGON (((-59.68267 -52.23164, -59.74658...</td>\n",
       "    </tr>\n",
       "  </tbody>\n",
       "</table>\n",
       "</div>"
      ],
      "text/plain": [
       "                       name  cartodb_id                created_at  \\\n",
       "0    French Guiana (France)           1 2013-11-28 06:32:17+01:00   \n",
       "1                    Brazil          33 2013-11-27 20:16:22+01:00   \n",
       "2                     Chile          41 2013-11-27 20:16:22+01:00   \n",
       "3                 Argentina           9 2013-11-27 20:16:22+01:00   \n",
       "4                   Bolivia          32 2013-11-27 20:16:22+01:00   \n",
       "5                  Colombia          48 2013-11-27 20:16:22+01:00   \n",
       "6                   Ecuador          64 2013-11-27 20:16:22+01:00   \n",
       "7                    Guyana          90 2013-11-27 20:16:22+01:00   \n",
       "8                      Peru         171 2013-11-27 20:16:22+01:00   \n",
       "9                  Paraguay         179 2013-11-27 20:16:22+01:00   \n",
       "10                 Suriname         203 2013-11-27 20:16:22+01:00   \n",
       "11                  Uruguay         226 2013-11-27 20:16:22+01:00   \n",
       "12                Venezuela         231 2013-11-27 20:16:22+01:00   \n",
       "13  Falkland Islands (U.K.)          72 2013-11-27 20:16:22+01:00   \n",
       "\n",
       "                  updated_at  \\\n",
       "0  2013-11-28 06:33:02+01:00   \n",
       "1  2013-11-27 20:16:23+01:00   \n",
       "2  2013-11-27 20:16:23+01:00   \n",
       "3  2013-11-27 20:16:23+01:00   \n",
       "4  2013-11-27 20:16:23+01:00   \n",
       "5  2013-11-27 20:16:23+01:00   \n",
       "6  2013-11-27 20:16:23+01:00   \n",
       "7  2013-11-27 20:16:23+01:00   \n",
       "8  2013-11-27 20:16:23+01:00   \n",
       "9  2013-11-27 20:16:23+01:00   \n",
       "10 2013-11-27 20:16:23+01:00   \n",
       "11 2013-11-27 20:16:23+01:00   \n",
       "12 2013-11-27 20:16:23+01:00   \n",
       "13 2013-11-27 20:40:04+01:00   \n",
       "\n",
       "                                             geometry  \n",
       "0   POLYGON ((-52.28892 4.87612, -52.32461 4.7709,...  \n",
       "1   MULTIPOLYGON (((-48.48589 -27.76699, -48.55459...  \n",
       "2   MULTIPOLYGON (((-67.5752 -55.88965, -67.61143 ...  \n",
       "3   MULTIPOLYGON (((-64.54917 -54.71621, -64.43882...  \n",
       "4   POLYGON ((-58.15977 -20.16465, -58.13994 -19.9...  \n",
       "5   MULTIPOLYGON (((-78.11372 2.54175, -78.14082 2...  \n",
       "6   MULTIPOLYGON (((-80.13159 -2.97314, -80.15068 ...  \n",
       "7   POLYGON ((-57.19478 5.54844, -57.2479 5.48525,...  \n",
       "8   POLYGON ((-69.96592 -4.23594, -69.97202 -4.301...  \n",
       "9   POLYGON ((-58.15977 -20.16465, -58.13779 -20.2...  \n",
       "10  POLYGON ((-54.15596 5.35898, -54.24019 5.28823...  \n",
       "11  POLYGON ((-53.3706 -33.74219, -53.41958 -33.77...  \n",
       "12  MULTIPOLYGON (((-60.9979 8.86733, -61.05996 8....  \n",
       "13  MULTIPOLYGON (((-59.68267 -52.23164, -59.74658...  "
      ]
     },
     "execution_count": 9,
     "metadata": {},
     "output_type": "execute_result"
    }
   ],
   "source": [
    "# Load the dataset\n",
    "file_path = \"south-america_652.geojson\"\n",
    "southamerica = gpd.read_file(file_path)\n",
    "# Looking at dataset\n",
    "southamerica"
   ]
  },
  {
   "cell_type": "code",
   "execution_count": 10,
   "id": "ef1c2afb-b67b-4391-b0a4-197fa4db109a",
   "metadata": {},
   "outputs": [
    {
     "data": {
      "text/plain": [
       "<Axes: >"
      ]
     },
     "execution_count": 10,
     "metadata": {},
     "output_type": "execute_result"
    },
    {
     "data": {
      "image/png": "[encoded data removed]",
      "text/plain": [
       "<Figure size 640x480 with 1 Axes>"
      ]
     },
     "metadata": {},
     "output_type": "display_data"
    }
   ],
   "source": [
    "#Plotting Dataset\n",
    "southamerica.plot()"
   ]
  },
  {
   "cell_type": "code",
   "execution_count": 11,
   "id": "6102909c-0ed8-4f97-9054-c26b35183f78",
   "metadata": {},
   "outputs": [
    {
     "name": "stdout",
     "output_type": "stream",
     "text": [
      "   Country  cartodb_id                created_at                updated_at  \\\n",
      "1   Brazil          33 2013-11-27 20:16:22+01:00 2013-11-27 20:16:23+01:00   \n",
      "4  Bolivia          32 2013-11-27 20:16:22+01:00 2013-11-27 20:16:23+01:00   \n",
      "6  Ecuador          64 2013-11-27 20:16:22+01:00 2013-11-27 20:16:23+01:00   \n",
      "8     Peru         171 2013-11-27 20:16:22+01:00 2013-11-27 20:16:23+01:00   \n",
      "\n",
      "                                            geometry  \n",
      "1  MULTIPOLYGON (((-48.48589 -27.76699, -48.55459...  \n",
      "4  POLYGON ((-58.15977 -20.16465, -58.13994 -19.9...  \n",
      "6  MULTIPOLYGON (((-80.13159 -2.97314, -80.15068 ...  \n",
      "8  POLYGON ((-69.96592 -4.23594, -69.97202 -4.301...  \n"
     ]
    }
   ],
   "source": [
    "#Filtering Dataset\n",
    "df = southamerica\n",
    "filtered_df = df[df['name'].isin([\"Brazil\", \"Peru\", \"Ecuador\", \"Bolivia\"])]\n",
    "filtered_df = filtered_df.rename(columns={\"name\": \"Country\"})\n",
    "print(filtered_df)"
   ]
  },
  {
   "cell_type": "code",
   "execution_count": 12,
   "id": "317c3284-a7a7-4c44-9cf2-078829ae31f9",
   "metadata": {},
   "outputs": [
    {
     "name": "stdout",
     "output_type": "stream",
     "text": [
      "Files in dataset: ['world-data-2023.csv']\n"
     ]
    },
    {
     "data": {
      "text/html": [
       "<div>\n",
       "<style scoped>\n",
       "    .dataframe tbody tr th:only-of-type {\n",
       "        vertical-align: middle;\n",
       "    }\n",
       "\n",
       "    .dataframe tbody tr th {\n",
       "        vertical-align: top;\n",
       "    }\n",
       "\n",
       "    .dataframe thead th {\n",
       "        text-align: right;\n",
       "    }\n",
       "</style>\n",
       "<table border=\"1\" class=\"dataframe\">\n",
       "  <thead>\n",
       "    <tr style=\"text-align: right;\">\n",
       "      <th></th>\n",
       "      <th>Country</th>\n",
       "      <th>Density\\n(P/Km2)</th>\n",
       "      <th>Abbreviation</th>\n",
       "      <th>Agricultural Land( %)</th>\n",
       "      <th>Land Area(Km2)</th>\n",
       "      <th>Armed Forces size</th>\n",
       "      <th>Birth Rate</th>\n",
       "      <th>Calling Code</th>\n",
       "      <th>Capital/Major City</th>\n",
       "      <th>Co2-Emissions</th>\n",
       "      <th>...</th>\n",
       "      <th>Out of pocket health expenditure</th>\n",
       "      <th>Physicians per thousand</th>\n",
       "      <th>Population</th>\n",
       "      <th>Population: Labor force participation (%)</th>\n",
       "      <th>Tax revenue (%)</th>\n",
       "      <th>Total tax rate</th>\n",
       "      <th>Unemployment rate</th>\n",
       "      <th>Urban_population</th>\n",
       "      <th>Latitude</th>\n",
       "      <th>Longitude</th>\n",
       "    </tr>\n",
       "  </thead>\n",
       "  <tbody>\n",
       "    <tr>\n",
       "      <th>0</th>\n",
       "      <td>Afghanistan</td>\n",
       "      <td>60</td>\n",
       "      <td>AF</td>\n",
       "      <td>58.10%</td>\n",
       "      <td>652,230</td>\n",
       "      <td>323,000</td>\n",
       "      <td>32.49</td>\n",
       "      <td>93.0</td>\n",
       "      <td>Kabul</td>\n",
       "      <td>8,672</td>\n",
       "      <td>...</td>\n",
       "      <td>78.40%</td>\n",
       "      <td>0.28</td>\n",
       "      <td>38,041,754</td>\n",
       "      <td>48.90%</td>\n",
       "      <td>9.30%</td>\n",
       "      <td>71.40%</td>\n",
       "      <td>11.12%</td>\n",
       "      <td>9,797,273</td>\n",
       "      <td>33.939110</td>\n",
       "      <td>67.709953</td>\n",
       "    </tr>\n",
       "    <tr>\n",
       "      <th>1</th>\n",
       "      <td>Albania</td>\n",
       "      <td>105</td>\n",
       "      <td>AL</td>\n",
       "      <td>43.10%</td>\n",
       "      <td>28,748</td>\n",
       "      <td>9,000</td>\n",
       "      <td>11.78</td>\n",
       "      <td>355.0</td>\n",
       "      <td>Tirana</td>\n",
       "      <td>4,536</td>\n",
       "      <td>...</td>\n",
       "      <td>56.90%</td>\n",
       "      <td>1.20</td>\n",
       "      <td>2,854,191</td>\n",
       "      <td>55.70%</td>\n",
       "      <td>18.60%</td>\n",
       "      <td>36.60%</td>\n",
       "      <td>12.33%</td>\n",
       "      <td>1,747,593</td>\n",
       "      <td>41.153332</td>\n",
       "      <td>20.168331</td>\n",
       "    </tr>\n",
       "    <tr>\n",
       "      <th>2</th>\n",
       "      <td>Algeria</td>\n",
       "      <td>18</td>\n",
       "      <td>DZ</td>\n",
       "      <td>17.40%</td>\n",
       "      <td>2,381,741</td>\n",
       "      <td>317,000</td>\n",
       "      <td>24.28</td>\n",
       "      <td>213.0</td>\n",
       "      <td>Algiers</td>\n",
       "      <td>150,006</td>\n",
       "      <td>...</td>\n",
       "      <td>28.10%</td>\n",
       "      <td>1.72</td>\n",
       "      <td>43,053,054</td>\n",
       "      <td>41.20%</td>\n",
       "      <td>37.20%</td>\n",
       "      <td>66.10%</td>\n",
       "      <td>11.70%</td>\n",
       "      <td>31,510,100</td>\n",
       "      <td>28.033886</td>\n",
       "      <td>1.659626</td>\n",
       "    </tr>\n",
       "    <tr>\n",
       "      <th>3</th>\n",
       "      <td>Andorra</td>\n",
       "      <td>164</td>\n",
       "      <td>AD</td>\n",
       "      <td>40.00%</td>\n",
       "      <td>468</td>\n",
       "      <td>NaN</td>\n",
       "      <td>7.20</td>\n",
       "      <td>376.0</td>\n",
       "      <td>Andorra la Vella</td>\n",
       "      <td>469</td>\n",
       "      <td>...</td>\n",
       "      <td>36.40%</td>\n",
       "      <td>3.33</td>\n",
       "      <td>77,142</td>\n",
       "      <td>NaN</td>\n",
       "      <td>NaN</td>\n",
       "      <td>NaN</td>\n",
       "      <td>NaN</td>\n",
       "      <td>67,873</td>\n",
       "      <td>42.506285</td>\n",
       "      <td>1.521801</td>\n",
       "    </tr>\n",
       "    <tr>\n",
       "      <th>4</th>\n",
       "      <td>Angola</td>\n",
       "      <td>26</td>\n",
       "      <td>AO</td>\n",
       "      <td>47.50%</td>\n",
       "      <td>1,246,700</td>\n",
       "      <td>117,000</td>\n",
       "      <td>40.73</td>\n",
       "      <td>244.0</td>\n",
       "      <td>Luanda</td>\n",
       "      <td>34,693</td>\n",
       "      <td>...</td>\n",
       "      <td>33.40%</td>\n",
       "      <td>0.21</td>\n",
       "      <td>31,825,295</td>\n",
       "      <td>77.50%</td>\n",
       "      <td>9.20%</td>\n",
       "      <td>49.10%</td>\n",
       "      <td>6.89%</td>\n",
       "      <td>21,061,025</td>\n",
       "      <td>-11.202692</td>\n",
       "      <td>17.873887</td>\n",
       "    </tr>\n",
       "    <tr>\n",
       "      <th>...</th>\n",
       "      <td>...</td>\n",
       "      <td>...</td>\n",
       "      <td>...</td>\n",
       "      <td>...</td>\n",
       "      <td>...</td>\n",
       "      <td>...</td>\n",
       "      <td>...</td>\n",
       "      <td>...</td>\n",
       "      <td>...</td>\n",
       "      <td>...</td>\n",
       "      <td>...</td>\n",
       "      <td>...</td>\n",
       "      <td>...</td>\n",
       "      <td>...</td>\n",
       "      <td>...</td>\n",
       "      <td>...</td>\n",
       "      <td>...</td>\n",
       "      <td>...</td>\n",
       "      <td>...</td>\n",
       "      <td>...</td>\n",
       "      <td>...</td>\n",
       "    </tr>\n",
       "    <tr>\n",
       "      <th>190</th>\n",
       "      <td>Venezuela</td>\n",
       "      <td>32</td>\n",
       "      <td>VE</td>\n",
       "      <td>24.50%</td>\n",
       "      <td>912,050</td>\n",
       "      <td>343,000</td>\n",
       "      <td>17.88</td>\n",
       "      <td>58.0</td>\n",
       "      <td>Caracas</td>\n",
       "      <td>164,175</td>\n",
       "      <td>...</td>\n",
       "      <td>45.80%</td>\n",
       "      <td>1.92</td>\n",
       "      <td>28,515,829</td>\n",
       "      <td>59.70%</td>\n",
       "      <td>NaN</td>\n",
       "      <td>73.30%</td>\n",
       "      <td>8.80%</td>\n",
       "      <td>25,162,368</td>\n",
       "      <td>6.423750</td>\n",
       "      <td>-66.589730</td>\n",
       "    </tr>\n",
       "    <tr>\n",
       "      <th>191</th>\n",
       "      <td>Vietnam</td>\n",
       "      <td>314</td>\n",
       "      <td>VN</td>\n",
       "      <td>39.30%</td>\n",
       "      <td>331,210</td>\n",
       "      <td>522,000</td>\n",
       "      <td>16.75</td>\n",
       "      <td>84.0</td>\n",
       "      <td>Hanoi</td>\n",
       "      <td>192,668</td>\n",
       "      <td>...</td>\n",
       "      <td>43.50%</td>\n",
       "      <td>0.82</td>\n",
       "      <td>96,462,106</td>\n",
       "      <td>77.40%</td>\n",
       "      <td>19.10%</td>\n",
       "      <td>37.60%</td>\n",
       "      <td>2.01%</td>\n",
       "      <td>35,332,140</td>\n",
       "      <td>14.058324</td>\n",
       "      <td>108.277199</td>\n",
       "    </tr>\n",
       "    <tr>\n",
       "      <th>192</th>\n",
       "      <td>Yemen</td>\n",
       "      <td>56</td>\n",
       "      <td>YE</td>\n",
       "      <td>44.60%</td>\n",
       "      <td>527,968</td>\n",
       "      <td>40,000</td>\n",
       "      <td>30.45</td>\n",
       "      <td>967.0</td>\n",
       "      <td>Sanaa</td>\n",
       "      <td>10,609</td>\n",
       "      <td>...</td>\n",
       "      <td>81.00%</td>\n",
       "      <td>0.31</td>\n",
       "      <td>29,161,922</td>\n",
       "      <td>38.00%</td>\n",
       "      <td>NaN</td>\n",
       "      <td>26.60%</td>\n",
       "      <td>12.91%</td>\n",
       "      <td>10,869,523</td>\n",
       "      <td>15.552727</td>\n",
       "      <td>48.516388</td>\n",
       "    </tr>\n",
       "    <tr>\n",
       "      <th>193</th>\n",
       "      <td>Zambia</td>\n",
       "      <td>25</td>\n",
       "      <td>ZM</td>\n",
       "      <td>32.10%</td>\n",
       "      <td>752,618</td>\n",
       "      <td>16,000</td>\n",
       "      <td>36.19</td>\n",
       "      <td>260.0</td>\n",
       "      <td>Lusaka</td>\n",
       "      <td>5,141</td>\n",
       "      <td>...</td>\n",
       "      <td>27.50%</td>\n",
       "      <td>1.19</td>\n",
       "      <td>17,861,030</td>\n",
       "      <td>74.60%</td>\n",
       "      <td>16.20%</td>\n",
       "      <td>15.60%</td>\n",
       "      <td>11.43%</td>\n",
       "      <td>7,871,713</td>\n",
       "      <td>-13.133897</td>\n",
       "      <td>27.849332</td>\n",
       "    </tr>\n",
       "    <tr>\n",
       "      <th>194</th>\n",
       "      <td>Zimbabwe</td>\n",
       "      <td>38</td>\n",
       "      <td>ZW</td>\n",
       "      <td>41.90%</td>\n",
       "      <td>390,757</td>\n",
       "      <td>51,000</td>\n",
       "      <td>30.68</td>\n",
       "      <td>263.0</td>\n",
       "      <td>Harare</td>\n",
       "      <td>10,983</td>\n",
       "      <td>...</td>\n",
       "      <td>25.80%</td>\n",
       "      <td>0.21</td>\n",
       "      <td>14,645,468</td>\n",
       "      <td>83.10%</td>\n",
       "      <td>20.70%</td>\n",
       "      <td>31.60%</td>\n",
       "      <td>4.95%</td>\n",
       "      <td>4,717,305</td>\n",
       "      <td>-19.015438</td>\n",
       "      <td>29.154857</td>\n",
       "    </tr>\n",
       "  </tbody>\n",
       "</table>\n",
       "<p>195 rows × 35 columns</p>\n",
       "</div>"
      ],
      "text/plain": [
       "         Country Density\\n(P/Km2) Abbreviation Agricultural Land( %)  \\\n",
       "0    Afghanistan               60           AF                58.10%   \n",
       "1        Albania              105           AL                43.10%   \n",
       "2        Algeria               18           DZ                17.40%   \n",
       "3        Andorra              164           AD                40.00%   \n",
       "4         Angola               26           AO                47.50%   \n",
       "..           ...              ...          ...                   ...   \n",
       "190    Venezuela               32           VE                24.50%   \n",
       "191      Vietnam              314           VN                39.30%   \n",
       "192        Yemen               56           YE                44.60%   \n",
       "193       Zambia               25           ZM                32.10%   \n",
       "194     Zimbabwe               38           ZW                41.90%   \n",
       "\n",
       "    Land Area(Km2) Armed Forces size  Birth Rate  Calling Code  \\\n",
       "0          652,230           323,000       32.49          93.0   \n",
       "1           28,748             9,000       11.78         355.0   \n",
       "2        2,381,741           317,000       24.28         213.0   \n",
       "3              468               NaN        7.20         376.0   \n",
       "4        1,246,700           117,000       40.73         244.0   \n",
       "..             ...               ...         ...           ...   \n",
       "190        912,050           343,000       17.88          58.0   \n",
       "191        331,210           522,000       16.75          84.0   \n",
       "192        527,968            40,000       30.45         967.0   \n",
       "193        752,618            16,000       36.19         260.0   \n",
       "194        390,757            51,000       30.68         263.0   \n",
       "\n",
       "    Capital/Major City Co2-Emissions  ... Out of pocket health expenditure  \\\n",
       "0                Kabul         8,672  ...                           78.40%   \n",
       "1               Tirana         4,536  ...                           56.90%   \n",
       "2              Algiers       150,006  ...                           28.10%   \n",
       "3     Andorra la Vella           469  ...                           36.40%   \n",
       "4               Luanda        34,693  ...                           33.40%   \n",
       "..                 ...           ...  ...                              ...   \n",
       "190            Caracas       164,175  ...                           45.80%   \n",
       "191              Hanoi       192,668  ...                           43.50%   \n",
       "192              Sanaa        10,609  ...                           81.00%   \n",
       "193             Lusaka         5,141  ...                           27.50%   \n",
       "194             Harare        10,983  ...                           25.80%   \n",
       "\n",
       "    Physicians per thousand  Population  \\\n",
       "0                      0.28  38,041,754   \n",
       "1                      1.20   2,854,191   \n",
       "2                      1.72  43,053,054   \n",
       "3                      3.33      77,142   \n",
       "4                      0.21  31,825,295   \n",
       "..                      ...         ...   \n",
       "190                    1.92  28,515,829   \n",
       "191                    0.82  96,462,106   \n",
       "192                    0.31  29,161,922   \n",
       "193                    1.19  17,861,030   \n",
       "194                    0.21  14,645,468   \n",
       "\n",
       "     Population: Labor force participation (%) Tax revenue (%) Total tax rate  \\\n",
       "0                                       48.90%           9.30%         71.40%   \n",
       "1                                       55.70%          18.60%         36.60%   \n",
       "2                                       41.20%          37.20%         66.10%   \n",
       "3                                          NaN             NaN            NaN   \n",
       "4                                       77.50%           9.20%         49.10%   \n",
       "..                                         ...             ...            ...   \n",
       "190                                     59.70%             NaN         73.30%   \n",
       "191                                     77.40%          19.10%         37.60%   \n",
       "192                                     38.00%             NaN         26.60%   \n",
       "193                                     74.60%          16.20%         15.60%   \n",
       "194                                     83.10%          20.70%         31.60%   \n",
       "\n",
       "    Unemployment rate Urban_population   Latitude   Longitude  \n",
       "0              11.12%        9,797,273  33.939110   67.709953  \n",
       "1              12.33%        1,747,593  41.153332   20.168331  \n",
       "2              11.70%       31,510,100  28.033886    1.659626  \n",
       "3                 NaN           67,873  42.506285    1.521801  \n",
       "4               6.89%       21,061,025 -11.202692   17.873887  \n",
       "..                ...              ...        ...         ...  \n",
       "190             8.80%       25,162,368   6.423750  -66.589730  \n",
       "191             2.01%       35,332,140  14.058324  108.277199  \n",
       "192            12.91%       10,869,523  15.552727   48.516388  \n",
       "193            11.43%        7,871,713 -13.133897   27.849332  \n",
       "194             4.95%        4,717,305 -19.015438   29.154857  \n",
       "\n",
       "[195 rows x 35 columns]"
      ]
     },
     "execution_count": 12,
     "metadata": {},
     "output_type": "execute_result"
    }
   ],
   "source": [
    "#Loading Dataset\n",
    "path = kagglehub.dataset_download(\"nelgiriyewithana/countries-of-the-world-2023\")\n",
    "\n",
    "files = os.listdir(path)\n",
    "print(\"Files in dataset:\", files)\n",
    "\n",
    "file_name = [f for f in files if f.endswith(\".csv\")][0]\n",
    "file_path = os.path.join(path, file_name)\n",
    "\n",
    "# Looking at dataset\n",
    "population = pd.read_csv(file_path)\n",
    "population"
   ]
  },
  {
   "cell_type": "code",
   "execution_count": 13,
   "id": "dea79165-6370-436c-8101-417d4000eaf7",
   "metadata": {},
   "outputs": [
    {
     "data": {
      "text/plain": [
       "Text(0.5, 1.0, 'Density of Peru, Ecuador, Brazil, and Bolivia in 2023')"
      ]
     },
     "execution_count": 13,
     "metadata": {},
     "output_type": "execute_result"
    },
    {
     "data": {
      "image/png": "[encoded data removed]",
      "text/plain": [
       "<Figure size 640x480 with 1 Axes>"
      ]
     },
     "metadata": {},
     "output_type": "display_data"
    }
   ],
   "source": [
    "# Merging two datasets\n",
    "merged_df = filtered_df.merge(population, on = \"Country\")\n",
    "merged_df.plot(column = \"Density\\n(P/Km2)\", legend = \"true\")\n",
    "plt.title(\"Density of Peru, Ecuador, Brazil, and Bolivia in 2023\") "
   ]
  },
  {
   "cell_type": "code",
   "execution_count": 14,
   "id": "b11b3c10-9ebb-40c2-a518-73b9444a71d5",
   "metadata": {},
   "outputs": [
    {
     "data": {
      "text/html": [
       "<div>\n",
       "<style scoped>\n",
       "    .dataframe tbody tr th:only-of-type {\n",
       "        vertical-align: middle;\n",
       "    }\n",
       "\n",
       "    .dataframe tbody tr th {\n",
       "        vertical-align: top;\n",
       "    }\n",
       "\n",
       "    .dataframe thead th {\n",
       "        text-align: right;\n",
       "    }\n",
       "</style>\n",
       "<table border=\"1\" class=\"dataframe\">\n",
       "  <thead>\n",
       "    <tr style=\"text-align: right;\">\n",
       "      <th></th>\n",
       "      <th>Country</th>\n",
       "      <th>Country Code</th>\n",
       "      <th>Year</th>\n",
       "      <th>Value</th>\n",
       "      <th>Land Size (km²)</th>\n",
       "      <th>Density (P/Km^2)</th>\n",
       "    </tr>\n",
       "  </thead>\n",
       "  <tbody>\n",
       "    <tr>\n",
       "      <th>1792</th>\n",
       "      <td>Bolivia</td>\n",
       "      <td>BOL</td>\n",
       "      <td>1960</td>\n",
       "      <td>3702323.0</td>\n",
       "      <td>1098581</td>\n",
       "      <td>3.370096</td>\n",
       "    </tr>\n",
       "    <tr>\n",
       "      <th>1856</th>\n",
       "      <td>Brazil</td>\n",
       "      <td>BRA</td>\n",
       "      <td>1960</td>\n",
       "      <td>72388126.0</td>\n",
       "      <td>8514215</td>\n",
       "      <td>8.502032</td>\n",
       "    </tr>\n",
       "    <tr>\n",
       "      <th>4224</th>\n",
       "      <td>Ecuador</td>\n",
       "      <td>ECU</td>\n",
       "      <td>1960</td>\n",
       "      <td>4590891.0</td>\n",
       "      <td>283561</td>\n",
       "      <td>16.190135</td>\n",
       "    </tr>\n",
       "    <tr>\n",
       "      <th>11840</th>\n",
       "      <td>Peru</td>\n",
       "      <td>PER</td>\n",
       "      <td>1960</td>\n",
       "      <td>10174127.0</td>\n",
       "      <td>1285220</td>\n",
       "      <td>7.916253</td>\n",
       "    </tr>\n",
       "  </tbody>\n",
       "</table>\n",
       "</div>"
      ],
      "text/plain": [
       "       Country Country Code  Year       Value  Land Size (km²)  \\\n",
       "1792   Bolivia          BOL  1960   3702323.0          1098581   \n",
       "1856    Brazil          BRA  1960  72388126.0          8514215   \n",
       "4224   Ecuador          ECU  1960   4590891.0           283561   \n",
       "11840     Peru          PER  1960  10174127.0          1285220   \n",
       "\n",
       "       Density (P/Km^2)  \n",
       "1792           3.370096  \n",
       "1856           8.502032  \n",
       "4224          16.190135  \n",
       "11840          7.916253  "
      ]
     },
     "execution_count": 14,
     "metadata": {},
     "output_type": "execute_result"
    }
   ],
   "source": [
    "# Load the dataset\n",
    "file_path = \"population.csv\"\n",
    "southamericapast = pd.read_csv(file_path)\n",
    "\n",
    "# Renaming Column \n",
    "southamericapast = southamericapast.rename(columns={\"Country Name\": \"Country\"})\n",
    "\n",
    "# Filter for Peru, Bolivia, Brazil, and Ecuador for Year 1960\n",
    "filtered_southamerica1960 = southamericapast[\n",
    "    (southamericapast[\"Country\"].isin([\"Peru\", \"Bolivia\", \"Brazil\", \"Ecuador\"])) &\n",
    "    (southamericapast[\"Year\"] == 1960)]\n",
    "\n",
    "# Input Land Size for each country to find density\n",
    "filtered_southamerica1960[\"Land Size (km²)\"] = [1098581, 8514215, 283561, 1285220]\n",
    "\n",
    "#Create a new column for density by dividing population by land size\n",
    "filtered_southamerica1960[\"Density (P/Km^2)\"] = filtered_southamerica1960[\"Value\"] / filtered_southamerica1960[\"Land Size (km²)\"]\n",
    "filtered_southamerica1960"
   ]
  },
  {
   "cell_type": "code",
   "execution_count": 15,
   "id": "4db64d71-6f21-45af-8028-9d9d53b55dcf",
   "metadata": {},
   "outputs": [
    {
     "data": {
      "text/plain": [
       "Text(0.5, 1.0, 'Density of Peru, Ecuador, Brazil, and Bolivia in 2023')"
      ]
     },
     "execution_count": 15,
     "metadata": {},
     "output_type": "execute_result"
    },
    {
     "data": {
      "image/png": "[encoded data removed]",
      "text/plain": [
       "<Figure size 1200x600 with 3 Axes>"
      ]
     },
     "metadata": {},
     "output_type": "display_data"
    }
   ],
   "source": [
    "# Create graphs side by side\n",
    "fig, axes = plt.subplots(1, 2, figsize=(12, 6),constrained_layout=True)\n",
    "\n",
    "# Population Density in 1960\n",
    "merged_df_1960 = filtered_df.merge(filtered_southamerica1960, on=\"Country\")\n",
    "merged_df_1960.plot(column=\"Density (P/Km^2)\",legend=True, ax=axes[0])\n",
    "axes[0].set_title(\"Density of Peru, Ecuador, Brazil, and Bolivia in 1960\")\n",
    "\n",
    "# Population Density in 2023\n",
    "merged_df = filtered_df.merge(population, on=\"Country\")\n",
    "merged_df.plot(column=\"Density\\n(P/Km2)\",legend=True,ax=axes[1])\n",
    "axes[1].set_title(\"Density of Peru, Ecuador, Brazil, and Bolivia in 2023\")"
   ]
  },
  {
   "cell_type": "code",
   "execution_count": 16,
   "id": "565c4117-02ba-45cc-b90d-4f543a22c227",
   "metadata": {},
   "outputs": [],
   "source": [
    "filtered_southamerica_Peru = southamericapast[southamericapast[\"Country\"] == \"Peru\"]\n",
    "filtered_southamerica_Brazil = southamericapast[southamericapast[\"Country\"] == \"Brazil\"]\n",
    "filtered_southamerica_Ecuador = southamericapast[southamericapast[\"Country\"] == \"Ecuador\"]\n",
    "filtered_southamerica_Bolivia = southamericapast[southamericapast[\"Country\"] == \"Bolivia\"]"
   ]
  },
  {
   "cell_type": "code",
   "execution_count": 17,
   "id": "34eda644-5f36-4dfa-b047-bacb36378ced",
   "metadata": {},
   "outputs": [
    {
     "data": {
      "image/png": "[encoded data removed]",
      "text/plain": [
       "<Figure size 640x480 with 1 Axes>"
      ]
     },
     "metadata": {},
     "output_type": "display_data"
    }
   ],
   "source": [
    "filtered_southamerica_Peru.plot(x='Year', y='Value', kind='line', marker='o', linestyle='-')\n",
    "\n",
    "plt.xlabel('Year')\n",
    "plt.ylabel('Population')\n",
    "plt.title('Population Over Time for Peru')\n",
    "plt.grid(True)\n",
    "\n",
    "plt.show()"
   ]
  },
  {
   "cell_type": "code",
   "execution_count": 18,
   "id": "4955e4f6-d926-4687-ad43-1c8b742f428c",
   "metadata": {},
   "outputs": [
    {
     "data": {
      "image/png": "[encoded data removed]",
      "text/plain": [
       "<Figure size 640x480 with 1 Axes>"
      ]
     },
     "metadata": {},
     "output_type": "display_data"
    }
   ],
   "source": [
    "filtered_southamerica_Brazil.plot(x='Year', y='Value', kind='line', marker='o', linestyle='-')\n",
    "\n",
    "plt.xlabel('Year')\n",
    "plt.ylabel('Population')\n",
    "plt.title('Population Over Time for Brazil')\n",
    "plt.grid(True)\n",
    "\n",
    "plt.show()"
   ]
  },
  {
   "cell_type": "code",
   "execution_count": 19,
   "id": "20ff89a6-8e9b-49dc-ab8e-bb9d3bfa6552",
   "metadata": {},
   "outputs": [
    {
     "data": {
      "image/png": "[encoded data removed]",
      "text/plain": [
       "<Figure size 640x480 with 1 Axes>"
      ]
     },
     "metadata": {},
     "output_type": "display_data"
    }
   ],
   "source": [
    "filtered_southamerica_Bolivia.plot(x='Year', y='Value', kind='line', marker='o', linestyle='-')\n",
    "\n",
    "plt.xlabel('Year')\n",
    "plt.ylabel('Population')\n",
    "plt.title('Population Over Time for Bolivia')\n",
    "plt.grid(True)\n",
    "\n",
    "plt.show()"
   ]
  },
  {
   "cell_type": "code",
   "execution_count": 20,
   "id": "268ea39c-631b-4521-9c0f-c732cf96fb54",
   "metadata": {},
   "outputs": [
    {
     "data": {
      "image/png": "[encoded data removed]",
      "text/plain": [
       "<Figure size 640x480 with 1 Axes>"
      ]
     },
     "metadata": {},
     "output_type": "display_data"
    }
   ],
   "source": [
    "filtered_southamerica_Ecuador.plot(x='Year', y='Value', kind='line', marker='o', linestyle='-')\n",
    "\n",
    "plt.xlabel('Year')\n",
    "plt.ylabel('Population')\n",
    "plt.title('Population Over Time for Ecuador')\n",
    "plt.grid(True)\n",
    "\n",
    "plt.show()"
   ]
  },
  {
   "cell_type": "code",
   "execution_count": 21,
   "id": "c8ebd30f-840c-4462-8fc0-14d048e5fab9",
   "metadata": {},
   "outputs": [
    {
     "data": {
      "text/html": [
       "<div>\n",
       "<style scoped>\n",
       "    .dataframe tbody tr th:only-of-type {\n",
       "        vertical-align: middle;\n",
       "    }\n",
       "\n",
       "    .dataframe tbody tr th {\n",
       "        vertical-align: top;\n",
       "    }\n",
       "\n",
       "    .dataframe thead th {\n",
       "        text-align: right;\n",
       "    }\n",
       "</style>\n",
       "<table border=\"1\" class=\"dataframe\">\n",
       "  <thead>\n",
       "    <tr style=\"text-align: right;\">\n",
       "      <th></th>\n",
       "      <th>World Population</th>\n",
       "    </tr>\n",
       "    <tr>\n",
       "      <th>date</th>\n",
       "      <th></th>\n",
       "    </tr>\n",
       "  </thead>\n",
       "  <tbody>\n",
       "    <tr>\n",
       "      <th>2023-01-01</th>\n",
       "      <td>8.061876e+09</td>\n",
       "    </tr>\n",
       "    <tr>\n",
       "      <th>2022-01-01</th>\n",
       "      <td>7.989982e+09</td>\n",
       "    </tr>\n",
       "    <tr>\n",
       "      <th>2021-01-01</th>\n",
       "      <td>7.921184e+09</td>\n",
       "    </tr>\n",
       "    <tr>\n",
       "      <th>2020-01-01</th>\n",
       "      <td>7.856139e+09</td>\n",
       "    </tr>\n",
       "    <tr>\n",
       "      <th>2019-01-01</th>\n",
       "      <td>7.776892e+09</td>\n",
       "    </tr>\n",
       "  </tbody>\n",
       "</table>\n",
       "</div>"
      ],
      "text/plain": [
       "            World Population\n",
       "date                        \n",
       "2023-01-01      8.061876e+09\n",
       "2022-01-01      7.989982e+09\n",
       "2021-01-01      7.921184e+09\n",
       "2020-01-01      7.856139e+09\n",
       "2019-01-01      7.776892e+09"
      ]
     },
     "execution_count": 21,
     "metadata": {},
     "output_type": "execute_result"
    }
   ],
   "source": [
    "variable_labels = {\"SP.POP.TOTL\":\"World Population\"}\n",
    "\n",
    "world = wbdata.get_dataframe(variable_labels, country=\"WLD\",parse_dates=True)\n",
    "\n",
    "# Print a few years' data\n",
    "world.head()"
   ]
  },
  {
   "cell_type": "code",
   "execution_count": 22,
   "id": "2dcac9cc-9a9a-4189-af7d-2d46e64ece4b",
   "metadata": {},
   "outputs": [
    {
     "ename": "SyntaxError",
     "evalue": "invalid syntax (1679483479.py, line 1)",
     "output_type": "error",
     "traceback": [
      "\u001b[0;36m  Cell \u001b[0;32mIn[22], line 1\u001b[0;36m\u001b[0m\n\u001b[0;31m    SP.RUR.TOTL        Rural population\u001b[0m\n\u001b[0m                       ^\u001b[0m\n\u001b[0;31mSyntaxError\u001b[0m\u001b[0;31m:\u001b[0m invalid syntax\n"
     ]
    }
   ],
   "source": [
    "SP.RUR.TOTL        Rural population\n",
    "SP.RUR.TOTL.ZG     Rural population growth (annual %)\n",
    "SP.RUR.TOTL.ZS     Rural population (% of total population)\n",
    "SP.URB.GROW        Urban population growth (annual %)\n",
    "SP.URB.TOTL        Urban population\n",
    "SP.URB.TOTL.IN.ZS  Urban population (% of total population)"
   ]
  },
  {
   "cell_type": "code",
   "execution_count": 23,
   "id": "89e94fc9-640e-48ee-8a6c-48d96d6dcbac",
   "metadata": {},
   "outputs": [
    {
     "data": {
      "text/html": [
       "<div>\n",
       "<style scoped>\n",
       "    .dataframe tbody tr th:only-of-type {\n",
       "        vertical-align: middle;\n",
       "    }\n",
       "\n",
       "    .dataframe tbody tr th {\n",
       "        vertical-align: top;\n",
       "    }\n",
       "\n",
       "    .dataframe thead th {\n",
       "        text-align: right;\n",
       "    }\n",
       "</style>\n",
       "<table border=\"1\" class=\"dataframe\">\n",
       "  <thead>\n",
       "    <tr style=\"text-align: right;\">\n",
       "      <th></th>\n",
       "      <th>Rural Population</th>\n",
       "    </tr>\n",
       "    <tr>\n",
       "      <th>date</th>\n",
       "      <th></th>\n",
       "    </tr>\n",
       "  </thead>\n",
       "  <tbody>\n",
       "    <tr>\n",
       "      <th>2023-01-01</th>\n",
       "      <td>25784506.0</td>\n",
       "    </tr>\n",
       "    <tr>\n",
       "      <th>2022-01-01</th>\n",
       "      <td>26172633.0</td>\n",
       "    </tr>\n",
       "    <tr>\n",
       "      <th>2021-01-01</th>\n",
       "      <td>26577264.0</td>\n",
       "    </tr>\n",
       "    <tr>\n",
       "      <th>2020-01-01</th>\n",
       "      <td>26973587.0</td>\n",
       "    </tr>\n",
       "    <tr>\n",
       "      <th>2019-01-01</th>\n",
       "      <td>27334331.0</td>\n",
       "    </tr>\n",
       "    <tr>\n",
       "      <th>...</th>\n",
       "      <td>...</td>\n",
       "    </tr>\n",
       "    <tr>\n",
       "      <th>1964-01-01</th>\n",
       "      <td>40696219.0</td>\n",
       "    </tr>\n",
       "    <tr>\n",
       "      <th>1963-01-01</th>\n",
       "      <td>40312012.0</td>\n",
       "    </tr>\n",
       "    <tr>\n",
       "      <th>1962-01-01</th>\n",
       "      <td>39893871.0</td>\n",
       "    </tr>\n",
       "    <tr>\n",
       "      <th>1961-01-01</th>\n",
       "      <td>39449868.0</td>\n",
       "    </tr>\n",
       "    <tr>\n",
       "      <th>1960-01-01</th>\n",
       "      <td>38988969.0</td>\n",
       "    </tr>\n",
       "  </tbody>\n",
       "</table>\n",
       "<p>64 rows × 1 columns</p>\n",
       "</div>"
      ],
      "text/plain": [
       "            Rural Population\n",
       "date                        \n",
       "2023-01-01        25784506.0\n",
       "2022-01-01        26172633.0\n",
       "2021-01-01        26577264.0\n",
       "2020-01-01        26973587.0\n",
       "2019-01-01        27334331.0\n",
       "...                      ...\n",
       "1964-01-01        40696219.0\n",
       "1963-01-01        40312012.0\n",
       "1962-01-01        39893871.0\n",
       "1961-01-01        39449868.0\n",
       "1960-01-01        38988969.0\n",
       "\n",
       "[64 rows x 1 columns]"
      ]
     },
     "execution_count": 23,
     "metadata": {},
     "output_type": "execute_result"
    }
   ],
   "source": [
    "variable_labels = {\"SP.RUR.TOTL\":\"Rural Population\"}\n",
    "\n",
    "Brazil_rural_population = wbdata.get_dataframe(variable_labels, country=\"BRA\",parse_dates=True)\n",
    "\n",
    "# Print a few years' data\n",
    "Brazil_rural_population"
   ]
  },
  {
   "cell_type": "code",
   "execution_count": 24,
   "id": "9d63eed4-24fb-43b2-b1ba-fc7c12293817",
   "metadata": {},
   "outputs": [
    {
     "data": {
      "image/png": "[encoded data removed]",
      "text/plain": [
       "<Figure size 1000x600 with 1 Axes>"
      ]
     },
     "metadata": {},
     "output_type": "display_data"
    }
   ],
   "source": [
    "import matplotlib.pyplot as plt\n",
    "\n",
    "# Ensure Year column is numeric for all dataframes\n",
    "for df in [filtered_southamerica_Peru, filtered_southamerica_Brazil, \n",
    "           filtered_southamerica_Bolivia, filtered_southamerica_Ecuador]:\n",
    "    df['Year'] = pd.to_numeric(df['Year'], errors='coerce')  # Convert Year column to numeric, coerce errors\n",
    "    df.dropna(subset=['Year', 'Value'], inplace=True)  # Remove rows with NaN values\n",
    "\n",
    "# Plot each country's population on the same figure\n",
    "plt.figure(figsize=(10, 6))  # Set figure size\n",
    "\n",
    "# Define dataset dictionary for cleaner plotting\n",
    "datasets = {\n",
    "    \"Peru\": filtered_southamerica_Peru,\n",
    "    \"Brazil\": filtered_southamerica_Brazil,\n",
    "    \"Bolivia\": filtered_southamerica_Bolivia,\n",
    "    \"Ecuador\": filtered_southamerica_Ecuador\n",
    "}\n",
    "\n",
    "# Iterate over datasets and plot\n",
    "for country, df in datasets.items():\n",
    "    plt.plot(df['Year'], df['Value'], marker='o', linestyle='-', label=country)\n",
    "\n",
    "# Add labels, title, and grid\n",
    "plt.xlabel('Year')\n",
    "plt.ylabel('Population')\n",
    "plt.title('Population Over Time for Selected South American Countries')\n",
    "plt.grid(True)\n",
    "plt.legend()  # Show legend to differentiate countries\n",
    "\n",
    "# Display the plot\n",
    "plt.show()"
   ]
  },
  {
   "cell_type": "code",
   "execution_count": 32,
   "id": "7bf95d2a-aff7-4f1d-8950-9b2eca571e70",
   "metadata": {},
   "outputs": [
    {
     "data": {
      "application/vnd.plotly.v1+json": {
       "config": {
        "plotlyServerURL": "https://plot.ly"
       },
       "data": [
        {
         "hovertemplate": "variable=Food production<br>Time=%{x}<br>value=%{y}<extra></extra>",
         "legendgroup": "Food production",
         "line": {
          "color": "#636efa",
          "dash": "solid"
         },
         "marker": {
          "symbol": "circle"
         },
         "mode": "lines",
         "name": "Food production",
         "orientation": "v",
         "showlegend": true,
         "type": "scatter",
         "x": [
          0,
          27.018621557678152,
          54.037243115356304,
          81.05586467303445,
          108.07448623071261,
          135.09310778839077,
          162.1117293460689,
          189.13035090374706,
          216.14897246142522,
          243.16759401910338,
          270.18621557678154,
          297.2048371344597,
          324.2234586921378,
          351.24208024981596,
          378.2607018074941,
          405.2793233651723,
          432.29794492285043,
          459.3165664805286,
          486.33518803820675,
          513.3538095958849,
          540.3724311535631,
          567.3910527112412,
          594.4096742689194,
          621.4282958265975,
          648.4469173842756,
          675.4655389419538,
          702.4841604996319,
          729.5027820573101,
          756.5214036149882,
          783.5400251726664,
          810.5586467303445,
          837.5772682880228,
          864.5958898457009,
          891.614511403379,
          918.6331329610572,
          945.6517545187353,
          972.6703760764135,
          999.6889976340916,
          1026.7076191917697,
          1053.726240749448,
          1080.7448623071261,
          1107.7634838648041,
          1134.7821054224823,
          1161.8007269801606,
          1188.8193485378388,
          1215.8379700955168,
          1242.856591653195,
          1269.8752132108732,
          1296.8938347685512,
          1323.9124563262294,
          1350.9310778839076,
          1377.9496994415858,
          1404.9683209992638,
          1431.986942556942,
          1459.0055641146203,
          1486.0241856722985,
          1513.0428072299765,
          1540.0614287876547,
          1567.080050345333,
          1594.0986719030109,
          1621.117293460689,
          1648.1359150183673,
          1675.1545365760455,
          1702.1731581337235,
          1729.1917796914017,
          1756.21040124908,
          1783.229022806758,
          1810.2476443644362,
          1837.2662659221144,
          1864.2848874797926,
          1891.3035090374706,
          1918.3221305951488,
          1945.340752152827,
          1972.359373710505,
          1999.3779952681832,
          2026.3966168258614,
          2053.4152383835394,
          2080.4338599412176,
          2107.452481498896,
          2134.471103056574,
          2161.4897246142523,
          2188.5083461719305,
          2215.5269677296083,
          2242.5455892872865,
          2269.5642108449647,
          2296.582832402643,
          2323.601453960321,
          2350.6200755179993,
          2377.6386970756776,
          2404.6573186333553,
          2431.6759401910335,
          2458.6945617487117,
          2485.71318330639,
          2512.731804864068,
          2539.7504264217464,
          2566.7690479794246,
          2593.7876695371024,
          2620.8062910947806,
          2647.824912652459,
          2674.843534210137
         ],
         "xaxis": "x",
         "y": [
          10,
          2711.8621557678152,
          5413.7243115356305,
          8115.586467303445,
          10817.448623071261,
          13519.310778839077,
          16221.17293460689,
          18923.035090374706,
          21624.897246142522,
          24326.759401910338,
          27028.621557678154,
          29730.48371344597,
          32432.34586921378,
          35134.2080249816,
          37836.07018074941,
          40537.932336517224,
          43239.794492285044,
          45941.656648052856,
          48643.518803820676,
          51345.38095958849,
          54047.24311535631,
          56749.10527112412,
          59450.96742689194,
          62152.829582659746,
          64854.69173842756,
          67556.55389419539,
          70258.4160499632,
          72960.27820573101,
          75662.14036149882,
          78364.00251726665,
          81065.86467303445,
          83767.72682880228,
          86469.58898457009,
          89171.4511403379,
          91873.31329610571,
          94575.17545187353,
          97277.03760764135,
          99978.89976340916,
          102680.76191917698,
          105382.62407494479,
          108084.48623071262,
          110786.34838648041,
          113488.21054224824,
          116190.07269801605,
          118891.93485378388,
          121593.79700955168,
          124295.65916531949,
          126997.52132108732,
          129699.38347685512,
          132401.24563262294,
          135103.10778839077,
          137804.96994415857,
          140506.8320999264,
          143208.6942556942,
          145910.55641146202,
          148612.41856722985,
          151314.28072299765,
          154016.14287876547,
          156718.0050345333,
          159419.8671903011,
          162121.7293460689,
          164823.59150183672,
          167525.45365760455,
          170227.31581337235,
          172929.17796914018,
          175631.040124908,
          178332.9022806758,
          181034.76443644363,
          183736.62659221143,
          186438.48874797925,
          189140.35090374705,
          191842.21305951488,
          194544.0752152827,
          197245.9373710505,
          199947.79952681833,
          202649.66168258616,
          205351.52383835395,
          208053.38599412175,
          210755.24814988958,
          213457.1103056574,
          216158.97246142523,
          218860.83461719306,
          221562.69677296083,
          224264.55892872866,
          226966.42108449648,
          229668.28324026428,
          232370.1453960321,
          235072.00755179994,
          237773.86970756776,
          240475.73186333553,
          243177.59401910336,
          245879.4561748712,
          248581.31833063898,
          251283.1804864068,
          253985.04264217464,
          256686.90479794246,
          259388.76695371023,
          262090.62910947806,
          264792.4912652459,
          267494.3534210137
         ],
         "yaxis": "y"
        },
        {
         "hovertemplate": "variable=Brazil<br>Time=%{x}<br>value=%{y}<extra></extra>",
         "legendgroup": "Brazil",
         "line": {
          "color": "#EF553B",
          "dash": "solid"
         },
         "marker": {
          "symbol": "circle"
         },
         "mode": "lines",
         "name": "Brazil",
         "orientation": "v",
         "showlegend": true,
         "type": "scatter",
         "x": [
          0,
          27.018621557678152,
          54.037243115356304,
          81.05586467303445,
          108.07448623071261,
          135.09310778839077,
          162.1117293460689,
          189.13035090374706,
          216.14897246142522,
          243.16759401910338,
          270.18621557678154,
          297.2048371344597,
          324.2234586921378,
          351.24208024981596,
          378.2607018074941,
          405.2793233651723,
          432.29794492285043,
          459.3165664805286,
          486.33518803820675,
          513.3538095958849,
          540.3724311535631,
          567.3910527112412,
          594.4096742689194,
          621.4282958265975,
          648.4469173842756,
          675.4655389419538,
          702.4841604996319,
          729.5027820573101,
          756.5214036149882,
          783.5400251726664,
          810.5586467303445,
          837.5772682880228,
          864.5958898457009,
          891.614511403379,
          918.6331329610572,
          945.6517545187353,
          972.6703760764135,
          999.6889976340916,
          1026.7076191917697,
          1053.726240749448,
          1080.7448623071261,
          1107.7634838648041,
          1134.7821054224823,
          1161.8007269801606,
          1188.8193485378388,
          1215.8379700955168,
          1242.856591653195,
          1269.8752132108732,
          1296.8938347685512,
          1323.9124563262294,
          1350.9310778839076,
          1377.9496994415858,
          1404.9683209992638,
          1431.986942556942,
          1459.0055641146203,
          1486.0241856722985,
          1513.0428072299765,
          1540.0614287876547,
          1567.080050345333,
          1594.0986719030109,
          1621.117293460689,
          1648.1359150183673,
          1675.1545365760455,
          1702.1731581337235,
          1729.1917796914017,
          1756.21040124908,
          1783.229022806758,
          1810.2476443644362,
          1837.2662659221144,
          1864.2848874797926,
          1891.3035090374706,
          1918.3221305951488,
          1945.340752152827,
          1972.359373710505,
          1999.3779952681832,
          2026.3966168258614,
          2053.4152383835394,
          2080.4338599412176,
          2107.452481498896,
          2134.471103056574,
          2161.4897246142523,
          2188.5083461719305,
          2215.5269677296083,
          2242.5455892872865,
          2269.5642108449647,
          2296.582832402643,
          2323.601453960321,
          2350.6200755179993,
          2377.6386970756776,
          2404.6573186333553,
          2431.6759401910335,
          2458.6945617487117,
          2485.71318330639,
          2512.731804864068,
          2539.7504264217464,
          2566.7690479794246,
          2593.7876695371024,
          2620.8062910947806,
          2647.824912652459,
          2674.843534210137
         ],
         "xaxis": "x",
         "y": [
          1,
          1.1477402049102623,
          1.317307577967451,
          1.5119268694662036,
          1.735299254970472,
          1.9916727224804354,
          2.285922858613875,
          2.6236455701545416,
          3.0112635043010756,
          3.4561481914653114,
          3.966760233472629,
          4.552810203195756,
          5.225443315533429,
          5.9974513817172985,
          6.883516077791549,
          7.90048815362756,
          9.067707892335592,
          10.407372914415658,
          11.944960321368944,
          13.70971120689294,
          15.735186749859828,
          18.05990646458536,
          20.728080746323386,
          23.790451643181658,
          27.305257843852996,
          31.33934223283139,
          35.96942307606273,
          41.28355301182418,
          47.38279359321476,
          54.383137227896974,
          62.417713065609405,
          71.63931878395248,
          82.2233264207252,
          94.3710175145265,
          108.31341097971267,
          124.31565651238485,
          142.68207707907848,
          163.76195638376333,
          187.9561813764059,
          215.72486612710668,
          247.59610205296428,
          284.1760009052514,
          326.160221509572,
          374.347199468973,
          429.65333142610217,
          493.1304026513708,
          565.9855893865648,
          649.6044163387919,
          745.5771059192956,
          855.7288203242132,
          982.1543715865292,
          1127.2580596982339,
          1293.7993964247942,
          1484.945584365368,
          1704.3317492800975,
          1956.1300711538063,
          2245.129128697193,
          2576.824966220917,
          2957.525614748274,
          3394.4710550985296,
          3895.970904340747,
          4471.562444072468,
          5132.191995828766,
          5890.423092931315,
          6760.675407689127,
          7759.498977752902,
          8905.88894672707,
          10221.64680462458,
          11731.794998060142,
          13465.052795038735,
          15454.382454105255,
          17737.616084636353,
          20358.175119600088,
          23365.896083368807,
          26817.9783586376,
          30780.071976621693,
          35327.5261176004,
          40546.82206518731,
          46537.2178655581,
          53412.63596896917,
          61303.829751821904,
          70360.87012114002,
          80755.99949050143,
          92686.90740296114,
          106380.4900951731,
          122097.16550028828,
          140135.82575026306,
          160839.5213618757,
          184601.985205548,
          211875.12032665644,
          243177.5940191031,
          279104.7015890704,
          320339.6873932572,
          367666.7384496263,
          421985.8977268626,
          484330.18072627013,
          555885.2208709925,
          638011.8173090592,
          732271.8139334696,
          840457.8017740097
         ],
         "yaxis": "y"
        }
       ],
       "layout": {
        "legend": {
         "title": {
          "text": "variable"
         },
         "tracegroupgap": 0
        },
        "margin": {
         "t": 60
        },
        "template": {
         "data": {
          "bar": [
           {
            "error_x": {
             "color": "#2a3f5f"
            },
            "error_y": {
             "color": "#2a3f5f"
            },
            "marker": {
             "line": {
              "color": "#E5ECF6",
              "width": 0.5
             },
             "pattern": {
              "fillmode": "overlay",
              "size": 10,
              "solidity": 0.2
             }
            },
            "type": "bar"
           }
          ],
          "barpolar": [
           {
            "marker": {
             "line": {
              "color": "#E5ECF6",
              "width": 0.5
             },
             "pattern": {
              "fillmode": "overlay",
              "size": 10,
              "solidity": 0.2
             }
            },
            "type": "barpolar"
           }
          ],
          "carpet": [
           {
            "aaxis": {
             "endlinecolor": "#2a3f5f",
             "gridcolor": "white",
             "linecolor": "white",
             "minorgridcolor": "white",
             "startlinecolor": "#2a3f5f"
            },
            "baxis": {
             "endlinecolor": "#2a3f5f",
             "gridcolor": "white",
             "linecolor": "white",
             "minorgridcolor": "white",
             "startlinecolor": "#2a3f5f"
            },
            "type": "carpet"
           }
          ],
          "choropleth": [
           {
            "colorbar": {
             "outlinewidth": 0,
             "ticks": ""
            },
            "type": "choropleth"
           }
          ],
          "contour": [
           {
            "colorbar": {
             "outlinewidth": 0,
             "ticks": ""
            },
            "colorscale": [
             [
              0,
              "#0d0887"
             ],
             [
              0.1111111111111111,
              "#46039f"
             ],
             [
              0.2222222222222222,
              "#7201a8"
             ],
             [
              0.3333333333333333,
              "#9c179e"
             ],
             [
              0.4444444444444444,
              "#bd3786"
             ],
             [
              0.5555555555555556,
              "#d8576b"
             ],
             [
              0.6666666666666666,
              "#ed7953"
             ],
             [
              0.7777777777777778,
              "#fb9f3a"
             ],
             [
              0.8888888888888888,
              "#fdca26"
             ],
             [
              1,
              "#f0f921"
             ]
            ],
            "type": "contour"
           }
          ],
          "contourcarpet": [
           {
            "colorbar": {
             "outlinewidth": 0,
             "ticks": ""
            },
            "type": "contourcarpet"
           }
          ],
          "heatmap": [
           {
            "colorbar": {
             "outlinewidth": 0,
             "ticks": ""
            },
            "colorscale": [
             [
              0,
              "#0d0887"
             ],
             [
              0.1111111111111111,
              "#46039f"
             ],
             [
              0.2222222222222222,
              "#7201a8"
             ],
             [
              0.3333333333333333,
              "#9c179e"
             ],
             [
              0.4444444444444444,
              "#bd3786"
             ],
             [
              0.5555555555555556,
              "#d8576b"
             ],
             [
              0.6666666666666666,
              "#ed7953"
             ],
             [
              0.7777777777777778,
              "#fb9f3a"
             ],
             [
              0.8888888888888888,
              "#fdca26"
             ],
             [
              1,
              "#f0f921"
             ]
            ],
            "type": "heatmap"
           }
          ],
          "heatmapgl": [
           {
            "colorbar": {
             "outlinewidth": 0,
             "ticks": ""
            },
            "colorscale": [
             [
              0,
              "#0d0887"
             ],
             [
              0.1111111111111111,
              "#46039f"
             ],
             [
              0.2222222222222222,
              "#7201a8"
             ],
             [
              0.3333333333333333,
              "#9c179e"
             ],
             [
              0.4444444444444444,
              "#bd3786"
             ],
             [
              0.5555555555555556,
              "#d8576b"
             ],
             [
              0.6666666666666666,
              "#ed7953"
             ],
             [
              0.7777777777777778,
              "#fb9f3a"
             ],
             [
              0.8888888888888888,
              "#fdca26"
             ],
             [
              1,
              "#f0f921"
             ]
            ],
            "type": "heatmapgl"
           }
          ],
          "histogram": [
           {
            "marker": {
             "pattern": {
              "fillmode": "overlay",
              "size": 10,
              "solidity": 0.2
             }
            },
            "type": "histogram"
           }
          ],
          "histogram2d": [
           {
            "colorbar": {
             "outlinewidth": 0,
             "ticks": ""
            },
            "colorscale": [
             [
              0,
              "#0d0887"
             ],
             [
              0.1111111111111111,
              "#46039f"
             ],
             [
              0.2222222222222222,
              "#7201a8"
             ],
             [
              0.3333333333333333,
              "#9c179e"
             ],
             [
              0.4444444444444444,
              "#bd3786"
             ],
             [
              0.5555555555555556,
              "#d8576b"
             ],
             [
              0.6666666666666666,
              "#ed7953"
             ],
             [
              0.7777777777777778,
              "#fb9f3a"
             ],
             [
              0.8888888888888888,
              "#fdca26"
             ],
             [
              1,
              "#f0f921"
             ]
            ],
            "type": "histogram2d"
           }
          ],
          "histogram2dcontour": [
           {
            "colorbar": {
             "outlinewidth": 0,
             "ticks": ""
            },
            "colorscale": [
             [
              0,
              "#0d0887"
             ],
             [
              0.1111111111111111,
              "#46039f"
             ],
             [
              0.2222222222222222,
              "#7201a8"
             ],
             [
              0.3333333333333333,
              "#9c179e"
             ],
             [
              0.4444444444444444,
              "#bd3786"
             ],
             [
              0.5555555555555556,
              "#d8576b"
             ],
             [
              0.6666666666666666,
              "#ed7953"
             ],
             [
              0.7777777777777778,
              "#fb9f3a"
             ],
             [
              0.8888888888888888,
              "#fdca26"
             ],
             [
              1,
              "#f0f921"
             ]
            ],
            "type": "histogram2dcontour"
           }
          ],
          "mesh3d": [
           {
            "colorbar": {
             "outlinewidth": 0,
             "ticks": ""
            },
            "type": "mesh3d"
           }
          ],
          "parcoords": [
           {
            "line": {
             "colorbar": {
              "outlinewidth": 0,
              "ticks": ""
             }
            },
            "type": "parcoords"
           }
          ],
          "pie": [
           {
            "automargin": true,
            "type": "pie"
           }
          ],
          "scatter": [
           {
            "fillpattern": {
             "fillmode": "overlay",
             "size": 10,
             "solidity": 0.2
            },
            "type": "scatter"
           }
          ],
          "scatter3d": [
           {
            "line": {
             "colorbar": {
              "outlinewidth": 0,
              "ticks": ""
             }
            },
            "marker": {
             "colorbar": {
              "outlinewidth": 0,
              "ticks": ""
             }
            },
            "type": "scatter3d"
           }
          ],
          "scattercarpet": [
           {
            "marker": {
             "colorbar": {
              "outlinewidth": 0,
              "ticks": ""
             }
            },
            "type": "scattercarpet"
           }
          ],
          "scattergeo": [
           {
            "marker": {
             "colorbar": {
              "outlinewidth": 0,
              "ticks": ""
             }
            },
            "type": "scattergeo"
           }
          ],
          "scattergl": [
           {
            "marker": {
             "colorbar": {
              "outlinewidth": 0,
              "ticks": ""
             }
            },
            "type": "scattergl"
           }
          ],
          "scattermapbox": [
           {
            "marker": {
             "colorbar": {
              "outlinewidth": 0,
              "ticks": ""
             }
            },
            "type": "scattermapbox"
           }
          ],
          "scatterpolar": [
           {
            "marker": {
             "colorbar": {
              "outlinewidth": 0,
              "ticks": ""
             }
            },
            "type": "scatterpolar"
           }
          ],
          "scatterpolargl": [
           {
            "marker": {
             "colorbar": {
              "outlinewidth": 0,
              "ticks": ""
             }
            },
            "type": "scatterpolargl"
           }
          ],
          "scatterternary": [
           {
            "marker": {
             "colorbar": {
              "outlinewidth": 0,
              "ticks": ""
             }
            },
            "type": "scatterternary"
           }
          ],
          "surface": [
           {
            "colorbar": {
             "outlinewidth": 0,
             "ticks": ""
            },
            "colorscale": [
             [
              0,
              "#0d0887"
             ],
             [
              0.1111111111111111,
              "#46039f"
             ],
             [
              0.2222222222222222,
              "#7201a8"
             ],
             [
              0.3333333333333333,
              "#9c179e"
             ],
             [
              0.4444444444444444,
              "#bd3786"
             ],
             [
              0.5555555555555556,
              "#d8576b"
             ],
             [
              0.6666666666666666,
              "#ed7953"
             ],
             [
              0.7777777777777778,
              "#fb9f3a"
             ],
             [
              0.8888888888888888,
              "#fdca26"
             ],
             [
              1,
              "#f0f921"
             ]
            ],
            "type": "surface"
           }
          ],
          "table": [
           {
            "cells": {
             "fill": {
              "color": "#EBF0F8"
             },
             "line": {
              "color": "white"
             }
            },
            "header": {
             "fill": {
              "color": "#C8D4E3"
             },
             "line": {
              "color": "white"
             }
            },
            "type": "table"
           }
          ]
         },
         "layout": {
          "annotationdefaults": {
           "arrowcolor": "#2a3f5f",
           "arrowhead": 0,
           "arrowwidth": 1
          },
          "autotypenumbers": "strict",
          "coloraxis": {
           "colorbar": {
            "outlinewidth": 0,
            "ticks": ""
           }
          },
          "colorscale": {
           "diverging": [
            [
             0,
             "#8e0152"
            ],
            [
             0.1,
             "#c51b7d"
            ],
            [
             0.2,
             "#de77ae"
            ],
            [
             0.3,
             "#f1b6da"
            ],
            [
             0.4,
             "#fde0ef"
            ],
            [
             0.5,
             "#f7f7f7"
            ],
            [
             0.6,
             "#e6f5d0"
            ],
            [
             0.7,
             "#b8e186"
            ],
            [
             0.8,
             "#7fbc41"
            ],
            [
             0.9,
             "#4d9221"
            ],
            [
             1,
             "#276419"
            ]
           ],
           "sequential": [
            [
             0,
             "#0d0887"
            ],
            [
             0.1111111111111111,
             "#46039f"
            ],
            [
             0.2222222222222222,
             "#7201a8"
            ],
            [
             0.3333333333333333,
             "#9c179e"
            ],
            [
             0.4444444444444444,
             "#bd3786"
            ],
            [
             0.5555555555555556,
             "#d8576b"
            ],
            [
             0.6666666666666666,
             "#ed7953"
            ],
            [
             0.7777777777777778,
             "#fb9f3a"
            ],
            [
             0.8888888888888888,
             "#fdca26"
            ],
            [
             1,
             "#f0f921"
            ]
           ],
           "sequentialminus": [
            [
             0,
             "#0d0887"
            ],
            [
             0.1111111111111111,
             "#46039f"
            ],
            [
             0.2222222222222222,
             "#7201a8"
            ],
            [
             0.3333333333333333,
             "#9c179e"
            ],
            [
             0.4444444444444444,
             "#bd3786"
            ],
            [
             0.5555555555555556,
             "#d8576b"
            ],
            [
             0.6666666666666666,
             "#ed7953"
            ],
            [
             0.7777777777777778,
             "#fb9f3a"
            ],
            [
             0.8888888888888888,
             "#fdca26"
            ],
            [
             1,
             "#f0f921"
            ]
           ]
          },
          "colorway": [
           "#636efa",
           "#EF553B",
           "#00cc96",
           "#ab63fa",
           "#FFA15A",
           "#19d3f3",
           "#FF6692",
           "#B6E880",
           "#FF97FF",
           "#FECB52"
          ],
          "font": {
           "color": "#2a3f5f"
          },
          "geo": {
           "bgcolor": "white",
           "lakecolor": "white",
           "landcolor": "#E5ECF6",
           "showlakes": true,
           "showland": true,
           "subunitcolor": "white"
          },
          "hoverlabel": {
           "align": "left"
          },
          "hovermode": "closest",
          "mapbox": {
           "style": "light"
          },
          "paper_bgcolor": "white",
          "plot_bgcolor": "#E5ECF6",
          "polar": {
           "angularaxis": {
            "gridcolor": "white",
            "linecolor": "white",
            "ticks": ""
           },
           "bgcolor": "#E5ECF6",
           "radialaxis": {
            "gridcolor": "white",
            "linecolor": "white",
            "ticks": ""
           }
          },
          "scene": {
           "xaxis": {
            "backgroundcolor": "#E5ECF6",
            "gridcolor": "white",
            "gridwidth": 2,
            "linecolor": "white",
            "showbackground": true,
            "ticks": "",
            "zerolinecolor": "white"
           },
           "yaxis": {
            "backgroundcolor": "#E5ECF6",
            "gridcolor": "white",
            "gridwidth": 2,
            "linecolor": "white",
            "showbackground": true,
            "ticks": "",
            "zerolinecolor": "white"
           },
           "zaxis": {
            "backgroundcolor": "#E5ECF6",
            "gridcolor": "white",
            "gridwidth": 2,
            "linecolor": "white",
            "showbackground": true,
            "ticks": "",
            "zerolinecolor": "white"
           }
          },
          "shapedefaults": {
           "line": {
            "color": "#2a3f5f"
           }
          },
          "ternary": {
           "aaxis": {
            "gridcolor": "white",
            "linecolor": "white",
            "ticks": ""
           },
           "baxis": {
            "gridcolor": "white",
            "linecolor": "white",
            "ticks": ""
           },
           "bgcolor": "#E5ECF6",
           "caxis": {
            "gridcolor": "white",
            "linecolor": "white",
            "ticks": ""
           }
          },
          "title": {
           "x": 0.05
          },
          "xaxis": {
           "automargin": true,
           "gridcolor": "white",
           "linecolor": "white",
           "ticks": "",
           "title": {
            "standoff": 15
           },
           "zerolinecolor": "white",
           "zerolinewidth": 2
          },
          "yaxis": {
           "automargin": true,
           "gridcolor": "white",
           "linecolor": "white",
           "ticks": "",
           "title": {
            "standoff": 15
           },
           "zerolinecolor": "white",
           "zerolinewidth": 2
          }
         }
        },
        "xaxis": {
         "anchor": "y",
         "domain": [
          0,
          1
         ],
         "title": {
          "text": "Time"
         }
        },
        "yaxis": {
         "anchor": "x",
         "domain": [
          0,
          1
         ],
         "title": {
          "text": "value"
         }
        }
       }
      },
      "image/png": "[encoded data removed]",
      "text/html": [
       "<div>                            <div id=\"0e6fc9c8-9d88-4be4-be24-4c75ed2731e9\" class=\"plotly-graph-div\" style=\"height:525px; width:100%;\"></div>            <script type=\"text/javascript\">                require([\"plotly\"], function(Plotly) {                    window.PLOTLYENV=window.PLOTLYENV || {};                                    if (document.getElementById(\"0e6fc9c8-9d88-4be4-be24-4c75ed2731e9\")) {                    Plotly.newPlot(                        \"0e6fc9c8-9d88-4be4-be24-4c75ed2731e9\",                        [{\"hovertemplate\":\"variable=Food production\\u003cbr\\u003eTime=%{x}\\u003cbr\\u003evalue=%{y}\\u003cextra\\u003e\\u003c\\u002fextra\\u003e\",\"legendgroup\":\"Food production\",\"line\":{\"color\":\"#636efa\",\"dash\":\"solid\"},\"marker\":{\"symbol\":\"circle\"},\"mode\":\"lines\",\"name\":\"Food production\",\"orientation\":\"v\",\"showlegend\":true,\"x\":[0.0,27.018621557678152,54.037243115356304,81.05586467303445,108.07448623071261,135.09310778839077,162.1117293460689,189.13035090374706,216.14897246142522,243.16759401910338,270.18621557678154,297.2048371344597,324.2234586921378,351.24208024981596,378.2607018074941,405.2793233651723,432.29794492285043,459.3165664805286,486.33518803820675,513.3538095958849,540.3724311535631,567.3910527112412,594.4096742689194,621.4282958265975,648.4469173842756,675.4655389419538,702.4841604996319,729.5027820573101,756.5214036149882,783.5400251726664,810.5586467303445,837.5772682880228,864.5958898457009,891.614511403379,918.6331329610572,945.6517545187353,972.6703760764135,999.6889976340916,1026.7076191917697,1053.726240749448,1080.7448623071261,1107.7634838648041,1134.7821054224823,1161.8007269801606,1188.8193485378388,1215.8379700955168,1242.856591653195,1269.8752132108732,1296.8938347685512,1323.9124563262294,1350.9310778839076,1377.9496994415858,1404.9683209992638,1431.986942556942,1459.0055641146203,1486.0241856722985,1513.0428072299765,1540.0614287876547,1567.080050345333,1594.0986719030109,1621.117293460689,1648.1359150183673,1675.1545365760455,1702.1731581337235,1729.1917796914017,1756.21040124908,1783.229022806758,1810.2476443644362,1837.2662659221144,1864.2848874797926,1891.3035090374706,1918.3221305951488,1945.340752152827,1972.359373710505,1999.3779952681832,2026.3966168258614,2053.4152383835394,2080.4338599412176,2107.452481498896,2134.471103056574,2161.4897246142523,2188.5083461719305,2215.5269677296083,2242.5455892872865,2269.5642108449647,2296.582832402643,2323.601453960321,2350.6200755179993,2377.6386970756776,2404.6573186333553,2431.6759401910335,2458.6945617487117,2485.71318330639,2512.731804864068,2539.7504264217464,2566.7690479794246,2593.7876695371024,2620.8062910947806,2647.824912652459,2674.843534210137],\"xaxis\":\"x\",\"y\":[10.0,2711.8621557678152,5413.7243115356305,8115.586467303445,10817.448623071261,13519.310778839077,16221.17293460689,18923.035090374706,21624.897246142522,24326.759401910338,27028.621557678154,29730.48371344597,32432.34586921378,35134.2080249816,37836.07018074941,40537.932336517224,43239.794492285044,45941.656648052856,48643.518803820676,51345.38095958849,54047.24311535631,56749.10527112412,59450.96742689194,62152.829582659746,64854.69173842756,67556.55389419539,70258.4160499632,72960.27820573101,75662.14036149882,78364.00251726665,81065.86467303445,83767.72682880228,86469.58898457009,89171.4511403379,91873.31329610571,94575.17545187353,97277.03760764135,99978.89976340916,102680.76191917698,105382.62407494479,108084.48623071262,110786.34838648041,113488.21054224824,116190.07269801605,118891.93485378388,121593.79700955168,124295.65916531949,126997.52132108732,129699.38347685512,132401.24563262294,135103.10778839077,137804.96994415857,140506.8320999264,143208.6942556942,145910.55641146202,148612.41856722985,151314.28072299765,154016.14287876547,156718.0050345333,159419.8671903011,162121.7293460689,164823.59150183672,167525.45365760455,170227.31581337235,172929.17796914018,175631.040124908,178332.9022806758,181034.76443644363,183736.62659221143,186438.48874797925,189140.35090374705,191842.21305951488,194544.0752152827,197245.9373710505,199947.79952681833,202649.66168258616,205351.52383835395,208053.38599412175,210755.24814988958,213457.1103056574,216158.97246142523,218860.83461719306,221562.69677296083,224264.55892872866,226966.42108449648,229668.28324026428,232370.1453960321,235072.00755179994,237773.86970756776,240475.73186333553,243177.59401910336,245879.4561748712,248581.31833063898,251283.1804864068,253985.04264217464,256686.90479794246,259388.76695371023,262090.62910947806,264792.4912652459,267494.3534210137],\"yaxis\":\"y\",\"type\":\"scatter\"},{\"hovertemplate\":\"variable=Brazil\\u003cbr\\u003eTime=%{x}\\u003cbr\\u003evalue=%{y}\\u003cextra\\u003e\\u003c\\u002fextra\\u003e\",\"legendgroup\":\"Brazil\",\"line\":{\"color\":\"#EF553B\",\"dash\":\"solid\"},\"marker\":{\"symbol\":\"circle\"},\"mode\":\"lines\",\"name\":\"Brazil\",\"orientation\":\"v\",\"showlegend\":true,\"x\":[0.0,27.018621557678152,54.037243115356304,81.05586467303445,108.07448623071261,135.09310778839077,162.1117293460689,189.13035090374706,216.14897246142522,243.16759401910338,270.18621557678154,297.2048371344597,324.2234586921378,351.24208024981596,378.2607018074941,405.2793233651723,432.29794492285043,459.3165664805286,486.33518803820675,513.3538095958849,540.3724311535631,567.3910527112412,594.4096742689194,621.4282958265975,648.4469173842756,675.4655389419538,702.4841604996319,729.5027820573101,756.5214036149882,783.5400251726664,810.5586467303445,837.5772682880228,864.5958898457009,891.614511403379,918.6331329610572,945.6517545187353,972.6703760764135,999.6889976340916,1026.7076191917697,1053.726240749448,1080.7448623071261,1107.7634838648041,1134.7821054224823,1161.8007269801606,1188.8193485378388,1215.8379700955168,1242.856591653195,1269.8752132108732,1296.8938347685512,1323.9124563262294,1350.9310778839076,1377.9496994415858,1404.9683209992638,1431.986942556942,1459.0055641146203,1486.0241856722985,1513.0428072299765,1540.0614287876547,1567.080050345333,1594.0986719030109,1621.117293460689,1648.1359150183673,1675.1545365760455,1702.1731581337235,1729.1917796914017,1756.21040124908,1783.229022806758,1810.2476443644362,1837.2662659221144,1864.2848874797926,1891.3035090374706,1918.3221305951488,1945.340752152827,1972.359373710505,1999.3779952681832,2026.3966168258614,2053.4152383835394,2080.4338599412176,2107.452481498896,2134.471103056574,2161.4897246142523,2188.5083461719305,2215.5269677296083,2242.5455892872865,2269.5642108449647,2296.582832402643,2323.601453960321,2350.6200755179993,2377.6386970756776,2404.6573186333553,2431.6759401910335,2458.6945617487117,2485.71318330639,2512.731804864068,2539.7504264217464,2566.7690479794246,2593.7876695371024,2620.8062910947806,2647.824912652459,2674.843534210137],\"xaxis\":\"x\",\"y\":[1.0,1.1477402049102623,1.317307577967451,1.5119268694662036,1.735299254970472,1.9916727224804354,2.285922858613875,2.6236455701545416,3.0112635043010756,3.4561481914653114,3.966760233472629,4.552810203195756,5.225443315533429,5.9974513817172985,6.883516077791549,7.90048815362756,9.067707892335592,10.407372914415658,11.944960321368944,13.70971120689294,15.735186749859828,18.05990646458536,20.728080746323386,23.790451643181658,27.305257843852996,31.33934223283139,35.96942307606273,41.28355301182418,47.38279359321476,54.383137227896974,62.417713065609405,71.63931878395248,82.2233264207252,94.3710175145265,108.31341097971267,124.31565651238485,142.68207707907848,163.76195638376333,187.9561813764059,215.72486612710668,247.59610205296428,284.1760009052514,326.160221509572,374.347199468973,429.65333142610217,493.1304026513708,565.9855893865648,649.6044163387919,745.5771059192956,855.7288203242132,982.1543715865292,1127.2580596982339,1293.7993964247942,1484.945584365368,1704.3317492800975,1956.1300711538063,2245.129128697193,2576.824966220917,2957.525614748274,3394.4710550985296,3895.970904340747,4471.562444072468,5132.191995828766,5890.423092931315,6760.675407689127,7759.498977752902,8905.88894672707,10221.64680462458,11731.794998060142,13465.052795038735,15454.382454105255,17737.616084636353,20358.175119600088,23365.896083368807,26817.9783586376,30780.071976621693,35327.5261176004,40546.82206518731,46537.2178655581,53412.63596896917,61303.829751821904,70360.87012114002,80755.99949050143,92686.90740296114,106380.4900951731,122097.16550028828,140135.82575026306,160839.5213618757,184601.985205548,211875.12032665644,243177.5940191031,279104.7015890704,320339.6873932572,367666.7384496263,421985.8977268626,484330.18072627013,555885.2208709925,638011.8173090592,732271.8139334696,840457.8017740097],\"yaxis\":\"y\",\"type\":\"scatter\"}],                        {\"template\":{\"data\":{\"histogram2dcontour\":[{\"type\":\"histogram2dcontour\",\"colorbar\":{\"outlinewidth\":0,\"ticks\":\"\"},\"colorscale\":[[0.0,\"#0d0887\"],[0.1111111111111111,\"#46039f\"],[0.2222222222222222,\"#7201a8\"],[0.3333333333333333,\"#9c179e\"],[0.4444444444444444,\"#bd3786\"],[0.5555555555555556,\"#d8576b\"],[0.6666666666666666,\"#ed7953\"],[0.7777777777777778,\"#fb9f3a\"],[0.8888888888888888,\"#fdca26\"],[1.0,\"#f0f921\"]]}],\"choropleth\":[{\"type\":\"choropleth\",\"colorbar\":{\"outlinewidth\":0,\"ticks\":\"\"}}],\"histogram2d\":[{\"type\":\"histogram2d\",\"colorbar\":{\"outlinewidth\":0,\"ticks\":\"\"},\"colorscale\":[[0.0,\"#0d0887\"],[0.1111111111111111,\"#46039f\"],[0.2222222222222222,\"#7201a8\"],[0.3333333333333333,\"#9c179e\"],[0.4444444444444444,\"#bd3786\"],[0.5555555555555556,\"#d8576b\"],[0.6666666666666666,\"#ed7953\"],[0.7777777777777778,\"#fb9f3a\"],[0.8888888888888888,\"#fdca26\"],[1.0,\"#f0f921\"]]}],\"heatmap\":[{\"type\":\"heatmap\",\"colorbar\":{\"outlinewidth\":0,\"ticks\":\"\"},\"colorscale\":[[0.0,\"#0d0887\"],[0.1111111111111111,\"#46039f\"],[0.2222222222222222,\"#7201a8\"],[0.3333333333333333,\"#9c179e\"],[0.4444444444444444,\"#bd3786\"],[0.5555555555555556,\"#d8576b\"],[0.6666666666666666,\"#ed7953\"],[0.7777777777777778,\"#fb9f3a\"],[0.8888888888888888,\"#fdca26\"],[1.0,\"#f0f921\"]]}],\"heatmapgl\":[{\"type\":\"heatmapgl\",\"colorbar\":{\"outlinewidth\":0,\"ticks\":\"\"},\"colorscale\":[[0.0,\"#0d0887\"],[0.1111111111111111,\"#46039f\"],[0.2222222222222222,\"#7201a8\"],[0.3333333333333333,\"#9c179e\"],[0.4444444444444444,\"#bd3786\"],[0.5555555555555556,\"#d8576b\"],[0.6666666666666666,\"#ed7953\"],[0.7777777777777778,\"#fb9f3a\"],[0.8888888888888888,\"#fdca26\"],[1.0,\"#f0f921\"]]}],\"contourcarpet\":[{\"type\":\"contourcarpet\",\"colorbar\":{\"outlinewidth\":0,\"ticks\":\"\"}}],\"contour\":[{\"type\":\"contour\",\"colorbar\":{\"outlinewidth\":0,\"ticks\":\"\"},\"colorscale\":[[0.0,\"#0d0887\"],[0.1111111111111111,\"#46039f\"],[0.2222222222222222,\"#7201a8\"],[0.3333333333333333,\"#9c179e\"],[0.4444444444444444,\"#bd3786\"],[0.5555555555555556,\"#d8576b\"],[0.6666666666666666,\"#ed7953\"],[0.7777777777777778,\"#fb9f3a\"],[0.8888888888888888,\"#fdca26\"],[1.0,\"#f0f921\"]]}],\"surface\":[{\"type\":\"surface\",\"colorbar\":{\"outlinewidth\":0,\"ticks\":\"\"},\"colorscale\":[[0.0,\"#0d0887\"],[0.1111111111111111,\"#46039f\"],[0.2222222222222222,\"#7201a8\"],[0.3333333333333333,\"#9c179e\"],[0.4444444444444444,\"#bd3786\"],[0.5555555555555556,\"#d8576b\"],[0.6666666666666666,\"#ed7953\"],[0.7777777777777778,\"#fb9f3a\"],[0.8888888888888888,\"#fdca26\"],[1.0,\"#f0f921\"]]}],\"mesh3d\":[{\"type\":\"mesh3d\",\"colorbar\":{\"outlinewidth\":0,\"ticks\":\"\"}}],\"scatter\":[{\"fillpattern\":{\"fillmode\":\"overlay\",\"size\":10,\"solidity\":0.2},\"type\":\"scatter\"}],\"parcoords\":[{\"type\":\"parcoords\",\"line\":{\"colorbar\":{\"outlinewidth\":0,\"ticks\":\"\"}}}],\"scatterpolargl\":[{\"type\":\"scatterpolargl\",\"marker\":{\"colorbar\":{\"outlinewidth\":0,\"ticks\":\"\"}}}],\"bar\":[{\"error_x\":{\"color\":\"#2a3f5f\"},\"error_y\":{\"color\":\"#2a3f5f\"},\"marker\":{\"line\":{\"color\":\"#E5ECF6\",\"width\":0.5},\"pattern\":{\"fillmode\":\"overlay\",\"size\":10,\"solidity\":0.2}},\"type\":\"bar\"}],\"scattergeo\":[{\"type\":\"scattergeo\",\"marker\":{\"colorbar\":{\"outlinewidth\":0,\"ticks\":\"\"}}}],\"scatterpolar\":[{\"type\":\"scatterpolar\",\"marker\":{\"colorbar\":{\"outlinewidth\":0,\"ticks\":\"\"}}}],\"histogram\":[{\"marker\":{\"pattern\":{\"fillmode\":\"overlay\",\"size\":10,\"solidity\":0.2}},\"type\":\"histogram\"}],\"scattergl\":[{\"type\":\"scattergl\",\"marker\":{\"colorbar\":{\"outlinewidth\":0,\"ticks\":\"\"}}}],\"scatter3d\":[{\"type\":\"scatter3d\",\"line\":{\"colorbar\":{\"outlinewidth\":0,\"ticks\":\"\"}},\"marker\":{\"colorbar\":{\"outlinewidth\":0,\"ticks\":\"\"}}}],\"scattermapbox\":[{\"type\":\"scattermapbox\",\"marker\":{\"colorbar\":{\"outlinewidth\":0,\"ticks\":\"\"}}}],\"scatterternary\":[{\"type\":\"scatterternary\",\"marker\":{\"colorbar\":{\"outlinewidth\":0,\"ticks\":\"\"}}}],\"scattercarpet\":[{\"type\":\"scattercarpet\",\"marker\":{\"colorbar\":{\"outlinewidth\":0,\"ticks\":\"\"}}}],\"carpet\":[{\"aaxis\":{\"endlinecolor\":\"#2a3f5f\",\"gridcolor\":\"white\",\"linecolor\":\"white\",\"minorgridcolor\":\"white\",\"startlinecolor\":\"#2a3f5f\"},\"baxis\":{\"endlinecolor\":\"#2a3f5f\",\"gridcolor\":\"white\",\"linecolor\":\"white\",\"minorgridcolor\":\"white\",\"startlinecolor\":\"#2a3f5f\"},\"type\":\"carpet\"}],\"table\":[{\"cells\":{\"fill\":{\"color\":\"#EBF0F8\"},\"line\":{\"color\":\"white\"}},\"header\":{\"fill\":{\"color\":\"#C8D4E3\"},\"line\":{\"color\":\"white\"}},\"type\":\"table\"}],\"barpolar\":[{\"marker\":{\"line\":{\"color\":\"#E5ECF6\",\"width\":0.5},\"pattern\":{\"fillmode\":\"overlay\",\"size\":10,\"solidity\":0.2}},\"type\":\"barpolar\"}],\"pie\":[{\"automargin\":true,\"type\":\"pie\"}]},\"layout\":{\"autotypenumbers\":\"strict\",\"colorway\":[\"#636efa\",\"#EF553B\",\"#00cc96\",\"#ab63fa\",\"#FFA15A\",\"#19d3f3\",\"#FF6692\",\"#B6E880\",\"#FF97FF\",\"#FECB52\"],\"font\":{\"color\":\"#2a3f5f\"},\"hovermode\":\"closest\",\"hoverlabel\":{\"align\":\"left\"},\"paper_bgcolor\":\"white\",\"plot_bgcolor\":\"#E5ECF6\",\"polar\":{\"bgcolor\":\"#E5ECF6\",\"angularaxis\":{\"gridcolor\":\"white\",\"linecolor\":\"white\",\"ticks\":\"\"},\"radialaxis\":{\"gridcolor\":\"white\",\"linecolor\":\"white\",\"ticks\":\"\"}},\"ternary\":{\"bgcolor\":\"#E5ECF6\",\"aaxis\":{\"gridcolor\":\"white\",\"linecolor\":\"white\",\"ticks\":\"\"},\"baxis\":{\"gridcolor\":\"white\",\"linecolor\":\"white\",\"ticks\":\"\"},\"caxis\":{\"gridcolor\":\"white\",\"linecolor\":\"white\",\"ticks\":\"\"}},\"coloraxis\":{\"colorbar\":{\"outlinewidth\":0,\"ticks\":\"\"}},\"colorscale\":{\"sequential\":[[0.0,\"#0d0887\"],[0.1111111111111111,\"#46039f\"],[0.2222222222222222,\"#7201a8\"],[0.3333333333333333,\"#9c179e\"],[0.4444444444444444,\"#bd3786\"],[0.5555555555555556,\"#d8576b\"],[0.6666666666666666,\"#ed7953\"],[0.7777777777777778,\"#fb9f3a\"],[0.8888888888888888,\"#fdca26\"],[1.0,\"#f0f921\"]],\"sequentialminus\":[[0.0,\"#0d0887\"],[0.1111111111111111,\"#46039f\"],[0.2222222222222222,\"#7201a8\"],[0.3333333333333333,\"#9c179e\"],[0.4444444444444444,\"#bd3786\"],[0.5555555555555556,\"#d8576b\"],[0.6666666666666666,\"#ed7953\"],[0.7777777777777778,\"#fb9f3a\"],[0.8888888888888888,\"#fdca26\"],[1.0,\"#f0f921\"]],\"diverging\":[[0,\"#8e0152\"],[0.1,\"#c51b7d\"],[0.2,\"#de77ae\"],[0.3,\"#f1b6da\"],[0.4,\"#fde0ef\"],[0.5,\"#f7f7f7\"],[0.6,\"#e6f5d0\"],[0.7,\"#b8e186\"],[0.8,\"#7fbc41\"],[0.9,\"#4d9221\"],[1,\"#276419\"]]},\"xaxis\":{\"gridcolor\":\"white\",\"linecolor\":\"white\",\"ticks\":\"\",\"title\":{\"standoff\":15},\"zerolinecolor\":\"white\",\"automargin\":true,\"zerolinewidth\":2},\"yaxis\":{\"gridcolor\":\"white\",\"linecolor\":\"white\",\"ticks\":\"\",\"title\":{\"standoff\":15},\"zerolinecolor\":\"white\",\"automargin\":true,\"zerolinewidth\":2},\"scene\":{\"xaxis\":{\"backgroundcolor\":\"#E5ECF6\",\"gridcolor\":\"white\",\"linecolor\":\"white\",\"showbackground\":true,\"ticks\":\"\",\"zerolinecolor\":\"white\",\"gridwidth\":2},\"yaxis\":{\"backgroundcolor\":\"#E5ECF6\",\"gridcolor\":\"white\",\"linecolor\":\"white\",\"showbackground\":true,\"ticks\":\"\",\"zerolinecolor\":\"white\",\"gridwidth\":2},\"zaxis\":{\"backgroundcolor\":\"#E5ECF6\",\"gridcolor\":\"white\",\"linecolor\":\"white\",\"showbackground\":true,\"ticks\":\"\",\"zerolinecolor\":\"white\",\"gridwidth\":2}},\"shapedefaults\":{\"line\":{\"color\":\"#2a3f5f\"}},\"annotationdefaults\":{\"arrowcolor\":\"#2a3f5f\",\"arrowhead\":0,\"arrowwidth\":1},\"geo\":{\"bgcolor\":\"white\",\"landcolor\":\"#E5ECF6\",\"subunitcolor\":\"white\",\"showland\":true,\"showlakes\":true,\"lakecolor\":\"white\"},\"title\":{\"x\":0.05},\"mapbox\":{\"style\":\"light\"}}},\"xaxis\":{\"anchor\":\"y\",\"domain\":[0.0,1.0],\"title\":{\"text\":\"Time\"}},\"yaxis\":{\"anchor\":\"x\",\"domain\":[0.0,1.0],\"title\":{\"text\":\"value\"}},\"legend\":{\"title\":{\"text\":\"variable\"},\"tracegroupgap\":0},\"margin\":{\"t\":60}},                        {\"responsive\": true}                    ).then(function(){\n",
       "                            \n",
       "var gd = document.getElementById('0e6fc9c8-9d88-4be4-be24-4c75ed2731e9');\n",
       "var x = new MutationObserver(function (mutations, observer) {{\n",
       "        var display = window.getComputedStyle(gd).display;\n",
       "        if (!display || display === 'none') {{\n",
       "            console.log([gd, 'removed!']);\n",
       "            Plotly.purge(gd);\n",
       "            observer.disconnect();\n",
       "        }}\n",
       "}});\n",
       "\n",
       "// Listen for the removal of the full notebook cells\n",
       "var notebookContainer = gd.closest('#notebook-container');\n",
       "if (notebookContainer) {{\n",
       "    x.observe(notebookContainer, {childList: true});\n",
       "}}\n",
       "\n",
       "// Listen for the clearing of the current output cell\n",
       "var outputEl = gd.closest('.output');\n",
       "if (outputEl) {{\n",
       "    x.observe(outputEl, {childList: true});\n",
       "}}\n",
       "\n",
       "                        })                };                });            </script>        </div>"
      ]
     },
     "metadata": {},
     "output_type": "display_data"
    }
   ],
   "source": [
    "import numpy as np\n",
    "import pandas as pd\n",
    "from scipy.optimize import newton\n",
    "import pandas as pd\n",
    "pd.options.plotting.backend = 'plotly'\n",
    "\n",
    "# Play with these constants\n",
    "## for exponential\n",
    "P0 = 1\n",
    "r = 0.0051  # Rate of population growth\n",
    "\n",
    "## for line\n",
    "F0 = 10\n",
    "m = 100\n",
    "\n",
    "def food_production(t,m=m):\n",
    "    return F0+m*t\n",
    "\n",
    "def population(t,r=r):\n",
    "    return P0*np.exp(r*t)\n",
    "\n",
    "def choose_xaxis(r,m,x0=10):\n",
    "    \"\"\"\n",
    "    Find a range of x so that curves intersect\n",
    "    \"\"\"\n",
    "    tstar = -1\n",
    "    try:\n",
    "        while tstar <= 0:\n",
    "            tstar = newton(lambda t: food_production(t,m) - population(t,r),x0,maxiter=1000)\n",
    "            x0 = x0*10\n",
    "        return np.linspace(0,tstar*1.1,100)\n",
    "    except RuntimeError: # Failed to find root\n",
    "        return np.linspace(0,1000,100)\n",
    "\n",
    "T = choose_xaxis(r,m)\n",
    "\n",
    "df = pd.DataFrame({'Time': T,\n",
    "                   'Food production':[food_production(t) for t in T],\n",
    "                   'Brazil':[population(t) for t in T]}).set_index('Time')\n",
    "df.plot()"
   ]
  },
  {
   "cell_type": "code",
   "execution_count": null,
   "id": "cb26149e-ec4b-49e6-a6a6-382eebdde304",
   "metadata": {},
   "outputs": [],
   "source": []
  }
 ],
 "metadata": {
  "kernelspec": {
   "display_name": "Python 3 (ipykernel)",
   "language": "python",
   "name": "python3"
  },
  "language_info": {
   "codemirror_mode": {
    "name": "ipython",
    "version": 3
   },
   "file_extension": ".py",
   "mimetype": "text/x-python",
   "name": "python",
   "nbconvert_exporter": "python",
   "pygments_lexer": "ipython3",
   "version": "3.11.11"
  }
 },
 "nbformat": 4,
 "nbformat_minor": 5
}
