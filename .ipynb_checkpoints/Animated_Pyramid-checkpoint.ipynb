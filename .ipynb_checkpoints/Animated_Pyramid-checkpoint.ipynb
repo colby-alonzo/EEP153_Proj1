{
 "cells": [
  {
   "cell_type": "code",
   "execution_count": 2,
   "id": "a1740d7e-9085-4487-a9f1-9a0a187db465",
   "metadata": {},
   "outputs": [
    {
     "name": "stdout",
     "output_type": "stream",
     "text": [
      "Requirement already satisfied: wbdata in /srv/conda/lib/python3.11/site-packages (1.0.0)\n",
      "Requirement already satisfied: appdirs<2.0,>=1.4 in /srv/conda/lib/python3.11/site-packages (from wbdata) (1.4.4)\n",
      "Requirement already satisfied: backoff<3.0.0,>=2.2.1 in /srv/conda/lib/python3.11/site-packages (from wbdata) (2.2.1)\n",
      "Requirement already satisfied: cachetools<6.0.0,>=5.3.2 in /srv/conda/lib/python3.11/site-packages (from wbdata) (5.5.1)\n",
      "Requirement already satisfied: dateparser<2.0.0,>=1.2.0 in /srv/conda/lib/python3.11/site-packages (from wbdata) (1.2.1)\n",
      "Requirement already satisfied: decorator<6.0.0,>=5.1.1 in /srv/conda/lib/python3.11/site-packages (from wbdata) (5.1.1)\n",
      "Requirement already satisfied: requests<3.0,>=2.0 in /srv/conda/lib/python3.11/site-packages (from wbdata) (2.32.3)\n",
      "Requirement already satisfied: shelved-cache<0.4.0,>=0.3.1 in /srv/conda/lib/python3.11/site-packages (from wbdata) (0.3.1)\n",
      "Requirement already satisfied: tabulate<0.9.0,>=0.8.5 in /srv/conda/lib/python3.11/site-packages (from wbdata) (0.8.10)\n",
      "Requirement already satisfied: python-dateutil>=2.7.0 in /srv/conda/lib/python3.11/site-packages (from dateparser<2.0.0,>=1.2.0->wbdata) (2.9.0.post0)\n",
      "Requirement already satisfied: pytz>=2024.2 in /srv/conda/lib/python3.11/site-packages (from dateparser<2.0.0,>=1.2.0->wbdata) (2025.1)\n",
      "Requirement already satisfied: regex!=2019.02.19,!=2021.8.27,>=2015.06.24 in /srv/conda/lib/python3.11/site-packages (from dateparser<2.0.0,>=1.2.0->wbdata) (2024.11.6)\n",
      "Requirement already satisfied: tzlocal>=0.2 in /srv/conda/lib/python3.11/site-packages (from dateparser<2.0.0,>=1.2.0->wbdata) (5.2)\n",
      "Requirement already satisfied: charset_normalizer<4,>=2 in /srv/conda/lib/python3.11/site-packages (from requests<3.0,>=2.0->wbdata) (3.4.0)\n",
      "Requirement already satisfied: idna<4,>=2.5 in /srv/conda/lib/python3.11/site-packages (from requests<3.0,>=2.0->wbdata) (3.10)\n",
      "Requirement already satisfied: urllib3<3,>=1.21.1 in /srv/conda/lib/python3.11/site-packages (from requests<3.0,>=2.0->wbdata) (2.3.0)\n",
      "Requirement already satisfied: certifi>=2017.4.17 in /srv/conda/lib/python3.11/site-packages (from requests<3.0,>=2.0->wbdata) (2024.12.14)\n",
      "Requirement already satisfied: six>=1.5 in /srv/conda/lib/python3.11/site-packages (from python-dateutil>=2.7.0->dateparser<2.0.0,>=1.2.0->wbdata) (1.17.0)\n",
      "Note: you may need to restart the kernel to use updated packages.\n",
      "Requirement already satisfied: pandas in /srv/conda/lib/python3.11/site-packages (2.2.3)\n",
      "Requirement already satisfied: numpy>=1.23.2 in /srv/conda/lib/python3.11/site-packages (from pandas) (2.2.2)\n",
      "Requirement already satisfied: python-dateutil>=2.8.2 in /srv/conda/lib/python3.11/site-packages (from pandas) (2.9.0.post0)\n",
      "Requirement already satisfied: pytz>=2020.1 in /srv/conda/lib/python3.11/site-packages (from pandas) (2025.1)\n",
      "Requirement already satisfied: tzdata>=2022.7 in /srv/conda/lib/python3.11/site-packages (from pandas) (2025.1)\n",
      "Requirement already satisfied: six>=1.5 in /srv/conda/lib/python3.11/site-packages (from python-dateutil>=2.8.2->pandas) (1.17.0)\n",
      "Note: you may need to restart the kernel to use updated packages.\n",
      "Requirement already satisfied: iso3166 in /srv/conda/lib/python3.11/site-packages (2.1.1)\n",
      "Note: you may need to restart the kernel to use updated packages.\n",
      "Requirement already satisfied: cufflinks in /srv/conda/lib/python3.11/site-packages (0.17.3)\n",
      "Requirement already satisfied: numpy>=1.9.2 in /srv/conda/lib/python3.11/site-packages (from cufflinks) (2.2.2)\n",
      "Requirement already satisfied: pandas>=0.19.2 in /srv/conda/lib/python3.11/site-packages (from cufflinks) (2.2.3)\n",
      "Requirement already satisfied: plotly>=4.1.1 in /srv/conda/lib/python3.11/site-packages (from cufflinks) (6.0.0)\n",
      "Requirement already satisfied: six>=1.9.0 in /srv/conda/lib/python3.11/site-packages (from cufflinks) (1.17.0)\n",
      "Requirement already satisfied: colorlover>=0.2.1 in /srv/conda/lib/python3.11/site-packages (from cufflinks) (0.3.0)\n",
      "Requirement already satisfied: setuptools>=34.4.1 in /srv/conda/lib/python3.11/site-packages (from cufflinks) (75.6.0)\n",
      "Requirement already satisfied: ipython>=5.3.0 in /srv/conda/lib/python3.11/site-packages (from cufflinks) (8.32.0)\n",
      "Requirement already satisfied: ipywidgets>=7.0.0 in /srv/conda/lib/python3.11/site-packages (from cufflinks) (8.1.5)\n",
      "Requirement already satisfied: decorator in /srv/conda/lib/python3.11/site-packages (from ipython>=5.3.0->cufflinks) (5.1.1)\n",
      "Requirement already satisfied: jedi>=0.16 in /srv/conda/lib/python3.11/site-packages (from ipython>=5.3.0->cufflinks) (0.19.2)\n",
      "Requirement already satisfied: matplotlib-inline in /srv/conda/lib/python3.11/site-packages (from ipython>=5.3.0->cufflinks) (0.1.7)\n",
      "Requirement already satisfied: pexpect>4.3 in /srv/conda/lib/python3.11/site-packages (from ipython>=5.3.0->cufflinks) (4.9.0)\n",
      "Requirement already satisfied: prompt_toolkit<3.1.0,>=3.0.41 in /srv/conda/lib/python3.11/site-packages (from ipython>=5.3.0->cufflinks) (3.0.50)\n",
      "Requirement already satisfied: pygments>=2.4.0 in /srv/conda/lib/python3.11/site-packages (from ipython>=5.3.0->cufflinks) (2.19.1)\n",
      "Requirement already satisfied: stack_data in /srv/conda/lib/python3.11/site-packages (from ipython>=5.3.0->cufflinks) (0.6.3)\n",
      "Requirement already satisfied: traitlets>=5.13.0 in /srv/conda/lib/python3.11/site-packages (from ipython>=5.3.0->cufflinks) (5.14.3)\n",
      "Requirement already satisfied: typing_extensions>=4.6 in /srv/conda/lib/python3.11/site-packages (from ipython>=5.3.0->cufflinks) (4.12.2)\n",
      "Requirement already satisfied: comm>=0.1.3 in /srv/conda/lib/python3.11/site-packages (from ipywidgets>=7.0.0->cufflinks) (0.2.2)\n",
      "Requirement already satisfied: widgetsnbextension~=4.0.12 in /srv/conda/lib/python3.11/site-packages (from ipywidgets>=7.0.0->cufflinks) (4.0.13)\n",
      "Requirement already satisfied: jupyterlab_widgets~=3.0.12 in /srv/conda/lib/python3.11/site-packages (from ipywidgets>=7.0.0->cufflinks) (3.0.13)\n",
      "Requirement already satisfied: python-dateutil>=2.8.2 in /srv/conda/lib/python3.11/site-packages (from pandas>=0.19.2->cufflinks) (2.9.0.post0)\n",
      "Requirement already satisfied: pytz>=2020.1 in /srv/conda/lib/python3.11/site-packages (from pandas>=0.19.2->cufflinks) (2025.1)\n",
      "Requirement already satisfied: tzdata>=2022.7 in /srv/conda/lib/python3.11/site-packages (from pandas>=0.19.2->cufflinks) (2025.1)\n",
      "Requirement already satisfied: narwhals>=1.15.1 in /srv/conda/lib/python3.11/site-packages (from plotly>=4.1.1->cufflinks) (1.26.0)\n",
      "Requirement already satisfied: packaging in /srv/conda/lib/python3.11/site-packages (from plotly>=4.1.1->cufflinks) (24.2)\n",
      "Requirement already satisfied: parso<0.9.0,>=0.8.4 in /srv/conda/lib/python3.11/site-packages (from jedi>=0.16->ipython>=5.3.0->cufflinks) (0.8.4)\n",
      "Requirement already satisfied: ptyprocess>=0.5 in /srv/conda/lib/python3.11/site-packages (from pexpect>4.3->ipython>=5.3.0->cufflinks) (0.7.0)\n",
      "Requirement already satisfied: wcwidth in /srv/conda/lib/python3.11/site-packages (from prompt_toolkit<3.1.0,>=3.0.41->ipython>=5.3.0->cufflinks) (0.2.13)\n",
      "Requirement already satisfied: executing>=1.2.0 in /srv/conda/lib/python3.11/site-packages (from stack_data->ipython>=5.3.0->cufflinks) (2.1.0)\n",
      "Requirement already satisfied: asttokens>=2.1.0 in /srv/conda/lib/python3.11/site-packages (from stack_data->ipython>=5.3.0->cufflinks) (3.0.0)\n",
      "Requirement already satisfied: pure_eval in /srv/conda/lib/python3.11/site-packages (from stack_data->ipython>=5.3.0->cufflinks) (0.2.3)\n",
      "Note: you may need to restart the kernel to use updated packages.\n",
      "Requirement already satisfied: eep153_tools in /srv/conda/lib/python3.11/site-packages (0.12.4)\n",
      "Note: you may need to restart the kernel to use updated packages.\n",
      "Requirement already satisfied: plotly in /srv/conda/lib/python3.11/site-packages (6.0.0)\n",
      "Requirement already satisfied: narwhals>=1.15.1 in /srv/conda/lib/python3.11/site-packages (from plotly) (1.26.0)\n",
      "Requirement already satisfied: packaging in /srv/conda/lib/python3.11/site-packages (from plotly) (24.2)\n",
      "Note: you may need to restart the kernel to use updated packages.\n",
      "Requirement already satisfied: kagglehub in /srv/conda/lib/python3.11/site-packages (0.3.7)\n",
      "Requirement already satisfied: model-signing in /srv/conda/lib/python3.11/site-packages (from kagglehub) (0.2.0)\n",
      "Requirement already satisfied: packaging in /srv/conda/lib/python3.11/site-packages (from kagglehub) (24.2)\n",
      "Requirement already satisfied: requests in /srv/conda/lib/python3.11/site-packages (from kagglehub) (2.32.3)\n",
      "Requirement already satisfied: tqdm in /srv/conda/lib/python3.11/site-packages (from kagglehub) (4.67.1)\n",
      "Requirement already satisfied: cryptography in /srv/conda/lib/python3.11/site-packages (from model-signing->kagglehub) (44.0.1)\n",
      "Requirement already satisfied: in-toto-attestation in /srv/conda/lib/python3.11/site-packages (from model-signing->kagglehub) (0.9.3)\n",
      "Requirement already satisfied: sigstore in /srv/conda/lib/python3.11/site-packages (from model-signing->kagglehub) (3.6.1)\n",
      "Requirement already satisfied: typing-extensions in /srv/conda/lib/python3.11/site-packages (from model-signing->kagglehub) (4.12.2)\n",
      "Requirement already satisfied: charset_normalizer<4,>=2 in /srv/conda/lib/python3.11/site-packages (from requests->kagglehub) (3.4.0)\n",
      "Requirement already satisfied: idna<4,>=2.5 in /srv/conda/lib/python3.11/site-packages (from requests->kagglehub) (3.10)\n",
      "Requirement already satisfied: urllib3<3,>=1.21.1 in /srv/conda/lib/python3.11/site-packages (from requests->kagglehub) (2.3.0)\n",
      "Requirement already satisfied: certifi>=2017.4.17 in /srv/conda/lib/python3.11/site-packages (from requests->kagglehub) (2024.12.14)\n",
      "Requirement already satisfied: cffi>=1.12 in /srv/conda/lib/python3.11/site-packages (from cryptography->model-signing->kagglehub) (1.17.1)\n",
      "Requirement already satisfied: protobuf in /srv/conda/lib/python3.11/site-packages (from in-toto-attestation->model-signing->kagglehub) (5.28.3)\n",
      "Requirement already satisfied: id>=1.1.0 in /srv/conda/lib/python3.11/site-packages (from sigstore->model-signing->kagglehub) (1.5.0)\n",
      "Requirement already satisfied: pyasn1~=0.6 in /srv/conda/lib/python3.11/site-packages (from sigstore->model-signing->kagglehub) (0.6.1)\n",
      "Requirement already satisfied: pydantic<3,>=2 in /srv/conda/lib/python3.11/site-packages (from sigstore->model-signing->kagglehub) (2.10.5)\n",
      "Requirement already satisfied: pyjwt>=2.1 in /srv/conda/lib/python3.11/site-packages (from sigstore->model-signing->kagglehub) (2.10.1)\n",
      "Requirement already satisfied: pyOpenSSL>=23.0.0 in /srv/conda/lib/python3.11/site-packages (from sigstore->model-signing->kagglehub) (25.0.0)\n",
      "Requirement already satisfied: rich~=13.0 in /srv/conda/lib/python3.11/site-packages (from sigstore->model-signing->kagglehub) (13.9.4)\n",
      "Requirement already satisfied: rfc8785~=0.1.2 in /srv/conda/lib/python3.11/site-packages (from sigstore->model-signing->kagglehub) (0.1.4)\n",
      "Requirement already satisfied: rfc3161-client~=0.1.2 in /srv/conda/lib/python3.11/site-packages (from sigstore->model-signing->kagglehub) (0.1.2)\n",
      "Requirement already satisfied: sigstore-protobuf-specs==0.3.2 in /srv/conda/lib/python3.11/site-packages (from sigstore->model-signing->kagglehub) (0.3.2)\n",
      "Requirement already satisfied: sigstore-rekor-types==0.0.18 in /srv/conda/lib/python3.11/site-packages (from sigstore->model-signing->kagglehub) (0.0.18)\n",
      "Requirement already satisfied: tuf~=5.0 in /srv/conda/lib/python3.11/site-packages (from sigstore->model-signing->kagglehub) (5.1.0)\n",
      "Requirement already satisfied: platformdirs~=4.2 in /srv/conda/lib/python3.11/site-packages (from sigstore->model-signing->kagglehub) (4.3.6)\n",
      "Requirement already satisfied: betterproto==2.0.0b6 in /srv/conda/lib/python3.11/site-packages (from sigstore-protobuf-specs==0.3.2->sigstore->model-signing->kagglehub) (2.0.0b6)\n",
      "Requirement already satisfied: grpclib<0.5.0,>=0.4.1 in /srv/conda/lib/python3.11/site-packages (from betterproto==2.0.0b6->sigstore-protobuf-specs==0.3.2->sigstore->model-signing->kagglehub) (0.4.7)\n",
      "Requirement already satisfied: python-dateutil<3.0,>=2.8 in /srv/conda/lib/python3.11/site-packages (from betterproto==2.0.0b6->sigstore-protobuf-specs==0.3.2->sigstore->model-signing->kagglehub) (2.9.0.post0)\n",
      "Requirement already satisfied: pycparser in /srv/conda/lib/python3.11/site-packages (from cffi>=1.12->cryptography->model-signing->kagglehub) (2.22)\n",
      "Requirement already satisfied: annotated-types>=0.6.0 in /srv/conda/lib/python3.11/site-packages (from pydantic<3,>=2->sigstore->model-signing->kagglehub) (0.7.0)\n",
      "Requirement already satisfied: pydantic-core==2.27.2 in /srv/conda/lib/python3.11/site-packages (from pydantic<3,>=2->sigstore->model-signing->kagglehub) (2.27.2)\n",
      "Requirement already satisfied: markdown-it-py>=2.2.0 in /srv/conda/lib/python3.11/site-packages (from rich~=13.0->sigstore->model-signing->kagglehub) (3.0.0)\n",
      "Requirement already satisfied: pygments<3.0.0,>=2.13.0 in /srv/conda/lib/python3.11/site-packages (from rich~=13.0->sigstore->model-signing->kagglehub) (2.19.1)\n",
      "Requirement already satisfied: securesystemslib~=1.0 in /srv/conda/lib/python3.11/site-packages (from tuf~=5.0->sigstore->model-signing->kagglehub) (1.2.0)\n",
      "Requirement already satisfied: mdurl~=0.1 in /srv/conda/lib/python3.11/site-packages (from markdown-it-py>=2.2.0->rich~=13.0->sigstore->model-signing->kagglehub) (0.1.2)\n",
      "Requirement already satisfied: email-validator>=2.0.0 in /srv/conda/lib/python3.11/site-packages (from pydantic[email]<3,>=2->sigstore-rekor-types==0.0.18->sigstore->model-signing->kagglehub) (2.2.0)\n",
      "Requirement already satisfied: dnspython>=2.0.0 in /srv/conda/lib/python3.11/site-packages (from email-validator>=2.0.0->pydantic[email]<3,>=2->sigstore-rekor-types==0.0.18->sigstore->model-signing->kagglehub) (2.7.0)\n",
      "Requirement already satisfied: h2<5,>=3.1.0 in /srv/conda/lib/python3.11/site-packages (from grpclib<0.5.0,>=0.4.1->betterproto==2.0.0b6->sigstore-protobuf-specs==0.3.2->sigstore->model-signing->kagglehub) (4.1.0)\n",
      "Requirement already satisfied: multidict in /srv/conda/lib/python3.11/site-packages (from grpclib<0.5.0,>=0.4.1->betterproto==2.0.0b6->sigstore-protobuf-specs==0.3.2->sigstore->model-signing->kagglehub) (6.1.0)\n",
      "Requirement already satisfied: six>=1.5 in /srv/conda/lib/python3.11/site-packages (from python-dateutil<3.0,>=2.8->betterproto==2.0.0b6->sigstore-protobuf-specs==0.3.2->sigstore->model-signing->kagglehub) (1.17.0)\n",
      "Requirement already satisfied: hyperframe<7,>=6.0 in /srv/conda/lib/python3.11/site-packages (from h2<5,>=3.1.0->grpclib<0.5.0,>=0.4.1->betterproto==2.0.0b6->sigstore-protobuf-specs==0.3.2->sigstore->model-signing->kagglehub) (6.0.1)\n",
      "Requirement already satisfied: hpack<5,>=4.0 in /srv/conda/lib/python3.11/site-packages (from h2<5,>=3.1.0->grpclib<0.5.0,>=0.4.1->betterproto==2.0.0b6->sigstore-protobuf-specs==0.3.2->sigstore->model-signing->kagglehub) (4.0.0)\n",
      "Note: you may need to restart the kernel to use updated packages.\n",
      "\u001b[31mERROR: Could not find a version that satisfies the requirement os (from versions: none)\u001b[0m\u001b[31m\n",
      "\u001b[0m\u001b[31mERROR: No matching distribution found for os\u001b[0m\u001b[31m\n",
      "Note: you may need to restart the kernel to use updated packages.\n",
      "Requirement already satisfied: geopandas in /srv/conda/lib/python3.11/site-packages (1.0.1)\n",
      "Requirement already satisfied: pandas in /srv/conda/lib/python3.11/site-packages (2.2.3)\n",
      "Requirement already satisfied: matplotlib in /srv/conda/lib/python3.11/site-packages (3.10.0)\n",
      "Requirement already satisfied: ffmpeg-python in /srv/conda/lib/python3.11/site-packages (0.2.0)\n",
      "Requirement already satisfied: numpy>=1.22 in /srv/conda/lib/python3.11/site-packages (from geopandas) (2.2.2)\n",
      "Requirement already satisfied: pyogrio>=0.7.2 in /srv/conda/lib/python3.11/site-packages (from geopandas) (0.10.0)\n",
      "Requirement already satisfied: packaging in /srv/conda/lib/python3.11/site-packages (from geopandas) (24.2)\n",
      "Requirement already satisfied: pyproj>=3.3.0 in /srv/conda/lib/python3.11/site-packages (from geopandas) (3.7.0)\n",
      "Requirement already satisfied: shapely>=2.0.0 in /srv/conda/lib/python3.11/site-packages (from geopandas) (2.0.7)\n",
      "Requirement already satisfied: python-dateutil>=2.8.2 in /srv/conda/lib/python3.11/site-packages (from pandas) (2.9.0.post0)\n",
      "Requirement already satisfied: pytz>=2020.1 in /srv/conda/lib/python3.11/site-packages (from pandas) (2025.1)\n",
      "Requirement already satisfied: tzdata>=2022.7 in /srv/conda/lib/python3.11/site-packages (from pandas) (2025.1)\n",
      "Requirement already satisfied: contourpy>=1.0.1 in /srv/conda/lib/python3.11/site-packages (from matplotlib) (1.3.1)\n",
      "Requirement already satisfied: cycler>=0.10 in /srv/conda/lib/python3.11/site-packages (from matplotlib) (0.12.1)\n",
      "Requirement already satisfied: fonttools>=4.22.0 in /srv/conda/lib/python3.11/site-packages (from matplotlib) (4.56.0)\n",
      "Requirement already satisfied: kiwisolver>=1.3.1 in /srv/conda/lib/python3.11/site-packages (from matplotlib) (1.4.7)\n",
      "Requirement already satisfied: pillow>=8 in /srv/conda/lib/python3.11/site-packages (from matplotlib) (11.1.0)\n",
      "Requirement already satisfied: pyparsing>=2.3.1 in /srv/conda/lib/python3.11/site-packages (from matplotlib) (3.2.1)\n",
      "Requirement already satisfied: future in /srv/conda/lib/python3.11/site-packages (from ffmpeg-python) (1.0.0)\n",
      "Requirement already satisfied: certifi in /srv/conda/lib/python3.11/site-packages (from pyogrio>=0.7.2->geopandas) (2024.12.14)\n",
      "Requirement already satisfied: six>=1.5 in /srv/conda/lib/python3.11/site-packages (from python-dateutil>=2.8.2->pandas) (1.17.0)\n",
      "Note: you may need to restart the kernel to use updated packages.\n"
     ]
    },
    {
     "data": {
      "text/html": [
       "        <script type=\"text/javascript\">\n",
       "        window.PlotlyConfig = {MathJaxConfig: 'local'};\n",
       "        if (window.MathJax && window.MathJax.Hub && window.MathJax.Hub.Config) {window.MathJax.Hub.Config({SVG: {font: \"STIX-Web\"}});}\n",
       "        </script>\n",
       "        <script type=\"module\">import \"https://cdn.plot.ly/plotly-3.0.0.min\"</script>\n",
       "        "
      ]
     },
     "metadata": {},
     "output_type": "display_data"
    }
   ],
   "source": [
    "%pip install wbdata\n",
    "%pip install pandas\n",
    "%pip install iso3166\n",
    "%pip install cufflinks\n",
    "%pip install eep153_tools\n",
    "%pip install plotly\n",
    "%pip install kagglehub\n",
    "%pip install os\n",
    "%pip install geopandas pandas matplotlib ffmpeg-python\n",
    "\n",
    "import wbdata\n",
    "import pandas as pd\n",
    "import geopandas as gpd\n",
    "import math\n",
    "import iso3166\n",
    "import plotly.offline as py\n",
    "from scipy.optimize import newton\n",
    "import plotly.graph_objs as go\n",
    "import numpy as np\n",
    "import cufflinks as cf\n",
    "from matplotlib import animation as ani\n",
    "import matplotlib.pyplot as plt\n",
    "import kagglehub\n",
    "import os\n",
    "cf.go_offline()"
   ]
  },
  {
   "cell_type": "code",
   "execution_count": 3,
   "id": "623731c9-1ddd-4eb2-aedf-5f0b83390222",
   "metadata": {},
   "outputs": [
    {
     "name": "stderr",
     "output_type": "stream",
     "text": [
      "Key '-6863262574007325440' not in persistent cache.\n",
      "WARNING:shelved_cache.persistent_cache:Key '5566785533764419722' not in persistent cache.\n",
      "WARNING:shelved_cache.persistent_cache:Key '1187828204173615210' not in persistent cache.\n",
      "WARNING:shelved_cache.persistent_cache:Key '6153948898705124525' not in persistent cache.\n",
      "WARNING:shelved_cache.persistent_cache:Key '9115674372517093213' not in persistent cache.\n",
      "WARNING:shelved_cache.persistent_cache:Key '3016252049887961672' not in persistent cache.\n",
      "WARNING:shelved_cache.persistent_cache:Key '-2656134242532207861' not in persistent cache.\n",
      "WARNING:shelved_cache.persistent_cache:Key '-6622484533515330089' not in persistent cache.\n",
      "WARNING:shelved_cache.persistent_cache:Key '1984211571803696527' not in persistent cache.\n",
      "WARNING:shelved_cache.persistent_cache:Key '4793765315720041769' not in persistent cache.\n",
      "WARNING:shelved_cache.persistent_cache:Key '7608192255367322808' not in persistent cache.\n",
      "WARNING:shelved_cache.persistent_cache:Key '-4352025583196504160' not in persistent cache.\n",
      "WARNING:shelved_cache.persistent_cache:Key '1651805795344089720' not in persistent cache.\n",
      "WARNING:shelved_cache.persistent_cache:Key '-2073851347117838915' not in persistent cache.\n",
      "WARNING:shelved_cache.persistent_cache:Key '1994599521053595021' not in persistent cache.\n",
      "WARNING:shelved_cache.persistent_cache:Key '3420077698356937474' not in persistent cache.\n",
      "WARNING:shelved_cache.persistent_cache:Key '2226860508230433684' not in persistent cache.\n",
      "WARNING:shelved_cache.persistent_cache:Key '-3085498299319805369' not in persistent cache.\n",
      "WARNING:shelved_cache.persistent_cache:Key '5244970947586890642' not in persistent cache.\n",
      "WARNING:shelved_cache.persistent_cache:Key '3918581509865649248' not in persistent cache.\n",
      "WARNING:shelved_cache.persistent_cache:Key '9201044212765446597' not in persistent cache.\n",
      "WARNING:shelved_cache.persistent_cache:Key '-2628727648723599784' not in persistent cache.\n",
      "WARNING:shelved_cache.persistent_cache:Key '3636794254467264122' not in persistent cache.\n",
      "WARNING:shelved_cache.persistent_cache:Key '-3635770439796631274' not in persistent cache.\n",
      "WARNING:shelved_cache.persistent_cache:Key '320129075079663997' not in persistent cache.\n",
      "WARNING:shelved_cache.persistent_cache:Key '-8555174482464097953' not in persistent cache.\n",
      "WARNING:shelved_cache.persistent_cache:Key '-6762134801093636695' not in persistent cache.\n",
      "WARNING:shelved_cache.persistent_cache:Key '-3281102495478818168' not in persistent cache.\n",
      "WARNING:shelved_cache.persistent_cache:Key '8654235946111500724' not in persistent cache.\n",
      "WARNING:shelved_cache.persistent_cache:Key '6425023958070913455' not in persistent cache.\n",
      "WARNING:shelved_cache.persistent_cache:Key '-7027652401695011426' not in persistent cache.\n",
      "WARNING:shelved_cache.persistent_cache:Key '-5442531066322758424' not in persistent cache.\n",
      "WARNING:shelved_cache.persistent_cache:Key '8666661286723699135' not in persistent cache.\n",
      "WARNING:shelved_cache.persistent_cache:Key '4484115663203835848' not in persistent cache.\n"
     ]
    },
    {
     "data": {
      "text/html": [
       "<div>\n",
       "<style scoped>\n",
       "    .dataframe tbody tr th:only-of-type {\n",
       "        vertical-align: middle;\n",
       "    }\n",
       "\n",
       "    .dataframe tbody tr th {\n",
       "        vertical-align: top;\n",
       "    }\n",
       "\n",
       "    .dataframe thead th {\n",
       "        text-align: right;\n",
       "    }\n",
       "</style>\n",
       "<table border=\"1\" class=\"dataframe\">\n",
       "  <thead>\n",
       "    <tr style=\"text-align: right;\">\n",
       "      <th></th>\n",
       "      <th>Year</th>\n",
       "      <th>Country</th>\n",
       "      <th>Ages</th>\n",
       "      <th>Male</th>\n",
       "      <th>Female</th>\n",
       "    </tr>\n",
       "  </thead>\n",
       "  <tbody>\n",
       "    <tr>\n",
       "      <th>0</th>\n",
       "      <td>1990</td>\n",
       "      <td>Brazil</td>\n",
       "      <td>0-4</td>\n",
       "      <td>9151216.0</td>\n",
       "      <td>8854763.0</td>\n",
       "    </tr>\n",
       "    <tr>\n",
       "      <th>1</th>\n",
       "      <td>1990</td>\n",
       "      <td>Brazil</td>\n",
       "      <td>5-9</td>\n",
       "      <td>9196771.0</td>\n",
       "      <td>8954043.0</td>\n",
       "    </tr>\n",
       "    <tr>\n",
       "      <th>2</th>\n",
       "      <td>1990</td>\n",
       "      <td>Brazil</td>\n",
       "      <td>10-14</td>\n",
       "      <td>8466552.0</td>\n",
       "      <td>8308372.0</td>\n",
       "    </tr>\n",
       "    <tr>\n",
       "      <th>3</th>\n",
       "      <td>1990</td>\n",
       "      <td>Brazil</td>\n",
       "      <td>15-19</td>\n",
       "      <td>7560006.0</td>\n",
       "      <td>7459561.0</td>\n",
       "    </tr>\n",
       "    <tr>\n",
       "      <th>4</th>\n",
       "      <td>1990</td>\n",
       "      <td>Brazil</td>\n",
       "      <td>20-24</td>\n",
       "      <td>6937745.0</td>\n",
       "      <td>6889244.0</td>\n",
       "    </tr>\n",
       "    <tr>\n",
       "      <th>5</th>\n",
       "      <td>1990</td>\n",
       "      <td>Brazil</td>\n",
       "      <td>25-29</td>\n",
       "      <td>6573141.0</td>\n",
       "      <td>6565302.0</td>\n",
       "    </tr>\n",
       "    <tr>\n",
       "      <th>6</th>\n",
       "      <td>1990</td>\n",
       "      <td>Brazil</td>\n",
       "      <td>30-34</td>\n",
       "      <td>5733650.0</td>\n",
       "      <td>5755618.0</td>\n",
       "    </tr>\n",
       "    <tr>\n",
       "      <th>7</th>\n",
       "      <td>1990</td>\n",
       "      <td>Brazil</td>\n",
       "      <td>35-39</td>\n",
       "      <td>4783833.0</td>\n",
       "      <td>4835453.0</td>\n",
       "    </tr>\n",
       "    <tr>\n",
       "      <th>8</th>\n",
       "      <td>1990</td>\n",
       "      <td>Brazil</td>\n",
       "      <td>40-44</td>\n",
       "      <td>3800667.0</td>\n",
       "      <td>3848138.0</td>\n",
       "    </tr>\n",
       "    <tr>\n",
       "      <th>9</th>\n",
       "      <td>1990</td>\n",
       "      <td>Brazil</td>\n",
       "      <td>45-49</td>\n",
       "      <td>3089321.0</td>\n",
       "      <td>3037437.0</td>\n",
       "    </tr>\n",
       "    <tr>\n",
       "      <th>10</th>\n",
       "      <td>1990</td>\n",
       "      <td>Brazil</td>\n",
       "      <td>50-54</td>\n",
       "      <td>2551819.0</td>\n",
       "      <td>2626940.0</td>\n",
       "    </tr>\n",
       "    <tr>\n",
       "      <th>11</th>\n",
       "      <td>1990</td>\n",
       "      <td>Brazil</td>\n",
       "      <td>55-59</td>\n",
       "      <td>2067593.0</td>\n",
       "      <td>2329410.0</td>\n",
       "    </tr>\n",
       "    <tr>\n",
       "      <th>12</th>\n",
       "      <td>1990</td>\n",
       "      <td>Brazil</td>\n",
       "      <td>60-64</td>\n",
       "      <td>1670483.0</td>\n",
       "      <td>1950410.0</td>\n",
       "    </tr>\n",
       "    <tr>\n",
       "      <th>13</th>\n",
       "      <td>1990</td>\n",
       "      <td>Brazil</td>\n",
       "      <td>65-69</td>\n",
       "      <td>1203242.0</td>\n",
       "      <td>1419071.0</td>\n",
       "    </tr>\n",
       "    <tr>\n",
       "      <th>14</th>\n",
       "      <td>1990</td>\n",
       "      <td>Brazil</td>\n",
       "      <td>70-74</td>\n",
       "      <td>769068.0</td>\n",
       "      <td>936899.0</td>\n",
       "    </tr>\n",
       "    <tr>\n",
       "      <th>15</th>\n",
       "      <td>1990</td>\n",
       "      <td>Brazil</td>\n",
       "      <td>75-79</td>\n",
       "      <td>456292.0</td>\n",
       "      <td>589271.0</td>\n",
       "    </tr>\n",
       "    <tr>\n",
       "      <th>16</th>\n",
       "      <td>1990</td>\n",
       "      <td>Brazil</td>\n",
       "      <td>80+</td>\n",
       "      <td>321235.0</td>\n",
       "      <td>450661.0</td>\n",
       "    </tr>\n",
       "  </tbody>\n",
       "</table>\n",
       "</div>"
      ],
      "text/plain": [
       "    Year Country   Ages       Male     Female\n",
       "0   1990  Brazil    0-4  9151216.0  8854763.0\n",
       "1   1990  Brazil    5-9  9196771.0  8954043.0\n",
       "2   1990  Brazil  10-14  8466552.0  8308372.0\n",
       "3   1990  Brazil  15-19  7560006.0  7459561.0\n",
       "4   1990  Brazil  20-24  6937745.0  6889244.0\n",
       "5   1990  Brazil  25-29  6573141.0  6565302.0\n",
       "6   1990  Brazil  30-34  5733650.0  5755618.0\n",
       "7   1990  Brazil  35-39  4783833.0  4835453.0\n",
       "8   1990  Brazil  40-44  3800667.0  3848138.0\n",
       "9   1990  Brazil  45-49  3089321.0  3037437.0\n",
       "10  1990  Brazil  50-54  2551819.0  2626940.0\n",
       "11  1990  Brazil  55-59  2067593.0  2329410.0\n",
       "12  1990  Brazil  60-64  1670483.0  1950410.0\n",
       "13  1990  Brazil  65-69  1203242.0  1419071.0\n",
       "14  1990  Brazil  70-74   769068.0   936899.0\n",
       "15  1990  Brazil  75-79   456292.0   589271.0\n",
       "16  1990  Brazil    80+   321235.0   450661.0"
      ]
     },
     "execution_count": 3,
     "metadata": {},
     "output_type": "execute_result"
    }
   ],
   "source": [
    "def new_pop_df(year, sex, country):\n",
    "    def age_helper(age_range):\n",
    "        lower, upper = age_range\n",
    "        start = (lower // 5) * 5\n",
    "        age_ranges = []\n",
    "        for age in range(start, upper + 1, 5):\n",
    "            if age >= 80:\n",
    "                age_ranges.append(\"80UP\")\n",
    "                break\n",
    "            next_age = age + 4\n",
    "            if next_age >= 80:\n",
    "                age_ranges.append(\"80UP\")\n",
    "                break\n",
    "            age_ranges.append(f\"{age:02d}{next_age:02d}\")\n",
    "        return age_ranges\n",
    "\n",
    "    # Generate the age ranges\n",
    "    age_ranges = age_helper((0, 81))\n",
    "\n",
    "    # Get country codes\n",
    "    if country.lower() == \"world\":\n",
    "        name_alpha3 = \"WLD\"\n",
    "        name_actual = \"World\"\n",
    "    else:\n",
    "        name_alpha3 = iso3166.countries.get(country).alpha3\n",
    "        name_actual = iso3166.countries.get(country).apolitical_name\n",
    "\n",
    "    # Construct the indicator codes\n",
    "    indicator = 'SP.POP.'\n",
    "    male_indicators = [f\"{indicator}{age}.MA\" for age in age_ranges]\n",
    "    female_indicators = [f\"{indicator}{age}.FE\" for age in age_ranges]\n",
    "\n",
    "    # Initialize DataFrames\n",
    "    final = pd.DataFrame()\n",
    "    female = pd.DataFrame()\n",
    "\n",
    "    # Fetch male data\n",
    "    for i in male_indicators:\n",
    "        hold = {i: \"Male\"}\n",
    "        retrieve_year = wbdata.get_dataframe(hold, country=name_alpha3, date=(str(year), str(year)), parse_dates=True)\n",
    "        retrieve_year = retrieve_year.reset_index()\n",
    "        retrieve_year[\"Country\"] = name_actual\n",
    "        final = pd.concat([final, retrieve_year], axis=0)\n",
    "\n",
    "    # Assign Age Groups\n",
    "    final[\"Ages\"] = [\"0-4\", \"5-9\", \"10-14\", \"15-19\", \"20-24\", \"25-29\", \"30-34\", \"35-39\", \n",
    "                     \"40-44\", \"45-49\", \"50-54\", \"55-59\", \"60-64\", \"65-69\", \"70-74\", \"75-79\", \"80+\"]\n",
    "\n",
    "    # Fetch female data\n",
    "    for i in female_indicators:\n",
    "        hold = {i: \"Female\"}\n",
    "        retrieve_year = wbdata.get_dataframe(hold, country=name_alpha3, date=(str(year), str(year)), parse_dates=True)\n",
    "        retrieve_year = retrieve_year.reset_index()\n",
    "        retrieve_year[\"Country\"] = name_actual\n",
    "        female = pd.concat([female, retrieve_year], axis=0)\n",
    "\n",
    "    # Assign Age Groups for Female Data\n",
    "    female[\"Ages\"] = final[\"Ages\"]\n",
    "\n",
    "    # Merge male and female data\n",
    "    final = final.merge(female, on=[\"Ages\", \"date\", \"Country\"], suffixes=(\"_Male\", \"_Female\"))\n",
    "\n",
    "    # Ensure the \"Year\" column contains only the year (YYYY)\n",
    "    final = final.rename(columns={\"date\": \"Year\", \"Male_Male\": \"Male\", \"Female_Female\": \"Female\"})\n",
    "    final[\"Year\"] = pd.to_datetime(final[\"Year\"]).dt.year  # Convert date to just year (YYYY format)\n",
    "\n",
    "    # Ensure correct column order\n",
    "    final = final[[\"Year\", \"Country\", \"Ages\", \"Male\", \"Female\"]]\n",
    "\n",
    "    return final\n",
    "\n",
    "# Example Usage\n",
    "result = new_pop_df(1990, 'both', 'Brazil')\n",
    "result  # Check output\n"
   ]
  },
  {
   "cell_type": "code",
   "execution_count": 6,
   "id": "fb9b6138-a956-4581-8d12-460108ac6106",
   "metadata": {},
   "outputs": [],
   "source": [
    "def population_pyramid(year, country):\n",
    "\n",
    "    data = new_pop_df(year,'both', 'Brazil')\n",
    "    y_age = data['Ages']\n",
    "    x_M = data['Male']\n",
    "    x_F = data['Female']*-1\n",
    "\n",
    "    new_year = str(year)\n",
    "    #creating instance of the figure\n",
    "    fig = go.Figure()\n",
    "\n",
    "    #Adding male data\n",
    "    fig.add_trace(go.Bar(y = y_age, x = x_M, name = 'Male', orientation = 'h'))\n",
    "\n",
    "    #Adding Female data\n",
    "    fig.add_trace(go.Bar(y = y_age, x = x_F, name = 'Female', orientation = 'h'))\n",
    "\n",
    "    #Updating layout of the figure\n",
    "    fig.update_layout(title = 'Brazil Population Pyramid (' + new_year + ')',\n",
    "                      title_font_size = 22, barmode = 'relative',\n",
    "                      bargap = 0.0, bargroupgap = 0,\n",
    "                      xaxis = dict(title = 'Population in Millions',\n",
    "                               title_font_size = 14\n",
    "                              )\n",
    "                 )\n",
    "    fig.show()"
   ]
  },
  {
   "cell_type": "code",
   "execution_count": 7,
   "id": "ca948d12-cb64-4431-80b1-44996ddba31c",
   "metadata": {},
   "outputs": [
    {
     "data": {
      "application/vnd.plotly.v1+json": {
       "config": {
        "plotlyServerURL": "https://plot.ly"
       },
       "data": [
        {
         "name": "Male",
         "orientation": "h",
         "type": "bar",
         "x": {
          "bdata": "AAAAIHC+YEEAAACgyJpgQQAAAGC/T2FBAAAAAKctYUEAAACAP+ReQQAAAEBlcFtBAAAAAIpvWUEAAAAAlcBXQQAAAEDaVFRBAAAAwIqtUEEAAAAADKRJQQAAAIA8fkRBAAAAANe3P0EAAAAADNE3QQAAAACnkzBBAAAAAObrIkEAAAAAqPAbQQ==",
          "dtype": "f8"
         },
         "y": [
          "0-4",
          "5-9",
          "10-14",
          "15-19",
          "20-24",
          "25-29",
          "30-34",
          "35-39",
          "40-44",
          "45-49",
          "50-54",
          "55-59",
          "60-64",
          "65-69",
          "70-74",
          "75-79",
          "80+"
         ]
        },
        {
         "name": "Female",
         "orientation": "h",
         "type": "bar",
         "x": {
          "bdata": "AAAAIAwnYMEAAABAdRNgwQAAACAm12DBAAAAQI/XYMEAAAAARKhewQAAAACbfFvBAAAAACWkWcEAAAAADxVYwQAAAIAxxlTBAAAAQFVAUcEAAACAoplKwQAAAAB/I0XBAAAAgPDHQcEAAAAAA9M9wQAAAADXAzbBAAAAAFxkKsEAAAAAXu0kwQ==",
          "dtype": "f8"
         },
         "y": [
          "0-4",
          "5-9",
          "10-14",
          "15-19",
          "20-24",
          "25-29",
          "30-34",
          "35-39",
          "40-44",
          "45-49",
          "50-54",
          "55-59",
          "60-64",
          "65-69",
          "70-74",
          "75-79",
          "80+"
         ]
        }
       ],
       "layout": {
        "bargap": 0,
        "bargroupgap": 0,
        "barmode": "relative",
        "template": {
         "data": {
          "bar": [
           {
            "error_x": {
             "color": "#2a3f5f"
            },
            "error_y": {
             "color": "#2a3f5f"
            },
            "marker": {
             "line": {
              "color": "#E5ECF6",
              "width": 0.5
             },
             "pattern": {
              "fillmode": "overlay",
              "size": 10,
              "solidity": 0.2
             }
            },
            "type": "bar"
           }
          ],
          "barpolar": [
           {
            "marker": {
             "line": {
              "color": "#E5ECF6",
              "width": 0.5
             },
             "pattern": {
              "fillmode": "overlay",
              "size": 10,
              "solidity": 0.2
             }
            },
            "type": "barpolar"
           }
          ],
          "carpet": [
           {
            "aaxis": {
             "endlinecolor": "#2a3f5f",
             "gridcolor": "white",
             "linecolor": "white",
             "minorgridcolor": "white",
             "startlinecolor": "#2a3f5f"
            },
            "baxis": {
             "endlinecolor": "#2a3f5f",
             "gridcolor": "white",
             "linecolor": "white",
             "minorgridcolor": "white",
             "startlinecolor": "#2a3f5f"
            },
            "type": "carpet"
           }
          ],
          "choropleth": [
           {
            "colorbar": {
             "outlinewidth": 0,
             "ticks": ""
            },
            "type": "choropleth"
           }
          ],
          "contour": [
           {
            "colorbar": {
             "outlinewidth": 0,
             "ticks": ""
            },
            "colorscale": [
             [
              0,
              "#0d0887"
             ],
             [
              0.1111111111111111,
              "#46039f"
             ],
             [
              0.2222222222222222,
              "#7201a8"
             ],
             [
              0.3333333333333333,
              "#9c179e"
             ],
             [
              0.4444444444444444,
              "#bd3786"
             ],
             [
              0.5555555555555556,
              "#d8576b"
             ],
             [
              0.6666666666666666,
              "#ed7953"
             ],
             [
              0.7777777777777778,
              "#fb9f3a"
             ],
             [
              0.8888888888888888,
              "#fdca26"
             ],
             [
              1,
              "#f0f921"
             ]
            ],
            "type": "contour"
           }
          ],
          "contourcarpet": [
           {
            "colorbar": {
             "outlinewidth": 0,
             "ticks": ""
            },
            "type": "contourcarpet"
           }
          ],
          "heatmap": [
           {
            "colorbar": {
             "outlinewidth": 0,
             "ticks": ""
            },
            "colorscale": [
             [
              0,
              "#0d0887"
             ],
             [
              0.1111111111111111,
              "#46039f"
             ],
             [
              0.2222222222222222,
              "#7201a8"
             ],
             [
              0.3333333333333333,
              "#9c179e"
             ],
             [
              0.4444444444444444,
              "#bd3786"
             ],
             [
              0.5555555555555556,
              "#d8576b"
             ],
             [
              0.6666666666666666,
              "#ed7953"
             ],
             [
              0.7777777777777778,
              "#fb9f3a"
             ],
             [
              0.8888888888888888,
              "#fdca26"
             ],
             [
              1,
              "#f0f921"
             ]
            ],
            "type": "heatmap"
           }
          ],
          "histogram": [
           {
            "marker": {
             "pattern": {
              "fillmode": "overlay",
              "size": 10,
              "solidity": 0.2
             }
            },
            "type": "histogram"
           }
          ],
          "histogram2d": [
           {
            "colorbar": {
             "outlinewidth": 0,
             "ticks": ""
            },
            "colorscale": [
             [
              0,
              "#0d0887"
             ],
             [
              0.1111111111111111,
              "#46039f"
             ],
             [
              0.2222222222222222,
              "#7201a8"
             ],
             [
              0.3333333333333333,
              "#9c179e"
             ],
             [
              0.4444444444444444,
              "#bd3786"
             ],
             [
              0.5555555555555556,
              "#d8576b"
             ],
             [
              0.6666666666666666,
              "#ed7953"
             ],
             [
              0.7777777777777778,
              "#fb9f3a"
             ],
             [
              0.8888888888888888,
              "#fdca26"
             ],
             [
              1,
              "#f0f921"
             ]
            ],
            "type": "histogram2d"
           }
          ],
          "histogram2dcontour": [
           {
            "colorbar": {
             "outlinewidth": 0,
             "ticks": ""
            },
            "colorscale": [
             [
              0,
              "#0d0887"
             ],
             [
              0.1111111111111111,
              "#46039f"
             ],
             [
              0.2222222222222222,
              "#7201a8"
             ],
             [
              0.3333333333333333,
              "#9c179e"
             ],
             [
              0.4444444444444444,
              "#bd3786"
             ],
             [
              0.5555555555555556,
              "#d8576b"
             ],
             [
              0.6666666666666666,
              "#ed7953"
             ],
             [
              0.7777777777777778,
              "#fb9f3a"
             ],
             [
              0.8888888888888888,
              "#fdca26"
             ],
             [
              1,
              "#f0f921"
             ]
            ],
            "type": "histogram2dcontour"
           }
          ],
          "mesh3d": [
           {
            "colorbar": {
             "outlinewidth": 0,
             "ticks": ""
            },
            "type": "mesh3d"
           }
          ],
          "parcoords": [
           {
            "line": {
             "colorbar": {
              "outlinewidth": 0,
              "ticks": ""
             }
            },
            "type": "parcoords"
           }
          ],
          "pie": [
           {
            "automargin": true,
            "type": "pie"
           }
          ],
          "scatter": [
           {
            "fillpattern": {
             "fillmode": "overlay",
             "size": 10,
             "solidity": 0.2
            },
            "type": "scatter"
           }
          ],
          "scatter3d": [
           {
            "line": {
             "colorbar": {
              "outlinewidth": 0,
              "ticks": ""
             }
            },
            "marker": {
             "colorbar": {
              "outlinewidth": 0,
              "ticks": ""
             }
            },
            "type": "scatter3d"
           }
          ],
          "scattercarpet": [
           {
            "marker": {
             "colorbar": {
              "outlinewidth": 0,
              "ticks": ""
             }
            },
            "type": "scattercarpet"
           }
          ],
          "scattergeo": [
           {
            "marker": {
             "colorbar": {
              "outlinewidth": 0,
              "ticks": ""
             }
            },
            "type": "scattergeo"
           }
          ],
          "scattergl": [
           {
            "marker": {
             "colorbar": {
              "outlinewidth": 0,
              "ticks": ""
             }
            },
            "type": "scattergl"
           }
          ],
          "scattermap": [
           {
            "marker": {
             "colorbar": {
              "outlinewidth": 0,
              "ticks": ""
             }
            },
            "type": "scattermap"
           }
          ],
          "scattermapbox": [
           {
            "marker": {
             "colorbar": {
              "outlinewidth": 0,
              "ticks": ""
             }
            },
            "type": "scattermapbox"
           }
          ],
          "scatterpolar": [
           {
            "marker": {
             "colorbar": {
              "outlinewidth": 0,
              "ticks": ""
             }
            },
            "type": "scatterpolar"
           }
          ],
          "scatterpolargl": [
           {
            "marker": {
             "colorbar": {
              "outlinewidth": 0,
              "ticks": ""
             }
            },
            "type": "scatterpolargl"
           }
          ],
          "scatterternary": [
           {
            "marker": {
             "colorbar": {
              "outlinewidth": 0,
              "ticks": ""
             }
            },
            "type": "scatterternary"
           }
          ],
          "surface": [
           {
            "colorbar": {
             "outlinewidth": 0,
             "ticks": ""
            },
            "colorscale": [
             [
              0,
              "#0d0887"
             ],
             [
              0.1111111111111111,
              "#46039f"
             ],
             [
              0.2222222222222222,
              "#7201a8"
             ],
             [
              0.3333333333333333,
              "#9c179e"
             ],
             [
              0.4444444444444444,
              "#bd3786"
             ],
             [
              0.5555555555555556,
              "#d8576b"
             ],
             [
              0.6666666666666666,
              "#ed7953"
             ],
             [
              0.7777777777777778,
              "#fb9f3a"
             ],
             [
              0.8888888888888888,
              "#fdca26"
             ],
             [
              1,
              "#f0f921"
             ]
            ],
            "type": "surface"
           }
          ],
          "table": [
           {
            "cells": {
             "fill": {
              "color": "#EBF0F8"
             },
             "line": {
              "color": "white"
             }
            },
            "header": {
             "fill": {
              "color": "#C8D4E3"
             },
             "line": {
              "color": "white"
             }
            },
            "type": "table"
           }
          ]
         },
         "layout": {
          "annotationdefaults": {
           "arrowcolor": "#2a3f5f",
           "arrowhead": 0,
           "arrowwidth": 1
          },
          "autotypenumbers": "strict",
          "coloraxis": {
           "colorbar": {
            "outlinewidth": 0,
            "ticks": ""
           }
          },
          "colorscale": {
           "diverging": [
            [
             0,
             "#8e0152"
            ],
            [
             0.1,
             "#c51b7d"
            ],
            [
             0.2,
             "#de77ae"
            ],
            [
             0.3,
             "#f1b6da"
            ],
            [
             0.4,
             "#fde0ef"
            ],
            [
             0.5,
             "#f7f7f7"
            ],
            [
             0.6,
             "#e6f5d0"
            ],
            [
             0.7,
             "#b8e186"
            ],
            [
             0.8,
             "#7fbc41"
            ],
            [
             0.9,
             "#4d9221"
            ],
            [
             1,
             "#276419"
            ]
           ],
           "sequential": [
            [
             0,
             "#0d0887"
            ],
            [
             0.1111111111111111,
             "#46039f"
            ],
            [
             0.2222222222222222,
             "#7201a8"
            ],
            [
             0.3333333333333333,
             "#9c179e"
            ],
            [
             0.4444444444444444,
             "#bd3786"
            ],
            [
             0.5555555555555556,
             "#d8576b"
            ],
            [
             0.6666666666666666,
             "#ed7953"
            ],
            [
             0.7777777777777778,
             "#fb9f3a"
            ],
            [
             0.8888888888888888,
             "#fdca26"
            ],
            [
             1,
             "#f0f921"
            ]
           ],
           "sequentialminus": [
            [
             0,
             "#0d0887"
            ],
            [
             0.1111111111111111,
             "#46039f"
            ],
            [
             0.2222222222222222,
             "#7201a8"
            ],
            [
             0.3333333333333333,
             "#9c179e"
            ],
            [
             0.4444444444444444,
             "#bd3786"
            ],
            [
             0.5555555555555556,
             "#d8576b"
            ],
            [
             0.6666666666666666,
             "#ed7953"
            ],
            [
             0.7777777777777778,
             "#fb9f3a"
            ],
            [
             0.8888888888888888,
             "#fdca26"
            ],
            [
             1,
             "#f0f921"
            ]
           ]
          },
          "colorway": [
           "#636efa",
           "#EF553B",
           "#00cc96",
           "#ab63fa",
           "#FFA15A",
           "#19d3f3",
           "#FF6692",
           "#B6E880",
           "#FF97FF",
           "#FECB52"
          ],
          "font": {
           "color": "#2a3f5f"
          },
          "geo": {
           "bgcolor": "white",
           "lakecolor": "white",
           "landcolor": "#E5ECF6",
           "showlakes": true,
           "showland": true,
           "subunitcolor": "white"
          },
          "hoverlabel": {
           "align": "left"
          },
          "hovermode": "closest",
          "mapbox": {
           "style": "light"
          },
          "paper_bgcolor": "white",
          "plot_bgcolor": "#E5ECF6",
          "polar": {
           "angularaxis": {
            "gridcolor": "white",
            "linecolor": "white",
            "ticks": ""
           },
           "bgcolor": "#E5ECF6",
           "radialaxis": {
            "gridcolor": "white",
            "linecolor": "white",
            "ticks": ""
           }
          },
          "scene": {
           "xaxis": {
            "backgroundcolor": "#E5ECF6",
            "gridcolor": "white",
            "gridwidth": 2,
            "linecolor": "white",
            "showbackground": true,
            "ticks": "",
            "zerolinecolor": "white"
           },
           "yaxis": {
            "backgroundcolor": "#E5ECF6",
            "gridcolor": "white",
            "gridwidth": 2,
            "linecolor": "white",
            "showbackground": true,
            "ticks": "",
            "zerolinecolor": "white"
           },
           "zaxis": {
            "backgroundcolor": "#E5ECF6",
            "gridcolor": "white",
            "gridwidth": 2,
            "linecolor": "white",
            "showbackground": true,
            "ticks": "",
            "zerolinecolor": "white"
           }
          },
          "shapedefaults": {
           "line": {
            "color": "#2a3f5f"
           }
          },
          "ternary": {
           "aaxis": {
            "gridcolor": "white",
            "linecolor": "white",
            "ticks": ""
           },
           "baxis": {
            "gridcolor": "white",
            "linecolor": "white",
            "ticks": ""
           },
           "bgcolor": "#E5ECF6",
           "caxis": {
            "gridcolor": "white",
            "linecolor": "white",
            "ticks": ""
           }
          },
          "title": {
           "x": 0.05
          },
          "xaxis": {
           "automargin": true,
           "gridcolor": "white",
           "linecolor": "white",
           "ticks": "",
           "title": {
            "standoff": 15
           },
           "zerolinecolor": "white",
           "zerolinewidth": 2
          },
          "yaxis": {
           "automargin": true,
           "gridcolor": "white",
           "linecolor": "white",
           "ticks": "",
           "title": {
            "standoff": 15
           },
           "zerolinecolor": "white",
           "zerolinewidth": 2
          }
         }
        },
        "title": {
         "font": {
          "size": 22
         },
         "text": "Brazil Population Pyramid (1999)"
        },
        "xaxis": {
         "title": {
          "font": {
           "size": 14
          },
          "text": "Population in Millions"
         }
        }
       }
      },
      "text/html": [
       "<div>            <script src=\"https://cdnjs.cloudflare.com/ajax/libs/mathjax/2.7.5/MathJax.js?config=TeX-AMS-MML_SVG\"></script><script type=\"text/javascript\">if (window.MathJax && window.MathJax.Hub && window.MathJax.Hub.Config) {window.MathJax.Hub.Config({SVG: {font: \"STIX-Web\"}});}</script>                <script type=\"text/javascript\">window.PlotlyConfig = {MathJaxConfig: 'local'};</script>\n",
       "        <script charset=\"utf-8\" src=\"https://cdn.plot.ly/plotly-3.0.0.min.js\"></script>                <div id=\"990b0543-e588-4255-8c73-0ca6b5f5283d\" class=\"plotly-graph-div\" style=\"height:525px; width:100%;\"></div>            <script type=\"text/javascript\">                window.PLOTLYENV=window.PLOTLYENV || {};                                if (document.getElementById(\"990b0543-e588-4255-8c73-0ca6b5f5283d\")) {                    Plotly.newPlot(                        \"990b0543-e588-4255-8c73-0ca6b5f5283d\",                        [{\"name\":\"Male\",\"orientation\":\"h\",\"x\":{\"dtype\":\"f8\",\"bdata\":\"AAAAIHC+YEEAAACgyJpgQQAAAGC\\u002fT2FBAAAAAKctYUEAAACAP+ReQQAAAEBlcFtBAAAAAIpvWUEAAAAAlcBXQQAAAEDaVFRBAAAAwIqtUEEAAAAADKRJQQAAAIA8fkRBAAAAANe3P0EAAAAADNE3QQAAAACnkzBBAAAAAObrIkEAAAAAqPAbQQ==\"},\"y\":[\"0-4\",\"5-9\",\"10-14\",\"15-19\",\"20-24\",\"25-29\",\"30-34\",\"35-39\",\"40-44\",\"45-49\",\"50-54\",\"55-59\",\"60-64\",\"65-69\",\"70-74\",\"75-79\",\"80+\"],\"type\":\"bar\"},{\"name\":\"Female\",\"orientation\":\"h\",\"x\":{\"dtype\":\"f8\",\"bdata\":\"AAAAIAwnYMEAAABAdRNgwQAAACAm12DBAAAAQI\\u002fXYMEAAAAARKhewQAAAACbfFvBAAAAACWkWcEAAAAADxVYwQAAAIAxxlTBAAAAQFVAUcEAAACAoplKwQAAAAB\\u002fI0XBAAAAgPDHQcEAAAAAA9M9wQAAAADXAzbBAAAAAFxkKsEAAAAAXu0kwQ==\"},\"y\":[\"0-4\",\"5-9\",\"10-14\",\"15-19\",\"20-24\",\"25-29\",\"30-34\",\"35-39\",\"40-44\",\"45-49\",\"50-54\",\"55-59\",\"60-64\",\"65-69\",\"70-74\",\"75-79\",\"80+\"],\"type\":\"bar\"}],                        {\"template\":{\"data\":{\"histogram2dcontour\":[{\"type\":\"histogram2dcontour\",\"colorbar\":{\"outlinewidth\":0,\"ticks\":\"\"},\"colorscale\":[[0.0,\"#0d0887\"],[0.1111111111111111,\"#46039f\"],[0.2222222222222222,\"#7201a8\"],[0.3333333333333333,\"#9c179e\"],[0.4444444444444444,\"#bd3786\"],[0.5555555555555556,\"#d8576b\"],[0.6666666666666666,\"#ed7953\"],[0.7777777777777778,\"#fb9f3a\"],[0.8888888888888888,\"#fdca26\"],[1.0,\"#f0f921\"]]}],\"choropleth\":[{\"type\":\"choropleth\",\"colorbar\":{\"outlinewidth\":0,\"ticks\":\"\"}}],\"histogram2d\":[{\"type\":\"histogram2d\",\"colorbar\":{\"outlinewidth\":0,\"ticks\":\"\"},\"colorscale\":[[0.0,\"#0d0887\"],[0.1111111111111111,\"#46039f\"],[0.2222222222222222,\"#7201a8\"],[0.3333333333333333,\"#9c179e\"],[0.4444444444444444,\"#bd3786\"],[0.5555555555555556,\"#d8576b\"],[0.6666666666666666,\"#ed7953\"],[0.7777777777777778,\"#fb9f3a\"],[0.8888888888888888,\"#fdca26\"],[1.0,\"#f0f921\"]]}],\"heatmap\":[{\"type\":\"heatmap\",\"colorbar\":{\"outlinewidth\":0,\"ticks\":\"\"},\"colorscale\":[[0.0,\"#0d0887\"],[0.1111111111111111,\"#46039f\"],[0.2222222222222222,\"#7201a8\"],[0.3333333333333333,\"#9c179e\"],[0.4444444444444444,\"#bd3786\"],[0.5555555555555556,\"#d8576b\"],[0.6666666666666666,\"#ed7953\"],[0.7777777777777778,\"#fb9f3a\"],[0.8888888888888888,\"#fdca26\"],[1.0,\"#f0f921\"]]}],\"contourcarpet\":[{\"type\":\"contourcarpet\",\"colorbar\":{\"outlinewidth\":0,\"ticks\":\"\"}}],\"contour\":[{\"type\":\"contour\",\"colorbar\":{\"outlinewidth\":0,\"ticks\":\"\"},\"colorscale\":[[0.0,\"#0d0887\"],[0.1111111111111111,\"#46039f\"],[0.2222222222222222,\"#7201a8\"],[0.3333333333333333,\"#9c179e\"],[0.4444444444444444,\"#bd3786\"],[0.5555555555555556,\"#d8576b\"],[0.6666666666666666,\"#ed7953\"],[0.7777777777777778,\"#fb9f3a\"],[0.8888888888888888,\"#fdca26\"],[1.0,\"#f0f921\"]]}],\"surface\":[{\"type\":\"surface\",\"colorbar\":{\"outlinewidth\":0,\"ticks\":\"\"},\"colorscale\":[[0.0,\"#0d0887\"],[0.1111111111111111,\"#46039f\"],[0.2222222222222222,\"#7201a8\"],[0.3333333333333333,\"#9c179e\"],[0.4444444444444444,\"#bd3786\"],[0.5555555555555556,\"#d8576b\"],[0.6666666666666666,\"#ed7953\"],[0.7777777777777778,\"#fb9f3a\"],[0.8888888888888888,\"#fdca26\"],[1.0,\"#f0f921\"]]}],\"mesh3d\":[{\"type\":\"mesh3d\",\"colorbar\":{\"outlinewidth\":0,\"ticks\":\"\"}}],\"scatter\":[{\"fillpattern\":{\"fillmode\":\"overlay\",\"size\":10,\"solidity\":0.2},\"type\":\"scatter\"}],\"parcoords\":[{\"type\":\"parcoords\",\"line\":{\"colorbar\":{\"outlinewidth\":0,\"ticks\":\"\"}}}],\"scatterpolargl\":[{\"type\":\"scatterpolargl\",\"marker\":{\"colorbar\":{\"outlinewidth\":0,\"ticks\":\"\"}}}],\"bar\":[{\"error_x\":{\"color\":\"#2a3f5f\"},\"error_y\":{\"color\":\"#2a3f5f\"},\"marker\":{\"line\":{\"color\":\"#E5ECF6\",\"width\":0.5},\"pattern\":{\"fillmode\":\"overlay\",\"size\":10,\"solidity\":0.2}},\"type\":\"bar\"}],\"scattergeo\":[{\"type\":\"scattergeo\",\"marker\":{\"colorbar\":{\"outlinewidth\":0,\"ticks\":\"\"}}}],\"scatterpolar\":[{\"type\":\"scatterpolar\",\"marker\":{\"colorbar\":{\"outlinewidth\":0,\"ticks\":\"\"}}}],\"histogram\":[{\"marker\":{\"pattern\":{\"fillmode\":\"overlay\",\"size\":10,\"solidity\":0.2}},\"type\":\"histogram\"}],\"scattergl\":[{\"type\":\"scattergl\",\"marker\":{\"colorbar\":{\"outlinewidth\":0,\"ticks\":\"\"}}}],\"scatter3d\":[{\"type\":\"scatter3d\",\"line\":{\"colorbar\":{\"outlinewidth\":0,\"ticks\":\"\"}},\"marker\":{\"colorbar\":{\"outlinewidth\":0,\"ticks\":\"\"}}}],\"scattermap\":[{\"type\":\"scattermap\",\"marker\":{\"colorbar\":{\"outlinewidth\":0,\"ticks\":\"\"}}}],\"scattermapbox\":[{\"type\":\"scattermapbox\",\"marker\":{\"colorbar\":{\"outlinewidth\":0,\"ticks\":\"\"}}}],\"scatterternary\":[{\"type\":\"scatterternary\",\"marker\":{\"colorbar\":{\"outlinewidth\":0,\"ticks\":\"\"}}}],\"scattercarpet\":[{\"type\":\"scattercarpet\",\"marker\":{\"colorbar\":{\"outlinewidth\":0,\"ticks\":\"\"}}}],\"carpet\":[{\"aaxis\":{\"endlinecolor\":\"#2a3f5f\",\"gridcolor\":\"white\",\"linecolor\":\"white\",\"minorgridcolor\":\"white\",\"startlinecolor\":\"#2a3f5f\"},\"baxis\":{\"endlinecolor\":\"#2a3f5f\",\"gridcolor\":\"white\",\"linecolor\":\"white\",\"minorgridcolor\":\"white\",\"startlinecolor\":\"#2a3f5f\"},\"type\":\"carpet\"}],\"table\":[{\"cells\":{\"fill\":{\"color\":\"#EBF0F8\"},\"line\":{\"color\":\"white\"}},\"header\":{\"fill\":{\"color\":\"#C8D4E3\"},\"line\":{\"color\":\"white\"}},\"type\":\"table\"}],\"barpolar\":[{\"marker\":{\"line\":{\"color\":\"#E5ECF6\",\"width\":0.5},\"pattern\":{\"fillmode\":\"overlay\",\"size\":10,\"solidity\":0.2}},\"type\":\"barpolar\"}],\"pie\":[{\"automargin\":true,\"type\":\"pie\"}]},\"layout\":{\"autotypenumbers\":\"strict\",\"colorway\":[\"#636efa\",\"#EF553B\",\"#00cc96\",\"#ab63fa\",\"#FFA15A\",\"#19d3f3\",\"#FF6692\",\"#B6E880\",\"#FF97FF\",\"#FECB52\"],\"font\":{\"color\":\"#2a3f5f\"},\"hovermode\":\"closest\",\"hoverlabel\":{\"align\":\"left\"},\"paper_bgcolor\":\"white\",\"plot_bgcolor\":\"#E5ECF6\",\"polar\":{\"bgcolor\":\"#E5ECF6\",\"angularaxis\":{\"gridcolor\":\"white\",\"linecolor\":\"white\",\"ticks\":\"\"},\"radialaxis\":{\"gridcolor\":\"white\",\"linecolor\":\"white\",\"ticks\":\"\"}},\"ternary\":{\"bgcolor\":\"#E5ECF6\",\"aaxis\":{\"gridcolor\":\"white\",\"linecolor\":\"white\",\"ticks\":\"\"},\"baxis\":{\"gridcolor\":\"white\",\"linecolor\":\"white\",\"ticks\":\"\"},\"caxis\":{\"gridcolor\":\"white\",\"linecolor\":\"white\",\"ticks\":\"\"}},\"coloraxis\":{\"colorbar\":{\"outlinewidth\":0,\"ticks\":\"\"}},\"colorscale\":{\"sequential\":[[0.0,\"#0d0887\"],[0.1111111111111111,\"#46039f\"],[0.2222222222222222,\"#7201a8\"],[0.3333333333333333,\"#9c179e\"],[0.4444444444444444,\"#bd3786\"],[0.5555555555555556,\"#d8576b\"],[0.6666666666666666,\"#ed7953\"],[0.7777777777777778,\"#fb9f3a\"],[0.8888888888888888,\"#fdca26\"],[1.0,\"#f0f921\"]],\"sequentialminus\":[[0.0,\"#0d0887\"],[0.1111111111111111,\"#46039f\"],[0.2222222222222222,\"#7201a8\"],[0.3333333333333333,\"#9c179e\"],[0.4444444444444444,\"#bd3786\"],[0.5555555555555556,\"#d8576b\"],[0.6666666666666666,\"#ed7953\"],[0.7777777777777778,\"#fb9f3a\"],[0.8888888888888888,\"#fdca26\"],[1.0,\"#f0f921\"]],\"diverging\":[[0,\"#8e0152\"],[0.1,\"#c51b7d\"],[0.2,\"#de77ae\"],[0.3,\"#f1b6da\"],[0.4,\"#fde0ef\"],[0.5,\"#f7f7f7\"],[0.6,\"#e6f5d0\"],[0.7,\"#b8e186\"],[0.8,\"#7fbc41\"],[0.9,\"#4d9221\"],[1,\"#276419\"]]},\"xaxis\":{\"gridcolor\":\"white\",\"linecolor\":\"white\",\"ticks\":\"\",\"title\":{\"standoff\":15},\"zerolinecolor\":\"white\",\"automargin\":true,\"zerolinewidth\":2},\"yaxis\":{\"gridcolor\":\"white\",\"linecolor\":\"white\",\"ticks\":\"\",\"title\":{\"standoff\":15},\"zerolinecolor\":\"white\",\"automargin\":true,\"zerolinewidth\":2},\"scene\":{\"xaxis\":{\"backgroundcolor\":\"#E5ECF6\",\"gridcolor\":\"white\",\"linecolor\":\"white\",\"showbackground\":true,\"ticks\":\"\",\"zerolinecolor\":\"white\",\"gridwidth\":2},\"yaxis\":{\"backgroundcolor\":\"#E5ECF6\",\"gridcolor\":\"white\",\"linecolor\":\"white\",\"showbackground\":true,\"ticks\":\"\",\"zerolinecolor\":\"white\",\"gridwidth\":2},\"zaxis\":{\"backgroundcolor\":\"#E5ECF6\",\"gridcolor\":\"white\",\"linecolor\":\"white\",\"showbackground\":true,\"ticks\":\"\",\"zerolinecolor\":\"white\",\"gridwidth\":2}},\"shapedefaults\":{\"line\":{\"color\":\"#2a3f5f\"}},\"annotationdefaults\":{\"arrowcolor\":\"#2a3f5f\",\"arrowhead\":0,\"arrowwidth\":1},\"geo\":{\"bgcolor\":\"white\",\"landcolor\":\"#E5ECF6\",\"subunitcolor\":\"white\",\"showland\":true,\"showlakes\":true,\"lakecolor\":\"white\"},\"title\":{\"x\":0.05},\"mapbox\":{\"style\":\"light\"}}},\"title\":{\"text\":\"Brazil Population Pyramid (1999)\",\"font\":{\"size\":22}},\"xaxis\":{\"title\":{\"text\":\"Population in Millions\",\"font\":{\"size\":14}}},\"barmode\":\"relative\",\"bargap\":0.0,\"bargroupgap\":0},                        {\"responsive\": true}                    ).then(function(){\n",
       "                            \n",
       "var gd = document.getElementById('990b0543-e588-4255-8c73-0ca6b5f5283d');\n",
       "var x = new MutationObserver(function (mutations, observer) {{\n",
       "        var display = window.getComputedStyle(gd).display;\n",
       "        if (!display || display === 'none') {{\n",
       "            console.log([gd, 'removed!']);\n",
       "            Plotly.purge(gd);\n",
       "            observer.disconnect();\n",
       "        }}\n",
       "}});\n",
       "\n",
       "// Listen for the removal of the full notebook cells\n",
       "var notebookContainer = gd.closest('#notebook-container');\n",
       "if (notebookContainer) {{\n",
       "    x.observe(notebookContainer, {childList: true});\n",
       "}}\n",
       "\n",
       "// Listen for the clearing of the current output cell\n",
       "var outputEl = gd.closest('.output');\n",
       "if (outputEl) {{\n",
       "    x.observe(outputEl, {childList: true});\n",
       "}}\n",
       "\n",
       "                        })                };            </script>        </div>"
      ]
     },
     "metadata": {},
     "output_type": "display_data"
    }
   ],
   "source": [
    "population_pyramid(1999, \"brazil\")"
   ]
  },
  {
   "cell_type": "code",
   "execution_count": 17,
   "id": "c91549aa-328e-4c6f-b4e3-cd3a452021ab",
   "metadata": {},
   "outputs": [],
   "source": [
    "import plotly.offline as py\n",
    "\n",
    "def overlay_population_pyramid(years, country, layout=None):\n",
    "    \"\"\"\n",
    "    Plots an overlaid population pyramid for multiple years by fetching population data.\n",
    "\n",
    "    Parameters:\n",
    "    - years: List of years to include in the population pyramid.\n",
    "    - country: The country for which to fetch population data.\n",
    "    - layout: Custom Plotly layout configuration (optional).\n",
    "\n",
    "    Returns:\n",
    "    - None (displays the plot).\n",
    "    \"\"\"\n",
    "\n",
    "    bins = []\n",
    "\n",
    "    for year in years:\n",
    "        # Fetch the population data for the specified year\n",
    "        df = new_pop_df(year, 'both', country)\n",
    "\n",
    "        # Generate the age ranges for the y-axis\n",
    "        age_ranges = df['Ages'].unique()\n",
    "\n",
    "        # Create the bars for males\n",
    "        bins.append(\n",
    "            go.Bar(\n",
    "                x=df['Male'],\n",
    "                y=age_ranges,\n",
    "                orientation=\"h\",\n",
    "                name=f\"Men {year}\",\n",
    "                hoverinfo=\"skip\",\n",
    "                opacity=0.5\n",
    "            )\n",
    "        )\n",
    "\n",
    "        # Create the bars for females\n",
    "        bins.append(\n",
    "            go.Bar(\n",
    "                x=-df['Female'],\n",
    "                y=age_ranges,\n",
    "                orientation=\"h\",\n",
    "                name=f\"Women {year}\",\n",
    "                hoverinfo=\"skip\",\n",
    "                opacity=0.5\n",
    "            )\n",
    "        )\n",
    "\n",
    "    # Set default layout if none is provided\n",
    "    if layout is None:\n",
    "        layout = go.Layout(\n",
    "            title=f\"Population Pyramid for {country} Over {years[0]}-{years[-1]}\",\n",
    "            barmode=\"overlay\",\n",
    "            xaxis=dict(title=\"Population\"),\n",
    "            yaxis=dict(title=\"Age Groups\"),\n",
    "            bargap=0.1,\n",
    "        )\n",
    "\n",
    "    # Plot the population pyramid\n",
    "    py.iplot(dict(data=bins, layout=layout))\n"
   ]
  },
  {
   "cell_type": "code",
   "execution_count": 19,
   "id": "3547cae6-98db-4477-9ceb-28c5c8db2c25",
   "metadata": {},
   "outputs": [
    {
     "data": {
      "application/vnd.plotly.v1+json": {
       "config": {
        "linkText": "Export to plot.ly",
        "plotlyServerURL": "https://plot.ly",
        "showLink": false
       },
       "data": [
        {
         "hoverinfo": "skip",
         "name": "Men 1990",
         "opacity": 0.5,
         "orientation": "h",
         "type": "bar",
         "x": {
          "bdata": "AAAAAF50YUEAAABgnIphQQAAAAAPJmBBAAAAgNHWXEEAAABAJHdaQQAAAEAVE1lBAAAAgETfVUEAAABAtj9SQQAAAIAt/0xBAAAAgNSRR0EAAACABXhDQQAAAACJjD9BAAAAAFN9OUEAAAAAKlwyQQAAAABYeCdBAAAAAJDZG0EAAAAATJsTQQ==",
          "dtype": "f8"
         },
         "y": [
          "0-4",
          "5-9",
          "10-14",
          "15-19",
          "20-24",
          "25-29",
          "30-34",
          "35-39",
          "40-44",
          "45-49",
          "50-54",
          "55-59",
          "60-64",
          "65-69",
          "70-74",
          "75-79",
          "80+"
         ]
        },
        {
         "hoverinfo": "skip",
         "name": "Women 1990",
         "opacity": 0.5,
         "orientation": "h",
         "type": "bar",
         "x": {
          "bdata": "AAAAYJ3jYMEAAABgFxRhwQAAAAClsV/BAAAAQLp0XMEAAAAAx0dawQAAAIBtC1nBAAAAgLj0VcEAAABAH3JSwQAAAADlW03BAAAAgH4sR8EAAAAAvgpEwQAAAAChxUHBAAAAAMrCPcEAAAAAP6c1wQAAAACGlyzBAAAAAK77IcEAAAAAlIEbwQ==",
          "dtype": "f8"
         },
         "y": [
          "0-4",
          "5-9",
          "10-14",
          "15-19",
          "20-24",
          "25-29",
          "30-34",
          "35-39",
          "40-44",
          "45-49",
          "50-54",
          "55-59",
          "60-64",
          "65-69",
          "70-74",
          "75-79",
          "80+"
         ]
        },
        {
         "hoverinfo": "skip",
         "name": "Men 2000",
         "opacity": 0.5,
         "orientation": "h",
         "type": "bar",
         "x": {
          "bdata": "AAAAoImxYEEAAADAxYpgQQAAAMD3KGFBAAAAINpRYUEAAACAEptfQQAAAMDM81tBAAAAQI6SWUEAAADAYS9YQQAAAMBi9lRBAAAAwKpEUUEAAACAttlKQQAAAIB6EEVBAAAAgERsQEEAAAAAfVM4QQAAAAC6GDFBAAAAAKLSI0EAAAAA3BwdQQ==",
          "dtype": "f8"
         },
         "y": [
          "0-4",
          "5-9",
          "10-14",
          "15-19",
          "20-24",
          "25-29",
          "30-34",
          "35-39",
          "40-44",
          "45-49",
          "50-54",
          "55-59",
          "60-64",
          "65-69",
          "70-74",
          "75-79",
          "80+"
         ]
        },
        {
         "hoverinfo": "skip",
         "name": "Women 2000",
         "opacity": 0.5,
         "orientation": "h",
         "type": "bar",
         "x": {
          "bdata": "AAAAIPwYYMEAAADAYAJgwQAAAMAUr2DBAAAAYH71YMEAAACAOlpfwQAAAIDJAFzBAAAAwCHKWcEAAAAAeYlYwQAAAAC8bVXBAAAAgH/eUcEAAACAVBZMwQAAAIAwvEXBAAAAgJoqQsEAAAAA8Fc+wQAAAABD5TbBAAAAAAD3K8EAAAAA0v0lwQ==",
          "dtype": "f8"
         },
         "y": [
          "0-4",
          "5-9",
          "10-14",
          "15-19",
          "20-24",
          "25-29",
          "30-34",
          "35-39",
          "40-44",
          "45-49",
          "50-54",
          "55-59",
          "60-64",
          "65-69",
          "70-74",
          "75-79",
          "80+"
         ]
        },
        {
         "hoverinfo": "skip",
         "name": "Men 2020",
         "opacity": 0.5,
         "orientation": "h",
         "type": "bar",
         "x": {
          "bdata": "AAAAwChjW0EAAAAAshJcQQAAAIAozFxBAAAAwCyOXkEAAABgIBFgQQAAAMBjRl9BAAAAwGL8X0EAAAAgDwZgQQAAAIBDJF1BAAAAwNucWUEAAAAAEw1XQQAAAMB2MFVBAAAAwNhyUUEAAAAAcnpKQQAAAICbOkJBAAAAAKB9N0EAAAAAI5U1QQ==",
          "dtype": "f8"
         },
         "y": [
          "0-4",
          "5-9",
          "10-14",
          "15-19",
          "20-24",
          "25-29",
          "30-34",
          "35-39",
          "40-44",
          "45-49",
          "50-54",
          "55-59",
          "60-64",
          "65-69",
          "70-74",
          "75-79",
          "80+"
         ]
        },
        {
         "hoverinfo": "skip",
         "name": "Women 2020",
         "opacity": 0.5,
         "orientation": "h",
         "type": "bar",
         "x": {
          "bdata": "AAAAAIFLWsEAAADAXfhawQAAAIAbslvBAAAAgAyEXcEAAADAzmxfwQAAAEA/817BAAAAoIUFYMEAAADgzEJgwQAAAIDdBV7BAAAAwCa6WsEAAAAANWpYwQAAAIDv4FbBAAAAAGVqU8EAAAAA7OJOwQAAAADzf0bBAAAAAERPPsEAAACAhgVBwQ==",
          "dtype": "f8"
         },
         "y": [
          "0-4",
          "5-9",
          "10-14",
          "15-19",
          "20-24",
          "25-29",
          "30-34",
          "35-39",
          "40-44",
          "45-49",
          "50-54",
          "55-59",
          "60-64",
          "65-69",
          "70-74",
          "75-79",
          "80+"
         ]
        }
       ],
       "layout": {
        "bargap": 0.1,
        "barmode": "overlay",
        "template": {
         "data": {
          "bar": [
           {
            "error_x": {
             "color": "#2a3f5f"
            },
            "error_y": {
             "color": "#2a3f5f"
            },
            "marker": {
             "line": {
              "color": "#E5ECF6",
              "width": 0.5
             },
             "pattern": {
              "fillmode": "overlay",
              "size": 10,
              "solidity": 0.2
             }
            },
            "type": "bar"
           }
          ],
          "barpolar": [
           {
            "marker": {
             "line": {
              "color": "#E5ECF6",
              "width": 0.5
             },
             "pattern": {
              "fillmode": "overlay",
              "size": 10,
              "solidity": 0.2
             }
            },
            "type": "barpolar"
           }
          ],
          "carpet": [
           {
            "aaxis": {
             "endlinecolor": "#2a3f5f",
             "gridcolor": "white",
             "linecolor": "white",
             "minorgridcolor": "white",
             "startlinecolor": "#2a3f5f"
            },
            "baxis": {
             "endlinecolor": "#2a3f5f",
             "gridcolor": "white",
             "linecolor": "white",
             "minorgridcolor": "white",
             "startlinecolor": "#2a3f5f"
            },
            "type": "carpet"
           }
          ],
          "choropleth": [
           {
            "colorbar": {
             "outlinewidth": 0,
             "ticks": ""
            },
            "type": "choropleth"
           }
          ],
          "contour": [
           {
            "colorbar": {
             "outlinewidth": 0,
             "ticks": ""
            },
            "colorscale": [
             [
              0,
              "#0d0887"
             ],
             [
              0.1111111111111111,
              "#46039f"
             ],
             [
              0.2222222222222222,
              "#7201a8"
             ],
             [
              0.3333333333333333,
              "#9c179e"
             ],
             [
              0.4444444444444444,
              "#bd3786"
             ],
             [
              0.5555555555555556,
              "#d8576b"
             ],
             [
              0.6666666666666666,
              "#ed7953"
             ],
             [
              0.7777777777777778,
              "#fb9f3a"
             ],
             [
              0.8888888888888888,
              "#fdca26"
             ],
             [
              1,
              "#f0f921"
             ]
            ],
            "type": "contour"
           }
          ],
          "contourcarpet": [
           {
            "colorbar": {
             "outlinewidth": 0,
             "ticks": ""
            },
            "type": "contourcarpet"
           }
          ],
          "heatmap": [
           {
            "colorbar": {
             "outlinewidth": 0,
             "ticks": ""
            },
            "colorscale": [
             [
              0,
              "#0d0887"
             ],
             [
              0.1111111111111111,
              "#46039f"
             ],
             [
              0.2222222222222222,
              "#7201a8"
             ],
             [
              0.3333333333333333,
              "#9c179e"
             ],
             [
              0.4444444444444444,
              "#bd3786"
             ],
             [
              0.5555555555555556,
              "#d8576b"
             ],
             [
              0.6666666666666666,
              "#ed7953"
             ],
             [
              0.7777777777777778,
              "#fb9f3a"
             ],
             [
              0.8888888888888888,
              "#fdca26"
             ],
             [
              1,
              "#f0f921"
             ]
            ],
            "type": "heatmap"
           }
          ],
          "histogram": [
           {
            "marker": {
             "pattern": {
              "fillmode": "overlay",
              "size": 10,
              "solidity": 0.2
             }
            },
            "type": "histogram"
           }
          ],
          "histogram2d": [
           {
            "colorbar": {
             "outlinewidth": 0,
             "ticks": ""
            },
            "colorscale": [
             [
              0,
              "#0d0887"
             ],
             [
              0.1111111111111111,
              "#46039f"
             ],
             [
              0.2222222222222222,
              "#7201a8"
             ],
             [
              0.3333333333333333,
              "#9c179e"
             ],
             [
              0.4444444444444444,
              "#bd3786"
             ],
             [
              0.5555555555555556,
              "#d8576b"
             ],
             [
              0.6666666666666666,
              "#ed7953"
             ],
             [
              0.7777777777777778,
              "#fb9f3a"
             ],
             [
              0.8888888888888888,
              "#fdca26"
             ],
             [
              1,
              "#f0f921"
             ]
            ],
            "type": "histogram2d"
           }
          ],
          "histogram2dcontour": [
           {
            "colorbar": {
             "outlinewidth": 0,
             "ticks": ""
            },
            "colorscale": [
             [
              0,
              "#0d0887"
             ],
             [
              0.1111111111111111,
              "#46039f"
             ],
             [
              0.2222222222222222,
              "#7201a8"
             ],
             [
              0.3333333333333333,
              "#9c179e"
             ],
             [
              0.4444444444444444,
              "#bd3786"
             ],
             [
              0.5555555555555556,
              "#d8576b"
             ],
             [
              0.6666666666666666,
              "#ed7953"
             ],
             [
              0.7777777777777778,
              "#fb9f3a"
             ],
             [
              0.8888888888888888,
              "#fdca26"
             ],
             [
              1,
              "#f0f921"
             ]
            ],
            "type": "histogram2dcontour"
           }
          ],
          "mesh3d": [
           {
            "colorbar": {
             "outlinewidth": 0,
             "ticks": ""
            },
            "type": "mesh3d"
           }
          ],
          "parcoords": [
           {
            "line": {
             "colorbar": {
              "outlinewidth": 0,
              "ticks": ""
             }
            },
            "type": "parcoords"
           }
          ],
          "pie": [
           {
            "automargin": true,
            "type": "pie"
           }
          ],
          "scatter": [
           {
            "fillpattern": {
             "fillmode": "overlay",
             "size": 10,
             "solidity": 0.2
            },
            "type": "scatter"
           }
          ],
          "scatter3d": [
           {
            "line": {
             "colorbar": {
              "outlinewidth": 0,
              "ticks": ""
             }
            },
            "marker": {
             "colorbar": {
              "outlinewidth": 0,
              "ticks": ""
             }
            },
            "type": "scatter3d"
           }
          ],
          "scattercarpet": [
           {
            "marker": {
             "colorbar": {
              "outlinewidth": 0,
              "ticks": ""
             }
            },
            "type": "scattercarpet"
           }
          ],
          "scattergeo": [
           {
            "marker": {
             "colorbar": {
              "outlinewidth": 0,
              "ticks": ""
             }
            },
            "type": "scattergeo"
           }
          ],
          "scattergl": [
           {
            "marker": {
             "colorbar": {
              "outlinewidth": 0,
              "ticks": ""
             }
            },
            "type": "scattergl"
           }
          ],
          "scattermap": [
           {
            "marker": {
             "colorbar": {
              "outlinewidth": 0,
              "ticks": ""
             }
            },
            "type": "scattermap"
           }
          ],
          "scattermapbox": [
           {
            "marker": {
             "colorbar": {
              "outlinewidth": 0,
              "ticks": ""
             }
            },
            "type": "scattermapbox"
           }
          ],
          "scatterpolar": [
           {
            "marker": {
             "colorbar": {
              "outlinewidth": 0,
              "ticks": ""
             }
            },
            "type": "scatterpolar"
           }
          ],
          "scatterpolargl": [
           {
            "marker": {
             "colorbar": {
              "outlinewidth": 0,
              "ticks": ""
             }
            },
            "type": "scatterpolargl"
           }
          ],
          "scatterternary": [
           {
            "marker": {
             "colorbar": {
              "outlinewidth": 0,
              "ticks": ""
             }
            },
            "type": "scatterternary"
           }
          ],
          "surface": [
           {
            "colorbar": {
             "outlinewidth": 0,
             "ticks": ""
            },
            "colorscale": [
             [
              0,
              "#0d0887"
             ],
             [
              0.1111111111111111,
              "#46039f"
             ],
             [
              0.2222222222222222,
              "#7201a8"
             ],
             [
              0.3333333333333333,
              "#9c179e"
             ],
             [
              0.4444444444444444,
              "#bd3786"
             ],
             [
              0.5555555555555556,
              "#d8576b"
             ],
             [
              0.6666666666666666,
              "#ed7953"
             ],
             [
              0.7777777777777778,
              "#fb9f3a"
             ],
             [
              0.8888888888888888,
              "#fdca26"
             ],
             [
              1,
              "#f0f921"
             ]
            ],
            "type": "surface"
           }
          ],
          "table": [
           {
            "cells": {
             "fill": {
              "color": "#EBF0F8"
             },
             "line": {
              "color": "white"
             }
            },
            "header": {
             "fill": {
              "color": "#C8D4E3"
             },
             "line": {
              "color": "white"
             }
            },
            "type": "table"
           }
          ]
         },
         "layout": {
          "annotationdefaults": {
           "arrowcolor": "#2a3f5f",
           "arrowhead": 0,
           "arrowwidth": 1
          },
          "autotypenumbers": "strict",
          "coloraxis": {
           "colorbar": {
            "outlinewidth": 0,
            "ticks": ""
           }
          },
          "colorscale": {
           "diverging": [
            [
             0,
             "#8e0152"
            ],
            [
             0.1,
             "#c51b7d"
            ],
            [
             0.2,
             "#de77ae"
            ],
            [
             0.3,
             "#f1b6da"
            ],
            [
             0.4,
             "#fde0ef"
            ],
            [
             0.5,
             "#f7f7f7"
            ],
            [
             0.6,
             "#e6f5d0"
            ],
            [
             0.7,
             "#b8e186"
            ],
            [
             0.8,
             "#7fbc41"
            ],
            [
             0.9,
             "#4d9221"
            ],
            [
             1,
             "#276419"
            ]
           ],
           "sequential": [
            [
             0,
             "#0d0887"
            ],
            [
             0.1111111111111111,
             "#46039f"
            ],
            [
             0.2222222222222222,
             "#7201a8"
            ],
            [
             0.3333333333333333,
             "#9c179e"
            ],
            [
             0.4444444444444444,
             "#bd3786"
            ],
            [
             0.5555555555555556,
             "#d8576b"
            ],
            [
             0.6666666666666666,
             "#ed7953"
            ],
            [
             0.7777777777777778,
             "#fb9f3a"
            ],
            [
             0.8888888888888888,
             "#fdca26"
            ],
            [
             1,
             "#f0f921"
            ]
           ],
           "sequentialminus": [
            [
             0,
             "#0d0887"
            ],
            [
             0.1111111111111111,
             "#46039f"
            ],
            [
             0.2222222222222222,
             "#7201a8"
            ],
            [
             0.3333333333333333,
             "#9c179e"
            ],
            [
             0.4444444444444444,
             "#bd3786"
            ],
            [
             0.5555555555555556,
             "#d8576b"
            ],
            [
             0.6666666666666666,
             "#ed7953"
            ],
            [
             0.7777777777777778,
             "#fb9f3a"
            ],
            [
             0.8888888888888888,
             "#fdca26"
            ],
            [
             1,
             "#f0f921"
            ]
           ]
          },
          "colorway": [
           "#636efa",
           "#EF553B",
           "#00cc96",
           "#ab63fa",
           "#FFA15A",
           "#19d3f3",
           "#FF6692",
           "#B6E880",
           "#FF97FF",
           "#FECB52"
          ],
          "font": {
           "color": "#2a3f5f"
          },
          "geo": {
           "bgcolor": "white",
           "lakecolor": "white",
           "landcolor": "#E5ECF6",
           "showlakes": true,
           "showland": true,
           "subunitcolor": "white"
          },
          "hoverlabel": {
           "align": "left"
          },
          "hovermode": "closest",
          "mapbox": {
           "style": "light"
          },
          "paper_bgcolor": "white",
          "plot_bgcolor": "#E5ECF6",
          "polar": {
           "angularaxis": {
            "gridcolor": "white",
            "linecolor": "white",
            "ticks": ""
           },
           "bgcolor": "#E5ECF6",
           "radialaxis": {
            "gridcolor": "white",
            "linecolor": "white",
            "ticks": ""
           }
          },
          "scene": {
           "xaxis": {
            "backgroundcolor": "#E5ECF6",
            "gridcolor": "white",
            "gridwidth": 2,
            "linecolor": "white",
            "showbackground": true,
            "ticks": "",
            "zerolinecolor": "white"
           },
           "yaxis": {
            "backgroundcolor": "#E5ECF6",
            "gridcolor": "white",
            "gridwidth": 2,
            "linecolor": "white",
            "showbackground": true,
            "ticks": "",
            "zerolinecolor": "white"
           },
           "zaxis": {
            "backgroundcolor": "#E5ECF6",
            "gridcolor": "white",
            "gridwidth": 2,
            "linecolor": "white",
            "showbackground": true,
            "ticks": "",
            "zerolinecolor": "white"
           }
          },
          "shapedefaults": {
           "line": {
            "color": "#2a3f5f"
           }
          },
          "ternary": {
           "aaxis": {
            "gridcolor": "white",
            "linecolor": "white",
            "ticks": ""
           },
           "baxis": {
            "gridcolor": "white",
            "linecolor": "white",
            "ticks": ""
           },
           "bgcolor": "#E5ECF6",
           "caxis": {
            "gridcolor": "white",
            "linecolor": "white",
            "ticks": ""
           }
          },
          "title": {
           "x": 0.05
          },
          "xaxis": {
           "automargin": true,
           "gridcolor": "white",
           "linecolor": "white",
           "ticks": "",
           "title": {
            "standoff": 15
           },
           "zerolinecolor": "white",
           "zerolinewidth": 2
          },
          "yaxis": {
           "automargin": true,
           "gridcolor": "white",
           "linecolor": "white",
           "ticks": "",
           "title": {
            "standoff": 15
           },
           "zerolinecolor": "white",
           "zerolinewidth": 2
          }
         }
        },
        "title": {
         "text": "Population Pyramid for Brazil Over 1990-2020"
        },
        "xaxis": {
         "title": {
          "text": "Population"
         }
        },
        "yaxis": {
         "title": {
          "text": "Age Groups"
         }
        }
       }
      },
      "text/html": [
       "<div>            <script src=\"https://cdnjs.cloudflare.com/ajax/libs/mathjax/2.7.5/MathJax.js?config=TeX-AMS-MML_SVG\"></script><script type=\"text/javascript\">if (window.MathJax && window.MathJax.Hub && window.MathJax.Hub.Config) {window.MathJax.Hub.Config({SVG: {font: \"STIX-Web\"}});}</script>                <script type=\"text/javascript\">window.PlotlyConfig = {MathJaxConfig: 'local'};</script>\n",
       "        <script charset=\"utf-8\" src=\"https://cdn.plot.ly/plotly-3.0.0.min.js\"></script>                <div id=\"e309fc2a-153a-45d0-9ee1-e47f3b52d990\" class=\"plotly-graph-div\" style=\"height:525px; width:100%;\"></div>            <script type=\"text/javascript\">                window.PLOTLYENV=window.PLOTLYENV || {};                                if (document.getElementById(\"e309fc2a-153a-45d0-9ee1-e47f3b52d990\")) {                    Plotly.newPlot(                        \"e309fc2a-153a-45d0-9ee1-e47f3b52d990\",                        [{\"hoverinfo\":\"skip\",\"name\":\"Men 1990\",\"opacity\":0.5,\"orientation\":\"h\",\"x\":{\"dtype\":\"f8\",\"bdata\":\"AAAAAF50YUEAAABgnIphQQAAAAAPJmBBAAAAgNHWXEEAAABAJHdaQQAAAEAVE1lBAAAAgETfVUEAAABAtj9SQQAAAIAt\\u002f0xBAAAAgNSRR0EAAACABXhDQQAAAACJjD9BAAAAAFN9OUEAAAAAKlwyQQAAAABYeCdBAAAAAJDZG0EAAAAATJsTQQ==\"},\"y\":[\"0-4\",\"5-9\",\"10-14\",\"15-19\",\"20-24\",\"25-29\",\"30-34\",\"35-39\",\"40-44\",\"45-49\",\"50-54\",\"55-59\",\"60-64\",\"65-69\",\"70-74\",\"75-79\",\"80+\"],\"type\":\"bar\"},{\"hoverinfo\":\"skip\",\"name\":\"Women 1990\",\"opacity\":0.5,\"orientation\":\"h\",\"x\":{\"dtype\":\"f8\",\"bdata\":\"AAAAYJ3jYMEAAABgFxRhwQAAAAClsV\\u002fBAAAAQLp0XMEAAAAAx0dawQAAAIBtC1nBAAAAgLj0VcEAAABAH3JSwQAAAADlW03BAAAAgH4sR8EAAAAAvgpEwQAAAAChxUHBAAAAAMrCPcEAAAAAP6c1wQAAAACGlyzBAAAAAK77IcEAAAAAlIEbwQ==\"},\"y\":[\"0-4\",\"5-9\",\"10-14\",\"15-19\",\"20-24\",\"25-29\",\"30-34\",\"35-39\",\"40-44\",\"45-49\",\"50-54\",\"55-59\",\"60-64\",\"65-69\",\"70-74\",\"75-79\",\"80+\"],\"type\":\"bar\"},{\"hoverinfo\":\"skip\",\"name\":\"Men 2000\",\"opacity\":0.5,\"orientation\":\"h\",\"x\":{\"dtype\":\"f8\",\"bdata\":\"AAAAoImxYEEAAADAxYpgQQAAAMD3KGFBAAAAINpRYUEAAACAEptfQQAAAMDM81tBAAAAQI6SWUEAAADAYS9YQQAAAMBi9lRBAAAAwKpEUUEAAACAttlKQQAAAIB6EEVBAAAAgERsQEEAAAAAfVM4QQAAAAC6GDFBAAAAAKLSI0EAAAAA3BwdQQ==\"},\"y\":[\"0-4\",\"5-9\",\"10-14\",\"15-19\",\"20-24\",\"25-29\",\"30-34\",\"35-39\",\"40-44\",\"45-49\",\"50-54\",\"55-59\",\"60-64\",\"65-69\",\"70-74\",\"75-79\",\"80+\"],\"type\":\"bar\"},{\"hoverinfo\":\"skip\",\"name\":\"Women 2000\",\"opacity\":0.5,\"orientation\":\"h\",\"x\":{\"dtype\":\"f8\",\"bdata\":\"AAAAIPwYYMEAAADAYAJgwQAAAMAUr2DBAAAAYH71YMEAAACAOlpfwQAAAIDJAFzBAAAAwCHKWcEAAAAAeYlYwQAAAAC8bVXBAAAAgH\\u002feUcEAAACAVBZMwQAAAIAwvEXBAAAAgJoqQsEAAAAA8Fc+wQAAAABD5TbBAAAAAAD3K8EAAAAA0v0lwQ==\"},\"y\":[\"0-4\",\"5-9\",\"10-14\",\"15-19\",\"20-24\",\"25-29\",\"30-34\",\"35-39\",\"40-44\",\"45-49\",\"50-54\",\"55-59\",\"60-64\",\"65-69\",\"70-74\",\"75-79\",\"80+\"],\"type\":\"bar\"},{\"hoverinfo\":\"skip\",\"name\":\"Men 2020\",\"opacity\":0.5,\"orientation\":\"h\",\"x\":{\"dtype\":\"f8\",\"bdata\":\"AAAAwChjW0EAAAAAshJcQQAAAIAozFxBAAAAwCyOXkEAAABgIBFgQQAAAMBjRl9BAAAAwGL8X0EAAAAgDwZgQQAAAIBDJF1BAAAAwNucWUEAAAAAEw1XQQAAAMB2MFVBAAAAwNhyUUEAAAAAcnpKQQAAAICbOkJBAAAAAKB9N0EAAAAAI5U1QQ==\"},\"y\":[\"0-4\",\"5-9\",\"10-14\",\"15-19\",\"20-24\",\"25-29\",\"30-34\",\"35-39\",\"40-44\",\"45-49\",\"50-54\",\"55-59\",\"60-64\",\"65-69\",\"70-74\",\"75-79\",\"80+\"],\"type\":\"bar\"},{\"hoverinfo\":\"skip\",\"name\":\"Women 2020\",\"opacity\":0.5,\"orientation\":\"h\",\"x\":{\"dtype\":\"f8\",\"bdata\":\"AAAAAIFLWsEAAADAXfhawQAAAIAbslvBAAAAgAyEXcEAAADAzmxfwQAAAEA\\u002f817BAAAAoIUFYMEAAADgzEJgwQAAAIDdBV7BAAAAwCa6WsEAAAAANWpYwQAAAIDv4FbBAAAAAGVqU8EAAAAA7OJOwQAAAADzf0bBAAAAAERPPsEAAACAhgVBwQ==\"},\"y\":[\"0-4\",\"5-9\",\"10-14\",\"15-19\",\"20-24\",\"25-29\",\"30-34\",\"35-39\",\"40-44\",\"45-49\",\"50-54\",\"55-59\",\"60-64\",\"65-69\",\"70-74\",\"75-79\",\"80+\"],\"type\":\"bar\"}],                        {\"bargap\":0.1,\"barmode\":\"overlay\",\"template\":{\"data\":{\"barpolar\":[{\"marker\":{\"line\":{\"color\":\"#E5ECF6\",\"width\":0.5},\"pattern\":{\"fillmode\":\"overlay\",\"size\":10,\"solidity\":0.2}},\"type\":\"barpolar\"}],\"bar\":[{\"error_x\":{\"color\":\"#2a3f5f\"},\"error_y\":{\"color\":\"#2a3f5f\"},\"marker\":{\"line\":{\"color\":\"#E5ECF6\",\"width\":0.5},\"pattern\":{\"fillmode\":\"overlay\",\"size\":10,\"solidity\":0.2}},\"type\":\"bar\"}],\"carpet\":[{\"aaxis\":{\"endlinecolor\":\"#2a3f5f\",\"gridcolor\":\"white\",\"linecolor\":\"white\",\"minorgridcolor\":\"white\",\"startlinecolor\":\"#2a3f5f\"},\"baxis\":{\"endlinecolor\":\"#2a3f5f\",\"gridcolor\":\"white\",\"linecolor\":\"white\",\"minorgridcolor\":\"white\",\"startlinecolor\":\"#2a3f5f\"},\"type\":\"carpet\"}],\"choropleth\":[{\"colorbar\":{\"outlinewidth\":0,\"ticks\":\"\"},\"type\":\"choropleth\"}],\"contourcarpet\":[{\"colorbar\":{\"outlinewidth\":0,\"ticks\":\"\"},\"type\":\"contourcarpet\"}],\"contour\":[{\"colorbar\":{\"outlinewidth\":0,\"ticks\":\"\"},\"colorscale\":[[0.0,\"#0d0887\"],[0.1111111111111111,\"#46039f\"],[0.2222222222222222,\"#7201a8\"],[0.3333333333333333,\"#9c179e\"],[0.4444444444444444,\"#bd3786\"],[0.5555555555555556,\"#d8576b\"],[0.6666666666666666,\"#ed7953\"],[0.7777777777777778,\"#fb9f3a\"],[0.8888888888888888,\"#fdca26\"],[1.0,\"#f0f921\"]],\"type\":\"contour\"}],\"heatmap\":[{\"colorbar\":{\"outlinewidth\":0,\"ticks\":\"\"},\"colorscale\":[[0.0,\"#0d0887\"],[0.1111111111111111,\"#46039f\"],[0.2222222222222222,\"#7201a8\"],[0.3333333333333333,\"#9c179e\"],[0.4444444444444444,\"#bd3786\"],[0.5555555555555556,\"#d8576b\"],[0.6666666666666666,\"#ed7953\"],[0.7777777777777778,\"#fb9f3a\"],[0.8888888888888888,\"#fdca26\"],[1.0,\"#f0f921\"]],\"type\":\"heatmap\"}],\"histogram2dcontour\":[{\"colorbar\":{\"outlinewidth\":0,\"ticks\":\"\"},\"colorscale\":[[0.0,\"#0d0887\"],[0.1111111111111111,\"#46039f\"],[0.2222222222222222,\"#7201a8\"],[0.3333333333333333,\"#9c179e\"],[0.4444444444444444,\"#bd3786\"],[0.5555555555555556,\"#d8576b\"],[0.6666666666666666,\"#ed7953\"],[0.7777777777777778,\"#fb9f3a\"],[0.8888888888888888,\"#fdca26\"],[1.0,\"#f0f921\"]],\"type\":\"histogram2dcontour\"}],\"histogram2d\":[{\"colorbar\":{\"outlinewidth\":0,\"ticks\":\"\"},\"colorscale\":[[0.0,\"#0d0887\"],[0.1111111111111111,\"#46039f\"],[0.2222222222222222,\"#7201a8\"],[0.3333333333333333,\"#9c179e\"],[0.4444444444444444,\"#bd3786\"],[0.5555555555555556,\"#d8576b\"],[0.6666666666666666,\"#ed7953\"],[0.7777777777777778,\"#fb9f3a\"],[0.8888888888888888,\"#fdca26\"],[1.0,\"#f0f921\"]],\"type\":\"histogram2d\"}],\"histogram\":[{\"marker\":{\"pattern\":{\"fillmode\":\"overlay\",\"size\":10,\"solidity\":0.2}},\"type\":\"histogram\"}],\"mesh3d\":[{\"colorbar\":{\"outlinewidth\":0,\"ticks\":\"\"},\"type\":\"mesh3d\"}],\"parcoords\":[{\"line\":{\"colorbar\":{\"outlinewidth\":0,\"ticks\":\"\"}},\"type\":\"parcoords\"}],\"pie\":[{\"automargin\":true,\"type\":\"pie\"}],\"scatter3d\":[{\"line\":{\"colorbar\":{\"outlinewidth\":0,\"ticks\":\"\"}},\"marker\":{\"colorbar\":{\"outlinewidth\":0,\"ticks\":\"\"}},\"type\":\"scatter3d\"}],\"scattercarpet\":[{\"marker\":{\"colorbar\":{\"outlinewidth\":0,\"ticks\":\"\"}},\"type\":\"scattercarpet\"}],\"scattergeo\":[{\"marker\":{\"colorbar\":{\"outlinewidth\":0,\"ticks\":\"\"}},\"type\":\"scattergeo\"}],\"scattergl\":[{\"marker\":{\"colorbar\":{\"outlinewidth\":0,\"ticks\":\"\"}},\"type\":\"scattergl\"}],\"scattermapbox\":[{\"marker\":{\"colorbar\":{\"outlinewidth\":0,\"ticks\":\"\"}},\"type\":\"scattermapbox\"}],\"scattermap\":[{\"marker\":{\"colorbar\":{\"outlinewidth\":0,\"ticks\":\"\"}},\"type\":\"scattermap\"}],\"scatterpolargl\":[{\"marker\":{\"colorbar\":{\"outlinewidth\":0,\"ticks\":\"\"}},\"type\":\"scatterpolargl\"}],\"scatterpolar\":[{\"marker\":{\"colorbar\":{\"outlinewidth\":0,\"ticks\":\"\"}},\"type\":\"scatterpolar\"}],\"scatter\":[{\"fillpattern\":{\"fillmode\":\"overlay\",\"size\":10,\"solidity\":0.2},\"type\":\"scatter\"}],\"scatterternary\":[{\"marker\":{\"colorbar\":{\"outlinewidth\":0,\"ticks\":\"\"}},\"type\":\"scatterternary\"}],\"surface\":[{\"colorbar\":{\"outlinewidth\":0,\"ticks\":\"\"},\"colorscale\":[[0.0,\"#0d0887\"],[0.1111111111111111,\"#46039f\"],[0.2222222222222222,\"#7201a8\"],[0.3333333333333333,\"#9c179e\"],[0.4444444444444444,\"#bd3786\"],[0.5555555555555556,\"#d8576b\"],[0.6666666666666666,\"#ed7953\"],[0.7777777777777778,\"#fb9f3a\"],[0.8888888888888888,\"#fdca26\"],[1.0,\"#f0f921\"]],\"type\":\"surface\"}],\"table\":[{\"cells\":{\"fill\":{\"color\":\"#EBF0F8\"},\"line\":{\"color\":\"white\"}},\"header\":{\"fill\":{\"color\":\"#C8D4E3\"},\"line\":{\"color\":\"white\"}},\"type\":\"table\"}]},\"layout\":{\"annotationdefaults\":{\"arrowcolor\":\"#2a3f5f\",\"arrowhead\":0,\"arrowwidth\":1},\"autotypenumbers\":\"strict\",\"coloraxis\":{\"colorbar\":{\"outlinewidth\":0,\"ticks\":\"\"}},\"colorscale\":{\"diverging\":[[0,\"#8e0152\"],[0.1,\"#c51b7d\"],[0.2,\"#de77ae\"],[0.3,\"#f1b6da\"],[0.4,\"#fde0ef\"],[0.5,\"#f7f7f7\"],[0.6,\"#e6f5d0\"],[0.7,\"#b8e186\"],[0.8,\"#7fbc41\"],[0.9,\"#4d9221\"],[1,\"#276419\"]],\"sequential\":[[0.0,\"#0d0887\"],[0.1111111111111111,\"#46039f\"],[0.2222222222222222,\"#7201a8\"],[0.3333333333333333,\"#9c179e\"],[0.4444444444444444,\"#bd3786\"],[0.5555555555555556,\"#d8576b\"],[0.6666666666666666,\"#ed7953\"],[0.7777777777777778,\"#fb9f3a\"],[0.8888888888888888,\"#fdca26\"],[1.0,\"#f0f921\"]],\"sequentialminus\":[[0.0,\"#0d0887\"],[0.1111111111111111,\"#46039f\"],[0.2222222222222222,\"#7201a8\"],[0.3333333333333333,\"#9c179e\"],[0.4444444444444444,\"#bd3786\"],[0.5555555555555556,\"#d8576b\"],[0.6666666666666666,\"#ed7953\"],[0.7777777777777778,\"#fb9f3a\"],[0.8888888888888888,\"#fdca26\"],[1.0,\"#f0f921\"]]},\"colorway\":[\"#636efa\",\"#EF553B\",\"#00cc96\",\"#ab63fa\",\"#FFA15A\",\"#19d3f3\",\"#FF6692\",\"#B6E880\",\"#FF97FF\",\"#FECB52\"],\"font\":{\"color\":\"#2a3f5f\"},\"geo\":{\"bgcolor\":\"white\",\"lakecolor\":\"white\",\"landcolor\":\"#E5ECF6\",\"showlakes\":true,\"showland\":true,\"subunitcolor\":\"white\"},\"hoverlabel\":{\"align\":\"left\"},\"hovermode\":\"closest\",\"mapbox\":{\"style\":\"light\"},\"paper_bgcolor\":\"white\",\"plot_bgcolor\":\"#E5ECF6\",\"polar\":{\"angularaxis\":{\"gridcolor\":\"white\",\"linecolor\":\"white\",\"ticks\":\"\"},\"bgcolor\":\"#E5ECF6\",\"radialaxis\":{\"gridcolor\":\"white\",\"linecolor\":\"white\",\"ticks\":\"\"}},\"scene\":{\"xaxis\":{\"backgroundcolor\":\"#E5ECF6\",\"gridcolor\":\"white\",\"gridwidth\":2,\"linecolor\":\"white\",\"showbackground\":true,\"ticks\":\"\",\"zerolinecolor\":\"white\"},\"yaxis\":{\"backgroundcolor\":\"#E5ECF6\",\"gridcolor\":\"white\",\"gridwidth\":2,\"linecolor\":\"white\",\"showbackground\":true,\"ticks\":\"\",\"zerolinecolor\":\"white\"},\"zaxis\":{\"backgroundcolor\":\"#E5ECF6\",\"gridcolor\":\"white\",\"gridwidth\":2,\"linecolor\":\"white\",\"showbackground\":true,\"ticks\":\"\",\"zerolinecolor\":\"white\"}},\"shapedefaults\":{\"line\":{\"color\":\"#2a3f5f\"}},\"ternary\":{\"aaxis\":{\"gridcolor\":\"white\",\"linecolor\":\"white\",\"ticks\":\"\"},\"baxis\":{\"gridcolor\":\"white\",\"linecolor\":\"white\",\"ticks\":\"\"},\"bgcolor\":\"#E5ECF6\",\"caxis\":{\"gridcolor\":\"white\",\"linecolor\":\"white\",\"ticks\":\"\"}},\"title\":{\"x\":0.05},\"xaxis\":{\"automargin\":true,\"gridcolor\":\"white\",\"linecolor\":\"white\",\"ticks\":\"\",\"title\":{\"standoff\":15},\"zerolinecolor\":\"white\",\"zerolinewidth\":2},\"yaxis\":{\"automargin\":true,\"gridcolor\":\"white\",\"linecolor\":\"white\",\"ticks\":\"\",\"title\":{\"standoff\":15},\"zerolinecolor\":\"white\",\"zerolinewidth\":2}}},\"title\":{\"text\":\"Population Pyramid for Brazil Over 1990-2020\"},\"xaxis\":{\"title\":{\"text\":\"Population\"}},\"yaxis\":{\"title\":{\"text\":\"Age Groups\"}}},                        {\"responsive\": true}                    ).then(function(){\n",
       "                            \n",
       "var gd = document.getElementById('e309fc2a-153a-45d0-9ee1-e47f3b52d990');\n",
       "var x = new MutationObserver(function (mutations, observer) {{\n",
       "        var display = window.getComputedStyle(gd).display;\n",
       "        if (!display || display === 'none') {{\n",
       "            console.log([gd, 'removed!']);\n",
       "            Plotly.purge(gd);\n",
       "            observer.disconnect();\n",
       "        }}\n",
       "}});\n",
       "\n",
       "// Listen for the removal of the full notebook cells\n",
       "var notebookContainer = gd.closest('#notebook-container');\n",
       "if (notebookContainer) {{\n",
       "    x.observe(notebookContainer, {childList: true});\n",
       "}}\n",
       "\n",
       "// Listen for the clearing of the current output cell\n",
       "var outputEl = gd.closest('.output');\n",
       "if (outputEl) {{\n",
       "    x.observe(outputEl, {childList: true});\n",
       "}}\n",
       "\n",
       "                        })                };            </script>        </div>"
      ]
     },
     "metadata": {},
     "output_type": "display_data"
    }
   ],
   "source": [
    "overlay_population_pyramid([1990, 2000, 2020], 'Brazil')"
   ]
  },
  {
   "cell_type": "code",
   "execution_count": 55,
   "id": "5463980d-b9bf-4bdc-88c5-916d9fbc3d8d",
   "metadata": {},
   "outputs": [],
   "source": [
    "import plotly.graph_objects as gp\n",
    "\n",
    "def animated_population_pyramid(years, country):\n",
    "    # Initialize a list to hold frames\n",
    "    frames = []\n",
    "    #Turn years into a ranged list\n",
    "    range_years = range(years[0], years[-1]+1)\n",
    "    # Loop through each year in the specified range\n",
    "    for year in range_years:\n",
    "        # Fetch population data for the current year\n",
    "        data = new_pop_df(year, 'both', country)\n",
    "        \n",
    "        # Prepare data for the pyramid\n",
    "        y_age = data['Ages']\n",
    "        x_male = data['Male']\n",
    "        x_female = -data['Female']  # Negative for left side of pyramid\n",
    "    \n",
    "        # Create a bar trace for males\n",
    "        male_trace = go.Bar(\n",
    "            y=y_age,\n",
    "            x=x_male,\n",
    "            name='Male',\n",
    "            orientation='h',\n",
    "            marker=dict(color='blue'),\n",
    "            opacity=0.6  # Set opacity for male bars\n",
    "        )\n",
    "\n",
    "        # Create a bar trace for females\n",
    "        female_trace = go.Bar(\n",
    "            y=y_age,\n",
    "            x=x_female,\n",
    "            name='Female',\n",
    "            orientation='h',\n",
    "            marker=dict(color='red'),\n",
    "            opacity=0.6  # Set opacity for female bars\n",
    "        )\n",
    "\n",
    "        # Append the frame for the current year\n",
    "        frames.append(go.Frame(data=[male_trace, female_trace], name=str(year)))\n",
    "\n",
    "    # Determine the maximum population for setting x-axis limits\n",
    "    max_population = max(data['Male'].max(), data['Female'].max())\n",
    "\n",
    "    # Create the initial figure layout\n",
    "    fig = go.Figure(\n",
    "        data=frames[0].data,\n",
    "        layout=go.Layout(\n",
    "            title=f'Animated Population Pyramid of {country.capitalize()} ({years[0]}-{years[-1]})',\n",
    "            barmode='overlay',\n",
    "            bargap=0.1,\n",
    "            xaxis=dict(\n",
    "                title='Population',\n",
    "                tickmode='auto',\n",
    "                nticks=8,\n",
    "                range=[-max_population * 1.1, max_population * 1.1]\n",
    "            ),\n",
    "            yaxis=dict(\n",
    "                title='Age Group',\n",
    "                categoryorder='array',\n",
    "                categoryarray=y_age\n",
    "            ),\n",
    "            updatemenus=[{\n",
    "                'buttons': [\n",
    "                    {\n",
    "                        'args': [None, {'frame': {'duration': 500, 'redraw': True}, 'fromcurrent': True}],\n",
    "                        'label': 'Play',\n",
    "                        'method': 'animate'\n",
    "                    },\n",
    "                    {\n",
    "                        'args': [[None], {'frame': {'duration': 0, 'redraw': True}, 'mode': 'immediate', 'transition': {'duration': 0}}],\n",
    "                        'label': 'Pause',\n",
    "                        'method': 'animate'\n",
    "                    }\n",
    "                ],\n",
    "                'direction': 'left',\n",
    "                'pad': {'r': 10, 't': 87},\n",
    "                'showactive': False,\n",
    "                'type': 'buttons',\n",
    "                'x': 0.1,\n",
    "                'xanchor': 'right',\n",
    "                'y': 0,\n",
    "                'yanchor': 'top'\n",
    "            }]\n",
    "        ),\n",
    "        frames=frames\n",
    "    )\n",
    "\n",
    "    # Update layout for sliders\n",
    "    fig.update_layout(\n",
    "        sliders=[{\n",
    "            'active': 0,\n",
    "            'yanchor': 'top',\n",
    "            'xanchor': 'left',\n",
    "            'currentvalue': {\n",
    "                'font': {'size': 20},\n",
    "                'prefix': 'Year:',\n",
    "                'visible': True,\n",
    "                'xanchor': 'right'\n",
    "            },\n",
    "            'transition': {'duration': 300, 'easing': 'cubic-in-out'},\n",
    "            'pad': {'b': 10, 't': 50},\n",
    "            'len': 0.9,\n",
    "            'x': 0.1,\n",
    "            'y': 0,\n",
    "            'steps': [{\n",
    "                'args': [[str(year)], {'frame': {'duration': 300, 'redraw': True}, 'mode': 'immediate', 'transition': {'duration': 300}}],\n",
    "                'label': str(year),\n",
    "                'method': 'animate'\n",
    "            } for year in range_years]\n",
    "        }]\n",
    "    )\n",
    "\n",
    "    # Show the figure\n",
    "    fig.show()"
   ]
  },
  {
   "cell_type": "code",
   "execution_count": 56,
   "id": "26bee9ce-d3ea-4179-a8b2-db15c879ab58",
   "metadata": {},
   "outputs": [
    {
     "data": {
      "application/vnd.plotly.v1+json": {
       "config": {
        "plotlyServerURL": "https://plot.ly"
       },
       "data": [
        {
         "marker": {
          "color": "blue"
         },
         "name": "Male",
         "opacity": 0.6,
         "orientation": "h",
         "type": "bar",
         "x": {
          "bdata": "AAAAAAZpJkEAAAAAmhQlQQAAAAA6ViNBAAAAANyRIUEAAAAAOOMeQQAAAADUVRpBAAAAAEA5FkEAAAAAYL0SQQAAAABgdA5BAAAAAIgCCEEAAAAA2BsDQQAAAAAAy/5AAAAAAJD790AAAAAA0HjxQAAAAABAjedAAAAAAIAh3UAAAAAAgF7SQA==",
          "dtype": "f8"
         },
         "y": [
          "0-4",
          "5-9",
          "10-14",
          "15-19",
          "20-24",
          "25-29",
          "30-34",
          "35-39",
          "40-44",
          "45-49",
          "50-54",
          "55-59",
          "60-64",
          "65-69",
          "70-74",
          "75-79",
          "80+"
         ]
        },
        {
         "marker": {
          "color": "red"
         },
         "name": "Female",
         "opacity": 0.6,
         "orientation": "h",
         "type": "bar",
         "x": {
          "bdata": "AAAAAPqaJcEAAAAA8nckwQAAAACa5CLBAAAAAFRAIcEAAAAAxIIewQAAAACQMRrBAAAAAJQyFsEAAAAANNQSwQAAAAA4tw7BAAAAABhbCMEAAAAA6KgDwQAAAADIUADBAAAAAKB4+sAAAAAAYF/0wAAAAADguu3AAAAAAIBC5MAAAAAAAOvdwA==",
          "dtype": "f8"
         },
         "y": [
          "0-4",
          "5-9",
          "10-14",
          "15-19",
          "20-24",
          "25-29",
          "30-34",
          "35-39",
          "40-44",
          "45-49",
          "50-54",
          "55-59",
          "60-64",
          "65-69",
          "70-74",
          "75-79",
          "80+"
         ]
        }
       ],
       "frames": [
        {
         "data": [
          {
           "marker": {
            "color": "blue"
           },
           "name": "Male",
           "opacity": 0.6,
           "orientation": "h",
           "type": "bar",
           "x": {
            "bdata": "AAAAAAZpJkEAAAAAmhQlQQAAAAA6ViNBAAAAANyRIUEAAAAAOOMeQQAAAADUVRpBAAAAAEA5FkEAAAAAYL0SQQAAAABgdA5BAAAAAIgCCEEAAAAA2BsDQQAAAAAAy/5AAAAAAJD790AAAAAA0HjxQAAAAABAjedAAAAAAIAh3UAAAAAAgF7SQA==",
            "dtype": "f8"
           },
           "y": [
            "0-4",
            "5-9",
            "10-14",
            "15-19",
            "20-24",
            "25-29",
            "30-34",
            "35-39",
            "40-44",
            "45-49",
            "50-54",
            "55-59",
            "60-64",
            "65-69",
            "70-74",
            "75-79",
            "80+"
           ]
          },
          {
           "marker": {
            "color": "red"
           },
           "name": "Female",
           "opacity": 0.6,
           "orientation": "h",
           "type": "bar",
           "x": {
            "bdata": "AAAAAPqaJcEAAAAA8nckwQAAAACa5CLBAAAAAFRAIcEAAAAAxIIewQAAAACQMRrBAAAAAJQyFsEAAAAANNQSwQAAAAA4tw7BAAAAABhbCMEAAAAA6KgDwQAAAADIUADBAAAAAKB4+sAAAAAAYF/0wAAAAADguu3AAAAAAIBC5MAAAAAAAOvdwA==",
            "dtype": "f8"
           },
           "y": [
            "0-4",
            "5-9",
            "10-14",
            "15-19",
            "20-24",
            "25-29",
            "30-34",
            "35-39",
            "40-44",
            "45-49",
            "50-54",
            "55-59",
            "60-64",
            "65-69",
            "70-74",
            "75-79",
            "80+"
           ]
          }
         ],
         "name": "1990"
        },
        {
         "data": [
          {
           "marker": {
            "color": "blue"
           },
           "name": "Male",
           "opacity": 0.6,
           "orientation": "h",
           "type": "bar",
           "x": {
            "bdata": "AAAAAKyrJkEAAAAA8lYlQQAAAADopiNBAAAAABzfIUEAAAAAJJAfQQAAAADY/hpBAAAAAHDPFkEAAAAAbDwTQQAAAAAwww9BAAAAANDVCEEAAAAAQMEDQQAAAADQuf9AAAAAAJDW+EAAAAAAwDXyQAAAAAAgf+hAAAAAAMA/3kAAAAAAwHbTQA==",
            "dtype": "f8"
           },
           "y": [
            "0-4",
            "5-9",
            "10-14",
            "15-19",
            "20-24",
            "25-29",
            "30-34",
            "35-39",
            "40-44",
            "45-49",
            "50-54",
            "55-59",
            "60-64",
            "65-69",
            "70-74",
            "75-79",
            "80+"
           ]
          },
          {
           "marker": {
            "color": "red"
           },
           "name": "Female",
           "opacity": 0.6,
           "orientation": "h",
           "type": "bar",
           "x": {
            "bdata": "AAAAAFjYJcEAAAAAGrEkwQAAAAD4LiPBAAAAAKKJIcEAAAAAKCcfwQAAAACg2xrBAAAAAMzLFsEAAAAAxFUTwQAAAABIDBDBAAAAAKA5CcEAAAAAuFEEwQAAAAAgxgDBAAAAAABY+8AAAAAAsCf1wAAAAACg1O7AAAAAAEAj5cAAAAAAwDHgwA==",
            "dtype": "f8"
           },
           "y": [
            "0-4",
            "5-9",
            "10-14",
            "15-19",
            "20-24",
            "25-29",
            "30-34",
            "35-39",
            "40-44",
            "45-49",
            "50-54",
            "55-59",
            "60-64",
            "65-69",
            "70-74",
            "75-79",
            "80+"
           ]
          }
         ],
         "name": "1991"
        },
        {
         "data": [
          {
           "marker": {
            "color": "blue"
           },
           "name": "Male",
           "opacity": 0.6,
           "orientation": "h",
           "type": "bar",
           "x": {
            "bdata": "AAAAANb6JkEAAAAAcIslQQAAAADc9yNBAAAAAMIpIkEAAAAAIBkgQQAAAADMoRtBAAAAAHBjF0EAAAAA3LoTQQAAAABchhBBAAAAAICqCUEAAAAA8HMEQQAAAAAAVQBBAAAAAIC2+UAAAAAAsP7yQAAAAABgoulAAAAAAIBR30AAAAAAgMzUQA==",
            "dtype": "f8"
           },
           "y": [
            "0-4",
            "5-9",
            "10-14",
            "15-19",
            "20-24",
            "25-29",
            "30-34",
            "35-39",
            "40-44",
            "45-49",
            "50-54",
            "55-59",
            "60-64",
            "65-69",
            "70-74",
            "75-79",
            "80+"
           ]
          },
          {
           "marker": {
            "color": "red"
           },
           "name": "Female",
           "opacity": 0.6,
           "orientation": "h",
           "type": "bar",
           "x": {
            "bdata": "AAAAAOohJsEAAAAAkNwkwQAAAAA4eSPBAAAAAGDPIcEAAAAAKMEfwQAAAADIfhvBAAAAAORjF8EAAAAAONgTwQAAAAC8uRDBAAAAAMAbCsEAAAAA+AkFwQAAAACIOgHBAAAAAPA5/MAAAAAAEPv1wAAAAAAAEPDAAAAAAMD15cAAAAAAYK3hwA==",
            "dtype": "f8"
           },
           "y": [
            "0-4",
            "5-9",
            "10-14",
            "15-19",
            "20-24",
            "25-29",
            "30-34",
            "35-39",
            "40-44",
            "45-49",
            "50-54",
            "55-59",
            "60-64",
            "65-69",
            "70-74",
            "75-79",
            "80+"
           ]
          }
         ],
         "name": "1992"
        },
        {
         "data": [
          {
           "marker": {
            "color": "blue"
           },
           "name": "Male",
           "opacity": 0.6,
           "orientation": "h",
           "type": "bar",
           "x": {
            "bdata": "AAAAAGhIJ0EAAAAAHLclQQAAAAC+SSRBAAAAANJyIkEAAAAAkGQgQQAAAABkPhxBAAAAANz0F0EAAAAA/DgUQQAAAACwFBFBAAAAAHCmCkEAAAAAEDQFQQAAAADYzwBBAAAAAPCX+kAAAAAAMMvzQAAAAAAA5upAAAAAAIA14EAAAAAAAE/WQA==",
            "dtype": "f8"
           },
           "y": [
            "0-4",
            "5-9",
            "10-14",
            "15-19",
            "20-24",
            "25-29",
            "30-34",
            "35-39",
            "40-44",
            "45-49",
            "50-54",
            "55-59",
            "60-64",
            "65-69",
            "70-74",
            "75-79",
            "80+"
           ]
          },
          {
           "marker": {
            "color": "red"
           },
           "name": "Female",
           "opacity": 0.6,
           "orientation": "h",
           "type": "bar",
           "x": {
            "bdata": "AAAAAFZqJsEAAAAALAAlwQAAAADIwyPBAAAAAKYSIsEAAAAA7CcgwQAAAACcGRzBAAAAABT6F8EAAAAANFsUwQAAAAC4TxHBAAAAAIAmC8EAAAAAONIFwQAAAACwsgHBAAAAAFAd/cAAAAAAMNT2wAAAAACwxPDAAAAAAIC+5sAAAAAAoEzjwA==",
            "dtype": "f8"
           },
           "y": [
            "0-4",
            "5-9",
            "10-14",
            "15-19",
            "20-24",
            "25-29",
            "30-34",
            "35-39",
            "40-44",
            "45-49",
            "50-54",
            "55-59",
            "60-64",
            "65-69",
            "70-74",
            "75-79",
            "80+"
           ]
          }
         ],
         "name": "1993"
        },
        {
         "data": [
          {
           "marker": {
            "color": "blue"
           },
           "name": "Male",
           "opacity": 0.6,
           "orientation": "h",
           "type": "bar",
           "x": {
            "bdata": "AAAAACSGJ0EAAAAACOElQQAAAAC4niRBAAAAAHS6IkEAAAAAwKggQQAAAAD80BxBAAAAAJyAGEEAAAAARLUUQQAAAACkgxFBAAAAALDXC0EAAAAA+PoFQQAAAAA4VQFBAAAAAFB8+0AAAAAA0Jr0QAAAAACgP+xAAAAAAADj4EAAAAAAwPrXQA==",
            "dtype": "f8"
           },
           "y": [
            "0-4",
            "5-9",
            "10-14",
            "15-19",
            "20-24",
            "25-29",
            "30-34",
            "35-39",
            "40-44",
            "45-49",
            "50-54",
            "55-59",
            "60-64",
            "65-69",
            "70-74",
            "75-79",
            "80+"
           ]
          },
          {
           "marker": {
            "color": "red"
           },
           "name": "Female",
           "opacity": 0.6,
           "orientation": "h",
           "type": "bar",
           "x": {
            "bdata": "AAAAAN6jJsEAAAAAFiMlwQAAAACEECTBAAAAAKxTIsEAAAAA8GcgwQAAAADApxzBAAAAAJSLGMEAAAAARN0UwQAAAAAgxhHBAAAAAChnDMEAAAAAQKMGwQAAAADANwLBAAAAAMAB/sAAAAAAQLH3wAAAAABggfHAAAAAAGCg58AAAAAAoAjlwA==",
            "dtype": "f8"
           },
           "y": [
            "0-4",
            "5-9",
            "10-14",
            "15-19",
            "20-24",
            "25-29",
            "30-34",
            "35-39",
            "40-44",
            "45-49",
            "50-54",
            "55-59",
            "60-64",
            "65-69",
            "70-74",
            "75-79",
            "80+"
           ]
          }
         ],
         "name": "1994"
        },
        {
         "data": [
          {
           "marker": {
            "color": "blue"
           },
           "name": "Male",
           "opacity": 0.6,
           "orientation": "h",
           "type": "bar",
           "x": {
            "bdata": "AAAAAPa4J0EAAAAAjhMmQQAAAADe7iRBAAAAACQEI0EAAAAAfOogQQAAAACEYB1BAAAAAFwMGUEAAAAAiDMVQQAAAAAk7RFBAAAAADAWDUEAAAAAIMQGQQAAAACY5wFBAAAAANBk/EAAAAAAQGv1QAAAAADAoO1AAAAAAEC34UAAAAAAQMXZQA==",
            "dtype": "f8"
           },
           "y": [
            "0-4",
            "5-9",
            "10-14",
            "15-19",
            "20-24",
            "25-29",
            "30-34",
            "35-39",
            "40-44",
            "45-49",
            "50-54",
            "55-59",
            "60-64",
            "65-69",
            "70-74",
            "75-79",
            "80+"
           ]
          },
          {
           "marker": {
            "color": "red"
           },
           "name": "Female",
           "opacity": 0.6,
           "orientation": "h",
           "type": "bar",
           "x": {
            "bdata": "AAAAACDTJsEAAAAAnE8lwQAAAAB0VyTBAAAAAMqWIsEAAAAAdKUgwQAAAAAwMR3BAAAAADQdGcEAAAAAYGIVwQAAAAC0NRLBAAAAAKi4DcEAAAAAmHgHwQAAAABozALBAAAAADDo/sAAAAAAsI34wAAAAAAgQvLAAAAAAGCm6MAAAAAA4NfmwA==",
            "dtype": "f8"
           },
           "y": [
            "0-4",
            "5-9",
            "10-14",
            "15-19",
            "20-24",
            "25-29",
            "30-34",
            "35-39",
            "40-44",
            "45-49",
            "50-54",
            "55-59",
            "60-64",
            "65-69",
            "70-74",
            "75-79",
            "80+"
           ]
          }
         ],
         "name": "1995"
        },
        {
         "data": [
          {
           "marker": {
            "color": "blue"
           },
           "name": "Male",
           "opacity": 0.6,
           "orientation": "h",
           "type": "bar",
           "x": {
            "bdata": "AAAAAJroJ0EAAAAAVlYmQQAAAACoMCVBAAAAAEBQI0EAAAAAMishQQAAAAAQ7R1BAAAAAHCYGUEAAAAA/LMVQQAAAADMXRJBAAAAAOhQDkEAAAAAAIoHQQAAAABYhQJBAAAAAIBP/UAAAAAAoDz2QAAAAABgCe9AAAAAACCq4kAAAAAAAK7bQA==",
            "dtype": "f8"
           },
           "y": [
            "0-4",
            "5-9",
            "10-14",
            "15-19",
            "20-24",
            "25-29",
            "30-34",
            "35-39",
            "40-44",
            "45-49",
            "50-54",
            "55-59",
            "60-64",
            "65-69",
            "70-74",
            "75-79",
            "80+"
           ]
          },
          {
           "marker": {
            "color": "red"
           },
           "name": "Female",
           "opacity": 0.6,
           "orientation": "h",
           "type": "bar",
           "x": {
            "bdata": "AAAAAF7/JsEAAAAAxowlwQAAAAB+jyTBAAAAAKjcIsEAAAAA1OEgwQAAAAD8th3BAAAAACCuGcEAAAAAsOoVwQAAAACEqxLBAAAAAFgJD8EAAAAAwEwIwQAAAAAwbgPBAAAAALDN/8AAAAAAgGf5wAAAAACAB/PAAAAAAKDH6cAAAAAAYLTowA==",
            "dtype": "f8"
           },
           "y": [
            "0-4",
            "5-9",
            "10-14",
            "15-19",
            "20-24",
            "25-29",
            "30-34",
            "35-39",
            "40-44",
            "45-49",
            "50-54",
            "55-59",
            "60-64",
            "65-69",
            "70-74",
            "75-79",
            "80+"
           ]
          }
         ],
         "name": "1996"
        },
        {
         "data": [
          {
           "marker": {
            "color": "blue"
           },
           "name": "Male",
           "opacity": 0.6,
           "orientation": "h",
           "type": "bar",
           "x": {
            "bdata": "AAAAAK4RKEEAAAAA9qUmQQAAAADMZCVBAAAAAPKdI0EAAAAAmmshQQAAAAAYdR5BAAAAAMgjGkEAAAAATDYWQQAAAAAI0BJBAAAAALCJD0EAAAAAgFMIQQAAAABIMANBAAAAAEA5/kAAAAAA8A/3QAAAAABwPPBAAAAAAAC340AAAAAAwKPdQA==",
            "dtype": "f8"
           },
           "y": [
            "0-4",
            "5-9",
            "10-14",
            "15-19",
            "20-24",
            "25-29",
            "30-34",
            "35-39",
            "40-44",
            "45-49",
            "50-54",
            "55-59",
            "60-64",
            "65-69",
            "70-74",
            "75-79",
            "80+"
           ]
          },
          {
           "marker": {
            "color": "red"
           },
           "name": "Female",
           "opacity": 0.6,
           "orientation": "h",
           "type": "bar",
           "x": {
            "bdata": "AAAAAJ4kJ8EAAAAAtNYlwQAAAABOuiTBAAAAAOwjI8EAAAAAzB0hwQAAAABAOB7BAAAAANw8GsEAAAAAFHUWwQAAAACIJBPBAAAAAEwrEMEAAAAAKCYJwQAAAAA4IATBAAAAAABYAMEAAAAA4D76wAAAAAAA0fPAAAAAAIAA68AAAAAAoJDqwA==",
            "dtype": "f8"
           },
           "y": [
            "0-4",
            "5-9",
            "10-14",
            "15-19",
            "20-24",
            "25-29",
            "30-34",
            "35-39",
            "40-44",
            "45-49",
            "50-54",
            "55-59",
            "60-64",
            "65-69",
            "70-74",
            "75-79",
            "80+"
           ]
          }
         ],
         "name": "1997"
        },
        {
         "data": [
          {
           "marker": {
            "color": "blue"
           },
           "name": "Male",
           "opacity": 0.6,
           "orientation": "h",
           "type": "bar",
           "x": {
            "bdata": "AAAAAFw2KEEAAAAAtvQmQQAAAACIkCVBAAAAAODuI0EAAAAAbq4hQQAAAADM+x5BAAAAAEixGkEAAAAARLwWQQAAAAAQRRNBAAAAABBNEEEAAAAAwEYJQQAAAADw6ANBAAAAAAAo/0AAAAAAEOX3QAAAAADg8/BAAAAAAGDO5EAAAAAAwH/fQA==",
            "dtype": "f8"
           },
           "y": [
            "0-4",
            "5-9",
            "10-14",
            "15-19",
            "20-24",
            "25-29",
            "30-34",
            "35-39",
            "40-44",
            "45-49",
            "50-54",
            "55-59",
            "60-64",
            "65-69",
            "70-74",
            "75-79",
            "80+"
           ]
          },
          {
           "marker": {
            "color": "red"
           },
           "name": "Female",
           "opacity": 0.6,
           "orientation": "h",
           "type": "bar",
           "x": {
            "bdata": "AAAAANBEJ8EAAAAAQiAmwQAAAADA3STBAAAAALZtI8EAAAAAOFwhwQAAAADouB7BAAAAAHzLGsEAAAAAwAIXwQAAAADooRPBAAAAAJi8EMEAAAAAsCoKwQAAAACo4wTBAAAAAIjMAMEAAAAAMBT7wAAAAADQmvTAAAAAAMBD7MAAAAAA4EXswA==",
            "dtype": "f8"
           },
           "y": [
            "0-4",
            "5-9",
            "10-14",
            "15-19",
            "20-24",
            "25-29",
            "30-34",
            "35-39",
            "40-44",
            "45-49",
            "50-54",
            "55-59",
            "60-64",
            "65-69",
            "70-74",
            "75-79",
            "80+"
           ]
          }
         ],
         "name": "1998"
        },
        {
         "data": [
          {
           "marker": {
            "color": "blue"
           },
           "name": "Male",
           "opacity": 0.6,
           "orientation": "h",
           "type": "bar",
           "x": {
            "bdata": "AAAAALJaKEEAAAAACDUnQQAAAAAkuyVBAAAAALJEJEEAAAAAlPQhQQAAAABQgR9BAAAAANRAG0EAAAAAdEUXQQAAAACkvRNBAAAAAJi5EEEAAAAAKHIKQQAAAAC4qQRBAAAAAHgVAEEAAAAAILv4QAAAAACQp/FAAAAAAODf5UAAAAAAgJrgQA==",
            "dtype": "f8"
           },
           "y": [
            "0-4",
            "5-9",
            "10-14",
            "15-19",
            "20-24",
            "25-29",
            "30-34",
            "35-39",
            "40-44",
            "45-49",
            "50-54",
            "55-59",
            "60-64",
            "65-69",
            "70-74",
            "75-79",
            "80+"
           ]
          },
          {
           "marker": {
            "color": "red"
           },
           "name": "Female",
           "opacity": 0.6,
           "orientation": "h",
           "type": "bar",
           "x": {
            "bdata": "AAAAAKRkJ8EAAAAARlwmwQAAAAAgASXBAAAAAHa7I8EAAAAA1J0hwQAAAAA0OR/BAAAAAFRZG8EAAAAAjJMXwQAAAAC8IxTBAAAAALQxEcEAAAAAKGgLwQAAAADosQXBAAAAAKhNAcEAAAAAEOn7wAAAAACgX/XAAAAAAACB7cAAAAAAwMDtwA==",
            "dtype": "f8"
           },
           "y": [
            "0-4",
            "5-9",
            "10-14",
            "15-19",
            "20-24",
            "25-29",
            "30-34",
            "35-39",
            "40-44",
            "45-49",
            "50-54",
            "55-59",
            "60-64",
            "65-69",
            "70-74",
            "75-79",
            "80+"
           ]
          }
         ],
         "name": "1999"
        },
        {
         "data": [
          {
           "marker": {
            "color": "blue"
           },
           "name": "Male",
           "opacity": 0.6,
           "orientation": "h",
           "type": "bar",
           "x": {
            "bdata": "AAAAAJB3KEEAAAAAZGonQQAAAABE7iVBAAAAAASWJEEAAAAAej4iQQAAAADIAiBBAAAAAAjRG0EAAAAASNEXQQAAAAAcOhRBAAAAAGghEUEAAAAAuKoLQQAAAAD4bAVBAAAAAECjAEEAAAAA8JP5QAAAAAAQV/JAAAAAAADq5kAAAAAA4GzhQA==",
            "dtype": "f8"
           },
           "y": [
            "0-4",
            "5-9",
            "10-14",
            "15-19",
            "20-24",
            "25-29",
            "30-34",
            "35-39",
            "40-44",
            "45-49",
            "50-54",
            "55-59",
            "60-64",
            "65-69",
            "70-74",
            "75-79",
            "80+"
           ]
          },
          {
           "marker": {
            "color": "red"
           },
           "name": "Female",
           "opacity": 0.6,
           "orientation": "h",
           "type": "bar",
           "x": {
            "bdata": "AAAAAFh9J8EAAAAA8I0mwQAAAAAMLiXBAAAAAKoDJMEAAAAACuMhwQAAAAAkuB/BAAAAAKDlG8EAAAAAWCYYwQAAAACUqRTBAAAAAPigEcEAAAAAELYMwQAAAABAhAbBAAAAAFDeAcEAAAAAEMH8wAAAAACQIPbAAAAAAGC47sAAAAAAIBTvwA==",
            "dtype": "f8"
           },
           "y": [
            "0-4",
            "5-9",
            "10-14",
            "15-19",
            "20-24",
            "25-29",
            "30-34",
            "35-39",
            "40-44",
            "45-49",
            "50-54",
            "55-59",
            "60-64",
            "65-69",
            "70-74",
            "75-79",
            "80+"
           ]
          }
         ],
         "name": "2000"
        },
        {
         "data": [
          {
           "marker": {
            "color": "blue"
           },
           "name": "Male",
           "opacity": 0.6,
           "orientation": "h",
           "type": "bar",
           "x": {
            "bdata": "AAAAAOaFKEEAAAAA/JwnQQAAAADaMSZBAAAAANDaJEEAAAAA7I4iQQAAAADURyBBAAAAAORkHEEAAAAANGIYQQAAAAC8vBRBAAAAABCSEUEAAAAAcOEMQQAAAAAoLwZBAAAAAAg8AUEAAAAAAHH6QAAAAACgCPNAAAAAAGD750AAAAAA4FHiQA==",
            "dtype": "f8"
           },
           "y": [
            "0-4",
            "5-9",
            "10-14",
            "15-19",
            "20-24",
            "25-29",
            "30-34",
            "35-39",
            "40-44",
            "45-49",
            "50-54",
            "55-59",
            "60-64",
            "65-69",
            "70-74",
            "75-79",
            "80+"
           ]
          },
          {
           "marker": {
            "color": "red"
           },
           "name": "Female",
           "opacity": 0.6,
           "orientation": "h",
           "type": "bar",
           "x": {
            "bdata": "AAAAADyIJ8EAAAAA4LwmwQAAAAD0ayXBAAAAALo+JMEAAAAA2i4iwQAAAAAyHiDBAAAAAGx0HMEAAAAAiLwYwQAAAADMNBXBAAAAAMAYEsEAAAAAgAQOwQAAAABAVgfBAAAAABh9AsEAAAAAsJz9wAAAAABQ4vbAAAAAAMD578AAAAAAUDnwwA==",
            "dtype": "f8"
           },
           "y": [
            "0-4",
            "5-9",
            "10-14",
            "15-19",
            "20-24",
            "25-29",
            "30-34",
            "35-39",
            "40-44",
            "45-49",
            "50-54",
            "55-59",
            "60-64",
            "65-69",
            "70-74",
            "75-79",
            "80+"
           ]
          }
         ],
         "name": "2001"
        },
        {
         "data": [
          {
           "marker": {
            "color": "blue"
           },
           "name": "Male",
           "opacity": 0.6,
           "orientation": "h",
           "type": "bar",
           "x": {
            "bdata": "AAAAAJqLKEEAAAAANsonQQAAAAC0giZBAAAAAHwUJUEAAAAAgOYiQQAAAABykiBBAAAAAGD+HEEAAAAAtPkYQQAAAACsRhVBAAAAAGgHEkEAAAAAeBoOQQAAAADQ9wZBAAAAACjiAUEAAAAAAFL7QAAAAACAwvNAAAAAAEAd6UAAAAAAIF7jQA==",
            "dtype": "f8"
           },
           "y": [
            "0-4",
            "5-9",
            "10-14",
            "15-19",
            "20-24",
            "25-29",
            "30-34",
            "35-39",
            "40-44",
            "45-49",
            "50-54",
            "55-59",
            "60-64",
            "65-69",
            "70-74",
            "75-79",
            "80+"
           ]
          },
          {
           "marker": {
            "color": "red"
           },
           "name": "Female",
           "opacity": 0.6,
           "orientation": "h",
           "type": "bar",
           "x": {
            "bdata": "AAAAAMyLJ8EAAAAA2OUmwQAAAABEtyXBAAAAAPZuJMEAAAAAhIEiwQAAAADaZSDBAAAAAPgHHcEAAAAAZFcZwQAAAAD4xRXBAAAAAMSWEsEAAAAAwFMPwQAAAADQLwjBAAAAAJAtA8EAAAAAIHz+wAAAAADwqPfAAAAAAMCo8MAAAAAA4ATxwA==",
            "dtype": "f8"
           },
           "y": [
            "0-4",
            "5-9",
            "10-14",
            "15-19",
            "20-24",
            "25-29",
            "30-34",
            "35-39",
            "40-44",
            "45-49",
            "50-54",
            "55-59",
            "60-64",
            "65-69",
            "70-74",
            "75-79",
            "80+"
           ]
          }
         ],
         "name": "2002"
        },
        {
         "data": [
          {
           "marker": {
            "color": "blue"
           },
           "name": "Male",
           "opacity": 0.6,
           "orientation": "h",
           "type": "bar",
           "x": {
            "bdata": "AAAAAF6PKEEAAAAAyvMnQQAAAAAI0yZBAAAAAF5HJUEAAAAAFkUjQQAAAABu4yBBAAAAANScHUEAAAAALJgZQQAAAACs1xVBAAAAAKiBEkEAAAAAuC8PQQAAAADw6gdBAAAAAGiWAkEAAAAAED78QAAAAACAhfRAAAAAAEBL6kAAAAAAIIrkQA==",
            "dtype": "f8"
           },
           "y": [
            "0-4",
            "5-9",
            "10-14",
            "15-19",
            "20-24",
            "25-29",
            "30-34",
            "35-39",
            "40-44",
            "45-49",
            "50-54",
            "55-59",
            "60-64",
            "65-69",
            "70-74",
            "75-79",
            "80+"
           ]
          },
          {
           "marker": {
            "color": "red"
           },
           "name": "Female",
           "opacity": 0.6,
           "orientation": "h",
           "type": "bar",
           "x": {
            "bdata": "AAAAAFyOJ8EAAAAAhAonwQAAAACmAibBAAAAAHKZJMEAAAAAKNoiwQAAAADesyDBAAAAAIigHcEAAAAAsPYZwQAAAABgXRbBAAAAAJAaE8EAAAAArD4QwQAAAAB4NQnBAAAAALjvA8EAAAAAcGj/wAAAAACAdvjAAAAAAPBc8cAAAAAAYOnxwA==",
            "dtype": "f8"
           },
           "y": [
            "0-4",
            "5-9",
            "10-14",
            "15-19",
            "20-24",
            "25-29",
            "30-34",
            "35-39",
            "40-44",
            "45-49",
            "50-54",
            "55-59",
            "60-64",
            "65-69",
            "70-74",
            "75-79",
            "80+"
           ]
          }
         ],
         "name": "2003"
        },
        {
         "data": [
          {
           "marker": {
            "color": "blue"
           },
           "name": "Male",
           "opacity": 0.6,
           "orientation": "h",
           "type": "bar",
           "x": {
            "bdata": "AAAAAFqQKEEAAAAAPh0oQQAAAAAqFSdBAAAAANx4JUEAAAAAsKkjQQAAAACIOSFBAAAAAMw8HkEAAAAAHDsaQQAAAADEbRZBAAAAAPQAE0EAAAAAaAgQQQAAAACIFglBAAAAALhTA0EAAAAAcEH9QAAAAADAT/VAAAAAAOB560AAAAAAILzlQA==",
            "dtype": "f8"
           },
           "y": [
            "0-4",
            "5-9",
            "10-14",
            "15-19",
            "20-24",
            "25-29",
            "30-34",
            "35-39",
            "40-44",
            "45-49",
            "50-54",
            "55-59",
            "60-64",
            "65-69",
            "70-74",
            "75-79",
            "80+"
           ]
          },
          {
           "marker": {
            "color": "red"
           },
           "name": "Female",
           "opacity": 0.6,
           "orientation": "h",
           "type": "bar",
           "x": {
            "bdata": "AAAAAJSOJ8EAAAAAJi8nwQAAAAC+QCbBAAAAAO7DJMEAAAAAjjcjwQAAAADoBiHBAAAAABg8HsEAAAAA3JcawQAAAAAY+hbBAAAAACSjE8EAAAAAJLkQwQAAAAAgdArBAAAAAKi8BMEAAAAAYDgAwQAAAADASfnAAAAAAHAT8sAAAAAAYNzywA==",
            "dtype": "f8"
           },
           "y": [
            "0-4",
            "5-9",
            "10-14",
            "15-19",
            "20-24",
            "25-29",
            "30-34",
            "35-39",
            "40-44",
            "45-49",
            "50-54",
            "55-59",
            "60-64",
            "65-69",
            "70-74",
            "75-79",
            "80+"
           ]
          }
         ],
         "name": "2004"
        },
        {
         "data": [
          {
           "marker": {
            "color": "blue"
           },
           "name": "Male",
           "opacity": 0.6,
           "orientation": "h",
           "type": "bar",
           "x": {
            "bdata": "AAAAAG6QKEEAAAAAmD8oQQAAAAC6TCdBAAAAADiyJUEAAAAASAokQQAAAADSlCFBAAAAAETeHkEAAAAA2OAaQQAAAABUCBdBAAAAAACGE0EAAAAA4HQQQQAAAACIUQpBAAAAAIAUBEEAAAAAcFv+QAAAAAAwIfZAAAAAAECi7EAAAAAAwNzmQA==",
            "dtype": "f8"
           },
           "y": [
            "0-4",
            "5-9",
            "10-14",
            "15-19",
            "20-24",
            "25-29",
            "30-34",
            "35-39",
            "40-44",
            "45-49",
            "50-54",
            "55-59",
            "60-64",
            "65-69",
            "70-74",
            "75-79",
            "80+"
           ]
          },
          {
           "marker": {
            "color": "red"
           },
           "name": "Female",
           "opacity": 0.6,
           "orientation": "h",
           "type": "bar",
           "x": {
            "bdata": "AAAAAFCOJ8EAAAAADE0nwQAAAADQdCbBAAAAAKL3JMEAAAAA1I8jwQAAAABQXyHBAAAAAEzaHsEAAAAAMDobwQAAAABQmxfBAAAAAGwwFMEAAAAAOC4RwQAAAADgxAvBAAAAAEiOBcEAAAAASMoAwQAAAADAIfrAAAAAAGDI8sAAAAAAUNHzwA==",
            "dtype": "f8"
           },
           "y": [
            "0-4",
            "5-9",
            "10-14",
            "15-19",
            "20-24",
            "25-29",
            "30-34",
            "35-39",
            "40-44",
            "45-49",
            "50-54",
            "55-59",
            "60-64",
            "65-69",
            "70-74",
            "75-79",
            "80+"
           ]
          }
         ],
         "name": "2005"
        }
       ],
       "layout": {
        "bargap": 0.1,
        "barmode": "overlay",
        "sliders": [
         {
          "active": 0,
          "currentvalue": {
           "font": {
            "size": 20
           },
           "prefix": "Year:",
           "visible": true,
           "xanchor": "right"
          },
          "len": 0.9,
          "pad": {
           "b": 10,
           "t": 50
          },
          "steps": [
           {
            "args": [
             [
              "1990"
             ],
             {
              "frame": {
               "duration": 300,
               "redraw": true
              },
              "mode": "immediate",
              "transition": {
               "duration": 300
              }
             }
            ],
            "label": "1990",
            "method": "animate"
           },
           {
            "args": [
             [
              "1991"
             ],
             {
              "frame": {
               "duration": 300,
               "redraw": true
              },
              "mode": "immediate",
              "transition": {
               "duration": 300
              }
             }
            ],
            "label": "1991",
            "method": "animate"
           },
           {
            "args": [
             [
              "1992"
             ],
             {
              "frame": {
               "duration": 300,
               "redraw": true
              },
              "mode": "immediate",
              "transition": {
               "duration": 300
              }
             }
            ],
            "label": "1992",
            "method": "animate"
           },
           {
            "args": [
             [
              "1993"
             ],
             {
              "frame": {
               "duration": 300,
               "redraw": true
              },
              "mode": "immediate",
              "transition": {
               "duration": 300
              }
             }
            ],
            "label": "1993",
            "method": "animate"
           },
           {
            "args": [
             [
              "1994"
             ],
             {
              "frame": {
               "duration": 300,
               "redraw": true
              },
              "mode": "immediate",
              "transition": {
               "duration": 300
              }
             }
            ],
            "label": "1994",
            "method": "animate"
           },
           {
            "args": [
             [
              "1995"
             ],
             {
              "frame": {
               "duration": 300,
               "redraw": true
              },
              "mode": "immediate",
              "transition": {
               "duration": 300
              }
             }
            ],
            "label": "1995",
            "method": "animate"
           },
           {
            "args": [
             [
              "1996"
             ],
             {
              "frame": {
               "duration": 300,
               "redraw": true
              },
              "mode": "immediate",
              "transition": {
               "duration": 300
              }
             }
            ],
            "label": "1996",
            "method": "animate"
           },
           {
            "args": [
             [
              "1997"
             ],
             {
              "frame": {
               "duration": 300,
               "redraw": true
              },
              "mode": "immediate",
              "transition": {
               "duration": 300
              }
             }
            ],
            "label": "1997",
            "method": "animate"
           },
           {
            "args": [
             [
              "1998"
             ],
             {
              "frame": {
               "duration": 300,
               "redraw": true
              },
              "mode": "immediate",
              "transition": {
               "duration": 300
              }
             }
            ],
            "label": "1998",
            "method": "animate"
           },
           {
            "args": [
             [
              "1999"
             ],
             {
              "frame": {
               "duration": 300,
               "redraw": true
              },
              "mode": "immediate",
              "transition": {
               "duration": 300
              }
             }
            ],
            "label": "1999",
            "method": "animate"
           },
           {
            "args": [
             [
              "2000"
             ],
             {
              "frame": {
               "duration": 300,
               "redraw": true
              },
              "mode": "immediate",
              "transition": {
               "duration": 300
              }
             }
            ],
            "label": "2000",
            "method": "animate"
           },
           {
            "args": [
             [
              "2001"
             ],
             {
              "frame": {
               "duration": 300,
               "redraw": true
              },
              "mode": "immediate",
              "transition": {
               "duration": 300
              }
             }
            ],
            "label": "2001",
            "method": "animate"
           },
           {
            "args": [
             [
              "2002"
             ],
             {
              "frame": {
               "duration": 300,
               "redraw": true
              },
              "mode": "immediate",
              "transition": {
               "duration": 300
              }
             }
            ],
            "label": "2002",
            "method": "animate"
           },
           {
            "args": [
             [
              "2003"
             ],
             {
              "frame": {
               "duration": 300,
               "redraw": true
              },
              "mode": "immediate",
              "transition": {
               "duration": 300
              }
             }
            ],
            "label": "2003",
            "method": "animate"
           },
           {
            "args": [
             [
              "2004"
             ],
             {
              "frame": {
               "duration": 300,
               "redraw": true
              },
              "mode": "immediate",
              "transition": {
               "duration": 300
              }
             }
            ],
            "label": "2004",
            "method": "animate"
           },
           {
            "args": [
             [
              "2005"
             ],
             {
              "frame": {
               "duration": 300,
               "redraw": true
              },
              "mode": "immediate",
              "transition": {
               "duration": 300
              }
             }
            ],
            "label": "2005",
            "method": "animate"
           }
          ],
          "transition": {
           "duration": 300,
           "easing": "cubic-in-out"
          },
          "x": 0.1,
          "xanchor": "left",
          "y": 0,
          "yanchor": "top"
         }
        ],
        "template": {
         "data": {
          "bar": [
           {
            "error_x": {
             "color": "#2a3f5f"
            },
            "error_y": {
             "color": "#2a3f5f"
            },
            "marker": {
             "line": {
              "color": "#E5ECF6",
              "width": 0.5
             },
             "pattern": {
              "fillmode": "overlay",
              "size": 10,
              "solidity": 0.2
             }
            },
            "type": "bar"
           }
          ],
          "barpolar": [
           {
            "marker": {
             "line": {
              "color": "#E5ECF6",
              "width": 0.5
             },
             "pattern": {
              "fillmode": "overlay",
              "size": 10,
              "solidity": 0.2
             }
            },
            "type": "barpolar"
           }
          ],
          "carpet": [
           {
            "aaxis": {
             "endlinecolor": "#2a3f5f",
             "gridcolor": "white",
             "linecolor": "white",
             "minorgridcolor": "white",
             "startlinecolor": "#2a3f5f"
            },
            "baxis": {
             "endlinecolor": "#2a3f5f",
             "gridcolor": "white",
             "linecolor": "white",
             "minorgridcolor": "white",
             "startlinecolor": "#2a3f5f"
            },
            "type": "carpet"
           }
          ],
          "choropleth": [
           {
            "colorbar": {
             "outlinewidth": 0,
             "ticks": ""
            },
            "type": "choropleth"
           }
          ],
          "contour": [
           {
            "colorbar": {
             "outlinewidth": 0,
             "ticks": ""
            },
            "colorscale": [
             [
              0,
              "#0d0887"
             ],
             [
              0.1111111111111111,
              "#46039f"
             ],
             [
              0.2222222222222222,
              "#7201a8"
             ],
             [
              0.3333333333333333,
              "#9c179e"
             ],
             [
              0.4444444444444444,
              "#bd3786"
             ],
             [
              0.5555555555555556,
              "#d8576b"
             ],
             [
              0.6666666666666666,
              "#ed7953"
             ],
             [
              0.7777777777777778,
              "#fb9f3a"
             ],
             [
              0.8888888888888888,
              "#fdca26"
             ],
             [
              1,
              "#f0f921"
             ]
            ],
            "type": "contour"
           }
          ],
          "contourcarpet": [
           {
            "colorbar": {
             "outlinewidth": 0,
             "ticks": ""
            },
            "type": "contourcarpet"
           }
          ],
          "heatmap": [
           {
            "colorbar": {
             "outlinewidth": 0,
             "ticks": ""
            },
            "colorscale": [
             [
              0,
              "#0d0887"
             ],
             [
              0.1111111111111111,
              "#46039f"
             ],
             [
              0.2222222222222222,
              "#7201a8"
             ],
             [
              0.3333333333333333,
              "#9c179e"
             ],
             [
              0.4444444444444444,
              "#bd3786"
             ],
             [
              0.5555555555555556,
              "#d8576b"
             ],
             [
              0.6666666666666666,
              "#ed7953"
             ],
             [
              0.7777777777777778,
              "#fb9f3a"
             ],
             [
              0.8888888888888888,
              "#fdca26"
             ],
             [
              1,
              "#f0f921"
             ]
            ],
            "type": "heatmap"
           }
          ],
          "histogram": [
           {
            "marker": {
             "pattern": {
              "fillmode": "overlay",
              "size": 10,
              "solidity": 0.2
             }
            },
            "type": "histogram"
           }
          ],
          "histogram2d": [
           {
            "colorbar": {
             "outlinewidth": 0,
             "ticks": ""
            },
            "colorscale": [
             [
              0,
              "#0d0887"
             ],
             [
              0.1111111111111111,
              "#46039f"
             ],
             [
              0.2222222222222222,
              "#7201a8"
             ],
             [
              0.3333333333333333,
              "#9c179e"
             ],
             [
              0.4444444444444444,
              "#bd3786"
             ],
             [
              0.5555555555555556,
              "#d8576b"
             ],
             [
              0.6666666666666666,
              "#ed7953"
             ],
             [
              0.7777777777777778,
              "#fb9f3a"
             ],
             [
              0.8888888888888888,
              "#fdca26"
             ],
             [
              1,
              "#f0f921"
             ]
            ],
            "type": "histogram2d"
           }
          ],
          "histogram2dcontour": [
           {
            "colorbar": {
             "outlinewidth": 0,
             "ticks": ""
            },
            "colorscale": [
             [
              0,
              "#0d0887"
             ],
             [
              0.1111111111111111,
              "#46039f"
             ],
             [
              0.2222222222222222,
              "#7201a8"
             ],
             [
              0.3333333333333333,
              "#9c179e"
             ],
             [
              0.4444444444444444,
              "#bd3786"
             ],
             [
              0.5555555555555556,
              "#d8576b"
             ],
             [
              0.6666666666666666,
              "#ed7953"
             ],
             [
              0.7777777777777778,
              "#fb9f3a"
             ],
             [
              0.8888888888888888,
              "#fdca26"
             ],
             [
              1,
              "#f0f921"
             ]
            ],
            "type": "histogram2dcontour"
           }
          ],
          "mesh3d": [
           {
            "colorbar": {
             "outlinewidth": 0,
             "ticks": ""
            },
            "type": "mesh3d"
           }
          ],
          "parcoords": [
           {
            "line": {
             "colorbar": {
              "outlinewidth": 0,
              "ticks": ""
             }
            },
            "type": "parcoords"
           }
          ],
          "pie": [
           {
            "automargin": true,
            "type": "pie"
           }
          ],
          "scatter": [
           {
            "fillpattern": {
             "fillmode": "overlay",
             "size": 10,
             "solidity": 0.2
            },
            "type": "scatter"
           }
          ],
          "scatter3d": [
           {
            "line": {
             "colorbar": {
              "outlinewidth": 0,
              "ticks": ""
             }
            },
            "marker": {
             "colorbar": {
              "outlinewidth": 0,
              "ticks": ""
             }
            },
            "type": "scatter3d"
           }
          ],
          "scattercarpet": [
           {
            "marker": {
             "colorbar": {
              "outlinewidth": 0,
              "ticks": ""
             }
            },
            "type": "scattercarpet"
           }
          ],
          "scattergeo": [
           {
            "marker": {
             "colorbar": {
              "outlinewidth": 0,
              "ticks": ""
             }
            },
            "type": "scattergeo"
           }
          ],
          "scattergl": [
           {
            "marker": {
             "colorbar": {
              "outlinewidth": 0,
              "ticks": ""
             }
            },
            "type": "scattergl"
           }
          ],
          "scattermap": [
           {
            "marker": {
             "colorbar": {
              "outlinewidth": 0,
              "ticks": ""
             }
            },
            "type": "scattermap"
           }
          ],
          "scattermapbox": [
           {
            "marker": {
             "colorbar": {
              "outlinewidth": 0,
              "ticks": ""
             }
            },
            "type": "scattermapbox"
           }
          ],
          "scatterpolar": [
           {
            "marker": {
             "colorbar": {
              "outlinewidth": 0,
              "ticks": ""
             }
            },
            "type": "scatterpolar"
           }
          ],
          "scatterpolargl": [
           {
            "marker": {
             "colorbar": {
              "outlinewidth": 0,
              "ticks": ""
             }
            },
            "type": "scatterpolargl"
           }
          ],
          "scatterternary": [
           {
            "marker": {
             "colorbar": {
              "outlinewidth": 0,
              "ticks": ""
             }
            },
            "type": "scatterternary"
           }
          ],
          "surface": [
           {
            "colorbar": {
             "outlinewidth": 0,
             "ticks": ""
            },
            "colorscale": [
             [
              0,
              "#0d0887"
             ],
             [
              0.1111111111111111,
              "#46039f"
             ],
             [
              0.2222222222222222,
              "#7201a8"
             ],
             [
              0.3333333333333333,
              "#9c179e"
             ],
             [
              0.4444444444444444,
              "#bd3786"
             ],
             [
              0.5555555555555556,
              "#d8576b"
             ],
             [
              0.6666666666666666,
              "#ed7953"
             ],
             [
              0.7777777777777778,
              "#fb9f3a"
             ],
             [
              0.8888888888888888,
              "#fdca26"
             ],
             [
              1,
              "#f0f921"
             ]
            ],
            "type": "surface"
           }
          ],
          "table": [
           {
            "cells": {
             "fill": {
              "color": "#EBF0F8"
             },
             "line": {
              "color": "white"
             }
            },
            "header": {
             "fill": {
              "color": "#C8D4E3"
             },
             "line": {
              "color": "white"
             }
            },
            "type": "table"
           }
          ]
         },
         "layout": {
          "annotationdefaults": {
           "arrowcolor": "#2a3f5f",
           "arrowhead": 0,
           "arrowwidth": 1
          },
          "autotypenumbers": "strict",
          "coloraxis": {
           "colorbar": {
            "outlinewidth": 0,
            "ticks": ""
           }
          },
          "colorscale": {
           "diverging": [
            [
             0,
             "#8e0152"
            ],
            [
             0.1,
             "#c51b7d"
            ],
            [
             0.2,
             "#de77ae"
            ],
            [
             0.3,
             "#f1b6da"
            ],
            [
             0.4,
             "#fde0ef"
            ],
            [
             0.5,
             "#f7f7f7"
            ],
            [
             0.6,
             "#e6f5d0"
            ],
            [
             0.7,
             "#b8e186"
            ],
            [
             0.8,
             "#7fbc41"
            ],
            [
             0.9,
             "#4d9221"
            ],
            [
             1,
             "#276419"
            ]
           ],
           "sequential": [
            [
             0,
             "#0d0887"
            ],
            [
             0.1111111111111111,
             "#46039f"
            ],
            [
             0.2222222222222222,
             "#7201a8"
            ],
            [
             0.3333333333333333,
             "#9c179e"
            ],
            [
             0.4444444444444444,
             "#bd3786"
            ],
            [
             0.5555555555555556,
             "#d8576b"
            ],
            [
             0.6666666666666666,
             "#ed7953"
            ],
            [
             0.7777777777777778,
             "#fb9f3a"
            ],
            [
             0.8888888888888888,
             "#fdca26"
            ],
            [
             1,
             "#f0f921"
            ]
           ],
           "sequentialminus": [
            [
             0,
             "#0d0887"
            ],
            [
             0.1111111111111111,
             "#46039f"
            ],
            [
             0.2222222222222222,
             "#7201a8"
            ],
            [
             0.3333333333333333,
             "#9c179e"
            ],
            [
             0.4444444444444444,
             "#bd3786"
            ],
            [
             0.5555555555555556,
             "#d8576b"
            ],
            [
             0.6666666666666666,
             "#ed7953"
            ],
            [
             0.7777777777777778,
             "#fb9f3a"
            ],
            [
             0.8888888888888888,
             "#fdca26"
            ],
            [
             1,
             "#f0f921"
            ]
           ]
          },
          "colorway": [
           "#636efa",
           "#EF553B",
           "#00cc96",
           "#ab63fa",
           "#FFA15A",
           "#19d3f3",
           "#FF6692",
           "#B6E880",
           "#FF97FF",
           "#FECB52"
          ],
          "font": {
           "color": "#2a3f5f"
          },
          "geo": {
           "bgcolor": "white",
           "lakecolor": "white",
           "landcolor": "#E5ECF6",
           "showlakes": true,
           "showland": true,
           "subunitcolor": "white"
          },
          "hoverlabel": {
           "align": "left"
          },
          "hovermode": "closest",
          "mapbox": {
           "style": "light"
          },
          "paper_bgcolor": "white",
          "plot_bgcolor": "#E5ECF6",
          "polar": {
           "angularaxis": {
            "gridcolor": "white",
            "linecolor": "white",
            "ticks": ""
           },
           "bgcolor": "#E5ECF6",
           "radialaxis": {
            "gridcolor": "white",
            "linecolor": "white",
            "ticks": ""
           }
          },
          "scene": {
           "xaxis": {
            "backgroundcolor": "#E5ECF6",
            "gridcolor": "white",
            "gridwidth": 2,
            "linecolor": "white",
            "showbackground": true,
            "ticks": "",
            "zerolinecolor": "white"
           },
           "yaxis": {
            "backgroundcolor": "#E5ECF6",
            "gridcolor": "white",
            "gridwidth": 2,
            "linecolor": "white",
            "showbackground": true,
            "ticks": "",
            "zerolinecolor": "white"
           },
           "zaxis": {
            "backgroundcolor": "#E5ECF6",
            "gridcolor": "white",
            "gridwidth": 2,
            "linecolor": "white",
            "showbackground": true,
            "ticks": "",
            "zerolinecolor": "white"
           }
          },
          "shapedefaults": {
           "line": {
            "color": "#2a3f5f"
           }
          },
          "ternary": {
           "aaxis": {
            "gridcolor": "white",
            "linecolor": "white",
            "ticks": ""
           },
           "baxis": {
            "gridcolor": "white",
            "linecolor": "white",
            "ticks": ""
           },
           "bgcolor": "#E5ECF6",
           "caxis": {
            "gridcolor": "white",
            "linecolor": "white",
            "ticks": ""
           }
          },
          "title": {
           "x": 0.05
          },
          "xaxis": {
           "automargin": true,
           "gridcolor": "white",
           "linecolor": "white",
           "ticks": "",
           "title": {
            "standoff": 15
           },
           "zerolinecolor": "white",
           "zerolinewidth": 2
          },
          "yaxis": {
           "automargin": true,
           "gridcolor": "white",
           "linecolor": "white",
           "ticks": "",
           "title": {
            "standoff": 15
           },
           "zerolinecolor": "white",
           "zerolinewidth": 2
          }
         }
        },
        "title": {
         "text": "Animated Population Pyramid of Ecuador (1990-2005)"
        },
        "updatemenus": [
         {
          "buttons": [
           {
            "args": [
             null,
             {
              "frame": {
               "duration": 500,
               "redraw": true
              },
              "fromcurrent": true
             }
            ],
            "label": "Play",
            "method": "animate"
           },
           {
            "args": [
             [
              null
             ],
             {
              "frame": {
               "duration": 0,
               "redraw": true
              },
              "mode": "immediate",
              "transition": {
               "duration": 0
              }
             }
            ],
            "label": "Pause",
            "method": "animate"
           }
          ],
          "direction": "left",
          "pad": {
           "r": 10,
           "t": 87
          },
          "showactive": false,
          "type": "buttons",
          "x": 0.1,
          "xanchor": "right",
          "y": 0,
          "yanchor": "top"
         }
        ],
        "xaxis": {
         "nticks": 8,
         "range": [
          -885410.9,
          885410.9
         ],
         "tickmode": "auto",
         "title": {
          "text": "Population"
         }
        },
        "yaxis": {
         "categoryarray": [
          "0-4",
          "5-9",
          "10-14",
          "15-19",
          "20-24",
          "25-29",
          "30-34",
          "35-39",
          "40-44",
          "45-49",
          "50-54",
          "55-59",
          "60-64",
          "65-69",
          "70-74",
          "75-79",
          "80+"
         ],
         "categoryorder": "array",
         "title": {
          "text": "Age Group"
         }
        }
       }
      },
      "text/html": [
       "<div>            <script src=\"https://cdnjs.cloudflare.com/ajax/libs/mathjax/2.7.5/MathJax.js?config=TeX-AMS-MML_SVG\"></script><script type=\"text/javascript\">if (window.MathJax && window.MathJax.Hub && window.MathJax.Hub.Config) {window.MathJax.Hub.Config({SVG: {font: \"STIX-Web\"}});}</script>                <script type=\"text/javascript\">window.PlotlyConfig = {MathJaxConfig: 'local'};</script>\n",
       "        <script charset=\"utf-8\" src=\"https://cdn.plot.ly/plotly-3.0.0.min.js\"></script>                <div id=\"596ca2be-2a93-4784-86a4-227b10fcbc68\" class=\"plotly-graph-div\" style=\"height:525px; width:100%;\"></div>            <script type=\"text/javascript\">                window.PLOTLYENV=window.PLOTLYENV || {};                                if (document.getElementById(\"596ca2be-2a93-4784-86a4-227b10fcbc68\")) {                    Plotly.newPlot(                        \"596ca2be-2a93-4784-86a4-227b10fcbc68\",                        [{\"marker\":{\"color\":\"blue\"},\"name\":\"Male\",\"opacity\":0.6,\"orientation\":\"h\",\"x\":{\"dtype\":\"f8\",\"bdata\":\"AAAAAAZpJkEAAAAAmhQlQQAAAAA6ViNBAAAAANyRIUEAAAAAOOMeQQAAAADUVRpBAAAAAEA5FkEAAAAAYL0SQQAAAABgdA5BAAAAAIgCCEEAAAAA2BsDQQAAAAAAy\\u002f5AAAAAAJD790AAAAAA0HjxQAAAAABAjedAAAAAAIAh3UAAAAAAgF7SQA==\"},\"y\":[\"0-4\",\"5-9\",\"10-14\",\"15-19\",\"20-24\",\"25-29\",\"30-34\",\"35-39\",\"40-44\",\"45-49\",\"50-54\",\"55-59\",\"60-64\",\"65-69\",\"70-74\",\"75-79\",\"80+\"],\"type\":\"bar\"},{\"marker\":{\"color\":\"red\"},\"name\":\"Female\",\"opacity\":0.6,\"orientation\":\"h\",\"x\":{\"dtype\":\"f8\",\"bdata\":\"AAAAAPqaJcEAAAAA8nckwQAAAACa5CLBAAAAAFRAIcEAAAAAxIIewQAAAACQMRrBAAAAAJQyFsEAAAAANNQSwQAAAAA4tw7BAAAAABhbCMEAAAAA6KgDwQAAAADIUADBAAAAAKB4+sAAAAAAYF\\u002f0wAAAAADguu3AAAAAAIBC5MAAAAAAAOvdwA==\"},\"y\":[\"0-4\",\"5-9\",\"10-14\",\"15-19\",\"20-24\",\"25-29\",\"30-34\",\"35-39\",\"40-44\",\"45-49\",\"50-54\",\"55-59\",\"60-64\",\"65-69\",\"70-74\",\"75-79\",\"80+\"],\"type\":\"bar\"}],                        {\"bargap\":0.1,\"barmode\":\"overlay\",\"title\":{\"text\":\"Animated Population Pyramid of Ecuador (1990-2005)\"},\"updatemenus\":[{\"buttons\":[{\"args\":[null,{\"frame\":{\"duration\":500,\"redraw\":true},\"fromcurrent\":true}],\"label\":\"Play\",\"method\":\"animate\"},{\"args\":[[null],{\"frame\":{\"duration\":0,\"redraw\":true},\"mode\":\"immediate\",\"transition\":{\"duration\":0}}],\"label\":\"Pause\",\"method\":\"animate\"}],\"direction\":\"left\",\"pad\":{\"r\":10,\"t\":87},\"showactive\":false,\"type\":\"buttons\",\"x\":0.1,\"xanchor\":\"right\",\"y\":0,\"yanchor\":\"top\"}],\"xaxis\":{\"nticks\":8,\"range\":[-885410.9,885410.9],\"tickmode\":\"auto\",\"title\":{\"text\":\"Population\"}},\"yaxis\":{\"categoryarray\":[\"0-4\",\"5-9\",\"10-14\",\"15-19\",\"20-24\",\"25-29\",\"30-34\",\"35-39\",\"40-44\",\"45-49\",\"50-54\",\"55-59\",\"60-64\",\"65-69\",\"70-74\",\"75-79\",\"80+\"],\"categoryorder\":\"array\",\"title\":{\"text\":\"Age Group\"}},\"template\":{\"data\":{\"histogram2dcontour\":[{\"type\":\"histogram2dcontour\",\"colorbar\":{\"outlinewidth\":0,\"ticks\":\"\"},\"colorscale\":[[0.0,\"#0d0887\"],[0.1111111111111111,\"#46039f\"],[0.2222222222222222,\"#7201a8\"],[0.3333333333333333,\"#9c179e\"],[0.4444444444444444,\"#bd3786\"],[0.5555555555555556,\"#d8576b\"],[0.6666666666666666,\"#ed7953\"],[0.7777777777777778,\"#fb9f3a\"],[0.8888888888888888,\"#fdca26\"],[1.0,\"#f0f921\"]]}],\"choropleth\":[{\"type\":\"choropleth\",\"colorbar\":{\"outlinewidth\":0,\"ticks\":\"\"}}],\"histogram2d\":[{\"type\":\"histogram2d\",\"colorbar\":{\"outlinewidth\":0,\"ticks\":\"\"},\"colorscale\":[[0.0,\"#0d0887\"],[0.1111111111111111,\"#46039f\"],[0.2222222222222222,\"#7201a8\"],[0.3333333333333333,\"#9c179e\"],[0.4444444444444444,\"#bd3786\"],[0.5555555555555556,\"#d8576b\"],[0.6666666666666666,\"#ed7953\"],[0.7777777777777778,\"#fb9f3a\"],[0.8888888888888888,\"#fdca26\"],[1.0,\"#f0f921\"]]}],\"heatmap\":[{\"type\":\"heatmap\",\"colorbar\":{\"outlinewidth\":0,\"ticks\":\"\"},\"colorscale\":[[0.0,\"#0d0887\"],[0.1111111111111111,\"#46039f\"],[0.2222222222222222,\"#7201a8\"],[0.3333333333333333,\"#9c179e\"],[0.4444444444444444,\"#bd3786\"],[0.5555555555555556,\"#d8576b\"],[0.6666666666666666,\"#ed7953\"],[0.7777777777777778,\"#fb9f3a\"],[0.8888888888888888,\"#fdca26\"],[1.0,\"#f0f921\"]]}],\"contourcarpet\":[{\"type\":\"contourcarpet\",\"colorbar\":{\"outlinewidth\":0,\"ticks\":\"\"}}],\"contour\":[{\"type\":\"contour\",\"colorbar\":{\"outlinewidth\":0,\"ticks\":\"\"},\"colorscale\":[[0.0,\"#0d0887\"],[0.1111111111111111,\"#46039f\"],[0.2222222222222222,\"#7201a8\"],[0.3333333333333333,\"#9c179e\"],[0.4444444444444444,\"#bd3786\"],[0.5555555555555556,\"#d8576b\"],[0.6666666666666666,\"#ed7953\"],[0.7777777777777778,\"#fb9f3a\"],[0.8888888888888888,\"#fdca26\"],[1.0,\"#f0f921\"]]}],\"surface\":[{\"type\":\"surface\",\"colorbar\":{\"outlinewidth\":0,\"ticks\":\"\"},\"colorscale\":[[0.0,\"#0d0887\"],[0.1111111111111111,\"#46039f\"],[0.2222222222222222,\"#7201a8\"],[0.3333333333333333,\"#9c179e\"],[0.4444444444444444,\"#bd3786\"],[0.5555555555555556,\"#d8576b\"],[0.6666666666666666,\"#ed7953\"],[0.7777777777777778,\"#fb9f3a\"],[0.8888888888888888,\"#fdca26\"],[1.0,\"#f0f921\"]]}],\"mesh3d\":[{\"type\":\"mesh3d\",\"colorbar\":{\"outlinewidth\":0,\"ticks\":\"\"}}],\"scatter\":[{\"fillpattern\":{\"fillmode\":\"overlay\",\"size\":10,\"solidity\":0.2},\"type\":\"scatter\"}],\"parcoords\":[{\"type\":\"parcoords\",\"line\":{\"colorbar\":{\"outlinewidth\":0,\"ticks\":\"\"}}}],\"scatterpolargl\":[{\"type\":\"scatterpolargl\",\"marker\":{\"colorbar\":{\"outlinewidth\":0,\"ticks\":\"\"}}}],\"bar\":[{\"error_x\":{\"color\":\"#2a3f5f\"},\"error_y\":{\"color\":\"#2a3f5f\"},\"marker\":{\"line\":{\"color\":\"#E5ECF6\",\"width\":0.5},\"pattern\":{\"fillmode\":\"overlay\",\"size\":10,\"solidity\":0.2}},\"type\":\"bar\"}],\"scattergeo\":[{\"type\":\"scattergeo\",\"marker\":{\"colorbar\":{\"outlinewidth\":0,\"ticks\":\"\"}}}],\"scatterpolar\":[{\"type\":\"scatterpolar\",\"marker\":{\"colorbar\":{\"outlinewidth\":0,\"ticks\":\"\"}}}],\"histogram\":[{\"marker\":{\"pattern\":{\"fillmode\":\"overlay\",\"size\":10,\"solidity\":0.2}},\"type\":\"histogram\"}],\"scattergl\":[{\"type\":\"scattergl\",\"marker\":{\"colorbar\":{\"outlinewidth\":0,\"ticks\":\"\"}}}],\"scatter3d\":[{\"type\":\"scatter3d\",\"line\":{\"colorbar\":{\"outlinewidth\":0,\"ticks\":\"\"}},\"marker\":{\"colorbar\":{\"outlinewidth\":0,\"ticks\":\"\"}}}],\"scattermap\":[{\"type\":\"scattermap\",\"marker\":{\"colorbar\":{\"outlinewidth\":0,\"ticks\":\"\"}}}],\"scattermapbox\":[{\"type\":\"scattermapbox\",\"marker\":{\"colorbar\":{\"outlinewidth\":0,\"ticks\":\"\"}}}],\"scatterternary\":[{\"type\":\"scatterternary\",\"marker\":{\"colorbar\":{\"outlinewidth\":0,\"ticks\":\"\"}}}],\"scattercarpet\":[{\"type\":\"scattercarpet\",\"marker\":{\"colorbar\":{\"outlinewidth\":0,\"ticks\":\"\"}}}],\"carpet\":[{\"aaxis\":{\"endlinecolor\":\"#2a3f5f\",\"gridcolor\":\"white\",\"linecolor\":\"white\",\"minorgridcolor\":\"white\",\"startlinecolor\":\"#2a3f5f\"},\"baxis\":{\"endlinecolor\":\"#2a3f5f\",\"gridcolor\":\"white\",\"linecolor\":\"white\",\"minorgridcolor\":\"white\",\"startlinecolor\":\"#2a3f5f\"},\"type\":\"carpet\"}],\"table\":[{\"cells\":{\"fill\":{\"color\":\"#EBF0F8\"},\"line\":{\"color\":\"white\"}},\"header\":{\"fill\":{\"color\":\"#C8D4E3\"},\"line\":{\"color\":\"white\"}},\"type\":\"table\"}],\"barpolar\":[{\"marker\":{\"line\":{\"color\":\"#E5ECF6\",\"width\":0.5},\"pattern\":{\"fillmode\":\"overlay\",\"size\":10,\"solidity\":0.2}},\"type\":\"barpolar\"}],\"pie\":[{\"automargin\":true,\"type\":\"pie\"}]},\"layout\":{\"autotypenumbers\":\"strict\",\"colorway\":[\"#636efa\",\"#EF553B\",\"#00cc96\",\"#ab63fa\",\"#FFA15A\",\"#19d3f3\",\"#FF6692\",\"#B6E880\",\"#FF97FF\",\"#FECB52\"],\"font\":{\"color\":\"#2a3f5f\"},\"hovermode\":\"closest\",\"hoverlabel\":{\"align\":\"left\"},\"paper_bgcolor\":\"white\",\"plot_bgcolor\":\"#E5ECF6\",\"polar\":{\"bgcolor\":\"#E5ECF6\",\"angularaxis\":{\"gridcolor\":\"white\",\"linecolor\":\"white\",\"ticks\":\"\"},\"radialaxis\":{\"gridcolor\":\"white\",\"linecolor\":\"white\",\"ticks\":\"\"}},\"ternary\":{\"bgcolor\":\"#E5ECF6\",\"aaxis\":{\"gridcolor\":\"white\",\"linecolor\":\"white\",\"ticks\":\"\"},\"baxis\":{\"gridcolor\":\"white\",\"linecolor\":\"white\",\"ticks\":\"\"},\"caxis\":{\"gridcolor\":\"white\",\"linecolor\":\"white\",\"ticks\":\"\"}},\"coloraxis\":{\"colorbar\":{\"outlinewidth\":0,\"ticks\":\"\"}},\"colorscale\":{\"sequential\":[[0.0,\"#0d0887\"],[0.1111111111111111,\"#46039f\"],[0.2222222222222222,\"#7201a8\"],[0.3333333333333333,\"#9c179e\"],[0.4444444444444444,\"#bd3786\"],[0.5555555555555556,\"#d8576b\"],[0.6666666666666666,\"#ed7953\"],[0.7777777777777778,\"#fb9f3a\"],[0.8888888888888888,\"#fdca26\"],[1.0,\"#f0f921\"]],\"sequentialminus\":[[0.0,\"#0d0887\"],[0.1111111111111111,\"#46039f\"],[0.2222222222222222,\"#7201a8\"],[0.3333333333333333,\"#9c179e\"],[0.4444444444444444,\"#bd3786\"],[0.5555555555555556,\"#d8576b\"],[0.6666666666666666,\"#ed7953\"],[0.7777777777777778,\"#fb9f3a\"],[0.8888888888888888,\"#fdca26\"],[1.0,\"#f0f921\"]],\"diverging\":[[0,\"#8e0152\"],[0.1,\"#c51b7d\"],[0.2,\"#de77ae\"],[0.3,\"#f1b6da\"],[0.4,\"#fde0ef\"],[0.5,\"#f7f7f7\"],[0.6,\"#e6f5d0\"],[0.7,\"#b8e186\"],[0.8,\"#7fbc41\"],[0.9,\"#4d9221\"],[1,\"#276419\"]]},\"xaxis\":{\"gridcolor\":\"white\",\"linecolor\":\"white\",\"ticks\":\"\",\"title\":{\"standoff\":15},\"zerolinecolor\":\"white\",\"automargin\":true,\"zerolinewidth\":2},\"yaxis\":{\"gridcolor\":\"white\",\"linecolor\":\"white\",\"ticks\":\"\",\"title\":{\"standoff\":15},\"zerolinecolor\":\"white\",\"automargin\":true,\"zerolinewidth\":2},\"scene\":{\"xaxis\":{\"backgroundcolor\":\"#E5ECF6\",\"gridcolor\":\"white\",\"linecolor\":\"white\",\"showbackground\":true,\"ticks\":\"\",\"zerolinecolor\":\"white\",\"gridwidth\":2},\"yaxis\":{\"backgroundcolor\":\"#E5ECF6\",\"gridcolor\":\"white\",\"linecolor\":\"white\",\"showbackground\":true,\"ticks\":\"\",\"zerolinecolor\":\"white\",\"gridwidth\":2},\"zaxis\":{\"backgroundcolor\":\"#E5ECF6\",\"gridcolor\":\"white\",\"linecolor\":\"white\",\"showbackground\":true,\"ticks\":\"\",\"zerolinecolor\":\"white\",\"gridwidth\":2}},\"shapedefaults\":{\"line\":{\"color\":\"#2a3f5f\"}},\"annotationdefaults\":{\"arrowcolor\":\"#2a3f5f\",\"arrowhead\":0,\"arrowwidth\":1},\"geo\":{\"bgcolor\":\"white\",\"landcolor\":\"#E5ECF6\",\"subunitcolor\":\"white\",\"showland\":true,\"showlakes\":true,\"lakecolor\":\"white\"},\"title\":{\"x\":0.05},\"mapbox\":{\"style\":\"light\"}}},\"sliders\":[{\"active\":0,\"currentvalue\":{\"font\":{\"size\":20},\"prefix\":\"Year:\",\"visible\":true,\"xanchor\":\"right\"},\"len\":0.9,\"pad\":{\"b\":10,\"t\":50},\"steps\":[{\"args\":[[\"1990\"],{\"frame\":{\"duration\":300,\"redraw\":true},\"mode\":\"immediate\",\"transition\":{\"duration\":300}}],\"label\":\"1990\",\"method\":\"animate\"},{\"args\":[[\"1991\"],{\"frame\":{\"duration\":300,\"redraw\":true},\"mode\":\"immediate\",\"transition\":{\"duration\":300}}],\"label\":\"1991\",\"method\":\"animate\"},{\"args\":[[\"1992\"],{\"frame\":{\"duration\":300,\"redraw\":true},\"mode\":\"immediate\",\"transition\":{\"duration\":300}}],\"label\":\"1992\",\"method\":\"animate\"},{\"args\":[[\"1993\"],{\"frame\":{\"duration\":300,\"redraw\":true},\"mode\":\"immediate\",\"transition\":{\"duration\":300}}],\"label\":\"1993\",\"method\":\"animate\"},{\"args\":[[\"1994\"],{\"frame\":{\"duration\":300,\"redraw\":true},\"mode\":\"immediate\",\"transition\":{\"duration\":300}}],\"label\":\"1994\",\"method\":\"animate\"},{\"args\":[[\"1995\"],{\"frame\":{\"duration\":300,\"redraw\":true},\"mode\":\"immediate\",\"transition\":{\"duration\":300}}],\"label\":\"1995\",\"method\":\"animate\"},{\"args\":[[\"1996\"],{\"frame\":{\"duration\":300,\"redraw\":true},\"mode\":\"immediate\",\"transition\":{\"duration\":300}}],\"label\":\"1996\",\"method\":\"animate\"},{\"args\":[[\"1997\"],{\"frame\":{\"duration\":300,\"redraw\":true},\"mode\":\"immediate\",\"transition\":{\"duration\":300}}],\"label\":\"1997\",\"method\":\"animate\"},{\"args\":[[\"1998\"],{\"frame\":{\"duration\":300,\"redraw\":true},\"mode\":\"immediate\",\"transition\":{\"duration\":300}}],\"label\":\"1998\",\"method\":\"animate\"},{\"args\":[[\"1999\"],{\"frame\":{\"duration\":300,\"redraw\":true},\"mode\":\"immediate\",\"transition\":{\"duration\":300}}],\"label\":\"1999\",\"method\":\"animate\"},{\"args\":[[\"2000\"],{\"frame\":{\"duration\":300,\"redraw\":true},\"mode\":\"immediate\",\"transition\":{\"duration\":300}}],\"label\":\"2000\",\"method\":\"animate\"},{\"args\":[[\"2001\"],{\"frame\":{\"duration\":300,\"redraw\":true},\"mode\":\"immediate\",\"transition\":{\"duration\":300}}],\"label\":\"2001\",\"method\":\"animate\"},{\"args\":[[\"2002\"],{\"frame\":{\"duration\":300,\"redraw\":true},\"mode\":\"immediate\",\"transition\":{\"duration\":300}}],\"label\":\"2002\",\"method\":\"animate\"},{\"args\":[[\"2003\"],{\"frame\":{\"duration\":300,\"redraw\":true},\"mode\":\"immediate\",\"transition\":{\"duration\":300}}],\"label\":\"2003\",\"method\":\"animate\"},{\"args\":[[\"2004\"],{\"frame\":{\"duration\":300,\"redraw\":true},\"mode\":\"immediate\",\"transition\":{\"duration\":300}}],\"label\":\"2004\",\"method\":\"animate\"},{\"args\":[[\"2005\"],{\"frame\":{\"duration\":300,\"redraw\":true},\"mode\":\"immediate\",\"transition\":{\"duration\":300}}],\"label\":\"2005\",\"method\":\"animate\"}],\"transition\":{\"duration\":300,\"easing\":\"cubic-in-out\"},\"x\":0.1,\"xanchor\":\"left\",\"y\":0,\"yanchor\":\"top\"}]},                        {\"responsive\": true}                    ).then(function(){\n",
       "                            Plotly.addFrames('596ca2be-2a93-4784-86a4-227b10fcbc68', [{\"data\":[{\"marker\":{\"color\":\"blue\"},\"name\":\"Male\",\"opacity\":0.6,\"orientation\":\"h\",\"x\":{\"dtype\":\"f8\",\"bdata\":\"AAAAAAZpJkEAAAAAmhQlQQAAAAA6ViNBAAAAANyRIUEAAAAAOOMeQQAAAADUVRpBAAAAAEA5FkEAAAAAYL0SQQAAAABgdA5BAAAAAIgCCEEAAAAA2BsDQQAAAAAAy\\u002f5AAAAAAJD790AAAAAA0HjxQAAAAABAjedAAAAAAIAh3UAAAAAAgF7SQA==\"},\"y\":[\"0-4\",\"5-9\",\"10-14\",\"15-19\",\"20-24\",\"25-29\",\"30-34\",\"35-39\",\"40-44\",\"45-49\",\"50-54\",\"55-59\",\"60-64\",\"65-69\",\"70-74\",\"75-79\",\"80+\"],\"type\":\"bar\"},{\"marker\":{\"color\":\"red\"},\"name\":\"Female\",\"opacity\":0.6,\"orientation\":\"h\",\"x\":{\"dtype\":\"f8\",\"bdata\":\"AAAAAPqaJcEAAAAA8nckwQAAAACa5CLBAAAAAFRAIcEAAAAAxIIewQAAAACQMRrBAAAAAJQyFsEAAAAANNQSwQAAAAA4tw7BAAAAABhbCMEAAAAA6KgDwQAAAADIUADBAAAAAKB4+sAAAAAAYF\\u002f0wAAAAADguu3AAAAAAIBC5MAAAAAAAOvdwA==\"},\"y\":[\"0-4\",\"5-9\",\"10-14\",\"15-19\",\"20-24\",\"25-29\",\"30-34\",\"35-39\",\"40-44\",\"45-49\",\"50-54\",\"55-59\",\"60-64\",\"65-69\",\"70-74\",\"75-79\",\"80+\"],\"type\":\"bar\"}],\"name\":\"1990\"},{\"data\":[{\"marker\":{\"color\":\"blue\"},\"name\":\"Male\",\"opacity\":0.6,\"orientation\":\"h\",\"x\":{\"dtype\":\"f8\",\"bdata\":\"AAAAAKyrJkEAAAAA8lYlQQAAAADopiNBAAAAABzfIUEAAAAAJJAfQQAAAADY\\u002fhpBAAAAAHDPFkEAAAAAbDwTQQAAAAAwww9BAAAAANDVCEEAAAAAQMEDQQAAAADQuf9AAAAAAJDW+EAAAAAAwDXyQAAAAAAgf+hAAAAAAMA\\u002f3kAAAAAAwHbTQA==\"},\"y\":[\"0-4\",\"5-9\",\"10-14\",\"15-19\",\"20-24\",\"25-29\",\"30-34\",\"35-39\",\"40-44\",\"45-49\",\"50-54\",\"55-59\",\"60-64\",\"65-69\",\"70-74\",\"75-79\",\"80+\"],\"type\":\"bar\"},{\"marker\":{\"color\":\"red\"},\"name\":\"Female\",\"opacity\":0.6,\"orientation\":\"h\",\"x\":{\"dtype\":\"f8\",\"bdata\":\"AAAAAFjYJcEAAAAAGrEkwQAAAAD4LiPBAAAAAKKJIcEAAAAAKCcfwQAAAACg2xrBAAAAAMzLFsEAAAAAxFUTwQAAAABIDBDBAAAAAKA5CcEAAAAAuFEEwQAAAAAgxgDBAAAAAABY+8AAAAAAsCf1wAAAAACg1O7AAAAAAEAj5cAAAAAAwDHgwA==\"},\"y\":[\"0-4\",\"5-9\",\"10-14\",\"15-19\",\"20-24\",\"25-29\",\"30-34\",\"35-39\",\"40-44\",\"45-49\",\"50-54\",\"55-59\",\"60-64\",\"65-69\",\"70-74\",\"75-79\",\"80+\"],\"type\":\"bar\"}],\"name\":\"1991\"},{\"data\":[{\"marker\":{\"color\":\"blue\"},\"name\":\"Male\",\"opacity\":0.6,\"orientation\":\"h\",\"x\":{\"dtype\":\"f8\",\"bdata\":\"AAAAANb6JkEAAAAAcIslQQAAAADc9yNBAAAAAMIpIkEAAAAAIBkgQQAAAADMoRtBAAAAAHBjF0EAAAAA3LoTQQAAAABchhBBAAAAAICqCUEAAAAA8HMEQQAAAAAAVQBBAAAAAIC2+UAAAAAAsP7yQAAAAABgoulAAAAAAIBR30AAAAAAgMzUQA==\"},\"y\":[\"0-4\",\"5-9\",\"10-14\",\"15-19\",\"20-24\",\"25-29\",\"30-34\",\"35-39\",\"40-44\",\"45-49\",\"50-54\",\"55-59\",\"60-64\",\"65-69\",\"70-74\",\"75-79\",\"80+\"],\"type\":\"bar\"},{\"marker\":{\"color\":\"red\"},\"name\":\"Female\",\"opacity\":0.6,\"orientation\":\"h\",\"x\":{\"dtype\":\"f8\",\"bdata\":\"AAAAAOohJsEAAAAAkNwkwQAAAAA4eSPBAAAAAGDPIcEAAAAAKMEfwQAAAADIfhvBAAAAAORjF8EAAAAAONgTwQAAAAC8uRDBAAAAAMAbCsEAAAAA+AkFwQAAAACIOgHBAAAAAPA5\\u002fMAAAAAAEPv1wAAAAAAAEPDAAAAAAMD15cAAAAAAYK3hwA==\"},\"y\":[\"0-4\",\"5-9\",\"10-14\",\"15-19\",\"20-24\",\"25-29\",\"30-34\",\"35-39\",\"40-44\",\"45-49\",\"50-54\",\"55-59\",\"60-64\",\"65-69\",\"70-74\",\"75-79\",\"80+\"],\"type\":\"bar\"}],\"name\":\"1992\"},{\"data\":[{\"marker\":{\"color\":\"blue\"},\"name\":\"Male\",\"opacity\":0.6,\"orientation\":\"h\",\"x\":{\"dtype\":\"f8\",\"bdata\":\"AAAAAGhIJ0EAAAAAHLclQQAAAAC+SSRBAAAAANJyIkEAAAAAkGQgQQAAAABkPhxBAAAAANz0F0EAAAAA\\u002fDgUQQAAAACwFBFBAAAAAHCmCkEAAAAAEDQFQQAAAADYzwBBAAAAAPCX+kAAAAAAMMvzQAAAAAAA5upAAAAAAIA14EAAAAAAAE\\u002fWQA==\"},\"y\":[\"0-4\",\"5-9\",\"10-14\",\"15-19\",\"20-24\",\"25-29\",\"30-34\",\"35-39\",\"40-44\",\"45-49\",\"50-54\",\"55-59\",\"60-64\",\"65-69\",\"70-74\",\"75-79\",\"80+\"],\"type\":\"bar\"},{\"marker\":{\"color\":\"red\"},\"name\":\"Female\",\"opacity\":0.6,\"orientation\":\"h\",\"x\":{\"dtype\":\"f8\",\"bdata\":\"AAAAAFZqJsEAAAAALAAlwQAAAADIwyPBAAAAAKYSIsEAAAAA7CcgwQAAAACcGRzBAAAAABT6F8EAAAAANFsUwQAAAAC4TxHBAAAAAIAmC8EAAAAAONIFwQAAAACwsgHBAAAAAFAd\\u002fcAAAAAAMNT2wAAAAACwxPDAAAAAAIC+5sAAAAAAoEzjwA==\"},\"y\":[\"0-4\",\"5-9\",\"10-14\",\"15-19\",\"20-24\",\"25-29\",\"30-34\",\"35-39\",\"40-44\",\"45-49\",\"50-54\",\"55-59\",\"60-64\",\"65-69\",\"70-74\",\"75-79\",\"80+\"],\"type\":\"bar\"}],\"name\":\"1993\"},{\"data\":[{\"marker\":{\"color\":\"blue\"},\"name\":\"Male\",\"opacity\":0.6,\"orientation\":\"h\",\"x\":{\"dtype\":\"f8\",\"bdata\":\"AAAAACSGJ0EAAAAACOElQQAAAAC4niRBAAAAAHS6IkEAAAAAwKggQQAAAAD80BxBAAAAAJyAGEEAAAAARLUUQQAAAACkgxFBAAAAALDXC0EAAAAA+PoFQQAAAAA4VQFBAAAAAFB8+0AAAAAA0Jr0QAAAAACgP+xAAAAAAADj4EAAAAAAwPrXQA==\"},\"y\":[\"0-4\",\"5-9\",\"10-14\",\"15-19\",\"20-24\",\"25-29\",\"30-34\",\"35-39\",\"40-44\",\"45-49\",\"50-54\",\"55-59\",\"60-64\",\"65-69\",\"70-74\",\"75-79\",\"80+\"],\"type\":\"bar\"},{\"marker\":{\"color\":\"red\"},\"name\":\"Female\",\"opacity\":0.6,\"orientation\":\"h\",\"x\":{\"dtype\":\"f8\",\"bdata\":\"AAAAAN6jJsEAAAAAFiMlwQAAAACEECTBAAAAAKxTIsEAAAAA8GcgwQAAAADApxzBAAAAAJSLGMEAAAAARN0UwQAAAAAgxhHBAAAAAChnDMEAAAAAQKMGwQAAAADANwLBAAAAAMAB\\u002fsAAAAAAQLH3wAAAAABggfHAAAAAAGCg58AAAAAAoAjlwA==\"},\"y\":[\"0-4\",\"5-9\",\"10-14\",\"15-19\",\"20-24\",\"25-29\",\"30-34\",\"35-39\",\"40-44\",\"45-49\",\"50-54\",\"55-59\",\"60-64\",\"65-69\",\"70-74\",\"75-79\",\"80+\"],\"type\":\"bar\"}],\"name\":\"1994\"},{\"data\":[{\"marker\":{\"color\":\"blue\"},\"name\":\"Male\",\"opacity\":0.6,\"orientation\":\"h\",\"x\":{\"dtype\":\"f8\",\"bdata\":\"AAAAAPa4J0EAAAAAjhMmQQAAAADe7iRBAAAAACQEI0EAAAAAfOogQQAAAACEYB1BAAAAAFwMGUEAAAAAiDMVQQAAAAAk7RFBAAAAADAWDUEAAAAAIMQGQQAAAACY5wFBAAAAANBk\\u002fEAAAAAAQGv1QAAAAADAoO1AAAAAAEC34UAAAAAAQMXZQA==\"},\"y\":[\"0-4\",\"5-9\",\"10-14\",\"15-19\",\"20-24\",\"25-29\",\"30-34\",\"35-39\",\"40-44\",\"45-49\",\"50-54\",\"55-59\",\"60-64\",\"65-69\",\"70-74\",\"75-79\",\"80+\"],\"type\":\"bar\"},{\"marker\":{\"color\":\"red\"},\"name\":\"Female\",\"opacity\":0.6,\"orientation\":\"h\",\"x\":{\"dtype\":\"f8\",\"bdata\":\"AAAAACDTJsEAAAAAnE8lwQAAAAB0VyTBAAAAAMqWIsEAAAAAdKUgwQAAAAAwMR3BAAAAADQdGcEAAAAAYGIVwQAAAAC0NRLBAAAAAKi4DcEAAAAAmHgHwQAAAABozALBAAAAADDo\\u002fsAAAAAAsI34wAAAAAAgQvLAAAAAAGCm6MAAAAAA4NfmwA==\"},\"y\":[\"0-4\",\"5-9\",\"10-14\",\"15-19\",\"20-24\",\"25-29\",\"30-34\",\"35-39\",\"40-44\",\"45-49\",\"50-54\",\"55-59\",\"60-64\",\"65-69\",\"70-74\",\"75-79\",\"80+\"],\"type\":\"bar\"}],\"name\":\"1995\"},{\"data\":[{\"marker\":{\"color\":\"blue\"},\"name\":\"Male\",\"opacity\":0.6,\"orientation\":\"h\",\"x\":{\"dtype\":\"f8\",\"bdata\":\"AAAAAJroJ0EAAAAAVlYmQQAAAACoMCVBAAAAAEBQI0EAAAAAMishQQAAAAAQ7R1BAAAAAHCYGUEAAAAA\\u002fLMVQQAAAADMXRJBAAAAAOhQDkEAAAAAAIoHQQAAAABYhQJBAAAAAIBP\\u002fUAAAAAAoDz2QAAAAABgCe9AAAAAACCq4kAAAAAAAK7bQA==\"},\"y\":[\"0-4\",\"5-9\",\"10-14\",\"15-19\",\"20-24\",\"25-29\",\"30-34\",\"35-39\",\"40-44\",\"45-49\",\"50-54\",\"55-59\",\"60-64\",\"65-69\",\"70-74\",\"75-79\",\"80+\"],\"type\":\"bar\"},{\"marker\":{\"color\":\"red\"},\"name\":\"Female\",\"opacity\":0.6,\"orientation\":\"h\",\"x\":{\"dtype\":\"f8\",\"bdata\":\"AAAAAF7\\u002fJsEAAAAAxowlwQAAAAB+jyTBAAAAAKjcIsEAAAAA1OEgwQAAAAD8th3BAAAAACCuGcEAAAAAsOoVwQAAAACEqxLBAAAAAFgJD8EAAAAAwEwIwQAAAAAwbgPBAAAAALDN\\u002f8AAAAAAgGf5wAAAAACAB\\u002fPAAAAAAKDH6cAAAAAAYLTowA==\"},\"y\":[\"0-4\",\"5-9\",\"10-14\",\"15-19\",\"20-24\",\"25-29\",\"30-34\",\"35-39\",\"40-44\",\"45-49\",\"50-54\",\"55-59\",\"60-64\",\"65-69\",\"70-74\",\"75-79\",\"80+\"],\"type\":\"bar\"}],\"name\":\"1996\"},{\"data\":[{\"marker\":{\"color\":\"blue\"},\"name\":\"Male\",\"opacity\":0.6,\"orientation\":\"h\",\"x\":{\"dtype\":\"f8\",\"bdata\":\"AAAAAK4RKEEAAAAA9qUmQQAAAADMZCVBAAAAAPKdI0EAAAAAmmshQQAAAAAYdR5BAAAAAMgjGkEAAAAATDYWQQAAAAAI0BJBAAAAALCJD0EAAAAAgFMIQQAAAABIMANBAAAAAEA5\\u002fkAAAAAA8A\\u002f3QAAAAABwPPBAAAAAAAC340AAAAAAwKPdQA==\"},\"y\":[\"0-4\",\"5-9\",\"10-14\",\"15-19\",\"20-24\",\"25-29\",\"30-34\",\"35-39\",\"40-44\",\"45-49\",\"50-54\",\"55-59\",\"60-64\",\"65-69\",\"70-74\",\"75-79\",\"80+\"],\"type\":\"bar\"},{\"marker\":{\"color\":\"red\"},\"name\":\"Female\",\"opacity\":0.6,\"orientation\":\"h\",\"x\":{\"dtype\":\"f8\",\"bdata\":\"AAAAAJ4kJ8EAAAAAtNYlwQAAAABOuiTBAAAAAOwjI8EAAAAAzB0hwQAAAABAOB7BAAAAANw8GsEAAAAAFHUWwQAAAACIJBPBAAAAAEwrEMEAAAAAKCYJwQAAAAA4IATBAAAAAABYAMEAAAAA4D76wAAAAAAA0fPAAAAAAIAA68AAAAAAoJDqwA==\"},\"y\":[\"0-4\",\"5-9\",\"10-14\",\"15-19\",\"20-24\",\"25-29\",\"30-34\",\"35-39\",\"40-44\",\"45-49\",\"50-54\",\"55-59\",\"60-64\",\"65-69\",\"70-74\",\"75-79\",\"80+\"],\"type\":\"bar\"}],\"name\":\"1997\"},{\"data\":[{\"marker\":{\"color\":\"blue\"},\"name\":\"Male\",\"opacity\":0.6,\"orientation\":\"h\",\"x\":{\"dtype\":\"f8\",\"bdata\":\"AAAAAFw2KEEAAAAAtvQmQQAAAACIkCVBAAAAAODuI0EAAAAAbq4hQQAAAADM+x5BAAAAAEixGkEAAAAARLwWQQAAAAAQRRNBAAAAABBNEEEAAAAAwEYJQQAAAADw6ANBAAAAAAAo\\u002f0AAAAAAEOX3QAAAAADg8\\u002fBAAAAAAGDO5EAAAAAAwH\\u002ffQA==\"},\"y\":[\"0-4\",\"5-9\",\"10-14\",\"15-19\",\"20-24\",\"25-29\",\"30-34\",\"35-39\",\"40-44\",\"45-49\",\"50-54\",\"55-59\",\"60-64\",\"65-69\",\"70-74\",\"75-79\",\"80+\"],\"type\":\"bar\"},{\"marker\":{\"color\":\"red\"},\"name\":\"Female\",\"opacity\":0.6,\"orientation\":\"h\",\"x\":{\"dtype\":\"f8\",\"bdata\":\"AAAAANBEJ8EAAAAAQiAmwQAAAADA3STBAAAAALZtI8EAAAAAOFwhwQAAAADouB7BAAAAAHzLGsEAAAAAwAIXwQAAAADooRPBAAAAAJi8EMEAAAAAsCoKwQAAAACo4wTBAAAAAIjMAMEAAAAAMBT7wAAAAADQmvTAAAAAAMBD7MAAAAAA4EXswA==\"},\"y\":[\"0-4\",\"5-9\",\"10-14\",\"15-19\",\"20-24\",\"25-29\",\"30-34\",\"35-39\",\"40-44\",\"45-49\",\"50-54\",\"55-59\",\"60-64\",\"65-69\",\"70-74\",\"75-79\",\"80+\"],\"type\":\"bar\"}],\"name\":\"1998\"},{\"data\":[{\"marker\":{\"color\":\"blue\"},\"name\":\"Male\",\"opacity\":0.6,\"orientation\":\"h\",\"x\":{\"dtype\":\"f8\",\"bdata\":\"AAAAALJaKEEAAAAACDUnQQAAAAAkuyVBAAAAALJEJEEAAAAAlPQhQQAAAABQgR9BAAAAANRAG0EAAAAAdEUXQQAAAACkvRNBAAAAAJi5EEEAAAAAKHIKQQAAAAC4qQRBAAAAAHgVAEEAAAAAILv4QAAAAACQp\\u002fFAAAAAAODf5UAAAAAAgJrgQA==\"},\"y\":[\"0-4\",\"5-9\",\"10-14\",\"15-19\",\"20-24\",\"25-29\",\"30-34\",\"35-39\",\"40-44\",\"45-49\",\"50-54\",\"55-59\",\"60-64\",\"65-69\",\"70-74\",\"75-79\",\"80+\"],\"type\":\"bar\"},{\"marker\":{\"color\":\"red\"},\"name\":\"Female\",\"opacity\":0.6,\"orientation\":\"h\",\"x\":{\"dtype\":\"f8\",\"bdata\":\"AAAAAKRkJ8EAAAAARlwmwQAAAAAgASXBAAAAAHa7I8EAAAAA1J0hwQAAAAA0OR\\u002fBAAAAAFRZG8EAAAAAjJMXwQAAAAC8IxTBAAAAALQxEcEAAAAAKGgLwQAAAADosQXBAAAAAKhNAcEAAAAAEOn7wAAAAACgX\\u002fXAAAAAAACB7cAAAAAAwMDtwA==\"},\"y\":[\"0-4\",\"5-9\",\"10-14\",\"15-19\",\"20-24\",\"25-29\",\"30-34\",\"35-39\",\"40-44\",\"45-49\",\"50-54\",\"55-59\",\"60-64\",\"65-69\",\"70-74\",\"75-79\",\"80+\"],\"type\":\"bar\"}],\"name\":\"1999\"},{\"data\":[{\"marker\":{\"color\":\"blue\"},\"name\":\"Male\",\"opacity\":0.6,\"orientation\":\"h\",\"x\":{\"dtype\":\"f8\",\"bdata\":\"AAAAAJB3KEEAAAAAZGonQQAAAABE7iVBAAAAAASWJEEAAAAAej4iQQAAAADIAiBBAAAAAAjRG0EAAAAASNEXQQAAAAAcOhRBAAAAAGghEUEAAAAAuKoLQQAAAAD4bAVBAAAAAECjAEEAAAAA8JP5QAAAAAAQV\\u002fJAAAAAAADq5kAAAAAA4GzhQA==\"},\"y\":[\"0-4\",\"5-9\",\"10-14\",\"15-19\",\"20-24\",\"25-29\",\"30-34\",\"35-39\",\"40-44\",\"45-49\",\"50-54\",\"55-59\",\"60-64\",\"65-69\",\"70-74\",\"75-79\",\"80+\"],\"type\":\"bar\"},{\"marker\":{\"color\":\"red\"},\"name\":\"Female\",\"opacity\":0.6,\"orientation\":\"h\",\"x\":{\"dtype\":\"f8\",\"bdata\":\"AAAAAFh9J8EAAAAA8I0mwQAAAAAMLiXBAAAAAKoDJMEAAAAACuMhwQAAAAAkuB\\u002fBAAAAAKDlG8EAAAAAWCYYwQAAAACUqRTBAAAAAPigEcEAAAAAELYMwQAAAABAhAbBAAAAAFDeAcEAAAAAEMH8wAAAAACQIPbAAAAAAGC47sAAAAAAIBTvwA==\"},\"y\":[\"0-4\",\"5-9\",\"10-14\",\"15-19\",\"20-24\",\"25-29\",\"30-34\",\"35-39\",\"40-44\",\"45-49\",\"50-54\",\"55-59\",\"60-64\",\"65-69\",\"70-74\",\"75-79\",\"80+\"],\"type\":\"bar\"}],\"name\":\"2000\"},{\"data\":[{\"marker\":{\"color\":\"blue\"},\"name\":\"Male\",\"opacity\":0.6,\"orientation\":\"h\",\"x\":{\"dtype\":\"f8\",\"bdata\":\"AAAAAOaFKEEAAAAA\\u002fJwnQQAAAADaMSZBAAAAANDaJEEAAAAA7I4iQQAAAADURyBBAAAAAORkHEEAAAAANGIYQQAAAAC8vBRBAAAAABCSEUEAAAAAcOEMQQAAAAAoLwZBAAAAAAg8AUEAAAAAAHH6QAAAAACgCPNAAAAAAGD750AAAAAA4FHiQA==\"},\"y\":[\"0-4\",\"5-9\",\"10-14\",\"15-19\",\"20-24\",\"25-29\",\"30-34\",\"35-39\",\"40-44\",\"45-49\",\"50-54\",\"55-59\",\"60-64\",\"65-69\",\"70-74\",\"75-79\",\"80+\"],\"type\":\"bar\"},{\"marker\":{\"color\":\"red\"},\"name\":\"Female\",\"opacity\":0.6,\"orientation\":\"h\",\"x\":{\"dtype\":\"f8\",\"bdata\":\"AAAAADyIJ8EAAAAA4LwmwQAAAAD0ayXBAAAAALo+JMEAAAAA2i4iwQAAAAAyHiDBAAAAAGx0HMEAAAAAiLwYwQAAAADMNBXBAAAAAMAYEsEAAAAAgAQOwQAAAABAVgfBAAAAABh9AsEAAAAAsJz9wAAAAABQ4vbAAAAAAMD578AAAAAAUDnwwA==\"},\"y\":[\"0-4\",\"5-9\",\"10-14\",\"15-19\",\"20-24\",\"25-29\",\"30-34\",\"35-39\",\"40-44\",\"45-49\",\"50-54\",\"55-59\",\"60-64\",\"65-69\",\"70-74\",\"75-79\",\"80+\"],\"type\":\"bar\"}],\"name\":\"2001\"},{\"data\":[{\"marker\":{\"color\":\"blue\"},\"name\":\"Male\",\"opacity\":0.6,\"orientation\":\"h\",\"x\":{\"dtype\":\"f8\",\"bdata\":\"AAAAAJqLKEEAAAAANsonQQAAAAC0giZBAAAAAHwUJUEAAAAAgOYiQQAAAABykiBBAAAAAGD+HEEAAAAAtPkYQQAAAACsRhVBAAAAAGgHEkEAAAAAeBoOQQAAAADQ9wZBAAAAACjiAUEAAAAAAFL7QAAAAACAwvNAAAAAAEAd6UAAAAAAIF7jQA==\"},\"y\":[\"0-4\",\"5-9\",\"10-14\",\"15-19\",\"20-24\",\"25-29\",\"30-34\",\"35-39\",\"40-44\",\"45-49\",\"50-54\",\"55-59\",\"60-64\",\"65-69\",\"70-74\",\"75-79\",\"80+\"],\"type\":\"bar\"},{\"marker\":{\"color\":\"red\"},\"name\":\"Female\",\"opacity\":0.6,\"orientation\":\"h\",\"x\":{\"dtype\":\"f8\",\"bdata\":\"AAAAAMyLJ8EAAAAA2OUmwQAAAABEtyXBAAAAAPZuJMEAAAAAhIEiwQAAAADaZSDBAAAAAPgHHcEAAAAAZFcZwQAAAAD4xRXBAAAAAMSWEsEAAAAAwFMPwQAAAADQLwjBAAAAAJAtA8EAAAAAIHz+wAAAAADwqPfAAAAAAMCo8MAAAAAA4ATxwA==\"},\"y\":[\"0-4\",\"5-9\",\"10-14\",\"15-19\",\"20-24\",\"25-29\",\"30-34\",\"35-39\",\"40-44\",\"45-49\",\"50-54\",\"55-59\",\"60-64\",\"65-69\",\"70-74\",\"75-79\",\"80+\"],\"type\":\"bar\"}],\"name\":\"2002\"},{\"data\":[{\"marker\":{\"color\":\"blue\"},\"name\":\"Male\",\"opacity\":0.6,\"orientation\":\"h\",\"x\":{\"dtype\":\"f8\",\"bdata\":\"AAAAAF6PKEEAAAAAyvMnQQAAAAAI0yZBAAAAAF5HJUEAAAAAFkUjQQAAAABu4yBBAAAAANScHUEAAAAALJgZQQAAAACs1xVBAAAAAKiBEkEAAAAAuC8PQQAAAADw6gdBAAAAAGiWAkEAAAAAED78QAAAAACAhfRAAAAAAEBL6kAAAAAAIIrkQA==\"},\"y\":[\"0-4\",\"5-9\",\"10-14\",\"15-19\",\"20-24\",\"25-29\",\"30-34\",\"35-39\",\"40-44\",\"45-49\",\"50-54\",\"55-59\",\"60-64\",\"65-69\",\"70-74\",\"75-79\",\"80+\"],\"type\":\"bar\"},{\"marker\":{\"color\":\"red\"},\"name\":\"Female\",\"opacity\":0.6,\"orientation\":\"h\",\"x\":{\"dtype\":\"f8\",\"bdata\":\"AAAAAFyOJ8EAAAAAhAonwQAAAACmAibBAAAAAHKZJMEAAAAAKNoiwQAAAADesyDBAAAAAIigHcEAAAAAsPYZwQAAAABgXRbBAAAAAJAaE8EAAAAArD4QwQAAAAB4NQnBAAAAALjvA8EAAAAAcGj\\u002fwAAAAACAdvjAAAAAAPBc8cAAAAAAYOnxwA==\"},\"y\":[\"0-4\",\"5-9\",\"10-14\",\"15-19\",\"20-24\",\"25-29\",\"30-34\",\"35-39\",\"40-44\",\"45-49\",\"50-54\",\"55-59\",\"60-64\",\"65-69\",\"70-74\",\"75-79\",\"80+\"],\"type\":\"bar\"}],\"name\":\"2003\"},{\"data\":[{\"marker\":{\"color\":\"blue\"},\"name\":\"Male\",\"opacity\":0.6,\"orientation\":\"h\",\"x\":{\"dtype\":\"f8\",\"bdata\":\"AAAAAFqQKEEAAAAAPh0oQQAAAAAqFSdBAAAAANx4JUEAAAAAsKkjQQAAAACIOSFBAAAAAMw8HkEAAAAAHDsaQQAAAADEbRZBAAAAAPQAE0EAAAAAaAgQQQAAAACIFglBAAAAALhTA0EAAAAAcEH9QAAAAADAT\\u002fVAAAAAAOB560AAAAAAILzlQA==\"},\"y\":[\"0-4\",\"5-9\",\"10-14\",\"15-19\",\"20-24\",\"25-29\",\"30-34\",\"35-39\",\"40-44\",\"45-49\",\"50-54\",\"55-59\",\"60-64\",\"65-69\",\"70-74\",\"75-79\",\"80+\"],\"type\":\"bar\"},{\"marker\":{\"color\":\"red\"},\"name\":\"Female\",\"opacity\":0.6,\"orientation\":\"h\",\"x\":{\"dtype\":\"f8\",\"bdata\":\"AAAAAJSOJ8EAAAAAJi8nwQAAAAC+QCbBAAAAAO7DJMEAAAAAjjcjwQAAAADoBiHBAAAAABg8HsEAAAAA3JcawQAAAAAY+hbBAAAAACSjE8EAAAAAJLkQwQAAAAAgdArBAAAAAKi8BMEAAAAAYDgAwQAAAADASfnAAAAAAHAT8sAAAAAAYNzywA==\"},\"y\":[\"0-4\",\"5-9\",\"10-14\",\"15-19\",\"20-24\",\"25-29\",\"30-34\",\"35-39\",\"40-44\",\"45-49\",\"50-54\",\"55-59\",\"60-64\",\"65-69\",\"70-74\",\"75-79\",\"80+\"],\"type\":\"bar\"}],\"name\":\"2004\"},{\"data\":[{\"marker\":{\"color\":\"blue\"},\"name\":\"Male\",\"opacity\":0.6,\"orientation\":\"h\",\"x\":{\"dtype\":\"f8\",\"bdata\":\"AAAAAG6QKEEAAAAAmD8oQQAAAAC6TCdBAAAAADiyJUEAAAAASAokQQAAAADSlCFBAAAAAETeHkEAAAAA2OAaQQAAAABUCBdBAAAAAACGE0EAAAAA4HQQQQAAAACIUQpBAAAAAIAUBEEAAAAAcFv+QAAAAAAwIfZAAAAAAECi7EAAAAAAwNzmQA==\"},\"y\":[\"0-4\",\"5-9\",\"10-14\",\"15-19\",\"20-24\",\"25-29\",\"30-34\",\"35-39\",\"40-44\",\"45-49\",\"50-54\",\"55-59\",\"60-64\",\"65-69\",\"70-74\",\"75-79\",\"80+\"],\"type\":\"bar\"},{\"marker\":{\"color\":\"red\"},\"name\":\"Female\",\"opacity\":0.6,\"orientation\":\"h\",\"x\":{\"dtype\":\"f8\",\"bdata\":\"AAAAAFCOJ8EAAAAADE0nwQAAAADQdCbBAAAAAKL3JMEAAAAA1I8jwQAAAABQXyHBAAAAAEzaHsEAAAAAMDobwQAAAABQmxfBAAAAAGwwFMEAAAAAOC4RwQAAAADgxAvBAAAAAEiOBcEAAAAASMoAwQAAAADAIfrAAAAAAGDI8sAAAAAAUNHzwA==\"},\"y\":[\"0-4\",\"5-9\",\"10-14\",\"15-19\",\"20-24\",\"25-29\",\"30-34\",\"35-39\",\"40-44\",\"45-49\",\"50-54\",\"55-59\",\"60-64\",\"65-69\",\"70-74\",\"75-79\",\"80+\"],\"type\":\"bar\"}],\"name\":\"2005\"}]);\n",
       "                        }).then(function(){\n",
       "                            \n",
       "var gd = document.getElementById('596ca2be-2a93-4784-86a4-227b10fcbc68');\n",
       "var x = new MutationObserver(function (mutations, observer) {{\n",
       "        var display = window.getComputedStyle(gd).display;\n",
       "        if (!display || display === 'none') {{\n",
       "            console.log([gd, 'removed!']);\n",
       "            Plotly.purge(gd);\n",
       "            observer.disconnect();\n",
       "        }}\n",
       "}});\n",
       "\n",
       "// Listen for the removal of the full notebook cells\n",
       "var notebookContainer = gd.closest('#notebook-container');\n",
       "if (notebookContainer) {{\n",
       "    x.observe(notebookContainer, {childList: true});\n",
       "}}\n",
       "\n",
       "// Listen for the clearing of the current output cell\n",
       "var outputEl = gd.closest('.output');\n",
       "if (outputEl) {{\n",
       "    x.observe(outputEl, {childList: true});\n",
       "}}\n",
       "\n",
       "                        })                };            </script>        </div>"
      ]
     },
     "metadata": {},
     "output_type": "display_data"
    }
   ],
   "source": [
    "animated_population_pyramid([1990,2005], 'Ecuador')"
   ]
  },
  {
   "cell_type": "code",
   "execution_count": null,
   "id": "1ea2267f-485f-49b4-940d-db5a1cc9ad22",
   "metadata": {},
   "outputs": [],
   "source": []
  }
 ],
 "metadata": {
  "kernelspec": {
   "display_name": "Python 3 (ipykernel)",
   "language": "python",
   "name": "python3"
  },
  "language_info": {
   "codemirror_mode": {
    "name": "ipython",
    "version": 3
   },
   "file_extension": ".py",
   "mimetype": "text/x-python",
   "name": "python",
   "nbconvert_exporter": "python",
   "pygments_lexer": "ipython3",
   "version": "3.11.11"
  }
 },
 "nbformat": 4,
 "nbformat_minor": 5
}
