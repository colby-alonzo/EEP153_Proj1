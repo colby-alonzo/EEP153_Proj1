{
 "cells": [
  {
   "cell_type": "code",
   "execution_count": 1,
   "id": "8bd2cff5-cf98-4ec5-b5a0-b713dd2f7a8f",
   "metadata": {},
   "outputs": [
    {
     "name": "stdout",
     "output_type": "stream",
     "text": [
      "Collecting wbdata\n",
      "  Using cached wbdata-1.0.0-py3-none-any.whl.metadata (2.6 kB)\n",
      "Collecting appdirs<2.0,>=1.4 (from wbdata)\n",
      "  Using cached appdirs-1.4.4-py2.py3-none-any.whl.metadata (9.0 kB)\n",
      "Collecting backoff<3.0.0,>=2.2.1 (from wbdata)\n",
      "  Using cached backoff-2.2.1-py3-none-any.whl.metadata (14 kB)\n",
      "Requirement already satisfied: cachetools<6.0.0,>=5.3.2 in /srv/conda/lib/python3.11/site-packages (from wbdata) (5.5.1)\n",
      "Collecting dateparser<2.0.0,>=1.2.0 (from wbdata)\n",
      "  Using cached dateparser-1.2.1-py3-none-any.whl.metadata (29 kB)\n",
      "Requirement already satisfied: decorator<6.0.0,>=5.1.1 in /srv/conda/lib/python3.11/site-packages (from wbdata) (5.1.1)\n",
      "Requirement already satisfied: requests<3.0,>=2.0 in /srv/conda/lib/python3.11/site-packages (from wbdata) (2.32.3)\n",
      "Collecting shelved-cache<0.4.0,>=0.3.1 (from wbdata)\n",
      "  Using cached shelved_cache-0.3.1-py3-none-any.whl.metadata (4.7 kB)\n",
      "Collecting tabulate<0.9.0,>=0.8.5 (from wbdata)\n",
      "  Using cached tabulate-0.8.10-py3-none-any.whl.metadata (25 kB)\n",
      "Requirement already satisfied: python-dateutil>=2.7.0 in /srv/conda/lib/python3.11/site-packages (from dateparser<2.0.0,>=1.2.0->wbdata) (2.9.0.post0)\n",
      "Collecting pytz>=2024.2 (from dateparser<2.0.0,>=1.2.0->wbdata)\n",
      "  Using cached pytz-2025.1-py2.py3-none-any.whl.metadata (22 kB)\n",
      "Requirement already satisfied: regex!=2019.02.19,!=2021.8.27,>=2015.06.24 in /srv/conda/lib/python3.11/site-packages (from dateparser<2.0.0,>=1.2.0->wbdata) (2024.11.6)\n",
      "Collecting tzlocal>=0.2 (from dateparser<2.0.0,>=1.2.0->wbdata)\n",
      "  Downloading tzlocal-5.3-py3-none-any.whl.metadata (7.6 kB)\n",
      "Requirement already satisfied: charset_normalizer<4,>=2 in /srv/conda/lib/python3.11/site-packages (from requests<3.0,>=2.0->wbdata) (3.4.0)\n",
      "Requirement already satisfied: idna<4,>=2.5 in /srv/conda/lib/python3.11/site-packages (from requests<3.0,>=2.0->wbdata) (3.10)\n",
      "Requirement already satisfied: urllib3<3,>=1.21.1 in /srv/conda/lib/python3.11/site-packages (from requests<3.0,>=2.0->wbdata) (2.3.0)\n",
      "Requirement already satisfied: certifi>=2017.4.17 in /srv/conda/lib/python3.11/site-packages (from requests<3.0,>=2.0->wbdata) (2024.12.14)\n",
      "Requirement already satisfied: six>=1.5 in /srv/conda/lib/python3.11/site-packages (from python-dateutil>=2.7.0->dateparser<2.0.0,>=1.2.0->wbdata) (1.17.0)\n",
      "Using cached wbdata-1.0.0-py3-none-any.whl (18 kB)\n",
      "Using cached appdirs-1.4.4-py2.py3-none-any.whl (9.6 kB)\n",
      "Using cached backoff-2.2.1-py3-none-any.whl (15 kB)\n",
      "Using cached dateparser-1.2.1-py3-none-any.whl (295 kB)\n",
      "Using cached shelved_cache-0.3.1-py3-none-any.whl (7.8 kB)\n",
      "Using cached tabulate-0.8.10-py3-none-any.whl (29 kB)\n",
      "Using cached pytz-2025.1-py2.py3-none-any.whl (507 kB)\n",
      "Downloading tzlocal-5.3-py3-none-any.whl (17 kB)\n",
      "Installing collected packages: pytz, appdirs, tzlocal, tabulate, shelved-cache, backoff, dateparser, wbdata\n",
      "  Attempting uninstall: pytz\n",
      "    Found existing installation: pytz 2024.1\n",
      "    Uninstalling pytz-2024.1:\n",
      "      Successfully uninstalled pytz-2024.1\n",
      "\u001b[31mERROR: pip's dependency resolver does not currently take into account all the packages that are installed. This behaviour is the source of the following dependency conflicts.\n",
      "linearmodels 0.0.0 requires Cython>=3.0.10, which is not installed.\n",
      "linearmodels 0.0.0 requires setuptools-scm[toml]<9.0.0,>=8.0.0, which is not installed.\u001b[0m\u001b[31m\n",
      "\u001b[0mSuccessfully installed appdirs-1.4.4 backoff-2.2.1 dateparser-1.2.1 pytz-2025.1 shelved-cache-0.3.1 tabulate-0.8.10 tzlocal-5.3 wbdata-1.0.0\n",
      "Note: you may need to restart the kernel to use updated packages.\n",
      "Requirement already satisfied: pandas in /srv/conda/lib/python3.11/site-packages (2.2.3)\n",
      "Requirement already satisfied: numpy>=1.23.2 in /srv/conda/lib/python3.11/site-packages (from pandas) (2.2.2)\n",
      "Requirement already satisfied: python-dateutil>=2.8.2 in /srv/conda/lib/python3.11/site-packages (from pandas) (2.9.0.post0)\n",
      "Requirement already satisfied: pytz>=2020.1 in /srv/conda/lib/python3.11/site-packages (from pandas) (2025.1)\n",
      "Requirement already satisfied: tzdata>=2022.7 in /srv/conda/lib/python3.11/site-packages (from pandas) (2025.1)\n",
      "Requirement already satisfied: six>=1.5 in /srv/conda/lib/python3.11/site-packages (from python-dateutil>=2.8.2->pandas) (1.17.0)\n",
      "Note: you may need to restart the kernel to use updated packages.\n",
      "Collecting iso3166\n",
      "  Using cached iso3166-2.1.1-py3-none-any.whl.metadata (6.6 kB)\n",
      "Using cached iso3166-2.1.1-py3-none-any.whl (9.8 kB)\n",
      "Installing collected packages: iso3166\n",
      "Successfully installed iso3166-2.1.1\n",
      "Note: you may need to restart the kernel to use updated packages.\n",
      "Collecting cufflinks\n",
      "  Using cached cufflinks-0.17.3-py3-none-any.whl\n",
      "Requirement already satisfied: numpy>=1.9.2 in /srv/conda/lib/python3.11/site-packages (from cufflinks) (2.2.2)\n",
      "Requirement already satisfied: pandas>=0.19.2 in /srv/conda/lib/python3.11/site-packages (from cufflinks) (2.2.3)\n",
      "Requirement already satisfied: plotly>=4.1.1 in /srv/conda/lib/python3.11/site-packages (from cufflinks) (6.0.0)\n",
      "Requirement already satisfied: six>=1.9.0 in /srv/conda/lib/python3.11/site-packages (from cufflinks) (1.17.0)\n",
      "Collecting colorlover>=0.2.1 (from cufflinks)\n",
      "  Using cached colorlover-0.3.0-py3-none-any.whl.metadata (421 bytes)\n",
      "Requirement already satisfied: setuptools>=34.4.1 in /srv/conda/lib/python3.11/site-packages (from cufflinks) (75.6.0)\n",
      "Requirement already satisfied: ipython>=5.3.0 in /srv/conda/lib/python3.11/site-packages (from cufflinks) (8.32.0)\n",
      "Requirement already satisfied: ipywidgets>=7.0.0 in /srv/conda/lib/python3.11/site-packages (from cufflinks) (8.1.5)\n",
      "Requirement already satisfied: decorator in /srv/conda/lib/python3.11/site-packages (from ipython>=5.3.0->cufflinks) (5.1.1)\n",
      "Requirement already satisfied: jedi>=0.16 in /srv/conda/lib/python3.11/site-packages (from ipython>=5.3.0->cufflinks) (0.19.2)\n",
      "Requirement already satisfied: matplotlib-inline in /srv/conda/lib/python3.11/site-packages (from ipython>=5.3.0->cufflinks) (0.1.7)\n",
      "Requirement already satisfied: pexpect>4.3 in /srv/conda/lib/python3.11/site-packages (from ipython>=5.3.0->cufflinks) (4.9.0)\n",
      "Requirement already satisfied: prompt_toolkit<3.1.0,>=3.0.41 in /srv/conda/lib/python3.11/site-packages (from ipython>=5.3.0->cufflinks) (3.0.50)\n",
      "Requirement already satisfied: pygments>=2.4.0 in /srv/conda/lib/python3.11/site-packages (from ipython>=5.3.0->cufflinks) (2.19.1)\n",
      "Requirement already satisfied: stack_data in /srv/conda/lib/python3.11/site-packages (from ipython>=5.3.0->cufflinks) (0.6.3)\n",
      "Requirement already satisfied: traitlets>=5.13.0 in /srv/conda/lib/python3.11/site-packages (from ipython>=5.3.0->cufflinks) (5.14.3)\n",
      "Requirement already satisfied: typing_extensions>=4.6 in /srv/conda/lib/python3.11/site-packages (from ipython>=5.3.0->cufflinks) (4.12.2)\n",
      "Requirement already satisfied: comm>=0.1.3 in /srv/conda/lib/python3.11/site-packages (from ipywidgets>=7.0.0->cufflinks) (0.2.2)\n",
      "Requirement already satisfied: widgetsnbextension~=4.0.12 in /srv/conda/lib/python3.11/site-packages (from ipywidgets>=7.0.0->cufflinks) (4.0.13)\n",
      "Requirement already satisfied: jupyterlab_widgets~=3.0.12 in /srv/conda/lib/python3.11/site-packages (from ipywidgets>=7.0.0->cufflinks) (3.0.13)\n",
      "Requirement already satisfied: python-dateutil>=2.8.2 in /srv/conda/lib/python3.11/site-packages (from pandas>=0.19.2->cufflinks) (2.9.0.post0)\n",
      "Requirement already satisfied: pytz>=2020.1 in /srv/conda/lib/python3.11/site-packages (from pandas>=0.19.2->cufflinks) (2025.1)\n",
      "Requirement already satisfied: tzdata>=2022.7 in /srv/conda/lib/python3.11/site-packages (from pandas>=0.19.2->cufflinks) (2025.1)\n",
      "Requirement already satisfied: narwhals>=1.15.1 in /srv/conda/lib/python3.11/site-packages (from plotly>=4.1.1->cufflinks) (1.26.0)\n",
      "Requirement already satisfied: packaging in /srv/conda/lib/python3.11/site-packages (from plotly>=4.1.1->cufflinks) (24.2)\n",
      "Requirement already satisfied: parso<0.9.0,>=0.8.4 in /srv/conda/lib/python3.11/site-packages (from jedi>=0.16->ipython>=5.3.0->cufflinks) (0.8.4)\n",
      "Requirement already satisfied: ptyprocess>=0.5 in /srv/conda/lib/python3.11/site-packages (from pexpect>4.3->ipython>=5.3.0->cufflinks) (0.7.0)\n",
      "Requirement already satisfied: wcwidth in /srv/conda/lib/python3.11/site-packages (from prompt_toolkit<3.1.0,>=3.0.41->ipython>=5.3.0->cufflinks) (0.2.13)\n",
      "Requirement already satisfied: executing>=1.2.0 in /srv/conda/lib/python3.11/site-packages (from stack_data->ipython>=5.3.0->cufflinks) (2.1.0)\n",
      "Requirement already satisfied: asttokens>=2.1.0 in /srv/conda/lib/python3.11/site-packages (from stack_data->ipython>=5.3.0->cufflinks) (3.0.0)\n",
      "Requirement already satisfied: pure_eval in /srv/conda/lib/python3.11/site-packages (from stack_data->ipython>=5.3.0->cufflinks) (0.2.3)\n",
      "Using cached colorlover-0.3.0-py3-none-any.whl (8.9 kB)\n",
      "Installing collected packages: colorlover, cufflinks\n",
      "Successfully installed colorlover-0.3.0 cufflinks-0.17.3\n",
      "Note: you may need to restart the kernel to use updated packages.\n",
      "Collecting eep153_tools\n",
      "  Using cached eep153_tools-0.12.4-py2.py3-none-any.whl.metadata (363 bytes)\n",
      "Using cached eep153_tools-0.12.4-py2.py3-none-any.whl (4.9 kB)\n",
      "Installing collected packages: eep153_tools\n",
      "Successfully installed eep153_tools-0.12.4\n",
      "Note: you may need to restart the kernel to use updated packages.\n",
      "Requirement already satisfied: plotly in /srv/conda/lib/python3.11/site-packages (6.0.0)\n",
      "Requirement already satisfied: narwhals>=1.15.1 in /srv/conda/lib/python3.11/site-packages (from plotly) (1.26.0)\n",
      "Requirement already satisfied: packaging in /srv/conda/lib/python3.11/site-packages (from plotly) (24.2)\n",
      "Note: you may need to restart the kernel to use updated packages.\n",
      "Collecting kagglehub\n",
      "  Using cached kagglehub-0.3.7-py3-none-any.whl.metadata (30 kB)\n",
      "Collecting model-signing (from kagglehub)\n",
      "  Using cached model_signing-0.2.0-py3-none-any.whl.metadata (26 kB)\n",
      "Requirement already satisfied: packaging in /srv/conda/lib/python3.11/site-packages (from kagglehub) (24.2)\n",
      "Requirement already satisfied: requests in /srv/conda/lib/python3.11/site-packages (from kagglehub) (2.32.3)\n",
      "Requirement already satisfied: tqdm in /srv/conda/lib/python3.11/site-packages (from kagglehub) (4.67.1)\n",
      "Requirement already satisfied: cryptography in /srv/conda/lib/python3.11/site-packages (from model-signing->kagglehub) (44.0.1)\n",
      "Collecting in-toto-attestation (from model-signing->kagglehub)\n",
      "  Using cached in_toto_attestation-0.9.3-py3-none-any.whl.metadata (2.6 kB)\n",
      "Collecting sigstore (from model-signing->kagglehub)\n",
      "  Using cached sigstore-3.6.1-py3-none-any.whl.metadata (15 kB)\n",
      "Requirement already satisfied: typing-extensions in /srv/conda/lib/python3.11/site-packages (from model-signing->kagglehub) (4.12.2)\n",
      "Requirement already satisfied: charset_normalizer<4,>=2 in /srv/conda/lib/python3.11/site-packages (from requests->kagglehub) (3.4.0)\n",
      "Requirement already satisfied: idna<4,>=2.5 in /srv/conda/lib/python3.11/site-packages (from requests->kagglehub) (3.10)\n",
      "Requirement already satisfied: urllib3<3,>=1.21.1 in /srv/conda/lib/python3.11/site-packages (from requests->kagglehub) (2.3.0)\n",
      "Requirement already satisfied: certifi>=2017.4.17 in /srv/conda/lib/python3.11/site-packages (from requests->kagglehub) (2024.12.14)\n",
      "Requirement already satisfied: cffi>=1.12 in /srv/conda/lib/python3.11/site-packages (from cryptography->model-signing->kagglehub) (1.17.1)\n",
      "Requirement already satisfied: protobuf in /srv/conda/lib/python3.11/site-packages (from in-toto-attestation->model-signing->kagglehub) (5.28.3)\n",
      "Collecting id>=1.1.0 (from sigstore->model-signing->kagglehub)\n",
      "  Using cached id-1.5.0-py3-none-any.whl.metadata (5.2 kB)\n",
      "Requirement already satisfied: pyasn1~=0.6 in /srv/conda/lib/python3.11/site-packages (from sigstore->model-signing->kagglehub) (0.6.1)\n",
      "Requirement already satisfied: pydantic<3,>=2 in /srv/conda/lib/python3.11/site-packages (from sigstore->model-signing->kagglehub) (2.10.5)\n",
      "Requirement already satisfied: pyjwt>=2.1 in /srv/conda/lib/python3.11/site-packages (from sigstore->model-signing->kagglehub) (2.10.1)\n",
      "Requirement already satisfied: pyOpenSSL>=23.0.0 in /srv/conda/lib/python3.11/site-packages (from sigstore->model-signing->kagglehub) (25.0.0)\n",
      "Requirement already satisfied: rich~=13.0 in /srv/conda/lib/python3.11/site-packages (from sigstore->model-signing->kagglehub) (13.9.4)\n",
      "Collecting rfc8785~=0.1.2 (from sigstore->model-signing->kagglehub)\n",
      "  Using cached rfc8785-0.1.4-py3-none-any.whl.metadata (3.4 kB)\n",
      "Collecting rfc3161-client~=0.1.2 (from sigstore->model-signing->kagglehub)\n",
      "  Using cached rfc3161_client-0.1.2-cp39-abi3-manylinux_2_17_x86_64.manylinux2014_x86_64.whl.metadata (3.0 kB)\n",
      "Collecting sigstore-protobuf-specs==0.3.2 (from sigstore->model-signing->kagglehub)\n",
      "  Using cached sigstore_protobuf_specs-0.3.2-py3-none-any.whl.metadata (1.4 kB)\n",
      "Collecting sigstore-rekor-types==0.0.18 (from sigstore->model-signing->kagglehub)\n",
      "  Using cached sigstore_rekor_types-0.0.18-py3-none-any.whl.metadata (13 kB)\n",
      "Collecting tuf~=5.0 (from sigstore->model-signing->kagglehub)\n",
      "  Using cached tuf-5.1.0-py3-none-any.whl.metadata (7.9 kB)\n",
      "Requirement already satisfied: platformdirs~=4.2 in /srv/conda/lib/python3.11/site-packages (from sigstore->model-signing->kagglehub) (4.3.6)\n",
      "Collecting betterproto==2.0.0b6 (from sigstore-protobuf-specs==0.3.2->sigstore->model-signing->kagglehub)\n",
      "  Using cached betterproto-2.0.0b6-py3-none-any.whl.metadata (17 kB)\n",
      "Collecting grpclib<0.5.0,>=0.4.1 (from betterproto==2.0.0b6->sigstore-protobuf-specs==0.3.2->sigstore->model-signing->kagglehub)\n",
      "  Using cached grpclib-0.4.7-py3-none-any.whl\n",
      "Requirement already satisfied: python-dateutil<3.0,>=2.8 in /srv/conda/lib/python3.11/site-packages (from betterproto==2.0.0b6->sigstore-protobuf-specs==0.3.2->sigstore->model-signing->kagglehub) (2.9.0.post0)\n",
      "Requirement already satisfied: pycparser in /srv/conda/lib/python3.11/site-packages (from cffi>=1.12->cryptography->model-signing->kagglehub) (2.22)\n",
      "Requirement already satisfied: annotated-types>=0.6.0 in /srv/conda/lib/python3.11/site-packages (from pydantic<3,>=2->sigstore->model-signing->kagglehub) (0.7.0)\n",
      "Requirement already satisfied: pydantic-core==2.27.2 in /srv/conda/lib/python3.11/site-packages (from pydantic<3,>=2->sigstore->model-signing->kagglehub) (2.27.2)\n",
      "Requirement already satisfied: markdown-it-py>=2.2.0 in /srv/conda/lib/python3.11/site-packages (from rich~=13.0->sigstore->model-signing->kagglehub) (3.0.0)\n",
      "Requirement already satisfied: pygments<3.0.0,>=2.13.0 in /srv/conda/lib/python3.11/site-packages (from rich~=13.0->sigstore->model-signing->kagglehub) (2.19.1)\n",
      "Collecting securesystemslib~=1.0 (from tuf~=5.0->sigstore->model-signing->kagglehub)\n",
      "  Using cached securesystemslib-1.2.0-py3-none-any.whl.metadata (4.8 kB)\n",
      "Requirement already satisfied: mdurl~=0.1 in /srv/conda/lib/python3.11/site-packages (from markdown-it-py>=2.2.0->rich~=13.0->sigstore->model-signing->kagglehub) (0.1.2)\n",
      "Collecting email-validator>=2.0.0 (from pydantic[email]<3,>=2->sigstore-rekor-types==0.0.18->sigstore->model-signing->kagglehub)\n",
      "  Using cached email_validator-2.2.0-py3-none-any.whl.metadata (25 kB)\n",
      "Collecting dnspython>=2.0.0 (from email-validator>=2.0.0->pydantic[email]<3,>=2->sigstore-rekor-types==0.0.18->sigstore->model-signing->kagglehub)\n",
      "  Using cached dnspython-2.7.0-py3-none-any.whl.metadata (5.8 kB)\n",
      "Requirement already satisfied: h2<5,>=3.1.0 in /srv/conda/lib/python3.11/site-packages (from grpclib<0.5.0,>=0.4.1->betterproto==2.0.0b6->sigstore-protobuf-specs==0.3.2->sigstore->model-signing->kagglehub) (4.1.0)\n",
      "Requirement already satisfied: multidict in /srv/conda/lib/python3.11/site-packages (from grpclib<0.5.0,>=0.4.1->betterproto==2.0.0b6->sigstore-protobuf-specs==0.3.2->sigstore->model-signing->kagglehub) (6.1.0)\n",
      "Requirement already satisfied: six>=1.5 in /srv/conda/lib/python3.11/site-packages (from python-dateutil<3.0,>=2.8->betterproto==2.0.0b6->sigstore-protobuf-specs==0.3.2->sigstore->model-signing->kagglehub) (1.17.0)\n",
      "Requirement already satisfied: hyperframe<7,>=6.0 in /srv/conda/lib/python3.11/site-packages (from h2<5,>=3.1.0->grpclib<0.5.0,>=0.4.1->betterproto==2.0.0b6->sigstore-protobuf-specs==0.3.2->sigstore->model-signing->kagglehub) (6.0.1)\n",
      "Requirement already satisfied: hpack<5,>=4.0 in /srv/conda/lib/python3.11/site-packages (from h2<5,>=3.1.0->grpclib<0.5.0,>=0.4.1->betterproto==2.0.0b6->sigstore-protobuf-specs==0.3.2->sigstore->model-signing->kagglehub) (4.0.0)\n",
      "Using cached kagglehub-0.3.7-py3-none-any.whl (54 kB)\n",
      "Using cached model_signing-0.2.0-py3-none-any.whl (63 kB)\n",
      "Using cached in_toto_attestation-0.9.3-py3-none-any.whl (13 kB)\n",
      "Using cached sigstore-3.6.1-py3-none-any.whl (99 kB)\n",
      "Using cached sigstore_protobuf_specs-0.3.2-py3-none-any.whl (24 kB)\n",
      "Using cached sigstore_rekor_types-0.0.18-py3-none-any.whl (20 kB)\n",
      "Using cached betterproto-2.0.0b6-py3-none-any.whl (64 kB)\n",
      "Using cached id-1.5.0-py3-none-any.whl (13 kB)\n",
      "Using cached rfc3161_client-0.1.2-cp39-abi3-manylinux_2_17_x86_64.manylinux2014_x86_64.whl (2.1 MB)\n",
      "Using cached rfc8785-0.1.4-py3-none-any.whl (9.2 kB)\n",
      "Using cached tuf-5.1.0-py3-none-any.whl (50 kB)\n",
      "Using cached securesystemslib-1.2.0-py3-none-any.whl (870 kB)\n",
      "Using cached email_validator-2.2.0-py3-none-any.whl (33 kB)\n",
      "Using cached dnspython-2.7.0-py3-none-any.whl (313 kB)\n",
      "Installing collected packages: securesystemslib, rfc8785, in-toto-attestation, dnspython, tuf, id, grpclib, email-validator, rfc3161-client, betterproto, sigstore-rekor-types, sigstore-protobuf-specs, sigstore, model-signing, kagglehub\n",
      "Successfully installed betterproto-2.0.0b6 dnspython-2.7.0 email-validator-2.2.0 grpclib-0.4.7 id-1.5.0 in-toto-attestation-0.9.3 kagglehub-0.3.7 model-signing-0.2.0 rfc3161-client-0.1.2 rfc8785-0.1.4 securesystemslib-1.2.0 sigstore-3.6.1 sigstore-protobuf-specs-0.3.2 sigstore-rekor-types-0.0.18 tuf-5.1.0\n",
      "Note: you may need to restart the kernel to use updated packages.\n",
      "\u001b[31mERROR: Could not find a version that satisfies the requirement os (from versions: none)\u001b[0m\u001b[31m\n",
      "\u001b[0m\u001b[31mERROR: No matching distribution found for os\u001b[0m\u001b[31m\n",
      "Note: you may need to restart the kernel to use updated packages.\n"
     ]
    },
    {
     "name": "stderr",
     "output_type": "stream",
     "text": [
      "Key '8396422464894758348' not in persistent cache.\n",
      "Key '8168902463520667758' not in persistent cache.\n",
      "Key '1478961757207436259' not in persistent cache.\n",
      "Key '363603869202397912' not in persistent cache.\n",
      "Key '526935351069195182' not in persistent cache.\n",
      "Key '-3163355904884574644' not in persistent cache.\n",
      "Key '4046004865617079451' not in persistent cache.\n",
      "Key '5467561538171144990' not in persistent cache.\n",
      "Key '-4626269512656942803' not in persistent cache.\n",
      "Key '-4372032100107616840' not in persistent cache.\n",
      "Key '4619880072684285582' not in persistent cache.\n",
      "Key '1118249596009782275' not in persistent cache.\n",
      "Key '1735409792357851884' not in persistent cache.\n",
      "Key '-8243748320162777368' not in persistent cache.\n",
      "Key '5254479306905736153' not in persistent cache.\n",
      "Key '6676035979459801692' not in persistent cache.\n",
      "Key '-4561347323748095829' not in persistent cache.\n",
      "Key '5724009573321560615' not in persistent cache.\n",
      "Key '-8088307097835068385' not in persistent cache.\n",
      "Key '-6654000930245079801' not in persistent cache.\n",
      "Key '-6297912347923454475' not in persistent cache.\n",
      "Key '3987444549146201969' not in persistent cache.\n",
      "Key '4150776031012999239' not in persistent cache.\n",
      "Key '460484775059229413' not in persistent cache.\n",
      "Key '7669845545560883508' not in persistent cache.\n",
      "Key '9091402218114949047' not in persistent cache.\n",
      "Key '6043600455921718079' not in persistent cache.\n",
      "Key '-748191420163812783' not in persistent cache.\n",
      "Key '8243720752628089639' not in persistent cache.\n",
      "Key '4742090275953586332' not in persistent cache.\n",
      "Key '5359250472301655941' not in persistent cache.\n",
      "Key '-4619907640218973311' not in persistent cache.\n",
      "Key '8878319986849540210' not in persistent cache.\n",
      "Key '-8146867414305945867' not in persistent cache.\n",
      "Key '-937506643804291772' not in persistent cache.\n",
      "Key '-9098893820444186944' not in persistent cache.\n",
      "Key '-4464466417891264328' not in persistent cache.\n",
      "Key '4593622633049486391' not in persistent cache.\n",
      "Key '4949711215371111717' not in persistent cache.\n",
      "Key '-3211675961268783455' not in persistent cache.\n",
      "Key '3997684809232870640' not in persistent cache.\n",
      "Key '307393553279100814' not in persistent cache.\n",
      "Key '-3927632347838470044' not in persistent cache.\n",
      "Key '8938310996334820448' not in persistent cache.\n",
      "Key '-1155520054493267345' not in persistent cache.\n",
      "Key '-5299640024928309510' not in persistent cache.\n",
      "Key '8090629530847961040' not in persistent cache.\n",
      "Key '-2457030234461399092' not in persistent cache.\n",
      "Key '5206159250521527342' not in persistent cache.\n",
      "Key '6627715923075592881' not in persistent cache.\n",
      "Key '1679199476434554786' not in persistent cache.\n",
      "Key '-8299958636086074466' not in persistent cache.\n",
      "Key '-8136627154219277196' not in persistent cache.\n",
      "Key '2148729742850379248' not in persistent cache.\n",
      "Key '-9015915022655761055' not in persistent cache.\n",
      "Key '-6748360750012990787' not in persistent cache.\n",
      "Key '610085234398961202' not in persistent cache.\n",
      "Key '-3152944559256565842' not in persistent cache.\n",
      "Key '-341941171739279875' not in persistent cache.\n",
      "Key '366124955291318427' not in persistent cache.\n",
      "Key '-3868900945826252431' not in persistent cache.\n",
      "Key '8997042398347038061' not in persistent cache.\n",
      "Key '-1096788652481049732' not in persistent cache.\n",
      "Key '-5240908622916091897' not in persistent cache.\n",
      "Key '8149360932860178653' not in persistent cache.\n",
      "Key '-2398298832449181479' not in persistent cache.\n",
      "Key '866533269549376827' not in persistent cache.\n",
      "Key '6686447325087810494' not in persistent cache.\n",
      "Key '4385602784097261096' not in persistent cache.\n",
      "Key '-8241227234073856853' not in persistent cache.\n",
      "Key '5970490938518123905' not in persistent cache.\n",
      "Key '-9193253640212097930' not in persistent cache.\n",
      "Key '-8957183620643543442' not in persistent cache.\n",
      "Key '7143036279489589660' not in persistent cache.\n",
      "Key '4461004359213040586' not in persistent cache.\n",
      "Key '5988402416005518081' not in persistent cache.\n",
      "Key '-1741962177128642938' not in persistent cache.\n",
      "Key '-3194673442581250789' not in persistent cache.\n",
      "Key '8178395724002542330' not in persistent cache.\n",
      "Key '-6460488711329102897' not in persistent cache.\n",
      "Key '2208788138384994665' not in persistent cache.\n",
      "Key '-2110330012031404751' not in persistent cache.\n",
      "Key '1199004083802817802' not in persistent cache.\n",
      "Key '633386646985004283' not in persistent cache.\n",
      "Key '1791175191818248707' not in persistent cache.\n",
      "Key '-486382901879762984' not in persistent cache.\n",
      "Key '-2559509077258168338' not in persistent cache.\n",
      "Key '-7094879853102112489' not in persistent cache.\n",
      "Key '-2673956562943101037' not in persistent cache.\n",
      "Key '-3146370358935885566' not in persistent cache.\n",
      "Key '-2025379396272378684' not in persistent cache.\n",
      "Key '2756212618557634595' not in persistent cache.\n",
      "Key '-3492186968696648427' not in persistent cache.\n",
      "Key '4712873931913668043' not in persistent cache.\n",
      "Key '-2299176929334513459' not in persistent cache.\n",
      "Key '-1674489821147329023' not in persistent cache.\n",
      "Key '3540758985506511866' not in persistent cache.\n",
      "Key '7486603882263482503' not in persistent cache.\n",
      "Key '-7012574042875657548' not in persistent cache.\n",
      "Key '-5888144165772182703' not in persistent cache.\n",
      "Key '-1842887367933279416' not in persistent cache.\n",
      "Key '5582358225985775913' not in persistent cache.\n",
      "Key '-7428337694521164884' not in persistent cache.\n",
      "Key '8196728103731063971' not in persistent cache.\n",
      "Key '9035997979311464954' not in persistent cache.\n",
      "Key '2077877406878917096' not in persistent cache.\n",
      "Key '-2950422619590460111' not in persistent cache.\n",
      "Key '-7912892990360073936' not in persistent cache.\n",
      "Key '3115833989371166196' not in persistent cache.\n",
      "Key '-54826937907539355' not in persistent cache.\n",
      "Key '6946356868885550616' not in persistent cache.\n",
      "Key '-2773909546810645059' not in persistent cache.\n",
      "Key '4296718641273876194' not in persistent cache.\n",
      "Key '2129073888277398003' not in persistent cache.\n",
      "Key '-2553637224848781430' not in persistent cache.\n",
      "Key '-8147973658688145774' not in persistent cache.\n",
      "Key '5979839693094101393' not in persistent cache.\n",
      "Key '-5827029196461096449' not in persistent cache.\n",
      "Key '-8258721271622267336' not in persistent cache.\n",
      "Key '5914104183174234826' not in persistent cache.\n",
      "Key '2299157562908445199' not in persistent cache.\n",
      "Key '-3319977056922605153' not in persistent cache.\n",
      "Key '-4093601181846495832' not in persistent cache.\n",
      "Key '8528564786007805503' not in persistent cache.\n",
      "Key '-5091907089602640401' not in persistent cache.\n",
      "Key '-7441307541419711496' not in persistent cache.\n",
      "Key '-6063615453543007925' not in persistent cache.\n",
      "Key '7381149039962447922' not in persistent cache.\n",
      "Key '-6451178847797514144' not in persistent cache.\n",
      "Key '2316300732653217046' not in persistent cache.\n",
      "Key '1948540370688235491' not in persistent cache.\n",
      "Key '-9221846158646324098' not in persistent cache.\n",
      "Key '8896040838298453416' not in persistent cache.\n",
      "Key '-4022641696214978046' not in persistent cache.\n",
      "Key '6043090534534447295' not in persistent cache.\n",
      "Key '-724636287418014303' not in persistent cache.\n",
      "Key '3877501705094152321' not in persistent cache.\n",
      "Key '4301721224772408609' not in persistent cache.\n",
      "Key '-2980876600018478016' not in persistent cache.\n",
      "Key '948733847031667659' not in persistent cache.\n",
      "Key '2371257729935288828' not in persistent cache.\n",
      "Key '-4820653669688836787' not in persistent cache.\n",
      "Key '3312832126226038190' not in persistent cache.\n",
      "Key '7622039404180886207' not in persistent cache.\n",
      "Key '7249024541563071761' not in persistent cache.\n",
      "Key '4264377727012852218' not in persistent cache.\n",
      "Key '-5190454173904796976' not in persistent cache.\n",
      "Key '7106987517479762636' not in persistent cache.\n",
      "Key '-8074924454231230674' not in persistent cache.\n",
      "Key '-6653367781677165135' not in persistent cache.\n",
      "Key '-4555854939683346405' not in persistent cache.\n",
      "Key '8396422464894758348' not in persistent cache.\n",
      "Key '8168902463520667758' not in persistent cache.\n",
      "Key '1478961757207436259' not in persistent cache.\n",
      "Key '363603869202397912' not in persistent cache.\n",
      "Key '526935351069195182' not in persistent cache.\n",
      "Key '-3163355904884574644' not in persistent cache.\n",
      "Key '4046004865617079451' not in persistent cache.\n",
      "Key '5467561538171144990' not in persistent cache.\n",
      "Key '-4626269512656942803' not in persistent cache.\n",
      "Key '-4372032100107616840' not in persistent cache.\n",
      "Key '4619880072684285582' not in persistent cache.\n",
      "Key '1118249596009782275' not in persistent cache.\n",
      "Key '1735409792357851884' not in persistent cache.\n",
      "Key '-8243748320162777368' not in persistent cache.\n",
      "Key '5254479306905736153' not in persistent cache.\n",
      "Key '6676035979459801692' not in persistent cache.\n",
      "Key '-4561347323748095829' not in persistent cache.\n",
      "Key '5724009573321560615' not in persistent cache.\n",
      "Key '-8088307097835068385' not in persistent cache.\n",
      "Key '-6654000930245079801' not in persistent cache.\n",
      "Key '-6297912347923454475' not in persistent cache.\n",
      "Key '3987444549146201969' not in persistent cache.\n",
      "Key '4150776031012999239' not in persistent cache.\n",
      "Key '460484775059229413' not in persistent cache.\n",
      "Key '7669845545560883508' not in persistent cache.\n",
      "Key '9091402218114949047' not in persistent cache.\n",
      "Key '6043600455921718079' not in persistent cache.\n",
      "Key '-748191420163812783' not in persistent cache.\n",
      "Key '8243720752628089639' not in persistent cache.\n",
      "Key '4742090275953586332' not in persistent cache.\n",
      "Key '5359250472301655941' not in persistent cache.\n",
      "Key '-4619907640218973311' not in persistent cache.\n",
      "Key '8878319986849540210' not in persistent cache.\n",
      "Key '-8146867414305945867' not in persistent cache.\n",
      "Key '-937506643804291772' not in persistent cache.\n",
      "Key '-9098893820444186944' not in persistent cache.\n",
      "Key '-4464466417891264328' not in persistent cache.\n",
      "Key '4593622633049486391' not in persistent cache.\n",
      "Key '4949711215371111717' not in persistent cache.\n",
      "Key '-3211675961268783455' not in persistent cache.\n",
      "Key '3997684809232870640' not in persistent cache.\n",
      "Key '307393553279100814' not in persistent cache.\n",
      "Key '-3927632347838470044' not in persistent cache.\n",
      "Key '8938310996334820448' not in persistent cache.\n",
      "Key '-1155520054493267345' not in persistent cache.\n",
      "Key '-5299640024928309510' not in persistent cache.\n",
      "Key '8090629530847961040' not in persistent cache.\n",
      "Key '-2457030234461399092' not in persistent cache.\n",
      "Key '5206159250521527342' not in persistent cache.\n",
      "Key '6627715923075592881' not in persistent cache.\n",
      "Key '1679199476434554786' not in persistent cache.\n",
      "Key '-8299958636086074466' not in persistent cache.\n",
      "Key '-8136627154219277196' not in persistent cache.\n",
      "Key '2148729742850379248' not in persistent cache.\n",
      "Key '-9015915022655761055' not in persistent cache.\n",
      "Key '-6748360750012990787' not in persistent cache.\n",
      "Key '610085234398961202' not in persistent cache.\n",
      "Key '-3152944559256565842' not in persistent cache.\n",
      "Key '-341941171739279875' not in persistent cache.\n",
      "Key '366124955291318427' not in persistent cache.\n",
      "Key '-3868900945826252431' not in persistent cache.\n",
      "Key '8997042398347038061' not in persistent cache.\n",
      "Key '-1096788652481049732' not in persistent cache.\n",
      "Key '-5240908622916091897' not in persistent cache.\n",
      "Key '8149360932860178653' not in persistent cache.\n",
      "Key '-2398298832449181479' not in persistent cache.\n",
      "Key '866533269549376827' not in persistent cache.\n",
      "Key '6686447325087810494' not in persistent cache.\n",
      "Key '4385602784097261096' not in persistent cache.\n",
      "Key '-8241227234073856853' not in persistent cache.\n",
      "Key '5970490938518123905' not in persistent cache.\n",
      "Key '-9193253640212097930' not in persistent cache.\n",
      "Key '-8957183620643543442' not in persistent cache.\n",
      "Key '7143036279489589660' not in persistent cache.\n",
      "Key '4461004359213040586' not in persistent cache.\n",
      "Key '5988402416005518081' not in persistent cache.\n",
      "Key '-1741962177128642938' not in persistent cache.\n",
      "Key '-3194673442581250789' not in persistent cache.\n",
      "Key '8178395724002542330' not in persistent cache.\n",
      "Key '-6460488711329102897' not in persistent cache.\n",
      "Key '2208788138384994665' not in persistent cache.\n",
      "Key '-2110330012031404751' not in persistent cache.\n",
      "Key '1199004083802817802' not in persistent cache.\n",
      "Key '633386646985004283' not in persistent cache.\n",
      "Key '1791175191818248707' not in persistent cache.\n",
      "Key '-486382901879762984' not in persistent cache.\n",
      "Key '-2559509077258168338' not in persistent cache.\n",
      "Key '-7094879853102112489' not in persistent cache.\n",
      "Key '-2673956562943101037' not in persistent cache.\n",
      "Key '-3146370358935885566' not in persistent cache.\n",
      "Key '-2025379396272378684' not in persistent cache.\n",
      "Key '2756212618557634595' not in persistent cache.\n",
      "Key '-3492186968696648427' not in persistent cache.\n",
      "Key '4712873931913668043' not in persistent cache.\n",
      "Key '-2299176929334513459' not in persistent cache.\n",
      "Key '-1674489821147329023' not in persistent cache.\n",
      "Key '3540758985506511866' not in persistent cache.\n",
      "Key '7486603882263482503' not in persistent cache.\n",
      "Key '-7012574042875657548' not in persistent cache.\n",
      "Key '-5888144165772182703' not in persistent cache.\n",
      "Key '-1842887367933279416' not in persistent cache.\n",
      "Key '5582358225985775913' not in persistent cache.\n",
      "Key '-7428337694521164884' not in persistent cache.\n",
      "Key '8196728103731063971' not in persistent cache.\n",
      "Key '9035997979311464954' not in persistent cache.\n",
      "Key '2077877406878917096' not in persistent cache.\n",
      "Key '-2950422619590460111' not in persistent cache.\n",
      "Key '-7912892990360073936' not in persistent cache.\n",
      "Key '3115833989371166196' not in persistent cache.\n",
      "Key '-54826937907539355' not in persistent cache.\n",
      "Key '6946356868885550616' not in persistent cache.\n",
      "Key '-2773909546810645059' not in persistent cache.\n",
      "Key '4296718641273876194' not in persistent cache.\n",
      "Key '2129073888277398003' not in persistent cache.\n",
      "Key '-2553637224848781430' not in persistent cache.\n",
      "Key '-8147973658688145774' not in persistent cache.\n",
      "Key '5979839693094101393' not in persistent cache.\n",
      "Key '-5827029196461096449' not in persistent cache.\n",
      "Key '-8258721271622267336' not in persistent cache.\n",
      "Key '5914104183174234826' not in persistent cache.\n",
      "Key '2299157562908445199' not in persistent cache.\n",
      "Key '-3319977056922605153' not in persistent cache.\n",
      "Key '-4093601181846495832' not in persistent cache.\n",
      "Key '8528564786007805503' not in persistent cache.\n",
      "Key '-5091907089602640401' not in persistent cache.\n",
      "Key '-7441307541419711496' not in persistent cache.\n",
      "Key '-6063615453543007925' not in persistent cache.\n",
      "Key '7381149039962447922' not in persistent cache.\n",
      "Key '-6451178847797514144' not in persistent cache.\n",
      "Key '2316300732653217046' not in persistent cache.\n",
      "Key '1948540370688235491' not in persistent cache.\n",
      "Key '-9221846158646324098' not in persistent cache.\n",
      "Key '8896040838298453416' not in persistent cache.\n",
      "Key '-4022641696214978046' not in persistent cache.\n",
      "Key '6043090534534447295' not in persistent cache.\n",
      "Key '-724636287418014303' not in persistent cache.\n",
      "Key '3877501705094152321' not in persistent cache.\n",
      "Key '4301721224772408609' not in persistent cache.\n",
      "Key '-2980876600018478016' not in persistent cache.\n",
      "Key '948733847031667659' not in persistent cache.\n",
      "Key '2371257729935288828' not in persistent cache.\n",
      "Key '-4820653669688836787' not in persistent cache.\n",
      "Key '3312832126226038190' not in persistent cache.\n",
      "Key '7622039404180886207' not in persistent cache.\n",
      "Key '7249024541563071761' not in persistent cache.\n",
      "Key '4264377727012852218' not in persistent cache.\n",
      "Key '-5190454173904796976' not in persistent cache.\n",
      "Key '7106987517479762636' not in persistent cache.\n",
      "Key '-8074924454231230674' not in persistent cache.\n",
      "Key '-6653367781677165135' not in persistent cache.\n",
      "Key '-4555854939683346405' not in persistent cache.\n",
      "Key '8396422464894758348' not in persistent cache.\n",
      "Key '8168902463520667758' not in persistent cache.\n",
      "Key '1478961757207436259' not in persistent cache.\n",
      "Key '363603869202397912' not in persistent cache.\n",
      "Key '526935351069195182' not in persistent cache.\n",
      "Key '-3163355904884574644' not in persistent cache.\n",
      "Key '4046004865617079451' not in persistent cache.\n",
      "Key '5467561538171144990' not in persistent cache.\n",
      "Key '-4626269512656942803' not in persistent cache.\n",
      "Key '-4372032100107616840' not in persistent cache.\n",
      "Key '4619880072684285582' not in persistent cache.\n",
      "Key '1118249596009782275' not in persistent cache.\n",
      "Key '1735409792357851884' not in persistent cache.\n",
      "Key '-8243748320162777368' not in persistent cache.\n",
      "Key '5254479306905736153' not in persistent cache.\n",
      "Key '6676035979459801692' not in persistent cache.\n",
      "Key '-4561347323748095829' not in persistent cache.\n",
      "Key '5724009573321560615' not in persistent cache.\n",
      "Key '-8088307097835068385' not in persistent cache.\n",
      "Key '-6654000930245079801' not in persistent cache.\n",
      "Key '-6297912347923454475' not in persistent cache.\n",
      "Key '3987444549146201969' not in persistent cache.\n",
      "Key '4150776031012999239' not in persistent cache.\n",
      "Key '460484775059229413' not in persistent cache.\n",
      "Key '7669845545560883508' not in persistent cache.\n",
      "Key '9091402218114949047' not in persistent cache.\n",
      "Key '6043600455921718079' not in persistent cache.\n",
      "Key '-748191420163812783' not in persistent cache.\n",
      "Key '8243720752628089639' not in persistent cache.\n",
      "Key '4742090275953586332' not in persistent cache.\n",
      "Key '5359250472301655941' not in persistent cache.\n",
      "Key '-4619907640218973311' not in persistent cache.\n",
      "Key '8878319986849540210' not in persistent cache.\n",
      "Key '-8146867414305945867' not in persistent cache.\n",
      "Key '-937506643804291772' not in persistent cache.\n",
      "Key '-9098893820444186944' not in persistent cache.\n",
      "Key '-4464466417891264328' not in persistent cache.\n",
      "Key '4593622633049486391' not in persistent cache.\n",
      "Key '4949711215371111717' not in persistent cache.\n",
      "Key '-3211675961268783455' not in persistent cache.\n",
      "Key '3997684809232870640' not in persistent cache.\n",
      "Key '307393553279100814' not in persistent cache.\n",
      "Key '-3927632347838470044' not in persistent cache.\n",
      "Key '8938310996334820448' not in persistent cache.\n",
      "Key '-1155520054493267345' not in persistent cache.\n",
      "Key '-5299640024928309510' not in persistent cache.\n",
      "Key '8090629530847961040' not in persistent cache.\n",
      "Key '-2457030234461399092' not in persistent cache.\n",
      "Key '5206159250521527342' not in persistent cache.\n",
      "Key '6627715923075592881' not in persistent cache.\n",
      "Key '1679199476434554786' not in persistent cache.\n",
      "Key '-8299958636086074466' not in persistent cache.\n",
      "Key '-8136627154219277196' not in persistent cache.\n",
      "Key '2148729742850379248' not in persistent cache.\n",
      "Key '-9015915022655761055' not in persistent cache.\n",
      "Key '-6748360750012990787' not in persistent cache.\n",
      "Key '610085234398961202' not in persistent cache.\n",
      "Key '-3152944559256565842' not in persistent cache.\n",
      "Key '-341941171739279875' not in persistent cache.\n",
      "Key '366124955291318427' not in persistent cache.\n",
      "Key '-3868900945826252431' not in persistent cache.\n",
      "Key '8997042398347038061' not in persistent cache.\n",
      "Key '-1096788652481049732' not in persistent cache.\n",
      "Key '-5240908622916091897' not in persistent cache.\n",
      "Key '8149360932860178653' not in persistent cache.\n",
      "Key '-2398298832449181479' not in persistent cache.\n",
      "Key '866533269549376827' not in persistent cache.\n",
      "Key '6686447325087810494' not in persistent cache.\n",
      "Key '4385602784097261096' not in persistent cache.\n",
      "Key '-8241227234073856853' not in persistent cache.\n",
      "Key '5970490938518123905' not in persistent cache.\n",
      "Key '-9193253640212097930' not in persistent cache.\n",
      "Key '-8957183620643543442' not in persistent cache.\n",
      "Key '7143036279489589660' not in persistent cache.\n",
      "Key '4461004359213040586' not in persistent cache.\n",
      "Key '5988402416005518081' not in persistent cache.\n",
      "Key '-1741962177128642938' not in persistent cache.\n",
      "Key '-3194673442581250789' not in persistent cache.\n",
      "Key '8178395724002542330' not in persistent cache.\n",
      "Key '-6460488711329102897' not in persistent cache.\n",
      "Key '2208788138384994665' not in persistent cache.\n",
      "Key '-2110330012031404751' not in persistent cache.\n",
      "Key '1199004083802817802' not in persistent cache.\n",
      "Key '633386646985004283' not in persistent cache.\n",
      "Key '1791175191818248707' not in persistent cache.\n",
      "Key '-486382901879762984' not in persistent cache.\n",
      "Key '-2559509077258168338' not in persistent cache.\n",
      "Key '-7094879853102112489' not in persistent cache.\n",
      "Key '-2673956562943101037' not in persistent cache.\n",
      "Key '-3146370358935885566' not in persistent cache.\n",
      "Key '-2025379396272378684' not in persistent cache.\n",
      "Key '2756212618557634595' not in persistent cache.\n",
      "Key '-3492186968696648427' not in persistent cache.\n",
      "Key '4712873931913668043' not in persistent cache.\n",
      "Key '-2299176929334513459' not in persistent cache.\n",
      "Key '-1674489821147329023' not in persistent cache.\n",
      "Key '3540758985506511866' not in persistent cache.\n",
      "Key '7486603882263482503' not in persistent cache.\n",
      "Key '-7012574042875657548' not in persistent cache.\n",
      "Key '-5888144165772182703' not in persistent cache.\n",
      "Key '-1842887367933279416' not in persistent cache.\n",
      "Key '5582358225985775913' not in persistent cache.\n",
      "Key '-7428337694521164884' not in persistent cache.\n",
      "Key '8196728103731063971' not in persistent cache.\n",
      "Key '9035997979311464954' not in persistent cache.\n",
      "Key '2077877406878917096' not in persistent cache.\n",
      "Key '-2950422619590460111' not in persistent cache.\n",
      "Key '-7912892990360073936' not in persistent cache.\n",
      "Key '3115833989371166196' not in persistent cache.\n",
      "Key '-54826937907539355' not in persistent cache.\n",
      "Key '6946356868885550616' not in persistent cache.\n",
      "Key '-2773909546810645059' not in persistent cache.\n",
      "Key '4296718641273876194' not in persistent cache.\n",
      "Key '2129073888277398003' not in persistent cache.\n",
      "Key '-2553637224848781430' not in persistent cache.\n",
      "Key '-8147973658688145774' not in persistent cache.\n",
      "Key '5979839693094101393' not in persistent cache.\n",
      "Key '-5827029196461096449' not in persistent cache.\n",
      "Key '-8258721271622267336' not in persistent cache.\n",
      "Key '5914104183174234826' not in persistent cache.\n",
      "Key '2299157562908445199' not in persistent cache.\n",
      "Key '-3319977056922605153' not in persistent cache.\n",
      "Key '-4093601181846495832' not in persistent cache.\n",
      "Key '8528564786007805503' not in persistent cache.\n",
      "Key '-5091907089602640401' not in persistent cache.\n",
      "Key '-7441307541419711496' not in persistent cache.\n",
      "Key '-6063615453543007925' not in persistent cache.\n",
      "Key '7381149039962447922' not in persistent cache.\n",
      "Key '-6451178847797514144' not in persistent cache.\n",
      "Key '2316300732653217046' not in persistent cache.\n",
      "Key '1948540370688235491' not in persistent cache.\n",
      "Key '-9221846158646324098' not in persistent cache.\n",
      "Key '8896040838298453416' not in persistent cache.\n",
      "Key '-4022641696214978046' not in persistent cache.\n",
      "Key '6043090534534447295' not in persistent cache.\n",
      "Key '-724636287418014303' not in persistent cache.\n",
      "Key '3877501705094152321' not in persistent cache.\n",
      "Key '4301721224772408609' not in persistent cache.\n",
      "Key '-2980876600018478016' not in persistent cache.\n",
      "Key '948733847031667659' not in persistent cache.\n",
      "Key '2371257729935288828' not in persistent cache.\n",
      "Key '-4820653669688836787' not in persistent cache.\n",
      "Key '3312832126226038190' not in persistent cache.\n",
      "Key '7622039404180886207' not in persistent cache.\n",
      "Key '7249024541563071761' not in persistent cache.\n",
      "Key '4264377727012852218' not in persistent cache.\n",
      "Key '-5190454173904796976' not in persistent cache.\n",
      "Key '7106987517479762636' not in persistent cache.\n",
      "Key '-8074924454231230674' not in persistent cache.\n",
      "Key '-6653367781677165135' not in persistent cache.\n",
      "Key '-4555854939683346405' not in persistent cache.\n",
      "Key '8396422464894758348' not in persistent cache.\n",
      "Key '8168902463520667758' not in persistent cache.\n",
      "Key '1478961757207436259' not in persistent cache.\n",
      "Key '363603869202397912' not in persistent cache.\n",
      "Key '526935351069195182' not in persistent cache.\n",
      "Key '-3163355904884574644' not in persistent cache.\n",
      "Key '4046004865617079451' not in persistent cache.\n",
      "Key '5467561538171144990' not in persistent cache.\n",
      "Key '-4626269512656942803' not in persistent cache.\n",
      "Key '-4372032100107616840' not in persistent cache.\n",
      "Key '4619880072684285582' not in persistent cache.\n",
      "Key '1118249596009782275' not in persistent cache.\n",
      "Key '1735409792357851884' not in persistent cache.\n",
      "Key '-8243748320162777368' not in persistent cache.\n",
      "Key '5254479306905736153' not in persistent cache.\n",
      "Key '6676035979459801692' not in persistent cache.\n",
      "Key '-4561347323748095829' not in persistent cache.\n",
      "Key '5724009573321560615' not in persistent cache.\n",
      "Key '-8088307097835068385' not in persistent cache.\n",
      "Key '-6654000930245079801' not in persistent cache.\n",
      "Key '-6297912347923454475' not in persistent cache.\n",
      "Key '3987444549146201969' not in persistent cache.\n",
      "Key '4150776031012999239' not in persistent cache.\n",
      "Key '460484775059229413' not in persistent cache.\n",
      "Key '7669845545560883508' not in persistent cache.\n",
      "Key '9091402218114949047' not in persistent cache.\n",
      "Key '6043600455921718079' not in persistent cache.\n",
      "Key '-748191420163812783' not in persistent cache.\n",
      "Key '8243720752628089639' not in persistent cache.\n",
      "Key '4742090275953586332' not in persistent cache.\n",
      "Key '5359250472301655941' not in persistent cache.\n",
      "Key '-4619907640218973311' not in persistent cache.\n",
      "Key '8878319986849540210' not in persistent cache.\n",
      "Key '-8146867414305945867' not in persistent cache.\n",
      "Key '-937506643804291772' not in persistent cache.\n",
      "Key '-9098893820444186944' not in persistent cache.\n",
      "Key '-4464466417891264328' not in persistent cache.\n",
      "Key '4593622633049486391' not in persistent cache.\n",
      "Key '4949711215371111717' not in persistent cache.\n",
      "Key '-3211675961268783455' not in persistent cache.\n",
      "Key '3997684809232870640' not in persistent cache.\n",
      "Key '307393553279100814' not in persistent cache.\n",
      "Key '-3927632347838470044' not in persistent cache.\n",
      "Key '8938310996334820448' not in persistent cache.\n",
      "Key '-1155520054493267345' not in persistent cache.\n",
      "Key '-5299640024928309510' not in persistent cache.\n",
      "Key '8090629530847961040' not in persistent cache.\n",
      "Key '-2457030234461399092' not in persistent cache.\n",
      "Key '5206159250521527342' not in persistent cache.\n",
      "Key '6627715923075592881' not in persistent cache.\n",
      "Key '1679199476434554786' not in persistent cache.\n",
      "Key '-8299958636086074466' not in persistent cache.\n",
      "Key '-8136627154219277196' not in persistent cache.\n",
      "Key '2148729742850379248' not in persistent cache.\n",
      "Key '-9015915022655761055' not in persistent cache.\n",
      "Key '-6748360750012990787' not in persistent cache.\n",
      "Key '610085234398961202' not in persistent cache.\n",
      "Key '-3152944559256565842' not in persistent cache.\n",
      "Key '-341941171739279875' not in persistent cache.\n",
      "Key '366124955291318427' not in persistent cache.\n",
      "Key '-3868900945826252431' not in persistent cache.\n",
      "Key '8997042398347038061' not in persistent cache.\n",
      "Key '-1096788652481049732' not in persistent cache.\n",
      "Key '-5240908622916091897' not in persistent cache.\n",
      "Key '8149360932860178653' not in persistent cache.\n",
      "Key '-2398298832449181479' not in persistent cache.\n",
      "Key '866533269549376827' not in persistent cache.\n",
      "Key '6686447325087810494' not in persistent cache.\n",
      "Key '4385602784097261096' not in persistent cache.\n",
      "Key '-8241227234073856853' not in persistent cache.\n",
      "Key '5970490938518123905' not in persistent cache.\n",
      "Key '-9193253640212097930' not in persistent cache.\n",
      "Key '-8957183620643543442' not in persistent cache.\n",
      "Key '7143036279489589660' not in persistent cache.\n",
      "Key '4461004359213040586' not in persistent cache.\n",
      "Key '5988402416005518081' not in persistent cache.\n",
      "Key '-1741962177128642938' not in persistent cache.\n",
      "Key '-3194673442581250789' not in persistent cache.\n",
      "Key '8178395724002542330' not in persistent cache.\n",
      "Key '-6460488711329102897' not in persistent cache.\n",
      "Key '2208788138384994665' not in persistent cache.\n",
      "Key '-2110330012031404751' not in persistent cache.\n",
      "Key '1199004083802817802' not in persistent cache.\n",
      "Key '633386646985004283' not in persistent cache.\n",
      "Key '1791175191818248707' not in persistent cache.\n",
      "Key '-486382901879762984' not in persistent cache.\n",
      "Key '-2559509077258168338' not in persistent cache.\n",
      "Key '-7094879853102112489' not in persistent cache.\n",
      "Key '-2673956562943101037' not in persistent cache.\n",
      "Key '-3146370358935885566' not in persistent cache.\n",
      "Key '-2025379396272378684' not in persistent cache.\n",
      "Key '2756212618557634595' not in persistent cache.\n",
      "Key '-3492186968696648427' not in persistent cache.\n",
      "Key '4712873931913668043' not in persistent cache.\n",
      "Key '-2299176929334513459' not in persistent cache.\n",
      "Key '-1674489821147329023' not in persistent cache.\n",
      "Key '3540758985506511866' not in persistent cache.\n",
      "Key '7486603882263482503' not in persistent cache.\n",
      "Key '-7012574042875657548' not in persistent cache.\n",
      "Key '-5888144165772182703' not in persistent cache.\n",
      "Key '-1842887367933279416' not in persistent cache.\n",
      "Key '5582358225985775913' not in persistent cache.\n",
      "Key '-7428337694521164884' not in persistent cache.\n",
      "Key '8196728103731063971' not in persistent cache.\n",
      "Key '9035997979311464954' not in persistent cache.\n",
      "Key '2077877406878917096' not in persistent cache.\n",
      "Key '-2950422619590460111' not in persistent cache.\n",
      "Key '-7912892990360073936' not in persistent cache.\n",
      "Key '3115833989371166196' not in persistent cache.\n",
      "Key '-54826937907539355' not in persistent cache.\n",
      "Key '6946356868885550616' not in persistent cache.\n",
      "Key '-2773909546810645059' not in persistent cache.\n",
      "Key '4296718641273876194' not in persistent cache.\n",
      "Key '2129073888277398003' not in persistent cache.\n",
      "Key '-2553637224848781430' not in persistent cache.\n",
      "Key '-8147973658688145774' not in persistent cache.\n",
      "Key '5979839693094101393' not in persistent cache.\n",
      "Key '-5827029196461096449' not in persistent cache.\n",
      "Key '-8258721271622267336' not in persistent cache.\n",
      "Key '5914104183174234826' not in persistent cache.\n",
      "Key '2299157562908445199' not in persistent cache.\n",
      "Key '-3319977056922605153' not in persistent cache.\n",
      "Key '-4093601181846495832' not in persistent cache.\n",
      "Key '8528564786007805503' not in persistent cache.\n",
      "Key '-5091907089602640401' not in persistent cache.\n",
      "Key '-7441307541419711496' not in persistent cache.\n",
      "Key '-6063615453543007925' not in persistent cache.\n",
      "Key '7381149039962447922' not in persistent cache.\n",
      "Key '-6451178847797514144' not in persistent cache.\n",
      "Key '2316300732653217046' not in persistent cache.\n",
      "Key '1948540370688235491' not in persistent cache.\n",
      "Key '-9221846158646324098' not in persistent cache.\n",
      "Key '8896040838298453416' not in persistent cache.\n",
      "Key '-4022641696214978046' not in persistent cache.\n",
      "Key '6043090534534447295' not in persistent cache.\n",
      "Key '-724636287418014303' not in persistent cache.\n",
      "Key '3877501705094152321' not in persistent cache.\n",
      "Key '4301721224772408609' not in persistent cache.\n",
      "Key '-2980876600018478016' not in persistent cache.\n",
      "Key '948733847031667659' not in persistent cache.\n",
      "Key '2371257729935288828' not in persistent cache.\n",
      "Key '-4820653669688836787' not in persistent cache.\n",
      "Key '3312832126226038190' not in persistent cache.\n",
      "Key '7622039404180886207' not in persistent cache.\n",
      "Key '7249024541563071761' not in persistent cache.\n",
      "Key '4264377727012852218' not in persistent cache.\n",
      "Key '-5190454173904796976' not in persistent cache.\n",
      "Key '7106987517479762636' not in persistent cache.\n",
      "Key '-8074924454231230674' not in persistent cache.\n",
      "Key '-6653367781677165135' not in persistent cache.\n",
      "Key '-4555854939683346405' not in persistent cache.\n",
      "Key '8396422464894758348' not in persistent cache.\n",
      "Key '8168902463520667758' not in persistent cache.\n",
      "Key '1478961757207436259' not in persistent cache.\n",
      "Key '363603869202397912' not in persistent cache.\n",
      "Key '526935351069195182' not in persistent cache.\n",
      "Key '-3163355904884574644' not in persistent cache.\n",
      "Key '4046004865617079451' not in persistent cache.\n",
      "Key '5467561538171144990' not in persistent cache.\n",
      "Key '-4626269512656942803' not in persistent cache.\n",
      "Key '-4372032100107616840' not in persistent cache.\n",
      "Key '4619880072684285582' not in persistent cache.\n",
      "Key '1118249596009782275' not in persistent cache.\n",
      "Key '1735409792357851884' not in persistent cache.\n",
      "Key '-8243748320162777368' not in persistent cache.\n",
      "Key '5254479306905736153' not in persistent cache.\n",
      "Key '6676035979459801692' not in persistent cache.\n",
      "Key '-4561347323748095829' not in persistent cache.\n",
      "Key '5724009573321560615' not in persistent cache.\n",
      "Key '-8088307097835068385' not in persistent cache.\n",
      "Key '-6654000930245079801' not in persistent cache.\n",
      "Key '-6297912347923454475' not in persistent cache.\n",
      "Key '3987444549146201969' not in persistent cache.\n",
      "Key '4150776031012999239' not in persistent cache.\n",
      "Key '460484775059229413' not in persistent cache.\n",
      "Key '7669845545560883508' not in persistent cache.\n",
      "Key '9091402218114949047' not in persistent cache.\n",
      "Key '6043600455921718079' not in persistent cache.\n",
      "Key '-748191420163812783' not in persistent cache.\n",
      "Key '8243720752628089639' not in persistent cache.\n",
      "Key '4742090275953586332' not in persistent cache.\n",
      "Key '5359250472301655941' not in persistent cache.\n",
      "Key '-4619907640218973311' not in persistent cache.\n",
      "Key '8878319986849540210' not in persistent cache.\n",
      "Key '-8146867414305945867' not in persistent cache.\n",
      "Key '-937506643804291772' not in persistent cache.\n",
      "Key '-9098893820444186944' not in persistent cache.\n",
      "Key '-4464466417891264328' not in persistent cache.\n",
      "Key '4593622633049486391' not in persistent cache.\n",
      "Key '4949711215371111717' not in persistent cache.\n",
      "Key '-3211675961268783455' not in persistent cache.\n",
      "Key '3997684809232870640' not in persistent cache.\n",
      "Key '307393553279100814' not in persistent cache.\n",
      "Key '-3927632347838470044' not in persistent cache.\n",
      "Key '8938310996334820448' not in persistent cache.\n",
      "Key '-1155520054493267345' not in persistent cache.\n",
      "Key '-5299640024928309510' not in persistent cache.\n",
      "Key '8090629530847961040' not in persistent cache.\n",
      "Key '-2457030234461399092' not in persistent cache.\n",
      "Key '5206159250521527342' not in persistent cache.\n",
      "Key '6627715923075592881' not in persistent cache.\n",
      "Key '1679199476434554786' not in persistent cache.\n",
      "Key '-8299958636086074466' not in persistent cache.\n",
      "Key '-8136627154219277196' not in persistent cache.\n",
      "Key '2148729742850379248' not in persistent cache.\n",
      "Key '-9015915022655761055' not in persistent cache.\n",
      "Key '-6748360750012990787' not in persistent cache.\n",
      "Key '610085234398961202' not in persistent cache.\n",
      "Key '-3152944559256565842' not in persistent cache.\n",
      "Key '-341941171739279875' not in persistent cache.\n",
      "Key '366124955291318427' not in persistent cache.\n",
      "Key '-3868900945826252431' not in persistent cache.\n",
      "Key '8997042398347038061' not in persistent cache.\n",
      "Key '-1096788652481049732' not in persistent cache.\n",
      "Key '-5240908622916091897' not in persistent cache.\n",
      "Key '8149360932860178653' not in persistent cache.\n",
      "Key '-2398298832449181479' not in persistent cache.\n",
      "Key '866533269549376827' not in persistent cache.\n",
      "Key '6686447325087810494' not in persistent cache.\n",
      "Key '4385602784097261096' not in persistent cache.\n",
      "Key '-8241227234073856853' not in persistent cache.\n",
      "Key '5970490938518123905' not in persistent cache.\n",
      "Key '-9193253640212097930' not in persistent cache.\n",
      "Key '-8957183620643543442' not in persistent cache.\n",
      "Key '7143036279489589660' not in persistent cache.\n",
      "Key '4461004359213040586' not in persistent cache.\n",
      "Key '5988402416005518081' not in persistent cache.\n",
      "Key '-1741962177128642938' not in persistent cache.\n",
      "Key '-3194673442581250789' not in persistent cache.\n",
      "Key '8178395724002542330' not in persistent cache.\n",
      "Key '-6460488711329102897' not in persistent cache.\n",
      "Key '2208788138384994665' not in persistent cache.\n",
      "Key '-2110330012031404751' not in persistent cache.\n",
      "Key '1199004083802817802' not in persistent cache.\n",
      "Key '633386646985004283' not in persistent cache.\n",
      "Key '1791175191818248707' not in persistent cache.\n",
      "Key '-486382901879762984' not in persistent cache.\n",
      "Key '-2559509077258168338' not in persistent cache.\n",
      "Key '-7094879853102112489' not in persistent cache.\n",
      "Key '-2673956562943101037' not in persistent cache.\n",
      "Key '-3146370358935885566' not in persistent cache.\n",
      "Key '-2025379396272378684' not in persistent cache.\n",
      "Key '2756212618557634595' not in persistent cache.\n",
      "Key '-3492186968696648427' not in persistent cache.\n",
      "Key '4712873931913668043' not in persistent cache.\n",
      "Key '-2299176929334513459' not in persistent cache.\n",
      "Key '-1674489821147329023' not in persistent cache.\n",
      "Key '3540758985506511866' not in persistent cache.\n",
      "Key '7486603882263482503' not in persistent cache.\n",
      "Key '-7012574042875657548' not in persistent cache.\n",
      "Key '-5888144165772182703' not in persistent cache.\n",
      "Key '-1842887367933279416' not in persistent cache.\n",
      "Key '5582358225985775913' not in persistent cache.\n",
      "Key '-7428337694521164884' not in persistent cache.\n",
      "Key '8196728103731063971' not in persistent cache.\n",
      "Key '9035997979311464954' not in persistent cache.\n",
      "Key '2077877406878917096' not in persistent cache.\n",
      "Key '-2950422619590460111' not in persistent cache.\n",
      "Key '-7912892990360073936' not in persistent cache.\n",
      "Key '3115833989371166196' not in persistent cache.\n",
      "Key '-54826937907539355' not in persistent cache.\n",
      "Key '6946356868885550616' not in persistent cache.\n",
      "Key '-2773909546810645059' not in persistent cache.\n",
      "Key '4296718641273876194' not in persistent cache.\n",
      "Key '2129073888277398003' not in persistent cache.\n",
      "Key '-2553637224848781430' not in persistent cache.\n",
      "Key '-8147973658688145774' not in persistent cache.\n",
      "Key '5979839693094101393' not in persistent cache.\n",
      "Key '-5827029196461096449' not in persistent cache.\n",
      "Key '-8258721271622267336' not in persistent cache.\n",
      "Key '5914104183174234826' not in persistent cache.\n",
      "Key '2299157562908445199' not in persistent cache.\n",
      "Key '-3319977056922605153' not in persistent cache.\n",
      "Key '-4093601181846495832' not in persistent cache.\n",
      "Key '8528564786007805503' not in persistent cache.\n",
      "Key '-5091907089602640401' not in persistent cache.\n",
      "Key '-7441307541419711496' not in persistent cache.\n",
      "Key '-6063615453543007925' not in persistent cache.\n",
      "Key '7381149039962447922' not in persistent cache.\n",
      "Key '-6451178847797514144' not in persistent cache.\n",
      "Key '2316300732653217046' not in persistent cache.\n",
      "Key '1948540370688235491' not in persistent cache.\n",
      "Key '-9221846158646324098' not in persistent cache.\n",
      "Key '8896040838298453416' not in persistent cache.\n",
      "Key '-4022641696214978046' not in persistent cache.\n",
      "Key '6043090534534447295' not in persistent cache.\n",
      "Key '-724636287418014303' not in persistent cache.\n",
      "Key '3877501705094152321' not in persistent cache.\n",
      "Key '4301721224772408609' not in persistent cache.\n",
      "Key '-2980876600018478016' not in persistent cache.\n",
      "Key '948733847031667659' not in persistent cache.\n",
      "Key '2371257729935288828' not in persistent cache.\n",
      "Key '-4820653669688836787' not in persistent cache.\n",
      "Key '3312832126226038190' not in persistent cache.\n",
      "Key '7622039404180886207' not in persistent cache.\n",
      "Key '7249024541563071761' not in persistent cache.\n",
      "Key '4264377727012852218' not in persistent cache.\n",
      "Key '-5190454173904796976' not in persistent cache.\n",
      "Key '7106987517479762636' not in persistent cache.\n",
      "Key '-8074924454231230674' not in persistent cache.\n",
      "Key '-6653367781677165135' not in persistent cache.\n",
      "Key '-4555854939683346405' not in persistent cache.\n",
      "Key '8396422464894758348' not in persistent cache.\n",
      "Key '8168902463520667758' not in persistent cache.\n",
      "Key '1478961757207436259' not in persistent cache.\n",
      "Key '363603869202397912' not in persistent cache.\n",
      "Key '526935351069195182' not in persistent cache.\n",
      "Key '-3163355904884574644' not in persistent cache.\n",
      "Key '4046004865617079451' not in persistent cache.\n",
      "Key '5467561538171144990' not in persistent cache.\n",
      "Key '-4626269512656942803' not in persistent cache.\n",
      "Key '-4372032100107616840' not in persistent cache.\n",
      "Key '4619880072684285582' not in persistent cache.\n",
      "Key '1118249596009782275' not in persistent cache.\n",
      "Key '1735409792357851884' not in persistent cache.\n",
      "Key '-8243748320162777368' not in persistent cache.\n",
      "Key '5254479306905736153' not in persistent cache.\n",
      "Key '6676035979459801692' not in persistent cache.\n",
      "Key '-4561347323748095829' not in persistent cache.\n",
      "Key '5724009573321560615' not in persistent cache.\n",
      "Key '-8088307097835068385' not in persistent cache.\n",
      "Key '-6654000930245079801' not in persistent cache.\n",
      "Key '-6297912347923454475' not in persistent cache.\n",
      "Key '3987444549146201969' not in persistent cache.\n",
      "Key '4150776031012999239' not in persistent cache.\n",
      "Key '460484775059229413' not in persistent cache.\n",
      "Key '7669845545560883508' not in persistent cache.\n",
      "Key '9091402218114949047' not in persistent cache.\n",
      "Key '6043600455921718079' not in persistent cache.\n",
      "Key '-748191420163812783' not in persistent cache.\n",
      "Key '8243720752628089639' not in persistent cache.\n",
      "Key '4742090275953586332' not in persistent cache.\n",
      "Key '5359250472301655941' not in persistent cache.\n",
      "Key '-4619907640218973311' not in persistent cache.\n",
      "Key '8878319986849540210' not in persistent cache.\n",
      "Key '-8146867414305945867' not in persistent cache.\n",
      "Key '-937506643804291772' not in persistent cache.\n",
      "Key '-9098893820444186944' not in persistent cache.\n",
      "Key '-4464466417891264328' not in persistent cache.\n",
      "Key '4593622633049486391' not in persistent cache.\n",
      "Key '4949711215371111717' not in persistent cache.\n",
      "Key '-3211675961268783455' not in persistent cache.\n",
      "Key '3997684809232870640' not in persistent cache.\n",
      "Key '307393553279100814' not in persistent cache.\n",
      "Key '-3927632347838470044' not in persistent cache.\n",
      "Key '8938310996334820448' not in persistent cache.\n",
      "Key '-1155520054493267345' not in persistent cache.\n",
      "Key '-5299640024928309510' not in persistent cache.\n",
      "Key '8090629530847961040' not in persistent cache.\n",
      "Key '-2457030234461399092' not in persistent cache.\n",
      "Key '5206159250521527342' not in persistent cache.\n",
      "Key '6627715923075592881' not in persistent cache.\n",
      "Key '1679199476434554786' not in persistent cache.\n",
      "Key '-8299958636086074466' not in persistent cache.\n",
      "Key '-8136627154219277196' not in persistent cache.\n",
      "Key '2148729742850379248' not in persistent cache.\n",
      "Key '-9015915022655761055' not in persistent cache.\n",
      "Key '-6748360750012990787' not in persistent cache.\n",
      "Key '610085234398961202' not in persistent cache.\n",
      "Key '-3152944559256565842' not in persistent cache.\n",
      "Key '-341941171739279875' not in persistent cache.\n",
      "Key '366124955291318427' not in persistent cache.\n",
      "Key '-3868900945826252431' not in persistent cache.\n",
      "Key '8997042398347038061' not in persistent cache.\n",
      "Key '-1096788652481049732' not in persistent cache.\n",
      "Key '-5240908622916091897' not in persistent cache.\n",
      "Key '8149360932860178653' not in persistent cache.\n",
      "Key '-2398298832449181479' not in persistent cache.\n",
      "Key '866533269549376827' not in persistent cache.\n",
      "Key '6686447325087810494' not in persistent cache.\n",
      "Key '4385602784097261096' not in persistent cache.\n",
      "Key '-8241227234073856853' not in persistent cache.\n",
      "Key '5970490938518123905' not in persistent cache.\n",
      "Key '-9193253640212097930' not in persistent cache.\n",
      "Key '-8957183620643543442' not in persistent cache.\n",
      "Key '7143036279489589660' not in persistent cache.\n",
      "Key '4461004359213040586' not in persistent cache.\n",
      "Key '5988402416005518081' not in persistent cache.\n",
      "Key '-1741962177128642938' not in persistent cache.\n",
      "Key '-3194673442581250789' not in persistent cache.\n",
      "Key '8178395724002542330' not in persistent cache.\n",
      "Key '-6460488711329102897' not in persistent cache.\n",
      "Key '2208788138384994665' not in persistent cache.\n",
      "Key '-2110330012031404751' not in persistent cache.\n",
      "Key '1199004083802817802' not in persistent cache.\n",
      "Key '633386646985004283' not in persistent cache.\n",
      "Key '1791175191818248707' not in persistent cache.\n",
      "Key '-486382901879762984' not in persistent cache.\n",
      "Key '-2559509077258168338' not in persistent cache.\n",
      "Key '-7094879853102112489' not in persistent cache.\n",
      "Key '-2673956562943101037' not in persistent cache.\n",
      "Key '-3146370358935885566' not in persistent cache.\n",
      "Key '-2025379396272378684' not in persistent cache.\n",
      "Key '2756212618557634595' not in persistent cache.\n",
      "Key '-3492186968696648427' not in persistent cache.\n",
      "Key '4712873931913668043' not in persistent cache.\n",
      "Key '-2299176929334513459' not in persistent cache.\n",
      "Key '-1674489821147329023' not in persistent cache.\n",
      "Key '3540758985506511866' not in persistent cache.\n",
      "Key '7486603882263482503' not in persistent cache.\n",
      "Key '-7012574042875657548' not in persistent cache.\n",
      "Key '-5888144165772182703' not in persistent cache.\n",
      "Key '-1842887367933279416' not in persistent cache.\n",
      "Key '5582358225985775913' not in persistent cache.\n",
      "Key '-7428337694521164884' not in persistent cache.\n",
      "Key '8196728103731063971' not in persistent cache.\n",
      "Key '9035997979311464954' not in persistent cache.\n",
      "Key '2077877406878917096' not in persistent cache.\n",
      "Key '-2950422619590460111' not in persistent cache.\n",
      "Key '-7912892990360073936' not in persistent cache.\n",
      "Key '3115833989371166196' not in persistent cache.\n",
      "Key '-54826937907539355' not in persistent cache.\n",
      "Key '6946356868885550616' not in persistent cache.\n",
      "Key '-2773909546810645059' not in persistent cache.\n",
      "Key '4296718641273876194' not in persistent cache.\n",
      "Key '2129073888277398003' not in persistent cache.\n",
      "Key '-2553637224848781430' not in persistent cache.\n",
      "Key '-8147973658688145774' not in persistent cache.\n",
      "Key '5979839693094101393' not in persistent cache.\n",
      "Key '-5827029196461096449' not in persistent cache.\n",
      "Key '-8258721271622267336' not in persistent cache.\n",
      "Key '5914104183174234826' not in persistent cache.\n",
      "Key '2299157562908445199' not in persistent cache.\n",
      "Key '-3319977056922605153' not in persistent cache.\n",
      "Key '-4093601181846495832' not in persistent cache.\n",
      "Key '8528564786007805503' not in persistent cache.\n",
      "Key '-5091907089602640401' not in persistent cache.\n",
      "Key '-7441307541419711496' not in persistent cache.\n",
      "Key '-6063615453543007925' not in persistent cache.\n",
      "Key '7381149039962447922' not in persistent cache.\n",
      "Key '-6451178847797514144' not in persistent cache.\n",
      "Key '2316300732653217046' not in persistent cache.\n",
      "Key '1948540370688235491' not in persistent cache.\n",
      "Key '-9221846158646324098' not in persistent cache.\n",
      "Key '8896040838298453416' not in persistent cache.\n",
      "Key '-4022641696214978046' not in persistent cache.\n",
      "Key '6043090534534447295' not in persistent cache.\n",
      "Key '-724636287418014303' not in persistent cache.\n",
      "Key '3877501705094152321' not in persistent cache.\n",
      "Key '4301721224772408609' not in persistent cache.\n",
      "Key '-2980876600018478016' not in persistent cache.\n",
      "Key '948733847031667659' not in persistent cache.\n",
      "Key '2371257729935288828' not in persistent cache.\n",
      "Key '-4820653669688836787' not in persistent cache.\n",
      "Key '3312832126226038190' not in persistent cache.\n",
      "Key '7622039404180886207' not in persistent cache.\n",
      "Key '7249024541563071761' not in persistent cache.\n",
      "Key '4264377727012852218' not in persistent cache.\n",
      "Key '-5190454173904796976' not in persistent cache.\n",
      "Key '7106987517479762636' not in persistent cache.\n",
      "Key '-8074924454231230674' not in persistent cache.\n",
      "Key '-6653367781677165135' not in persistent cache.\n",
      "Key '-4555854939683346405' not in persistent cache.\n",
      "Key '8396422464894758348' not in persistent cache.\n",
      "Key '8168902463520667758' not in persistent cache.\n",
      "Key '1478961757207436259' not in persistent cache.\n",
      "Key '363603869202397912' not in persistent cache.\n",
      "Key '526935351069195182' not in persistent cache.\n",
      "Key '-3163355904884574644' not in persistent cache.\n",
      "Key '4046004865617079451' not in persistent cache.\n",
      "Key '5467561538171144990' not in persistent cache.\n",
      "Key '-4626269512656942803' not in persistent cache.\n",
      "Key '-4372032100107616840' not in persistent cache.\n",
      "Key '4619880072684285582' not in persistent cache.\n",
      "Key '1118249596009782275' not in persistent cache.\n",
      "Key '1735409792357851884' not in persistent cache.\n",
      "Key '-8243748320162777368' not in persistent cache.\n",
      "Key '5254479306905736153' not in persistent cache.\n",
      "Key '6676035979459801692' not in persistent cache.\n",
      "Key '-4561347323748095829' not in persistent cache.\n",
      "Key '5724009573321560615' not in persistent cache.\n",
      "Key '-8088307097835068385' not in persistent cache.\n",
      "Key '-6654000930245079801' not in persistent cache.\n",
      "Key '-6297912347923454475' not in persistent cache.\n",
      "Key '3987444549146201969' not in persistent cache.\n",
      "Key '4150776031012999239' not in persistent cache.\n",
      "Key '460484775059229413' not in persistent cache.\n",
      "Key '7669845545560883508' not in persistent cache.\n",
      "Key '9091402218114949047' not in persistent cache.\n",
      "Key '6043600455921718079' not in persistent cache.\n",
      "Key '-748191420163812783' not in persistent cache.\n",
      "Key '8243720752628089639' not in persistent cache.\n",
      "Key '4742090275953586332' not in persistent cache.\n",
      "Key '5359250472301655941' not in persistent cache.\n",
      "Key '-4619907640218973311' not in persistent cache.\n",
      "Key '8878319986849540210' not in persistent cache.\n",
      "Key '-8146867414305945867' not in persistent cache.\n",
      "Key '-937506643804291772' not in persistent cache.\n",
      "Key '-9098893820444186944' not in persistent cache.\n",
      "Key '-4464466417891264328' not in persistent cache.\n",
      "Key '4593622633049486391' not in persistent cache.\n",
      "Key '4949711215371111717' not in persistent cache.\n",
      "Key '-3211675961268783455' not in persistent cache.\n",
      "Key '3997684809232870640' not in persistent cache.\n",
      "Key '307393553279100814' not in persistent cache.\n",
      "Key '-3927632347838470044' not in persistent cache.\n",
      "Key '8938310996334820448' not in persistent cache.\n",
      "Key '-1155520054493267345' not in persistent cache.\n",
      "Key '-5299640024928309510' not in persistent cache.\n",
      "Key '8090629530847961040' not in persistent cache.\n",
      "Key '-2457030234461399092' not in persistent cache.\n",
      "Key '5206159250521527342' not in persistent cache.\n",
      "Key '6627715923075592881' not in persistent cache.\n",
      "Key '1679199476434554786' not in persistent cache.\n",
      "Key '-8299958636086074466' not in persistent cache.\n",
      "Key '-8136627154219277196' not in persistent cache.\n",
      "Key '2148729742850379248' not in persistent cache.\n",
      "Key '-9015915022655761055' not in persistent cache.\n",
      "Key '-6748360750012990787' not in persistent cache.\n",
      "Key '610085234398961202' not in persistent cache.\n",
      "Key '-3152944559256565842' not in persistent cache.\n",
      "Key '-341941171739279875' not in persistent cache.\n",
      "Key '366124955291318427' not in persistent cache.\n",
      "Key '-3868900945826252431' not in persistent cache.\n",
      "Key '8997042398347038061' not in persistent cache.\n",
      "Key '-1096788652481049732' not in persistent cache.\n",
      "Key '-5240908622916091897' not in persistent cache.\n",
      "Key '8149360932860178653' not in persistent cache.\n",
      "Key '-2398298832449181479' not in persistent cache.\n",
      "Key '866533269549376827' not in persistent cache.\n",
      "Key '6686447325087810494' not in persistent cache.\n",
      "Key '4385602784097261096' not in persistent cache.\n",
      "Key '-8241227234073856853' not in persistent cache.\n",
      "Key '5970490938518123905' not in persistent cache.\n",
      "Key '-9193253640212097930' not in persistent cache.\n",
      "Key '-8957183620643543442' not in persistent cache.\n",
      "Key '7143036279489589660' not in persistent cache.\n",
      "Key '4461004359213040586' not in persistent cache.\n",
      "Key '5988402416005518081' not in persistent cache.\n",
      "Key '-1741962177128642938' not in persistent cache.\n",
      "Key '-3194673442581250789' not in persistent cache.\n",
      "Key '8178395724002542330' not in persistent cache.\n",
      "Key '-6460488711329102897' not in persistent cache.\n",
      "Key '2208788138384994665' not in persistent cache.\n",
      "Key '-2110330012031404751' not in persistent cache.\n",
      "Key '1199004083802817802' not in persistent cache.\n",
      "Key '633386646985004283' not in persistent cache.\n",
      "Key '1791175191818248707' not in persistent cache.\n",
      "Key '-486382901879762984' not in persistent cache.\n",
      "Key '-2559509077258168338' not in persistent cache.\n",
      "Key '-7094879853102112489' not in persistent cache.\n",
      "Key '-2673956562943101037' not in persistent cache.\n",
      "Key '-3146370358935885566' not in persistent cache.\n",
      "Key '-2025379396272378684' not in persistent cache.\n",
      "Key '2756212618557634595' not in persistent cache.\n",
      "Key '-3492186968696648427' not in persistent cache.\n",
      "Key '4712873931913668043' not in persistent cache.\n",
      "Key '-2299176929334513459' not in persistent cache.\n",
      "Key '-1674489821147329023' not in persistent cache.\n",
      "Key '3540758985506511866' not in persistent cache.\n",
      "Key '7486603882263482503' not in persistent cache.\n",
      "Key '-7012574042875657548' not in persistent cache.\n",
      "Key '-5888144165772182703' not in persistent cache.\n",
      "Key '-1842887367933279416' not in persistent cache.\n",
      "Key '5582358225985775913' not in persistent cache.\n",
      "Key '-7428337694521164884' not in persistent cache.\n",
      "Key '8196728103731063971' not in persistent cache.\n",
      "Key '9035997979311464954' not in persistent cache.\n",
      "Key '2077877406878917096' not in persistent cache.\n",
      "Key '-2950422619590460111' not in persistent cache.\n",
      "Key '-7912892990360073936' not in persistent cache.\n",
      "Key '3115833989371166196' not in persistent cache.\n",
      "Key '-54826937907539355' not in persistent cache.\n",
      "Key '6946356868885550616' not in persistent cache.\n",
      "Key '-2773909546810645059' not in persistent cache.\n",
      "Key '4296718641273876194' not in persistent cache.\n",
      "Key '2129073888277398003' not in persistent cache.\n",
      "Key '-2553637224848781430' not in persistent cache.\n",
      "Key '-8147973658688145774' not in persistent cache.\n",
      "Key '5979839693094101393' not in persistent cache.\n",
      "Key '-5827029196461096449' not in persistent cache.\n",
      "Key '-8258721271622267336' not in persistent cache.\n",
      "Key '5914104183174234826' not in persistent cache.\n",
      "Key '2299157562908445199' not in persistent cache.\n",
      "Key '-3319977056922605153' not in persistent cache.\n",
      "Key '-4093601181846495832' not in persistent cache.\n",
      "Key '8528564786007805503' not in persistent cache.\n",
      "Key '-5091907089602640401' not in persistent cache.\n",
      "Key '-7441307541419711496' not in persistent cache.\n",
      "Key '-6063615453543007925' not in persistent cache.\n",
      "Key '7381149039962447922' not in persistent cache.\n",
      "Key '-6451178847797514144' not in persistent cache.\n",
      "Key '2316300732653217046' not in persistent cache.\n",
      "Key '1948540370688235491' not in persistent cache.\n",
      "Key '-9221846158646324098' not in persistent cache.\n",
      "Key '8896040838298453416' not in persistent cache.\n",
      "Key '-4022641696214978046' not in persistent cache.\n",
      "Key '6043090534534447295' not in persistent cache.\n",
      "Key '-724636287418014303' not in persistent cache.\n",
      "Key '3877501705094152321' not in persistent cache.\n",
      "Key '4301721224772408609' not in persistent cache.\n",
      "Key '-2980876600018478016' not in persistent cache.\n",
      "Key '948733847031667659' not in persistent cache.\n",
      "Key '2371257729935288828' not in persistent cache.\n",
      "Key '-4820653669688836787' not in persistent cache.\n",
      "Key '3312832126226038190' not in persistent cache.\n",
      "Key '7622039404180886207' not in persistent cache.\n",
      "Key '7249024541563071761' not in persistent cache.\n",
      "Key '4264377727012852218' not in persistent cache.\n",
      "Key '-5190454173904796976' not in persistent cache.\n",
      "Key '7106987517479762636' not in persistent cache.\n",
      "Key '-8074924454231230674' not in persistent cache.\n",
      "Key '-6653367781677165135' not in persistent cache.\n",
      "Key '-4555854939683346405' not in persistent cache.\n",
      "Key '8396422464894758348' not in persistent cache.\n",
      "Key '8168902463520667758' not in persistent cache.\n",
      "Key '1478961757207436259' not in persistent cache.\n",
      "Key '363603869202397912' not in persistent cache.\n",
      "Key '526935351069195182' not in persistent cache.\n",
      "Key '-3163355904884574644' not in persistent cache.\n",
      "Key '4046004865617079451' not in persistent cache.\n",
      "Key '5467561538171144990' not in persistent cache.\n",
      "Key '-4626269512656942803' not in persistent cache.\n",
      "Key '-4372032100107616840' not in persistent cache.\n",
      "Key '4619880072684285582' not in persistent cache.\n",
      "Key '1118249596009782275' not in persistent cache.\n",
      "Key '1735409792357851884' not in persistent cache.\n",
      "Key '-8243748320162777368' not in persistent cache.\n",
      "Key '5254479306905736153' not in persistent cache.\n",
      "Key '6676035979459801692' not in persistent cache.\n",
      "Key '-4561347323748095829' not in persistent cache.\n",
      "Key '5724009573321560615' not in persistent cache.\n",
      "Key '-8088307097835068385' not in persistent cache.\n",
      "Key '-6654000930245079801' not in persistent cache.\n",
      "Key '-6297912347923454475' not in persistent cache.\n",
      "Key '3987444549146201969' not in persistent cache.\n",
      "Key '4150776031012999239' not in persistent cache.\n",
      "Key '460484775059229413' not in persistent cache.\n",
      "Key '7669845545560883508' not in persistent cache.\n",
      "Key '9091402218114949047' not in persistent cache.\n",
      "Key '6043600455921718079' not in persistent cache.\n",
      "Key '-748191420163812783' not in persistent cache.\n",
      "Key '8243720752628089639' not in persistent cache.\n",
      "Key '4742090275953586332' not in persistent cache.\n",
      "Key '5359250472301655941' not in persistent cache.\n",
      "Key '-4619907640218973311' not in persistent cache.\n",
      "Key '8878319986849540210' not in persistent cache.\n",
      "Key '-8146867414305945867' not in persistent cache.\n",
      "Key '-937506643804291772' not in persistent cache.\n",
      "Key '-9098893820444186944' not in persistent cache.\n",
      "Key '-4464466417891264328' not in persistent cache.\n",
      "Key '4593622633049486391' not in persistent cache.\n",
      "Key '4949711215371111717' not in persistent cache.\n",
      "Key '-3211675961268783455' not in persistent cache.\n",
      "Key '3997684809232870640' not in persistent cache.\n",
      "Key '307393553279100814' not in persistent cache.\n",
      "Key '-3927632347838470044' not in persistent cache.\n",
      "Key '8938310996334820448' not in persistent cache.\n",
      "Key '-1155520054493267345' not in persistent cache.\n",
      "Key '-5299640024928309510' not in persistent cache.\n",
      "Key '8090629530847961040' not in persistent cache.\n",
      "Key '-2457030234461399092' not in persistent cache.\n",
      "Key '5206159250521527342' not in persistent cache.\n",
      "Key '6627715923075592881' not in persistent cache.\n",
      "Key '1679199476434554786' not in persistent cache.\n",
      "Key '-8299958636086074466' not in persistent cache.\n",
      "Key '-8136627154219277196' not in persistent cache.\n",
      "Key '2148729742850379248' not in persistent cache.\n",
      "Key '-9015915022655761055' not in persistent cache.\n",
      "Key '-6748360750012990787' not in persistent cache.\n",
      "Key '610085234398961202' not in persistent cache.\n",
      "Key '-3152944559256565842' not in persistent cache.\n",
      "Key '-341941171739279875' not in persistent cache.\n",
      "Key '366124955291318427' not in persistent cache.\n",
      "Key '-3868900945826252431' not in persistent cache.\n",
      "Key '8997042398347038061' not in persistent cache.\n",
      "Key '-1096788652481049732' not in persistent cache.\n",
      "Key '-5240908622916091897' not in persistent cache.\n",
      "Key '8149360932860178653' not in persistent cache.\n",
      "Key '-2398298832449181479' not in persistent cache.\n",
      "Key '866533269549376827' not in persistent cache.\n",
      "Key '6686447325087810494' not in persistent cache.\n",
      "Key '4385602784097261096' not in persistent cache.\n",
      "Key '-8241227234073856853' not in persistent cache.\n",
      "Key '5970490938518123905' not in persistent cache.\n",
      "Key '-9193253640212097930' not in persistent cache.\n",
      "Key '-8957183620643543442' not in persistent cache.\n",
      "Key '7143036279489589660' not in persistent cache.\n",
      "Key '4461004359213040586' not in persistent cache.\n",
      "Key '5988402416005518081' not in persistent cache.\n",
      "Key '-1741962177128642938' not in persistent cache.\n",
      "Key '-3194673442581250789' not in persistent cache.\n",
      "Key '8178395724002542330' not in persistent cache.\n",
      "Key '-6460488711329102897' not in persistent cache.\n",
      "Key '2208788138384994665' not in persistent cache.\n",
      "Key '-2110330012031404751' not in persistent cache.\n",
      "Key '1199004083802817802' not in persistent cache.\n",
      "Key '633386646985004283' not in persistent cache.\n",
      "Key '1791175191818248707' not in persistent cache.\n",
      "Key '-486382901879762984' not in persistent cache.\n",
      "Key '-2559509077258168338' not in persistent cache.\n",
      "Key '-7094879853102112489' not in persistent cache.\n",
      "Key '-2673956562943101037' not in persistent cache.\n",
      "Key '-3146370358935885566' not in persistent cache.\n",
      "Key '-2025379396272378684' not in persistent cache.\n",
      "Key '2756212618557634595' not in persistent cache.\n",
      "Key '-3492186968696648427' not in persistent cache.\n",
      "Key '4712873931913668043' not in persistent cache.\n",
      "Key '-2299176929334513459' not in persistent cache.\n",
      "Key '-1674489821147329023' not in persistent cache.\n",
      "Key '3540758985506511866' not in persistent cache.\n",
      "Key '7486603882263482503' not in persistent cache.\n",
      "Key '-7012574042875657548' not in persistent cache.\n",
      "Key '-5888144165772182703' not in persistent cache.\n",
      "Key '-1842887367933279416' not in persistent cache.\n",
      "Key '5582358225985775913' not in persistent cache.\n",
      "Key '-7428337694521164884' not in persistent cache.\n",
      "Key '8196728103731063971' not in persistent cache.\n",
      "Key '9035997979311464954' not in persistent cache.\n",
      "Key '2077877406878917096' not in persistent cache.\n",
      "Key '-2950422619590460111' not in persistent cache.\n",
      "Key '-7912892990360073936' not in persistent cache.\n",
      "Key '3115833989371166196' not in persistent cache.\n",
      "Key '-54826937907539355' not in persistent cache.\n",
      "Key '6946356868885550616' not in persistent cache.\n",
      "Key '-2773909546810645059' not in persistent cache.\n",
      "Key '4296718641273876194' not in persistent cache.\n",
      "Key '2129073888277398003' not in persistent cache.\n",
      "Key '-2553637224848781430' not in persistent cache.\n",
      "Key '-8147973658688145774' not in persistent cache.\n",
      "Key '5979839693094101393' not in persistent cache.\n",
      "Key '-5827029196461096449' not in persistent cache.\n",
      "Key '-8258721271622267336' not in persistent cache.\n",
      "Key '5914104183174234826' not in persistent cache.\n",
      "Key '2299157562908445199' not in persistent cache.\n",
      "Key '-3319977056922605153' not in persistent cache.\n",
      "Key '-4093601181846495832' not in persistent cache.\n",
      "Key '8528564786007805503' not in persistent cache.\n",
      "Key '-5091907089602640401' not in persistent cache.\n",
      "Key '-7441307541419711496' not in persistent cache.\n",
      "Key '-6063615453543007925' not in persistent cache.\n",
      "Key '7381149039962447922' not in persistent cache.\n",
      "Key '-6451178847797514144' not in persistent cache.\n",
      "Key '2316300732653217046' not in persistent cache.\n",
      "Key '1948540370688235491' not in persistent cache.\n",
      "Key '-9221846158646324098' not in persistent cache.\n",
      "Key '8896040838298453416' not in persistent cache.\n",
      "Key '-4022641696214978046' not in persistent cache.\n",
      "Key '6043090534534447295' not in persistent cache.\n",
      "Key '-724636287418014303' not in persistent cache.\n",
      "Key '3877501705094152321' not in persistent cache.\n",
      "Key '4301721224772408609' not in persistent cache.\n",
      "Key '-2980876600018478016' not in persistent cache.\n",
      "Key '948733847031667659' not in persistent cache.\n",
      "Key '2371257729935288828' not in persistent cache.\n",
      "Key '-4820653669688836787' not in persistent cache.\n",
      "Key '3312832126226038190' not in persistent cache.\n",
      "Key '7622039404180886207' not in persistent cache.\n",
      "Key '7249024541563071761' not in persistent cache.\n",
      "Key '4264377727012852218' not in persistent cache.\n",
      "Key '-5190454173904796976' not in persistent cache.\n",
      "Key '7106987517479762636' not in persistent cache.\n",
      "Key '-8074924454231230674' not in persistent cache.\n",
      "Key '-6653367781677165135' not in persistent cache.\n",
      "Key '-4555854939683346405' not in persistent cache.\n",
      "Key '8396422464894758348' not in persistent cache.\n",
      "Key '8168902463520667758' not in persistent cache.\n",
      "Key '1478961757207436259' not in persistent cache.\n",
      "Key '363603869202397912' not in persistent cache.\n",
      "Key '526935351069195182' not in persistent cache.\n",
      "Key '-3163355904884574644' not in persistent cache.\n",
      "Key '4046004865617079451' not in persistent cache.\n",
      "Key '5467561538171144990' not in persistent cache.\n",
      "Key '-4626269512656942803' not in persistent cache.\n",
      "Key '-4372032100107616840' not in persistent cache.\n",
      "Key '4619880072684285582' not in persistent cache.\n",
      "Key '1118249596009782275' not in persistent cache.\n",
      "Key '1735409792357851884' not in persistent cache.\n",
      "Key '-8243748320162777368' not in persistent cache.\n",
      "Key '5254479306905736153' not in persistent cache.\n",
      "Key '6676035979459801692' not in persistent cache.\n",
      "Key '-4561347323748095829' not in persistent cache.\n",
      "Key '5724009573321560615' not in persistent cache.\n",
      "Key '-8088307097835068385' not in persistent cache.\n",
      "Key '-6654000930245079801' not in persistent cache.\n",
      "Key '-6297912347923454475' not in persistent cache.\n",
      "Key '3987444549146201969' not in persistent cache.\n",
      "Key '4150776031012999239' not in persistent cache.\n",
      "Key '460484775059229413' not in persistent cache.\n",
      "Key '7669845545560883508' not in persistent cache.\n",
      "Key '9091402218114949047' not in persistent cache.\n",
      "Key '6043600455921718079' not in persistent cache.\n",
      "Key '-748191420163812783' not in persistent cache.\n",
      "Key '8243720752628089639' not in persistent cache.\n",
      "Key '4742090275953586332' not in persistent cache.\n",
      "Key '5359250472301655941' not in persistent cache.\n",
      "Key '-4619907640218973311' not in persistent cache.\n",
      "Key '8878319986849540210' not in persistent cache.\n",
      "Key '-8146867414305945867' not in persistent cache.\n",
      "Key '-937506643804291772' not in persistent cache.\n",
      "Key '-9098893820444186944' not in persistent cache.\n",
      "Key '-4464466417891264328' not in persistent cache.\n",
      "Key '4593622633049486391' not in persistent cache.\n",
      "Key '4949711215371111717' not in persistent cache.\n",
      "Key '-3211675961268783455' not in persistent cache.\n",
      "Key '3997684809232870640' not in persistent cache.\n",
      "Key '307393553279100814' not in persistent cache.\n",
      "Key '-3927632347838470044' not in persistent cache.\n",
      "Key '8938310996334820448' not in persistent cache.\n",
      "Key '-1155520054493267345' not in persistent cache.\n",
      "Key '-5299640024928309510' not in persistent cache.\n",
      "Key '8090629530847961040' not in persistent cache.\n",
      "Key '-2457030234461399092' not in persistent cache.\n",
      "Key '5206159250521527342' not in persistent cache.\n",
      "Key '6627715923075592881' not in persistent cache.\n",
      "Key '1679199476434554786' not in persistent cache.\n",
      "Key '-8299958636086074466' not in persistent cache.\n",
      "Key '-8136627154219277196' not in persistent cache.\n",
      "Key '2148729742850379248' not in persistent cache.\n",
      "Key '-9015915022655761055' not in persistent cache.\n",
      "Key '-6748360750012990787' not in persistent cache.\n",
      "Key '610085234398961202' not in persistent cache.\n",
      "Key '-3152944559256565842' not in persistent cache.\n",
      "Key '-341941171739279875' not in persistent cache.\n",
      "Key '366124955291318427' not in persistent cache.\n",
      "Key '-3868900945826252431' not in persistent cache.\n",
      "Key '8997042398347038061' not in persistent cache.\n",
      "Key '-1096788652481049732' not in persistent cache.\n",
      "Key '-5240908622916091897' not in persistent cache.\n",
      "Key '8149360932860178653' not in persistent cache.\n",
      "Key '-2398298832449181479' not in persistent cache.\n",
      "Key '866533269549376827' not in persistent cache.\n",
      "Key '6686447325087810494' not in persistent cache.\n",
      "Key '4385602784097261096' not in persistent cache.\n",
      "Key '-8241227234073856853' not in persistent cache.\n",
      "Key '5970490938518123905' not in persistent cache.\n",
      "Key '-9193253640212097930' not in persistent cache.\n",
      "Key '-8957183620643543442' not in persistent cache.\n",
      "Key '7143036279489589660' not in persistent cache.\n",
      "Key '4461004359213040586' not in persistent cache.\n",
      "Key '5988402416005518081' not in persistent cache.\n",
      "Key '-1741962177128642938' not in persistent cache.\n",
      "Key '-3194673442581250789' not in persistent cache.\n",
      "Key '8178395724002542330' not in persistent cache.\n",
      "Key '-6460488711329102897' not in persistent cache.\n",
      "Key '2208788138384994665' not in persistent cache.\n",
      "Key '-2110330012031404751' not in persistent cache.\n",
      "Key '1199004083802817802' not in persistent cache.\n",
      "Key '633386646985004283' not in persistent cache.\n",
      "Key '1791175191818248707' not in persistent cache.\n",
      "Key '-486382901879762984' not in persistent cache.\n",
      "Key '-2559509077258168338' not in persistent cache.\n",
      "Key '-7094879853102112489' not in persistent cache.\n",
      "Key '-2673956562943101037' not in persistent cache.\n",
      "Key '-3146370358935885566' not in persistent cache.\n",
      "Key '-2025379396272378684' not in persistent cache.\n",
      "Key '2756212618557634595' not in persistent cache.\n",
      "Key '-3492186968696648427' not in persistent cache.\n",
      "Key '4712873931913668043' not in persistent cache.\n",
      "Key '-2299176929334513459' not in persistent cache.\n",
      "Key '-1674489821147329023' not in persistent cache.\n",
      "Key '3540758985506511866' not in persistent cache.\n",
      "Key '7486603882263482503' not in persistent cache.\n",
      "Key '-7012574042875657548' not in persistent cache.\n",
      "Key '-5888144165772182703' not in persistent cache.\n",
      "Key '-1842887367933279416' not in persistent cache.\n",
      "Key '5582358225985775913' not in persistent cache.\n",
      "Key '-7428337694521164884' not in persistent cache.\n",
      "Key '8196728103731063971' not in persistent cache.\n",
      "Key '9035997979311464954' not in persistent cache.\n",
      "Key '2077877406878917096' not in persistent cache.\n",
      "Key '-2950422619590460111' not in persistent cache.\n",
      "Key '-7912892990360073936' not in persistent cache.\n",
      "Key '3115833989371166196' not in persistent cache.\n",
      "Key '-54826937907539355' not in persistent cache.\n",
      "Key '6946356868885550616' not in persistent cache.\n",
      "Key '-2773909546810645059' not in persistent cache.\n",
      "Key '4296718641273876194' not in persistent cache.\n",
      "Key '2129073888277398003' not in persistent cache.\n",
      "Key '-2553637224848781430' not in persistent cache.\n",
      "Key '-8147973658688145774' not in persistent cache.\n",
      "Key '5979839693094101393' not in persistent cache.\n",
      "Key '-5827029196461096449' not in persistent cache.\n",
      "Key '-8258721271622267336' not in persistent cache.\n",
      "Key '5914104183174234826' not in persistent cache.\n",
      "Key '2299157562908445199' not in persistent cache.\n",
      "Key '-3319977056922605153' not in persistent cache.\n",
      "Key '-4093601181846495832' not in persistent cache.\n",
      "Key '8528564786007805503' not in persistent cache.\n",
      "Key '-5091907089602640401' not in persistent cache.\n",
      "Key '-7441307541419711496' not in persistent cache.\n",
      "Key '-6063615453543007925' not in persistent cache.\n",
      "Key '7381149039962447922' not in persistent cache.\n",
      "Key '-6451178847797514144' not in persistent cache.\n",
      "Key '2316300732653217046' not in persistent cache.\n",
      "Key '1948540370688235491' not in persistent cache.\n",
      "Key '-9221846158646324098' not in persistent cache.\n",
      "Key '8896040838298453416' not in persistent cache.\n",
      "Key '-4022641696214978046' not in persistent cache.\n",
      "Key '6043090534534447295' not in persistent cache.\n",
      "Key '-724636287418014303' not in persistent cache.\n",
      "Key '3877501705094152321' not in persistent cache.\n",
      "Key '4301721224772408609' not in persistent cache.\n",
      "Key '-2980876600018478016' not in persistent cache.\n",
      "Key '948733847031667659' not in persistent cache.\n",
      "Key '2371257729935288828' not in persistent cache.\n",
      "Key '-4820653669688836787' not in persistent cache.\n",
      "Key '3312832126226038190' not in persistent cache.\n",
      "Key '7622039404180886207' not in persistent cache.\n",
      "Key '7249024541563071761' not in persistent cache.\n",
      "Key '4264377727012852218' not in persistent cache.\n",
      "Key '-5190454173904796976' not in persistent cache.\n",
      "Key '7106987517479762636' not in persistent cache.\n",
      "Key '-8074924454231230674' not in persistent cache.\n",
      "Key '-6653367781677165135' not in persistent cache.\n",
      "Key '-4555854939683346405' not in persistent cache.\n"
     ]
    },
    {
     "data": {
      "text/html": [
       "        <script type=\"text/javascript\">\n",
       "        window.PlotlyConfig = {MathJaxConfig: 'local'};\n",
       "        if (window.MathJax && window.MathJax.Hub && window.MathJax.Hub.Config) {window.MathJax.Hub.Config({SVG: {font: \"STIX-Web\"}});}\n",
       "        </script>\n",
       "        <script type=\"module\">import \"https://cdn.plot.ly/plotly-3.0.0.min\"</script>\n",
       "        "
      ]
     },
     "metadata": {},
     "output_type": "display_data"
    }
   ],
   "source": [
    "%pip install wbdata\n",
    "%pip install pandas\n",
    "%pip install iso3166\n",
    "%pip install cufflinks\n",
    "%pip install eep153_tools\n",
    "%pip install plotly\n",
    "%pip install kagglehub\n",
    "%pip install os\n",
    "import wbdata\n",
    "import pandas as pd\n",
    "import geopandas as gpd\n",
    "import math\n",
    "import iso3166\n",
    "import plotly.offline as py\n",
    "from scipy.optimize import newton\n",
    "import plotly.graph_objs as go\n",
    "import numpy as np\n",
    "import cufflinks as cf\n",
    "from matplotlib import animation as ani\n",
    "import matplotlib.pyplot as plt\n",
    "import kagglehub\n",
    "import os\n",
    "cf.go_offline()"
   ]
  },
  {
   "cell_type": "code",
   "execution_count": 2,
   "id": "33e1c699-5709-4c15-b7ed-a57c36bd7301",
   "metadata": {},
   "outputs": [
    {
     "name": "stderr",
     "output_type": "stream",
     "text": [
      "ERROR 1: PROJ: proj_create_from_database: Open of /srv/conda/share/proj failed\n"
     ]
    },
    {
     "data": {
      "text/html": [
       "<div>\n",
       "<style scoped>\n",
       "    .dataframe tbody tr th:only-of-type {\n",
       "        vertical-align: middle;\n",
       "    }\n",
       "\n",
       "    .dataframe tbody tr th {\n",
       "        vertical-align: top;\n",
       "    }\n",
       "\n",
       "    .dataframe thead th {\n",
       "        text-align: right;\n",
       "    }\n",
       "</style>\n",
       "<table border=\"1\" class=\"dataframe\">\n",
       "  <thead>\n",
       "    <tr style=\"text-align: right;\">\n",
       "      <th></th>\n",
       "      <th>name</th>\n",
       "      <th>cartodb_id</th>\n",
       "      <th>created_at</th>\n",
       "      <th>updated_at</th>\n",
       "      <th>geometry</th>\n",
       "    </tr>\n",
       "  </thead>\n",
       "  <tbody>\n",
       "    <tr>\n",
       "      <th>0</th>\n",
       "      <td>French Guiana (France)</td>\n",
       "      <td>1</td>\n",
       "      <td>2013-11-28 06:32:17+01:00</td>\n",
       "      <td>2013-11-28 06:33:02+01:00</td>\n",
       "      <td>POLYGON ((-52.28892 4.87612, -52.32461 4.7709,...</td>\n",
       "    </tr>\n",
       "    <tr>\n",
       "      <th>1</th>\n",
       "      <td>Brazil</td>\n",
       "      <td>33</td>\n",
       "      <td>2013-11-27 20:16:22+01:00</td>\n",
       "      <td>2013-11-27 20:16:23+01:00</td>\n",
       "      <td>MULTIPOLYGON (((-48.48589 -27.76699, -48.55459...</td>\n",
       "    </tr>\n",
       "    <tr>\n",
       "      <th>2</th>\n",
       "      <td>Chile</td>\n",
       "      <td>41</td>\n",
       "      <td>2013-11-27 20:16:22+01:00</td>\n",
       "      <td>2013-11-27 20:16:23+01:00</td>\n",
       "      <td>MULTIPOLYGON (((-67.5752 -55.88965, -67.61143 ...</td>\n",
       "    </tr>\n",
       "    <tr>\n",
       "      <th>3</th>\n",
       "      <td>Argentina</td>\n",
       "      <td>9</td>\n",
       "      <td>2013-11-27 20:16:22+01:00</td>\n",
       "      <td>2013-11-27 20:16:23+01:00</td>\n",
       "      <td>MULTIPOLYGON (((-64.54917 -54.71621, -64.43882...</td>\n",
       "    </tr>\n",
       "    <tr>\n",
       "      <th>4</th>\n",
       "      <td>Bolivia</td>\n",
       "      <td>32</td>\n",
       "      <td>2013-11-27 20:16:22+01:00</td>\n",
       "      <td>2013-11-27 20:16:23+01:00</td>\n",
       "      <td>POLYGON ((-58.15977 -20.16465, -58.13994 -19.9...</td>\n",
       "    </tr>\n",
       "    <tr>\n",
       "      <th>5</th>\n",
       "      <td>Colombia</td>\n",
       "      <td>48</td>\n",
       "      <td>2013-11-27 20:16:22+01:00</td>\n",
       "      <td>2013-11-27 20:16:23+01:00</td>\n",
       "      <td>MULTIPOLYGON (((-78.11372 2.54175, -78.14082 2...</td>\n",
       "    </tr>\n",
       "    <tr>\n",
       "      <th>6</th>\n",
       "      <td>Ecuador</td>\n",
       "      <td>64</td>\n",
       "      <td>2013-11-27 20:16:22+01:00</td>\n",
       "      <td>2013-11-27 20:16:23+01:00</td>\n",
       "      <td>MULTIPOLYGON (((-80.13159 -2.97314, -80.15068 ...</td>\n",
       "    </tr>\n",
       "    <tr>\n",
       "      <th>7</th>\n",
       "      <td>Guyana</td>\n",
       "      <td>90</td>\n",
       "      <td>2013-11-27 20:16:22+01:00</td>\n",
       "      <td>2013-11-27 20:16:23+01:00</td>\n",
       "      <td>POLYGON ((-57.19478 5.54844, -57.2479 5.48525,...</td>\n",
       "    </tr>\n",
       "    <tr>\n",
       "      <th>8</th>\n",
       "      <td>Peru</td>\n",
       "      <td>171</td>\n",
       "      <td>2013-11-27 20:16:22+01:00</td>\n",
       "      <td>2013-11-27 20:16:23+01:00</td>\n",
       "      <td>POLYGON ((-69.96592 -4.23594, -69.97202 -4.301...</td>\n",
       "    </tr>\n",
       "    <tr>\n",
       "      <th>9</th>\n",
       "      <td>Paraguay</td>\n",
       "      <td>179</td>\n",
       "      <td>2013-11-27 20:16:22+01:00</td>\n",
       "      <td>2013-11-27 20:16:23+01:00</td>\n",
       "      <td>POLYGON ((-58.15977 -20.16465, -58.13779 -20.2...</td>\n",
       "    </tr>\n",
       "    <tr>\n",
       "      <th>10</th>\n",
       "      <td>Suriname</td>\n",
       "      <td>203</td>\n",
       "      <td>2013-11-27 20:16:22+01:00</td>\n",
       "      <td>2013-11-27 20:16:23+01:00</td>\n",
       "      <td>POLYGON ((-54.15596 5.35898, -54.24019 5.28823...</td>\n",
       "    </tr>\n",
       "    <tr>\n",
       "      <th>11</th>\n",
       "      <td>Uruguay</td>\n",
       "      <td>226</td>\n",
       "      <td>2013-11-27 20:16:22+01:00</td>\n",
       "      <td>2013-11-27 20:16:23+01:00</td>\n",
       "      <td>POLYGON ((-53.3706 -33.74219, -53.41958 -33.77...</td>\n",
       "    </tr>\n",
       "    <tr>\n",
       "      <th>12</th>\n",
       "      <td>Venezuela</td>\n",
       "      <td>231</td>\n",
       "      <td>2013-11-27 20:16:22+01:00</td>\n",
       "      <td>2013-11-27 20:16:23+01:00</td>\n",
       "      <td>MULTIPOLYGON (((-60.9979 8.86733, -61.05996 8....</td>\n",
       "    </tr>\n",
       "    <tr>\n",
       "      <th>13</th>\n",
       "      <td>Falkland Islands (U.K.)</td>\n",
       "      <td>72</td>\n",
       "      <td>2013-11-27 20:16:22+01:00</td>\n",
       "      <td>2013-11-27 20:40:04+01:00</td>\n",
       "      <td>MULTIPOLYGON (((-59.68267 -52.23164, -59.74658...</td>\n",
       "    </tr>\n",
       "  </tbody>\n",
       "</table>\n",
       "</div>"
      ],
      "text/plain": [
       "                       name  cartodb_id                created_at  \\\n",
       "0    French Guiana (France)           1 2013-11-28 06:32:17+01:00   \n",
       "1                    Brazil          33 2013-11-27 20:16:22+01:00   \n",
       "2                     Chile          41 2013-11-27 20:16:22+01:00   \n",
       "3                 Argentina           9 2013-11-27 20:16:22+01:00   \n",
       "4                   Bolivia          32 2013-11-27 20:16:22+01:00   \n",
       "5                  Colombia          48 2013-11-27 20:16:22+01:00   \n",
       "6                   Ecuador          64 2013-11-27 20:16:22+01:00   \n",
       "7                    Guyana          90 2013-11-27 20:16:22+01:00   \n",
       "8                      Peru         171 2013-11-27 20:16:22+01:00   \n",
       "9                  Paraguay         179 2013-11-27 20:16:22+01:00   \n",
       "10                 Suriname         203 2013-11-27 20:16:22+01:00   \n",
       "11                  Uruguay         226 2013-11-27 20:16:22+01:00   \n",
       "12                Venezuela         231 2013-11-27 20:16:22+01:00   \n",
       "13  Falkland Islands (U.K.)          72 2013-11-27 20:16:22+01:00   \n",
       "\n",
       "                  updated_at  \\\n",
       "0  2013-11-28 06:33:02+01:00   \n",
       "1  2013-11-27 20:16:23+01:00   \n",
       "2  2013-11-27 20:16:23+01:00   \n",
       "3  2013-11-27 20:16:23+01:00   \n",
       "4  2013-11-27 20:16:23+01:00   \n",
       "5  2013-11-27 20:16:23+01:00   \n",
       "6  2013-11-27 20:16:23+01:00   \n",
       "7  2013-11-27 20:16:23+01:00   \n",
       "8  2013-11-27 20:16:23+01:00   \n",
       "9  2013-11-27 20:16:23+01:00   \n",
       "10 2013-11-27 20:16:23+01:00   \n",
       "11 2013-11-27 20:16:23+01:00   \n",
       "12 2013-11-27 20:16:23+01:00   \n",
       "13 2013-11-27 20:40:04+01:00   \n",
       "\n",
       "                                             geometry  \n",
       "0   POLYGON ((-52.28892 4.87612, -52.32461 4.7709,...  \n",
       "1   MULTIPOLYGON (((-48.48589 -27.76699, -48.55459...  \n",
       "2   MULTIPOLYGON (((-67.5752 -55.88965, -67.61143 ...  \n",
       "3   MULTIPOLYGON (((-64.54917 -54.71621, -64.43882...  \n",
       "4   POLYGON ((-58.15977 -20.16465, -58.13994 -19.9...  \n",
       "5   MULTIPOLYGON (((-78.11372 2.54175, -78.14082 2...  \n",
       "6   MULTIPOLYGON (((-80.13159 -2.97314, -80.15068 ...  \n",
       "7   POLYGON ((-57.19478 5.54844, -57.2479 5.48525,...  \n",
       "8   POLYGON ((-69.96592 -4.23594, -69.97202 -4.301...  \n",
       "9   POLYGON ((-58.15977 -20.16465, -58.13779 -20.2...  \n",
       "10  POLYGON ((-54.15596 5.35898, -54.24019 5.28823...  \n",
       "11  POLYGON ((-53.3706 -33.74219, -53.41958 -33.77...  \n",
       "12  MULTIPOLYGON (((-60.9979 8.86733, -61.05996 8....  \n",
       "13  MULTIPOLYGON (((-59.68267 -52.23164, -59.74658...  "
      ]
     },
     "execution_count": 2,
     "metadata": {},
     "output_type": "execute_result"
    }
   ],
   "source": [
    "# Load the dataset\n",
    "file_path = \"south-america_652.geojson\"\n",
    "southamerica = gpd.read_file(file_path)\n",
    "# Looking at dataset\n",
    "southamerica"
   ]
  },
  {
   "cell_type": "code",
   "execution_count": 3,
   "id": "ef1c2afb-b67b-4391-b0a4-197fa4db109a",
   "metadata": {},
   "outputs": [
    {
     "data": {
      "text/plain": [
       "<Axes: >"
      ]
     },
     "execution_count": 3,
     "metadata": {},
     "output_type": "execute_result"
    },
    {
     "data": {
      "image/png": "[encoded data removed]",
      "text/plain": [
       "<Figure size 640x480 with 1 Axes>"
      ]
     },
     "metadata": {},
     "output_type": "display_data"
    }
   ],
   "source": [
    "#Plotting Dataset\n",
    "southamerica.plot()"
   ]
  },
  {
   "cell_type": "code",
   "execution_count": 4,
   "id": "6102909c-0ed8-4f97-9054-c26b35183f78",
   "metadata": {},
   "outputs": [
    {
     "name": "stdout",
     "output_type": "stream",
     "text": [
      "   Country  cartodb_id                created_at                updated_at  \\\n",
      "1   Brazil          33 2013-11-27 20:16:22+01:00 2013-11-27 20:16:23+01:00   \n",
      "4  Bolivia          32 2013-11-27 20:16:22+01:00 2013-11-27 20:16:23+01:00   \n",
      "6  Ecuador          64 2013-11-27 20:16:22+01:00 2013-11-27 20:16:23+01:00   \n",
      "8     Peru         171 2013-11-27 20:16:22+01:00 2013-11-27 20:16:23+01:00   \n",
      "\n",
      "                                            geometry  \n",
      "1  MULTIPOLYGON (((-48.48589 -27.76699, -48.55459...  \n",
      "4  POLYGON ((-58.15977 -20.16465, -58.13994 -19.9...  \n",
      "6  MULTIPOLYGON (((-80.13159 -2.97314, -80.15068 ...  \n",
      "8  POLYGON ((-69.96592 -4.23594, -69.97202 -4.301...  \n"
     ]
    }
   ],
   "source": [
    "#Filtering Dataset\n",
    "df = southamerica\n",
    "filtered_df = df[df['name'].isin([\"Brazil\", \"Peru\", \"Ecuador\", \"Bolivia\"])]\n",
    "filtered_df = filtered_df.rename(columns={\"name\": \"Country\"})\n",
    "print(filtered_df)"
   ]
  },
  {
   "cell_type": "code",
   "execution_count": 5,
   "id": "317c3284-a7a7-4c44-9cf2-078829ae31f9",
   "metadata": {},
   "outputs": [
    {
     "name": "stdout",
     "output_type": "stream",
     "text": [
      "Files in dataset: ['world-data-2023.csv']\n"
     ]
    },
    {
     "data": {
      "text/html": [
       "<div>\n",
       "<style scoped>\n",
       "    .dataframe tbody tr th:only-of-type {\n",
       "        vertical-align: middle;\n",
       "    }\n",
       "\n",
       "    .dataframe tbody tr th {\n",
       "        vertical-align: top;\n",
       "    }\n",
       "\n",
       "    .dataframe thead th {\n",
       "        text-align: right;\n",
       "    }\n",
       "</style>\n",
       "<table border=\"1\" class=\"dataframe\">\n",
       "  <thead>\n",
       "    <tr style=\"text-align: right;\">\n",
       "      <th></th>\n",
       "      <th>Country</th>\n",
       "      <th>Density\\n(P/Km2)</th>\n",
       "      <th>Abbreviation</th>\n",
       "      <th>Agricultural Land( %)</th>\n",
       "      <th>Land Area(Km2)</th>\n",
       "      <th>Armed Forces size</th>\n",
       "      <th>Birth Rate</th>\n",
       "      <th>Calling Code</th>\n",
       "      <th>Capital/Major City</th>\n",
       "      <th>Co2-Emissions</th>\n",
       "      <th>...</th>\n",
       "      <th>Out of pocket health expenditure</th>\n",
       "      <th>Physicians per thousand</th>\n",
       "      <th>Population</th>\n",
       "      <th>Population: Labor force participation (%)</th>\n",
       "      <th>Tax revenue (%)</th>\n",
       "      <th>Total tax rate</th>\n",
       "      <th>Unemployment rate</th>\n",
       "      <th>Urban_population</th>\n",
       "      <th>Latitude</th>\n",
       "      <th>Longitude</th>\n",
       "    </tr>\n",
       "  </thead>\n",
       "  <tbody>\n",
       "    <tr>\n",
       "      <th>0</th>\n",
       "      <td>Afghanistan</td>\n",
       "      <td>60</td>\n",
       "      <td>AF</td>\n",
       "      <td>58.10%</td>\n",
       "      <td>652,230</td>\n",
       "      <td>323,000</td>\n",
       "      <td>32.49</td>\n",
       "      <td>93.0</td>\n",
       "      <td>Kabul</td>\n",
       "      <td>8,672</td>\n",
       "      <td>...</td>\n",
       "      <td>78.40%</td>\n",
       "      <td>0.28</td>\n",
       "      <td>38,041,754</td>\n",
       "      <td>48.90%</td>\n",
       "      <td>9.30%</td>\n",
       "      <td>71.40%</td>\n",
       "      <td>11.12%</td>\n",
       "      <td>9,797,273</td>\n",
       "      <td>33.939110</td>\n",
       "      <td>67.709953</td>\n",
       "    </tr>\n",
       "    <tr>\n",
       "      <th>1</th>\n",
       "      <td>Albania</td>\n",
       "      <td>105</td>\n",
       "      <td>AL</td>\n",
       "      <td>43.10%</td>\n",
       "      <td>28,748</td>\n",
       "      <td>9,000</td>\n",
       "      <td>11.78</td>\n",
       "      <td>355.0</td>\n",
       "      <td>Tirana</td>\n",
       "      <td>4,536</td>\n",
       "      <td>...</td>\n",
       "      <td>56.90%</td>\n",
       "      <td>1.20</td>\n",
       "      <td>2,854,191</td>\n",
       "      <td>55.70%</td>\n",
       "      <td>18.60%</td>\n",
       "      <td>36.60%</td>\n",
       "      <td>12.33%</td>\n",
       "      <td>1,747,593</td>\n",
       "      <td>41.153332</td>\n",
       "      <td>20.168331</td>\n",
       "    </tr>\n",
       "    <tr>\n",
       "      <th>2</th>\n",
       "      <td>Algeria</td>\n",
       "      <td>18</td>\n",
       "      <td>DZ</td>\n",
       "      <td>17.40%</td>\n",
       "      <td>2,381,741</td>\n",
       "      <td>317,000</td>\n",
       "      <td>24.28</td>\n",
       "      <td>213.0</td>\n",
       "      <td>Algiers</td>\n",
       "      <td>150,006</td>\n",
       "      <td>...</td>\n",
       "      <td>28.10%</td>\n",
       "      <td>1.72</td>\n",
       "      <td>43,053,054</td>\n",
       "      <td>41.20%</td>\n",
       "      <td>37.20%</td>\n",
       "      <td>66.10%</td>\n",
       "      <td>11.70%</td>\n",
       "      <td>31,510,100</td>\n",
       "      <td>28.033886</td>\n",
       "      <td>1.659626</td>\n",
       "    </tr>\n",
       "    <tr>\n",
       "      <th>3</th>\n",
       "      <td>Andorra</td>\n",
       "      <td>164</td>\n",
       "      <td>AD</td>\n",
       "      <td>40.00%</td>\n",
       "      <td>468</td>\n",
       "      <td>NaN</td>\n",
       "      <td>7.20</td>\n",
       "      <td>376.0</td>\n",
       "      <td>Andorra la Vella</td>\n",
       "      <td>469</td>\n",
       "      <td>...</td>\n",
       "      <td>36.40%</td>\n",
       "      <td>3.33</td>\n",
       "      <td>77,142</td>\n",
       "      <td>NaN</td>\n",
       "      <td>NaN</td>\n",
       "      <td>NaN</td>\n",
       "      <td>NaN</td>\n",
       "      <td>67,873</td>\n",
       "      <td>42.506285</td>\n",
       "      <td>1.521801</td>\n",
       "    </tr>\n",
       "    <tr>\n",
       "      <th>4</th>\n",
       "      <td>Angola</td>\n",
       "      <td>26</td>\n",
       "      <td>AO</td>\n",
       "      <td>47.50%</td>\n",
       "      <td>1,246,700</td>\n",
       "      <td>117,000</td>\n",
       "      <td>40.73</td>\n",
       "      <td>244.0</td>\n",
       "      <td>Luanda</td>\n",
       "      <td>34,693</td>\n",
       "      <td>...</td>\n",
       "      <td>33.40%</td>\n",
       "      <td>0.21</td>\n",
       "      <td>31,825,295</td>\n",
       "      <td>77.50%</td>\n",
       "      <td>9.20%</td>\n",
       "      <td>49.10%</td>\n",
       "      <td>6.89%</td>\n",
       "      <td>21,061,025</td>\n",
       "      <td>-11.202692</td>\n",
       "      <td>17.873887</td>\n",
       "    </tr>\n",
       "    <tr>\n",
       "      <th>...</th>\n",
       "      <td>...</td>\n",
       "      <td>...</td>\n",
       "      <td>...</td>\n",
       "      <td>...</td>\n",
       "      <td>...</td>\n",
       "      <td>...</td>\n",
       "      <td>...</td>\n",
       "      <td>...</td>\n",
       "      <td>...</td>\n",
       "      <td>...</td>\n",
       "      <td>...</td>\n",
       "      <td>...</td>\n",
       "      <td>...</td>\n",
       "      <td>...</td>\n",
       "      <td>...</td>\n",
       "      <td>...</td>\n",
       "      <td>...</td>\n",
       "      <td>...</td>\n",
       "      <td>...</td>\n",
       "      <td>...</td>\n",
       "      <td>...</td>\n",
       "    </tr>\n",
       "    <tr>\n",
       "      <th>190</th>\n",
       "      <td>Venezuela</td>\n",
       "      <td>32</td>\n",
       "      <td>VE</td>\n",
       "      <td>24.50%</td>\n",
       "      <td>912,050</td>\n",
       "      <td>343,000</td>\n",
       "      <td>17.88</td>\n",
       "      <td>58.0</td>\n",
       "      <td>Caracas</td>\n",
       "      <td>164,175</td>\n",
       "      <td>...</td>\n",
       "      <td>45.80%</td>\n",
       "      <td>1.92</td>\n",
       "      <td>28,515,829</td>\n",
       "      <td>59.70%</td>\n",
       "      <td>NaN</td>\n",
       "      <td>73.30%</td>\n",
       "      <td>8.80%</td>\n",
       "      <td>25,162,368</td>\n",
       "      <td>6.423750</td>\n",
       "      <td>-66.589730</td>\n",
       "    </tr>\n",
       "    <tr>\n",
       "      <th>191</th>\n",
       "      <td>Vietnam</td>\n",
       "      <td>314</td>\n",
       "      <td>VN</td>\n",
       "      <td>39.30%</td>\n",
       "      <td>331,210</td>\n",
       "      <td>522,000</td>\n",
       "      <td>16.75</td>\n",
       "      <td>84.0</td>\n",
       "      <td>Hanoi</td>\n",
       "      <td>192,668</td>\n",
       "      <td>...</td>\n",
       "      <td>43.50%</td>\n",
       "      <td>0.82</td>\n",
       "      <td>96,462,106</td>\n",
       "      <td>77.40%</td>\n",
       "      <td>19.10%</td>\n",
       "      <td>37.60%</td>\n",
       "      <td>2.01%</td>\n",
       "      <td>35,332,140</td>\n",
       "      <td>14.058324</td>\n",
       "      <td>108.277199</td>\n",
       "    </tr>\n",
       "    <tr>\n",
       "      <th>192</th>\n",
       "      <td>Yemen</td>\n",
       "      <td>56</td>\n",
       "      <td>YE</td>\n",
       "      <td>44.60%</td>\n",
       "      <td>527,968</td>\n",
       "      <td>40,000</td>\n",
       "      <td>30.45</td>\n",
       "      <td>967.0</td>\n",
       "      <td>Sanaa</td>\n",
       "      <td>10,609</td>\n",
       "      <td>...</td>\n",
       "      <td>81.00%</td>\n",
       "      <td>0.31</td>\n",
       "      <td>29,161,922</td>\n",
       "      <td>38.00%</td>\n",
       "      <td>NaN</td>\n",
       "      <td>26.60%</td>\n",
       "      <td>12.91%</td>\n",
       "      <td>10,869,523</td>\n",
       "      <td>15.552727</td>\n",
       "      <td>48.516388</td>\n",
       "    </tr>\n",
       "    <tr>\n",
       "      <th>193</th>\n",
       "      <td>Zambia</td>\n",
       "      <td>25</td>\n",
       "      <td>ZM</td>\n",
       "      <td>32.10%</td>\n",
       "      <td>752,618</td>\n",
       "      <td>16,000</td>\n",
       "      <td>36.19</td>\n",
       "      <td>260.0</td>\n",
       "      <td>Lusaka</td>\n",
       "      <td>5,141</td>\n",
       "      <td>...</td>\n",
       "      <td>27.50%</td>\n",
       "      <td>1.19</td>\n",
       "      <td>17,861,030</td>\n",
       "      <td>74.60%</td>\n",
       "      <td>16.20%</td>\n",
       "      <td>15.60%</td>\n",
       "      <td>11.43%</td>\n",
       "      <td>7,871,713</td>\n",
       "      <td>-13.133897</td>\n",
       "      <td>27.849332</td>\n",
       "    </tr>\n",
       "    <tr>\n",
       "      <th>194</th>\n",
       "      <td>Zimbabwe</td>\n",
       "      <td>38</td>\n",
       "      <td>ZW</td>\n",
       "      <td>41.90%</td>\n",
       "      <td>390,757</td>\n",
       "      <td>51,000</td>\n",
       "      <td>30.68</td>\n",
       "      <td>263.0</td>\n",
       "      <td>Harare</td>\n",
       "      <td>10,983</td>\n",
       "      <td>...</td>\n",
       "      <td>25.80%</td>\n",
       "      <td>0.21</td>\n",
       "      <td>14,645,468</td>\n",
       "      <td>83.10%</td>\n",
       "      <td>20.70%</td>\n",
       "      <td>31.60%</td>\n",
       "      <td>4.95%</td>\n",
       "      <td>4,717,305</td>\n",
       "      <td>-19.015438</td>\n",
       "      <td>29.154857</td>\n",
       "    </tr>\n",
       "  </tbody>\n",
       "</table>\n",
       "<p>195 rows × 35 columns</p>\n",
       "</div>"
      ],
      "text/plain": [
       "         Country Density\\n(P/Km2) Abbreviation Agricultural Land( %)  \\\n",
       "0    Afghanistan               60           AF                58.10%   \n",
       "1        Albania              105           AL                43.10%   \n",
       "2        Algeria               18           DZ                17.40%   \n",
       "3        Andorra              164           AD                40.00%   \n",
       "4         Angola               26           AO                47.50%   \n",
       "..           ...              ...          ...                   ...   \n",
       "190    Venezuela               32           VE                24.50%   \n",
       "191      Vietnam              314           VN                39.30%   \n",
       "192        Yemen               56           YE                44.60%   \n",
       "193       Zambia               25           ZM                32.10%   \n",
       "194     Zimbabwe               38           ZW                41.90%   \n",
       "\n",
       "    Land Area(Km2) Armed Forces size  Birth Rate  Calling Code  \\\n",
       "0          652,230           323,000       32.49          93.0   \n",
       "1           28,748             9,000       11.78         355.0   \n",
       "2        2,381,741           317,000       24.28         213.0   \n",
       "3              468               NaN        7.20         376.0   \n",
       "4        1,246,700           117,000       40.73         244.0   \n",
       "..             ...               ...         ...           ...   \n",
       "190        912,050           343,000       17.88          58.0   \n",
       "191        331,210           522,000       16.75          84.0   \n",
       "192        527,968            40,000       30.45         967.0   \n",
       "193        752,618            16,000       36.19         260.0   \n",
       "194        390,757            51,000       30.68         263.0   \n",
       "\n",
       "    Capital/Major City Co2-Emissions  ... Out of pocket health expenditure  \\\n",
       "0                Kabul         8,672  ...                           78.40%   \n",
       "1               Tirana         4,536  ...                           56.90%   \n",
       "2              Algiers       150,006  ...                           28.10%   \n",
       "3     Andorra la Vella           469  ...                           36.40%   \n",
       "4               Luanda        34,693  ...                           33.40%   \n",
       "..                 ...           ...  ...                              ...   \n",
       "190            Caracas       164,175  ...                           45.80%   \n",
       "191              Hanoi       192,668  ...                           43.50%   \n",
       "192              Sanaa        10,609  ...                           81.00%   \n",
       "193             Lusaka         5,141  ...                           27.50%   \n",
       "194             Harare        10,983  ...                           25.80%   \n",
       "\n",
       "    Physicians per thousand  Population  \\\n",
       "0                      0.28  38,041,754   \n",
       "1                      1.20   2,854,191   \n",
       "2                      1.72  43,053,054   \n",
       "3                      3.33      77,142   \n",
       "4                      0.21  31,825,295   \n",
       "..                      ...         ...   \n",
       "190                    1.92  28,515,829   \n",
       "191                    0.82  96,462,106   \n",
       "192                    0.31  29,161,922   \n",
       "193                    1.19  17,861,030   \n",
       "194                    0.21  14,645,468   \n",
       "\n",
       "     Population: Labor force participation (%) Tax revenue (%) Total tax rate  \\\n",
       "0                                       48.90%           9.30%         71.40%   \n",
       "1                                       55.70%          18.60%         36.60%   \n",
       "2                                       41.20%          37.20%         66.10%   \n",
       "3                                          NaN             NaN            NaN   \n",
       "4                                       77.50%           9.20%         49.10%   \n",
       "..                                         ...             ...            ...   \n",
       "190                                     59.70%             NaN         73.30%   \n",
       "191                                     77.40%          19.10%         37.60%   \n",
       "192                                     38.00%             NaN         26.60%   \n",
       "193                                     74.60%          16.20%         15.60%   \n",
       "194                                     83.10%          20.70%         31.60%   \n",
       "\n",
       "    Unemployment rate Urban_population   Latitude   Longitude  \n",
       "0              11.12%        9,797,273  33.939110   67.709953  \n",
       "1              12.33%        1,747,593  41.153332   20.168331  \n",
       "2              11.70%       31,510,100  28.033886    1.659626  \n",
       "3                 NaN           67,873  42.506285    1.521801  \n",
       "4               6.89%       21,061,025 -11.202692   17.873887  \n",
       "..                ...              ...        ...         ...  \n",
       "190             8.80%       25,162,368   6.423750  -66.589730  \n",
       "191             2.01%       35,332,140  14.058324  108.277199  \n",
       "192            12.91%       10,869,523  15.552727   48.516388  \n",
       "193            11.43%        7,871,713 -13.133897   27.849332  \n",
       "194             4.95%        4,717,305 -19.015438   29.154857  \n",
       "\n",
       "[195 rows x 35 columns]"
      ]
     },
     "execution_count": 5,
     "metadata": {},
     "output_type": "execute_result"
    }
   ],
   "source": [
    "#Loading Dataset\n",
    "path = kagglehub.dataset_download(\"nelgiriyewithana/countries-of-the-world-2023\")\n",
    "\n",
    "files = os.listdir(path)\n",
    "print(\"Files in dataset:\", files)\n",
    "\n",
    "file_name = [f for f in files if f.endswith(\".csv\")][0]\n",
    "file_path = os.path.join(path, file_name)\n",
    "\n",
    "# Looking at dataset\n",
    "population = pd.read_csv(file_path)\n",
    "population"
   ]
  },
  {
   "cell_type": "code",
   "execution_count": 6,
   "id": "dea79165-6370-436c-8101-417d4000eaf7",
   "metadata": {},
   "outputs": [
    {
     "data": {
      "text/plain": [
       "Text(0.5, 1.0, 'Density of Peru, Ecuador, Brazil, and Bolivia in 2023')"
      ]
     },
     "execution_count": 6,
     "metadata": {},
     "output_type": "execute_result"
    },
    {
     "data": {
      "image/png": "[encoded data removed]",
      "text/plain": [
       "<Figure size 640x480 with 1 Axes>"
      ]
     },
     "metadata": {},
     "output_type": "display_data"
    }
   ],
   "source": [
    "# Merging two datasets\n",
    "merged_df = filtered_df.merge(population, on = \"Country\")\n",
    "merged_df.plot(column = \"Density\\n(P/Km2)\", legend = \"true\")\n",
    "plt.title(\"Density of Peru, Ecuador, Brazil, and Bolivia in 2023\") "
   ]
  },
  {
   "cell_type": "code",
   "execution_count": 7,
   "id": "b11b3c10-9ebb-40c2-a518-73b9444a71d5",
   "metadata": {},
   "outputs": [
    {
     "data": {
      "text/html": [
       "<div>\n",
       "<style scoped>\n",
       "    .dataframe tbody tr th:only-of-type {\n",
       "        vertical-align: middle;\n",
       "    }\n",
       "\n",
       "    .dataframe tbody tr th {\n",
       "        vertical-align: top;\n",
       "    }\n",
       "\n",
       "    .dataframe thead th {\n",
       "        text-align: right;\n",
       "    }\n",
       "</style>\n",
       "<table border=\"1\" class=\"dataframe\">\n",
       "  <thead>\n",
       "    <tr style=\"text-align: right;\">\n",
       "      <th></th>\n",
       "      <th>Country</th>\n",
       "      <th>Country Code</th>\n",
       "      <th>Year</th>\n",
       "      <th>Value</th>\n",
       "      <th>Land Size (km²)</th>\n",
       "      <th>Density (P/Km^2)</th>\n",
       "    </tr>\n",
       "  </thead>\n",
       "  <tbody>\n",
       "    <tr>\n",
       "      <th>1792</th>\n",
       "      <td>Bolivia</td>\n",
       "      <td>BOL</td>\n",
       "      <td>1960</td>\n",
       "      <td>3702323.0</td>\n",
       "      <td>1098581</td>\n",
       "      <td>3.370096</td>\n",
       "    </tr>\n",
       "    <tr>\n",
       "      <th>1856</th>\n",
       "      <td>Brazil</td>\n",
       "      <td>BRA</td>\n",
       "      <td>1960</td>\n",
       "      <td>72388126.0</td>\n",
       "      <td>8514215</td>\n",
       "      <td>8.502032</td>\n",
       "    </tr>\n",
       "    <tr>\n",
       "      <th>4224</th>\n",
       "      <td>Ecuador</td>\n",
       "      <td>ECU</td>\n",
       "      <td>1960</td>\n",
       "      <td>4590891.0</td>\n",
       "      <td>283561</td>\n",
       "      <td>16.190135</td>\n",
       "    </tr>\n",
       "    <tr>\n",
       "      <th>11840</th>\n",
       "      <td>Peru</td>\n",
       "      <td>PER</td>\n",
       "      <td>1960</td>\n",
       "      <td>10174127.0</td>\n",
       "      <td>1285220</td>\n",
       "      <td>7.916253</td>\n",
       "    </tr>\n",
       "  </tbody>\n",
       "</table>\n",
       "</div>"
      ],
      "text/plain": [
       "       Country Country Code  Year       Value  Land Size (km²)  \\\n",
       "1792   Bolivia          BOL  1960   3702323.0          1098581   \n",
       "1856    Brazil          BRA  1960  72388126.0          8514215   \n",
       "4224   Ecuador          ECU  1960   4590891.0           283561   \n",
       "11840     Peru          PER  1960  10174127.0          1285220   \n",
       "\n",
       "       Density (P/Km^2)  \n",
       "1792           3.370096  \n",
       "1856           8.502032  \n",
       "4224          16.190135  \n",
       "11840          7.916253  "
      ]
     },
     "execution_count": 7,
     "metadata": {},
     "output_type": "execute_result"
    }
   ],
   "source": [
    "# Load the dataset\n",
    "file_path = \"population.csv\"\n",
    "southamericapast = pd.read_csv(file_path)\n",
    "\n",
    "# Renaming Column \n",
    "southamericapast = southamericapast.rename(columns={\"Country Name\": \"Country\"})\n",
    "\n",
    "# Filter for Peru, Bolivia, Brazil, and Ecuador for Year 1960\n",
    "filtered_southamerica1960 = southamericapast[\n",
    "    (southamericapast[\"Country\"].isin([\"Peru\", \"Bolivia\", \"Brazil\", \"Ecuador\"])) &\n",
    "    (southamericapast[\"Year\"] == 1960)]\n",
    "\n",
    "# Input Land Size for each country to find density\n",
    "filtered_southamerica1960[\"Land Size (km²)\"] = [1098581, 8514215, 283561, 1285220]\n",
    "\n",
    "#Create a new column for density by dividing population by land size\n",
    "filtered_southamerica1960[\"Density (P/Km^2)\"] = filtered_southamerica1960[\"Value\"] / filtered_southamerica1960[\"Land Size (km²)\"]\n",
    "filtered_southamerica1960"
   ]
  },
  {
   "cell_type": "code",
   "execution_count": 8,
   "id": "4db64d71-6f21-45af-8028-9d9d53b55dcf",
   "metadata": {},
   "outputs": [
    {
     "data": {
      "text/plain": [
       "Text(0.5, 1.0, 'Density of Peru, Ecuador, Brazil, and Bolivia in 2023')"
      ]
     },
     "execution_count": 8,
     "metadata": {},
     "output_type": "execute_result"
    },
    {
     "data": {
      "image/png": "[encoded data removed]",
      "text/plain": [
       "<Figure size 1200x600 with 3 Axes>"
      ]
     },
     "metadata": {},
     "output_type": "display_data"
    }
   ],
   "source": [
    "# Create graphs side by side\n",
    "fig, axes = plt.subplots(1, 2, figsize=(12, 6),constrained_layout=True)\n",
    "\n",
    "# Population Density in 1960\n",
    "merged_df_1960 = filtered_df.merge(filtered_southamerica1960, on=\"Country\")\n",
    "merged_df_1960.plot(column=\"Density (P/Km^2)\",legend=True, ax=axes[0])\n",
    "axes[0].set_title(\"Density of Peru, Ecuador, Brazil, and Bolivia in 1960\")\n",
    "\n",
    "# Population Density in 2023\n",
    "merged_df = filtered_df.merge(population, on=\"Country\")\n",
    "merged_df.plot(column=\"Density\\n(P/Km2)\",legend=True,ax=axes[1])\n",
    "axes[1].set_title(\"Density of Peru, Ecuador, Brazil, and Bolivia in 2023\")"
   ]
  },
  {
   "cell_type": "code",
   "execution_count": 9,
   "id": "565c4117-02ba-45cc-b90d-4f543a22c227",
   "metadata": {},
   "outputs": [],
   "source": [
    "filtered_southamerica_Peru = southamericapast[southamericapast[\"Country\"] == \"Peru\"]\n",
    "filtered_southamerica_Brazil = southamericapast[southamericapast[\"Country\"] == \"Brazil\"]\n",
    "filtered_southamerica_Ecuador = southamericapast[southamericapast[\"Country\"] == \"Ecuador\"]\n",
    "filtered_southamerica_Bolivia = southamericapast[southamericapast[\"Country\"] == \"Bolivia\"]"
   ]
  },
  {
   "cell_type": "code",
   "execution_count": 10,
   "id": "34eda644-5f36-4dfa-b047-bacb36378ced",
   "metadata": {},
   "outputs": [
    {
     "data": {
      "image/png": "[encoded data removed]",
      "text/plain": [
       "<Figure size 640x480 with 1 Axes>"
      ]
     },
     "metadata": {},
     "output_type": "display_data"
    }
   ],
   "source": [
    "filtered_southamerica_Peru.plot(x='Year', y='Value', kind='line', marker='o', linestyle='-')\n",
    "\n",
    "plt.xlabel('Year')\n",
    "plt.ylabel('Population')\n",
    "plt.title('Population Over Time for Peru')\n",
    "plt.grid(True)\n",
    "\n",
    "plt.show()"
   ]
  },
  {
   "cell_type": "code",
   "execution_count": 11,
   "id": "4955e4f6-d926-4687-ad43-1c8b742f428c",
   "metadata": {},
   "outputs": [
    {
     "data": {
      "image/png": "[encoded data removed]",
      "text/plain": [
       "<Figure size 640x480 with 1 Axes>"
      ]
     },
     "metadata": {},
     "output_type": "display_data"
    }
   ],
   "source": [
    "filtered_southamerica_Brazil.plot(x='Year', y='Value', kind='line', marker='o', linestyle='-')\n",
    "\n",
    "plt.xlabel('Year')\n",
    "plt.ylabel('Population')\n",
    "plt.title('Population Over Time for Brazil')\n",
    "plt.grid(True)\n",
    "\n",
    "plt.show()"
   ]
  },
  {
   "cell_type": "code",
   "execution_count": 12,
   "id": "20ff89a6-8e9b-49dc-ab8e-bb9d3bfa6552",
   "metadata": {},
   "outputs": [
    {
     "data": {
      "image/png": "[encoded data removed]",
      "text/plain": [
       "<Figure size 640x480 with 1 Axes>"
      ]
     },
     "metadata": {},
     "output_type": "display_data"
    }
   ],
   "source": [
    "filtered_southamerica_Bolivia.plot(x='Year', y='Value', kind='line', marker='o', linestyle='-')\n",
    "\n",
    "plt.xlabel('Year')\n",
    "plt.ylabel('Population')\n",
    "plt.title('Population Over Time for Bolivia')\n",
    "plt.grid(True)\n",
    "\n",
    "plt.show()"
   ]
  },
  {
   "cell_type": "code",
   "execution_count": 13,
   "id": "268ea39c-631b-4521-9c0f-c732cf96fb54",
   "metadata": {},
   "outputs": [
    {
     "data": {
      "image/png": "[encoded data removed]",
      "text/plain": [
       "<Figure size 640x480 with 1 Axes>"
      ]
     },
     "metadata": {},
     "output_type": "display_data"
    }
   ],
   "source": [
    "filtered_southamerica_Ecuador.plot(x='Year', y='Value', kind='line', marker='o', linestyle='-')\n",
    "\n",
    "plt.xlabel('Year')\n",
    "plt.ylabel('Population')\n",
    "plt.title('Population Over Time for Ecuador')\n",
    "plt.grid(True)\n",
    "\n",
    "plt.show()"
   ]
  },
  {
   "cell_type": "code",
   "execution_count": 14,
   "id": "c8ebd30f-840c-4462-8fc0-14d048e5fab9",
   "metadata": {},
   "outputs": [
    {
     "data": {
      "text/html": [
       "<div>\n",
       "<style scoped>\n",
       "    .dataframe tbody tr th:only-of-type {\n",
       "        vertical-align: middle;\n",
       "    }\n",
       "\n",
       "    .dataframe tbody tr th {\n",
       "        vertical-align: top;\n",
       "    }\n",
       "\n",
       "    .dataframe thead th {\n",
       "        text-align: right;\n",
       "    }\n",
       "</style>\n",
       "<table border=\"1\" class=\"dataframe\">\n",
       "  <thead>\n",
       "    <tr style=\"text-align: right;\">\n",
       "      <th></th>\n",
       "      <th>World Population</th>\n",
       "    </tr>\n",
       "    <tr>\n",
       "      <th>date</th>\n",
       "      <th></th>\n",
       "    </tr>\n",
       "  </thead>\n",
       "  <tbody>\n",
       "    <tr>\n",
       "      <th>2023-01-01</th>\n",
       "      <td>8.061876e+09</td>\n",
       "    </tr>\n",
       "    <tr>\n",
       "      <th>2022-01-01</th>\n",
       "      <td>7.989982e+09</td>\n",
       "    </tr>\n",
       "    <tr>\n",
       "      <th>2021-01-01</th>\n",
       "      <td>7.921184e+09</td>\n",
       "    </tr>\n",
       "    <tr>\n",
       "      <th>2020-01-01</th>\n",
       "      <td>7.856139e+09</td>\n",
       "    </tr>\n",
       "    <tr>\n",
       "      <th>2019-01-01</th>\n",
       "      <td>7.776892e+09</td>\n",
       "    </tr>\n",
       "  </tbody>\n",
       "</table>\n",
       "</div>"
      ],
      "text/plain": [
       "            World Population\n",
       "date                        \n",
       "2023-01-01      8.061876e+09\n",
       "2022-01-01      7.989982e+09\n",
       "2021-01-01      7.921184e+09\n",
       "2020-01-01      7.856139e+09\n",
       "2019-01-01      7.776892e+09"
      ]
     },
     "execution_count": 14,
     "metadata": {},
     "output_type": "execute_result"
    }
   ],
   "source": [
    "variable_labels = {\"SP.POP.TOTL\":\"World Population\"}\n",
    "\n",
    "world = wbdata.get_dataframe(variable_labels, country=\"WLD\",parse_dates=True)\n",
    "\n",
    "# Print a few years' data\n",
    "world.head()"
   ]
  },
  {
   "cell_type": "code",
   "execution_count": 15,
   "id": "89e94fc9-640e-48ee-8a6c-48d96d6dcbac",
   "metadata": {},
   "outputs": [
    {
     "data": {
      "text/html": [
       "<div>\n",
       "<style scoped>\n",
       "    .dataframe tbody tr th:only-of-type {\n",
       "        vertical-align: middle;\n",
       "    }\n",
       "\n",
       "    .dataframe tbody tr th {\n",
       "        vertical-align: top;\n",
       "    }\n",
       "\n",
       "    .dataframe thead th {\n",
       "        text-align: right;\n",
       "    }\n",
       "</style>\n",
       "<table border=\"1\" class=\"dataframe\">\n",
       "  <thead>\n",
       "    <tr style=\"text-align: right;\">\n",
       "      <th></th>\n",
       "      <th>Rural Population</th>\n",
       "    </tr>\n",
       "    <tr>\n",
       "      <th>date</th>\n",
       "      <th></th>\n",
       "    </tr>\n",
       "  </thead>\n",
       "  <tbody>\n",
       "    <tr>\n",
       "      <th>2023-01-01</th>\n",
       "      <td>25784506.0</td>\n",
       "    </tr>\n",
       "    <tr>\n",
       "      <th>2022-01-01</th>\n",
       "      <td>26172633.0</td>\n",
       "    </tr>\n",
       "    <tr>\n",
       "      <th>2021-01-01</th>\n",
       "      <td>26577264.0</td>\n",
       "    </tr>\n",
       "    <tr>\n",
       "      <th>2020-01-01</th>\n",
       "      <td>26973587.0</td>\n",
       "    </tr>\n",
       "    <tr>\n",
       "      <th>2019-01-01</th>\n",
       "      <td>27334331.0</td>\n",
       "    </tr>\n",
       "    <tr>\n",
       "      <th>...</th>\n",
       "      <td>...</td>\n",
       "    </tr>\n",
       "    <tr>\n",
       "      <th>1964-01-01</th>\n",
       "      <td>40696219.0</td>\n",
       "    </tr>\n",
       "    <tr>\n",
       "      <th>1963-01-01</th>\n",
       "      <td>40312012.0</td>\n",
       "    </tr>\n",
       "    <tr>\n",
       "      <th>1962-01-01</th>\n",
       "      <td>39893871.0</td>\n",
       "    </tr>\n",
       "    <tr>\n",
       "      <th>1961-01-01</th>\n",
       "      <td>39449868.0</td>\n",
       "    </tr>\n",
       "    <tr>\n",
       "      <th>1960-01-01</th>\n",
       "      <td>38988969.0</td>\n",
       "    </tr>\n",
       "  </tbody>\n",
       "</table>\n",
       "<p>64 rows × 1 columns</p>\n",
       "</div>"
      ],
      "text/plain": [
       "            Rural Population\n",
       "date                        \n",
       "2023-01-01        25784506.0\n",
       "2022-01-01        26172633.0\n",
       "2021-01-01        26577264.0\n",
       "2020-01-01        26973587.0\n",
       "2019-01-01        27334331.0\n",
       "...                      ...\n",
       "1964-01-01        40696219.0\n",
       "1963-01-01        40312012.0\n",
       "1962-01-01        39893871.0\n",
       "1961-01-01        39449868.0\n",
       "1960-01-01        38988969.0\n",
       "\n",
       "[64 rows x 1 columns]"
      ]
     },
     "execution_count": 15,
     "metadata": {},
     "output_type": "execute_result"
    }
   ],
   "source": [
    "variable_labels = {\"SP.RUR.TOTL\":\"Rural Population\"}\n",
    "\n",
    "Brazil_rural_population = wbdata.get_dataframe(variable_labels, country=\"BRA\",parse_dates=True)\n",
    "\n",
    "# Print a few years' data\n",
    "Brazil_rural_population"
   ]
  },
  {
   "cell_type": "code",
   "execution_count": 16,
   "id": "9d63eed4-24fb-43b2-b1ba-fc7c12293817",
   "metadata": {},
   "outputs": [
    {
     "data": {
      "image/png": "[encoded data removed]",
      "text/plain": [
       "<Figure size 1000x600 with 1 Axes>"
      ]
     },
     "metadata": {},
     "output_type": "display_data"
    }
   ],
   "source": [
    "import matplotlib.pyplot as plt\n",
    "\n",
    "# Ensure Year column is numeric for all dataframes\n",
    "for df in [filtered_southamerica_Peru, filtered_southamerica_Brazil, \n",
    "           filtered_southamerica_Bolivia, filtered_southamerica_Ecuador]:\n",
    "    df['Year'] = pd.to_numeric(df['Year'], errors='coerce')  # Convert Year column to numeric, coerce errors\n",
    "    df.dropna(subset=['Year', 'Value'], inplace=True)  # Remove rows with NaN values\n",
    "\n",
    "# Plot each country's population on the same figure\n",
    "plt.figure(figsize=(10, 6))  # Set figure size\n",
    "\n",
    "# Define dataset dictionary for cleaner plotting\n",
    "datasets = {\n",
    "    \"Peru\": filtered_southamerica_Peru,\n",
    "    \"Brazil\": filtered_southamerica_Brazil,\n",
    "    \"Bolivia\": filtered_southamerica_Bolivia,\n",
    "    \"Ecuador\": filtered_southamerica_Ecuador\n",
    "}\n",
    "\n",
    "# Iterate over datasets and plot\n",
    "for country, df in datasets.items():\n",
    "    plt.plot(df['Year'], df['Value'], marker='o', linestyle='-', label=country)\n",
    "\n",
    "# Add labels, title, and grid\n",
    "plt.xlabel('Year')\n",
    "plt.ylabel('Population (In 100 Million)')\n",
    "plt.title('Population Over Time for Selected South American Countries')\n",
    "plt.grid(True)\n",
    "plt.legend()  # Show legend to differentiate countries\n",
    "\n",
    "# Display the plot\n",
    "plt.show()"
   ]
  },
  {
   "cell_type": "code",
   "execution_count": 33,
   "id": "7bf95d2a-aff7-4f1d-8950-9b2eca571e70",
   "metadata": {},
   "outputs": [
    {
     "data": {
      "application/vnd.plotly.v1+json": {
       "config": {
        "plotlyServerURL": "https://plot.ly"
       },
       "data": [
        {
         "hovertemplate": "variable=Food production<br>Time=%{x}<br>value=%{y}<extra></extra>",
         "legendgroup": "Food production",
         "line": {
          "color": "#636efa",
          "dash": "solid"
         },
         "marker": {
          "symbol": "circle"
         },
         "mode": "lines",
         "name": "Food production",
         "orientation": "v",
         "showlegend": true,
         "type": "scatter",
         "x": {
          "bdata": "AAAAAAAAAABuOuVhxAQ7QG465WHEBEtA0utrSZNDVEBuOuVhxARbQIVEL7364mBA0utrSZNDZEAgk6jVK6RnQG465WHEBGtAvOEh7lxlbkCFRC+9+uJwQCyYTQNHk3JA0utrSZNDdEB5P4qP3/N1QCCTqNUrpHdAx+bGG3hUeUBuOuVhxAR7QBWOA6gQtXxAvOEh7lxlfkCxGiCa1AqAQIVEL7364oBAWG4+4CC7gUAsmE0DR5OCQP/BXCZta4NA0utrSZNDhECmFXtsuRuFQHk/io/f84VATWmZsgXMhkAgk6jVK6SHQPS8t/hRfIhAx+bGG3hUiUCbENY+niyKQG465WHEBItAQWT0hOrci0AVjgOoELWMQOi3Ess2jY1AvOEh7lxljkCPCzERgz2PQLEaIJrUCpBAm6+nq+d2kECFRC+9+uKQQG7Zts4NT5FAWG4+4CC7kUBCA8bxMyeSQCyYTQNHk5JAFS3VFFr/kkD/wVwmbWuTQOlW5DeA15NA0utrSZNDlEC8gPNapq+UQKYVe2y5G5VAkKoCfsyHlUB5P4qP3/OVQGPUEaHyX5ZATWmZsgXMlkA3/iDEGDiXQCCTqNUrpJdACigw5z4QmED0vLf4UXyYQN1RPwpl6JhAx+bGG3hUmUCxe04ti8CZQJsQ1j6eLJpAhKVdULGYmkBuOuVhxASbQFjPbHPXcJtAQWT0hOrcm0Ar+XuW/UicQBWOA6gQtZxA/yKLuSMhnUDotxLLNo2dQNJMmtxJ+Z1AvOEh7lxlnkCldqn/b9GeQI8LMRGDPZ9AeaC4Ipapn0CxGiCa1AqgQCbl4yLeQKBAm6+nq+d2oEAQems08aygQIVEL7364qBA+g7zRQQZoUBu2bbODU+hQOOjelcXhaFAWG4+4CC7oUDNOAJpKvGhQEIDxvEzJ6JAt82Jej1dokAsmE0DR5OiQKBiEYxQyaJAFS3VFFr/okCK95idYzWjQP/BXCZta6NAdIwgr3aho0DpVuQ3gNejQF4hqMCJDaRA0utrSZNDpEBHti/SnHmkQLyA81qmr6RAMUu346/lpEA=",
          "dtype": "f8"
         },
         "xaxis": "x",
         "y": {
          "bdata": "AAAAAAAAJECmFXtsuS+lQKYVe2y5JbVAeKC4Ipazv0CmFXtsuSDFQBDbmcenZ8pAeKC4Ipauz0Dxsus+wnrSQKYVe2w5HtVAW3gKmrDB10AQ25nHJ2XaQMU9KfWeCN1AeKC4Ihas30CXASSoxifhQPGy6z6CeeJAS2Sz1T3L40CmFXts+RzlQADHQgO1buZAW3gKmnDA50C1KdIwLBLpQBDbmcfnY+pAaoxhXqO160DFPSn1XgftQB7v8IsaWe5AeKC4Itaq70DqKMDcSH7wQJcBJKgmJ/FARNqHcwTQ8UDxsus+4njyQJ+LTwrAIfNAS2Sz1Z3K80D5PBehe3P0QKYVe2xZHPVAU+7eNzfF9UAAx0IDFW72QK2fps7yFvdAW3gKmtC/90AIUW5lrmj4QLUp0jCMEflAYgI2/Gm6+UAQ25nHR2P6QLyz/ZIlDPtAaoxhXgO1+0AXZcUp4V38QMU9KfW+Bv1AcRaNwJyv/UAe7/CLelj+QMzHVFdYAf9AeKC4Ijaq/0CTPA73iSkAQeoowNz4fQBBQBVywmfSAEGXASSo1iYBQe3t1Y1FewFBRNqHc7TPAUGbxjlZIyQCQfGy6z6SeAJBSJ+dJAHNAkGfi08KcCEDQfV3AfDedQNBS2Sz1U3KA0GiUGW7vB4EQfk8F6ErcwRBTynJhprHBEGmFXtsCRwFQf0BLVJ4cAVBU+7eN+fEBUGq2pAdVhkGQQDHQgPFbQZBV7P06DPCBkGtn6bOohYHQQSMWLQRawdBW3gKmoC/B0GxZLx/7xMIQQhRbmVeaAhBXz0gS828CEG1KdIwPBEJQQsWhBarZQlBYgI2/Bm6CUG57ufhiA4KQRDbmcf3YgpBZ8dLrWa3CkG8s/2S1QsLQROgr3hEYAtBaoxhXrO0C0HAeBNEIgkMQRdlxSmRXQxBblF3DwCyDEHFPSn1bgYNQRoq29rdWg1BcRaNwEyvDUHIAj+muwMOQR7v8IsqWA5BdduicZmsDkHMx1RXCAEPQSO0Bj13VQ9BeKC4IuapD0HPjGoIVf4PQZM8DvdhKRBBvjLnaZlTEEE=",
          "dtype": "f8"
         },
         "yaxis": "y"
        },
        {
         "hovertemplate": "variable=Brazil<br>Time=%{x}<br>value=%{y}<extra></extra>",
         "legendgroup": "Brazil",
         "line": {
          "color": "#EF553B",
          "dash": "solid"
         },
         "marker": {
          "symbol": "circle"
         },
         "mode": "lines",
         "name": "Brazil",
         "orientation": "v",
         "showlegend": true,
         "type": "scatter",
         "x": {
          "bdata": "AAAAAAAAAABuOuVhxAQ7QG465WHEBEtA0utrSZNDVEBuOuVhxARbQIVEL7364mBA0utrSZNDZEAgk6jVK6RnQG465WHEBGtAvOEh7lxlbkCFRC+9+uJwQCyYTQNHk3JA0utrSZNDdEB5P4qP3/N1QCCTqNUrpHdAx+bGG3hUeUBuOuVhxAR7QBWOA6gQtXxAvOEh7lxlfkCxGiCa1AqAQIVEL7364oBAWG4+4CC7gUAsmE0DR5OCQP/BXCZta4NA0utrSZNDhECmFXtsuRuFQHk/io/f84VATWmZsgXMhkAgk6jVK6SHQPS8t/hRfIhAx+bGG3hUiUCbENY+niyKQG465WHEBItAQWT0hOrci0AVjgOoELWMQOi3Ess2jY1AvOEh7lxljkCPCzERgz2PQLEaIJrUCpBAm6+nq+d2kECFRC+9+uKQQG7Zts4NT5FAWG4+4CC7kUBCA8bxMyeSQCyYTQNHk5JAFS3VFFr/kkD/wVwmbWuTQOlW5DeA15NA0utrSZNDlEC8gPNapq+UQKYVe2y5G5VAkKoCfsyHlUB5P4qP3/OVQGPUEaHyX5ZATWmZsgXMlkA3/iDEGDiXQCCTqNUrpJdACigw5z4QmED0vLf4UXyYQN1RPwpl6JhAx+bGG3hUmUCxe04ti8CZQJsQ1j6eLJpAhKVdULGYmkBuOuVhxASbQFjPbHPXcJtAQWT0hOrcm0Ar+XuW/UicQBWOA6gQtZxA/yKLuSMhnUDotxLLNo2dQNJMmtxJ+Z1AvOEh7lxlnkCldqn/b9GeQI8LMRGDPZ9AeaC4Ipapn0CxGiCa1AqgQCbl4yLeQKBAm6+nq+d2oEAQems08aygQIVEL7364qBA+g7zRQQZoUBu2bbODU+hQOOjelcXhaFAWG4+4CC7oUDNOAJpKvGhQEIDxvEzJ6JAt82Jej1dokAsmE0DR5OiQKBiEYxQyaJAFS3VFFr/okCK95idYzWjQP/BXCZta6NAdIwgr3aho0DpVuQ3gNejQF4hqMCJDaRA0utrSZNDpEBHti/SnHmkQLyA81qmr6RAMUu346/lpEA=",
          "dtype": "f8"
         },
         "xaxis": "x",
         "y": {
          "bdata": "AAAAAAAA8D96TUbVJF3yP29KYhyxE/U/69CkOtow+D8F8c0mycP7P1Y4djfk3f8/RWd37JFJAkBL34DjOf0EQE3k9FERFwhA08jjBTGmC0DFtA7K7LsPQMp7vuATNhJAhEXNnNrmFEChTR/lY/0XQGprTnC4iBtALBAJkRmaH0Bhht6bqiIiQAdiwS6T0CRAM5jY1tHjJ0B0a25EX2srQHQzzmVqeC9AjjayB1YPMkBkTvJ/Y7o0QOGI9AlbyjdAMzLIYCVOO0CWKfAh31Y/QK3WKw4W/EFAzDsQd0ukREDk/GVh/7BHQEvZA6QKMUtAwPMpn3c1T0DXMlWZ6uhRQD1W5vpKjlRAnMg+wL6XV0CwBO3sDhRbQJddX7czFF9AyX9Pk9PVYUC+p1ryYXhkQKWWrwmZfmdA2LxyGjL3akDs0ZxEE/NuQPBBU+bQwnFApPttRJBidEDXxgchjmV3QO1Ipwt02npAMC8XIRbSfkClNLB84q+BQDzCO9jVTIRAn0216Z1Mh0A/CcCf1L2KQJmcKyc8sY5AUjHNQAidkUAf9PmUMjeUQHWTREfIM5dA9lEVtlOhmkABX18xhZCeQNcWKB1CiqFASfb4YaYhpEBEVGAdDRunQJlFIi7xhKpAG65fGvFvrkAUsVX8j3exQIV9oyYxDLRAK3/RT2wCt0BEsITnrGi6QCWKAb1/T75AU6AByfFkwUC9cn7K0vbDQFkWf8Ll6cZAYeL8wYZMykAlkUH0MC/OQC1B7m1nUtFA0dYoNYvh00DhDm5ZedHWQBCMbZ1+MNpAENVDmwQP3kDyk/TV8D/hQNamW05azONA3zDB+Ca55kB7mNtZlBTqQFyxU4367u1A/yQE7I0t8UCFwOn9P7fzQKb3uITuoPZARglu18f4+UBaoeOlEs/9QDT0Ips+GwFBbMa/KzyiA0FEcrPhz4gGQXLSbfYY3QlBaBaNwEyvDUGCXW3OAgkRQZ0E5L9OjRNBiyMs9MpwFkHutUWXh8EZQa9OELmojx1BswAWcdr2IEFAVXaid3gjQULju6DfWCZBfR+CmhOmKUE=",
          "dtype": "f8"
         },
         "yaxis": "y"
        }
       ],
       "layout": {
        "legend": {
         "title": {
          "text": "variable"
         },
         "tracegroupgap": 0
        },
        "margin": {
         "t": 60
        },
        "template": {
         "data": {
          "bar": [
           {
            "error_x": {
             "color": "#2a3f5f"
            },
            "error_y": {
             "color": "#2a3f5f"
            },
            "marker": {
             "line": {
              "color": "#E5ECF6",
              "width": 0.5
             },
             "pattern": {
              "fillmode": "overlay",
              "size": 10,
              "solidity": 0.2
             }
            },
            "type": "bar"
           }
          ],
          "barpolar": [
           {
            "marker": {
             "line": {
              "color": "#E5ECF6",
              "width": 0.5
             },
             "pattern": {
              "fillmode": "overlay",
              "size": 10,
              "solidity": 0.2
             }
            },
            "type": "barpolar"
           }
          ],
          "carpet": [
           {
            "aaxis": {
             "endlinecolor": "#2a3f5f",
             "gridcolor": "white",
             "linecolor": "white",
             "minorgridcolor": "white",
             "startlinecolor": "#2a3f5f"
            },
            "baxis": {
             "endlinecolor": "#2a3f5f",
             "gridcolor": "white",
             "linecolor": "white",
             "minorgridcolor": "white",
             "startlinecolor": "#2a3f5f"
            },
            "type": "carpet"
           }
          ],
          "choropleth": [
           {
            "colorbar": {
             "outlinewidth": 0,
             "ticks": ""
            },
            "type": "choropleth"
           }
          ],
          "contour": [
           {
            "colorbar": {
             "outlinewidth": 0,
             "ticks": ""
            },
            "colorscale": [
             [
              0,
              "#0d0887"
             ],
             [
              0.1111111111111111,
              "#46039f"
             ],
             [
              0.2222222222222222,
              "#7201a8"
             ],
             [
              0.3333333333333333,
              "#9c179e"
             ],
             [
              0.4444444444444444,
              "#bd3786"
             ],
             [
              0.5555555555555556,
              "#d8576b"
             ],
             [
              0.6666666666666666,
              "#ed7953"
             ],
             [
              0.7777777777777778,
              "#fb9f3a"
             ],
             [
              0.8888888888888888,
              "#fdca26"
             ],
             [
              1,
              "#f0f921"
             ]
            ],
            "type": "contour"
           }
          ],
          "contourcarpet": [
           {
            "colorbar": {
             "outlinewidth": 0,
             "ticks": ""
            },
            "type": "contourcarpet"
           }
          ],
          "heatmap": [
           {
            "colorbar": {
             "outlinewidth": 0,
             "ticks": ""
            },
            "colorscale": [
             [
              0,
              "#0d0887"
             ],
             [
              0.1111111111111111,
              "#46039f"
             ],
             [
              0.2222222222222222,
              "#7201a8"
             ],
             [
              0.3333333333333333,
              "#9c179e"
             ],
             [
              0.4444444444444444,
              "#bd3786"
             ],
             [
              0.5555555555555556,
              "#d8576b"
             ],
             [
              0.6666666666666666,
              "#ed7953"
             ],
             [
              0.7777777777777778,
              "#fb9f3a"
             ],
             [
              0.8888888888888888,
              "#fdca26"
             ],
             [
              1,
              "#f0f921"
             ]
            ],
            "type": "heatmap"
           }
          ],
          "histogram": [
           {
            "marker": {
             "pattern": {
              "fillmode": "overlay",
              "size": 10,
              "solidity": 0.2
             }
            },
            "type": "histogram"
           }
          ],
          "histogram2d": [
           {
            "colorbar": {
             "outlinewidth": 0,
             "ticks": ""
            },
            "colorscale": [
             [
              0,
              "#0d0887"
             ],
             [
              0.1111111111111111,
              "#46039f"
             ],
             [
              0.2222222222222222,
              "#7201a8"
             ],
             [
              0.3333333333333333,
              "#9c179e"
             ],
             [
              0.4444444444444444,
              "#bd3786"
             ],
             [
              0.5555555555555556,
              "#d8576b"
             ],
             [
              0.6666666666666666,
              "#ed7953"
             ],
             [
              0.7777777777777778,
              "#fb9f3a"
             ],
             [
              0.8888888888888888,
              "#fdca26"
             ],
             [
              1,
              "#f0f921"
             ]
            ],
            "type": "histogram2d"
           }
          ],
          "histogram2dcontour": [
           {
            "colorbar": {
             "outlinewidth": 0,
             "ticks": ""
            },
            "colorscale": [
             [
              0,
              "#0d0887"
             ],
             [
              0.1111111111111111,
              "#46039f"
             ],
             [
              0.2222222222222222,
              "#7201a8"
             ],
             [
              0.3333333333333333,
              "#9c179e"
             ],
             [
              0.4444444444444444,
              "#bd3786"
             ],
             [
              0.5555555555555556,
              "#d8576b"
             ],
             [
              0.6666666666666666,
              "#ed7953"
             ],
             [
              0.7777777777777778,
              "#fb9f3a"
             ],
             [
              0.8888888888888888,
              "#fdca26"
             ],
             [
              1,
              "#f0f921"
             ]
            ],
            "type": "histogram2dcontour"
           }
          ],
          "mesh3d": [
           {
            "colorbar": {
             "outlinewidth": 0,
             "ticks": ""
            },
            "type": "mesh3d"
           }
          ],
          "parcoords": [
           {
            "line": {
             "colorbar": {
              "outlinewidth": 0,
              "ticks": ""
             }
            },
            "type": "parcoords"
           }
          ],
          "pie": [
           {
            "automargin": true,
            "type": "pie"
           }
          ],
          "scatter": [
           {
            "fillpattern": {
             "fillmode": "overlay",
             "size": 10,
             "solidity": 0.2
            },
            "type": "scatter"
           }
          ],
          "scatter3d": [
           {
            "line": {
             "colorbar": {
              "outlinewidth": 0,
              "ticks": ""
             }
            },
            "marker": {
             "colorbar": {
              "outlinewidth": 0,
              "ticks": ""
             }
            },
            "type": "scatter3d"
           }
          ],
          "scattercarpet": [
           {
            "marker": {
             "colorbar": {
              "outlinewidth": 0,
              "ticks": ""
             }
            },
            "type": "scattercarpet"
           }
          ],
          "scattergeo": [
           {
            "marker": {
             "colorbar": {
              "outlinewidth": 0,
              "ticks": ""
             }
            },
            "type": "scattergeo"
           }
          ],
          "scattergl": [
           {
            "marker": {
             "colorbar": {
              "outlinewidth": 0,
              "ticks": ""
             }
            },
            "type": "scattergl"
           }
          ],
          "scattermap": [
           {
            "marker": {
             "colorbar": {
              "outlinewidth": 0,
              "ticks": ""
             }
            },
            "type": "scattermap"
           }
          ],
          "scattermapbox": [
           {
            "marker": {
             "colorbar": {
              "outlinewidth": 0,
              "ticks": ""
             }
            },
            "type": "scattermapbox"
           }
          ],
          "scatterpolar": [
           {
            "marker": {
             "colorbar": {
              "outlinewidth": 0,
              "ticks": ""
             }
            },
            "type": "scatterpolar"
           }
          ],
          "scatterpolargl": [
           {
            "marker": {
             "colorbar": {
              "outlinewidth": 0,
              "ticks": ""
             }
            },
            "type": "scatterpolargl"
           }
          ],
          "scatterternary": [
           {
            "marker": {
             "colorbar": {
              "outlinewidth": 0,
              "ticks": ""
             }
            },
            "type": "scatterternary"
           }
          ],
          "surface": [
           {
            "colorbar": {
             "outlinewidth": 0,
             "ticks": ""
            },
            "colorscale": [
             [
              0,
              "#0d0887"
             ],
             [
              0.1111111111111111,
              "#46039f"
             ],
             [
              0.2222222222222222,
              "#7201a8"
             ],
             [
              0.3333333333333333,
              "#9c179e"
             ],
             [
              0.4444444444444444,
              "#bd3786"
             ],
             [
              0.5555555555555556,
              "#d8576b"
             ],
             [
              0.6666666666666666,
              "#ed7953"
             ],
             [
              0.7777777777777778,
              "#fb9f3a"
             ],
             [
              0.8888888888888888,
              "#fdca26"
             ],
             [
              1,
              "#f0f921"
             ]
            ],
            "type": "surface"
           }
          ],
          "table": [
           {
            "cells": {
             "fill": {
              "color": "#EBF0F8"
             },
             "line": {
              "color": "white"
             }
            },
            "header": {
             "fill": {
              "color": "#C8D4E3"
             },
             "line": {
              "color": "white"
             }
            },
            "type": "table"
           }
          ]
         },
         "layout": {
          "annotationdefaults": {
           "arrowcolor": "#2a3f5f",
           "arrowhead": 0,
           "arrowwidth": 1
          },
          "autotypenumbers": "strict",
          "coloraxis": {
           "colorbar": {
            "outlinewidth": 0,
            "ticks": ""
           }
          },
          "colorscale": {
           "diverging": [
            [
             0,
             "#8e0152"
            ],
            [
             0.1,
             "#c51b7d"
            ],
            [
             0.2,
             "#de77ae"
            ],
            [
             0.3,
             "#f1b6da"
            ],
            [
             0.4,
             "#fde0ef"
            ],
            [
             0.5,
             "#f7f7f7"
            ],
            [
             0.6,
             "#e6f5d0"
            ],
            [
             0.7,
             "#b8e186"
            ],
            [
             0.8,
             "#7fbc41"
            ],
            [
             0.9,
             "#4d9221"
            ],
            [
             1,
             "#276419"
            ]
           ],
           "sequential": [
            [
             0,
             "#0d0887"
            ],
            [
             0.1111111111111111,
             "#46039f"
            ],
            [
             0.2222222222222222,
             "#7201a8"
            ],
            [
             0.3333333333333333,
             "#9c179e"
            ],
            [
             0.4444444444444444,
             "#bd3786"
            ],
            [
             0.5555555555555556,
             "#d8576b"
            ],
            [
             0.6666666666666666,
             "#ed7953"
            ],
            [
             0.7777777777777778,
             "#fb9f3a"
            ],
            [
             0.8888888888888888,
             "#fdca26"
            ],
            [
             1,
             "#f0f921"
            ]
           ],
           "sequentialminus": [
            [
             0,
             "#0d0887"
            ],
            [
             0.1111111111111111,
             "#46039f"
            ],
            [
             0.2222222222222222,
             "#7201a8"
            ],
            [
             0.3333333333333333,
             "#9c179e"
            ],
            [
             0.4444444444444444,
             "#bd3786"
            ],
            [
             0.5555555555555556,
             "#d8576b"
            ],
            [
             0.6666666666666666,
             "#ed7953"
            ],
            [
             0.7777777777777778,
             "#fb9f3a"
            ],
            [
             0.8888888888888888,
             "#fdca26"
            ],
            [
             1,
             "#f0f921"
            ]
           ]
          },
          "colorway": [
           "#636efa",
           "#EF553B",
           "#00cc96",
           "#ab63fa",
           "#FFA15A",
           "#19d3f3",
           "#FF6692",
           "#B6E880",
           "#FF97FF",
           "#FECB52"
          ],
          "font": {
           "color": "#2a3f5f"
          },
          "geo": {
           "bgcolor": "white",
           "lakecolor": "white",
           "landcolor": "#E5ECF6",
           "showlakes": true,
           "showland": true,
           "subunitcolor": "white"
          },
          "hoverlabel": {
           "align": "left"
          },
          "hovermode": "closest",
          "mapbox": {
           "style": "light"
          },
          "paper_bgcolor": "white",
          "plot_bgcolor": "#E5ECF6",
          "polar": {
           "angularaxis": {
            "gridcolor": "white",
            "linecolor": "white",
            "ticks": ""
           },
           "bgcolor": "#E5ECF6",
           "radialaxis": {
            "gridcolor": "white",
            "linecolor": "white",
            "ticks": ""
           }
          },
          "scene": {
           "xaxis": {
            "backgroundcolor": "#E5ECF6",
            "gridcolor": "white",
            "gridwidth": 2,
            "linecolor": "white",
            "showbackground": true,
            "ticks": "",
            "zerolinecolor": "white"
           },
           "yaxis": {
            "backgroundcolor": "#E5ECF6",
            "gridcolor": "white",
            "gridwidth": 2,
            "linecolor": "white",
            "showbackground": true,
            "ticks": "",
            "zerolinecolor": "white"
           },
           "zaxis": {
            "backgroundcolor": "#E5ECF6",
            "gridcolor": "white",
            "gridwidth": 2,
            "linecolor": "white",
            "showbackground": true,
            "ticks": "",
            "zerolinecolor": "white"
           }
          },
          "shapedefaults": {
           "line": {
            "color": "#2a3f5f"
           }
          },
          "ternary": {
           "aaxis": {
            "gridcolor": "white",
            "linecolor": "white",
            "ticks": ""
           },
           "baxis": {
            "gridcolor": "white",
            "linecolor": "white",
            "ticks": ""
           },
           "bgcolor": "#E5ECF6",
           "caxis": {
            "gridcolor": "white",
            "linecolor": "white",
            "ticks": ""
           }
          },
          "title": {
           "x": 0.05
          },
          "xaxis": {
           "automargin": true,
           "gridcolor": "white",
           "linecolor": "white",
           "ticks": "",
           "title": {
            "standoff": 15
           },
           "zerolinecolor": "white",
           "zerolinewidth": 2
          },
          "yaxis": {
           "automargin": true,
           "gridcolor": "white",
           "linecolor": "white",
           "ticks": "",
           "title": {
            "standoff": 15
           },
           "zerolinecolor": "white",
           "zerolinewidth": 2
          }
         }
        },
        "xaxis": {
         "anchor": "y",
         "domain": [
          0,
          1
         ],
         "title": {
          "text": "Time"
         }
        },
        "yaxis": {
         "anchor": "x",
         "domain": [
          0,
          1
         ],
         "title": {
          "text": "value"
         }
        }
       }
      },
      "text/html": [
       "<div>            <script src=\"https://cdnjs.cloudflare.com/ajax/libs/mathjax/2.7.5/MathJax.js?config=TeX-AMS-MML_SVG\"></script><script type=\"text/javascript\">if (window.MathJax && window.MathJax.Hub && window.MathJax.Hub.Config) {window.MathJax.Hub.Config({SVG: {font: \"STIX-Web\"}});}</script>                <script type=\"text/javascript\">window.PlotlyConfig = {MathJaxConfig: 'local'};</script>\n",
       "        <script charset=\"utf-8\" src=\"https://cdn.plot.ly/plotly-3.0.0.min.js\"></script>                <div id=\"00d21bc5-d8e8-42ca-90a3-7d77656163cb\" class=\"plotly-graph-div\" style=\"height:525px; width:100%;\"></div>            <script type=\"text/javascript\">                window.PLOTLYENV=window.PLOTLYENV || {};                                if (document.getElementById(\"00d21bc5-d8e8-42ca-90a3-7d77656163cb\")) {                    Plotly.newPlot(                        \"00d21bc5-d8e8-42ca-90a3-7d77656163cb\",                        [{\"hovertemplate\":\"variable=Food production\\u003cbr\\u003eTime=%{x}\\u003cbr\\u003evalue=%{y}\\u003cextra\\u003e\\u003c\\u002fextra\\u003e\",\"legendgroup\":\"Food production\",\"line\":{\"color\":\"#636efa\",\"dash\":\"solid\"},\"marker\":{\"symbol\":\"circle\"},\"mode\":\"lines\",\"name\":\"Food production\",\"orientation\":\"v\",\"showlegend\":true,\"x\":{\"dtype\":\"f8\",\"bdata\":\"AAAAAAAAAABuOuVhxAQ7QG465WHEBEtA0utrSZNDVEBuOuVhxARbQIVEL7364mBA0utrSZNDZEAgk6jVK6RnQG465WHEBGtAvOEh7lxlbkCFRC+9+uJwQCyYTQNHk3JA0utrSZNDdEB5P4qP3\\u002fN1QCCTqNUrpHdAx+bGG3hUeUBuOuVhxAR7QBWOA6gQtXxAvOEh7lxlfkCxGiCa1AqAQIVEL7364oBAWG4+4CC7gUAsmE0DR5OCQP\\u002fBXCZta4NA0utrSZNDhECmFXtsuRuFQHk\\u002fio\\u002ff84VATWmZsgXMhkAgk6jVK6SHQPS8t\\u002fhRfIhAx+bGG3hUiUCbENY+niyKQG465WHEBItAQWT0hOrci0AVjgOoELWMQOi3Ess2jY1AvOEh7lxljkCPCzERgz2PQLEaIJrUCpBAm6+nq+d2kECFRC+9+uKQQG7Zts4NT5FAWG4+4CC7kUBCA8bxMyeSQCyYTQNHk5JAFS3VFFr\\u002fkkD\\u002fwVwmbWuTQOlW5DeA15NA0utrSZNDlEC8gPNapq+UQKYVe2y5G5VAkKoCfsyHlUB5P4qP3\\u002fOVQGPUEaHyX5ZATWmZsgXMlkA3\\u002fiDEGDiXQCCTqNUrpJdACigw5z4QmED0vLf4UXyYQN1RPwpl6JhAx+bGG3hUmUCxe04ti8CZQJsQ1j6eLJpAhKVdULGYmkBuOuVhxASbQFjPbHPXcJtAQWT0hOrcm0Ar+XuW\\u002fUicQBWOA6gQtZxA\\u002fyKLuSMhnUDotxLLNo2dQNJMmtxJ+Z1AvOEh7lxlnkCldqn\\u002fb9GeQI8LMRGDPZ9AeaC4Ipapn0CxGiCa1AqgQCbl4yLeQKBAm6+nq+d2oEAQems08aygQIVEL7364qBA+g7zRQQZoUBu2bbODU+hQOOjelcXhaFAWG4+4CC7oUDNOAJpKvGhQEIDxvEzJ6JAt82Jej1dokAsmE0DR5OiQKBiEYxQyaJAFS3VFFr\\u002fokCK95idYzWjQP\\u002fBXCZta6NAdIwgr3aho0DpVuQ3gNejQF4hqMCJDaRA0utrSZNDpEBHti\\u002fSnHmkQLyA81qmr6RAMUu346\\u002flpEA=\"},\"xaxis\":\"x\",\"y\":{\"dtype\":\"f8\",\"bdata\":\"AAAAAAAAJECmFXtsuS+lQKYVe2y5JbVAeKC4Ipazv0CmFXtsuSDFQBDbmcenZ8pAeKC4Ipauz0Dxsus+wnrSQKYVe2w5HtVAW3gKmrDB10AQ25nHJ2XaQMU9KfWeCN1AeKC4Ihas30CXASSoxifhQPGy6z6CeeJAS2Sz1T3L40CmFXts+RzlQADHQgO1buZAW3gKmnDA50C1KdIwLBLpQBDbmcfnY+pAaoxhXqO160DFPSn1XgftQB7v8IsaWe5AeKC4Itaq70DqKMDcSH7wQJcBJKgmJ\\u002fFARNqHcwTQ8UDxsus+4njyQJ+LTwrAIfNAS2Sz1Z3K80D5PBehe3P0QKYVe2xZHPVAU+7eNzfF9UAAx0IDFW72QK2fps7yFvdAW3gKmtC\\u002f90AIUW5lrmj4QLUp0jCMEflAYgI2\\u002fGm6+UAQ25nHR2P6QLyz\\u002fZIlDPtAaoxhXgO1+0AXZcUp4V38QMU9KfW+Bv1AcRaNwJyv\\u002fUAe7\\u002fCLelj+QMzHVFdYAf9AeKC4Ijaq\\u002f0CTPA73iSkAQeoowNz4fQBBQBVywmfSAEGXASSo1iYBQe3t1Y1FewFBRNqHc7TPAUGbxjlZIyQCQfGy6z6SeAJBSJ+dJAHNAkGfi08KcCEDQfV3AfDedQNBS2Sz1U3KA0GiUGW7vB4EQfk8F6ErcwRBTynJhprHBEGmFXtsCRwFQf0BLVJ4cAVBU+7eN+fEBUGq2pAdVhkGQQDHQgPFbQZBV7P06DPCBkGtn6bOohYHQQSMWLQRawdBW3gKmoC\\u002fB0GxZLx\\u002f7xMIQQhRbmVeaAhBXz0gS828CEG1KdIwPBEJQQsWhBarZQlBYgI2\\u002fBm6CUG57ufhiA4KQRDbmcf3YgpBZ8dLrWa3CkG8s\\u002f2S1QsLQROgr3hEYAtBaoxhXrO0C0HAeBNEIgkMQRdlxSmRXQxBblF3DwCyDEHFPSn1bgYNQRoq29rdWg1BcRaNwEyvDUHIAj+muwMOQR7v8IsqWA5BdduicZmsDkHMx1RXCAEPQSO0Bj13VQ9BeKC4IuapD0HPjGoIVf4PQZM8DvdhKRBBvjLnaZlTEEE=\"},\"yaxis\":\"y\",\"type\":\"scatter\"},{\"hovertemplate\":\"variable=Brazil\\u003cbr\\u003eTime=%{x}\\u003cbr\\u003evalue=%{y}\\u003cextra\\u003e\\u003c\\u002fextra\\u003e\",\"legendgroup\":\"Brazil\",\"line\":{\"color\":\"#EF553B\",\"dash\":\"solid\"},\"marker\":{\"symbol\":\"circle\"},\"mode\":\"lines\",\"name\":\"Brazil\",\"orientation\":\"v\",\"showlegend\":true,\"x\":{\"dtype\":\"f8\",\"bdata\":\"AAAAAAAAAABuOuVhxAQ7QG465WHEBEtA0utrSZNDVEBuOuVhxARbQIVEL7364mBA0utrSZNDZEAgk6jVK6RnQG465WHEBGtAvOEh7lxlbkCFRC+9+uJwQCyYTQNHk3JA0utrSZNDdEB5P4qP3\\u002fN1QCCTqNUrpHdAx+bGG3hUeUBuOuVhxAR7QBWOA6gQtXxAvOEh7lxlfkCxGiCa1AqAQIVEL7364oBAWG4+4CC7gUAsmE0DR5OCQP\\u002fBXCZta4NA0utrSZNDhECmFXtsuRuFQHk\\u002fio\\u002ff84VATWmZsgXMhkAgk6jVK6SHQPS8t\\u002fhRfIhAx+bGG3hUiUCbENY+niyKQG465WHEBItAQWT0hOrci0AVjgOoELWMQOi3Ess2jY1AvOEh7lxljkCPCzERgz2PQLEaIJrUCpBAm6+nq+d2kECFRC+9+uKQQG7Zts4NT5FAWG4+4CC7kUBCA8bxMyeSQCyYTQNHk5JAFS3VFFr\\u002fkkD\\u002fwVwmbWuTQOlW5DeA15NA0utrSZNDlEC8gPNapq+UQKYVe2y5G5VAkKoCfsyHlUB5P4qP3\\u002fOVQGPUEaHyX5ZATWmZsgXMlkA3\\u002fiDEGDiXQCCTqNUrpJdACigw5z4QmED0vLf4UXyYQN1RPwpl6JhAx+bGG3hUmUCxe04ti8CZQJsQ1j6eLJpAhKVdULGYmkBuOuVhxASbQFjPbHPXcJtAQWT0hOrcm0Ar+XuW\\u002fUicQBWOA6gQtZxA\\u002fyKLuSMhnUDotxLLNo2dQNJMmtxJ+Z1AvOEh7lxlnkCldqn\\u002fb9GeQI8LMRGDPZ9AeaC4Ipapn0CxGiCa1AqgQCbl4yLeQKBAm6+nq+d2oEAQems08aygQIVEL7364qBA+g7zRQQZoUBu2bbODU+hQOOjelcXhaFAWG4+4CC7oUDNOAJpKvGhQEIDxvEzJ6JAt82Jej1dokAsmE0DR5OiQKBiEYxQyaJAFS3VFFr\\u002fokCK95idYzWjQP\\u002fBXCZta6NAdIwgr3aho0DpVuQ3gNejQF4hqMCJDaRA0utrSZNDpEBHti\\u002fSnHmkQLyA81qmr6RAMUu346\\u002flpEA=\"},\"xaxis\":\"x\",\"y\":{\"dtype\":\"f8\",\"bdata\":\"AAAAAAAA8D96TUbVJF3yP29KYhyxE\\u002fU\\u002f69CkOtow+D8F8c0mycP7P1Y4djfk3f8\\u002fRWd37JFJAkBL34DjOf0EQE3k9FERFwhA08jjBTGmC0DFtA7K7LsPQMp7vuATNhJAhEXNnNrmFEChTR\\u002flY\\u002f0XQGprTnC4iBtALBAJkRmaH0Bhht6bqiIiQAdiwS6T0CRAM5jY1tHjJ0B0a25EX2srQHQzzmVqeC9AjjayB1YPMkBkTvJ\\u002fY7o0QOGI9AlbyjdAMzLIYCVOO0CWKfAh31Y\\u002fQK3WKw4W\\u002fEFAzDsQd0ukREDk\\u002fGVh\\u002f7BHQEvZA6QKMUtAwPMpn3c1T0DXMlWZ6uhRQD1W5vpKjlRAnMg+wL6XV0CwBO3sDhRbQJddX7czFF9AyX9Pk9PVYUC+p1ryYXhkQKWWrwmZfmdA2LxyGjL3akDs0ZxEE\\u002fNuQPBBU+bQwnFApPttRJBidEDXxgchjmV3QO1Ipwt02npAMC8XIRbSfkClNLB84q+BQDzCO9jVTIRAn0216Z1Mh0A\\u002fCcCf1L2KQJmcKyc8sY5AUjHNQAidkUAf9PmUMjeUQHWTREfIM5dA9lEVtlOhmkABX18xhZCeQNcWKB1CiqFASfb4YaYhpEBEVGAdDRunQJlFIi7xhKpAG65fGvFvrkAUsVX8j3exQIV9oyYxDLRAK3\\u002fRT2wCt0BEsITnrGi6QCWKAb1\\u002fT75AU6AByfFkwUC9cn7K0vbDQFkWf8Ll6cZAYeL8wYZMykAlkUH0MC\\u002fOQC1B7m1nUtFA0dYoNYvh00DhDm5ZedHWQBCMbZ1+MNpAENVDmwQP3kDyk\\u002fTV8D\\u002fhQNamW05azONA3zDB+Ca55kB7mNtZlBTqQFyxU4367u1A\\u002fyQE7I0t8UCFwOn9P7fzQKb3uITuoPZARglu18f4+UBaoeOlEs\\u002f9QDT0Ips+GwFBbMa\\u002fKzyiA0FEcrPhz4gGQXLSbfYY3QlBaBaNwEyvDUGCXW3OAgkRQZ0E5L9OjRNBiyMs9MpwFkHutUWXh8EZQa9OELmojx1BswAWcdr2IEFAVXaid3gjQULju6DfWCZBfR+CmhOmKUE=\"},\"yaxis\":\"y\",\"type\":\"scatter\"}],                        {\"template\":{\"data\":{\"histogram2dcontour\":[{\"type\":\"histogram2dcontour\",\"colorbar\":{\"outlinewidth\":0,\"ticks\":\"\"},\"colorscale\":[[0.0,\"#0d0887\"],[0.1111111111111111,\"#46039f\"],[0.2222222222222222,\"#7201a8\"],[0.3333333333333333,\"#9c179e\"],[0.4444444444444444,\"#bd3786\"],[0.5555555555555556,\"#d8576b\"],[0.6666666666666666,\"#ed7953\"],[0.7777777777777778,\"#fb9f3a\"],[0.8888888888888888,\"#fdca26\"],[1.0,\"#f0f921\"]]}],\"choropleth\":[{\"type\":\"choropleth\",\"colorbar\":{\"outlinewidth\":0,\"ticks\":\"\"}}],\"histogram2d\":[{\"type\":\"histogram2d\",\"colorbar\":{\"outlinewidth\":0,\"ticks\":\"\"},\"colorscale\":[[0.0,\"#0d0887\"],[0.1111111111111111,\"#46039f\"],[0.2222222222222222,\"#7201a8\"],[0.3333333333333333,\"#9c179e\"],[0.4444444444444444,\"#bd3786\"],[0.5555555555555556,\"#d8576b\"],[0.6666666666666666,\"#ed7953\"],[0.7777777777777778,\"#fb9f3a\"],[0.8888888888888888,\"#fdca26\"],[1.0,\"#f0f921\"]]}],\"heatmap\":[{\"type\":\"heatmap\",\"colorbar\":{\"outlinewidth\":0,\"ticks\":\"\"},\"colorscale\":[[0.0,\"#0d0887\"],[0.1111111111111111,\"#46039f\"],[0.2222222222222222,\"#7201a8\"],[0.3333333333333333,\"#9c179e\"],[0.4444444444444444,\"#bd3786\"],[0.5555555555555556,\"#d8576b\"],[0.6666666666666666,\"#ed7953\"],[0.7777777777777778,\"#fb9f3a\"],[0.8888888888888888,\"#fdca26\"],[1.0,\"#f0f921\"]]}],\"contourcarpet\":[{\"type\":\"contourcarpet\",\"colorbar\":{\"outlinewidth\":0,\"ticks\":\"\"}}],\"contour\":[{\"type\":\"contour\",\"colorbar\":{\"outlinewidth\":0,\"ticks\":\"\"},\"colorscale\":[[0.0,\"#0d0887\"],[0.1111111111111111,\"#46039f\"],[0.2222222222222222,\"#7201a8\"],[0.3333333333333333,\"#9c179e\"],[0.4444444444444444,\"#bd3786\"],[0.5555555555555556,\"#d8576b\"],[0.6666666666666666,\"#ed7953\"],[0.7777777777777778,\"#fb9f3a\"],[0.8888888888888888,\"#fdca26\"],[1.0,\"#f0f921\"]]}],\"surface\":[{\"type\":\"surface\",\"colorbar\":{\"outlinewidth\":0,\"ticks\":\"\"},\"colorscale\":[[0.0,\"#0d0887\"],[0.1111111111111111,\"#46039f\"],[0.2222222222222222,\"#7201a8\"],[0.3333333333333333,\"#9c179e\"],[0.4444444444444444,\"#bd3786\"],[0.5555555555555556,\"#d8576b\"],[0.6666666666666666,\"#ed7953\"],[0.7777777777777778,\"#fb9f3a\"],[0.8888888888888888,\"#fdca26\"],[1.0,\"#f0f921\"]]}],\"mesh3d\":[{\"type\":\"mesh3d\",\"colorbar\":{\"outlinewidth\":0,\"ticks\":\"\"}}],\"scatter\":[{\"fillpattern\":{\"fillmode\":\"overlay\",\"size\":10,\"solidity\":0.2},\"type\":\"scatter\"}],\"parcoords\":[{\"type\":\"parcoords\",\"line\":{\"colorbar\":{\"outlinewidth\":0,\"ticks\":\"\"}}}],\"scatterpolargl\":[{\"type\":\"scatterpolargl\",\"marker\":{\"colorbar\":{\"outlinewidth\":0,\"ticks\":\"\"}}}],\"bar\":[{\"error_x\":{\"color\":\"#2a3f5f\"},\"error_y\":{\"color\":\"#2a3f5f\"},\"marker\":{\"line\":{\"color\":\"#E5ECF6\",\"width\":0.5},\"pattern\":{\"fillmode\":\"overlay\",\"size\":10,\"solidity\":0.2}},\"type\":\"bar\"}],\"scattergeo\":[{\"type\":\"scattergeo\",\"marker\":{\"colorbar\":{\"outlinewidth\":0,\"ticks\":\"\"}}}],\"scatterpolar\":[{\"type\":\"scatterpolar\",\"marker\":{\"colorbar\":{\"outlinewidth\":0,\"ticks\":\"\"}}}],\"histogram\":[{\"marker\":{\"pattern\":{\"fillmode\":\"overlay\",\"size\":10,\"solidity\":0.2}},\"type\":\"histogram\"}],\"scattergl\":[{\"type\":\"scattergl\",\"marker\":{\"colorbar\":{\"outlinewidth\":0,\"ticks\":\"\"}}}],\"scatter3d\":[{\"type\":\"scatter3d\",\"line\":{\"colorbar\":{\"outlinewidth\":0,\"ticks\":\"\"}},\"marker\":{\"colorbar\":{\"outlinewidth\":0,\"ticks\":\"\"}}}],\"scattermap\":[{\"type\":\"scattermap\",\"marker\":{\"colorbar\":{\"outlinewidth\":0,\"ticks\":\"\"}}}],\"scattermapbox\":[{\"type\":\"scattermapbox\",\"marker\":{\"colorbar\":{\"outlinewidth\":0,\"ticks\":\"\"}}}],\"scatterternary\":[{\"type\":\"scatterternary\",\"marker\":{\"colorbar\":{\"outlinewidth\":0,\"ticks\":\"\"}}}],\"scattercarpet\":[{\"type\":\"scattercarpet\",\"marker\":{\"colorbar\":{\"outlinewidth\":0,\"ticks\":\"\"}}}],\"carpet\":[{\"aaxis\":{\"endlinecolor\":\"#2a3f5f\",\"gridcolor\":\"white\",\"linecolor\":\"white\",\"minorgridcolor\":\"white\",\"startlinecolor\":\"#2a3f5f\"},\"baxis\":{\"endlinecolor\":\"#2a3f5f\",\"gridcolor\":\"white\",\"linecolor\":\"white\",\"minorgridcolor\":\"white\",\"startlinecolor\":\"#2a3f5f\"},\"type\":\"carpet\"}],\"table\":[{\"cells\":{\"fill\":{\"color\":\"#EBF0F8\"},\"line\":{\"color\":\"white\"}},\"header\":{\"fill\":{\"color\":\"#C8D4E3\"},\"line\":{\"color\":\"white\"}},\"type\":\"table\"}],\"barpolar\":[{\"marker\":{\"line\":{\"color\":\"#E5ECF6\",\"width\":0.5},\"pattern\":{\"fillmode\":\"overlay\",\"size\":10,\"solidity\":0.2}},\"type\":\"barpolar\"}],\"pie\":[{\"automargin\":true,\"type\":\"pie\"}]},\"layout\":{\"autotypenumbers\":\"strict\",\"colorway\":[\"#636efa\",\"#EF553B\",\"#00cc96\",\"#ab63fa\",\"#FFA15A\",\"#19d3f3\",\"#FF6692\",\"#B6E880\",\"#FF97FF\",\"#FECB52\"],\"font\":{\"color\":\"#2a3f5f\"},\"hovermode\":\"closest\",\"hoverlabel\":{\"align\":\"left\"},\"paper_bgcolor\":\"white\",\"plot_bgcolor\":\"#E5ECF6\",\"polar\":{\"bgcolor\":\"#E5ECF6\",\"angularaxis\":{\"gridcolor\":\"white\",\"linecolor\":\"white\",\"ticks\":\"\"},\"radialaxis\":{\"gridcolor\":\"white\",\"linecolor\":\"white\",\"ticks\":\"\"}},\"ternary\":{\"bgcolor\":\"#E5ECF6\",\"aaxis\":{\"gridcolor\":\"white\",\"linecolor\":\"white\",\"ticks\":\"\"},\"baxis\":{\"gridcolor\":\"white\",\"linecolor\":\"white\",\"ticks\":\"\"},\"caxis\":{\"gridcolor\":\"white\",\"linecolor\":\"white\",\"ticks\":\"\"}},\"coloraxis\":{\"colorbar\":{\"outlinewidth\":0,\"ticks\":\"\"}},\"colorscale\":{\"sequential\":[[0.0,\"#0d0887\"],[0.1111111111111111,\"#46039f\"],[0.2222222222222222,\"#7201a8\"],[0.3333333333333333,\"#9c179e\"],[0.4444444444444444,\"#bd3786\"],[0.5555555555555556,\"#d8576b\"],[0.6666666666666666,\"#ed7953\"],[0.7777777777777778,\"#fb9f3a\"],[0.8888888888888888,\"#fdca26\"],[1.0,\"#f0f921\"]],\"sequentialminus\":[[0.0,\"#0d0887\"],[0.1111111111111111,\"#46039f\"],[0.2222222222222222,\"#7201a8\"],[0.3333333333333333,\"#9c179e\"],[0.4444444444444444,\"#bd3786\"],[0.5555555555555556,\"#d8576b\"],[0.6666666666666666,\"#ed7953\"],[0.7777777777777778,\"#fb9f3a\"],[0.8888888888888888,\"#fdca26\"],[1.0,\"#f0f921\"]],\"diverging\":[[0,\"#8e0152\"],[0.1,\"#c51b7d\"],[0.2,\"#de77ae\"],[0.3,\"#f1b6da\"],[0.4,\"#fde0ef\"],[0.5,\"#f7f7f7\"],[0.6,\"#e6f5d0\"],[0.7,\"#b8e186\"],[0.8,\"#7fbc41\"],[0.9,\"#4d9221\"],[1,\"#276419\"]]},\"xaxis\":{\"gridcolor\":\"white\",\"linecolor\":\"white\",\"ticks\":\"\",\"title\":{\"standoff\":15},\"zerolinecolor\":\"white\",\"automargin\":true,\"zerolinewidth\":2},\"yaxis\":{\"gridcolor\":\"white\",\"linecolor\":\"white\",\"ticks\":\"\",\"title\":{\"standoff\":15},\"zerolinecolor\":\"white\",\"automargin\":true,\"zerolinewidth\":2},\"scene\":{\"xaxis\":{\"backgroundcolor\":\"#E5ECF6\",\"gridcolor\":\"white\",\"linecolor\":\"white\",\"showbackground\":true,\"ticks\":\"\",\"zerolinecolor\":\"white\",\"gridwidth\":2},\"yaxis\":{\"backgroundcolor\":\"#E5ECF6\",\"gridcolor\":\"white\",\"linecolor\":\"white\",\"showbackground\":true,\"ticks\":\"\",\"zerolinecolor\":\"white\",\"gridwidth\":2},\"zaxis\":{\"backgroundcolor\":\"#E5ECF6\",\"gridcolor\":\"white\",\"linecolor\":\"white\",\"showbackground\":true,\"ticks\":\"\",\"zerolinecolor\":\"white\",\"gridwidth\":2}},\"shapedefaults\":{\"line\":{\"color\":\"#2a3f5f\"}},\"annotationdefaults\":{\"arrowcolor\":\"#2a3f5f\",\"arrowhead\":0,\"arrowwidth\":1},\"geo\":{\"bgcolor\":\"white\",\"landcolor\":\"#E5ECF6\",\"subunitcolor\":\"white\",\"showland\":true,\"showlakes\":true,\"lakecolor\":\"white\"},\"title\":{\"x\":0.05},\"mapbox\":{\"style\":\"light\"}}},\"xaxis\":{\"anchor\":\"y\",\"domain\":[0.0,1.0],\"title\":{\"text\":\"Time\"}},\"yaxis\":{\"anchor\":\"x\",\"domain\":[0.0,1.0],\"title\":{\"text\":\"value\"}},\"legend\":{\"title\":{\"text\":\"variable\"},\"tracegroupgap\":0},\"margin\":{\"t\":60}},                        {\"responsive\": true}                    ).then(function(){\n",
       "                            \n",
       "var gd = document.getElementById('00d21bc5-d8e8-42ca-90a3-7d77656163cb');\n",
       "var x = new MutationObserver(function (mutations, observer) {{\n",
       "        var display = window.getComputedStyle(gd).display;\n",
       "        if (!display || display === 'none') {{\n",
       "            console.log([gd, 'removed!']);\n",
       "            Plotly.purge(gd);\n",
       "            observer.disconnect();\n",
       "        }}\n",
       "}});\n",
       "\n",
       "// Listen for the removal of the full notebook cells\n",
       "var notebookContainer = gd.closest('#notebook-container');\n",
       "if (notebookContainer) {{\n",
       "    x.observe(notebookContainer, {childList: true});\n",
       "}}\n",
       "\n",
       "// Listen for the clearing of the current output cell\n",
       "var outputEl = gd.closest('.output');\n",
       "if (outputEl) {{\n",
       "    x.observe(outputEl, {childList: true});\n",
       "}}\n",
       "\n",
       "                        })                };            </script>        </div>"
      ]
     },
     "metadata": {},
     "output_type": "display_data"
    }
   ],
   "source": [
    "import numpy as np\n",
    "import pandas as pd\n",
    "from scipy.optimize import newton\n",
    "import pandas as pd\n",
    "pd.options.plotting.backend = 'plotly'\n",
    "\n",
    "# Play with these constants\n",
    "## for exponential\n",
    "P0 = 1\n",
    "r = 0.0051  # Rate of population growth\n",
    "\n",
    "## for line\n",
    "F0 = 10\n",
    "m = 100\n",
    "\n",
    "def food_production(t,m=m):\n",
    "    return F0+m*t\n",
    "\n",
    "def population(t,r=r):\n",
    "    return P0*np.exp(r*t)\n",
    "\n",
    "def choose_xaxis(r,m,x0=10):\n",
    "    \"\"\"\n",
    "    Find a range of x so that curves intersect\n",
    "    \"\"\"\n",
    "    tstar = -1\n",
    "    try:\n",
    "        while tstar <= 0:\n",
    "            tstar = newton(lambda t: food_production(t,m) - population(t,r),x0,maxiter=1000)\n",
    "            x0 = x0*10\n",
    "        return np.linspace(0,tstar*1.1,100)\n",
    "    except RuntimeError: # Failed to find root\n",
    "        return np.linspace(0,1000,100)\n",
    "\n",
    "T = choose_xaxis(r,m)\n",
    "\n",
    "df = pd.DataFrame({'Time': T,\n",
    "                   'Food production':[food_production(t) for t in T],\n",
    "                   'Brazil':[population(t) for t in T]}).set_index('Time')\n",
    "df.plot()"
   ]
  },
  {
   "cell_type": "code",
   "execution_count": 21,
   "id": "cb26149e-ec4b-49e6-a6a6-382eebdde304",
   "metadata": {},
   "outputs": [
    {
     "data": {
      "application/vnd.plotly.v1+json": {
       "config": {
        "plotlyServerURL": "https://plot.ly"
       },
       "data": [
        {
         "hovertemplate": "country=Bolivia<br>date=%{x}<br>Country's Forest (%)=%{y}<extra></extra>",
         "legendgroup": "Bolivia",
         "line": {
          "color": "#636efa",
          "dash": "solid"
         },
         "marker": {
          "symbol": "circle"
         },
         "mode": "lines",
         "name": "Bolivia",
         "orientation": "v",
         "showlegend": true,
         "type": "scatter",
         "x": [
          "1990-01-01T00:00:00.000000000",
          "1991-01-01T00:00:00.000000000",
          "1992-01-01T00:00:00.000000000",
          "1993-01-01T00:00:00.000000000",
          "1994-01-01T00:00:00.000000000",
          "1995-01-01T00:00:00.000000000",
          "1996-01-01T00:00:00.000000000",
          "1997-01-01T00:00:00.000000000",
          "1998-01-01T00:00:00.000000000",
          "1999-01-01T00:00:00.000000000",
          "2000-01-01T00:00:00.000000000",
          "2001-01-01T00:00:00.000000000",
          "2002-01-01T00:00:00.000000000",
          "2003-01-01T00:00:00.000000000",
          "2004-01-01T00:00:00.000000000",
          "2005-01-01T00:00:00.000000000",
          "2006-01-01T00:00:00.000000000",
          "2007-01-01T00:00:00.000000000",
          "2008-01-01T00:00:00.000000000",
          "2009-01-01T00:00:00.000000000",
          "2010-01-01T00:00:00.000000000",
          "2011-01-01T00:00:00.000000000",
          "2012-01-01T00:00:00.000000000",
          "2013-01-01T00:00:00.000000000",
          "2014-01-01T00:00:00.000000000",
          "2015-01-01T00:00:00.000000000",
          "2016-01-01T00:00:00.000000000",
          "2017-01-01T00:00:00.000000000",
          "2018-01-01T00:00:00.000000000",
          "2019-01-01T00:00:00.000000000",
          "2020-01-01T00:00:00.000000000",
          "2021-01-01T00:00:00.000000000",
          "2022-01-01T00:00:00.000000000",
          "2023-01-01T00:00:00.000000000"
         ],
         "xaxis": "x",
         "y": {
          "bdata": "VuD1ZQ+uSkAj2MtHHo5KQP7PoSktbkpAy8d3CzxOSkCmv03tSi5KQHO3I89ZDkpATq/5sGjuSUAbp8+Sd85JQPaepXSGrklAw5Z7VpWOSUCejlE4pG5JQAYA9wjUVklAfXGc2QM/SUDz4kGqMydJQGlU53pjD0lA0cWMS5P3SEBINzIcw99IQL6o1+zyx0hANBp9vSKwSECqiyKOUphIQBP9x16CgEhAYbQnDH1nSECwa4e5d05IQA0j52ZyNUhAXNpGFG0cSECrkabBZwNIQAXIJ+O64kdAffdh6DDER0ASKFQq9KdHQCds3UMFjkdAS7EemmN2R0BWjPgcOV1HQMJYF4IURUdAAAAAAAAA+H8=",
          "dtype": "f8"
         },
         "yaxis": "y"
        },
        {
         "hovertemplate": "country=Brazil<br>date=%{x}<br>Country's Forest (%)=%{y}<extra></extra>",
         "legendgroup": "Brazil",
         "line": {
          "color": "#EF553B",
          "dash": "solid"
         },
         "marker": {
          "symbol": "circle"
         },
         "mode": "lines",
         "name": "Brazil",
         "orientation": "v",
         "showlegend": true,
         "type": "scatter",
         "x": [
          "1990-01-01T00:00:00.000000000",
          "1991-01-01T00:00:00.000000000",
          "1992-01-01T00:00:00.000000000",
          "1993-01-01T00:00:00.000000000",
          "1994-01-01T00:00:00.000000000",
          "1995-01-01T00:00:00.000000000",
          "1996-01-01T00:00:00.000000000",
          "1997-01-01T00:00:00.000000000",
          "1998-01-01T00:00:00.000000000",
          "1999-01-01T00:00:00.000000000",
          "2000-01-01T00:00:00.000000000",
          "2001-01-01T00:00:00.000000000",
          "2002-01-01T00:00:00.000000000",
          "2003-01-01T00:00:00.000000000",
          "2004-01-01T00:00:00.000000000",
          "2005-01-01T00:00:00.000000000",
          "2006-01-01T00:00:00.000000000",
          "2007-01-01T00:00:00.000000000",
          "2008-01-01T00:00:00.000000000",
          "2009-01-01T00:00:00.000000000",
          "2010-01-01T00:00:00.000000000",
          "2011-01-01T00:00:00.000000000",
          "2012-01-01T00:00:00.000000000",
          "2013-01-01T00:00:00.000000000",
          "2014-01-01T00:00:00.000000000",
          "2015-01-01T00:00:00.000000000",
          "2016-01-01T00:00:00.000000000",
          "2017-01-01T00:00:00.000000000",
          "2018-01-01T00:00:00.000000000",
          "2019-01-01T00:00:00.000000000",
          "2020-01-01T00:00:00.000000000",
          "2021-01-01T00:00:00.000000000",
          "2022-01-01T00:00:00.000000000",
          "2023-01-01T00:00:00.000000000"
         ],
         "xaxis": "x",
         "y": {
          "bdata": "KDt8NVCdUUAgfiOkXIBRQBjByhJpY1FACARygXVGUUAARxnwgSlRQPiJwF6ODFFA6cxnzZrvUEDhDw88p9JQQNlStqqztVBAypVdGcCYUEDB2ASIzHtQQJouGASMXVBAe4QrgEs/UEBN2j78CiFQQC0wUnjKAlBACwzL6BPJT0C9t/HgkoxPQG9jGNkRUE9AMA8/0ZATT0DiumXJD9dOQJRmjMGOmk5AwSTDavyCTkDv4vkTamtOQByhML3XU05ASl9nZkU8TkB3HZ4PsyROQBVBOJgXCU5AVp473JvqTUBGAWLErdpNQB32LMl9x01ACqW462+1TUC5vSGloKJNQOtuO09SkE1AAAAAAAAA+H8=",
          "dtype": "f8"
         },
         "yaxis": "y"
        },
        {
         "hovertemplate": "country=Ecuador<br>date=%{x}<br>Country's Forest (%)=%{y}<extra></extra>",
         "legendgroup": "Ecuador",
         "line": {
          "color": "#00cc96",
          "dash": "solid"
         },
         "marker": {
          "symbol": "circle"
         },
         "mode": "lines",
         "name": "Ecuador",
         "orientation": "v",
         "showlegend": true,
         "type": "scatter",
         "x": [
          "1990-01-01T00:00:00.000000000",
          "1991-01-01T00:00:00.000000000",
          "1992-01-01T00:00:00.000000000",
          "1993-01-01T00:00:00.000000000",
          "1994-01-01T00:00:00.000000000",
          "1995-01-01T00:00:00.000000000",
          "1996-01-01T00:00:00.000000000",
          "1997-01-01T00:00:00.000000000",
          "1998-01-01T00:00:00.000000000",
          "1999-01-01T00:00:00.000000000",
          "2000-01-01T00:00:00.000000000",
          "2001-01-01T00:00:00.000000000",
          "2002-01-01T00:00:00.000000000",
          "2003-01-01T00:00:00.000000000",
          "2004-01-01T00:00:00.000000000",
          "2005-01-01T00:00:00.000000000",
          "2006-01-01T00:00:00.000000000",
          "2007-01-01T00:00:00.000000000",
          "2008-01-01T00:00:00.000000000",
          "2009-01-01T00:00:00.000000000",
          "2010-01-01T00:00:00.000000000",
          "2011-01-01T00:00:00.000000000",
          "2012-01-01T00:00:00.000000000",
          "2013-01-01T00:00:00.000000000",
          "2014-01-01T00:00:00.000000000",
          "2015-01-01T00:00:00.000000000",
          "2016-01-01T00:00:00.000000000",
          "2017-01-01T00:00:00.000000000",
          "2018-01-01T00:00:00.000000000",
          "2019-01-01T00:00:00.000000000",
          "2020-01-01T00:00:00.000000000",
          "2021-01-01T00:00:00.000000000",
          "2022-01-01T00:00:00.000000000",
          "2023-01-01T00:00:00.000000000"
         ],
         "xaxis": "x",
         "y": {
          "bdata": "kugpu1xtSkADuuixq0NKQHWLp6j6GUpA9Vxmn0nwSUBmLiWWmMZJQNj/44znnElASdGigzZzSUDJomF6hUlJQE0pPdthAUxAKIBP6+jSS0AD12H7b6RLQC358eA9gEtAVhuCxgtcS0COPRKs2TdLQLhfopGnE0tA4oEyd3XvSkAMpMJcQ8tKQDXGUkIRp0pAX+jiJ9+CSkCXCnMNrV5KQMEsA/N6OkpAi3yNsu8kSkBWzBdyZA9KQCAcojHZ+UlA+Gss8U3kSUDDu7awws5JQCA3BxGjrUlAfrJXcYOMSUDbLajRY2tJQDmp+DFESklAliRJkiQpSUD0n5nyBAhJQFEb6lLl5khAAAAAAAAA+H8=",
          "dtype": "f8"
         },
         "yaxis": "y"
        },
        {
         "hovertemplate": "country=Peru<br>date=%{x}<br>Country's Forest (%)=%{y}<extra></extra>",
         "legendgroup": "Peru",
         "line": {
          "color": "#ab63fa",
          "dash": "solid"
         },
         "marker": {
          "symbol": "circle"
         },
         "mode": "lines",
         "name": "Peru",
         "orientation": "v",
         "showlegend": true,
         "type": "scatter",
         "x": [
          "1990-01-01T00:00:00.000000000",
          "1991-01-01T00:00:00.000000000",
          "1992-01-01T00:00:00.000000000",
          "1993-01-01T00:00:00.000000000",
          "1994-01-01T00:00:00.000000000",
          "1995-01-01T00:00:00.000000000",
          "1996-01-01T00:00:00.000000000",
          "1997-01-01T00:00:00.000000000",
          "1998-01-01T00:00:00.000000000",
          "1999-01-01T00:00:00.000000000",
          "2000-01-01T00:00:00.000000000",
          "2001-01-01T00:00:00.000000000",
          "2002-01-01T00:00:00.000000000",
          "2003-01-01T00:00:00.000000000",
          "2004-01-01T00:00:00.000000000",
          "2005-01-01T00:00:00.000000000",
          "2006-01-01T00:00:00.000000000",
          "2007-01-01T00:00:00.000000000",
          "2008-01-01T00:00:00.000000000",
          "2009-01-01T00:00:00.000000000",
          "2010-01-01T00:00:00.000000000",
          "2011-01-01T00:00:00.000000000",
          "2012-01-01T00:00:00.000000000",
          "2013-01-01T00:00:00.000000000",
          "2014-01-01T00:00:00.000000000",
          "2015-01-01T00:00:00.000000000",
          "2016-01-01T00:00:00.000000000",
          "2017-01-01T00:00:00.000000000",
          "2018-01-01T00:00:00.000000000",
          "2019-01-01T00:00:00.000000000",
          "2020-01-01T00:00:00.000000000",
          "2021-01-01T00:00:00.000000000",
          "2022-01-01T00:00:00.000000000",
          "2023-01-01T00:00:00.000000000"
         ],
         "xaxis": "x",
         "y": {
          "bdata": "yXa+n9rcTUD7OnDOWNFNQC7/If3WxU1AYcPTK1W6TUCUh4Va065NQMdLN4lRo01A+Q/pt8+XTUAs1JrmTYxNQF+YTBXMgE1Aklz+Q0p1TUDFILByyGlNQIBIv31NXU1AO3DOiNJQTUD2l92TV0RNQLG/7J7cN01Abef7qWErTUAoDwu15h5NQOM2GsBrEk1Anl4py/AFTUBZhjjWdflMQBSuR+H67ExAFR3J5d/bTEAVjErqxMpMQBb7y+6puUxAFmpN846oTEAX2c73c5dMQEoMAisHhUxAfT81XnpzTEDJdr6fmmNMQLgehetRUkxA9P3UeAlBTEAYITzawC9MQIYDIVl4HkxAAAAAAAAA+H8=",
          "dtype": "f8"
         },
         "yaxis": "y"
        }
       ],
       "layout": {
        "legend": {
         "title": {
          "text": "country"
         },
         "tracegroupgap": 0
        },
        "template": {
         "data": {
          "bar": [
           {
            "error_x": {
             "color": "#2a3f5f"
            },
            "error_y": {
             "color": "#2a3f5f"
            },
            "marker": {
             "line": {
              "color": "#E5ECF6",
              "width": 0.5
             },
             "pattern": {
              "fillmode": "overlay",
              "size": 10,
              "solidity": 0.2
             }
            },
            "type": "bar"
           }
          ],
          "barpolar": [
           {
            "marker": {
             "line": {
              "color": "#E5ECF6",
              "width": 0.5
             },
             "pattern": {
              "fillmode": "overlay",
              "size": 10,
              "solidity": 0.2
             }
            },
            "type": "barpolar"
           }
          ],
          "carpet": [
           {
            "aaxis": {
             "endlinecolor": "#2a3f5f",
             "gridcolor": "white",
             "linecolor": "white",
             "minorgridcolor": "white",
             "startlinecolor": "#2a3f5f"
            },
            "baxis": {
             "endlinecolor": "#2a3f5f",
             "gridcolor": "white",
             "linecolor": "white",
             "minorgridcolor": "white",
             "startlinecolor": "#2a3f5f"
            },
            "type": "carpet"
           }
          ],
          "choropleth": [
           {
            "colorbar": {
             "outlinewidth": 0,
             "ticks": ""
            },
            "type": "choropleth"
           }
          ],
          "contour": [
           {
            "colorbar": {
             "outlinewidth": 0,
             "ticks": ""
            },
            "colorscale": [
             [
              0,
              "#0d0887"
             ],
             [
              0.1111111111111111,
              "#46039f"
             ],
             [
              0.2222222222222222,
              "#7201a8"
             ],
             [
              0.3333333333333333,
              "#9c179e"
             ],
             [
              0.4444444444444444,
              "#bd3786"
             ],
             [
              0.5555555555555556,
              "#d8576b"
             ],
             [
              0.6666666666666666,
              "#ed7953"
             ],
             [
              0.7777777777777778,
              "#fb9f3a"
             ],
             [
              0.8888888888888888,
              "#fdca26"
             ],
             [
              1,
              "#f0f921"
             ]
            ],
            "type": "contour"
           }
          ],
          "contourcarpet": [
           {
            "colorbar": {
             "outlinewidth": 0,
             "ticks": ""
            },
            "type": "contourcarpet"
           }
          ],
          "heatmap": [
           {
            "colorbar": {
             "outlinewidth": 0,
             "ticks": ""
            },
            "colorscale": [
             [
              0,
              "#0d0887"
             ],
             [
              0.1111111111111111,
              "#46039f"
             ],
             [
              0.2222222222222222,
              "#7201a8"
             ],
             [
              0.3333333333333333,
              "#9c179e"
             ],
             [
              0.4444444444444444,
              "#bd3786"
             ],
             [
              0.5555555555555556,
              "#d8576b"
             ],
             [
              0.6666666666666666,
              "#ed7953"
             ],
             [
              0.7777777777777778,
              "#fb9f3a"
             ],
             [
              0.8888888888888888,
              "#fdca26"
             ],
             [
              1,
              "#f0f921"
             ]
            ],
            "type": "heatmap"
           }
          ],
          "histogram": [
           {
            "marker": {
             "pattern": {
              "fillmode": "overlay",
              "size": 10,
              "solidity": 0.2
             }
            },
            "type": "histogram"
           }
          ],
          "histogram2d": [
           {
            "colorbar": {
             "outlinewidth": 0,
             "ticks": ""
            },
            "colorscale": [
             [
              0,
              "#0d0887"
             ],
             [
              0.1111111111111111,
              "#46039f"
             ],
             [
              0.2222222222222222,
              "#7201a8"
             ],
             [
              0.3333333333333333,
              "#9c179e"
             ],
             [
              0.4444444444444444,
              "#bd3786"
             ],
             [
              0.5555555555555556,
              "#d8576b"
             ],
             [
              0.6666666666666666,
              "#ed7953"
             ],
             [
              0.7777777777777778,
              "#fb9f3a"
             ],
             [
              0.8888888888888888,
              "#fdca26"
             ],
             [
              1,
              "#f0f921"
             ]
            ],
            "type": "histogram2d"
           }
          ],
          "histogram2dcontour": [
           {
            "colorbar": {
             "outlinewidth": 0,
             "ticks": ""
            },
            "colorscale": [
             [
              0,
              "#0d0887"
             ],
             [
              0.1111111111111111,
              "#46039f"
             ],
             [
              0.2222222222222222,
              "#7201a8"
             ],
             [
              0.3333333333333333,
              "#9c179e"
             ],
             [
              0.4444444444444444,
              "#bd3786"
             ],
             [
              0.5555555555555556,
              "#d8576b"
             ],
             [
              0.6666666666666666,
              "#ed7953"
             ],
             [
              0.7777777777777778,
              "#fb9f3a"
             ],
             [
              0.8888888888888888,
              "#fdca26"
             ],
             [
              1,
              "#f0f921"
             ]
            ],
            "type": "histogram2dcontour"
           }
          ],
          "mesh3d": [
           {
            "colorbar": {
             "outlinewidth": 0,
             "ticks": ""
            },
            "type": "mesh3d"
           }
          ],
          "parcoords": [
           {
            "line": {
             "colorbar": {
              "outlinewidth": 0,
              "ticks": ""
             }
            },
            "type": "parcoords"
           }
          ],
          "pie": [
           {
            "automargin": true,
            "type": "pie"
           }
          ],
          "scatter": [
           {
            "fillpattern": {
             "fillmode": "overlay",
             "size": 10,
             "solidity": 0.2
            },
            "type": "scatter"
           }
          ],
          "scatter3d": [
           {
            "line": {
             "colorbar": {
              "outlinewidth": 0,
              "ticks": ""
             }
            },
            "marker": {
             "colorbar": {
              "outlinewidth": 0,
              "ticks": ""
             }
            },
            "type": "scatter3d"
           }
          ],
          "scattercarpet": [
           {
            "marker": {
             "colorbar": {
              "outlinewidth": 0,
              "ticks": ""
             }
            },
            "type": "scattercarpet"
           }
          ],
          "scattergeo": [
           {
            "marker": {
             "colorbar": {
              "outlinewidth": 0,
              "ticks": ""
             }
            },
            "type": "scattergeo"
           }
          ],
          "scattergl": [
           {
            "marker": {
             "colorbar": {
              "outlinewidth": 0,
              "ticks": ""
             }
            },
            "type": "scattergl"
           }
          ],
          "scattermap": [
           {
            "marker": {
             "colorbar": {
              "outlinewidth": 0,
              "ticks": ""
             }
            },
            "type": "scattermap"
           }
          ],
          "scattermapbox": [
           {
            "marker": {
             "colorbar": {
              "outlinewidth": 0,
              "ticks": ""
             }
            },
            "type": "scattermapbox"
           }
          ],
          "scatterpolar": [
           {
            "marker": {
             "colorbar": {
              "outlinewidth": 0,
              "ticks": ""
             }
            },
            "type": "scatterpolar"
           }
          ],
          "scatterpolargl": [
           {
            "marker": {
             "colorbar": {
              "outlinewidth": 0,
              "ticks": ""
             }
            },
            "type": "scatterpolargl"
           }
          ],
          "scatterternary": [
           {
            "marker": {
             "colorbar": {
              "outlinewidth": 0,
              "ticks": ""
             }
            },
            "type": "scatterternary"
           }
          ],
          "surface": [
           {
            "colorbar": {
             "outlinewidth": 0,
             "ticks": ""
            },
            "colorscale": [
             [
              0,
              "#0d0887"
             ],
             [
              0.1111111111111111,
              "#46039f"
             ],
             [
              0.2222222222222222,
              "#7201a8"
             ],
             [
              0.3333333333333333,
              "#9c179e"
             ],
             [
              0.4444444444444444,
              "#bd3786"
             ],
             [
              0.5555555555555556,
              "#d8576b"
             ],
             [
              0.6666666666666666,
              "#ed7953"
             ],
             [
              0.7777777777777778,
              "#fb9f3a"
             ],
             [
              0.8888888888888888,
              "#fdca26"
             ],
             [
              1,
              "#f0f921"
             ]
            ],
            "type": "surface"
           }
          ],
          "table": [
           {
            "cells": {
             "fill": {
              "color": "#EBF0F8"
             },
             "line": {
              "color": "white"
             }
            },
            "header": {
             "fill": {
              "color": "#C8D4E3"
             },
             "line": {
              "color": "white"
             }
            },
            "type": "table"
           }
          ]
         },
         "layout": {
          "annotationdefaults": {
           "arrowcolor": "#2a3f5f",
           "arrowhead": 0,
           "arrowwidth": 1
          },
          "autotypenumbers": "strict",
          "coloraxis": {
           "colorbar": {
            "outlinewidth": 0,
            "ticks": ""
           }
          },
          "colorscale": {
           "diverging": [
            [
             0,
             "#8e0152"
            ],
            [
             0.1,
             "#c51b7d"
            ],
            [
             0.2,
             "#de77ae"
            ],
            [
             0.3,
             "#f1b6da"
            ],
            [
             0.4,
             "#fde0ef"
            ],
            [
             0.5,
             "#f7f7f7"
            ],
            [
             0.6,
             "#e6f5d0"
            ],
            [
             0.7,
             "#b8e186"
            ],
            [
             0.8,
             "#7fbc41"
            ],
            [
             0.9,
             "#4d9221"
            ],
            [
             1,
             "#276419"
            ]
           ],
           "sequential": [
            [
             0,
             "#0d0887"
            ],
            [
             0.1111111111111111,
             "#46039f"
            ],
            [
             0.2222222222222222,
             "#7201a8"
            ],
            [
             0.3333333333333333,
             "#9c179e"
            ],
            [
             0.4444444444444444,
             "#bd3786"
            ],
            [
             0.5555555555555556,
             "#d8576b"
            ],
            [
             0.6666666666666666,
             "#ed7953"
            ],
            [
             0.7777777777777778,
             "#fb9f3a"
            ],
            [
             0.8888888888888888,
             "#fdca26"
            ],
            [
             1,
             "#f0f921"
            ]
           ],
           "sequentialminus": [
            [
             0,
             "#0d0887"
            ],
            [
             0.1111111111111111,
             "#46039f"
            ],
            [
             0.2222222222222222,
             "#7201a8"
            ],
            [
             0.3333333333333333,
             "#9c179e"
            ],
            [
             0.4444444444444444,
             "#bd3786"
            ],
            [
             0.5555555555555556,
             "#d8576b"
            ],
            [
             0.6666666666666666,
             "#ed7953"
            ],
            [
             0.7777777777777778,
             "#fb9f3a"
            ],
            [
             0.8888888888888888,
             "#fdca26"
            ],
            [
             1,
             "#f0f921"
            ]
           ]
          },
          "colorway": [
           "#636efa",
           "#EF553B",
           "#00cc96",
           "#ab63fa",
           "#FFA15A",
           "#19d3f3",
           "#FF6692",
           "#B6E880",
           "#FF97FF",
           "#FECB52"
          ],
          "font": {
           "color": "#2a3f5f"
          },
          "geo": {
           "bgcolor": "white",
           "lakecolor": "white",
           "landcolor": "#E5ECF6",
           "showlakes": true,
           "showland": true,
           "subunitcolor": "white"
          },
          "hoverlabel": {
           "align": "left"
          },
          "hovermode": "closest",
          "mapbox": {
           "style": "light"
          },
          "paper_bgcolor": "white",
          "plot_bgcolor": "#E5ECF6",
          "polar": {
           "angularaxis": {
            "gridcolor": "white",
            "linecolor": "white",
            "ticks": ""
           },
           "bgcolor": "#E5ECF6",
           "radialaxis": {
            "gridcolor": "white",
            "linecolor": "white",
            "ticks": ""
           }
          },
          "scene": {
           "xaxis": {
            "backgroundcolor": "#E5ECF6",
            "gridcolor": "white",
            "gridwidth": 2,
            "linecolor": "white",
            "showbackground": true,
            "ticks": "",
            "zerolinecolor": "white"
           },
           "yaxis": {
            "backgroundcolor": "#E5ECF6",
            "gridcolor": "white",
            "gridwidth": 2,
            "linecolor": "white",
            "showbackground": true,
            "ticks": "",
            "zerolinecolor": "white"
           },
           "zaxis": {
            "backgroundcolor": "#E5ECF6",
            "gridcolor": "white",
            "gridwidth": 2,
            "linecolor": "white",
            "showbackground": true,
            "ticks": "",
            "zerolinecolor": "white"
           }
          },
          "shapedefaults": {
           "line": {
            "color": "#2a3f5f"
           }
          },
          "ternary": {
           "aaxis": {
            "gridcolor": "white",
            "linecolor": "white",
            "ticks": ""
           },
           "baxis": {
            "gridcolor": "white",
            "linecolor": "white",
            "ticks": ""
           },
           "bgcolor": "#E5ECF6",
           "caxis": {
            "gridcolor": "white",
            "linecolor": "white",
            "ticks": ""
           }
          },
          "title": {
           "x": 0.05
          },
          "xaxis": {
           "automargin": true,
           "gridcolor": "white",
           "linecolor": "white",
           "ticks": "",
           "title": {
            "standoff": 15
           },
           "zerolinecolor": "white",
           "zerolinewidth": 2
          },
          "yaxis": {
           "automargin": true,
           "gridcolor": "white",
           "linecolor": "white",
           "ticks": "",
           "title": {
            "standoff": 15
           },
           "zerolinecolor": "white",
           "zerolinewidth": 2
          }
         }
        },
        "title": {
         "text": "Forest Area Over Time"
        },
        "xaxis": {
         "anchor": "y",
         "domain": [
          0,
          1
         ],
         "title": {
          "text": "date"
         }
        },
        "yaxis": {
         "anchor": "x",
         "domain": [
          0,
          1
         ],
         "title": {
          "text": "Country's Forest (%)"
         }
        }
       }
      },
      "text/html": [
       "<div>            <script src=\"https://cdnjs.cloudflare.com/ajax/libs/mathjax/2.7.5/MathJax.js?config=TeX-AMS-MML_SVG\"></script><script type=\"text/javascript\">if (window.MathJax && window.MathJax.Hub && window.MathJax.Hub.Config) {window.MathJax.Hub.Config({SVG: {font: \"STIX-Web\"}});}</script>                <script type=\"text/javascript\">window.PlotlyConfig = {MathJaxConfig: 'local'};</script>\n",
       "        <script charset=\"utf-8\" src=\"https://cdn.plot.ly/plotly-3.0.0.min.js\"></script>                <div id=\"30e5a027-9cb8-414c-a99c-3176466fe41b\" class=\"plotly-graph-div\" style=\"height:525px; width:100%;\"></div>            <script type=\"text/javascript\">                window.PLOTLYENV=window.PLOTLYENV || {};                                if (document.getElementById(\"30e5a027-9cb8-414c-a99c-3176466fe41b\")) {                    Plotly.newPlot(                        \"30e5a027-9cb8-414c-a99c-3176466fe41b\",                        [{\"hovertemplate\":\"country=Bolivia\\u003cbr\\u003edate=%{x}\\u003cbr\\u003eCountry's Forest (%)=%{y}\\u003cextra\\u003e\\u003c\\u002fextra\\u003e\",\"legendgroup\":\"Bolivia\",\"line\":{\"color\":\"#636efa\",\"dash\":\"solid\"},\"marker\":{\"symbol\":\"circle\"},\"mode\":\"lines\",\"name\":\"Bolivia\",\"orientation\":\"v\",\"showlegend\":true,\"x\":[\"1990-01-01T00:00:00.000000000\",\"1991-01-01T00:00:00.000000000\",\"1992-01-01T00:00:00.000000000\",\"1993-01-01T00:00:00.000000000\",\"1994-01-01T00:00:00.000000000\",\"1995-01-01T00:00:00.000000000\",\"1996-01-01T00:00:00.000000000\",\"1997-01-01T00:00:00.000000000\",\"1998-01-01T00:00:00.000000000\",\"1999-01-01T00:00:00.000000000\",\"2000-01-01T00:00:00.000000000\",\"2001-01-01T00:00:00.000000000\",\"2002-01-01T00:00:00.000000000\",\"2003-01-01T00:00:00.000000000\",\"2004-01-01T00:00:00.000000000\",\"2005-01-01T00:00:00.000000000\",\"2006-01-01T00:00:00.000000000\",\"2007-01-01T00:00:00.000000000\",\"2008-01-01T00:00:00.000000000\",\"2009-01-01T00:00:00.000000000\",\"2010-01-01T00:00:00.000000000\",\"2011-01-01T00:00:00.000000000\",\"2012-01-01T00:00:00.000000000\",\"2013-01-01T00:00:00.000000000\",\"2014-01-01T00:00:00.000000000\",\"2015-01-01T00:00:00.000000000\",\"2016-01-01T00:00:00.000000000\",\"2017-01-01T00:00:00.000000000\",\"2018-01-01T00:00:00.000000000\",\"2019-01-01T00:00:00.000000000\",\"2020-01-01T00:00:00.000000000\",\"2021-01-01T00:00:00.000000000\",\"2022-01-01T00:00:00.000000000\",\"2023-01-01T00:00:00.000000000\"],\"xaxis\":\"x\",\"y\":{\"dtype\":\"f8\",\"bdata\":\"VuD1ZQ+uSkAj2MtHHo5KQP7PoSktbkpAy8d3CzxOSkCmv03tSi5KQHO3I89ZDkpATq\\u002f5sGjuSUAbp8+Sd85JQPaepXSGrklAw5Z7VpWOSUCejlE4pG5JQAYA9wjUVklAfXGc2QM\\u002fSUDz4kGqMydJQGlU53pjD0lA0cWMS5P3SEBINzIcw99IQL6o1+zyx0hANBp9vSKwSECqiyKOUphIQBP9x16CgEhAYbQnDH1nSECwa4e5d05IQA0j52ZyNUhAXNpGFG0cSECrkabBZwNIQAXIJ+O64kdAffdh6DDER0ASKFQq9KdHQCds3UMFjkdAS7EemmN2R0BWjPgcOV1HQMJYF4IURUdAAAAAAAAA+H8=\"},\"yaxis\":\"y\",\"type\":\"scatter\"},{\"hovertemplate\":\"country=Brazil\\u003cbr\\u003edate=%{x}\\u003cbr\\u003eCountry's Forest (%)=%{y}\\u003cextra\\u003e\\u003c\\u002fextra\\u003e\",\"legendgroup\":\"Brazil\",\"line\":{\"color\":\"#EF553B\",\"dash\":\"solid\"},\"marker\":{\"symbol\":\"circle\"},\"mode\":\"lines\",\"name\":\"Brazil\",\"orientation\":\"v\",\"showlegend\":true,\"x\":[\"1990-01-01T00:00:00.000000000\",\"1991-01-01T00:00:00.000000000\",\"1992-01-01T00:00:00.000000000\",\"1993-01-01T00:00:00.000000000\",\"1994-01-01T00:00:00.000000000\",\"1995-01-01T00:00:00.000000000\",\"1996-01-01T00:00:00.000000000\",\"1997-01-01T00:00:00.000000000\",\"1998-01-01T00:00:00.000000000\",\"1999-01-01T00:00:00.000000000\",\"2000-01-01T00:00:00.000000000\",\"2001-01-01T00:00:00.000000000\",\"2002-01-01T00:00:00.000000000\",\"2003-01-01T00:00:00.000000000\",\"2004-01-01T00:00:00.000000000\",\"2005-01-01T00:00:00.000000000\",\"2006-01-01T00:00:00.000000000\",\"2007-01-01T00:00:00.000000000\",\"2008-01-01T00:00:00.000000000\",\"2009-01-01T00:00:00.000000000\",\"2010-01-01T00:00:00.000000000\",\"2011-01-01T00:00:00.000000000\",\"2012-01-01T00:00:00.000000000\",\"2013-01-01T00:00:00.000000000\",\"2014-01-01T00:00:00.000000000\",\"2015-01-01T00:00:00.000000000\",\"2016-01-01T00:00:00.000000000\",\"2017-01-01T00:00:00.000000000\",\"2018-01-01T00:00:00.000000000\",\"2019-01-01T00:00:00.000000000\",\"2020-01-01T00:00:00.000000000\",\"2021-01-01T00:00:00.000000000\",\"2022-01-01T00:00:00.000000000\",\"2023-01-01T00:00:00.000000000\"],\"xaxis\":\"x\",\"y\":{\"dtype\":\"f8\",\"bdata\":\"KDt8NVCdUUAgfiOkXIBRQBjByhJpY1FACARygXVGUUAARxnwgSlRQPiJwF6ODFFA6cxnzZrvUEDhDw88p9JQQNlStqqztVBAypVdGcCYUEDB2ASIzHtQQJouGASMXVBAe4QrgEs\\u002fUEBN2j78CiFQQC0wUnjKAlBACwzL6BPJT0C9t\\u002fHgkoxPQG9jGNkRUE9AMA8\\u002f0ZATT0DiumXJD9dOQJRmjMGOmk5AwSTDavyCTkDv4vkTamtOQByhML3XU05ASl9nZkU8TkB3HZ4PsyROQBVBOJgXCU5AVp473JvqTUBGAWLErdpNQB32LMl9x01ACqW462+1TUC5vSGloKJNQOtuO09SkE1AAAAAAAAA+H8=\"},\"yaxis\":\"y\",\"type\":\"scatter\"},{\"hovertemplate\":\"country=Ecuador\\u003cbr\\u003edate=%{x}\\u003cbr\\u003eCountry's Forest (%)=%{y}\\u003cextra\\u003e\\u003c\\u002fextra\\u003e\",\"legendgroup\":\"Ecuador\",\"line\":{\"color\":\"#00cc96\",\"dash\":\"solid\"},\"marker\":{\"symbol\":\"circle\"},\"mode\":\"lines\",\"name\":\"Ecuador\",\"orientation\":\"v\",\"showlegend\":true,\"x\":[\"1990-01-01T00:00:00.000000000\",\"1991-01-01T00:00:00.000000000\",\"1992-01-01T00:00:00.000000000\",\"1993-01-01T00:00:00.000000000\",\"1994-01-01T00:00:00.000000000\",\"1995-01-01T00:00:00.000000000\",\"1996-01-01T00:00:00.000000000\",\"1997-01-01T00:00:00.000000000\",\"1998-01-01T00:00:00.000000000\",\"1999-01-01T00:00:00.000000000\",\"2000-01-01T00:00:00.000000000\",\"2001-01-01T00:00:00.000000000\",\"2002-01-01T00:00:00.000000000\",\"2003-01-01T00:00:00.000000000\",\"2004-01-01T00:00:00.000000000\",\"2005-01-01T00:00:00.000000000\",\"2006-01-01T00:00:00.000000000\",\"2007-01-01T00:00:00.000000000\",\"2008-01-01T00:00:00.000000000\",\"2009-01-01T00:00:00.000000000\",\"2010-01-01T00:00:00.000000000\",\"2011-01-01T00:00:00.000000000\",\"2012-01-01T00:00:00.000000000\",\"2013-01-01T00:00:00.000000000\",\"2014-01-01T00:00:00.000000000\",\"2015-01-01T00:00:00.000000000\",\"2016-01-01T00:00:00.000000000\",\"2017-01-01T00:00:00.000000000\",\"2018-01-01T00:00:00.000000000\",\"2019-01-01T00:00:00.000000000\",\"2020-01-01T00:00:00.000000000\",\"2021-01-01T00:00:00.000000000\",\"2022-01-01T00:00:00.000000000\",\"2023-01-01T00:00:00.000000000\"],\"xaxis\":\"x\",\"y\":{\"dtype\":\"f8\",\"bdata\":\"kugpu1xtSkADuuixq0NKQHWLp6j6GUpA9Vxmn0nwSUBmLiWWmMZJQNj\\u002f44znnElASdGigzZzSUDJomF6hUlJQE0pPdthAUxAKIBP6+jSS0AD12H7b6RLQC358eA9gEtAVhuCxgtcS0COPRKs2TdLQLhfopGnE0tA4oEyd3XvSkAMpMJcQ8tKQDXGUkIRp0pAX+jiJ9+CSkCXCnMNrV5KQMEsA\\u002fN6OkpAi3yNsu8kSkBWzBdyZA9KQCAcojHZ+UlA+Gss8U3kSUDDu7awws5JQCA3BxGjrUlAfrJXcYOMSUDbLajRY2tJQDmp+DFESklAliRJkiQpSUD0n5nyBAhJQFEb6lLl5khAAAAAAAAA+H8=\"},\"yaxis\":\"y\",\"type\":\"scatter\"},{\"hovertemplate\":\"country=Peru\\u003cbr\\u003edate=%{x}\\u003cbr\\u003eCountry's Forest (%)=%{y}\\u003cextra\\u003e\\u003c\\u002fextra\\u003e\",\"legendgroup\":\"Peru\",\"line\":{\"color\":\"#ab63fa\",\"dash\":\"solid\"},\"marker\":{\"symbol\":\"circle\"},\"mode\":\"lines\",\"name\":\"Peru\",\"orientation\":\"v\",\"showlegend\":true,\"x\":[\"1990-01-01T00:00:00.000000000\",\"1991-01-01T00:00:00.000000000\",\"1992-01-01T00:00:00.000000000\",\"1993-01-01T00:00:00.000000000\",\"1994-01-01T00:00:00.000000000\",\"1995-01-01T00:00:00.000000000\",\"1996-01-01T00:00:00.000000000\",\"1997-01-01T00:00:00.000000000\",\"1998-01-01T00:00:00.000000000\",\"1999-01-01T00:00:00.000000000\",\"2000-01-01T00:00:00.000000000\",\"2001-01-01T00:00:00.000000000\",\"2002-01-01T00:00:00.000000000\",\"2003-01-01T00:00:00.000000000\",\"2004-01-01T00:00:00.000000000\",\"2005-01-01T00:00:00.000000000\",\"2006-01-01T00:00:00.000000000\",\"2007-01-01T00:00:00.000000000\",\"2008-01-01T00:00:00.000000000\",\"2009-01-01T00:00:00.000000000\",\"2010-01-01T00:00:00.000000000\",\"2011-01-01T00:00:00.000000000\",\"2012-01-01T00:00:00.000000000\",\"2013-01-01T00:00:00.000000000\",\"2014-01-01T00:00:00.000000000\",\"2015-01-01T00:00:00.000000000\",\"2016-01-01T00:00:00.000000000\",\"2017-01-01T00:00:00.000000000\",\"2018-01-01T00:00:00.000000000\",\"2019-01-01T00:00:00.000000000\",\"2020-01-01T00:00:00.000000000\",\"2021-01-01T00:00:00.000000000\",\"2022-01-01T00:00:00.000000000\",\"2023-01-01T00:00:00.000000000\"],\"xaxis\":\"x\",\"y\":{\"dtype\":\"f8\",\"bdata\":\"yXa+n9rcTUD7OnDOWNFNQC7\\u002fIf3WxU1AYcPTK1W6TUCUh4Va065NQMdLN4lRo01A+Q\\u002fpt8+XTUAs1JrmTYxNQF+YTBXMgE1Aklz+Q0p1TUDFILByyGlNQIBIv31NXU1AO3DOiNJQTUD2l92TV0RNQLG\\u002f7J7cN01Abef7qWErTUAoDwu15h5NQOM2GsBrEk1Anl4py\\u002fAFTUBZhjjWdflMQBSuR+H67ExAFR3J5d\\u002fbTEAVjErqxMpMQBb7y+6puUxAFmpN846oTEAX2c73c5dMQEoMAisHhUxAfT81XnpzTEDJdr6fmmNMQLgehetRUkxA9P3UeAlBTEAYITzawC9MQIYDIVl4HkxAAAAAAAAA+H8=\"},\"yaxis\":\"y\",\"type\":\"scatter\"}],                        {\"template\":{\"data\":{\"histogram2dcontour\":[{\"type\":\"histogram2dcontour\",\"colorbar\":{\"outlinewidth\":0,\"ticks\":\"\"},\"colorscale\":[[0.0,\"#0d0887\"],[0.1111111111111111,\"#46039f\"],[0.2222222222222222,\"#7201a8\"],[0.3333333333333333,\"#9c179e\"],[0.4444444444444444,\"#bd3786\"],[0.5555555555555556,\"#d8576b\"],[0.6666666666666666,\"#ed7953\"],[0.7777777777777778,\"#fb9f3a\"],[0.8888888888888888,\"#fdca26\"],[1.0,\"#f0f921\"]]}],\"choropleth\":[{\"type\":\"choropleth\",\"colorbar\":{\"outlinewidth\":0,\"ticks\":\"\"}}],\"histogram2d\":[{\"type\":\"histogram2d\",\"colorbar\":{\"outlinewidth\":0,\"ticks\":\"\"},\"colorscale\":[[0.0,\"#0d0887\"],[0.1111111111111111,\"#46039f\"],[0.2222222222222222,\"#7201a8\"],[0.3333333333333333,\"#9c179e\"],[0.4444444444444444,\"#bd3786\"],[0.5555555555555556,\"#d8576b\"],[0.6666666666666666,\"#ed7953\"],[0.7777777777777778,\"#fb9f3a\"],[0.8888888888888888,\"#fdca26\"],[1.0,\"#f0f921\"]]}],\"heatmap\":[{\"type\":\"heatmap\",\"colorbar\":{\"outlinewidth\":0,\"ticks\":\"\"},\"colorscale\":[[0.0,\"#0d0887\"],[0.1111111111111111,\"#46039f\"],[0.2222222222222222,\"#7201a8\"],[0.3333333333333333,\"#9c179e\"],[0.4444444444444444,\"#bd3786\"],[0.5555555555555556,\"#d8576b\"],[0.6666666666666666,\"#ed7953\"],[0.7777777777777778,\"#fb9f3a\"],[0.8888888888888888,\"#fdca26\"],[1.0,\"#f0f921\"]]}],\"contourcarpet\":[{\"type\":\"contourcarpet\",\"colorbar\":{\"outlinewidth\":0,\"ticks\":\"\"}}],\"contour\":[{\"type\":\"contour\",\"colorbar\":{\"outlinewidth\":0,\"ticks\":\"\"},\"colorscale\":[[0.0,\"#0d0887\"],[0.1111111111111111,\"#46039f\"],[0.2222222222222222,\"#7201a8\"],[0.3333333333333333,\"#9c179e\"],[0.4444444444444444,\"#bd3786\"],[0.5555555555555556,\"#d8576b\"],[0.6666666666666666,\"#ed7953\"],[0.7777777777777778,\"#fb9f3a\"],[0.8888888888888888,\"#fdca26\"],[1.0,\"#f0f921\"]]}],\"surface\":[{\"type\":\"surface\",\"colorbar\":{\"outlinewidth\":0,\"ticks\":\"\"},\"colorscale\":[[0.0,\"#0d0887\"],[0.1111111111111111,\"#46039f\"],[0.2222222222222222,\"#7201a8\"],[0.3333333333333333,\"#9c179e\"],[0.4444444444444444,\"#bd3786\"],[0.5555555555555556,\"#d8576b\"],[0.6666666666666666,\"#ed7953\"],[0.7777777777777778,\"#fb9f3a\"],[0.8888888888888888,\"#fdca26\"],[1.0,\"#f0f921\"]]}],\"mesh3d\":[{\"type\":\"mesh3d\",\"colorbar\":{\"outlinewidth\":0,\"ticks\":\"\"}}],\"scatter\":[{\"fillpattern\":{\"fillmode\":\"overlay\",\"size\":10,\"solidity\":0.2},\"type\":\"scatter\"}],\"parcoords\":[{\"type\":\"parcoords\",\"line\":{\"colorbar\":{\"outlinewidth\":0,\"ticks\":\"\"}}}],\"scatterpolargl\":[{\"type\":\"scatterpolargl\",\"marker\":{\"colorbar\":{\"outlinewidth\":0,\"ticks\":\"\"}}}],\"bar\":[{\"error_x\":{\"color\":\"#2a3f5f\"},\"error_y\":{\"color\":\"#2a3f5f\"},\"marker\":{\"line\":{\"color\":\"#E5ECF6\",\"width\":0.5},\"pattern\":{\"fillmode\":\"overlay\",\"size\":10,\"solidity\":0.2}},\"type\":\"bar\"}],\"scattergeo\":[{\"type\":\"scattergeo\",\"marker\":{\"colorbar\":{\"outlinewidth\":0,\"ticks\":\"\"}}}],\"scatterpolar\":[{\"type\":\"scatterpolar\",\"marker\":{\"colorbar\":{\"outlinewidth\":0,\"ticks\":\"\"}}}],\"histogram\":[{\"marker\":{\"pattern\":{\"fillmode\":\"overlay\",\"size\":10,\"solidity\":0.2}},\"type\":\"histogram\"}],\"scattergl\":[{\"type\":\"scattergl\",\"marker\":{\"colorbar\":{\"outlinewidth\":0,\"ticks\":\"\"}}}],\"scatter3d\":[{\"type\":\"scatter3d\",\"line\":{\"colorbar\":{\"outlinewidth\":0,\"ticks\":\"\"}},\"marker\":{\"colorbar\":{\"outlinewidth\":0,\"ticks\":\"\"}}}],\"scattermap\":[{\"type\":\"scattermap\",\"marker\":{\"colorbar\":{\"outlinewidth\":0,\"ticks\":\"\"}}}],\"scattermapbox\":[{\"type\":\"scattermapbox\",\"marker\":{\"colorbar\":{\"outlinewidth\":0,\"ticks\":\"\"}}}],\"scatterternary\":[{\"type\":\"scatterternary\",\"marker\":{\"colorbar\":{\"outlinewidth\":0,\"ticks\":\"\"}}}],\"scattercarpet\":[{\"type\":\"scattercarpet\",\"marker\":{\"colorbar\":{\"outlinewidth\":0,\"ticks\":\"\"}}}],\"carpet\":[{\"aaxis\":{\"endlinecolor\":\"#2a3f5f\",\"gridcolor\":\"white\",\"linecolor\":\"white\",\"minorgridcolor\":\"white\",\"startlinecolor\":\"#2a3f5f\"},\"baxis\":{\"endlinecolor\":\"#2a3f5f\",\"gridcolor\":\"white\",\"linecolor\":\"white\",\"minorgridcolor\":\"white\",\"startlinecolor\":\"#2a3f5f\"},\"type\":\"carpet\"}],\"table\":[{\"cells\":{\"fill\":{\"color\":\"#EBF0F8\"},\"line\":{\"color\":\"white\"}},\"header\":{\"fill\":{\"color\":\"#C8D4E3\"},\"line\":{\"color\":\"white\"}},\"type\":\"table\"}],\"barpolar\":[{\"marker\":{\"line\":{\"color\":\"#E5ECF6\",\"width\":0.5},\"pattern\":{\"fillmode\":\"overlay\",\"size\":10,\"solidity\":0.2}},\"type\":\"barpolar\"}],\"pie\":[{\"automargin\":true,\"type\":\"pie\"}]},\"layout\":{\"autotypenumbers\":\"strict\",\"colorway\":[\"#636efa\",\"#EF553B\",\"#00cc96\",\"#ab63fa\",\"#FFA15A\",\"#19d3f3\",\"#FF6692\",\"#B6E880\",\"#FF97FF\",\"#FECB52\"],\"font\":{\"color\":\"#2a3f5f\"},\"hovermode\":\"closest\",\"hoverlabel\":{\"align\":\"left\"},\"paper_bgcolor\":\"white\",\"plot_bgcolor\":\"#E5ECF6\",\"polar\":{\"bgcolor\":\"#E5ECF6\",\"angularaxis\":{\"gridcolor\":\"white\",\"linecolor\":\"white\",\"ticks\":\"\"},\"radialaxis\":{\"gridcolor\":\"white\",\"linecolor\":\"white\",\"ticks\":\"\"}},\"ternary\":{\"bgcolor\":\"#E5ECF6\",\"aaxis\":{\"gridcolor\":\"white\",\"linecolor\":\"white\",\"ticks\":\"\"},\"baxis\":{\"gridcolor\":\"white\",\"linecolor\":\"white\",\"ticks\":\"\"},\"caxis\":{\"gridcolor\":\"white\",\"linecolor\":\"white\",\"ticks\":\"\"}},\"coloraxis\":{\"colorbar\":{\"outlinewidth\":0,\"ticks\":\"\"}},\"colorscale\":{\"sequential\":[[0.0,\"#0d0887\"],[0.1111111111111111,\"#46039f\"],[0.2222222222222222,\"#7201a8\"],[0.3333333333333333,\"#9c179e\"],[0.4444444444444444,\"#bd3786\"],[0.5555555555555556,\"#d8576b\"],[0.6666666666666666,\"#ed7953\"],[0.7777777777777778,\"#fb9f3a\"],[0.8888888888888888,\"#fdca26\"],[1.0,\"#f0f921\"]],\"sequentialminus\":[[0.0,\"#0d0887\"],[0.1111111111111111,\"#46039f\"],[0.2222222222222222,\"#7201a8\"],[0.3333333333333333,\"#9c179e\"],[0.4444444444444444,\"#bd3786\"],[0.5555555555555556,\"#d8576b\"],[0.6666666666666666,\"#ed7953\"],[0.7777777777777778,\"#fb9f3a\"],[0.8888888888888888,\"#fdca26\"],[1.0,\"#f0f921\"]],\"diverging\":[[0,\"#8e0152\"],[0.1,\"#c51b7d\"],[0.2,\"#de77ae\"],[0.3,\"#f1b6da\"],[0.4,\"#fde0ef\"],[0.5,\"#f7f7f7\"],[0.6,\"#e6f5d0\"],[0.7,\"#b8e186\"],[0.8,\"#7fbc41\"],[0.9,\"#4d9221\"],[1,\"#276419\"]]},\"xaxis\":{\"gridcolor\":\"white\",\"linecolor\":\"white\",\"ticks\":\"\",\"title\":{\"standoff\":15},\"zerolinecolor\":\"white\",\"automargin\":true,\"zerolinewidth\":2},\"yaxis\":{\"gridcolor\":\"white\",\"linecolor\":\"white\",\"ticks\":\"\",\"title\":{\"standoff\":15},\"zerolinecolor\":\"white\",\"automargin\":true,\"zerolinewidth\":2},\"scene\":{\"xaxis\":{\"backgroundcolor\":\"#E5ECF6\",\"gridcolor\":\"white\",\"linecolor\":\"white\",\"showbackground\":true,\"ticks\":\"\",\"zerolinecolor\":\"white\",\"gridwidth\":2},\"yaxis\":{\"backgroundcolor\":\"#E5ECF6\",\"gridcolor\":\"white\",\"linecolor\":\"white\",\"showbackground\":true,\"ticks\":\"\",\"zerolinecolor\":\"white\",\"gridwidth\":2},\"zaxis\":{\"backgroundcolor\":\"#E5ECF6\",\"gridcolor\":\"white\",\"linecolor\":\"white\",\"showbackground\":true,\"ticks\":\"\",\"zerolinecolor\":\"white\",\"gridwidth\":2}},\"shapedefaults\":{\"line\":{\"color\":\"#2a3f5f\"}},\"annotationdefaults\":{\"arrowcolor\":\"#2a3f5f\",\"arrowhead\":0,\"arrowwidth\":1},\"geo\":{\"bgcolor\":\"white\",\"landcolor\":\"#E5ECF6\",\"subunitcolor\":\"white\",\"showland\":true,\"showlakes\":true,\"lakecolor\":\"white\"},\"title\":{\"x\":0.05},\"mapbox\":{\"style\":\"light\"}}},\"xaxis\":{\"anchor\":\"y\",\"domain\":[0.0,1.0],\"title\":{\"text\":\"date\"}},\"yaxis\":{\"anchor\":\"x\",\"domain\":[0.0,1.0],\"title\":{\"text\":\"Country's Forest (%)\"}},\"legend\":{\"title\":{\"text\":\"country\"},\"tracegroupgap\":0},\"title\":{\"text\":\"Forest Area Over Time\"}},                        {\"responsive\": true}                    ).then(function(){\n",
       "                            \n",
       "var gd = document.getElementById('30e5a027-9cb8-414c-a99c-3176466fe41b');\n",
       "var x = new MutationObserver(function (mutations, observer) {{\n",
       "        var display = window.getComputedStyle(gd).display;\n",
       "        if (!display || display === 'none') {{\n",
       "            console.log([gd, 'removed!']);\n",
       "            Plotly.purge(gd);\n",
       "            observer.disconnect();\n",
       "        }}\n",
       "}});\n",
       "\n",
       "// Listen for the removal of the full notebook cells\n",
       "var notebookContainer = gd.closest('#notebook-container');\n",
       "if (notebookContainer) {{\n",
       "    x.observe(notebookContainer, {childList: true});\n",
       "}}\n",
       "\n",
       "// Listen for the clearing of the current output cell\n",
       "var outputEl = gd.closest('.output');\n",
       "if (outputEl) {{\n",
       "    x.observe(outputEl, {childList: true});\n",
       "}}\n",
       "\n",
       "                        })                };            </script>        </div>"
      ]
     },
     "metadata": {},
     "output_type": "display_data"
    },
    {
     "data": {
      "text/html": [
       "<div>\n",
       "<style scoped>\n",
       "    .dataframe tbody tr th:only-of-type {\n",
       "        vertical-align: middle;\n",
       "    }\n",
       "\n",
       "    .dataframe tbody tr th {\n",
       "        vertical-align: top;\n",
       "    }\n",
       "\n",
       "    .dataframe thead th {\n",
       "        text-align: right;\n",
       "    }\n",
       "</style>\n",
       "<table border=\"1\" class=\"dataframe\">\n",
       "  <thead>\n",
       "    <tr style=\"text-align: right;\">\n",
       "      <th>country</th>\n",
       "      <th>Bolivia</th>\n",
       "      <th>Brazil</th>\n",
       "      <th>Ecuador</th>\n",
       "      <th>Peru</th>\n",
       "    </tr>\n",
       "    <tr>\n",
       "      <th>date</th>\n",
       "      <th></th>\n",
       "      <th></th>\n",
       "      <th></th>\n",
       "      <th></th>\n",
       "    </tr>\n",
       "  </thead>\n",
       "  <tbody>\n",
       "    <tr>\n",
       "      <th>1990-01-01</th>\n",
       "      <td>53.359845</td>\n",
       "      <td>70.458021</td>\n",
       "      <td>52.854392</td>\n",
       "      <td>59.725422</td>\n",
       "    </tr>\n",
       "    <tr>\n",
       "      <th>1991-01-01</th>\n",
       "      <td>53.110299</td>\n",
       "      <td>70.005654</td>\n",
       "      <td>52.528677</td>\n",
       "      <td>59.635523</td>\n",
       "    </tr>\n",
       "    <tr>\n",
       "      <th>1992-01-01</th>\n",
       "      <td>52.860753</td>\n",
       "      <td>69.553288</td>\n",
       "      <td>52.202962</td>\n",
       "      <td>59.545623</td>\n",
       "    </tr>\n",
       "    <tr>\n",
       "      <th>1993-01-01</th>\n",
       "      <td>52.611207</td>\n",
       "      <td>69.100922</td>\n",
       "      <td>51.877247</td>\n",
       "      <td>59.455724</td>\n",
       "    </tr>\n",
       "    <tr>\n",
       "      <th>1994-01-01</th>\n",
       "      <td>52.361662</td>\n",
       "      <td>68.648556</td>\n",
       "      <td>51.551532</td>\n",
       "      <td>59.365825</td>\n",
       "    </tr>\n",
       "  </tbody>\n",
       "</table>\n",
       "</div>"
      ],
      "text/plain": [
       "country       Bolivia     Brazil    Ecuador       Peru\n",
       "date                                                  \n",
       "1990-01-01  53.359845  70.458021  52.854392  59.725422\n",
       "1991-01-01  53.110299  70.005654  52.528677  59.635523\n",
       "1992-01-01  52.860753  69.553288  52.202962  59.545623\n",
       "1993-01-01  52.611207  69.100922  51.877247  59.455724\n",
       "1994-01-01  52.361662  68.648556  51.551532  59.365825"
      ]
     },
     "execution_count": 21,
     "metadata": {},
     "output_type": "execute_result"
    }
   ],
   "source": [
    "vars = {\"AG.LND.FRST.ZS\":\"Deforestation\"}\n",
    "\n",
    "use=[\"BRA\",\"ECU\",\"BOL\",\"PER\"]\n",
    "\n",
    "deforestation = wbdata.get_dataframe(vars,country=use,parse_dates=True).squeeze().unstack('country')\n",
    "\n",
    "deforestation = deforestation.loc[\"1990\":]\n",
    "\n",
    "plot = deforestation.plot(title=\"Forest Area Over Time\", labels={\"index\": \"Year\", \"value\": \"Country's Forest (%)\"})\n",
    "plot.show()\n",
    "deforestation.head()"
   ]
  },
  {
   "cell_type": "code",
   "execution_count": 19,
   "id": "5aed724d-a859-41c2-90d5-55ac86e29f73",
   "metadata": {},
   "outputs": [
    {
     "data": {
      "image/png": "[encoded data removed]",
      "text/plain": [
       "<Figure size 1000x600 with 1 Axes>"
      ]
     },
     "metadata": {},
     "output_type": "display_data"
    }
   ],
   "source": [
    "import pandas as pd\n",
    "import matplotlib.pyplot as plt\n",
    "\n",
    "# Ensure Year column is numeric for all dataframes\n",
    "for df in [filtered_southamerica_Peru, filtered_southamerica_Brazil, \n",
    "           filtered_southamerica_Bolivia, filtered_southamerica_Ecuador]:\n",
    "    df['Year'] = pd.to_numeric(df['Year'], errors='coerce')  # Convert Year to numeric\n",
    "    df['Value'] = pd.to_numeric(df['Value'], errors='coerce')  # Ensure population values are numeric\n",
    "    df.dropna(subset=['Year', 'Value'], inplace=True)  # Remove NaN rows\n",
    "    df.sort_values(by='Year', inplace=True)  # Ensure data is sorted by year\n",
    "\n",
    "    # Calculate annual population growth rate\n",
    "    df['Growth Rate (%)'] = df['Value'].pct_change() * 100  # Percentage change\n",
    "\n",
    "# Plot each country's population growth rate\n",
    "plt.figure(figsize=(10, 6))  # Set figure size\n",
    "\n",
    "# Define dataset dictionary for cleaner plotting\n",
    "datasets = {\n",
    "    \"Peru\": filtered_southamerica_Peru,\n",
    "    \"Brazil\": filtered_southamerica_Brazil,\n",
    "    \"Bolivia\": filtered_southamerica_Bolivia,\n",
    "    \"Ecuador\": filtered_southamerica_Ecuador\n",
    "}\n",
    "\n",
    "# Iterate over datasets and plot growth rates\n",
    "for country, df in datasets.items():\n",
    "    plt.plot(df['Year'], df['Growth Rate (%)'], marker='o', linestyle='-', label=country)\n",
    "\n",
    "# Add labels, title, and grid\n",
    "plt.xlabel('Year')\n",
    "plt.ylabel('Annual Population Growth Rate (%)')\n",
    "plt.title('Annual Population Growth Rate Over Time for Selected South American Countries')\n",
    "plt.grid(True)\n",
    "plt.legend()  # Show legend to differentiate countries\n",
    "\n",
    "# Display the plot\n",
    "plt.show()\n"
   ]
  },
  {
   "cell_type": "code",
   "execution_count": 25,
   "id": "4c215733-fa56-4851-9725-60b8e5e94d45",
   "metadata": {},
   "outputs": [
    {
     "data": {
      "text/html": [
       "<div>\n",
       "<style scoped>\n",
       "    .dataframe tbody tr th:only-of-type {\n",
       "        vertical-align: middle;\n",
       "    }\n",
       "\n",
       "    .dataframe tbody tr th {\n",
       "        vertical-align: top;\n",
       "    }\n",
       "\n",
       "    .dataframe thead th {\n",
       "        text-align: right;\n",
       "    }\n",
       "</style>\n",
       "<table border=\"1\" class=\"dataframe\">\n",
       "  <thead>\n",
       "    <tr style=\"text-align: right;\">\n",
       "      <th>country</th>\n",
       "      <th>Bolivia</th>\n",
       "      <th>Brazil</th>\n",
       "      <th>Ecuador</th>\n",
       "      <th>Peru</th>\n",
       "    </tr>\n",
       "    <tr>\n",
       "      <th>date</th>\n",
       "      <th></th>\n",
       "      <th></th>\n",
       "      <th></th>\n",
       "      <th></th>\n",
       "    </tr>\n",
       "  </thead>\n",
       "  <tbody>\n",
       "    <tr>\n",
       "      <th>1990-01-01</th>\n",
       "      <td>53.359845</td>\n",
       "      <td>70.458021</td>\n",
       "      <td>52.854392</td>\n",
       "      <td>59.725422</td>\n",
       "    </tr>\n",
       "    <tr>\n",
       "      <th>1991-01-01</th>\n",
       "      <td>53.110299</td>\n",
       "      <td>70.005654</td>\n",
       "      <td>52.528677</td>\n",
       "      <td>59.635523</td>\n",
       "    </tr>\n",
       "    <tr>\n",
       "      <th>1992-01-01</th>\n",
       "      <td>52.860753</td>\n",
       "      <td>69.553288</td>\n",
       "      <td>52.202962</td>\n",
       "      <td>59.545623</td>\n",
       "    </tr>\n",
       "    <tr>\n",
       "      <th>1993-01-01</th>\n",
       "      <td>52.611207</td>\n",
       "      <td>69.100922</td>\n",
       "      <td>51.877247</td>\n",
       "      <td>59.455724</td>\n",
       "    </tr>\n",
       "    <tr>\n",
       "      <th>1994-01-01</th>\n",
       "      <td>52.361662</td>\n",
       "      <td>68.648556</td>\n",
       "      <td>51.551532</td>\n",
       "      <td>59.365825</td>\n",
       "    </tr>\n",
       "    <tr>\n",
       "      <th>1995-01-01</th>\n",
       "      <td>52.112116</td>\n",
       "      <td>68.196190</td>\n",
       "      <td>51.225816</td>\n",
       "      <td>59.275926</td>\n",
       "    </tr>\n",
       "    <tr>\n",
       "      <th>1996-01-01</th>\n",
       "      <td>51.862570</td>\n",
       "      <td>67.743823</td>\n",
       "      <td>50.900101</td>\n",
       "      <td>59.186027</td>\n",
       "    </tr>\n",
       "    <tr>\n",
       "      <th>1997-01-01</th>\n",
       "      <td>51.613024</td>\n",
       "      <td>67.291457</td>\n",
       "      <td>50.574386</td>\n",
       "      <td>59.096127</td>\n",
       "    </tr>\n",
       "    <tr>\n",
       "      <th>1998-01-01</th>\n",
       "      <td>51.363478</td>\n",
       "      <td>66.839091</td>\n",
       "      <td>56.010799</td>\n",
       "      <td>59.006228</td>\n",
       "    </tr>\n",
       "    <tr>\n",
       "      <th>1999-01-01</th>\n",
       "      <td>51.113932</td>\n",
       "      <td>66.386725</td>\n",
       "      <td>55.647733</td>\n",
       "      <td>58.916329</td>\n",
       "    </tr>\n",
       "    <tr>\n",
       "      <th>2000-01-01</th>\n",
       "      <td>50.864387</td>\n",
       "      <td>65.934359</td>\n",
       "      <td>55.284667</td>\n",
       "      <td>58.826430</td>\n",
       "    </tr>\n",
       "    <tr>\n",
       "      <th>2001-01-01</th>\n",
       "      <td>50.678346</td>\n",
       "      <td>65.461671</td>\n",
       "      <td>55.001888</td>\n",
       "      <td>58.728927</td>\n",
       "    </tr>\n",
       "    <tr>\n",
       "      <th>2002-01-01</th>\n",
       "      <td>50.492305</td>\n",
       "      <td>64.988983</td>\n",
       "      <td>54.719109</td>\n",
       "      <td>58.631425</td>\n",
       "    </tr>\n",
       "    <tr>\n",
       "      <th>2003-01-01</th>\n",
       "      <td>50.306264</td>\n",
       "      <td>64.516295</td>\n",
       "      <td>54.436330</td>\n",
       "      <td>58.533923</td>\n",
       "    </tr>\n",
       "    <tr>\n",
       "      <th>2004-01-01</th>\n",
       "      <td>50.120223</td>\n",
       "      <td>64.043608</td>\n",
       "      <td>54.153551</td>\n",
       "      <td>58.436420</td>\n",
       "    </tr>\n",
       "    <tr>\n",
       "      <th>2005-01-01</th>\n",
       "      <td>49.934183</td>\n",
       "      <td>63.570920</td>\n",
       "      <td>53.870772</td>\n",
       "      <td>58.338918</td>\n",
       "    </tr>\n",
       "    <tr>\n",
       "      <th>2006-01-01</th>\n",
       "      <td>49.748142</td>\n",
       "      <td>63.098232</td>\n",
       "      <td>53.587993</td>\n",
       "      <td>58.241416</td>\n",
       "    </tr>\n",
       "    <tr>\n",
       "      <th>2007-01-01</th>\n",
       "      <td>49.562101</td>\n",
       "      <td>62.625545</td>\n",
       "      <td>53.305214</td>\n",
       "      <td>58.143913</td>\n",
       "    </tr>\n",
       "    <tr>\n",
       "      <th>2008-01-01</th>\n",
       "      <td>49.376060</td>\n",
       "      <td>62.152857</td>\n",
       "      <td>53.022435</td>\n",
       "      <td>58.046411</td>\n",
       "    </tr>\n",
       "    <tr>\n",
       "      <th>2009-01-01</th>\n",
       "      <td>49.190019</td>\n",
       "      <td>61.680169</td>\n",
       "      <td>52.739656</td>\n",
       "      <td>57.948909</td>\n",
       "    </tr>\n",
       "    <tr>\n",
       "      <th>2010-01-01</th>\n",
       "      <td>49.003979</td>\n",
       "      <td>61.207482</td>\n",
       "      <td>52.456877</td>\n",
       "      <td>57.851406</td>\n",
       "    </tr>\n",
       "    <tr>\n",
       "      <th>2011-01-01</th>\n",
       "      <td>48.808504</td>\n",
       "      <td>61.023328</td>\n",
       "      <td>52.288565</td>\n",
       "      <td>57.717770</td>\n",
       "    </tr>\n",
       "    <tr>\n",
       "      <th>2012-01-01</th>\n",
       "      <td>48.613029</td>\n",
       "      <td>60.839175</td>\n",
       "      <td>52.120253</td>\n",
       "      <td>57.584134</td>\n",
       "    </tr>\n",
       "    <tr>\n",
       "      <th>2013-01-01</th>\n",
       "      <td>48.417554</td>\n",
       "      <td>60.655021</td>\n",
       "      <td>51.951941</td>\n",
       "      <td>57.450498</td>\n",
       "    </tr>\n",
       "    <tr>\n",
       "      <th>2014-01-01</th>\n",
       "      <td>48.222079</td>\n",
       "      <td>60.470868</td>\n",
       "      <td>51.783629</td>\n",
       "      <td>57.316862</td>\n",
       "    </tr>\n",
       "    <tr>\n",
       "      <th>2015-01-01</th>\n",
       "      <td>48.026604</td>\n",
       "      <td>60.286715</td>\n",
       "      <td>51.615316</td>\n",
       "      <td>57.183227</td>\n",
       "    </tr>\n",
       "    <tr>\n",
       "      <th>2016-01-01</th>\n",
       "      <td>47.771328</td>\n",
       "      <td>60.071033</td>\n",
       "      <td>51.356539</td>\n",
       "      <td>57.039281</td>\n",
       "    </tr>\n",
       "    <tr>\n",
       "      <th>2017-01-01</th>\n",
       "      <td>47.532743</td>\n",
       "      <td>59.832881</td>\n",
       "      <td>51.097761</td>\n",
       "      <td>56.902172</td>\n",
       "    </tr>\n",
       "    <tr>\n",
       "      <th>2018-01-01</th>\n",
       "      <td>47.312139</td>\n",
       "      <td>59.708428</td>\n",
       "      <td>50.838984</td>\n",
       "      <td>56.778156</td>\n",
       "    </tr>\n",
       "    <tr>\n",
       "      <th>2019-01-01</th>\n",
       "      <td>47.109536</td>\n",
       "      <td>59.558526</td>\n",
       "      <td>50.580206</td>\n",
       "      <td>56.643125</td>\n",
       "    </tr>\n",
       "    <tr>\n",
       "      <th>2020-01-01</th>\n",
       "      <td>46.924915</td>\n",
       "      <td>59.417478</td>\n",
       "      <td>50.321429</td>\n",
       "      <td>56.508102</td>\n",
       "    </tr>\n",
       "    <tr>\n",
       "      <th>2021-01-01</th>\n",
       "      <td>46.728305</td>\n",
       "      <td>59.270527</td>\n",
       "      <td>50.062651</td>\n",
       "      <td>56.373073</td>\n",
       "    </tr>\n",
       "    <tr>\n",
       "      <th>2022-01-01</th>\n",
       "      <td>46.539688</td>\n",
       "      <td>59.127512</td>\n",
       "      <td>49.803873</td>\n",
       "      <td>56.238048</td>\n",
       "    </tr>\n",
       "    <tr>\n",
       "      <th>2023-01-01</th>\n",
       "      <td>NaN</td>\n",
       "      <td>NaN</td>\n",
       "      <td>NaN</td>\n",
       "      <td>NaN</td>\n",
       "    </tr>\n",
       "  </tbody>\n",
       "</table>\n",
       "</div>"
      ],
      "text/plain": [
       "country       Bolivia     Brazil    Ecuador       Peru\n",
       "date                                                  \n",
       "1990-01-01  53.359845  70.458021  52.854392  59.725422\n",
       "1991-01-01  53.110299  70.005654  52.528677  59.635523\n",
       "1992-01-01  52.860753  69.553288  52.202962  59.545623\n",
       "1993-01-01  52.611207  69.100922  51.877247  59.455724\n",
       "1994-01-01  52.361662  68.648556  51.551532  59.365825\n",
       "1995-01-01  52.112116  68.196190  51.225816  59.275926\n",
       "1996-01-01  51.862570  67.743823  50.900101  59.186027\n",
       "1997-01-01  51.613024  67.291457  50.574386  59.096127\n",
       "1998-01-01  51.363478  66.839091  56.010799  59.006228\n",
       "1999-01-01  51.113932  66.386725  55.647733  58.916329\n",
       "2000-01-01  50.864387  65.934359  55.284667  58.826430\n",
       "2001-01-01  50.678346  65.461671  55.001888  58.728927\n",
       "2002-01-01  50.492305  64.988983  54.719109  58.631425\n",
       "2003-01-01  50.306264  64.516295  54.436330  58.533923\n",
       "2004-01-01  50.120223  64.043608  54.153551  58.436420\n",
       "2005-01-01  49.934183  63.570920  53.870772  58.338918\n",
       "2006-01-01  49.748142  63.098232  53.587993  58.241416\n",
       "2007-01-01  49.562101  62.625545  53.305214  58.143913\n",
       "2008-01-01  49.376060  62.152857  53.022435  58.046411\n",
       "2009-01-01  49.190019  61.680169  52.739656  57.948909\n",
       "2010-01-01  49.003979  61.207482  52.456877  57.851406\n",
       "2011-01-01  48.808504  61.023328  52.288565  57.717770\n",
       "2012-01-01  48.613029  60.839175  52.120253  57.584134\n",
       "2013-01-01  48.417554  60.655021  51.951941  57.450498\n",
       "2014-01-01  48.222079  60.470868  51.783629  57.316862\n",
       "2015-01-01  48.026604  60.286715  51.615316  57.183227\n",
       "2016-01-01  47.771328  60.071033  51.356539  57.039281\n",
       "2017-01-01  47.532743  59.832881  51.097761  56.902172\n",
       "2018-01-01  47.312139  59.708428  50.838984  56.778156\n",
       "2019-01-01  47.109536  59.558526  50.580206  56.643125\n",
       "2020-01-01  46.924915  59.417478  50.321429  56.508102\n",
       "2021-01-01  46.728305  59.270527  50.062651  56.373073\n",
       "2022-01-01  46.539688  59.127512  49.803873  56.238048\n",
       "2023-01-01        NaN        NaN        NaN        NaN"
      ]
     },
     "execution_count": 25,
     "metadata": {},
     "output_type": "execute_result"
    }
   ],
   "source": [
    "# Fetch deforForest = pd.read_csv(file_path2, delimiter=\";\")  # Try semicolon if commas fail\n",
    "#Forestation data (Forest Area %)\n",
    "vars = {\"AG.LND.FRST.ZS\": \"Forest Area (%)\"}\n",
    "countries = [\"BRA\", \"ECU\", \"BOL\", \"PER\"]\n",
    "\n",
    "# Get deforestation data and reshape it\n",
    "deforestation"
   ]
  },
  {
   "cell_type": "code",
   "execution_count": 23,
   "id": "58ee194e-8f48-40fd-b056-1c5c15098e03",
   "metadata": {},
   "outputs": [
    {
     "data": {
      "application/vnd.plotly.v1+json": {
       "config": {
        "plotlyServerURL": "https://plot.ly"
       },
       "data": [
        {
         "hovertemplate": "country=Bolivia<br>date=%{x}<br>Country's Forest (%)=%{y}<extra></extra>",
         "legendgroup": "Bolivia",
         "line": {
          "color": "#636efa",
          "dash": "solid"
         },
         "marker": {
          "symbol": "circle"
         },
         "mode": "lines",
         "name": "Bolivia",
         "orientation": "v",
         "showlegend": true,
         "type": "scatter",
         "x": [
          "1990-01-01T00:00:00.000000000",
          "1991-01-01T00:00:00.000000000",
          "1992-01-01T00:00:00.000000000",
          "1993-01-01T00:00:00.000000000",
          "1994-01-01T00:00:00.000000000",
          "1995-01-01T00:00:00.000000000",
          "1996-01-01T00:00:00.000000000",
          "1997-01-01T00:00:00.000000000",
          "1998-01-01T00:00:00.000000000",
          "1999-01-01T00:00:00.000000000",
          "2000-01-01T00:00:00.000000000",
          "2001-01-01T00:00:00.000000000",
          "2002-01-01T00:00:00.000000000",
          "2003-01-01T00:00:00.000000000",
          "2004-01-01T00:00:00.000000000",
          "2005-01-01T00:00:00.000000000",
          "2006-01-01T00:00:00.000000000",
          "2007-01-01T00:00:00.000000000",
          "2008-01-01T00:00:00.000000000",
          "2009-01-01T00:00:00.000000000",
          "2010-01-01T00:00:00.000000000",
          "2011-01-01T00:00:00.000000000",
          "2012-01-01T00:00:00.000000000",
          "2013-01-01T00:00:00.000000000",
          "2014-01-01T00:00:00.000000000",
          "2015-01-01T00:00:00.000000000",
          "2016-01-01T00:00:00.000000000",
          "2017-01-01T00:00:00.000000000",
          "2018-01-01T00:00:00.000000000",
          "2019-01-01T00:00:00.000000000",
          "2020-01-01T00:00:00.000000000",
          "2021-01-01T00:00:00.000000000",
          "2022-01-01T00:00:00.000000000",
          "2023-01-01T00:00:00.000000000"
         ],
         "xaxis": "x",
         "y": {
          "bdata": "VuD1ZQ+uSkAj2MtHHo5KQP7PoSktbkpAy8d3CzxOSkCmv03tSi5KQHO3I89ZDkpATq/5sGjuSUAbp8+Sd85JQPaepXSGrklAw5Z7VpWOSUCejlE4pG5JQAYA9wjUVklAfXGc2QM/SUDz4kGqMydJQGlU53pjD0lA0cWMS5P3SEBINzIcw99IQL6o1+zyx0hANBp9vSKwSECqiyKOUphIQBP9x16CgEhAYbQnDH1nSECwa4e5d05IQA0j52ZyNUhAXNpGFG0cSECrkabBZwNIQAXIJ+O64kdAffdh6DDER0ASKFQq9KdHQCds3UMFjkdAS7EemmN2R0BWjPgcOV1HQMJYF4IURUdAAAAAAAAA+H8=",
          "dtype": "f8"
         },
         "yaxis": "y"
        },
        {
         "hovertemplate": "country=Brazil<br>date=%{x}<br>Country's Forest (%)=%{y}<extra></extra>",
         "legendgroup": "Brazil",
         "line": {
          "color": "#EF553B",
          "dash": "solid"
         },
         "marker": {
          "symbol": "circle"
         },
         "mode": "lines",
         "name": "Brazil",
         "orientation": "v",
         "showlegend": true,
         "type": "scatter",
         "x": [
          "1990-01-01T00:00:00.000000000",
          "1991-01-01T00:00:00.000000000",
          "1992-01-01T00:00:00.000000000",
          "1993-01-01T00:00:00.000000000",
          "1994-01-01T00:00:00.000000000",
          "1995-01-01T00:00:00.000000000",
          "1996-01-01T00:00:00.000000000",
          "1997-01-01T00:00:00.000000000",
          "1998-01-01T00:00:00.000000000",
          "1999-01-01T00:00:00.000000000",
          "2000-01-01T00:00:00.000000000",
          "2001-01-01T00:00:00.000000000",
          "2002-01-01T00:00:00.000000000",
          "2003-01-01T00:00:00.000000000",
          "2004-01-01T00:00:00.000000000",
          "2005-01-01T00:00:00.000000000",
          "2006-01-01T00:00:00.000000000",
          "2007-01-01T00:00:00.000000000",
          "2008-01-01T00:00:00.000000000",
          "2009-01-01T00:00:00.000000000",
          "2010-01-01T00:00:00.000000000",
          "2011-01-01T00:00:00.000000000",
          "2012-01-01T00:00:00.000000000",
          "2013-01-01T00:00:00.000000000",
          "2014-01-01T00:00:00.000000000",
          "2015-01-01T00:00:00.000000000",
          "2016-01-01T00:00:00.000000000",
          "2017-01-01T00:00:00.000000000",
          "2018-01-01T00:00:00.000000000",
          "2019-01-01T00:00:00.000000000",
          "2020-01-01T00:00:00.000000000",
          "2021-01-01T00:00:00.000000000",
          "2022-01-01T00:00:00.000000000",
          "2023-01-01T00:00:00.000000000"
         ],
         "xaxis": "x",
         "y": {
          "bdata": "KDt8NVCdUUAgfiOkXIBRQBjByhJpY1FACARygXVGUUAARxnwgSlRQPiJwF6ODFFA6cxnzZrvUEDhDw88p9JQQNlStqqztVBAypVdGcCYUEDB2ASIzHtQQJouGASMXVBAe4QrgEs/UEBN2j78CiFQQC0wUnjKAlBACwzL6BPJT0C9t/HgkoxPQG9jGNkRUE9AMA8/0ZATT0DiumXJD9dOQJRmjMGOmk5AwSTDavyCTkDv4vkTamtOQByhML3XU05ASl9nZkU8TkB3HZ4PsyROQBVBOJgXCU5AVp473JvqTUBGAWLErdpNQB32LMl9x01ACqW462+1TUC5vSGloKJNQOtuO09SkE1AAAAAAAAA+H8=",
          "dtype": "f8"
         },
         "yaxis": "y"
        },
        {
         "hovertemplate": "country=Ecuador<br>date=%{x}<br>Country's Forest (%)=%{y}<extra></extra>",
         "legendgroup": "Ecuador",
         "line": {
          "color": "#00cc96",
          "dash": "solid"
         },
         "marker": {
          "symbol": "circle"
         },
         "mode": "lines",
         "name": "Ecuador",
         "orientation": "v",
         "showlegend": true,
         "type": "scatter",
         "x": [
          "1990-01-01T00:00:00.000000000",
          "1991-01-01T00:00:00.000000000",
          "1992-01-01T00:00:00.000000000",
          "1993-01-01T00:00:00.000000000",
          "1994-01-01T00:00:00.000000000",
          "1995-01-01T00:00:00.000000000",
          "1996-01-01T00:00:00.000000000",
          "1997-01-01T00:00:00.000000000",
          "1998-01-01T00:00:00.000000000",
          "1999-01-01T00:00:00.000000000",
          "2000-01-01T00:00:00.000000000",
          "2001-01-01T00:00:00.000000000",
          "2002-01-01T00:00:00.000000000",
          "2003-01-01T00:00:00.000000000",
          "2004-01-01T00:00:00.000000000",
          "2005-01-01T00:00:00.000000000",
          "2006-01-01T00:00:00.000000000",
          "2007-01-01T00:00:00.000000000",
          "2008-01-01T00:00:00.000000000",
          "2009-01-01T00:00:00.000000000",
          "2010-01-01T00:00:00.000000000",
          "2011-01-01T00:00:00.000000000",
          "2012-01-01T00:00:00.000000000",
          "2013-01-01T00:00:00.000000000",
          "2014-01-01T00:00:00.000000000",
          "2015-01-01T00:00:00.000000000",
          "2016-01-01T00:00:00.000000000",
          "2017-01-01T00:00:00.000000000",
          "2018-01-01T00:00:00.000000000",
          "2019-01-01T00:00:00.000000000",
          "2020-01-01T00:00:00.000000000",
          "2021-01-01T00:00:00.000000000",
          "2022-01-01T00:00:00.000000000",
          "2023-01-01T00:00:00.000000000"
         ],
         "xaxis": "x",
         "y": {
          "bdata": "kugpu1xtSkADuuixq0NKQHWLp6j6GUpA9Vxmn0nwSUBmLiWWmMZJQNj/44znnElASdGigzZzSUDJomF6hUlJQE0pPdthAUxAKIBP6+jSS0AD12H7b6RLQC358eA9gEtAVhuCxgtcS0COPRKs2TdLQLhfopGnE0tA4oEyd3XvSkAMpMJcQ8tKQDXGUkIRp0pAX+jiJ9+CSkCXCnMNrV5KQMEsA/N6OkpAi3yNsu8kSkBWzBdyZA9KQCAcojHZ+UlA+Gss8U3kSUDDu7awws5JQCA3BxGjrUlAfrJXcYOMSUDbLajRY2tJQDmp+DFESklAliRJkiQpSUD0n5nyBAhJQFEb6lLl5khAAAAAAAAA+H8=",
          "dtype": "f8"
         },
         "yaxis": "y"
        },
        {
         "hovertemplate": "country=Peru<br>date=%{x}<br>Country's Forest (%)=%{y}<extra></extra>",
         "legendgroup": "Peru",
         "line": {
          "color": "#ab63fa",
          "dash": "solid"
         },
         "marker": {
          "symbol": "circle"
         },
         "mode": "lines",
         "name": "Peru",
         "orientation": "v",
         "showlegend": true,
         "type": "scatter",
         "x": [
          "1990-01-01T00:00:00.000000000",
          "1991-01-01T00:00:00.000000000",
          "1992-01-01T00:00:00.000000000",
          "1993-01-01T00:00:00.000000000",
          "1994-01-01T00:00:00.000000000",
          "1995-01-01T00:00:00.000000000",
          "1996-01-01T00:00:00.000000000",
          "1997-01-01T00:00:00.000000000",
          "1998-01-01T00:00:00.000000000",
          "1999-01-01T00:00:00.000000000",
          "2000-01-01T00:00:00.000000000",
          "2001-01-01T00:00:00.000000000",
          "2002-01-01T00:00:00.000000000",
          "2003-01-01T00:00:00.000000000",
          "2004-01-01T00:00:00.000000000",
          "2005-01-01T00:00:00.000000000",
          "2006-01-01T00:00:00.000000000",
          "2007-01-01T00:00:00.000000000",
          "2008-01-01T00:00:00.000000000",
          "2009-01-01T00:00:00.000000000",
          "2010-01-01T00:00:00.000000000",
          "2011-01-01T00:00:00.000000000",
          "2012-01-01T00:00:00.000000000",
          "2013-01-01T00:00:00.000000000",
          "2014-01-01T00:00:00.000000000",
          "2015-01-01T00:00:00.000000000",
          "2016-01-01T00:00:00.000000000",
          "2017-01-01T00:00:00.000000000",
          "2018-01-01T00:00:00.000000000",
          "2019-01-01T00:00:00.000000000",
          "2020-01-01T00:00:00.000000000",
          "2021-01-01T00:00:00.000000000",
          "2022-01-01T00:00:00.000000000",
          "2023-01-01T00:00:00.000000000"
         ],
         "xaxis": "x",
         "y": {
          "bdata": "yXa+n9rcTUD7OnDOWNFNQC7/If3WxU1AYcPTK1W6TUCUh4Va065NQMdLN4lRo01A+Q/pt8+XTUAs1JrmTYxNQF+YTBXMgE1Aklz+Q0p1TUDFILByyGlNQIBIv31NXU1AO3DOiNJQTUD2l92TV0RNQLG/7J7cN01Abef7qWErTUAoDwu15h5NQOM2GsBrEk1Anl4py/AFTUBZhjjWdflMQBSuR+H67ExAFR3J5d/bTEAVjErqxMpMQBb7y+6puUxAFmpN846oTEAX2c73c5dMQEoMAisHhUxAfT81XnpzTEDJdr6fmmNMQLgehetRUkxA9P3UeAlBTEAYITzawC9MQIYDIVl4HkxAAAAAAAAA+H8=",
          "dtype": "f8"
         },
         "yaxis": "y"
        }
       ],
       "layout": {
        "legend": {
         "title": {
          "text": "country"
         },
         "tracegroupgap": 0
        },
        "template": {
         "data": {
          "bar": [
           {
            "error_x": {
             "color": "#2a3f5f"
            },
            "error_y": {
             "color": "#2a3f5f"
            },
            "marker": {
             "line": {
              "color": "#E5ECF6",
              "width": 0.5
             },
             "pattern": {
              "fillmode": "overlay",
              "size": 10,
              "solidity": 0.2
             }
            },
            "type": "bar"
           }
          ],
          "barpolar": [
           {
            "marker": {
             "line": {
              "color": "#E5ECF6",
              "width": 0.5
             },
             "pattern": {
              "fillmode": "overlay",
              "size": 10,
              "solidity": 0.2
             }
            },
            "type": "barpolar"
           }
          ],
          "carpet": [
           {
            "aaxis": {
             "endlinecolor": "#2a3f5f",
             "gridcolor": "white",
             "linecolor": "white",
             "minorgridcolor": "white",
             "startlinecolor": "#2a3f5f"
            },
            "baxis": {
             "endlinecolor": "#2a3f5f",
             "gridcolor": "white",
             "linecolor": "white",
             "minorgridcolor": "white",
             "startlinecolor": "#2a3f5f"
            },
            "type": "carpet"
           }
          ],
          "choropleth": [
           {
            "colorbar": {
             "outlinewidth": 0,
             "ticks": ""
            },
            "type": "choropleth"
           }
          ],
          "contour": [
           {
            "colorbar": {
             "outlinewidth": 0,
             "ticks": ""
            },
            "colorscale": [
             [
              0,
              "#0d0887"
             ],
             [
              0.1111111111111111,
              "#46039f"
             ],
             [
              0.2222222222222222,
              "#7201a8"
             ],
             [
              0.3333333333333333,
              "#9c179e"
             ],
             [
              0.4444444444444444,
              "#bd3786"
             ],
             [
              0.5555555555555556,
              "#d8576b"
             ],
             [
              0.6666666666666666,
              "#ed7953"
             ],
             [
              0.7777777777777778,
              "#fb9f3a"
             ],
             [
              0.8888888888888888,
              "#fdca26"
             ],
             [
              1,
              "#f0f921"
             ]
            ],
            "type": "contour"
           }
          ],
          "contourcarpet": [
           {
            "colorbar": {
             "outlinewidth": 0,
             "ticks": ""
            },
            "type": "contourcarpet"
           }
          ],
          "heatmap": [
           {
            "colorbar": {
             "outlinewidth": 0,
             "ticks": ""
            },
            "colorscale": [
             [
              0,
              "#0d0887"
             ],
             [
              0.1111111111111111,
              "#46039f"
             ],
             [
              0.2222222222222222,
              "#7201a8"
             ],
             [
              0.3333333333333333,
              "#9c179e"
             ],
             [
              0.4444444444444444,
              "#bd3786"
             ],
             [
              0.5555555555555556,
              "#d8576b"
             ],
             [
              0.6666666666666666,
              "#ed7953"
             ],
             [
              0.7777777777777778,
              "#fb9f3a"
             ],
             [
              0.8888888888888888,
              "#fdca26"
             ],
             [
              1,
              "#f0f921"
             ]
            ],
            "type": "heatmap"
           }
          ],
          "histogram": [
           {
            "marker": {
             "pattern": {
              "fillmode": "overlay",
              "size": 10,
              "solidity": 0.2
             }
            },
            "type": "histogram"
           }
          ],
          "histogram2d": [
           {
            "colorbar": {
             "outlinewidth": 0,
             "ticks": ""
            },
            "colorscale": [
             [
              0,
              "#0d0887"
             ],
             [
              0.1111111111111111,
              "#46039f"
             ],
             [
              0.2222222222222222,
              "#7201a8"
             ],
             [
              0.3333333333333333,
              "#9c179e"
             ],
             [
              0.4444444444444444,
              "#bd3786"
             ],
             [
              0.5555555555555556,
              "#d8576b"
             ],
             [
              0.6666666666666666,
              "#ed7953"
             ],
             [
              0.7777777777777778,
              "#fb9f3a"
             ],
             [
              0.8888888888888888,
              "#fdca26"
             ],
             [
              1,
              "#f0f921"
             ]
            ],
            "type": "histogram2d"
           }
          ],
          "histogram2dcontour": [
           {
            "colorbar": {
             "outlinewidth": 0,
             "ticks": ""
            },
            "colorscale": [
             [
              0,
              "#0d0887"
             ],
             [
              0.1111111111111111,
              "#46039f"
             ],
             [
              0.2222222222222222,
              "#7201a8"
             ],
             [
              0.3333333333333333,
              "#9c179e"
             ],
             [
              0.4444444444444444,
              "#bd3786"
             ],
             [
              0.5555555555555556,
              "#d8576b"
             ],
             [
              0.6666666666666666,
              "#ed7953"
             ],
             [
              0.7777777777777778,
              "#fb9f3a"
             ],
             [
              0.8888888888888888,
              "#fdca26"
             ],
             [
              1,
              "#f0f921"
             ]
            ],
            "type": "histogram2dcontour"
           }
          ],
          "mesh3d": [
           {
            "colorbar": {
             "outlinewidth": 0,
             "ticks": ""
            },
            "type": "mesh3d"
           }
          ],
          "parcoords": [
           {
            "line": {
             "colorbar": {
              "outlinewidth": 0,
              "ticks": ""
             }
            },
            "type": "parcoords"
           }
          ],
          "pie": [
           {
            "automargin": true,
            "type": "pie"
           }
          ],
          "scatter": [
           {
            "fillpattern": {
             "fillmode": "overlay",
             "size": 10,
             "solidity": 0.2
            },
            "type": "scatter"
           }
          ],
          "scatter3d": [
           {
            "line": {
             "colorbar": {
              "outlinewidth": 0,
              "ticks": ""
             }
            },
            "marker": {
             "colorbar": {
              "outlinewidth": 0,
              "ticks": ""
             }
            },
            "type": "scatter3d"
           }
          ],
          "scattercarpet": [
           {
            "marker": {
             "colorbar": {
              "outlinewidth": 0,
              "ticks": ""
             }
            },
            "type": "scattercarpet"
           }
          ],
          "scattergeo": [
           {
            "marker": {
             "colorbar": {
              "outlinewidth": 0,
              "ticks": ""
             }
            },
            "type": "scattergeo"
           }
          ],
          "scattergl": [
           {
            "marker": {
             "colorbar": {
              "outlinewidth": 0,
              "ticks": ""
             }
            },
            "type": "scattergl"
           }
          ],
          "scattermap": [
           {
            "marker": {
             "colorbar": {
              "outlinewidth": 0,
              "ticks": ""
             }
            },
            "type": "scattermap"
           }
          ],
          "scattermapbox": [
           {
            "marker": {
             "colorbar": {
              "outlinewidth": 0,
              "ticks": ""
             }
            },
            "type": "scattermapbox"
           }
          ],
          "scatterpolar": [
           {
            "marker": {
             "colorbar": {
              "outlinewidth": 0,
              "ticks": ""
             }
            },
            "type": "scatterpolar"
           }
          ],
          "scatterpolargl": [
           {
            "marker": {
             "colorbar": {
              "outlinewidth": 0,
              "ticks": ""
             }
            },
            "type": "scatterpolargl"
           }
          ],
          "scatterternary": [
           {
            "marker": {
             "colorbar": {
              "outlinewidth": 0,
              "ticks": ""
             }
            },
            "type": "scatterternary"
           }
          ],
          "surface": [
           {
            "colorbar": {
             "outlinewidth": 0,
             "ticks": ""
            },
            "colorscale": [
             [
              0,
              "#0d0887"
             ],
             [
              0.1111111111111111,
              "#46039f"
             ],
             [
              0.2222222222222222,
              "#7201a8"
             ],
             [
              0.3333333333333333,
              "#9c179e"
             ],
             [
              0.4444444444444444,
              "#bd3786"
             ],
             [
              0.5555555555555556,
              "#d8576b"
             ],
             [
              0.6666666666666666,
              "#ed7953"
             ],
             [
              0.7777777777777778,
              "#fb9f3a"
             ],
             [
              0.8888888888888888,
              "#fdca26"
             ],
             [
              1,
              "#f0f921"
             ]
            ],
            "type": "surface"
           }
          ],
          "table": [
           {
            "cells": {
             "fill": {
              "color": "#EBF0F8"
             },
             "line": {
              "color": "white"
             }
            },
            "header": {
             "fill": {
              "color": "#C8D4E3"
             },
             "line": {
              "color": "white"
             }
            },
            "type": "table"
           }
          ]
         },
         "layout": {
          "annotationdefaults": {
           "arrowcolor": "#2a3f5f",
           "arrowhead": 0,
           "arrowwidth": 1
          },
          "autotypenumbers": "strict",
          "coloraxis": {
           "colorbar": {
            "outlinewidth": 0,
            "ticks": ""
           }
          },
          "colorscale": {
           "diverging": [
            [
             0,
             "#8e0152"
            ],
            [
             0.1,
             "#c51b7d"
            ],
            [
             0.2,
             "#de77ae"
            ],
            [
             0.3,
             "#f1b6da"
            ],
            [
             0.4,
             "#fde0ef"
            ],
            [
             0.5,
             "#f7f7f7"
            ],
            [
             0.6,
             "#e6f5d0"
            ],
            [
             0.7,
             "#b8e186"
            ],
            [
             0.8,
             "#7fbc41"
            ],
            [
             0.9,
             "#4d9221"
            ],
            [
             1,
             "#276419"
            ]
           ],
           "sequential": [
            [
             0,
             "#0d0887"
            ],
            [
             0.1111111111111111,
             "#46039f"
            ],
            [
             0.2222222222222222,
             "#7201a8"
            ],
            [
             0.3333333333333333,
             "#9c179e"
            ],
            [
             0.4444444444444444,
             "#bd3786"
            ],
            [
             0.5555555555555556,
             "#d8576b"
            ],
            [
             0.6666666666666666,
             "#ed7953"
            ],
            [
             0.7777777777777778,
             "#fb9f3a"
            ],
            [
             0.8888888888888888,
             "#fdca26"
            ],
            [
             1,
             "#f0f921"
            ]
           ],
           "sequentialminus": [
            [
             0,
             "#0d0887"
            ],
            [
             0.1111111111111111,
             "#46039f"
            ],
            [
             0.2222222222222222,
             "#7201a8"
            ],
            [
             0.3333333333333333,
             "#9c179e"
            ],
            [
             0.4444444444444444,
             "#bd3786"
            ],
            [
             0.5555555555555556,
             "#d8576b"
            ],
            [
             0.6666666666666666,
             "#ed7953"
            ],
            [
             0.7777777777777778,
             "#fb9f3a"
            ],
            [
             0.8888888888888888,
             "#fdca26"
            ],
            [
             1,
             "#f0f921"
            ]
           ]
          },
          "colorway": [
           "#636efa",
           "#EF553B",
           "#00cc96",
           "#ab63fa",
           "#FFA15A",
           "#19d3f3",
           "#FF6692",
           "#B6E880",
           "#FF97FF",
           "#FECB52"
          ],
          "font": {
           "color": "#2a3f5f"
          },
          "geo": {
           "bgcolor": "white",
           "lakecolor": "white",
           "landcolor": "#E5ECF6",
           "showlakes": true,
           "showland": true,
           "subunitcolor": "white"
          },
          "hoverlabel": {
           "align": "left"
          },
          "hovermode": "closest",
          "mapbox": {
           "style": "light"
          },
          "paper_bgcolor": "white",
          "plot_bgcolor": "#E5ECF6",
          "polar": {
           "angularaxis": {
            "gridcolor": "white",
            "linecolor": "white",
            "ticks": ""
           },
           "bgcolor": "#E5ECF6",
           "radialaxis": {
            "gridcolor": "white",
            "linecolor": "white",
            "ticks": ""
           }
          },
          "scene": {
           "xaxis": {
            "backgroundcolor": "#E5ECF6",
            "gridcolor": "white",
            "gridwidth": 2,
            "linecolor": "white",
            "showbackground": true,
            "ticks": "",
            "zerolinecolor": "white"
           },
           "yaxis": {
            "backgroundcolor": "#E5ECF6",
            "gridcolor": "white",
            "gridwidth": 2,
            "linecolor": "white",
            "showbackground": true,
            "ticks": "",
            "zerolinecolor": "white"
           },
           "zaxis": {
            "backgroundcolor": "#E5ECF6",
            "gridcolor": "white",
            "gridwidth": 2,
            "linecolor": "white",
            "showbackground": true,
            "ticks": "",
            "zerolinecolor": "white"
           }
          },
          "shapedefaults": {
           "line": {
            "color": "#2a3f5f"
           }
          },
          "ternary": {
           "aaxis": {
            "gridcolor": "white",
            "linecolor": "white",
            "ticks": ""
           },
           "baxis": {
            "gridcolor": "white",
            "linecolor": "white",
            "ticks": ""
           },
           "bgcolor": "#E5ECF6",
           "caxis": {
            "gridcolor": "white",
            "linecolor": "white",
            "ticks": ""
           }
          },
          "title": {
           "x": 0.05
          },
          "xaxis": {
           "automargin": true,
           "gridcolor": "white",
           "linecolor": "white",
           "ticks": "",
           "title": {
            "standoff": 15
           },
           "zerolinecolor": "white",
           "zerolinewidth": 2
          },
          "yaxis": {
           "automargin": true,
           "gridcolor": "white",
           "linecolor": "white",
           "ticks": "",
           "title": {
            "standoff": 15
           },
           "zerolinecolor": "white",
           "zerolinewidth": 2
          }
         }
        },
        "title": {
         "text": "Forest Area Over Time"
        },
        "xaxis": {
         "anchor": "y",
         "domain": [
          0,
          1
         ],
         "title": {
          "text": "date"
         }
        },
        "yaxis": {
         "anchor": "x",
         "domain": [
          0,
          1
         ],
         "title": {
          "text": "Country's Forest (%)"
         }
        }
       }
      },
      "text/html": [
       "<div>            <script src=\"https://cdnjs.cloudflare.com/ajax/libs/mathjax/2.7.5/MathJax.js?config=TeX-AMS-MML_SVG\"></script><script type=\"text/javascript\">if (window.MathJax && window.MathJax.Hub && window.MathJax.Hub.Config) {window.MathJax.Hub.Config({SVG: {font: \"STIX-Web\"}});}</script>                <script type=\"text/javascript\">window.PlotlyConfig = {MathJaxConfig: 'local'};</script>\n",
       "        <script charset=\"utf-8\" src=\"https://cdn.plot.ly/plotly-3.0.0.min.js\"></script>                <div id=\"99d1419d-a36b-4cf7-93e7-fa83d947e5b4\" class=\"plotly-graph-div\" style=\"height:525px; width:100%;\"></div>            <script type=\"text/javascript\">                window.PLOTLYENV=window.PLOTLYENV || {};                                if (document.getElementById(\"99d1419d-a36b-4cf7-93e7-fa83d947e5b4\")) {                    Plotly.newPlot(                        \"99d1419d-a36b-4cf7-93e7-fa83d947e5b4\",                        [{\"hovertemplate\":\"country=Bolivia\\u003cbr\\u003edate=%{x}\\u003cbr\\u003eCountry's Forest (%)=%{y}\\u003cextra\\u003e\\u003c\\u002fextra\\u003e\",\"legendgroup\":\"Bolivia\",\"line\":{\"color\":\"#636efa\",\"dash\":\"solid\"},\"marker\":{\"symbol\":\"circle\"},\"mode\":\"lines\",\"name\":\"Bolivia\",\"orientation\":\"v\",\"showlegend\":true,\"x\":[\"1990-01-01T00:00:00.000000000\",\"1991-01-01T00:00:00.000000000\",\"1992-01-01T00:00:00.000000000\",\"1993-01-01T00:00:00.000000000\",\"1994-01-01T00:00:00.000000000\",\"1995-01-01T00:00:00.000000000\",\"1996-01-01T00:00:00.000000000\",\"1997-01-01T00:00:00.000000000\",\"1998-01-01T00:00:00.000000000\",\"1999-01-01T00:00:00.000000000\",\"2000-01-01T00:00:00.000000000\",\"2001-01-01T00:00:00.000000000\",\"2002-01-01T00:00:00.000000000\",\"2003-01-01T00:00:00.000000000\",\"2004-01-01T00:00:00.000000000\",\"2005-01-01T00:00:00.000000000\",\"2006-01-01T00:00:00.000000000\",\"2007-01-01T00:00:00.000000000\",\"2008-01-01T00:00:00.000000000\",\"2009-01-01T00:00:00.000000000\",\"2010-01-01T00:00:00.000000000\",\"2011-01-01T00:00:00.000000000\",\"2012-01-01T00:00:00.000000000\",\"2013-01-01T00:00:00.000000000\",\"2014-01-01T00:00:00.000000000\",\"2015-01-01T00:00:00.000000000\",\"2016-01-01T00:00:00.000000000\",\"2017-01-01T00:00:00.000000000\",\"2018-01-01T00:00:00.000000000\",\"2019-01-01T00:00:00.000000000\",\"2020-01-01T00:00:00.000000000\",\"2021-01-01T00:00:00.000000000\",\"2022-01-01T00:00:00.000000000\",\"2023-01-01T00:00:00.000000000\"],\"xaxis\":\"x\",\"y\":{\"dtype\":\"f8\",\"bdata\":\"VuD1ZQ+uSkAj2MtHHo5KQP7PoSktbkpAy8d3CzxOSkCmv03tSi5KQHO3I89ZDkpATq\\u002f5sGjuSUAbp8+Sd85JQPaepXSGrklAw5Z7VpWOSUCejlE4pG5JQAYA9wjUVklAfXGc2QM\\u002fSUDz4kGqMydJQGlU53pjD0lA0cWMS5P3SEBINzIcw99IQL6o1+zyx0hANBp9vSKwSECqiyKOUphIQBP9x16CgEhAYbQnDH1nSECwa4e5d05IQA0j52ZyNUhAXNpGFG0cSECrkabBZwNIQAXIJ+O64kdAffdh6DDER0ASKFQq9KdHQCds3UMFjkdAS7EemmN2R0BWjPgcOV1HQMJYF4IURUdAAAAAAAAA+H8=\"},\"yaxis\":\"y\",\"type\":\"scatter\"},{\"hovertemplate\":\"country=Brazil\\u003cbr\\u003edate=%{x}\\u003cbr\\u003eCountry's Forest (%)=%{y}\\u003cextra\\u003e\\u003c\\u002fextra\\u003e\",\"legendgroup\":\"Brazil\",\"line\":{\"color\":\"#EF553B\",\"dash\":\"solid\"},\"marker\":{\"symbol\":\"circle\"},\"mode\":\"lines\",\"name\":\"Brazil\",\"orientation\":\"v\",\"showlegend\":true,\"x\":[\"1990-01-01T00:00:00.000000000\",\"1991-01-01T00:00:00.000000000\",\"1992-01-01T00:00:00.000000000\",\"1993-01-01T00:00:00.000000000\",\"1994-01-01T00:00:00.000000000\",\"1995-01-01T00:00:00.000000000\",\"1996-01-01T00:00:00.000000000\",\"1997-01-01T00:00:00.000000000\",\"1998-01-01T00:00:00.000000000\",\"1999-01-01T00:00:00.000000000\",\"2000-01-01T00:00:00.000000000\",\"2001-01-01T00:00:00.000000000\",\"2002-01-01T00:00:00.000000000\",\"2003-01-01T00:00:00.000000000\",\"2004-01-01T00:00:00.000000000\",\"2005-01-01T00:00:00.000000000\",\"2006-01-01T00:00:00.000000000\",\"2007-01-01T00:00:00.000000000\",\"2008-01-01T00:00:00.000000000\",\"2009-01-01T00:00:00.000000000\",\"2010-01-01T00:00:00.000000000\",\"2011-01-01T00:00:00.000000000\",\"2012-01-01T00:00:00.000000000\",\"2013-01-01T00:00:00.000000000\",\"2014-01-01T00:00:00.000000000\",\"2015-01-01T00:00:00.000000000\",\"2016-01-01T00:00:00.000000000\",\"2017-01-01T00:00:00.000000000\",\"2018-01-01T00:00:00.000000000\",\"2019-01-01T00:00:00.000000000\",\"2020-01-01T00:00:00.000000000\",\"2021-01-01T00:00:00.000000000\",\"2022-01-01T00:00:00.000000000\",\"2023-01-01T00:00:00.000000000\"],\"xaxis\":\"x\",\"y\":{\"dtype\":\"f8\",\"bdata\":\"KDt8NVCdUUAgfiOkXIBRQBjByhJpY1FACARygXVGUUAARxnwgSlRQPiJwF6ODFFA6cxnzZrvUEDhDw88p9JQQNlStqqztVBAypVdGcCYUEDB2ASIzHtQQJouGASMXVBAe4QrgEs\\u002fUEBN2j78CiFQQC0wUnjKAlBACwzL6BPJT0C9t\\u002fHgkoxPQG9jGNkRUE9AMA8\\u002f0ZATT0DiumXJD9dOQJRmjMGOmk5AwSTDavyCTkDv4vkTamtOQByhML3XU05ASl9nZkU8TkB3HZ4PsyROQBVBOJgXCU5AVp473JvqTUBGAWLErdpNQB32LMl9x01ACqW462+1TUC5vSGloKJNQOtuO09SkE1AAAAAAAAA+H8=\"},\"yaxis\":\"y\",\"type\":\"scatter\"},{\"hovertemplate\":\"country=Ecuador\\u003cbr\\u003edate=%{x}\\u003cbr\\u003eCountry's Forest (%)=%{y}\\u003cextra\\u003e\\u003c\\u002fextra\\u003e\",\"legendgroup\":\"Ecuador\",\"line\":{\"color\":\"#00cc96\",\"dash\":\"solid\"},\"marker\":{\"symbol\":\"circle\"},\"mode\":\"lines\",\"name\":\"Ecuador\",\"orientation\":\"v\",\"showlegend\":true,\"x\":[\"1990-01-01T00:00:00.000000000\",\"1991-01-01T00:00:00.000000000\",\"1992-01-01T00:00:00.000000000\",\"1993-01-01T00:00:00.000000000\",\"1994-01-01T00:00:00.000000000\",\"1995-01-01T00:00:00.000000000\",\"1996-01-01T00:00:00.000000000\",\"1997-01-01T00:00:00.000000000\",\"1998-01-01T00:00:00.000000000\",\"1999-01-01T00:00:00.000000000\",\"2000-01-01T00:00:00.000000000\",\"2001-01-01T00:00:00.000000000\",\"2002-01-01T00:00:00.000000000\",\"2003-01-01T00:00:00.000000000\",\"2004-01-01T00:00:00.000000000\",\"2005-01-01T00:00:00.000000000\",\"2006-01-01T00:00:00.000000000\",\"2007-01-01T00:00:00.000000000\",\"2008-01-01T00:00:00.000000000\",\"2009-01-01T00:00:00.000000000\",\"2010-01-01T00:00:00.000000000\",\"2011-01-01T00:00:00.000000000\",\"2012-01-01T00:00:00.000000000\",\"2013-01-01T00:00:00.000000000\",\"2014-01-01T00:00:00.000000000\",\"2015-01-01T00:00:00.000000000\",\"2016-01-01T00:00:00.000000000\",\"2017-01-01T00:00:00.000000000\",\"2018-01-01T00:00:00.000000000\",\"2019-01-01T00:00:00.000000000\",\"2020-01-01T00:00:00.000000000\",\"2021-01-01T00:00:00.000000000\",\"2022-01-01T00:00:00.000000000\",\"2023-01-01T00:00:00.000000000\"],\"xaxis\":\"x\",\"y\":{\"dtype\":\"f8\",\"bdata\":\"kugpu1xtSkADuuixq0NKQHWLp6j6GUpA9Vxmn0nwSUBmLiWWmMZJQNj\\u002f44znnElASdGigzZzSUDJomF6hUlJQE0pPdthAUxAKIBP6+jSS0AD12H7b6RLQC358eA9gEtAVhuCxgtcS0COPRKs2TdLQLhfopGnE0tA4oEyd3XvSkAMpMJcQ8tKQDXGUkIRp0pAX+jiJ9+CSkCXCnMNrV5KQMEsA\\u002fN6OkpAi3yNsu8kSkBWzBdyZA9KQCAcojHZ+UlA+Gss8U3kSUDDu7awws5JQCA3BxGjrUlAfrJXcYOMSUDbLajRY2tJQDmp+DFESklAliRJkiQpSUD0n5nyBAhJQFEb6lLl5khAAAAAAAAA+H8=\"},\"yaxis\":\"y\",\"type\":\"scatter\"},{\"hovertemplate\":\"country=Peru\\u003cbr\\u003edate=%{x}\\u003cbr\\u003eCountry's Forest (%)=%{y}\\u003cextra\\u003e\\u003c\\u002fextra\\u003e\",\"legendgroup\":\"Peru\",\"line\":{\"color\":\"#ab63fa\",\"dash\":\"solid\"},\"marker\":{\"symbol\":\"circle\"},\"mode\":\"lines\",\"name\":\"Peru\",\"orientation\":\"v\",\"showlegend\":true,\"x\":[\"1990-01-01T00:00:00.000000000\",\"1991-01-01T00:00:00.000000000\",\"1992-01-01T00:00:00.000000000\",\"1993-01-01T00:00:00.000000000\",\"1994-01-01T00:00:00.000000000\",\"1995-01-01T00:00:00.000000000\",\"1996-01-01T00:00:00.000000000\",\"1997-01-01T00:00:00.000000000\",\"1998-01-01T00:00:00.000000000\",\"1999-01-01T00:00:00.000000000\",\"2000-01-01T00:00:00.000000000\",\"2001-01-01T00:00:00.000000000\",\"2002-01-01T00:00:00.000000000\",\"2003-01-01T00:00:00.000000000\",\"2004-01-01T00:00:00.000000000\",\"2005-01-01T00:00:00.000000000\",\"2006-01-01T00:00:00.000000000\",\"2007-01-01T00:00:00.000000000\",\"2008-01-01T00:00:00.000000000\",\"2009-01-01T00:00:00.000000000\",\"2010-01-01T00:00:00.000000000\",\"2011-01-01T00:00:00.000000000\",\"2012-01-01T00:00:00.000000000\",\"2013-01-01T00:00:00.000000000\",\"2014-01-01T00:00:00.000000000\",\"2015-01-01T00:00:00.000000000\",\"2016-01-01T00:00:00.000000000\",\"2017-01-01T00:00:00.000000000\",\"2018-01-01T00:00:00.000000000\",\"2019-01-01T00:00:00.000000000\",\"2020-01-01T00:00:00.000000000\",\"2021-01-01T00:00:00.000000000\",\"2022-01-01T00:00:00.000000000\",\"2023-01-01T00:00:00.000000000\"],\"xaxis\":\"x\",\"y\":{\"dtype\":\"f8\",\"bdata\":\"yXa+n9rcTUD7OnDOWNFNQC7\\u002fIf3WxU1AYcPTK1W6TUCUh4Va065NQMdLN4lRo01A+Q\\u002fpt8+XTUAs1JrmTYxNQF+YTBXMgE1Aklz+Q0p1TUDFILByyGlNQIBIv31NXU1AO3DOiNJQTUD2l92TV0RNQLG\\u002f7J7cN01Abef7qWErTUAoDwu15h5NQOM2GsBrEk1Anl4py\\u002fAFTUBZhjjWdflMQBSuR+H67ExAFR3J5d\\u002fbTEAVjErqxMpMQBb7y+6puUxAFmpN846oTEAX2c73c5dMQEoMAisHhUxAfT81XnpzTEDJdr6fmmNMQLgehetRUkxA9P3UeAlBTEAYITzawC9MQIYDIVl4HkxAAAAAAAAA+H8=\"},\"yaxis\":\"y\",\"type\":\"scatter\"}],                        {\"template\":{\"data\":{\"histogram2dcontour\":[{\"type\":\"histogram2dcontour\",\"colorbar\":{\"outlinewidth\":0,\"ticks\":\"\"},\"colorscale\":[[0.0,\"#0d0887\"],[0.1111111111111111,\"#46039f\"],[0.2222222222222222,\"#7201a8\"],[0.3333333333333333,\"#9c179e\"],[0.4444444444444444,\"#bd3786\"],[0.5555555555555556,\"#d8576b\"],[0.6666666666666666,\"#ed7953\"],[0.7777777777777778,\"#fb9f3a\"],[0.8888888888888888,\"#fdca26\"],[1.0,\"#f0f921\"]]}],\"choropleth\":[{\"type\":\"choropleth\",\"colorbar\":{\"outlinewidth\":0,\"ticks\":\"\"}}],\"histogram2d\":[{\"type\":\"histogram2d\",\"colorbar\":{\"outlinewidth\":0,\"ticks\":\"\"},\"colorscale\":[[0.0,\"#0d0887\"],[0.1111111111111111,\"#46039f\"],[0.2222222222222222,\"#7201a8\"],[0.3333333333333333,\"#9c179e\"],[0.4444444444444444,\"#bd3786\"],[0.5555555555555556,\"#d8576b\"],[0.6666666666666666,\"#ed7953\"],[0.7777777777777778,\"#fb9f3a\"],[0.8888888888888888,\"#fdca26\"],[1.0,\"#f0f921\"]]}],\"heatmap\":[{\"type\":\"heatmap\",\"colorbar\":{\"outlinewidth\":0,\"ticks\":\"\"},\"colorscale\":[[0.0,\"#0d0887\"],[0.1111111111111111,\"#46039f\"],[0.2222222222222222,\"#7201a8\"],[0.3333333333333333,\"#9c179e\"],[0.4444444444444444,\"#bd3786\"],[0.5555555555555556,\"#d8576b\"],[0.6666666666666666,\"#ed7953\"],[0.7777777777777778,\"#fb9f3a\"],[0.8888888888888888,\"#fdca26\"],[1.0,\"#f0f921\"]]}],\"contourcarpet\":[{\"type\":\"contourcarpet\",\"colorbar\":{\"outlinewidth\":0,\"ticks\":\"\"}}],\"contour\":[{\"type\":\"contour\",\"colorbar\":{\"outlinewidth\":0,\"ticks\":\"\"},\"colorscale\":[[0.0,\"#0d0887\"],[0.1111111111111111,\"#46039f\"],[0.2222222222222222,\"#7201a8\"],[0.3333333333333333,\"#9c179e\"],[0.4444444444444444,\"#bd3786\"],[0.5555555555555556,\"#d8576b\"],[0.6666666666666666,\"#ed7953\"],[0.7777777777777778,\"#fb9f3a\"],[0.8888888888888888,\"#fdca26\"],[1.0,\"#f0f921\"]]}],\"surface\":[{\"type\":\"surface\",\"colorbar\":{\"outlinewidth\":0,\"ticks\":\"\"},\"colorscale\":[[0.0,\"#0d0887\"],[0.1111111111111111,\"#46039f\"],[0.2222222222222222,\"#7201a8\"],[0.3333333333333333,\"#9c179e\"],[0.4444444444444444,\"#bd3786\"],[0.5555555555555556,\"#d8576b\"],[0.6666666666666666,\"#ed7953\"],[0.7777777777777778,\"#fb9f3a\"],[0.8888888888888888,\"#fdca26\"],[1.0,\"#f0f921\"]]}],\"mesh3d\":[{\"type\":\"mesh3d\",\"colorbar\":{\"outlinewidth\":0,\"ticks\":\"\"}}],\"scatter\":[{\"fillpattern\":{\"fillmode\":\"overlay\",\"size\":10,\"solidity\":0.2},\"type\":\"scatter\"}],\"parcoords\":[{\"type\":\"parcoords\",\"line\":{\"colorbar\":{\"outlinewidth\":0,\"ticks\":\"\"}}}],\"scatterpolargl\":[{\"type\":\"scatterpolargl\",\"marker\":{\"colorbar\":{\"outlinewidth\":0,\"ticks\":\"\"}}}],\"bar\":[{\"error_x\":{\"color\":\"#2a3f5f\"},\"error_y\":{\"color\":\"#2a3f5f\"},\"marker\":{\"line\":{\"color\":\"#E5ECF6\",\"width\":0.5},\"pattern\":{\"fillmode\":\"overlay\",\"size\":10,\"solidity\":0.2}},\"type\":\"bar\"}],\"scattergeo\":[{\"type\":\"scattergeo\",\"marker\":{\"colorbar\":{\"outlinewidth\":0,\"ticks\":\"\"}}}],\"scatterpolar\":[{\"type\":\"scatterpolar\",\"marker\":{\"colorbar\":{\"outlinewidth\":0,\"ticks\":\"\"}}}],\"histogram\":[{\"marker\":{\"pattern\":{\"fillmode\":\"overlay\",\"size\":10,\"solidity\":0.2}},\"type\":\"histogram\"}],\"scattergl\":[{\"type\":\"scattergl\",\"marker\":{\"colorbar\":{\"outlinewidth\":0,\"ticks\":\"\"}}}],\"scatter3d\":[{\"type\":\"scatter3d\",\"line\":{\"colorbar\":{\"outlinewidth\":0,\"ticks\":\"\"}},\"marker\":{\"colorbar\":{\"outlinewidth\":0,\"ticks\":\"\"}}}],\"scattermap\":[{\"type\":\"scattermap\",\"marker\":{\"colorbar\":{\"outlinewidth\":0,\"ticks\":\"\"}}}],\"scattermapbox\":[{\"type\":\"scattermapbox\",\"marker\":{\"colorbar\":{\"outlinewidth\":0,\"ticks\":\"\"}}}],\"scatterternary\":[{\"type\":\"scatterternary\",\"marker\":{\"colorbar\":{\"outlinewidth\":0,\"ticks\":\"\"}}}],\"scattercarpet\":[{\"type\":\"scattercarpet\",\"marker\":{\"colorbar\":{\"outlinewidth\":0,\"ticks\":\"\"}}}],\"carpet\":[{\"aaxis\":{\"endlinecolor\":\"#2a3f5f\",\"gridcolor\":\"white\",\"linecolor\":\"white\",\"minorgridcolor\":\"white\",\"startlinecolor\":\"#2a3f5f\"},\"baxis\":{\"endlinecolor\":\"#2a3f5f\",\"gridcolor\":\"white\",\"linecolor\":\"white\",\"minorgridcolor\":\"white\",\"startlinecolor\":\"#2a3f5f\"},\"type\":\"carpet\"}],\"table\":[{\"cells\":{\"fill\":{\"color\":\"#EBF0F8\"},\"line\":{\"color\":\"white\"}},\"header\":{\"fill\":{\"color\":\"#C8D4E3\"},\"line\":{\"color\":\"white\"}},\"type\":\"table\"}],\"barpolar\":[{\"marker\":{\"line\":{\"color\":\"#E5ECF6\",\"width\":0.5},\"pattern\":{\"fillmode\":\"overlay\",\"size\":10,\"solidity\":0.2}},\"type\":\"barpolar\"}],\"pie\":[{\"automargin\":true,\"type\":\"pie\"}]},\"layout\":{\"autotypenumbers\":\"strict\",\"colorway\":[\"#636efa\",\"#EF553B\",\"#00cc96\",\"#ab63fa\",\"#FFA15A\",\"#19d3f3\",\"#FF6692\",\"#B6E880\",\"#FF97FF\",\"#FECB52\"],\"font\":{\"color\":\"#2a3f5f\"},\"hovermode\":\"closest\",\"hoverlabel\":{\"align\":\"left\"},\"paper_bgcolor\":\"white\",\"plot_bgcolor\":\"#E5ECF6\",\"polar\":{\"bgcolor\":\"#E5ECF6\",\"angularaxis\":{\"gridcolor\":\"white\",\"linecolor\":\"white\",\"ticks\":\"\"},\"radialaxis\":{\"gridcolor\":\"white\",\"linecolor\":\"white\",\"ticks\":\"\"}},\"ternary\":{\"bgcolor\":\"#E5ECF6\",\"aaxis\":{\"gridcolor\":\"white\",\"linecolor\":\"white\",\"ticks\":\"\"},\"baxis\":{\"gridcolor\":\"white\",\"linecolor\":\"white\",\"ticks\":\"\"},\"caxis\":{\"gridcolor\":\"white\",\"linecolor\":\"white\",\"ticks\":\"\"}},\"coloraxis\":{\"colorbar\":{\"outlinewidth\":0,\"ticks\":\"\"}},\"colorscale\":{\"sequential\":[[0.0,\"#0d0887\"],[0.1111111111111111,\"#46039f\"],[0.2222222222222222,\"#7201a8\"],[0.3333333333333333,\"#9c179e\"],[0.4444444444444444,\"#bd3786\"],[0.5555555555555556,\"#d8576b\"],[0.6666666666666666,\"#ed7953\"],[0.7777777777777778,\"#fb9f3a\"],[0.8888888888888888,\"#fdca26\"],[1.0,\"#f0f921\"]],\"sequentialminus\":[[0.0,\"#0d0887\"],[0.1111111111111111,\"#46039f\"],[0.2222222222222222,\"#7201a8\"],[0.3333333333333333,\"#9c179e\"],[0.4444444444444444,\"#bd3786\"],[0.5555555555555556,\"#d8576b\"],[0.6666666666666666,\"#ed7953\"],[0.7777777777777778,\"#fb9f3a\"],[0.8888888888888888,\"#fdca26\"],[1.0,\"#f0f921\"]],\"diverging\":[[0,\"#8e0152\"],[0.1,\"#c51b7d\"],[0.2,\"#de77ae\"],[0.3,\"#f1b6da\"],[0.4,\"#fde0ef\"],[0.5,\"#f7f7f7\"],[0.6,\"#e6f5d0\"],[0.7,\"#b8e186\"],[0.8,\"#7fbc41\"],[0.9,\"#4d9221\"],[1,\"#276419\"]]},\"xaxis\":{\"gridcolor\":\"white\",\"linecolor\":\"white\",\"ticks\":\"\",\"title\":{\"standoff\":15},\"zerolinecolor\":\"white\",\"automargin\":true,\"zerolinewidth\":2},\"yaxis\":{\"gridcolor\":\"white\",\"linecolor\":\"white\",\"ticks\":\"\",\"title\":{\"standoff\":15},\"zerolinecolor\":\"white\",\"automargin\":true,\"zerolinewidth\":2},\"scene\":{\"xaxis\":{\"backgroundcolor\":\"#E5ECF6\",\"gridcolor\":\"white\",\"linecolor\":\"white\",\"showbackground\":true,\"ticks\":\"\",\"zerolinecolor\":\"white\",\"gridwidth\":2},\"yaxis\":{\"backgroundcolor\":\"#E5ECF6\",\"gridcolor\":\"white\",\"linecolor\":\"white\",\"showbackground\":true,\"ticks\":\"\",\"zerolinecolor\":\"white\",\"gridwidth\":2},\"zaxis\":{\"backgroundcolor\":\"#E5ECF6\",\"gridcolor\":\"white\",\"linecolor\":\"white\",\"showbackground\":true,\"ticks\":\"\",\"zerolinecolor\":\"white\",\"gridwidth\":2}},\"shapedefaults\":{\"line\":{\"color\":\"#2a3f5f\"}},\"annotationdefaults\":{\"arrowcolor\":\"#2a3f5f\",\"arrowhead\":0,\"arrowwidth\":1},\"geo\":{\"bgcolor\":\"white\",\"landcolor\":\"#E5ECF6\",\"subunitcolor\":\"white\",\"showland\":true,\"showlakes\":true,\"lakecolor\":\"white\"},\"title\":{\"x\":0.05},\"mapbox\":{\"style\":\"light\"}}},\"xaxis\":{\"anchor\":\"y\",\"domain\":[0.0,1.0],\"title\":{\"text\":\"date\"}},\"yaxis\":{\"anchor\":\"x\",\"domain\":[0.0,1.0],\"title\":{\"text\":\"Country's Forest (%)\"}},\"legend\":{\"title\":{\"text\":\"country\"},\"tracegroupgap\":0},\"title\":{\"text\":\"Forest Area Over Time\"}},                        {\"responsive\": true}                    ).then(function(){\n",
       "                            \n",
       "var gd = document.getElementById('99d1419d-a36b-4cf7-93e7-fa83d947e5b4');\n",
       "var x = new MutationObserver(function (mutations, observer) {{\n",
       "        var display = window.getComputedStyle(gd).display;\n",
       "        if (!display || display === 'none') {{\n",
       "            console.log([gd, 'removed!']);\n",
       "            Plotly.purge(gd);\n",
       "            observer.disconnect();\n",
       "        }}\n",
       "}});\n",
       "\n",
       "// Listen for the removal of the full notebook cells\n",
       "var notebookContainer = gd.closest('#notebook-container');\n",
       "if (notebookContainer) {{\n",
       "    x.observe(notebookContainer, {childList: true});\n",
       "}}\n",
       "\n",
       "// Listen for the clearing of the current output cell\n",
       "var outputEl = gd.closest('.output');\n",
       "if (outputEl) {{\n",
       "    x.observe(outputEl, {childList: true});\n",
       "}}\n",
       "\n",
       "                        })                };            </script>        </div>"
      ]
     },
     "metadata": {},
     "output_type": "display_data"
    },
    {
     "data": {
      "text/html": [
       "<div>\n",
       "<style scoped>\n",
       "    .dataframe tbody tr th:only-of-type {\n",
       "        vertical-align: middle;\n",
       "    }\n",
       "\n",
       "    .dataframe tbody tr th {\n",
       "        vertical-align: top;\n",
       "    }\n",
       "\n",
       "    .dataframe thead th {\n",
       "        text-align: right;\n",
       "    }\n",
       "</style>\n",
       "<table border=\"1\" class=\"dataframe\">\n",
       "  <thead>\n",
       "    <tr style=\"text-align: right;\">\n",
       "      <th>country</th>\n",
       "      <th>Bolivia</th>\n",
       "      <th>Brazil</th>\n",
       "      <th>Ecuador</th>\n",
       "      <th>Peru</th>\n",
       "    </tr>\n",
       "    <tr>\n",
       "      <th>date</th>\n",
       "      <th></th>\n",
       "      <th></th>\n",
       "      <th></th>\n",
       "      <th></th>\n",
       "    </tr>\n",
       "  </thead>\n",
       "  <tbody>\n",
       "    <tr>\n",
       "      <th>1990-01-01</th>\n",
       "      <td>53.359845</td>\n",
       "      <td>70.458021</td>\n",
       "      <td>52.854392</td>\n",
       "      <td>59.725422</td>\n",
       "    </tr>\n",
       "    <tr>\n",
       "      <th>1991-01-01</th>\n",
       "      <td>53.110299</td>\n",
       "      <td>70.005654</td>\n",
       "      <td>52.528677</td>\n",
       "      <td>59.635523</td>\n",
       "    </tr>\n",
       "    <tr>\n",
       "      <th>1992-01-01</th>\n",
       "      <td>52.860753</td>\n",
       "      <td>69.553288</td>\n",
       "      <td>52.202962</td>\n",
       "      <td>59.545623</td>\n",
       "    </tr>\n",
       "    <tr>\n",
       "      <th>1993-01-01</th>\n",
       "      <td>52.611207</td>\n",
       "      <td>69.100922</td>\n",
       "      <td>51.877247</td>\n",
       "      <td>59.455724</td>\n",
       "    </tr>\n",
       "    <tr>\n",
       "      <th>1994-01-01</th>\n",
       "      <td>52.361662</td>\n",
       "      <td>68.648556</td>\n",
       "      <td>51.551532</td>\n",
       "      <td>59.365825</td>\n",
       "    </tr>\n",
       "  </tbody>\n",
       "</table>\n",
       "</div>"
      ],
      "text/plain": [
       "country       Bolivia     Brazil    Ecuador       Peru\n",
       "date                                                  \n",
       "1990-01-01  53.359845  70.458021  52.854392  59.725422\n",
       "1991-01-01  53.110299  70.005654  52.528677  59.635523\n",
       "1992-01-01  52.860753  69.553288  52.202962  59.545623\n",
       "1993-01-01  52.611207  69.100922  51.877247  59.455724\n",
       "1994-01-01  52.361662  68.648556  51.551532  59.365825"
      ]
     },
     "execution_count": 23,
     "metadata": {},
     "output_type": "execute_result"
    }
   ],
   "source": [
    "vars = {\"AG.LND.FRST.ZS\":\"Deforestation\"}\n",
    "\n",
    "use=[\"BRA\",\"ECU\",\"BOL\",\"PER\"]\n",
    "\n",
    "deforestation = wbdata.get_dataframe(vars,country=use,parse_dates=True).squeeze().unstack('country')\n",
    "\n",
    "deforestation = deforestation.loc[\"1990\":]\n",
    "\n",
    "plot = deforestation.plot(title=\"Forest Area Over Time\", labels={\"index\": \"Year\", \"value\": \"Country's Forest (%)\"})\n",
    "plot.show()\n",
    "deforestation.head()"
   ]
  },
  {
   "cell_type": "code",
   "execution_count": 32,
   "id": "efa171bd-5d6c-4410-ab38-52f5b2b48997",
   "metadata": {},
   "outputs": [
    {
     "ename": "ParserError",
     "evalue": "Error tokenizing data. C error: Expected 3 fields in line 5, saw 69\n",
     "output_type": "error",
     "traceback": [
      "\u001b[0;31m---------------------------------------------------------------------------\u001b[0m",
      "\u001b[0;31mParserError\u001b[0m                               Traceback (most recent call last)",
      "Cell \u001b[0;32mIn[32], line 2\u001b[0m\n\u001b[1;32m      1\u001b[0m file_path_fertility \u001b[38;5;241m=\u001b[39m \u001b[38;5;124m\"\u001b[39m\u001b[38;5;124mFertility.csv\u001b[39m\u001b[38;5;124m\"\u001b[39m\n\u001b[0;32m----> 2\u001b[0m Fertility \u001b[38;5;241m=\u001b[39m \u001b[43mpd\u001b[49m\u001b[38;5;241;43m.\u001b[39;49m\u001b[43mread_csv\u001b[49m\u001b[43m(\u001b[49m\u001b[43mfile_path_fertility\u001b[49m\u001b[43m)\u001b[49m\n",
      "File \u001b[0;32m/srv/conda/lib/python3.11/site-packages/pandas/io/parsers/readers.py:1026\u001b[0m, in \u001b[0;36mread_csv\u001b[0;34m(filepath_or_buffer, sep, delimiter, header, names, index_col, usecols, dtype, engine, converters, true_values, false_values, skipinitialspace, skiprows, skipfooter, nrows, na_values, keep_default_na, na_filter, verbose, skip_blank_lines, parse_dates, infer_datetime_format, keep_date_col, date_parser, date_format, dayfirst, cache_dates, iterator, chunksize, compression, thousands, decimal, lineterminator, quotechar, quoting, doublequote, escapechar, comment, encoding, encoding_errors, dialect, on_bad_lines, delim_whitespace, low_memory, memory_map, float_precision, storage_options, dtype_backend)\u001b[0m\n\u001b[1;32m   1013\u001b[0m kwds_defaults \u001b[38;5;241m=\u001b[39m _refine_defaults_read(\n\u001b[1;32m   1014\u001b[0m     dialect,\n\u001b[1;32m   1015\u001b[0m     delimiter,\n\u001b[0;32m   (...)\u001b[0m\n\u001b[1;32m   1022\u001b[0m     dtype_backend\u001b[38;5;241m=\u001b[39mdtype_backend,\n\u001b[1;32m   1023\u001b[0m )\n\u001b[1;32m   1024\u001b[0m kwds\u001b[38;5;241m.\u001b[39mupdate(kwds_defaults)\n\u001b[0;32m-> 1026\u001b[0m \u001b[38;5;28;01mreturn\u001b[39;00m \u001b[43m_read\u001b[49m\u001b[43m(\u001b[49m\u001b[43mfilepath_or_buffer\u001b[49m\u001b[43m,\u001b[49m\u001b[43m \u001b[49m\u001b[43mkwds\u001b[49m\u001b[43m)\u001b[49m\n",
      "File \u001b[0;32m/srv/conda/lib/python3.11/site-packages/pandas/io/parsers/readers.py:626\u001b[0m, in \u001b[0;36m_read\u001b[0;34m(filepath_or_buffer, kwds)\u001b[0m\n\u001b[1;32m    623\u001b[0m     \u001b[38;5;28;01mreturn\u001b[39;00m parser\n\u001b[1;32m    625\u001b[0m \u001b[38;5;28;01mwith\u001b[39;00m parser:\n\u001b[0;32m--> 626\u001b[0m     \u001b[38;5;28;01mreturn\u001b[39;00m \u001b[43mparser\u001b[49m\u001b[38;5;241;43m.\u001b[39;49m\u001b[43mread\u001b[49m\u001b[43m(\u001b[49m\u001b[43mnrows\u001b[49m\u001b[43m)\u001b[49m\n",
      "File \u001b[0;32m/srv/conda/lib/python3.11/site-packages/pandas/io/parsers/readers.py:1923\u001b[0m, in \u001b[0;36mTextFileReader.read\u001b[0;34m(self, nrows)\u001b[0m\n\u001b[1;32m   1916\u001b[0m nrows \u001b[38;5;241m=\u001b[39m validate_integer(\u001b[38;5;124m\"\u001b[39m\u001b[38;5;124mnrows\u001b[39m\u001b[38;5;124m\"\u001b[39m, nrows)\n\u001b[1;32m   1917\u001b[0m \u001b[38;5;28;01mtry\u001b[39;00m:\n\u001b[1;32m   1918\u001b[0m     \u001b[38;5;66;03m# error: \"ParserBase\" has no attribute \"read\"\u001b[39;00m\n\u001b[1;32m   1919\u001b[0m     (\n\u001b[1;32m   1920\u001b[0m         index,\n\u001b[1;32m   1921\u001b[0m         columns,\n\u001b[1;32m   1922\u001b[0m         col_dict,\n\u001b[0;32m-> 1923\u001b[0m     ) \u001b[38;5;241m=\u001b[39m \u001b[38;5;28;43mself\u001b[39;49m\u001b[38;5;241;43m.\u001b[39;49m\u001b[43m_engine\u001b[49m\u001b[38;5;241;43m.\u001b[39;49m\u001b[43mread\u001b[49m\u001b[43m(\u001b[49m\u001b[43m  \u001b[49m\u001b[38;5;66;43;03m# type: ignore[attr-defined]\u001b[39;49;00m\n\u001b[1;32m   1924\u001b[0m \u001b[43m        \u001b[49m\u001b[43mnrows\u001b[49m\n\u001b[1;32m   1925\u001b[0m \u001b[43m    \u001b[49m\u001b[43m)\u001b[49m\n\u001b[1;32m   1926\u001b[0m \u001b[38;5;28;01mexcept\u001b[39;00m \u001b[38;5;167;01mException\u001b[39;00m:\n\u001b[1;32m   1927\u001b[0m     \u001b[38;5;28mself\u001b[39m\u001b[38;5;241m.\u001b[39mclose()\n",
      "File \u001b[0;32m/srv/conda/lib/python3.11/site-packages/pandas/io/parsers/c_parser_wrapper.py:234\u001b[0m, in \u001b[0;36mCParserWrapper.read\u001b[0;34m(self, nrows)\u001b[0m\n\u001b[1;32m    232\u001b[0m \u001b[38;5;28;01mtry\u001b[39;00m:\n\u001b[1;32m    233\u001b[0m     \u001b[38;5;28;01mif\u001b[39;00m \u001b[38;5;28mself\u001b[39m\u001b[38;5;241m.\u001b[39mlow_memory:\n\u001b[0;32m--> 234\u001b[0m         chunks \u001b[38;5;241m=\u001b[39m \u001b[38;5;28;43mself\u001b[39;49m\u001b[38;5;241;43m.\u001b[39;49m\u001b[43m_reader\u001b[49m\u001b[38;5;241;43m.\u001b[39;49m\u001b[43mread_low_memory\u001b[49m\u001b[43m(\u001b[49m\u001b[43mnrows\u001b[49m\u001b[43m)\u001b[49m\n\u001b[1;32m    235\u001b[0m         \u001b[38;5;66;03m# destructive to chunks\u001b[39;00m\n\u001b[1;32m    236\u001b[0m         data \u001b[38;5;241m=\u001b[39m _concatenate_chunks(chunks)\n",
      "File \u001b[0;32mparsers.pyx:838\u001b[0m, in \u001b[0;36mpandas._libs.parsers.TextReader.read_low_memory\u001b[0;34m()\u001b[0m\n",
      "File \u001b[0;32mparsers.pyx:905\u001b[0m, in \u001b[0;36mpandas._libs.parsers.TextReader._read_rows\u001b[0;34m()\u001b[0m\n",
      "File \u001b[0;32mparsers.pyx:874\u001b[0m, in \u001b[0;36mpandas._libs.parsers.TextReader._tokenize_rows\u001b[0;34m()\u001b[0m\n",
      "File \u001b[0;32mparsers.pyx:891\u001b[0m, in \u001b[0;36mpandas._libs.parsers.TextReader._check_tokenize_status\u001b[0;34m()\u001b[0m\n",
      "File \u001b[0;32mparsers.pyx:2061\u001b[0m, in \u001b[0;36mpandas._libs.parsers.raise_parser_error\u001b[0;34m()\u001b[0m\n",
      "\u001b[0;31mParserError\u001b[0m: Error tokenizing data. C error: Expected 3 fields in line 5, saw 69\n"
     ]
    }
   ],
   "source": [
    "file_path_fertility = \"Fertility.csv\"\n",
    "Fertility = pd.read_csv(file_path_fertility)"
   ]
  },
  {
   "cell_type": "code",
   "execution_count": null,
   "id": "b61cb3b5-12e0-4a2d-95d5-3aa82880cba5",
   "metadata": {},
   "outputs": [],
   "source": []
  }
 ],
 "metadata": {
  "kernelspec": {
   "display_name": "Python 3 (ipykernel)",
   "language": "python",
   "name": "python3"
  },
  "language_info": {
   "codemirror_mode": {
    "name": "ipython",
    "version": 3
   },
   "file_extension": ".py",
   "mimetype": "text/x-python",
   "name": "python",
   "nbconvert_exporter": "python",
   "pygments_lexer": "ipython3",
   "version": "3.11.11"
  }
 },
 "nbformat": 4,
 "nbformat_minor": 5
}
