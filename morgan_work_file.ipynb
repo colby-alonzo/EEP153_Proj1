{
 "cells": [
  {
   "cell_type": "markdown",
   "id": "a85cff8c-b165-42a9-be6b-b486fada60cd",
   "metadata": {},
   "source": []
  },
  {
   "cell_type": "code",
   "execution_count": 33,
   "id": "277297aa-8e69-4e65-9cc2-6909421fb0ca",
   "metadata": {},
   "outputs": [
    {
     "name": "stdout",
     "output_type": "stream",
     "text": [
      "Requirement already satisfied: wbdata in /srv/conda/lib/python3.11/site-packages (1.0.0)\n",
      "Requirement already satisfied: appdirs<2.0,>=1.4 in /srv/conda/lib/python3.11/site-packages (from wbdata) (1.4.4)\n",
      "Requirement already satisfied: backoff<3.0.0,>=2.2.1 in /srv/conda/lib/python3.11/site-packages (from wbdata) (2.2.1)\n",
      "Requirement already satisfied: cachetools<6.0.0,>=5.3.2 in /srv/conda/lib/python3.11/site-packages (from wbdata) (5.5.1)\n",
      "Requirement already satisfied: dateparser<2.0.0,>=1.2.0 in /srv/conda/lib/python3.11/site-packages (from wbdata) (1.2.1)\n",
      "Requirement already satisfied: decorator<6.0.0,>=5.1.1 in /srv/conda/lib/python3.11/site-packages (from wbdata) (5.1.1)\n",
      "Requirement already satisfied: requests<3.0,>=2.0 in /srv/conda/lib/python3.11/site-packages (from wbdata) (2.32.3)\n",
      "Requirement already satisfied: shelved-cache<0.4.0,>=0.3.1 in /srv/conda/lib/python3.11/site-packages (from wbdata) (0.3.1)\n",
      "Requirement already satisfied: tabulate<0.9.0,>=0.8.5 in /srv/conda/lib/python3.11/site-packages (from wbdata) (0.8.10)\n",
      "Requirement already satisfied: python-dateutil>=2.7.0 in /srv/conda/lib/python3.11/site-packages (from dateparser<2.0.0,>=1.2.0->wbdata) (2.9.0.post0)\n",
      "Requirement already satisfied: pytz>=2024.2 in /srv/conda/lib/python3.11/site-packages (from dateparser<2.0.0,>=1.2.0->wbdata) (2025.1)\n",
      "Requirement already satisfied: regex!=2019.02.19,!=2021.8.27,>=2015.06.24 in /srv/conda/lib/python3.11/site-packages (from dateparser<2.0.0,>=1.2.0->wbdata) (2024.11.6)\n",
      "Requirement already satisfied: tzlocal>=0.2 in /srv/conda/lib/python3.11/site-packages (from dateparser<2.0.0,>=1.2.0->wbdata) (5.2)\n",
      "Requirement already satisfied: charset_normalizer<4,>=2 in /srv/conda/lib/python3.11/site-packages (from requests<3.0,>=2.0->wbdata) (3.4.0)\n",
      "Requirement already satisfied: idna<4,>=2.5 in /srv/conda/lib/python3.11/site-packages (from requests<3.0,>=2.0->wbdata) (3.10)\n",
      "Requirement already satisfied: urllib3<3,>=1.21.1 in /srv/conda/lib/python3.11/site-packages (from requests<3.0,>=2.0->wbdata) (2.3.0)\n",
      "Requirement already satisfied: certifi>=2017.4.17 in /srv/conda/lib/python3.11/site-packages (from requests<3.0,>=2.0->wbdata) (2024.12.14)\n",
      "Requirement already satisfied: six>=1.5 in /srv/conda/lib/python3.11/site-packages (from python-dateutil>=2.7.0->dateparser<2.0.0,>=1.2.0->wbdata) (1.17.0)\n",
      "Note: you may need to restart the kernel to use updated packages.\n",
      "Requirement already satisfied: plotly in /srv/conda/lib/python3.11/site-packages (5.24.1)\n",
      "Requirement already satisfied: tenacity>=6.2.0 in /srv/conda/lib/python3.11/site-packages (from plotly) (9.0.0)\n",
      "Requirement already satisfied: packaging in /srv/conda/lib/python3.11/site-packages (from plotly) (24.2)\n",
      "Note: you may need to restart the kernel to use updated packages.\n",
      "Collecting iso3166\n",
      "  Downloading iso3166-2.1.1-py3-none-any.whl.metadata (6.6 kB)\n",
      "Downloading iso3166-2.1.1-py3-none-any.whl (9.8 kB)\n",
      "Installing collected packages: iso3166\n",
      "Successfully installed iso3166-2.1.1\n",
      "Note: you may need to restart the kernel to use updated packages.\n"
     ]
    }
   ],
   "source": [
    "%pip install wbdata\n",
    "%pip install plotly\n",
    "%pip install iso3166\n",
    "import wbdata\n",
    "import pandas as pd\n",
    "import warnings\n",
    "import iso3166\n",
    "warnings.filterwarnings(\"ignore\", message=\"Key .* not in persistent cache\")\n",
    "\n",
    "pd.options.plotting.backend = 'plotly'"
   ]
  },
  {
   "cell_type": "code",
   "execution_count": 10,
   "id": "f0965148-d2e6-4b13-bced-c32e194b3f0c",
   "metadata": {},
   "outputs": [
    {
     "data": {
      "text/plain": [
       "  id  value\n",
       "----  -------------------------------\n",
       "   1  Agriculture & Rural Development\n",
       "   2  Aid Effectiveness\n",
       "   3  Economy & Growth\n",
       "   4  Education\n",
       "   5  Energy & Mining\n",
       "   6  Environment\n",
       "   7  Financial Sector\n",
       "   8  Health\n",
       "   9  Infrastructure\n",
       "  10  Social Protection & Labor\n",
       "  11  Poverty\n",
       "  12  Private Sector\n",
       "  13  Public Sector\n",
       "  14  Science & Technology\n",
       "  15  Social Development\n",
       "  16  Urban Development\n",
       "  17  Gender\n",
       "  18  Millenium development goals\n",
       "  19  Climate Change\n",
       "  20  External Debt\n",
       "  21  Trade"
      ]
     },
     "execution_count": 10,
     "metadata": {},
     "output_type": "execute_result"
    }
   ],
   "source": [
    "wbdata.get_topics()"
   ]
  },
  {
   "cell_type": "code",
   "execution_count": 11,
   "id": "9f8ab89e-d4dd-40b3-862b-d36157c028a2",
   "metadata": {},
   "outputs": [
    {
     "data": {
      "text/plain": [
       "id                    name\n",
       "--------------------  -------------------------------------------------------------------------------------------------------------------------------------------\n",
       "IC.FRM.FEMM.ZS        Firms with female top manager (% of firms)\n",
       "IC.FRM.FEMO.ZS        Firms with female participation in ownership (% of firms)\n",
       "SE.ADT.1524.LT.FE.ZS  Literacy rate, youth female (% of females ages 15-24)\n",
       "SE.ADT.1524.LT.FM.ZS  Literacy rate, youth (ages 15-24), gender parity index (GPI)\n",
       "SE.ADT.1524.LT.MA.ZS  Literacy rate, youth male (% of males ages 15-24)\n",
       "SE.ADT.LITR.FE.ZS     Literacy rate, adult female (% of females ages 15 and above)\n",
       "SE.ADT.LITR.MA.ZS     Literacy rate, adult male (% of males ages 15 and above)\n",
       "SE.ENR.PRIM.FM.ZS     School enrollment, primary (gross), gender parity index (GPI)\n",
       "SE.ENR.PRSC.FM.ZS     School enrollment, primary and secondary (gross), gender parity index (GPI)\n",
       "SE.ENR.SECO.FM.ZS     School enrollment, secondary (gross), gender parity index (GPI)\n",
       "SE.ENR.TERT.FM.ZS     School enrollment, tertiary (gross), gender parity index (GPI)\n",
       "SE.PRE.ENRR.FE        School enrollment, preprimary, female (% gross)\n",
       "SE.PRE.ENRR.MA        School enrollment, preprimary, male (% gross)\n",
       "SE.PRM.CMPT.FE.ZS     Primary completion rate, female (% of relevant age group)\n",
       "SE.PRM.CMPT.MA.ZS     Primary completion rate, male (% of relevant age group)\n",
       "SE.PRM.CUAT.FE.ZS     Educational attainment, at least completed primary, population 25+ years, female (%) (cumulative)\n",
       "SE.PRM.CUAT.MA.ZS     Educational attainment, at least completed primary, population 25+ years, male (%) (cumulative)\n",
       "SE.PRM.CUAT.ZS        Educational attainment, at least completed primary, population 25+ years, total (%) (cumulative)\n",
       "SE.PRM.ENRL.FE.ZS     Primary education, pupils (% female)\n",
       "SE.PRM.ENRR.FE        School enrollment, primary, female (% gross)\n",
       "SE.PRM.ENRR.MA        School enrollment, primary, male (% gross)\n",
       "SE.PRM.GINT.FE.ZS     Gross intake ratio in first grade of primary education, female (% of relevant age group)\n",
       "SE.PRM.GINT.MA.ZS     Gross intake ratio in first grade of primary education, male (% of relevant age group)\n",
       "SE.PRM.NENR.FE        School enrollment, primary, female (% net)\n",
       "SE.PRM.NENR.MA        School enrollment, primary, male (% net)\n",
       "SE.PRM.NINT.FE.ZS     Net intake rate in grade 1, female (% of official school-age population)\n",
       "SE.PRM.NINT.MA.ZS     Net intake rate in grade 1, male (% of official school-age population)\n",
       "SE.PRM.PRS5.FE.ZS     Persistence to grade 5, female (% of cohort)\n",
       "SE.PRM.PRS5.MA.ZS     Persistence to grade 5, male (% of cohort)\n",
       "SE.PRM.PRSL.FE.ZS     Persistence to last grade of primary, female (% of cohort)\n",
       "SE.PRM.PRSL.MA.ZS     Persistence to last grade of primary, male (% of cohort)\n",
       "SE.PRM.REPT.FE.ZS     Repeaters, primary, female (% of female enrollment)\n",
       "SE.PRM.REPT.MA.ZS     Repeaters, primary, male (% of male enrollment)\n",
       "SE.PRM.TCAQ.FE.ZS     Trained teachers in primary education, female (% of female teachers)\n",
       "SE.PRM.TCAQ.MA.ZS     Trained teachers in primary education, male (% of male teachers)\n",
       "SE.PRM.TCHR.FE.ZS     Primary education, teachers (% female)\n",
       "SE.PRM.TENR.FE        Adjusted net enrollment rate, primary, female (% of primary school age children)\n",
       "SE.PRM.TENR.MA        Adjusted net enrollment rate, primary, male (% of primary school age children)\n",
       "SE.PRM.UNER.FE        Children out of school, primary, female\n",
       "SE.PRM.UNER.MA        Children out of school, primary, male\n",
       "SE.SCH.LIFE.FE        School life expectancy, primary to tertiary, female (years)\n",
       "SE.SCH.LIFE.MA        School life expectancy, primary to tertiary, male (years)\n",
       "SE.SEC.CUAT.LO.FE.ZS  Educational attainment, at least completed lower secondary, population 25+, female (%) (cumulative)\n",
       "SE.SEC.CUAT.LO.MA.ZS  Educational attainment, at least completed lower secondary, population 25+, male (%) (cumulative)\n",
       "SE.SEC.CUAT.LO.ZS     Educational attainment, at least completed lower secondary, population 25+, total (%) (cumulative)\n",
       "SE.SEC.CUAT.PO.FE.ZS  Educational attainment, at least completed post-secondary, population 25+, female (%) (cumulative)\n",
       "SE.SEC.CUAT.PO.MA.ZS  Educational attainment, at least completed post-secondary, population 25+, male (%) (cumulative)\n",
       "SE.SEC.CUAT.PO.ZS     Educational attainment, at least completed post-secondary, population 25+, total (%) (cumulative)\n",
       "SE.SEC.CUAT.UP.FE.ZS  Educational attainment, at least completed upper secondary, population 25+, female (%) (cumulative)\n",
       "SE.SEC.CUAT.UP.MA.ZS  Educational attainment, at least completed upper secondary, population 25+, male (%) (cumulative)\n",
       "SE.SEC.CUAT.UP.ZS     Educational attainment, at least completed upper secondary, population 25+, total (%) (cumulative)\n",
       "SE.SEC.ENRL.FE.ZS     Secondary education, pupils (% female)\n",
       "SE.SEC.ENRL.GC.FE.ZS  Secondary education, general pupils (% female)\n",
       "SE.SEC.ENRL.VO.FE.ZS  Secondary education, vocational pupils (% female)\n",
       "SE.SEC.ENRR.FE        School enrollment, secondary, female (% gross)\n",
       "SE.SEC.ENRR.MA        School enrollment, secondary, male (% gross)\n",
       "SE.SEC.NENR.FE        School enrollment, secondary, female (% net)\n",
       "SE.SEC.NENR.MA        School enrollment, secondary, male (% net)\n",
       "SE.SEC.PROG.FE.ZS     Progression to secondary school, female (%)\n",
       "SE.SEC.PROG.MA.ZS     Progression to secondary school, male (%)\n",
       "SE.SEC.TCHR.FE.ZS     Secondary education, teachers (% female)\n",
       "SE.TER.CUAT.BA.FE.ZS  Educational attainment, at least Bachelor's or equivalent, population 25+, female (%) (cumulative)\n",
       "SE.TER.CUAT.BA.MA.ZS  Educational attainment, at least Bachelor's or equivalent, population 25+, male (%) (cumulative)\n",
       "SE.TER.CUAT.BA.ZS     Educational attainment, at least Bachelor's or equivalent, population 25+, total (%) (cumulative)\n",
       "SE.TER.CUAT.DO.FE.ZS  Educational attainment, Doctoral or equivalent, population 25+, female (%) (cumulative)\n",
       "SE.TER.CUAT.DO.MA.ZS  Educational attainment, Doctoral or equivalent, population 25+, male (%) (cumulative)\n",
       "SE.TER.CUAT.DO.ZS     Educational attainment, Doctoral or equivalent, population 25+, total (%) (cumulative)\n",
       "SE.TER.CUAT.MS.FE.ZS  Educational attainment, at least Master's or equivalent, population 25+, female (%) (cumulative)\n",
       "SE.TER.CUAT.MS.MA.ZS  Educational attainment, at least Master's or equivalent, population 25+, male (%) (cumulative)\n",
       "SE.TER.CUAT.MS.ZS     Educational attainment, at least Master's or equivalent, population 25+, total (%) (cumulative)\n",
       "SE.TER.CUAT.ST.FE.ZS  Educational attainment, at least completed short-cycle tertiary, population 25+, female (%) (cumulative)\n",
       "SE.TER.CUAT.ST.MA.ZS  Educational attainment, at least completed short-cycle tertiary, population 25+, male (%) (cumulative)\n",
       "SE.TER.CUAT.ST.ZS     Educational attainment, at least completed short-cycle tertiary, population 25+, total (%) (cumulative)\n",
       "SE.TER.ENRR.FE        School enrollment, tertiary, female (% gross)\n",
       "SE.TER.ENRR.MA        School enrollment, tertiary, male (% gross)\n",
       "SG.ABS.PENB           There are periods of absence due to childcare accounted for in pension benefits (1=yes; 0=no)\n",
       "SG.AGE.FUPN.EQ        The age at which women and men can retire with full pension benefits is the same (1=yes; 0=no)\n",
       "SG.AGE.MRET.EQ        The mandatory retirement age for women and men is the same (1=yes; 0=no)\n",
       "SG.AGE.PAPN.EQ        The age at which women and men can retire with partial pension benefits is the same (1=yes; 0=no)\n",
       "SG.AGE.RTRE.FE        Mandatory retirement age, female\n",
       "SG.AGE.RTRE.FL.FE     Retirement age with full benefits, female\n",
       "SG.AGE.RTRE.FL.MA     Retirement age with full benefits, male\n",
       "SG.AGE.RTRE.MA        Mandatory retirement age, male\n",
       "SG.AGE.RTRE.PL.FE     Retirement age with partial benefits, female\n",
       "SG.AGE.RTRE.PL.MA     Retirement age with partial benefits, male\n",
       "SG.APL.PSPT.EQ        A woman can apply for a passport in the same way as a man (1=yes; 0=no)\n",
       "SG.BUS.REGT.EQ        A woman can register a business in the same way as a man (1=yes; 0=no)\n",
       "SG.CNT.SIGN.EQ        A woman can sign a contract in the same way as a man (1=yes; 0=no)\n",
       "SG.COK.CHCO.ZS        Main cooking fuel: charcoal (% of households)\n",
       "SG.COK.CROP.ZS        Main cooking fuel: agricultural crop (% of households)\n",
       "SG.COK.DUNG.ZS        Main cooking fuel: dung (% of households)\n",
       "SG.COK.ELEC.ZS        Main cooking fuel: electricity  (% of households)\n",
       "SG.COK.HOUS.ZS        Location of cooking: inside the house (% of households)\n",
       "SG.COK.LPGN.ZS        Main cooking fuel: LPG/natural gas/biogas (% of households)\n",
       "SG.COK.OTHR.ZS        Location of cooking: other places (% of households)\n",
       "SG.COK.OUTD.ZS        Location of cooking: outdoors (% of households)\n",
       "SG.COK.SBLD.ZS        Location of cooking: separate building (% of households)\n",
       "SG.COK.STRW.ZS        Main cooking fuel: straw/shrubs/grass (% of households)\n",
       "SG.COK.WOOD.ZS        Main cooking fuel: wood (% of households)\n",
       "SG.CTR.TRVL.EQ        A woman can travel outside the country in the same way as a man (1=yes; 0=no)\n",
       "SG.DMK.ALLD.FN.ZS     Women participating in the three decisions (own health care, major household purchases, and visiting family) (% of women age 15-49)\n",
       "SG.DMK.DPCH.FN.ZS     Women participating in making daily purchase decisions (% of women age 15-49)\n",
       "SG.DMK.FOOD.FN.ZS     Women participating in decision of what food to cook daily (% of women age 15-49)\n",
       "SG.DMK.HLTH.FN.ZS     Women participating in own health care decisions (% of women age 15-49)\n",
       "SG.DMK.HLTH.HB.ZS     Decision maker about a woman's own health care: mainly husband (% of women age 15-49)\n",
       "SG.DMK.HLTH.OT.ZS     Decision maker about a woman's own health care: other (% of women age 15-49)\n",
       "SG.DMK.HLTH.SE.ZS     Decision maker about a woman's own health care: someone else (% of women age 15-49)\n",
       "SG.DMK.HLTH.WF.ZS     Decision maker about a woman's own health care: mainly wife (% of women age 15-49)\n",
       "SG.DMK.HLTH.WH.ZS     Decision maker about a woman's own health care: wife and husband jointly (% of women age 15-49)\n",
       "SG.DMK.NONE.FN.ZS     Women participating in none of the three decisions (own health care, major household purchases, and visiting family) (% of women age 15-49)\n",
       "SG.DMK.PRCH.FN.ZS     Women participating in making major household purchase decisions (% of women age 15-49)\n",
       "SG.DMK.PRCH.HB.ZS     Decision maker about major household purchases: mainly husband (% of women age 15-49)\n",
       "SG.DMK.PRCH.OT.ZS     Decision maker about major household purchases: other (% of women age 15-49)\n",
       "SG.DMK.PRCH.SE.ZS     Decision maker about major household purchases: someone else (% of women age 15-49)\n",
       "SG.DMK.PRCH.WF.ZS     Decision maker about major household purchases: mainly wife (% of women age 15-49)\n",
       "SG.DMK.PRCH.WH.ZS     Decision maker about major household purchases: wife and husband jointly (% of women age 15-49)\n",
       "SG.DMK.SRCR.FN.ZS     Women making their own informed decisions regarding sexual relations, contraceptive use and reproductive health care (% of women age 15-49)\n",
       "SG.DMK.VISI.FN.ZS     Women participating in decision of visits to family, relatives, friends (% of women age 15-49)\n",
       "SG.DMK.VISI.HB.ZS     Decision maker about a woman's visits to her family or relatives: mainly husband (% of women age 15-49)\n",
       "SG.DMK.VISI.OT.ZS     Decision maker about a woman's visits to her family or relatives: other (% of women age 15-49)\n",
       "SG.DMK.VISI.SE.ZS     Decision maker about a woman's visits to her family or relatives: someone else (% of women age 15-49)\n",
       "SG.DMK.VISI.WF.ZS     Decision maker about a woman's visits to her family or relatives: mainly wife (% of women age 15-49)\n",
       "SG.DMK.VISI.WH.ZS     Decision maker about Visits to her family or relatives: wife and husband jointly (% of women age 15-49)\n",
       "SG.DML.PRGW           Dismissal of pregnant workers is prohibited (1=yes; 0=no)\n",
       "SG.DNG.WORK.DN.EQ     A woman can work in a job deemed dangerous in the same way as a man (1=yes; 0=no)\n",
       "SG.GEN.MNST.ZS        Proportion of women in ministerial level positions (%)\n",
       "SG.GEN.PARL.ZS        Proportion of seats held by women in national parliaments (%)\n",
       "SG.GEN.TECH.ZS        Female professional and technical workers (% of total)\n",
       "SG.GET.JOBS.EQ        A woman can get a job in the same way as a man (1=yes; 0=no)\n",
       "SG.H2O.PRMS.HH.ZS     Households with water on the premises (%)\n",
       "SG.H2O.TL30.HH.ZS     Households with water less than 30 minutes away round trip (%)\n",
       "SG.H2O.TM30.HH.ZS     Households with water 30 minutes or longer away round trip (%)\n",
       "SG.HLD.HEAD.EQ        A woman can be \"head of household\" in the same way as a man (1=yes; 0=no)\n",
       "SG.HME.TRVL.EQ        A woman can travel outside her home in the same way as a man (1=yes; 0=no)\n",
       "SG.IHT.ASST.EQ        Male and female surviving spouses have equal rights to inherit assets (1=yes; 0=no)\n",
       "SG.IHT.ASST.PT.EQ     Sons and daughters have equal rights to inherit assets from their parents (1=yes; 0=no)\n",
       "SG.IND.WORK.EQ        A woman can work in an industrial job in the same way as a man (1=yes; 0=no)\n",
       "SG.JOB.NOPN.EQ        Nonpregnant and nonnursing women can do the same jobs as men (1=yes; 0=no)\n",
       "SG.LAW.ASST.AR        The law grants spouses equal administrative authority over assets during marriage (1=yes; 0=no)\n",
       "SG.LAW.CHMR           Law prohibits or invalidates child or early marriage (1=yes; 0=no)\n",
       "SG.LAW.CRDD.GR        The law prohibits discrimination in access to credit based on gender (1=yes; 0=no)\n",
       "SG.LAW.EQRM.WK        Law mandates equal remuneration for females and males for work of equal value (1=yes; 0=no)\n",
       "SG.LAW.INDX           Women Business and the Law Index Score (scale 1-100)\n",
       "SG.LAW.LEVE.PU        Law mandates paid or unpaid maternity leave (1=yes; 0=no)\n",
       "SG.LAW.NMCN           The law provides for the valuation of nonmonetary contributions (1=yes; 0=no)\n",
       "SG.LAW.NODC.HR        The law prohibits discrimination in employment based on gender (1=yes; 0=no)\n",
       "SG.LAW.OBHB.MR.NO     The law is free of legal provisions that require a married woman to obey her husband (1=yes; 0=no)\n",
       "SG.LEG.DVAW           There is legislation specifically addressing domestic violence (1=yes; 0=no)\n",
       "SG.LEG.SXHR.EM        There is legislation on sexual harassment in employment (1=yes; 0=no)\n",
       "SG.LOC.LIVE.EQ        A woman can choose where to live in the same way as a man (1=yes; 0=no)\n",
       "SG.MMR.LEVE.EP        Mothers are guaranteed an equivalent position after maternity leave (1=yes; 0=no)\n",
       "SG.NGT.WORK.EQ        A woman can work at night in the same way as a man (1=yes; 0=no)\n",
       "SG.NOD.CONS           Nondiscrimination clause mentions gender in the constitution (1=yes; 0=no)\n",
       "SG.OBT.DVRC.EQ        A woman can obtain a judgment of divorce in the same way as a man (1=yes; 0=no)\n",
       "SG.OPN.BANK.EQ        A woman can open a bank account in the same way as a man (1=yes; 0=no)\n",
       "SG.OWN.PRRT.IM        Women and men have equal ownership rights to immovable property (1=yes; 0=no)\n",
       "SG.PEN.SXHR.EM        Criminal penalties or civil remedies exist for sexual harassment in employment (1=yes; 0=no)\n",
       "SG.POP.MIGR.FE.ZS     Female migrants (% of international migrant stock)\n",
       "SG.REM.RIGT.EQ        A woman has the same rights to remarry as a man (1=yes; 0=no)\n",
       "SG.RSX.BRTH.ZS        Women who believe a wife is justified refusing sex with her husband if she has recently given birth (%)\n",
       "SG.RSX.NORS.ZS        Women who believe a wife is justified refusing sex with her husband for none of the reasons (%)\n",
       "SG.RSX.REAS.ZS        Women who believe a wife is justified refusing sex with her husband for all of the reasons (%)\n",
       "SG.RSX.SXOT.ZS        Women who believe a wife is justified refusing sex with her husband if she knows he has sex with other women (%)\n",
       "SG.RSX.TIRD.ZS        Women who believe a wife is justified refusing sex with her husband if she is tired or not in the mood (%)\n",
       "SG.RSX.TMDS.ZS        Women who believe a wife is justified refusing sex with her husband if she knows he has sexually transmitted disease (%)\n",
       "SG.TIM.UWRK.FE        Proportion of time spent on unpaid domestic and care work, female (% of 24 hour day)\n",
       "SG.TIM.UWRK.MA        Proportion of time spent on unpaid domestic and care work, male (% of 24 hour day)\n",
       "SG.VAW.1549.ZS        Proportion of women subjected to physical and/or sexual violence in the last 12 months (% of ever-partnered women ages 15-49)\n",
       "SG.VAW.ARGU.ZS        Women who believe a husband is justified in beating his wife when she argues with him (%)\n",
       "SG.VAW.BURN.ZS        Women who believe a husband is justified in beating his wife when she burns the food (%)\n",
       "SG.VAW.GOES.ZS        Women who believe a husband is justified in beating his wife when she goes out without telling him (%)\n",
       "SG.VAW.NEGL.ZS        Women who believe a husband is justified in beating his wife when she neglects the children (%)\n",
       "SG.VAW.REAS.ZS        Women who believe a husband is justified in beating his wife (any of five reasons) (%)\n",
       "SG.VAW.REFU.ZS        Women who believe a husband is justified in beating his wife when she refuses sex with him (%)\n",
       "SH.CON.1524.FE.ZS     Condom use, population ages 15-24, female (% of females ages 15-24)\n",
       "SH.CON.1524.MA.ZS     Condom use, population ages 15-24, male (% of males ages 15-24)\n",
       "SH.DYN.AIDS.FE.ZS     Women's share of population ages 15+ living with HIV (%)\n",
       "SH.DYN.CHLD.FE        Mortality rate, female child (per 1,000 female children age one)\n",
       "SH.DYN.CHLD.MA        Mortality rate, male child (per 1,000 male children age one)\n",
       "SH.FPL.SATI.ZS        Demand for family planning satisfied by any methods (% of married women with demand for family planning)\n",
       "SH.HIV.1524.FE.ZS     Prevalence of HIV, female (% ages 15-24)\n",
       "SH.HIV.1524.MA.ZS     Prevalence of HIV, male (% ages 15-24)\n",
       "SH.HIV.ARTC.FE.ZS     Access to anti-retroviral drugs, female (%)\n",
       "SH.HIV.ARTC.MA.ZS     Access to anti-retroviral drugs, male (%)\n",
       "SH.HIV.INCD.FE.P3     Incidence of HIV, ages 15-49, female (per 1,000 uninfected female population ages 15-49)\n",
       "SH.HIV.INCD.MA.P3     Incidence of HIV, ages 15-49, male (per 1,000 uninfected male population ages 15-49)\n",
       "SH.HIV.INCD.YG.FE.P3  Incidence of HIV, ages 15-24, female (per 1,000 uninfected female population ages 15-24)\n",
       "SH.HIV.INCD.YG.MA.P3  Incidence of HIV, ages 15-24, male (per 1,000 uninfected male population ages 15-24)\n",
       "SH.MMR.LEVE           Length of paid maternity leave (calendar days)\n",
       "SH.MMR.LEVE.AL        Paid leave of at least 14 weeks available to mothers (1=yes; 0=no)\n",
       "SH.MMR.LEVE.GT        The government administers 100 percent of maternity leave benefits (1=yes; 0=no)\n",
       "SH.MMR.RISK           Lifetime risk of maternal death (1 in: rate varies by country)\n",
       "SH.MMR.RISK.ZS        Lifetime risk of maternal death (%)\n",
       "SH.MMR.WAGE.ZS        Maternal leave benefits (% of wages paid in covered period)\n",
       "SH.PAR.LEVE           Length of paid shared parental leave (calendar days)\n",
       "SH.PAR.LEVE.AL        There is paid parental leave (1=yes; 0=no)\n",
       "SH.PAR.LEVE.FE        Length of paid parental leave for mother (calendar days)\n",
       "SH.PAR.LEVE.MA        Length of paid parental leave for father (calendar days)\n",
       "SH.PRV.SMOK.FE        Prevalence of current tobacco use, females (% of female adults)\n",
       "SH.PRV.SMOK.MA        Prevalence of current tobacco use, males (% of male adults)\n",
       "SH.PTR.LEVE           Length of paid paternity leave (calendar days)\n",
       "SH.PTR.LEVE.AL        Paid leave is available to fathers (1=yes; 0=no)\n",
       "SH.STA.ANVC.ZS        Pregnant women receiving prenatal care (%)\n",
       "SH.STA.BRTC.ZS        Births attended by skilled health staff (% of total)\n",
       "SH.STA.MALN.FE.ZS     Prevalence of underweight, weight for age, female (% of children under 5)\n",
       "SH.STA.MALN.MA.ZS     Prevalence of underweight, weight for age, male (% of children under 5)\n",
       "SH.STA.MMRT           Maternal mortality ratio (modeled estimate, per 100,000 live births)\n",
       "SH.STA.MMRT.NE        Maternal mortality ratio (national estimate, per 100,000 live births)\n",
       "SH.STA.OB18.FE.ZS     Prevalence of obesity, female (% of female population ages 18+)\n",
       "SH.STA.OB18.MA.ZS     Prevalence of obesity, male (% of male population ages 18+)\n",
       "SL.AGR.0714.FE.ZS     Child employment in agriculture, female (% of female economically active children ages 7-14)\n",
       "SL.AGR.0714.MA.ZS     Child employment in agriculture, male (% of male economically active children ages 7-14)\n",
       "SL.AGR.EMPL.FE.ZS     Employment in agriculture, female (% of female employment) (modeled ILO estimate)\n",
       "SL.AGR.EMPL.MA.ZS     Employment in agriculture, male (% of male employment) (modeled ILO estimate)\n",
       "SL.EMP.1524.SP.FE.ZS  Employment to population ratio, ages 15-24, female (%) (modeled ILO estimate)\n",
       "SL.EMP.1524.SP.MA.ZS  Employment to population ratio, ages 15-24, male (%) (modeled ILO estimate)\n",
       "SL.EMP.INSV.FE.ZS     Share of women in wage employment in the nonagricultural sector (% of total nonagricultural employment)\n",
       "SL.EMP.MPYR.FE.ZS     Employers, female (% of female employment) (modeled ILO estimate)\n",
       "SL.EMP.MPYR.MA.ZS     Employers, male (% of male employment) (modeled ILO estimate)\n",
       "SL.EMP.OWAC.FE.ZS     Own-account workers, female (% of female employment) (modeled ILO estimate)\n",
       "SL.EMP.OWAC.MA.ZS     Own-account workers, male (% of male employment) (modeled ILO estimate)\n",
       "SL.EMP.SELF.FE.ZS     Self-employed, female (% of female employment) (modeled ILO estimate)\n",
       "SL.EMP.SELF.MA.ZS     Self-employed, male (% of male employment) (modeled ILO estimate)\n",
       "SL.EMP.TOTL.SP.FE.ZS  Employment to population ratio, 15+, female (%) (modeled ILO estimate)\n",
       "SL.EMP.TOTL.SP.MA.ZS  Employment to population ratio, 15+, male (%) (modeled ILO estimate)\n",
       "SL.EMP.UNDR.FE.ZS     Time-related underemployment, female (% of employment)\n",
       "SL.EMP.UNDR.MA.ZS     Time-related underemployment, male (% of employment)\n",
       "SL.EMP.VULN.FE.ZS     Vulnerable employment, female (% of female employment) (modeled ILO estimate)\n",
       "SL.EMP.VULN.MA.ZS     Vulnerable employment, male (% of male employment) (modeled ILO estimate)\n",
       "SL.EMP.WORK.FE.ZS     Wage and salaried workers, female (% of female employment) (modeled ILO estimate)\n",
       "SL.EMP.WORK.MA.ZS     Wage and salaried workers, male (% of male employment) (modeled ILO estimate)\n",
       "SL.FAM.WORK.FE.ZS     Contributing family workers, female (% of female employment) (modeled ILO estimate)\n",
       "SL.FAM.WORK.MA.ZS     Contributing family workers, male (% of male employment) (modeled ILO estimate)\n",
       "SL.IND.EMPL.FE.ZS     Employment in industry, female (% of female employment) (modeled ILO estimate)\n",
       "SL.IND.EMPL.MA.ZS     Employment in industry, male (% of male employment) (modeled ILO estimate)\n",
       "SL.MNF.0714.FE.ZS     Child employment in manufacturing, female (% of female economically active children ages 7-14)\n",
       "SL.MNF.0714.MA.ZS     Child employment in manufacturing, male (% of male economically active children ages 7-14)\n",
       "SL.MNF.WAGE.FM        Ratio of female to male wages in manufacturing (%)\n",
       "SL.SRV.0714.FE.ZS     Child employment in services, female (% of female economically active children ages 7-14)\n",
       "SL.SRV.0714.MA.ZS     Child employment in services, male (% of male economically active children ages 7-14)\n",
       "SL.SRV.EMPL.FE.ZS     Employment in services, female (% of female employment) (modeled ILO estimate)\n",
       "SL.SRV.EMPL.MA.ZS     Employment in services, male (% of male employment) (modeled ILO estimate)\n",
       "SL.TLF.0714.FE.ZS     Children in employment, female (% of female children ages 7-14)\n",
       "SL.TLF.0714.MA.ZS     Children in employment, male (% of male children ages 7-14)\n",
       "SL.TLF.0714.SW.FE.ZS  Children in employment, study and work, female (% of female children in employment, ages 7-14)\n",
       "SL.TLF.0714.SW.MA.ZS  Children in employment, study and work, male (% of male children in employment, ages 7-14)\n",
       "SL.TLF.0714.WK.FE.ZS  Children in employment, work only, female (% of female children in employment, ages 7-14)\n",
       "SL.TLF.0714.WK.MA.ZS  Children in employment, work only, male (% of male children in employment, ages 7-14)\n",
       "SL.TLF.CACT.FE.ZS     Labor force participation rate, female (% of female population ages 15+) (modeled ILO estimate)\n",
       "SL.TLF.CACT.MA.ZS     Labor force participation rate, male (% of male population ages 15+) (modeled ILO estimate)\n",
       "SL.TLF.PART.FE.ZS     Part time employment, female (% of total female employment)\n",
       "SL.TLF.PART.MA.ZS     Part time employment, male (% of total male employment)\n",
       "SL.TLF.PART.TL.FE.ZS  Part time employment, female (% of total part time employment)\n",
       "SL.TLF.PRIM.FE.ZS     Labor force with primary education, female (% of female labor force)\n",
       "SL.TLF.PRIM.MA.ZS     Labor force with primary education, male (% of male labor force)\n",
       "SL.TLF.SECO.FE.ZS     Labor force with secondary education, female (% of female labor force)\n",
       "SL.TLF.SECO.MA.ZS     Labor force with secondary education, male (% of male labor force)\n",
       "SL.TLF.TERT.FE.ZS     Labor force with tertiary education, female (% of female labor force)\n",
       "SL.TLF.TERT.MA.ZS     Labor force with tertiary education, male (% of male labor force)\n",
       "SL.TLF.TOTL.FE.IN     Labor force, female\n",
       "SL.TLF.TOTL.FE.ZS     Labor force, female (% of total labor force)\n",
       "SL.UEM.1524.FE.ZS     Unemployment, youth female (% of female labor force ages 15-24) (modeled ILO estimate)\n",
       "SL.UEM.1524.FM.NE.ZS  Ratio of female to male youth unemployment rate (%) (national estimate)\n",
       "SL.UEM.1524.FM.ZS     Ratio of female to male youth unemployment rate (% ages 15-24) (modeled ILO estimate)\n",
       "SL.UEM.1524.MA.ZS     Unemployment, youth male (% of male labor force ages 15-24) (modeled ILO estimate)\n",
       "SL.UEM.LTRM.FE.ZS     Long-term unemployment, female (% of female unemployment)\n",
       "SL.UEM.LTRM.MA.ZS     Long-term unemployment, male (% of male unemployment)\n",
       "SL.UEM.PRIM.FE.ZS     Unemployment with primary education, female (% of female unemployment)\n",
       "SL.UEM.PRIM.MA.ZS     Unemployment with primary education, male (% of male unemployment)\n",
       "SL.UEM.SECO.FE.ZS     Unemployment with secondary education, female (% of female unemployment)\n",
       "SL.UEM.SECO.MA.ZS     Unemployment with secondary education, male (% of male unemployment)\n",
       "SL.UEM.TERT.FE.ZS     Unemployment with tertiary education, female (% of female unemployment)\n",
       "SL.UEM.TERT.MA.ZS     Unemployment with tertiary education, male (% of male unemployment)\n",
       "SL.UEM.TOTL.FE.ZS     Unemployment, female (% of female labor force) (modeled ILO estimate)\n",
       "SL.UEM.TOTL.MA.ZS     Unemployment, male (% of male labor force) (modeled ILO estimate)\n",
       "SP.ADO.TFRT           Adolescent fertility rate (births per 1,000 women ages 15-19)\n",
       "SP.DYN.AMRT.FE        Mortality rate, adult, female (per 1,000 female adults)\n",
       "SP.DYN.AMRT.MA        Mortality rate, adult, male (per 1,000 male adults)\n",
       "SP.DYN.CONU.ZS        Contraceptive prevalence, any method (% of married women ages 15-49)\n",
       "SP.DYN.LE00.FE.IN     Life expectancy at birth, female (years)\n",
       "SP.DYN.LE00.MA.IN     Life expectancy at birth, male (years)\n",
       "SP.DYN.LE60.FE.IN     Life expectancy at age 60, female (years)\n",
       "SP.DYN.LE60.MA.IN     Life expectancy at age 60, male (years)\n",
       "SP.DYN.SMAM.FE        Age at first marriage, female\n",
       "SP.DYN.SMAM.MA        Age at first marriage, male\n",
       "SP.DYN.TFRT.IN        Fertility rate, total (births per woman)\n",
       "SP.DYN.TO65.FE.ZS     Survival to age 65, female (% of cohort)\n",
       "SP.DYN.TO65.MA.ZS     Survival to age 65, male (% of cohort)\n",
       "SP.DYN.WFRT           Wanted fertility rate (births per woman)\n",
       "SP.HOU.FEMA.ZS        Female headed households (% of households with a female head)\n",
       "SP.M15.2024.FE.ZS     Women who were first married by age 15 (% of women ages 20-24)\n",
       "SP.M18.2024.FE.ZS     Women who were first married by age 18 (% of women ages 20-24)\n",
       "SP.MTR.1519.ZS        Teenage mothers (% of women ages 15-19 who have had children or are currently pregnant)\n",
       "SP.POP.AG00.FE.IN     Age population, age 00, female, interpolated\n",
       "SP.POP.AG00.MA.IN     Age population, age 00, male, interpolated\n",
       "SP.POP.AG01.FE.IN     Age population, age 01, female, interpolated\n",
       "SP.POP.AG01.MA.IN     Age population, age 01, male, interpolated\n",
       "SP.POP.AG02.FE.IN     Age population, age 02, female, interpolated\n",
       "SP.POP.AG02.MA.IN     Age population, age 02, male, interpolated\n",
       "SP.POP.AG03.FE.IN     Age population, age 03, female, interpolated\n",
       "SP.POP.AG03.MA.IN     Age population, age 03, male, interpolated\n",
       "SP.POP.AG04.FE.IN     Age population, age 04, female, interpolated\n",
       "SP.POP.AG04.MA.IN     Age population, age 04, male, interpolated\n",
       "SP.POP.AG05.FE.IN     Age population, age 05, female, interpolated\n",
       "SP.POP.AG05.MA.IN     Age population, age 05, male, interpolated\n",
       "SP.RUR.TOTL.FE.ZS     Rural population, female (% of total)\n",
       "SP.RUR.TOTL.MA.ZS     Rural population, male (% of total)\n",
       "SP.URB.TOTL.FE.ZS     Urban population, female (% of total)\n",
       "SP.URB.TOTL.MA.ZS     Urban population, male (% of total)\n",
       "WP_time_01.2          Account at a financial institution, male (% age 15+)\n",
       "WP_time_01.3          Account at a financial institution, female (% age 15+)\n",
       "WP15163_4.2           Mobile account, male (% age 15+)\n",
       "WP15163_4.3           Mobile account, female (% age 15+)"
      ]
     },
     "execution_count": 11,
     "metadata": {},
     "output_type": "execute_result"
    }
   ],
   "source": [
    "wbdata.get_indicators(topic=17)"
   ]
  },
  {
   "cell_type": "code",
   "execution_count": 17,
   "id": "d0ac646b-00e2-473d-8ead-9f8ef54749ff",
   "metadata": {},
   "outputs": [],
   "source": [
    "vars = {\"SP.POP.2529.MA\":\"Population\"}\n",
    "\n",
    "use=[\"BRA\",\"ECU\",\"VEN\",\"COL\",\"PER\",\"BOL\"]\n",
    "\n",
    "population = wbdata.get_dataframe(vars, country=use).squeeze().unstack('country')"
   ]
  },
  {
   "cell_type": "code",
   "execution_count": 18,
   "id": "67af8d3f-7b94-41ae-8160-fd60deae324f",
   "metadata": {},
   "outputs": [
    {
     "data": {
      "text/html": [
       "<div>\n",
       "<style scoped>\n",
       "    .dataframe tbody tr th:only-of-type {\n",
       "        vertical-align: middle;\n",
       "    }\n",
       "\n",
       "    .dataframe tbody tr th {\n",
       "        vertical-align: top;\n",
       "    }\n",
       "\n",
       "    .dataframe thead th {\n",
       "        text-align: right;\n",
       "    }\n",
       "</style>\n",
       "<table border=\"1\" class=\"dataframe\">\n",
       "  <thead>\n",
       "    <tr style=\"text-align: right;\">\n",
       "      <th>country</th>\n",
       "      <th>Bolivia</th>\n",
       "      <th>Brazil</th>\n",
       "      <th>Colombia</th>\n",
       "      <th>Ecuador</th>\n",
       "      <th>Peru</th>\n",
       "      <th>Venezuela, RB</th>\n",
       "    </tr>\n",
       "    <tr>\n",
       "      <th>date</th>\n",
       "      <th></th>\n",
       "      <th></th>\n",
       "      <th></th>\n",
       "      <th></th>\n",
       "      <th></th>\n",
       "      <th></th>\n",
       "    </tr>\n",
       "  </thead>\n",
       "  <tbody>\n",
       "    <tr>\n",
       "      <th>1960</th>\n",
       "      <td>136680.0</td>\n",
       "      <td>2658615.0</td>\n",
       "      <td>540798.0</td>\n",
       "      <td>157442.0</td>\n",
       "      <td>369548.0</td>\n",
       "      <td>291708.0</td>\n",
       "    </tr>\n",
       "    <tr>\n",
       "      <th>1961</th>\n",
       "      <td>138727.0</td>\n",
       "      <td>2707118.0</td>\n",
       "      <td>551616.0</td>\n",
       "      <td>161529.0</td>\n",
       "      <td>378970.0</td>\n",
       "      <td>298958.0</td>\n",
       "    </tr>\n",
       "    <tr>\n",
       "      <th>1962</th>\n",
       "      <td>140868.0</td>\n",
       "      <td>2766510.0</td>\n",
       "      <td>562224.0</td>\n",
       "      <td>165700.0</td>\n",
       "      <td>387734.0</td>\n",
       "      <td>306384.0</td>\n",
       "    </tr>\n",
       "    <tr>\n",
       "      <th>1963</th>\n",
       "      <td>143246.0</td>\n",
       "      <td>2837054.0</td>\n",
       "      <td>573264.0</td>\n",
       "      <td>170098.0</td>\n",
       "      <td>395713.0</td>\n",
       "      <td>314160.0</td>\n",
       "    </tr>\n",
       "    <tr>\n",
       "      <th>1964</th>\n",
       "      <td>146082.0</td>\n",
       "      <td>2920680.0</td>\n",
       "      <td>586280.0</td>\n",
       "      <td>175017.0</td>\n",
       "      <td>403082.0</td>\n",
       "      <td>322438.0</td>\n",
       "    </tr>\n",
       "    <tr>\n",
       "      <th>...</th>\n",
       "      <td>...</td>\n",
       "      <td>...</td>\n",
       "      <td>...</td>\n",
       "      <td>...</td>\n",
       "      <td>...</td>\n",
       "      <td>...</td>\n",
       "    </tr>\n",
       "    <tr>\n",
       "      <th>2019</th>\n",
       "      <td>515809.0</td>\n",
       "      <td>8222058.0</td>\n",
       "      <td>2190540.0</td>\n",
       "      <td>754475.0</td>\n",
       "      <td>1338617.0</td>\n",
       "      <td>1038249.0</td>\n",
       "    </tr>\n",
       "    <tr>\n",
       "      <th>2020</th>\n",
       "      <td>521844.0</td>\n",
       "      <td>8198543.0</td>\n",
       "      <td>2244256.0</td>\n",
       "      <td>764960.0</td>\n",
       "      <td>1347603.0</td>\n",
       "      <td>972737.0</td>\n",
       "    </tr>\n",
       "    <tr>\n",
       "      <th>2021</th>\n",
       "      <td>527107.0</td>\n",
       "      <td>8196510.0</td>\n",
       "      <td>2274977.0</td>\n",
       "      <td>770724.0</td>\n",
       "      <td>1353642.0</td>\n",
       "      <td>937830.0</td>\n",
       "    </tr>\n",
       "    <tr>\n",
       "      <th>2022</th>\n",
       "      <td>531860.0</td>\n",
       "      <td>8207422.0</td>\n",
       "      <td>2293920.0</td>\n",
       "      <td>774600.0</td>\n",
       "      <td>1357988.0</td>\n",
       "      <td>925156.0</td>\n",
       "    </tr>\n",
       "    <tr>\n",
       "      <th>2023</th>\n",
       "      <td>536611.0</td>\n",
       "      <td>8229536.0</td>\n",
       "      <td>2305080.0</td>\n",
       "      <td>777904.0</td>\n",
       "      <td>1362066.0</td>\n",
       "      <td>929562.0</td>\n",
       "    </tr>\n",
       "  </tbody>\n",
       "</table>\n",
       "<p>64 rows × 6 columns</p>\n",
       "</div>"
      ],
      "text/plain": [
       "country   Bolivia     Brazil   Colombia   Ecuador       Peru  Venezuela, RB\n",
       "date                                                                       \n",
       "1960     136680.0  2658615.0   540798.0  157442.0   369548.0       291708.0\n",
       "1961     138727.0  2707118.0   551616.0  161529.0   378970.0       298958.0\n",
       "1962     140868.0  2766510.0   562224.0  165700.0   387734.0       306384.0\n",
       "1963     143246.0  2837054.0   573264.0  170098.0   395713.0       314160.0\n",
       "1964     146082.0  2920680.0   586280.0  175017.0   403082.0       322438.0\n",
       "...           ...        ...        ...       ...        ...            ...\n",
       "2019     515809.0  8222058.0  2190540.0  754475.0  1338617.0      1038249.0\n",
       "2020     521844.0  8198543.0  2244256.0  764960.0  1347603.0       972737.0\n",
       "2021     527107.0  8196510.0  2274977.0  770724.0  1353642.0       937830.0\n",
       "2022     531860.0  8207422.0  2293920.0  774600.0  1357988.0       925156.0\n",
       "2023     536611.0  8229536.0  2305080.0  777904.0  1362066.0       929562.0\n",
       "\n",
       "[64 rows x 6 columns]"
      ]
     },
     "execution_count": 18,
     "metadata": {},
     "output_type": "execute_result"
    }
   ],
   "source": [
    "population"
   ]
  },
  {
   "cell_type": "code",
   "execution_count": 82,
   "id": "f24738a6-bdee-475e-b30b-23ad58e1dbbb",
   "metadata": {},
   "outputs": [
    {
     "data": {
      "text/plain": [
       "country\n",
       "Bolivia           322571.0\n",
       "Brazil           6937745.0\n",
       "Colombia         1665170.0\n",
       "Ecuador           506062.0\n",
       "Peru             1049562.0\n",
       "Venezuela, RB     948313.0\n",
       "Name: 1990, dtype: float64"
      ]
     },
     "execution_count": 82,
     "metadata": {},
     "output_type": "execute_result"
    }
   ],
   "source": [
    "population.loc[\"1990\"]"
   ]
  },
  {
   "cell_type": "code",
   "execution_count": 64,
   "id": "98aad7a2-caba-4769-b467-dcc0367bb952",
   "metadata": {},
   "outputs": [
    {
     "data": {
      "application/vnd.plotly.v1+json": {
       "config": {
        "plotlyServerURL": "https://plot.ly"
       },
       "data": [
        {
         "hovertemplate": "country=Bolivia<br>date=%{x}<br>Country's Forest (%)=%{y}<extra></extra>",
         "legendgroup": "Bolivia",
         "line": {
          "color": "#636efa",
          "dash": "solid"
         },
         "marker": {
          "symbol": "circle"
         },
         "mode": "lines",
         "name": "Bolivia",
         "orientation": "v",
         "showlegend": true,
         "type": "scatter",
         "x": [
          "1990",
          "1991",
          "1992",
          "1993",
          "1994",
          "1995",
          "1996",
          "1997",
          "1998",
          "1999",
          "2000",
          "2001",
          "2002",
          "2003",
          "2004",
          "2005",
          "2006",
          "2007",
          "2008",
          "2009",
          "2010",
          "2011",
          "2012",
          "2013",
          "2014",
          "2015",
          "2016",
          "2017",
          "2018",
          "2019",
          "2020",
          "2021",
          "2022",
          "2023"
         ],
         "xaxis": "x",
         "y": [
          3554161,
          3630416,
          3706602,
          3785316,
          3866779,
          3947764,
          4028588,
          4108924,
          4188785,
          4268890,
          4348722,
          4427863,
          4504099,
          4578603,
          4654692,
          4732198,
          4811974,
          4893397,
          4975069,
          5057042,
          5139321,
          5221815,
          5304439,
          5386941,
          5469087,
          5550936,
          5632455,
          5713458,
          5793932,
          5873939,
          5940065,
          5989944,
          6053750,
          6135731
         ],
         "yaxis": "y"
        },
        {
         "hovertemplate": "country=Brazil<br>date=%{x}<br>Country's Forest (%)=%{y}<extra></extra>",
         "legendgroup": "Brazil",
         "line": {
          "color": "#EF553B",
          "dash": "solid"
         },
         "marker": {
          "symbol": "circle"
         },
         "mode": "lines",
         "name": "Brazil",
         "orientation": "v",
         "showlegend": true,
         "type": "scatter",
         "x": [
          "1990",
          "1991",
          "1992",
          "1993",
          "1994",
          "1995",
          "1996",
          "1997",
          "1998",
          "1999",
          "2000",
          "2001",
          "2002",
          "2003",
          "2004",
          "2005",
          "2006",
          "2007",
          "2008",
          "2009",
          "2010",
          "2011",
          "2012",
          "2013",
          "2014",
          "2015",
          "2016",
          "2017",
          "2018",
          "2019",
          "2020",
          "2021",
          "2022",
          "2023"
         ],
         "xaxis": "x",
         "y": [
          74332633,
          75601836,
          76851449,
          78081674,
          79285303,
          80487831,
          81688609,
          82884670,
          84099364,
          85304528,
          86454826,
          87555739,
          88614174,
          89629542,
          90610756,
          91571959,
          92509047,
          93412519,
          94272742,
          95081284,
          95844360,
          96587069,
          97333272,
          98085091,
          98839567,
          99587454,
          100309738,
          101001719,
          101654523,
          102280732,
          102844473,
          103236465,
          103548935,
          103913061
         ],
         "yaxis": "y"
        },
        {
         "hovertemplate": "country=Colombia<br>date=%{x}<br>Country's Forest (%)=%{y}<extra></extra>",
         "legendgroup": "Colombia",
         "line": {
          "color": "#00cc96",
          "dash": "solid"
         },
         "marker": {
          "symbol": "circle"
         },
         "mode": "lines",
         "name": "Colombia",
         "orientation": "v",
         "showlegend": true,
         "type": "scatter",
         "x": [
          "1990",
          "1991",
          "1992",
          "1993",
          "1994",
          "1995",
          "1996",
          "1997",
          "1998",
          "1999",
          "2000",
          "2001",
          "2002",
          "2003",
          "2004",
          "2005",
          "2006",
          "2007",
          "2008",
          "2009",
          "2010",
          "2011",
          "2012",
          "2013",
          "2014",
          "2015",
          "2016",
          "2017",
          "2018",
          "2019",
          "2020",
          "2021",
          "2022",
          "2023"
         ],
         "xaxis": "x",
         "y": [
          16197632,
          16515771,
          16834498,
          17162346,
          17493607,
          17821401,
          18140058,
          18458959,
          18784170,
          19104954,
          19411115,
          19708939,
          20005151,
          20301319,
          20595401,
          20880218,
          21153219,
          21416887,
          21670024,
          21918269,
          22163441,
          22396798,
          22616962,
          22827016,
          23026431,
          23221563,
          23448707,
          23789069,
          24229130,
          24664044,
          25013101,
          25273270,
          25533693,
          25818556
         ],
         "yaxis": "y"
        },
        {
         "hovertemplate": "country=Ecuador<br>date=%{x}<br>Country's Forest (%)=%{y}<extra></extra>",
         "legendgroup": "Ecuador",
         "line": {
          "color": "#ab63fa",
          "dash": "solid"
         },
         "marker": {
          "symbol": "circle"
         },
         "mode": "lines",
         "name": "Ecuador",
         "orientation": "v",
         "showlegend": true,
         "type": "scatter",
         "x": [
          "1990",
          "1991",
          "1992",
          "1993",
          "1994",
          "1995",
          "1996",
          "1997",
          "1998",
          "1999",
          "2000",
          "2001",
          "2002",
          "2003",
          "2004",
          "2005",
          "2006",
          "2007",
          "2008",
          "2009",
          "2010",
          "2011",
          "2012",
          "2013",
          "2014",
          "2015",
          "2016",
          "2017",
          "2018",
          "2019",
          "2020",
          "2021",
          "2022",
          "2023"
         ],
         "xaxis": "x",
         "y": [
          5238654,
          5352836,
          5466469,
          5578274,
          5686942,
          5795705,
          5905520,
          6015260,
          6125003,
          6234605,
          6343673,
          6454328,
          6567993,
          6684584,
          6802233,
          6920222,
          7039369,
          7159809,
          7282106,
          7406566,
          7531114,
          7655261,
          7777938,
          7895413,
          8009667,
          8125597,
          8245438,
          8372918,
          8517638,
          8661859,
          8760001,
          8821568,
          8888825,
          8964951
         ],
         "yaxis": "y"
        },
        {
         "hovertemplate": "country=Peru<br>date=%{x}<br>Country's Forest (%)=%{y}<extra></extra>",
         "legendgroup": "Peru",
         "line": {
          "color": "#FFA15A",
          "dash": "solid"
         },
         "marker": {
          "symbol": "circle"
         },
         "mode": "lines",
         "name": "Peru",
         "orientation": "v",
         "showlegend": true,
         "type": "scatter",
         "x": [
          "1990",
          "1991",
          "1992",
          "1993",
          "1994",
          "1995",
          "1996",
          "1997",
          "1998",
          "1999",
          "2000",
          "2001",
          "2002",
          "2003",
          "2004",
          "2005",
          "2006",
          "2007",
          "2008",
          "2009",
          "2010",
          "2011",
          "2012",
          "2013",
          "2014",
          "2015",
          "2016",
          "2017",
          "2018",
          "2019",
          "2020",
          "2021",
          "2022",
          "2023"
         ],
         "xaxis": "x",
         "y": [
          11010543,
          11243647,
          11473614,
          11706336,
          11940675,
          12176431,
          12410073,
          12643964,
          12877882,
          13104053,
          13312624,
          13499000,
          13664193,
          13813521,
          13951981,
          14078966,
          14193488,
          14299800,
          14389325,
          14465592,
          14548314,
          14646960,
          14760964,
          14886265,
          15028034,
          15193649,
          15395556,
          15621908,
          15903762,
          16174853,
          16356574,
          16498081,
          16651798,
          16835443
         ],
         "yaxis": "y"
        },
        {
         "hovertemplate": "country=Venezuela, RB<br>date=%{x}<br>Country's Forest (%)=%{y}<extra></extra>",
         "legendgroup": "Venezuela, RB",
         "line": {
          "color": "#19d3f3",
          "dash": "solid"
         },
         "marker": {
          "symbol": "circle"
         },
         "mode": "lines",
         "name": "Venezuela, RB",
         "orientation": "v",
         "showlegend": true,
         "type": "scatter",
         "x": [
          "1990",
          "1991",
          "1992",
          "1993",
          "1994",
          "1995",
          "1996",
          "1997",
          "1998",
          "1999",
          "2000",
          "2001",
          "2002",
          "2003",
          "2004",
          "2005",
          "2006",
          "2007",
          "2008",
          "2009",
          "2010",
          "2011",
          "2012",
          "2013",
          "2014",
          "2015",
          "2016",
          "2017",
          "2018",
          "2019",
          "2020",
          "2021",
          "2022",
          "2023"
         ],
         "xaxis": "x",
         "y": [
          9939326,
          10178930,
          10417211,
          10653658,
          10888029,
          11121299,
          11354787,
          11589236,
          11823440,
          12054870,
          12282549,
          12504481,
          12727310,
          12951175,
          13170327,
          13388125,
          13601914,
          13807091,
          14000234,
          14182559,
          14361204,
          14538290,
          14712919,
          14882999,
          15044704,
          15195272,
          15280477,
          15168915,
          14780952,
          14338763,
          14083715,
          13972114,
          13952027,
          13988508
         ],
         "yaxis": "y"
        }
       ],
       "layout": {
        "legend": {
         "title": {
          "text": "country"
         },
         "tracegroupgap": 0
        },
        "template": {
         "data": {
          "bar": [
           {
            "error_x": {
             "color": "#2a3f5f"
            },
            "error_y": {
             "color": "#2a3f5f"
            },
            "marker": {
             "line": {
              "color": "#E5ECF6",
              "width": 0.5
             },
             "pattern": {
              "fillmode": "overlay",
              "size": 10,
              "solidity": 0.2
             }
            },
            "type": "bar"
           }
          ],
          "barpolar": [
           {
            "marker": {
             "line": {
              "color": "#E5ECF6",
              "width": 0.5
             },
             "pattern": {
              "fillmode": "overlay",
              "size": 10,
              "solidity": 0.2
             }
            },
            "type": "barpolar"
           }
          ],
          "carpet": [
           {
            "aaxis": {
             "endlinecolor": "#2a3f5f",
             "gridcolor": "white",
             "linecolor": "white",
             "minorgridcolor": "white",
             "startlinecolor": "#2a3f5f"
            },
            "baxis": {
             "endlinecolor": "#2a3f5f",
             "gridcolor": "white",
             "linecolor": "white",
             "minorgridcolor": "white",
             "startlinecolor": "#2a3f5f"
            },
            "type": "carpet"
           }
          ],
          "choropleth": [
           {
            "colorbar": {
             "outlinewidth": 0,
             "ticks": ""
            },
            "type": "choropleth"
           }
          ],
          "contour": [
           {
            "colorbar": {
             "outlinewidth": 0,
             "ticks": ""
            },
            "colorscale": [
             [
              0,
              "#0d0887"
             ],
             [
              0.1111111111111111,
              "#46039f"
             ],
             [
              0.2222222222222222,
              "#7201a8"
             ],
             [
              0.3333333333333333,
              "#9c179e"
             ],
             [
              0.4444444444444444,
              "#bd3786"
             ],
             [
              0.5555555555555556,
              "#d8576b"
             ],
             [
              0.6666666666666666,
              "#ed7953"
             ],
             [
              0.7777777777777778,
              "#fb9f3a"
             ],
             [
              0.8888888888888888,
              "#fdca26"
             ],
             [
              1,
              "#f0f921"
             ]
            ],
            "type": "contour"
           }
          ],
          "contourcarpet": [
           {
            "colorbar": {
             "outlinewidth": 0,
             "ticks": ""
            },
            "type": "contourcarpet"
           }
          ],
          "heatmap": [
           {
            "colorbar": {
             "outlinewidth": 0,
             "ticks": ""
            },
            "colorscale": [
             [
              0,
              "#0d0887"
             ],
             [
              0.1111111111111111,
              "#46039f"
             ],
             [
              0.2222222222222222,
              "#7201a8"
             ],
             [
              0.3333333333333333,
              "#9c179e"
             ],
             [
              0.4444444444444444,
              "#bd3786"
             ],
             [
              0.5555555555555556,
              "#d8576b"
             ],
             [
              0.6666666666666666,
              "#ed7953"
             ],
             [
              0.7777777777777778,
              "#fb9f3a"
             ],
             [
              0.8888888888888888,
              "#fdca26"
             ],
             [
              1,
              "#f0f921"
             ]
            ],
            "type": "heatmap"
           }
          ],
          "heatmapgl": [
           {
            "colorbar": {
             "outlinewidth": 0,
             "ticks": ""
            },
            "colorscale": [
             [
              0,
              "#0d0887"
             ],
             [
              0.1111111111111111,
              "#46039f"
             ],
             [
              0.2222222222222222,
              "#7201a8"
             ],
             [
              0.3333333333333333,
              "#9c179e"
             ],
             [
              0.4444444444444444,
              "#bd3786"
             ],
             [
              0.5555555555555556,
              "#d8576b"
             ],
             [
              0.6666666666666666,
              "#ed7953"
             ],
             [
              0.7777777777777778,
              "#fb9f3a"
             ],
             [
              0.8888888888888888,
              "#fdca26"
             ],
             [
              1,
              "#f0f921"
             ]
            ],
            "type": "heatmapgl"
           }
          ],
          "histogram": [
           {
            "marker": {
             "pattern": {
              "fillmode": "overlay",
              "size": 10,
              "solidity": 0.2
             }
            },
            "type": "histogram"
           }
          ],
          "histogram2d": [
           {
            "colorbar": {
             "outlinewidth": 0,
             "ticks": ""
            },
            "colorscale": [
             [
              0,
              "#0d0887"
             ],
             [
              0.1111111111111111,
              "#46039f"
             ],
             [
              0.2222222222222222,
              "#7201a8"
             ],
             [
              0.3333333333333333,
              "#9c179e"
             ],
             [
              0.4444444444444444,
              "#bd3786"
             ],
             [
              0.5555555555555556,
              "#d8576b"
             ],
             [
              0.6666666666666666,
              "#ed7953"
             ],
             [
              0.7777777777777778,
              "#fb9f3a"
             ],
             [
              0.8888888888888888,
              "#fdca26"
             ],
             [
              1,
              "#f0f921"
             ]
            ],
            "type": "histogram2d"
           }
          ],
          "histogram2dcontour": [
           {
            "colorbar": {
             "outlinewidth": 0,
             "ticks": ""
            },
            "colorscale": [
             [
              0,
              "#0d0887"
             ],
             [
              0.1111111111111111,
              "#46039f"
             ],
             [
              0.2222222222222222,
              "#7201a8"
             ],
             [
              0.3333333333333333,
              "#9c179e"
             ],
             [
              0.4444444444444444,
              "#bd3786"
             ],
             [
              0.5555555555555556,
              "#d8576b"
             ],
             [
              0.6666666666666666,
              "#ed7953"
             ],
             [
              0.7777777777777778,
              "#fb9f3a"
             ],
             [
              0.8888888888888888,
              "#fdca26"
             ],
             [
              1,
              "#f0f921"
             ]
            ],
            "type": "histogram2dcontour"
           }
          ],
          "mesh3d": [
           {
            "colorbar": {
             "outlinewidth": 0,
             "ticks": ""
            },
            "type": "mesh3d"
           }
          ],
          "parcoords": [
           {
            "line": {
             "colorbar": {
              "outlinewidth": 0,
              "ticks": ""
             }
            },
            "type": "parcoords"
           }
          ],
          "pie": [
           {
            "automargin": true,
            "type": "pie"
           }
          ],
          "scatter": [
           {
            "fillpattern": {
             "fillmode": "overlay",
             "size": 10,
             "solidity": 0.2
            },
            "type": "scatter"
           }
          ],
          "scatter3d": [
           {
            "line": {
             "colorbar": {
              "outlinewidth": 0,
              "ticks": ""
             }
            },
            "marker": {
             "colorbar": {
              "outlinewidth": 0,
              "ticks": ""
             }
            },
            "type": "scatter3d"
           }
          ],
          "scattercarpet": [
           {
            "marker": {
             "colorbar": {
              "outlinewidth": 0,
              "ticks": ""
             }
            },
            "type": "scattercarpet"
           }
          ],
          "scattergeo": [
           {
            "marker": {
             "colorbar": {
              "outlinewidth": 0,
              "ticks": ""
             }
            },
            "type": "scattergeo"
           }
          ],
          "scattergl": [
           {
            "marker": {
             "colorbar": {
              "outlinewidth": 0,
              "ticks": ""
             }
            },
            "type": "scattergl"
           }
          ],
          "scattermapbox": [
           {
            "marker": {
             "colorbar": {
              "outlinewidth": 0,
              "ticks": ""
             }
            },
            "type": "scattermapbox"
           }
          ],
          "scatterpolar": [
           {
            "marker": {
             "colorbar": {
              "outlinewidth": 0,
              "ticks": ""
             }
            },
            "type": "scatterpolar"
           }
          ],
          "scatterpolargl": [
           {
            "marker": {
             "colorbar": {
              "outlinewidth": 0,
              "ticks": ""
             }
            },
            "type": "scatterpolargl"
           }
          ],
          "scatterternary": [
           {
            "marker": {
             "colorbar": {
              "outlinewidth": 0,
              "ticks": ""
             }
            },
            "type": "scatterternary"
           }
          ],
          "surface": [
           {
            "colorbar": {
             "outlinewidth": 0,
             "ticks": ""
            },
            "colorscale": [
             [
              0,
              "#0d0887"
             ],
             [
              0.1111111111111111,
              "#46039f"
             ],
             [
              0.2222222222222222,
              "#7201a8"
             ],
             [
              0.3333333333333333,
              "#9c179e"
             ],
             [
              0.4444444444444444,
              "#bd3786"
             ],
             [
              0.5555555555555556,
              "#d8576b"
             ],
             [
              0.6666666666666666,
              "#ed7953"
             ],
             [
              0.7777777777777778,
              "#fb9f3a"
             ],
             [
              0.8888888888888888,
              "#fdca26"
             ],
             [
              1,
              "#f0f921"
             ]
            ],
            "type": "surface"
           }
          ],
          "table": [
           {
            "cells": {
             "fill": {
              "color": "#EBF0F8"
             },
             "line": {
              "color": "white"
             }
            },
            "header": {
             "fill": {
              "color": "#C8D4E3"
             },
             "line": {
              "color": "white"
             }
            },
            "type": "table"
           }
          ]
         },
         "layout": {
          "annotationdefaults": {
           "arrowcolor": "#2a3f5f",
           "arrowhead": 0,
           "arrowwidth": 1
          },
          "autotypenumbers": "strict",
          "coloraxis": {
           "colorbar": {
            "outlinewidth": 0,
            "ticks": ""
           }
          },
          "colorscale": {
           "diverging": [
            [
             0,
             "#8e0152"
            ],
            [
             0.1,
             "#c51b7d"
            ],
            [
             0.2,
             "#de77ae"
            ],
            [
             0.3,
             "#f1b6da"
            ],
            [
             0.4,
             "#fde0ef"
            ],
            [
             0.5,
             "#f7f7f7"
            ],
            [
             0.6,
             "#e6f5d0"
            ],
            [
             0.7,
             "#b8e186"
            ],
            [
             0.8,
             "#7fbc41"
            ],
            [
             0.9,
             "#4d9221"
            ],
            [
             1,
             "#276419"
            ]
           ],
           "sequential": [
            [
             0,
             "#0d0887"
            ],
            [
             0.1111111111111111,
             "#46039f"
            ],
            [
             0.2222222222222222,
             "#7201a8"
            ],
            [
             0.3333333333333333,
             "#9c179e"
            ],
            [
             0.4444444444444444,
             "#bd3786"
            ],
            [
             0.5555555555555556,
             "#d8576b"
            ],
            [
             0.6666666666666666,
             "#ed7953"
            ],
            [
             0.7777777777777778,
             "#fb9f3a"
            ],
            [
             0.8888888888888888,
             "#fdca26"
            ],
            [
             1,
             "#f0f921"
            ]
           ],
           "sequentialminus": [
            [
             0,
             "#0d0887"
            ],
            [
             0.1111111111111111,
             "#46039f"
            ],
            [
             0.2222222222222222,
             "#7201a8"
            ],
            [
             0.3333333333333333,
             "#9c179e"
            ],
            [
             0.4444444444444444,
             "#bd3786"
            ],
            [
             0.5555555555555556,
             "#d8576b"
            ],
            [
             0.6666666666666666,
             "#ed7953"
            ],
            [
             0.7777777777777778,
             "#fb9f3a"
            ],
            [
             0.8888888888888888,
             "#fdca26"
            ],
            [
             1,
             "#f0f921"
            ]
           ]
          },
          "colorway": [
           "#636efa",
           "#EF553B",
           "#00cc96",
           "#ab63fa",
           "#FFA15A",
           "#19d3f3",
           "#FF6692",
           "#B6E880",
           "#FF97FF",
           "#FECB52"
          ],
          "font": {
           "color": "#2a3f5f"
          },
          "geo": {
           "bgcolor": "white",
           "lakecolor": "white",
           "landcolor": "#E5ECF6",
           "showlakes": true,
           "showland": true,
           "subunitcolor": "white"
          },
          "hoverlabel": {
           "align": "left"
          },
          "hovermode": "closest",
          "mapbox": {
           "style": "light"
          },
          "paper_bgcolor": "white",
          "plot_bgcolor": "#E5ECF6",
          "polar": {
           "angularaxis": {
            "gridcolor": "white",
            "linecolor": "white",
            "ticks": ""
           },
           "bgcolor": "#E5ECF6",
           "radialaxis": {
            "gridcolor": "white",
            "linecolor": "white",
            "ticks": ""
           }
          },
          "scene": {
           "xaxis": {
            "backgroundcolor": "#E5ECF6",
            "gridcolor": "white",
            "gridwidth": 2,
            "linecolor": "white",
            "showbackground": true,
            "ticks": "",
            "zerolinecolor": "white"
           },
           "yaxis": {
            "backgroundcolor": "#E5ECF6",
            "gridcolor": "white",
            "gridwidth": 2,
            "linecolor": "white",
            "showbackground": true,
            "ticks": "",
            "zerolinecolor": "white"
           },
           "zaxis": {
            "backgroundcolor": "#E5ECF6",
            "gridcolor": "white",
            "gridwidth": 2,
            "linecolor": "white",
            "showbackground": true,
            "ticks": "",
            "zerolinecolor": "white"
           }
          },
          "shapedefaults": {
           "line": {
            "color": "#2a3f5f"
           }
          },
          "ternary": {
           "aaxis": {
            "gridcolor": "white",
            "linecolor": "white",
            "ticks": ""
           },
           "baxis": {
            "gridcolor": "white",
            "linecolor": "white",
            "ticks": ""
           },
           "bgcolor": "#E5ECF6",
           "caxis": {
            "gridcolor": "white",
            "linecolor": "white",
            "ticks": ""
           }
          },
          "title": {
           "x": 0.05
          },
          "xaxis": {
           "automargin": true,
           "gridcolor": "white",
           "linecolor": "white",
           "ticks": "",
           "title": {
            "standoff": 15
           },
           "zerolinecolor": "white",
           "zerolinewidth": 2
          },
          "yaxis": {
           "automargin": true,
           "gridcolor": "white",
           "linecolor": "white",
           "ticks": "",
           "title": {
            "standoff": 15
           },
           "zerolinecolor": "white",
           "zerolinewidth": 2
          }
         }
        },
        "title": {
         "text": "Rural Population Growth %"
        },
        "xaxis": {
         "anchor": "y",
         "domain": [
          0,
          1
         ],
         "title": {
          "text": "date"
         }
        },
        "yaxis": {
         "anchor": "x",
         "domain": [
          0,
          1
         ],
         "title": {
          "text": "Country's Forest (%)"
         }
        }
       }
      },
      "image/png": "[encoded data removed]",
      "text/html": [
       "<div>                            <div id=\"ed05932d-6f62-4d5b-b147-c93515e52a7f\" class=\"plotly-graph-div\" style=\"height:525px; width:100%;\"></div>            <script type=\"text/javascript\">                require([\"plotly\"], function(Plotly) {                    window.PLOTLYENV=window.PLOTLYENV || {};                                    if (document.getElementById(\"ed05932d-6f62-4d5b-b147-c93515e52a7f\")) {                    Plotly.newPlot(                        \"ed05932d-6f62-4d5b-b147-c93515e52a7f\",                        [{\"hovertemplate\":\"country=Bolivia\\u003cbr\\u003edate=%{x}\\u003cbr\\u003eCountry's Forest (%)=%{y}\\u003cextra\\u003e\\u003c\\u002fextra\\u003e\",\"legendgroup\":\"Bolivia\",\"line\":{\"color\":\"#636efa\",\"dash\":\"solid\"},\"marker\":{\"symbol\":\"circle\"},\"mode\":\"lines\",\"name\":\"Bolivia\",\"orientation\":\"v\",\"showlegend\":true,\"x\":[\"1990\",\"1991\",\"1992\",\"1993\",\"1994\",\"1995\",\"1996\",\"1997\",\"1998\",\"1999\",\"2000\",\"2001\",\"2002\",\"2003\",\"2004\",\"2005\",\"2006\",\"2007\",\"2008\",\"2009\",\"2010\",\"2011\",\"2012\",\"2013\",\"2014\",\"2015\",\"2016\",\"2017\",\"2018\",\"2019\",\"2020\",\"2021\",\"2022\",\"2023\"],\"xaxis\":\"x\",\"y\":[3554161.0,3630416.0,3706602.0,3785316.0,3866779.0,3947764.0,4028588.0,4108924.0,4188785.0,4268890.0,4348722.0,4427863.0,4504099.0,4578603.0,4654692.0,4732198.0,4811974.0,4893397.0,4975069.0,5057042.0,5139321.0,5221815.0,5304439.0,5386941.0,5469087.0,5550936.0,5632455.0,5713458.0,5793932.0,5873939.0,5940065.0,5989944.0,6053750.0,6135731.0],\"yaxis\":\"y\",\"type\":\"scatter\"},{\"hovertemplate\":\"country=Brazil\\u003cbr\\u003edate=%{x}\\u003cbr\\u003eCountry's Forest (%)=%{y}\\u003cextra\\u003e\\u003c\\u002fextra\\u003e\",\"legendgroup\":\"Brazil\",\"line\":{\"color\":\"#EF553B\",\"dash\":\"solid\"},\"marker\":{\"symbol\":\"circle\"},\"mode\":\"lines\",\"name\":\"Brazil\",\"orientation\":\"v\",\"showlegend\":true,\"x\":[\"1990\",\"1991\",\"1992\",\"1993\",\"1994\",\"1995\",\"1996\",\"1997\",\"1998\",\"1999\",\"2000\",\"2001\",\"2002\",\"2003\",\"2004\",\"2005\",\"2006\",\"2007\",\"2008\",\"2009\",\"2010\",\"2011\",\"2012\",\"2013\",\"2014\",\"2015\",\"2016\",\"2017\",\"2018\",\"2019\",\"2020\",\"2021\",\"2022\",\"2023\"],\"xaxis\":\"x\",\"y\":[74332633.0,75601836.0,76851449.0,78081674.0,79285303.0,80487831.0,81688609.0,82884670.0,84099364.0,85304528.0,86454826.0,87555739.0,88614174.0,89629542.0,90610756.0,91571959.0,92509047.0,93412519.0,94272742.0,95081284.0,95844360.0,96587069.0,97333272.0,98085091.0,98839567.0,99587454.0,100309738.0,101001719.0,101654523.0,102280732.0,102844473.0,103236465.0,103548935.0,103913061.0],\"yaxis\":\"y\",\"type\":\"scatter\"},{\"hovertemplate\":\"country=Colombia\\u003cbr\\u003edate=%{x}\\u003cbr\\u003eCountry's Forest (%)=%{y}\\u003cextra\\u003e\\u003c\\u002fextra\\u003e\",\"legendgroup\":\"Colombia\",\"line\":{\"color\":\"#00cc96\",\"dash\":\"solid\"},\"marker\":{\"symbol\":\"circle\"},\"mode\":\"lines\",\"name\":\"Colombia\",\"orientation\":\"v\",\"showlegend\":true,\"x\":[\"1990\",\"1991\",\"1992\",\"1993\",\"1994\",\"1995\",\"1996\",\"1997\",\"1998\",\"1999\",\"2000\",\"2001\",\"2002\",\"2003\",\"2004\",\"2005\",\"2006\",\"2007\",\"2008\",\"2009\",\"2010\",\"2011\",\"2012\",\"2013\",\"2014\",\"2015\",\"2016\",\"2017\",\"2018\",\"2019\",\"2020\",\"2021\",\"2022\",\"2023\"],\"xaxis\":\"x\",\"y\":[16197632.0,16515771.0,16834498.0,17162346.0,17493607.0,17821401.0,18140058.0,18458959.0,18784170.0,19104954.0,19411115.0,19708939.0,20005151.0,20301319.0,20595401.0,20880218.0,21153219.0,21416887.0,21670024.0,21918269.0,22163441.0,22396798.0,22616962.0,22827016.0,23026431.0,23221563.0,23448707.0,23789069.0,24229130.0,24664044.0,25013101.0,25273270.0,25533693.0,25818556.0],\"yaxis\":\"y\",\"type\":\"scatter\"},{\"hovertemplate\":\"country=Ecuador\\u003cbr\\u003edate=%{x}\\u003cbr\\u003eCountry's Forest (%)=%{y}\\u003cextra\\u003e\\u003c\\u002fextra\\u003e\",\"legendgroup\":\"Ecuador\",\"line\":{\"color\":\"#ab63fa\",\"dash\":\"solid\"},\"marker\":{\"symbol\":\"circle\"},\"mode\":\"lines\",\"name\":\"Ecuador\",\"orientation\":\"v\",\"showlegend\":true,\"x\":[\"1990\",\"1991\",\"1992\",\"1993\",\"1994\",\"1995\",\"1996\",\"1997\",\"1998\",\"1999\",\"2000\",\"2001\",\"2002\",\"2003\",\"2004\",\"2005\",\"2006\",\"2007\",\"2008\",\"2009\",\"2010\",\"2011\",\"2012\",\"2013\",\"2014\",\"2015\",\"2016\",\"2017\",\"2018\",\"2019\",\"2020\",\"2021\",\"2022\",\"2023\"],\"xaxis\":\"x\",\"y\":[5238654.0,5352836.0,5466469.0,5578274.0,5686942.0,5795705.0,5905520.0,6015260.0,6125003.0,6234605.0,6343673.0,6454328.0,6567993.0,6684584.0,6802233.0,6920222.0,7039369.0,7159809.0,7282106.0,7406566.0,7531114.0,7655261.0,7777938.0,7895413.0,8009667.0,8125597.0,8245438.0,8372918.0,8517638.0,8661859.0,8760001.0,8821568.0,8888825.0,8964951.0],\"yaxis\":\"y\",\"type\":\"scatter\"},{\"hovertemplate\":\"country=Peru\\u003cbr\\u003edate=%{x}\\u003cbr\\u003eCountry's Forest (%)=%{y}\\u003cextra\\u003e\\u003c\\u002fextra\\u003e\",\"legendgroup\":\"Peru\",\"line\":{\"color\":\"#FFA15A\",\"dash\":\"solid\"},\"marker\":{\"symbol\":\"circle\"},\"mode\":\"lines\",\"name\":\"Peru\",\"orientation\":\"v\",\"showlegend\":true,\"x\":[\"1990\",\"1991\",\"1992\",\"1993\",\"1994\",\"1995\",\"1996\",\"1997\",\"1998\",\"1999\",\"2000\",\"2001\",\"2002\",\"2003\",\"2004\",\"2005\",\"2006\",\"2007\",\"2008\",\"2009\",\"2010\",\"2011\",\"2012\",\"2013\",\"2014\",\"2015\",\"2016\",\"2017\",\"2018\",\"2019\",\"2020\",\"2021\",\"2022\",\"2023\"],\"xaxis\":\"x\",\"y\":[11010543.0,11243647.0,11473614.0,11706336.0,11940675.0,12176431.0,12410073.0,12643964.0,12877882.0,13104053.0,13312624.0,13499000.0,13664193.0,13813521.0,13951981.0,14078966.0,14193488.0,14299800.0,14389325.0,14465592.0,14548314.0,14646960.0,14760964.0,14886265.0,15028034.0,15193649.0,15395556.0,15621908.0,15903762.0,16174853.0,16356574.0,16498081.0,16651798.0,16835443.0],\"yaxis\":\"y\",\"type\":\"scatter\"},{\"hovertemplate\":\"country=Venezuela, RB\\u003cbr\\u003edate=%{x}\\u003cbr\\u003eCountry's Forest (%)=%{y}\\u003cextra\\u003e\\u003c\\u002fextra\\u003e\",\"legendgroup\":\"Venezuela, RB\",\"line\":{\"color\":\"#19d3f3\",\"dash\":\"solid\"},\"marker\":{\"symbol\":\"circle\"},\"mode\":\"lines\",\"name\":\"Venezuela, RB\",\"orientation\":\"v\",\"showlegend\":true,\"x\":[\"1990\",\"1991\",\"1992\",\"1993\",\"1994\",\"1995\",\"1996\",\"1997\",\"1998\",\"1999\",\"2000\",\"2001\",\"2002\",\"2003\",\"2004\",\"2005\",\"2006\",\"2007\",\"2008\",\"2009\",\"2010\",\"2011\",\"2012\",\"2013\",\"2014\",\"2015\",\"2016\",\"2017\",\"2018\",\"2019\",\"2020\",\"2021\",\"2022\",\"2023\"],\"xaxis\":\"x\",\"y\":[9939326.0,10178930.0,10417211.0,10653658.0,10888029.0,11121299.0,11354787.0,11589236.0,11823440.0,12054870.0,12282549.0,12504481.0,12727310.0,12951175.0,13170327.0,13388125.0,13601914.0,13807091.0,14000234.0,14182559.0,14361204.0,14538290.0,14712919.0,14882999.0,15044704.0,15195272.0,15280477.0,15168915.0,14780952.0,14338763.0,14083715.0,13972114.0,13952027.0,13988508.0],\"yaxis\":\"y\",\"type\":\"scatter\"}],                        {\"template\":{\"data\":{\"histogram2dcontour\":[{\"type\":\"histogram2dcontour\",\"colorbar\":{\"outlinewidth\":0,\"ticks\":\"\"},\"colorscale\":[[0.0,\"#0d0887\"],[0.1111111111111111,\"#46039f\"],[0.2222222222222222,\"#7201a8\"],[0.3333333333333333,\"#9c179e\"],[0.4444444444444444,\"#bd3786\"],[0.5555555555555556,\"#d8576b\"],[0.6666666666666666,\"#ed7953\"],[0.7777777777777778,\"#fb9f3a\"],[0.8888888888888888,\"#fdca26\"],[1.0,\"#f0f921\"]]}],\"choropleth\":[{\"type\":\"choropleth\",\"colorbar\":{\"outlinewidth\":0,\"ticks\":\"\"}}],\"histogram2d\":[{\"type\":\"histogram2d\",\"colorbar\":{\"outlinewidth\":0,\"ticks\":\"\"},\"colorscale\":[[0.0,\"#0d0887\"],[0.1111111111111111,\"#46039f\"],[0.2222222222222222,\"#7201a8\"],[0.3333333333333333,\"#9c179e\"],[0.4444444444444444,\"#bd3786\"],[0.5555555555555556,\"#d8576b\"],[0.6666666666666666,\"#ed7953\"],[0.7777777777777778,\"#fb9f3a\"],[0.8888888888888888,\"#fdca26\"],[1.0,\"#f0f921\"]]}],\"heatmap\":[{\"type\":\"heatmap\",\"colorbar\":{\"outlinewidth\":0,\"ticks\":\"\"},\"colorscale\":[[0.0,\"#0d0887\"],[0.1111111111111111,\"#46039f\"],[0.2222222222222222,\"#7201a8\"],[0.3333333333333333,\"#9c179e\"],[0.4444444444444444,\"#bd3786\"],[0.5555555555555556,\"#d8576b\"],[0.6666666666666666,\"#ed7953\"],[0.7777777777777778,\"#fb9f3a\"],[0.8888888888888888,\"#fdca26\"],[1.0,\"#f0f921\"]]}],\"heatmapgl\":[{\"type\":\"heatmapgl\",\"colorbar\":{\"outlinewidth\":0,\"ticks\":\"\"},\"colorscale\":[[0.0,\"#0d0887\"],[0.1111111111111111,\"#46039f\"],[0.2222222222222222,\"#7201a8\"],[0.3333333333333333,\"#9c179e\"],[0.4444444444444444,\"#bd3786\"],[0.5555555555555556,\"#d8576b\"],[0.6666666666666666,\"#ed7953\"],[0.7777777777777778,\"#fb9f3a\"],[0.8888888888888888,\"#fdca26\"],[1.0,\"#f0f921\"]]}],\"contourcarpet\":[{\"type\":\"contourcarpet\",\"colorbar\":{\"outlinewidth\":0,\"ticks\":\"\"}}],\"contour\":[{\"type\":\"contour\",\"colorbar\":{\"outlinewidth\":0,\"ticks\":\"\"},\"colorscale\":[[0.0,\"#0d0887\"],[0.1111111111111111,\"#46039f\"],[0.2222222222222222,\"#7201a8\"],[0.3333333333333333,\"#9c179e\"],[0.4444444444444444,\"#bd3786\"],[0.5555555555555556,\"#d8576b\"],[0.6666666666666666,\"#ed7953\"],[0.7777777777777778,\"#fb9f3a\"],[0.8888888888888888,\"#fdca26\"],[1.0,\"#f0f921\"]]}],\"surface\":[{\"type\":\"surface\",\"colorbar\":{\"outlinewidth\":0,\"ticks\":\"\"},\"colorscale\":[[0.0,\"#0d0887\"],[0.1111111111111111,\"#46039f\"],[0.2222222222222222,\"#7201a8\"],[0.3333333333333333,\"#9c179e\"],[0.4444444444444444,\"#bd3786\"],[0.5555555555555556,\"#d8576b\"],[0.6666666666666666,\"#ed7953\"],[0.7777777777777778,\"#fb9f3a\"],[0.8888888888888888,\"#fdca26\"],[1.0,\"#f0f921\"]]}],\"mesh3d\":[{\"type\":\"mesh3d\",\"colorbar\":{\"outlinewidth\":0,\"ticks\":\"\"}}],\"scatter\":[{\"fillpattern\":{\"fillmode\":\"overlay\",\"size\":10,\"solidity\":0.2},\"type\":\"scatter\"}],\"parcoords\":[{\"type\":\"parcoords\",\"line\":{\"colorbar\":{\"outlinewidth\":0,\"ticks\":\"\"}}}],\"scatterpolargl\":[{\"type\":\"scatterpolargl\",\"marker\":{\"colorbar\":{\"outlinewidth\":0,\"ticks\":\"\"}}}],\"bar\":[{\"error_x\":{\"color\":\"#2a3f5f\"},\"error_y\":{\"color\":\"#2a3f5f\"},\"marker\":{\"line\":{\"color\":\"#E5ECF6\",\"width\":0.5},\"pattern\":{\"fillmode\":\"overlay\",\"size\":10,\"solidity\":0.2}},\"type\":\"bar\"}],\"scattergeo\":[{\"type\":\"scattergeo\",\"marker\":{\"colorbar\":{\"outlinewidth\":0,\"ticks\":\"\"}}}],\"scatterpolar\":[{\"type\":\"scatterpolar\",\"marker\":{\"colorbar\":{\"outlinewidth\":0,\"ticks\":\"\"}}}],\"histogram\":[{\"marker\":{\"pattern\":{\"fillmode\":\"overlay\",\"size\":10,\"solidity\":0.2}},\"type\":\"histogram\"}],\"scattergl\":[{\"type\":\"scattergl\",\"marker\":{\"colorbar\":{\"outlinewidth\":0,\"ticks\":\"\"}}}],\"scatter3d\":[{\"type\":\"scatter3d\",\"line\":{\"colorbar\":{\"outlinewidth\":0,\"ticks\":\"\"}},\"marker\":{\"colorbar\":{\"outlinewidth\":0,\"ticks\":\"\"}}}],\"scattermapbox\":[{\"type\":\"scattermapbox\",\"marker\":{\"colorbar\":{\"outlinewidth\":0,\"ticks\":\"\"}}}],\"scatterternary\":[{\"type\":\"scatterternary\",\"marker\":{\"colorbar\":{\"outlinewidth\":0,\"ticks\":\"\"}}}],\"scattercarpet\":[{\"type\":\"scattercarpet\",\"marker\":{\"colorbar\":{\"outlinewidth\":0,\"ticks\":\"\"}}}],\"carpet\":[{\"aaxis\":{\"endlinecolor\":\"#2a3f5f\",\"gridcolor\":\"white\",\"linecolor\":\"white\",\"minorgridcolor\":\"white\",\"startlinecolor\":\"#2a3f5f\"},\"baxis\":{\"endlinecolor\":\"#2a3f5f\",\"gridcolor\":\"white\",\"linecolor\":\"white\",\"minorgridcolor\":\"white\",\"startlinecolor\":\"#2a3f5f\"},\"type\":\"carpet\"}],\"table\":[{\"cells\":{\"fill\":{\"color\":\"#EBF0F8\"},\"line\":{\"color\":\"white\"}},\"header\":{\"fill\":{\"color\":\"#C8D4E3\"},\"line\":{\"color\":\"white\"}},\"type\":\"table\"}],\"barpolar\":[{\"marker\":{\"line\":{\"color\":\"#E5ECF6\",\"width\":0.5},\"pattern\":{\"fillmode\":\"overlay\",\"size\":10,\"solidity\":0.2}},\"type\":\"barpolar\"}],\"pie\":[{\"automargin\":true,\"type\":\"pie\"}]},\"layout\":{\"autotypenumbers\":\"strict\",\"colorway\":[\"#636efa\",\"#EF553B\",\"#00cc96\",\"#ab63fa\",\"#FFA15A\",\"#19d3f3\",\"#FF6692\",\"#B6E880\",\"#FF97FF\",\"#FECB52\"],\"font\":{\"color\":\"#2a3f5f\"},\"hovermode\":\"closest\",\"hoverlabel\":{\"align\":\"left\"},\"paper_bgcolor\":\"white\",\"plot_bgcolor\":\"#E5ECF6\",\"polar\":{\"bgcolor\":\"#E5ECF6\",\"angularaxis\":{\"gridcolor\":\"white\",\"linecolor\":\"white\",\"ticks\":\"\"},\"radialaxis\":{\"gridcolor\":\"white\",\"linecolor\":\"white\",\"ticks\":\"\"}},\"ternary\":{\"bgcolor\":\"#E5ECF6\",\"aaxis\":{\"gridcolor\":\"white\",\"linecolor\":\"white\",\"ticks\":\"\"},\"baxis\":{\"gridcolor\":\"white\",\"linecolor\":\"white\",\"ticks\":\"\"},\"caxis\":{\"gridcolor\":\"white\",\"linecolor\":\"white\",\"ticks\":\"\"}},\"coloraxis\":{\"colorbar\":{\"outlinewidth\":0,\"ticks\":\"\"}},\"colorscale\":{\"sequential\":[[0.0,\"#0d0887\"],[0.1111111111111111,\"#46039f\"],[0.2222222222222222,\"#7201a8\"],[0.3333333333333333,\"#9c179e\"],[0.4444444444444444,\"#bd3786\"],[0.5555555555555556,\"#d8576b\"],[0.6666666666666666,\"#ed7953\"],[0.7777777777777778,\"#fb9f3a\"],[0.8888888888888888,\"#fdca26\"],[1.0,\"#f0f921\"]],\"sequentialminus\":[[0.0,\"#0d0887\"],[0.1111111111111111,\"#46039f\"],[0.2222222222222222,\"#7201a8\"],[0.3333333333333333,\"#9c179e\"],[0.4444444444444444,\"#bd3786\"],[0.5555555555555556,\"#d8576b\"],[0.6666666666666666,\"#ed7953\"],[0.7777777777777778,\"#fb9f3a\"],[0.8888888888888888,\"#fdca26\"],[1.0,\"#f0f921\"]],\"diverging\":[[0,\"#8e0152\"],[0.1,\"#c51b7d\"],[0.2,\"#de77ae\"],[0.3,\"#f1b6da\"],[0.4,\"#fde0ef\"],[0.5,\"#f7f7f7\"],[0.6,\"#e6f5d0\"],[0.7,\"#b8e186\"],[0.8,\"#7fbc41\"],[0.9,\"#4d9221\"],[1,\"#276419\"]]},\"xaxis\":{\"gridcolor\":\"white\",\"linecolor\":\"white\",\"ticks\":\"\",\"title\":{\"standoff\":15},\"zerolinecolor\":\"white\",\"automargin\":true,\"zerolinewidth\":2},\"yaxis\":{\"gridcolor\":\"white\",\"linecolor\":\"white\",\"ticks\":\"\",\"title\":{\"standoff\":15},\"zerolinecolor\":\"white\",\"automargin\":true,\"zerolinewidth\":2},\"scene\":{\"xaxis\":{\"backgroundcolor\":\"#E5ECF6\",\"gridcolor\":\"white\",\"linecolor\":\"white\",\"showbackground\":true,\"ticks\":\"\",\"zerolinecolor\":\"white\",\"gridwidth\":2},\"yaxis\":{\"backgroundcolor\":\"#E5ECF6\",\"gridcolor\":\"white\",\"linecolor\":\"white\",\"showbackground\":true,\"ticks\":\"\",\"zerolinecolor\":\"white\",\"gridwidth\":2},\"zaxis\":{\"backgroundcolor\":\"#E5ECF6\",\"gridcolor\":\"white\",\"linecolor\":\"white\",\"showbackground\":true,\"ticks\":\"\",\"zerolinecolor\":\"white\",\"gridwidth\":2}},\"shapedefaults\":{\"line\":{\"color\":\"#2a3f5f\"}},\"annotationdefaults\":{\"arrowcolor\":\"#2a3f5f\",\"arrowhead\":0,\"arrowwidth\":1},\"geo\":{\"bgcolor\":\"white\",\"landcolor\":\"#E5ECF6\",\"subunitcolor\":\"white\",\"showland\":true,\"showlakes\":true,\"lakecolor\":\"white\"},\"title\":{\"x\":0.05},\"mapbox\":{\"style\":\"light\"}}},\"xaxis\":{\"anchor\":\"y\",\"domain\":[0.0,1.0],\"title\":{\"text\":\"date\"}},\"yaxis\":{\"anchor\":\"x\",\"domain\":[0.0,1.0],\"title\":{\"text\":\"Country's Forest (%)\"}},\"legend\":{\"title\":{\"text\":\"country\"},\"tracegroupgap\":0},\"title\":{\"text\":\"Rural Population Growth %\"}},                        {\"responsive\": true}                    ).then(function(){\n",
       "                            \n",
       "var gd = document.getElementById('ed05932d-6f62-4d5b-b147-c93515e52a7f');\n",
       "var x = new MutationObserver(function (mutations, observer) {{\n",
       "        var display = window.getComputedStyle(gd).display;\n",
       "        if (!display || display === 'none') {{\n",
       "            console.log([gd, 'removed!']);\n",
       "            Plotly.purge(gd);\n",
       "            observer.disconnect();\n",
       "        }}\n",
       "}});\n",
       "\n",
       "// Listen for the removal of the full notebook cells\n",
       "var notebookContainer = gd.closest('#notebook-container');\n",
       "if (notebookContainer) {{\n",
       "    x.observe(notebookContainer, {childList: true});\n",
       "}}\n",
       "\n",
       "// Listen for the clearing of the current output cell\n",
       "var outputEl = gd.closest('.output');\n",
       "if (outputEl) {{\n",
       "    x.observe(outputEl, {childList: true});\n",
       "}}\n",
       "\n",
       "                        })                };                });            </script>        </div>"
      ]
     },
     "metadata": {},
     "output_type": "display_data"
    }
   ],
   "source": [
    "rural_density=rural_density.loc[\"1990\":]\n",
    "plot = rural_density.plot(title=\"Rural Population Growth %\", labels={\"index\": \"Year\", \"value\": \"Country's Forest (%)\"})\n",
    "plot.show()"
   ]
  },
  {
   "cell_type": "code",
   "execution_count": null,
   "id": "d5b80799-95b1-419e-a2e9-c7f13273df7e",
   "metadata": {},
   "outputs": [],
   "source": []
  },
  {
   "cell_type": "code",
   "execution_count": 13,
   "id": "3f2271af-c9b4-489d-b495-e316953ca66b",
   "metadata": {},
   "outputs": [],
   "source": [
    "vars = {\"SP.POP.AG.2024.MA.IN\":\"Rural Growth\"}\n",
    "\n",
    "use=[\"BRA\",\"ECU\",\"VEN\",\"COL\",\"PER\",\"BOL\"]\n",
    "\n",
    "#rural_density = wbdata.get_dataframe(vars, country=use).squeeze().unstack('country')"
   ]
  },
  {
   "cell_type": "code",
   "execution_count": 15,
   "id": "10c5eb96-c534-487e-8622-b5314c70ecdb",
   "metadata": {},
   "outputs": [],
   "source": [
    "#pop_stats.loc[\"1980\":]"
   ]
  },
  {
   "cell_type": "code",
   "execution_count": 89,
   "id": "ae375da0-65f4-4e9c-8bed-2ff644aaf699",
   "metadata": {},
   "outputs": [],
   "source": [
    "def age_helper(age_range):\n",
    "    lower, upper = age_range\n",
    "    # Find the closest lower multiple of 5\n",
    "    start = (lower // 5) * 5\n",
    "    # Generate the age ranges\n",
    "    age_ranges = []\n",
    "    for age in range(start, upper, 5):\n",
    "        if age >= 80:\n",
    "            age_ranges.append(\"80UP\")\n",
    "            break\n",
    "        next_age = age + 4\n",
    "        if next_age >= 80:\n",
    "            age_ranges.append(\"80UP\")\n",
    "            break\n",
    "        age_ranges.append(f\"{age:02d}{next_age:02d}\")\n",
    "    \n",
    "    return age_ranges"
   ]
  },
  {
   "cell_type": "code",
   "execution_count": 92,
   "id": "c0c81800-9469-49bc-b1c1-8bf0e6526ece",
   "metadata": {},
   "outputs": [
    {
     "data": {
      "text/plain": [
       "['0004',\n",
       " '0509',\n",
       " '1014',\n",
       " '1519',\n",
       " '2024',\n",
       " '2529',\n",
       " '3034',\n",
       " '3539',\n",
       " '4044',\n",
       " '4549',\n",
       " '5054',\n",
       " '5559',\n",
       " '6064',\n",
       " '6569',\n",
       " '7074',\n",
       " '7579',\n",
       " '80UP']"
      ]
     },
     "execution_count": 92,
     "metadata": {},
     "output_type": "execute_result"
    }
   ],
   "source": [
    "age_helper((2,90))"
   ]
  },
  {
   "cell_type": "code",
   "execution_count": 49,
   "id": "2f29dbdc-f5c1-4a44-b1f2-3c809165267e",
   "metadata": {},
   "outputs": [
    {
     "name": "stdout",
     "output_type": "stream",
     "text": [
      "In the year 2000, there are 47111262.0 males aged 20 to 60 living in Brazil.\n"
     ]
    },
    {
     "data": {
      "text/plain": [
       "47111262.0"
      ]
     },
     "execution_count": 49,
     "metadata": {},
     "output_type": "execute_result"
    }
   ],
   "source": [
    "def population(year, sex, age_range, place):\n",
    "    def age_helper(age_range):\n",
    "        lower, upper = age_range\n",
    "        start = (lower // 5) * 5\n",
    "        age_ranges = []\n",
    "        for age in range(start, upper + 1, 5):\n",
    "            if age >= 80:\n",
    "                age_ranges.append(\"80UP\")\n",
    "                break\n",
    "            next_age = age + 4\n",
    "            if next_age >= 80:\n",
    "                age_ranges.append(\"80UP\")\n",
    "                break\n",
    "            age_ranges.append(f\"{age:02d}{next_age:02d}\")\n",
    "        return age_ranges\n",
    "\n",
    "    # Generate the age ranges\n",
    "    age_ranges = age_helper(age_range)\n",
    "\n",
    "\n",
    "    if place.lower() == \"world\":\n",
    "        name_alpha3 = \"WLD\"\n",
    "        name_actual = \"World\"\n",
    "    else:\n",
    "        name_alpha3 = iso3166.countries.get(place).alpha3                        \n",
    "        name_actual = iso3166.countries.get(place).apolitical_name\n",
    "\n",
    "    # Construct the indicator codes\n",
    "    indicator = 'SP.POP.'\n",
    "    sex_indicators = []\n",
    "    for age in age_ranges:\n",
    "        if sex.lower() == 'male':\n",
    "            sex_indicators.append(f\"{indicator}{age}.MA\")\n",
    "        elif sex.lower() == 'female':\n",
    "            sex_indicators.append(f\"{indicator}{age}.FE\")\n",
    "        else:\n",
    "            sex_indicators.append(f\"{indicator}{age}.IN\")\n",
    "\n",
    "\n",
    "    # Prepare the indicators for wbdata\n",
    "    pop_indicators = {ind: \"Population\" for ind in sex_indicators}\n",
    "    total = 0\n",
    "    for i in pop_indicators:\n",
    "        hold = {i:\"Population\"}\n",
    "        retrieve_year = wbdata.get_dataframe(hold, country=name_alpha3, date=(str(year), str(year)), parse_dates=True)\n",
    "        retrieve_year = retrieve_year.reset_index()\n",
    "       # print(retrieve_year)\n",
    "        total += retrieve_year['Population'].iloc[0].item() \n",
    "    #return retrieve_year['Population'].iloc[0].item() #problem here is we need to sum up all of the populations\n",
    "\n",
    "    print(\"In the year {}, there are {} {}s aged {} to {} living in {}.\".format(year, total, sex, age_range[0], age_range[1], name_actual))\n",
    "    return total\n",
    "\n",
    "\n",
    "result = population(2000, 'male', (20, 60), 'brazil')\n",
    "result"
   ]
  },
  {
   "cell_type": "code",
   "execution_count": null,
   "id": "3468693c-229a-4de8-90c2-cdbd05055324",
   "metadata": {},
   "outputs": [],
   "source": [
    "#\n",
    "if place.lower() == \"world\":\n",
    "        name_alpha3 = \"WLD\"\n",
    "        name_actual = \"World\"\n",
    "    else:\n",
    "        name_alpha3 = iso3166.countries.get(location).alpha3                        \n",
    "        name_actual = iso3166.countries.get(location).apolitical_name"
   ]
  }
 ],
 "metadata": {
  "kernelspec": {
   "display_name": "Python 3 (ipykernel)",
   "language": "python",
   "name": "python3"
  },
  "language_info": {
   "codemirror_mode": {
    "name": "ipython",
    "version": 3
   },
   "file_extension": ".py",
   "mimetype": "text/x-python",
   "name": "python",
   "nbconvert_exporter": "python",
   "pygments_lexer": "ipython3",
   "version": "3.11.11"
  }
 },
 "nbformat": 4,
 "nbformat_minor": 5
}
